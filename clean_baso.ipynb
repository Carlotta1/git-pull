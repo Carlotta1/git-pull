{
 "cells": [
  {
   "cell_type": "code",
   "execution_count": 139,
   "metadata": {},
   "outputs": [],
   "source": [
    "## -- Trova il primo swing\n",
    "\n",
    "def find_first_swing(signal):\n",
    "    found = False\n",
    "    swing_onset = 0\n",
    "    for i in range(0,signal.shape[0]): \n",
    "        if not found:\n",
    "            swing_onset += 1\n",
    "        if signal[i,-1] == 1:\n",
    "            found = True\n",
    "    return swing_onset"
   ]
  },
  {
   "cell_type": "code",
   "execution_count": 138,
   "metadata": {},
   "outputs": [],
   "source": [
    "## -- Elimina i falsi stance in mezzo agli swing - i falsi 0 in mezzo agli 1\n",
    "\n",
    "def delete_false_stance(signal, thr):\n",
    "    # prima devo trovare le transizioni - 1 -> 0\n",
    "    transitions = []\n",
    "    for i in range(0,signal.shape[0] - 1):\n",
    "        if signal[i,-1] == 1 and signal[i+1,-1] == 0:\n",
    "            transitions.append(i)\n",
    "\n",
    "    # Qua congiungo i falsi stance in mezzo agli swing\n",
    "    for k in transitions:\n",
    "        if any(signal[k : k + thr, -1]) == 1:\n",
    "            signal[k - thr : k + thr, -1] = 1\n",
    "    return signal"
   ]
  },
  {
   "cell_type": "code",
   "execution_count": 137,
   "metadata": {},
   "outputs": [],
   "source": [
    "## -- Elimina i falsi swing (non fisiologici) in base alla threshold che gli si da\n",
    "\n",
    "# Devo trovare le altre transizioni - stance to swing - 0 -> 1\n",
    "def delete_false_swing(signal, thr):\n",
    "    transitions = []\n",
    "    for i in range(0,signal.shape[0] - 1):\n",
    "        if signal[i,-1] == 0 and signal[i+1, -1] == 1:\n",
    "            transitions.append(j)\n",
    "\n",
    "    # Adesso posso controllare se sono fisiologiche oppure no\n",
    "    for k in transitions:\n",
    "        if any(signal[k : k + thr, -1]) == 0:\n",
    "            signal[k : k + thr, -1] = 0\n",
    "    return signal"
   ]
  },
  {
   "cell_type": "code",
   "execution_count": 152,
   "metadata": {},
   "outputs": [],
   "source": [
    "## -- Clean Basograhic Signal\n",
    "# Questo script mi serve per eliminare tutti i \"passi falsi\" :-)\n",
    "\n",
    "import numpy as np\n",
    "from numpy import genfromtxt as csv_load\n",
    "# import matplotlib.pyplot as plt\n",
    "import pandas as pd\n",
    "\n",
    "thr = 200\n",
    "\n",
    "tipo = np.dtype(np.float32)    # Per farglielo caricare \n",
    "\n",
    "in_directory = '../subjects/'\n",
    "prefix = 'Biphase_Subject'\n",
    "suffix = '_norm.csv'\n",
    "out_directory = '../subjects/clean_baso/'\n",
    "out_path = out_directory + 'Real/'\n",
    "out_prefix = 's'\n",
    "baso_suffix = '_baso_real.csv'\n",
    "subjects = 26\n",
    "\n",
    "\n",
    "for subject in range(1, subjects + 1):\n",
    "    # Carica il segnale (è un NUMPY)\n",
    "    signal = csv_load(in_directory + prefix + str(subject) + suffix, dtype = tipo, delimiter = ',')\n",
    "\n",
    "    # Calcola il primo swing e aggiorna il vettore\n",
    "    lower_bound = find_first_swing(signal)\n",
    "    signal = signal[lower_bound:,:]\n",
    "    \n",
    "    # Cancella le false transizioni \n",
    "    signal = delete_false_stance(signal, thr)\n",
    "    signal = delete_false_swing(signal, thr)\n",
    "    baso = signal[:,-1]\n",
    "    \n",
    "    signal = pd.DataFrame(signal)\n",
    "    baso = pd.DataFrame(baso)\n",
    "    signal = signal.to_csv(out_directory + out_prefix + str(subject) + suffix, index = None, header = None)    # Salvo il file completo\n",
    "    baso = baso.to_csv(out_path + out_prefix + str(subject) + baso_suffix, index = None, header = None)    # Salvo solo il basografico"
   ]
  }
 ],
 "metadata": {
  "kernelspec": {
   "display_name": "Python 3",
   "language": "python",
   "name": "python3"
  },
  "language_info": {
   "codemirror_mode": {
    "name": "ipython",
    "version": 3
   },
   "file_extension": ".py",
   "mimetype": "text/x-python",
   "name": "python",
   "nbconvert_exporter": "python",
   "pygments_lexer": "ipython3",
   "version": "3.7.3"
  }
 },
 "nbformat": 4,
 "nbformat_minor": 2
}
