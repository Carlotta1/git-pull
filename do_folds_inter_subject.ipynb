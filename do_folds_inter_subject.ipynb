{
 "cells": [
  {
   "cell_type": "code",
   "execution_count": 1,
   "metadata": {},
   "outputs": [
    {
     "name": "stdout",
     "output_type": "stream",
     "text": [
      "Fold: 1\n",
      "Train: [10, 20, 15, 19, 25, 2, 14, 11, 1, 4, 21, 26, 6, 16, 18, 17, 9, 22, 3, 13, 23]\n",
      "Test: [8, 24, 7, 5, 12]\n"
     ]
    },
    {
     "name": "stderr",
     "output_type": "stream",
     "text": [
      "\\ |  #                                             | 3236 Elapsed Time: 0:00:00"
     ]
    },
    {
     "name": "stdout",
     "output_type": "stream",
     "text": [
      "Total Rows: 24056\n",
      "Train rows: 21650\n"
     ]
    },
    {
     "name": "stderr",
     "output_type": "stream",
     "text": [
      "| |              #                                | 24055 Elapsed Time: 0:00:01\n",
      "\\ |  #                                             | 3524 Elapsed Time: 0:00:00"
     ]
    },
    {
     "name": "stdout",
     "output_type": "stream",
     "text": [
      "Total Rows: 24275\n",
      "Train rows: 21847\n"
     ]
    },
    {
     "name": "stderr",
     "output_type": "stream",
     "text": [
      "| |             #                                 | 24274 Elapsed Time: 0:00:01\n",
      "- | #                                              | 1623 Elapsed Time: 0:00:00"
     ]
    },
    {
     "name": "stdout",
     "output_type": "stream",
     "text": [
      "Total Rows: 24015\n",
      "Train rows: 21613\n"
     ]
    },
    {
     "name": "stderr",
     "output_type": "stream",
     "text": [
      "| |              #                                | 24014 Elapsed Time: 0:00:01\n",
      "\\ |  #                                             | 3517 Elapsed Time: 0:00:00"
     ]
    },
    {
     "name": "stdout",
     "output_type": "stream",
     "text": [
      "Total Rows: 24012\n",
      "Train rows: 21610\n"
     ]
    },
    {
     "name": "stderr",
     "output_type": "stream",
     "text": [
      "| |             #                                 | 24011 Elapsed Time: 0:00:01\n",
      "\\ |  #                                             | 3462 Elapsed Time: 0:00:00"
     ]
    },
    {
     "name": "stdout",
     "output_type": "stream",
     "text": [
      "Total Rows: 13561\n",
      "Train rows: 12204\n"
     ]
    },
    {
     "name": "stderr",
     "output_type": "stream",
     "text": [
      "| |       #                                       | 13560 Elapsed Time: 0:00:00\n",
      "\\ |  #                                             | 3524 Elapsed Time: 0:00:00"
     ]
    },
    {
     "name": "stdout",
     "output_type": "stream",
     "text": [
      "Total Rows: 24275\n",
      "Train rows: 21847\n"
     ]
    },
    {
     "name": "stderr",
     "output_type": "stream",
     "text": [
      "| |             #                                 | 24274 Elapsed Time: 0:00:01\n",
      "- | #                                              | 1766 Elapsed Time: 0:00:00"
     ]
    },
    {
     "name": "stdout",
     "output_type": "stream",
     "text": [
      "Total Rows: 24088\n",
      "Train rows: 21679\n"
     ]
    },
    {
     "name": "stderr",
     "output_type": "stream",
     "text": [
      "| |             #                                 | 24087 Elapsed Time: 0:00:01\n",
      "\\ |  #                                             | 3418 Elapsed Time: 0:00:00"
     ]
    },
    {
     "name": "stdout",
     "output_type": "stream",
     "text": [
      "Total Rows: 24045\n",
      "Train rows: 21640\n"
     ]
    },
    {
     "name": "stderr",
     "output_type": "stream",
     "text": [
      "| |             #                                 | 24044 Elapsed Time: 0:00:01\n",
      "\\ |  #                                             | 3564 Elapsed Time: 0:00:00"
     ]
    },
    {
     "name": "stdout",
     "output_type": "stream",
     "text": [
      "Total Rows: 24012\n",
      "Train rows: 21610\n"
     ]
    },
    {
     "name": "stderr",
     "output_type": "stream",
     "text": [
      "| |             #                                 | 24011 Elapsed Time: 0:00:01\n",
      "- | #                                              | 1400 Elapsed Time: 0:00:00"
     ]
    },
    {
     "name": "stdout",
     "output_type": "stream",
     "text": [
      "Total Rows: 24013\n",
      "Train rows: 21611\n"
     ]
    },
    {
     "name": "stderr",
     "output_type": "stream",
     "text": [
      "| |              #                                | 24012 Elapsed Time: 0:00:01\n",
      "- | #                                              | 1715 Elapsed Time: 0:00:00"
     ]
    },
    {
     "name": "stdout",
     "output_type": "stream",
     "text": [
      "Total Rows: 24006\n",
      "Train rows: 21605\n"
     ]
    },
    {
     "name": "stderr",
     "output_type": "stream",
     "text": [
      "| |              #                                | 24005 Elapsed Time: 0:00:01\n",
      "\\ |  #                                             | 3524 Elapsed Time: 0:00:00"
     ]
    },
    {
     "name": "stdout",
     "output_type": "stream",
     "text": [
      "Total Rows: 13593\n",
      "Train rows: 12233\n"
     ]
    },
    {
     "name": "stderr",
     "output_type": "stream",
     "text": []
    },
    {
     "name": "stderr",
     "output_type": "stream",
     "text": [
      "| |       #                                       | 13592 Elapsed Time: 0:00:00\n",
      "\\ |  #                                             | 3432 Elapsed Time: 0:00:00"
     ]
    },
    {
     "name": "stdout",
     "output_type": "stream",
     "text": [
      "Total Rows: 24127\n",
      "Train rows: 21714\n"
     ]
    },
    {
     "name": "stderr",
     "output_type": "stream",
     "text": [
      "| |             #                                 | 24126 Elapsed Time: 0:00:01\n",
      "\\ |  #                                             | 3503 Elapsed Time: 0:00:00"
     ]
    },
    {
     "name": "stdout",
     "output_type": "stream",
     "text": [
      "Total Rows: 24020\n",
      "Train rows: 21618\n"
     ]
    },
    {
     "name": "stderr",
     "output_type": "stream",
     "text": [
      "| |             #                                 | 24019 Elapsed Time: 0:00:01\n",
      "\\ |  #                                             | 3559 Elapsed Time: 0:00:00"
     ]
    },
    {
     "name": "stdout",
     "output_type": "stream",
     "text": [
      "Total Rows: 24329\n",
      "Train rows: 21896\n"
     ]
    },
    {
     "name": "stderr",
     "output_type": "stream",
     "text": [
      "| |             #                                 | 24328 Elapsed Time: 0:00:01\n",
      "- | #                                              | 1760 Elapsed Time: 0:00:00"
     ]
    },
    {
     "name": "stdout",
     "output_type": "stream",
     "text": [
      "Total Rows: 24052\n",
      "Train rows: 21646\n"
     ]
    },
    {
     "name": "stderr",
     "output_type": "stream",
     "text": [
      "| |             #                                 | 24051 Elapsed Time: 0:00:01\n",
      "- | #                                              | 1641 Elapsed Time: 0:00:00"
     ]
    },
    {
     "name": "stdout",
     "output_type": "stream",
     "text": [
      "Total Rows: 24118\n",
      "Train rows: 21706\n"
     ]
    },
    {
     "name": "stderr",
     "output_type": "stream",
     "text": [
      "| |              #                                | 24117 Elapsed Time: 0:00:01\n",
      "- | #                                              | 1786 Elapsed Time: 0:00:00"
     ]
    },
    {
     "name": "stdout",
     "output_type": "stream",
     "text": [
      "Total Rows: 13583\n",
      "Train rows: 12224\n"
     ]
    },
    {
     "name": "stderr",
     "output_type": "stream",
     "text": [
      "| |       #                                       | 13582 Elapsed Time: 0:00:00\n",
      "\\ |  #                                             | 3574 Elapsed Time: 0:00:00"
     ]
    },
    {
     "name": "stdout",
     "output_type": "stream",
     "text": [
      "Total Rows: 24006\n",
      "Train rows: 21605\n"
     ]
    },
    {
     "name": "stderr",
     "output_type": "stream",
     "text": [
      "| |             #                                 | 24005 Elapsed Time: 0:00:01\n",
      "- | #                                              | 1511 Elapsed Time: 0:00:00"
     ]
    },
    {
     "name": "stdout",
     "output_type": "stream",
     "text": [
      "Total Rows: 24228\n",
      "Train rows: 21805\n"
     ]
    },
    {
     "name": "stderr",
     "output_type": "stream",
     "text": [
      "| |               #                               | 24227 Elapsed Time: 0:00:01\n",
      "\\ |  #                                             | 3279 Elapsed Time: 0:00:00"
     ]
    },
    {
     "name": "stdout",
     "output_type": "stream",
     "text": [
      "Total Rows: 13740\n",
      "Train rows: 12366\n"
     ]
    },
    {
     "name": "stderr",
     "output_type": "stream",
     "text": [
      "| |        #                                      | 13739 Elapsed Time: 0:00:00\n"
     ]
    },
    {
     "name": "stdout",
     "output_type": "stream",
     "text": [
      "Fold 1 done!\n"
     ]
    }
   ],
   "source": [
    "import csv\n",
    "from random import shuffle\n",
    "import os\n",
    "import progressbar\n",
    "import time\n",
    "import datetime\n",
    "\n",
    "total_patients = 26    # Numero di pazienti totali\n",
    "folds_offset = 1    # Poiché pesano tanto, conviene parametrizzare anche il \"lower bound\" del ciclo for\n",
    "num_folds = 1    # Numero di folds da creare\n",
    "perc_test = 20    # Percentuale di soggetti da includere nel TESTFOLD_UNLEARNED per ogni fold\n",
    "patients_test = int( ( total_patients / 100 ) * perc_test )     # Numero di soggetti da inserire nel TESTFOLD_UNLEARNED \n",
    "train_split_perc = 0.9    # Percentuale da utilizzare per creare il TRAINFOLD da 'traincount'             \n",
    "\n",
    "out_sub_folder = \"folds_inter\"\n",
    "\n",
    "random_assignment = True    # Se \"True\", sceglie in maniera randomica i \n",
    "                            # soggetti da mettere in train e quelli da mettere in test\n",
    "\n",
    "prefix = \"Biphase_Subject\"\n",
    "suffix = \"_norm_windows_20\"\n",
    "\n",
    "subjects_path = \"../subjects/min-max/windows_20/tr-False/\"\n",
    "log = subjects_path + out_sub_folder + \"/folds_info.txt\"\n",
    "if not os.path.exists(subjects_path + out_sub_folder):\n",
    "    os.mkdir(subjects_path + out_sub_folder)\n",
    "\n",
    "with open(log, 'w') as f_log:\n",
    "    start_time = time.time()\n",
    "    # Divide il set totale in tre sottogruppi:\n",
    "        # Train\n",
    "        # Test Learned\n",
    "        # Test Unlearned\n",
    "    # Gli ultimi due sono quelli effettivamente da confrontare poi\n",
    "    for n in range(folds_offset,num_folds+1):\n",
    "        train_file = subjects_path + out_sub_folder + \"/TrainFold_\" + str(n) + \".csv\"\n",
    "        test_file_learned = subjects_path + out_sub_folder + \"/TestFold_L_\" + str(n) + \".csv\"\n",
    "        test_file_unlearned = subjects_path + out_sub_folder + \"/TestFold_U_\" + str(n) + \".csv\"\n",
    "        \n",
    "        # Se vogliamo prendere i soggetti in ordine casuale:\n",
    "        if random_assignment:\n",
    "            l = [i for i in range(1,total_patients+1)]    # Riempie il vettore 'l' con numeri da 1 a 'total_patients'\n",
    "            shuffle(l)    # Li riordina a caso\n",
    "            l_test = l[:patients_test]    # Il TEST_FOLD è composto dai pazienti da 1 -> 'patient_test'\n",
    "            l_train = l[patients_test:]    # Il TRAIN_FOLD è composto dai pazienti da 'patients_test' -> fino alla fine\n",
    "        \n",
    "        # Se li vogliamo prendere sequenzialmente\n",
    "        else:\n",
    "            l_test = []\n",
    "            for i in range((n-1)*patients_test +1,(n-1)*patients_test + patients_test+1):\n",
    "                if (i<=total_patients):\n",
    "                    l_test.append(i)\n",
    "            l_train = []\n",
    "            for i in range(1,total_patients+1):\n",
    "                if not i in l_test:\n",
    "                    l_train.append(i)\n",
    "                    \n",
    "        print(\"Fold: \" + str(n))    \n",
    "        print(\"Train: \" + str(l_train))\n",
    "        print(\"Test: \" + str(l_test))\n",
    "        \n",
    "        \n",
    "        with open(train_file, mode='w') as t_out:\n",
    "            csv_writer = csv.writer(t_out, delimiter=',')\n",
    "            with open(test_file_learned, mode='w') as t_out_test:\n",
    "                csv_writer_test = csv.writer(t_out_test, delimiter=',')\n",
    "                f_log.write(\"Subjects in Train Fold \" + str(n) + \": \" + str(l[5:]) + \"\\n\") \n",
    "                for i in l_train:    # Apri il soggetto 'i' tra quelli selezionati per il TRAINFOLD\n",
    "                    with open(subjects_path + prefix + str(i) + suffix +'.csv', mode='r') as s_in:\n",
    "                        csv_reader = csv.reader(s_in, delimiter=',')\n",
    "                        row_count = sum(1 for row in csv_reader)\n",
    "                    train_count = int(row_count*train_split_perc)    # Indica la percentuale da utilizzare come TRAINFOLD - Default è 90%\n",
    "                    print(\"Total Rows: \" + str(row_count))\n",
    "                    print(\"Train rows: \" + str(train_count))\n",
    "                    count = 0\n",
    "                    with open(subjects_path + prefix + str(i) + suffix +'.csv', mode='r') as s_in:    # Apri il file originale del soggetto 'i' (quello \"finestrato\")\n",
    "                        csv_reader = csv.reader(s_in, delimiter=',')\n",
    "                        for line in progressbar.progressbar(csv_reader):\n",
    "                            #time.sleep(0.0001)\n",
    "                            count += 1    # Conta le righe (\"finestre\") nel file originale\n",
    "                            if (count<train_count):    # Finché non arriva alla percentuale desiderata\n",
    "                                csv_writer.writerow(line)    # Scrivi sul TRAINFOLD\n",
    "                            else:\n",
    "                                csv_writer_test.writerow(line)    # Altrimenti scrivi su TESTFOLD_LEARNED\n",
    "        with open(test_file_unlearned, mode='w') as t_out:\n",
    "            csv_writer = csv.writer(t_out, delimiter=',')\n",
    "            f_log.write(\"Subjects in Test Fold \" + str(n) + \": \" + str(l[:5])+ \"\\n\\n\") \n",
    "            for i in l_test:    # Apri il soggetto 'i' tra quelli selezionati per il TESTFOLD_UNLEARNED\n",
    "                with open(subjects_path + prefix + str(i) + suffix +'.csv', mode='r') as s_in:    # Apri il file originale del soggetto 'i' (quello \"finestrato\")\n",
    "                    csv_reader = csv.reader(s_in, delimiter=',')\n",
    "                    for line in csv_reader:\n",
    "                        csv_writer.writerow(line) # Scrivi su TESTFOLD_UNLEARNED il soggetto 'i' \n",
    "        end_time = time.time()        \n",
    "        time_tot = int(end_time - start_time)\n",
    "        f_log.write(\"Elapsed time (Fold \" + str(n) + \"): \" + str(datetime.timedelta(seconds=time_tot)))\n",
    "        print(\"Fold \" + str(n) + \" done!\")        # verranno appesi tutti in un unico file alla fine!\n",
    "        \n",
    "        \n",
    "        \n"
   ]
  },
  {
   "cell_type": "code",
   "execution_count": null,
   "metadata": {},
   "outputs": [],
   "source": []
  }
 ],
 "metadata": {
  "kernelspec": {
   "display_name": "Python 3",
   "language": "python",
   "name": "python3"
  },
  "language_info": {
   "codemirror_mode": {
    "name": "ipython",
    "version": 3
   },
   "file_extension": ".py",
   "mimetype": "text/x-python",
   "name": "python",
   "nbconvert_exporter": "python",
   "pygments_lexer": "ipython3",
   "version": "3.7.3"
  }
 },
 "nbformat": 4,
 "nbformat_minor": 2
}
