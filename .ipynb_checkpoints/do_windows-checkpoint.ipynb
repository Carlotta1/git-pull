{
 "cells": [
  {
   "cell_type": "code",
   "execution_count": 1,
   "metadata": {},
   "outputs": [
    {
     "name": "stdout",
     "output_type": "stream",
     "text": [
      "Subject 1 rows: 314121\n",
      "Subject 1 windowed! \n",
      "\n"
     ]
    }
   ],
   "source": [
    "## Ogni .csv è strutturato in questo modo:\n",
    "    # n x (12 + 4)\n",
    "    # [f1, f2, ..., f12, l0, l1, l2, l3]\n",
    "# dove f_i sono le features, mentre li sono le labels; n è il numero di righe, cioè di samples.\n",
    "    # l0 = BASO LEFT 2 LIVELLI\n",
    "    # l1 = BASO LEFT 4 LIVELLI\n",
    "    # l2 = BASO RIGHT 2 LIVELLI\n",
    "    # l3 = BASO RIGHT 4 LIVELLI\n",
    "\n",
    "import csv\n",
    "import statistics\n",
    "from statistics import mode \n",
    "import pandas as pd\n",
    "import os\n",
    "\n",
    "sliding = True\n",
    "sliding_pace = 5\n",
    "predict_central_sample = True\n",
    "\n",
    "discard_transitions = False # Devo eliminare le finestre che contengono le transizioni\n",
    "discarded_windows = 0\n",
    "th = 1\n",
    "\n",
    "window_size = 20\n",
    "features_number = 12 # Tutto tranne il basografico\n",
    "label = 1    # Label da selezionare -> Se il .csv ne contiene una sola, label = 0\n",
    "row_count = 486600\n",
    "\n",
    "start = 1    # Subject from which the count starts\n",
    "end = 1    # Subject at which the count ends \n",
    "\n",
    "\n",
    "in_path = \"../subjects/min-max/\"\n",
    "out_path = \"../subjects/min-max/windows_\" + str(window_size) +\"/tr-\" + str(discard_transitions) + \"_sliding_\" + str(sliding_pace) + \"_c-\" + str(predict_central_sample) + \"/\"\n",
    "out_path_discarded = out_path + \"discarded/\"\n",
    "prefix = 's'\n",
    "suffix = '_norm'\n",
    "out_suffix = '_norm_windows_'\n",
    "\n",
    "\n",
    "#create folders if not existing...\n",
    "if not os.path.exists(out_path):\n",
    "    os.makedirs(out_path)\n",
    "if not os.path.exists(out_path_discarded):\n",
    "    os.makedirs(out_path_discarded)\n",
    "\n",
    "for subj in range(start, end + 1):\n",
    "    \n",
    "    #count rows in file\n",
    "    with open(in_path + prefix + str(subj) + suffix + '.csv') as csv_file:\n",
    "        csv_reader = csv.reader(csv_file, delimiter=',')\n",
    "        row_count = sum(1 for row in csv_reader)\n",
    "    \n",
    "    csv_in = []\n",
    "    with open(in_path + prefix + str(subj) + suffix + '.csv') as csv_file:\n",
    "        csv_reader = csv.reader(csv_file, delimiter=',')\n",
    "        for line in csv_reader: \n",
    "            csv_in.append(line)\n",
    "    \n",
    "    with open(out_path + prefix + str(subj) + out_suffix + str(window_size) + '.csv', mode='w') as csv_out_file:\n",
    "        with open(out_path_discarded + prefix + str(subj) + out_suffix + str(window_size) + '.txt', mode='w') as discarded_file:\n",
    "            csv_writer = csv.writer(csv_out_file, delimiter=',')\n",
    "\n",
    "            print(\"Subject \" + str(subj) + \" rows: \" + str(row_count))\n",
    "\n",
    "            discarded_windows = 0\n",
    "\n",
    "            if sliding:\n",
    "                pace = sliding_pace    \n",
    "                limit = row_count-window_size    # Questo serve per non superare i limiti del for \n",
    "            else:\n",
    "                pace = window_size\n",
    "                limit = row_count\n",
    "                \n",
    "            for k in range(0,limit,pace):\n",
    "                window_rows = []\n",
    "                for i in range(k, k + window_size):\n",
    "                    window_rows.append(csv_in[i])\n",
    "                window_rows = pd.DataFrame(window_rows).astype(float)\n",
    "                bsx = window_rows[features_number + label]    \n",
    "                if predict_central_sample:\n",
    "                    m = bsx[int(len(bsx)/2)]\n",
    "                else:\n",
    "                    m = bsx.mode()[0]\n",
    "                  \n",
    "                occ = len(window_rows[window_rows[features_number + label] == float(m)])    # Occorrenza della label nella finestra\n",
    "               \n",
    "                if not discard_transitions or occ/window_size >= th:       # Qua dobbiamo capire come scartarle le finestre (cioè che threshold usare!)\n",
    "                    single_row_window = window_rows.iloc[:, :-4].values.reshape(1,-4).flatten().tolist()\n",
    "                    single_row_window.append(float(m))\n",
    "                    csv_writer.writerow(single_row_window)\n",
    "                else:\n",
    "                    discarded_windows += 1\n",
    "                    discarded_file.write(\"Window starting at row \" + str(k) + \"\\n\")\n",
    "                    discarded_file.write(str(window_rows) + \"\\n\\n\\n\")\n",
    "                    print(\"Discarded windows: \" + str(discarded_windows))\n",
    "            print('Subject ' + str(subj) + ' windowed! \\n')    \n",
    "                    "
   ]
  },
  {
   "cell_type": "code",
   "execution_count": 11,
   "metadata": {},
   "outputs": [
    {
     "data": {
      "text/plain": [
       "array([1., 1., 1., 1., 1., 1., 1., 1., 1., 1., 1., 1., 1., 1.])"
      ]
     },
     "execution_count": 11,
     "metadata": {},
     "output_type": "execute_result"
    }
   ],
   "source": [
    "import numpy as np\n",
    "\n",
    "features_number = 12\n",
    "x = np.ones([100,14])\n",
    "\n",
    "bsx1 = x[features_number]\n",
    "bsx1"
   ]
  }
 ],
 "metadata": {
  "kernelspec": {
   "display_name": "Python 3",
   "language": "python",
   "name": "python3"
  },
  "language_info": {
   "codemirror_mode": {
    "name": "ipython",
    "version": 3
   },
   "file_extension": ".py",
   "mimetype": "text/x-python",
   "name": "python",
   "nbconvert_exporter": "python",
   "pygments_lexer": "ipython3",
   "version": "3.7.3"
  }
 },
 "nbformat": 4,
 "nbformat_minor": 2
}
