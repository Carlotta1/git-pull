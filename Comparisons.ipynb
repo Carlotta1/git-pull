{
 "cells": [
  {
   "cell_type": "code",
   "execution_count": 7,
   "metadata": {},
   "outputs": [],
   "source": [
    "import numpy as np\n",
    "from numpy import genfromtxt as csv_load\n",
    "import matplotlib.pyplot as plt\n",
    "\n",
    "model = 'FF2/'\n",
    "fold = 'Fold2/'\n",
    "in_directory_predicted = '../subjects/clean_baso/Predicted/'\n",
    "in_directory_real = '../subjects/clean_baso/Real/' \n",
    "predicted = '_predicted_clean.csv'\n",
    "real= '_baso_real.csv'\n",
    "\n",
    "#subj = 17\n",
    "\n",
    "thr = 200    # È il range in cui si guarda intorno per capire se è una transizione o no\n",
    "\n",
    "def compute_transitions(in_directory, subj, real_or_pred, thr):\n",
    "## -- Carica i segnali\n",
    "#predicted = csv_load(in_directory_predicted + model + fold + 's' + str(subj) + '_predicted.csv', delimiter = ',', dtype = np.dtype(np.int32))\n",
    "    signal = csv_load(in_directory + 's' + str(subj) + real_or_pred, delimiter = ',', dtype = np.dtype(np.int32))\n",
    "    \n",
    "    if real_or_pred == real:\n",
    "        kind = '(REAL)'\n",
    "    if real_or_pred == predicted:\n",
    "        kind = '(PREDICTED)'\n",
    "        \n",
    "    ## -- Stampa la lunghezza (utile per capire se il numero di transizioni è diverso poiché uno dei due file è più lungo)\n",
    "    print('Subject ' + str(subj) + ' ' + kind)\n",
    "    print('Signal length: ' + str(len(signal)) + ' samples.')\n",
    "    \n",
    "    ## -- Calcola le transizioni da 0 -> 1\n",
    "    one_to_zero = []\n",
    "    for i in range(0, len(signal)-thr):\n",
    "        if (signal[i] == 1 and signal[i+1] == 0):\n",
    "            one_to_zero.append(i)\n",
    "\n",
    "    one_to_zero = np.asarray(one_to_zero, dtype=np.dtype(np.int32))\n",
    "\n",
    "    ## -- Calcola le transizioni da 1 -> 0\n",
    "    zero_to_one = []\n",
    "    for i in range(0, len(signal)-thr):\n",
    "        if (signal[i] == 0 and signal[i+1] == 1):\n",
    "            zero_to_one.append(i+1)\n",
    "\n",
    "    zero_to_one = np.asarray(zero_to_one, dtype=np.dtype(np.int32))\n",
    "    \n",
    "    print('1->0 transitions: ' + str(len(one_to_zero)))\n",
    "    print('0->1 transitions: ' + str(len(zero_to_one)))\n",
    "    return one_to_zero, zero_to_one\n",
    "\n"
   ]
  },
  {
   "cell_type": "code",
   "execution_count": 5,
   "metadata": {},
   "outputs": [],
   "source": [
    "## -- Calcola media e standard deviation\n",
    "\n",
    "def stats(x, y):\n",
    "    steps = min(x.shape[0], y.shape[0])\n",
    "    x = x[:steps]\n",
    "    y = y[:steps]\n",
    "    \n",
    "    difference = x - y\n",
    "    difference = np.absolute(difference)\n",
    "    mean_difference = int(np.mean(difference))\n",
    "    standard_deviation = int(np.std(difference))\n",
    "    \n",
    "    # In milliseconds\n",
    "    mean_ms = int(mean_difference / 2)\n",
    "    sd_ms = int(standard_deviation / 2)\n",
    "    print('The difference between Real and Predicted is: \\n' + str(mean_difference) + ' ± ' + str(standard_deviation) + ' samples.')\n",
    "    print(str(mean_ms) + ' ± ' + str(sd_ms) + ' [ms]')"
   ]
  },
  {
   "cell_type": "code",
   "execution_count": 9,
   "metadata": {},
   "outputs": [],
   "source": [
    "import sys\n",
    "\n",
    "subject = [10,13,14,17]\n",
    "log_dir = '../subjects/clean_baso/Logs/'\n",
    "\n",
    "for subj in subject:\n",
    "    log = log_dir + 's' + str(subj) + '_comparison' + '.txt'\n",
    "\n",
    "    old_stdout = sys.stdout\n",
    "\n",
    "    log_file = open(log,'w')\n",
    "\n",
    "    sys.stdout = log_file\n",
    "\n",
    "    one_to_zero_real , zero_to_one_real = compute_transitions(in_directory_real, subj, real, 200)\n",
    "    one_to_zero_predicted , zero_to_one_predicted = compute_transitions(in_directory_predicted, subj, predicted, 200)\n",
    "    stats(one_to_zero_real, one_to_zero_predicted)\n",
    "    stats(zero_to_one_real, zero_to_one_predicted)\n",
    "\n",
    "    sys.stdout = old_stdout\n",
    "\n",
    "    log_file.close()\n"
   ]
  },
  {
   "cell_type": "code",
   "execution_count": 9,
   "metadata": {},
   "outputs": [
    {
     "data": {
      "text/plain": [
       "array([ -44,  -69,  -52, -252,  -40, -158,  -33,  -42,  -48,  -68, -102,\n",
       "          2,  -89,   12,  -84,  -32,  -97, -246,  -65, -171,  -29,  -17,\n",
       "         11,  -69,  -14,   28,  -36,  -31,  -90,  -19, -103, -219,  -22,\n",
       "        -80, -129,  -37,  -42,  -33,  -11,   15,    4,  -57, -109,  -88,\n",
       "       -116, -140,  -78,  -84, -130,  -52,  -33,  -54,  -65,   96,  -36,\n",
       "        -49,  -40,  -79,  -88, -112, -214,  -55, -104,  -57,  -33,  -56,\n",
       "        -68,  -38,  -15,  -10,  -17,  -67,  -64, -114, -168,  -45, -153,\n",
       "        -24,  -48,  -51,  -66,  -22,   25,  -64,  -29,  -72,  -62,  -51,\n",
       "       -175,  -85,  -64, -101,  -69,  -56,  -27,  -31,  -60,  -54,  -86,\n",
       "        -25, -106,  -66, -113, -254,  -58,  -93,  -74,  -85,  -90,   25,\n",
       "        -58,  -92,   -2,  -33,  -13,  -14,  -14,  -25, -280,  -71,  -76,\n",
       "        -44,  -68,  -87,  -24,  -56,  -32,  -22,  -57,  -72,  -31,  -83,\n",
       "        -82,  -79,  -49,  -24,  -81,  -53,  -82,  -17,  -26,   31,  -12,\n",
       "        -21,  -79,  -77, -108,  -52,  -84,  -97,  -98,  -47,  -77,  -76,\n",
       "        -36,  -10,  -54,  -36,  -31,  -92,  -96,  -93, -107, -138,  -44,\n",
       "       -102,  -43,  -78,  -65,  -24,   -8,  -76,  -79,  -81,  -75, -137,\n",
       "       -168,  -18,  -82, -105, -109,  -77,  -93,  -51,  -96,   25,  -56,\n",
       "        -57,  -76,  -20,  -81, -155,  -52,  -99, -105, -110,  -92, -102,\n",
       "        -76,  -12,  -25,  -24,  -31,  -94, -118,  -69, -111,   -1,  -82,\n",
       "        -28,  -86,  -67,  -94,  -72,  -53,  -12,  -34,  -15,  -63,  -23,\n",
       "       -101, -136,  -98,  -88], dtype=int32)"
      ]
     },
     "execution_count": 9,
     "metadata": {},
     "output_type": "execute_result"
    }
   ],
   "source": []
  }
 ],
 "metadata": {
  "kernelspec": {
   "display_name": "Python 3",
   "language": "python",
   "name": "python3"
  },
  "language_info": {
   "codemirror_mode": {
    "name": "ipython",
    "version": 3
   },
   "file_extension": ".py",
   "mimetype": "text/x-python",
   "name": "python",
   "nbconvert_exporter": "python",
   "pygments_lexer": "ipython3",
   "version": "3.7.3"
  }
 },
 "nbformat": 4,
 "nbformat_minor": 2
}
