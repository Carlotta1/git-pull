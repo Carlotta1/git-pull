{
 "cells": [
  {
   "cell_type": "code",
   "execution_count": 38,
   "metadata": {},
   "outputs": [
    {
     "name": "stdout",
     "output_type": "stream",
     "text": [
      "Swing Onset at sample 6348\n"
     ]
    },
    {
     "name": "stderr",
     "output_type": "stream",
     "text": [
      "  0% (25 of 480053) |                    | Elapsed Time: 0:00:00 ETA:   0:32:38"
     ]
    },
    {
     "name": "stdout",
     "output_type": "stream",
     "text": [
      "Subject 1 rows: 486600\n"
     ]
    },
    {
     "name": "stderr",
     "output_type": "stream",
     "text": [
      "  0% (1078 of 480053) |                  | Elapsed Time: 0:00:05 ETA:   1:19:25"
     ]
    },
    {
     "name": "stdout",
     "output_type": "stream",
     "text": [
      "Phases: 1\n"
     ]
    },
    {
     "name": "stderr",
     "output_type": "stream",
     "text": [
      "  0% (2669 of 480053) |                  | Elapsed Time: 0:00:14 ETA:   1:18:46"
     ]
    },
    {
     "name": "stdout",
     "output_type": "stream",
     "text": [
      "Phases: 2\n"
     ]
    },
    {
     "name": "stderr",
     "output_type": "stream",
     "text": [
      "  0% (3608 of 480053) |                  | Elapsed Time: 0:00:20 ETA:   1:19:41"
     ]
    },
    {
     "name": "stdout",
     "output_type": "stream",
     "text": [
      "Phases: 3\n"
     ]
    },
    {
     "name": "stderr",
     "output_type": "stream",
     "text": [
      "  1% (4915 of 480053) |                  | Elapsed Time: 0:00:27 ETA:   1:15:47"
     ]
    },
    {
     "name": "stdout",
     "output_type": "stream",
     "text": [
      "Phases: 4\n"
     ]
    },
    {
     "name": "stderr",
     "output_type": "stream",
     "text": [
      "  1% (5776 of 480053) |                  | Elapsed Time: 0:00:33 ETA:   1:14:40"
     ]
    },
    {
     "name": "stdout",
     "output_type": "stream",
     "text": [
      "Phases: 5\n"
     ]
    },
    {
     "name": "stderr",
     "output_type": "stream",
     "text": [
      "  1% (7055 of 480053) |                  | Elapsed Time: 0:00:40 ETA:   1:12:58"
     ]
    },
    {
     "name": "stdout",
     "output_type": "stream",
     "text": [
      "Phases: 6\n"
     ]
    },
    {
     "name": "stderr",
     "output_type": "stream",
     "text": [
      "  1% (7896 of 480053) |                  | Elapsed Time: 0:00:46 ETA:   1:13:49"
     ]
    },
    {
     "name": "stdout",
     "output_type": "stream",
     "text": [
      "Phases: 7\n"
     ]
    },
    {
     "name": "stderr",
     "output_type": "stream",
     "text": [
      "  1% (9117 of 480053) |                  | Elapsed Time: 0:00:52 ETA:   1:17:30"
     ]
    },
    {
     "name": "stdout",
     "output_type": "stream",
     "text": [
      "Phases: 8\n"
     ]
    },
    {
     "name": "stderr",
     "output_type": "stream",
     "text": [
      "  2% (9956 of 480053) |                  | Elapsed Time: 0:00:58 ETA:   1:09:23"
     ]
    },
    {
     "name": "stdout",
     "output_type": "stream",
     "text": [
      "Phases: 9\n"
     ]
    },
    {
     "name": "stderr",
     "output_type": "stream",
     "text": [
      "  2% (11225 of 480053) |                 | Elapsed Time: 0:01:05 ETA:   1:13:55"
     ]
    },
    {
     "name": "stdout",
     "output_type": "stream",
     "text": [
      "Phases: 10\n"
     ]
    },
    {
     "name": "stderr",
     "output_type": "stream",
     "text": [
      "  2% (12074 of 480053) |                 | Elapsed Time: 0:01:10 ETA:   1:12:06"
     ]
    },
    {
     "name": "stdout",
     "output_type": "stream",
     "text": [
      "Phases: 11\n"
     ]
    },
    {
     "name": "stderr",
     "output_type": "stream",
     "text": [
      "  2% (13321 of 480053) |                 | Elapsed Time: 0:01:18 ETA:   1:25:39"
     ]
    },
    {
     "name": "stdout",
     "output_type": "stream",
     "text": [
      "Phases: 12\n"
     ]
    },
    {
     "name": "stderr",
     "output_type": "stream",
     "text": [
      "  2% (14160 of 480053) |                 | Elapsed Time: 0:01:24 ETA:   1:13:36"
     ]
    },
    {
     "name": "stdout",
     "output_type": "stream",
     "text": [
      "Phases: 13\n"
     ]
    },
    {
     "name": "stderr",
     "output_type": "stream",
     "text": [
      "  3% (15419 of 480053) |                 | Elapsed Time: 0:01:31 ETA:   1:15:42"
     ]
    },
    {
     "name": "stdout",
     "output_type": "stream",
     "text": [
      "Phases: 14\n"
     ]
    },
    {
     "name": "stderr",
     "output_type": "stream",
     "text": [
      "  3% (16292 of 480053) |                 | Elapsed Time: 0:01:37 ETA:   1:14:56"
     ]
    },
    {
     "name": "stdout",
     "output_type": "stream",
     "text": [
      "Phases: 15\n"
     ]
    },
    {
     "name": "stderr",
     "output_type": "stream",
     "text": [
      "  3% (17654 of 480053) |                 | Elapsed Time: 0:01:45 ETA:   1:14:05"
     ]
    },
    {
     "name": "stdout",
     "output_type": "stream",
     "text": [
      "Phases: 16\n"
     ]
    },
    {
     "name": "stderr",
     "output_type": "stream",
     "text": [
      "  3% (18383 of 480053) |                 | Elapsed Time: 0:01:50 ETA:   1:14:09"
     ]
    },
    {
     "name": "stdout",
     "output_type": "stream",
     "text": [
      "Phases: 17\n"
     ]
    },
    {
     "name": "stderr",
     "output_type": "stream",
     "text": [
      "  4% (20495 of 480053) |                 | Elapsed Time: 0:02:00 ETA:   1:18:29"
     ]
    },
    {
     "name": "stdout",
     "output_type": "stream",
     "text": [
      "Phases: 18\n"
     ]
    },
    {
     "name": "stderr",
     "output_type": "stream",
     "text": [
      "  4% (21643 of 480053) |                 | Elapsed Time: 0:02:07 ETA:   1:14:14"
     ]
    },
    {
     "name": "stdout",
     "output_type": "stream",
     "text": [
      "Phases: 19\n"
     ]
    },
    {
     "name": "stderr",
     "output_type": "stream",
     "text": [
      "  4% (23036 of 480053) |                 | Elapsed Time: 0:02:15 ETA:   1:10:01"
     ]
    },
    {
     "name": "stdout",
     "output_type": "stream",
     "text": [
      "Phases: 20\n"
     ]
    },
    {
     "name": "stderr",
     "output_type": "stream",
     "text": [
      "  4% (23957 of 480053) |                 | Elapsed Time: 0:02:21 ETA:   1:07:54"
     ]
    },
    {
     "name": "stdout",
     "output_type": "stream",
     "text": [
      "Phases: 21\n"
     ]
    },
    {
     "name": "stderr",
     "output_type": "stream",
     "text": [
      "  5% (25234 of 480053) |                 | Elapsed Time: 0:02:28 ETA:   1:08:36"
     ]
    },
    {
     "name": "stdout",
     "output_type": "stream",
     "text": [
      "Phases: 22\n"
     ]
    },
    {
     "name": "stderr",
     "output_type": "stream",
     "text": [
      "  5% (26105 of 480053) |                 | Elapsed Time: 0:02:33 ETA:   1:07:06"
     ]
    },
    {
     "name": "stdout",
     "output_type": "stream",
     "text": [
      "Phases: 23\n"
     ]
    },
    {
     "name": "stderr",
     "output_type": "stream",
     "text": [
      "  5% (27344 of 480053) |                 | Elapsed Time: 0:02:41 ETA:   1:12:32"
     ]
    },
    {
     "name": "stdout",
     "output_type": "stream",
     "text": [
      "Phases: 24\n"
     ]
    },
    {
     "name": "stderr",
     "output_type": "stream",
     "text": [
      "  5% (28198 of 480053) |                 | Elapsed Time: 0:02:46 ETA:   1:10:16"
     ]
    },
    {
     "name": "stdout",
     "output_type": "stream",
     "text": [
      "Phases: 25\n"
     ]
    },
    {
     "name": "stderr",
     "output_type": "stream",
     "text": [
      "  6% (29442 of 480053) |#                | Elapsed Time: 0:02:53 ETA:   1:15:51"
     ]
    },
    {
     "name": "stdout",
     "output_type": "stream",
     "text": [
      "Phases: 26\n"
     ]
    },
    {
     "name": "stderr",
     "output_type": "stream",
     "text": [
      "  6% (30276 of 480053) |#                | Elapsed Time: 0:02:58 ETA:   1:12:26"
     ]
    },
    {
     "name": "stdout",
     "output_type": "stream",
     "text": [
      "Phases: 27\n"
     ]
    },
    {
     "name": "stderr",
     "output_type": "stream",
     "text": [
      "  6% (31519 of 480053) |#                | Elapsed Time: 0:03:06 ETA:   1:18:41"
     ]
    },
    {
     "name": "stdout",
     "output_type": "stream",
     "text": [
      "Phases: 28\n"
     ]
    },
    {
     "name": "stderr",
     "output_type": "stream",
     "text": [
      "  6% (32355 of 480053) |#                | Elapsed Time: 0:03:11 ETA:   1:07:42"
     ]
    },
    {
     "name": "stdout",
     "output_type": "stream",
     "text": [
      "Phases: 29\n"
     ]
    },
    {
     "name": "stderr",
     "output_type": "stream",
     "text": [
      "  6% (33602 of 480053) |#                | Elapsed Time: 0:03:19 ETA:   1:17:29"
     ]
    },
    {
     "name": "stdout",
     "output_type": "stream",
     "text": [
      "Phases: 30\n"
     ]
    },
    {
     "name": "stderr",
     "output_type": "stream",
     "text": [
      "  7% (34443 of 480053) |#                | Elapsed Time: 0:03:24 ETA:   1:07:09"
     ]
    },
    {
     "name": "stdout",
     "output_type": "stream",
     "text": [
      "Phases: 31\n"
     ]
    },
    {
     "name": "stderr",
     "output_type": "stream",
     "text": [
      "  7% (35718 of 480053) |#                | Elapsed Time: 0:03:31 ETA:   1:10:24"
     ]
    },
    {
     "name": "stdout",
     "output_type": "stream",
     "text": [
      "Phases: 32\n"
     ]
    },
    {
     "name": "stderr",
     "output_type": "stream",
     "text": [
      "  7% (36529 of 480053) |#                | Elapsed Time: 0:03:37 ETA:   1:05:13"
     ]
    },
    {
     "name": "stdout",
     "output_type": "stream",
     "text": [
      "Phases: 33\n"
     ]
    },
    {
     "name": "stderr",
     "output_type": "stream",
     "text": [
      "  7% (37883 of 480053) |#                | Elapsed Time: 0:03:44 ETA:   1:09:01"
     ]
    },
    {
     "name": "stdout",
     "output_type": "stream",
     "text": [
      "Phases: 34\n"
     ]
    },
    {
     "name": "stderr",
     "output_type": "stream",
     "text": [
      "  8% (38764 of 480053) |#                | Elapsed Time: 0:03:50 ETA:   1:08:43"
     ]
    },
    {
     "name": "stdout",
     "output_type": "stream",
     "text": [
      "Phases: 35\n"
     ]
    },
    {
     "name": "stderr",
     "output_type": "stream",
     "text": [
      "  8% (40458 of 480053) |#                | Elapsed Time: 0:03:59 ETA:   1:11:00"
     ]
    },
    {
     "name": "stdout",
     "output_type": "stream",
     "text": [
      "Phases: 36\n"
     ]
    },
    {
     "name": "stderr",
     "output_type": "stream",
     "text": [
      "  8% (41374 of 480053) |#                | Elapsed Time: 0:04:05 ETA:   1:11:44"
     ]
    },
    {
     "name": "stdout",
     "output_type": "stream",
     "text": [
      "Phases: 37\n"
     ]
    },
    {
     "name": "stderr",
     "output_type": "stream",
     "text": [
      "  8% (42844 of 480053) |#                | Elapsed Time: 0:04:13 ETA:   1:12:05"
     ]
    },
    {
     "name": "stdout",
     "output_type": "stream",
     "text": [
      "Phases: 38\n"
     ]
    },
    {
     "name": "stderr",
     "output_type": "stream",
     "text": [
      "  9% (43720 of 480053) |#                | Elapsed Time: 0:04:19 ETA:   1:16:45"
     ]
    },
    {
     "name": "stdout",
     "output_type": "stream",
     "text": [
      "Phases: 39\n"
     ]
    },
    {
     "name": "stderr",
     "output_type": "stream",
     "text": [
      "  9% (45062 of 480053) |#                | Elapsed Time: 0:04:26 ETA:   1:07:03"
     ]
    },
    {
     "name": "stdout",
     "output_type": "stream",
     "text": [
      "Phases: 40\n"
     ]
    },
    {
     "name": "stderr",
     "output_type": "stream",
     "text": [
      "  9% (45942 of 480053) |#                | Elapsed Time: 0:04:32 ETA:   1:06:12"
     ]
    },
    {
     "name": "stdout",
     "output_type": "stream",
     "text": [
      "Phases: 41\n"
     ]
    },
    {
     "name": "stderr",
     "output_type": "stream",
     "text": [
      "  9% (47242 of 480053) |#                | Elapsed Time: 0:04:39 ETA:   1:09:07"
     ]
    },
    {
     "name": "stdout",
     "output_type": "stream",
     "text": [
      "Phases: 42\n"
     ]
    },
    {
     "name": "stderr",
     "output_type": "stream",
     "text": [
      " 10% (48157 of 480053) |#                | Elapsed Time: 0:04:45 ETA:   1:09:20"
     ]
    },
    {
     "name": "stdout",
     "output_type": "stream",
     "text": [
      "Phases: 43\n"
     ]
    },
    {
     "name": "stderr",
     "output_type": "stream",
     "text": [
      " 10% (49512 of 480053) |#                | Elapsed Time: 0:04:53 ETA:   1:11:13"
     ]
    },
    {
     "name": "stdout",
     "output_type": "stream",
     "text": [
      "Phases: 44\n"
     ]
    },
    {
     "name": "stderr",
     "output_type": "stream",
     "text": [
      " 10% (50320 of 480053) |#                | Elapsed Time: 0:04:58 ETA:   1:06:01"
     ]
    },
    {
     "name": "stdout",
     "output_type": "stream",
     "text": [
      "Phases: 45\n"
     ]
    },
    {
     "name": "stderr",
     "output_type": "stream",
     "text": [
      " 10% (51561 of 480053) |#                | Elapsed Time: 0:05:05 ETA:   1:03:42"
     ]
    },
    {
     "name": "stdout",
     "output_type": "stream",
     "text": [
      "Phases: 46\n"
     ]
    },
    {
     "name": "stderr",
     "output_type": "stream",
     "text": [
      " 10% (52395 of 480053) |#                | Elapsed Time: 0:05:11 ETA:   1:07:09"
     ]
    },
    {
     "name": "stdout",
     "output_type": "stream",
     "text": [
      "Phases: 47\n"
     ]
    },
    {
     "name": "stderr",
     "output_type": "stream",
     "text": [
      " 11% (53716 of 480053) |#                | Elapsed Time: 0:05:18 ETA:   1:04:50"
     ]
    },
    {
     "name": "stdout",
     "output_type": "stream",
     "text": [
      "Phases: 48\n"
     ]
    },
    {
     "name": "stderr",
     "output_type": "stream",
     "text": [
      " 11% (54528 of 480053) |#                | Elapsed Time: 0:05:23 ETA:   1:04:13"
     ]
    },
    {
     "name": "stdout",
     "output_type": "stream",
     "text": [
      "Phases: 49\n"
     ]
    },
    {
     "name": "stderr",
     "output_type": "stream",
     "text": [
      " 11% (55881 of 480053) |#                | Elapsed Time: 0:05:31 ETA:   1:09:58"
     ]
    },
    {
     "name": "stdout",
     "output_type": "stream",
     "text": [
      "Phases: 50\n"
     ]
    },
    {
     "name": "stderr",
     "output_type": "stream",
     "text": [
      " 11% (56741 of 480053) |##               | Elapsed Time: 0:05:36 ETA:   1:02:18"
     ]
    },
    {
     "name": "stdout",
     "output_type": "stream",
     "text": [
      "Phases: 51\n"
     ]
    },
    {
     "name": "stderr",
     "output_type": "stream",
     "text": [
      " 12% (58108 of 480053) |##               | Elapsed Time: 0:05:44 ETA:   1:07:54"
     ]
    },
    {
     "name": "stdout",
     "output_type": "stream",
     "text": [
      "Phases: 52\n"
     ]
    },
    {
     "name": "stderr",
     "output_type": "stream",
     "text": [
      " 12% (58931 of 480053) |##               | Elapsed Time: 0:05:49 ETA:   1:03:23"
     ]
    },
    {
     "name": "stdout",
     "output_type": "stream",
     "text": [
      "Phases: 53\n"
     ]
    },
    {
     "name": "stderr",
     "output_type": "stream",
     "text": [
      " 12% (60497 of 480053) |##               | Elapsed Time: 0:05:58 ETA:   1:07:03"
     ]
    },
    {
     "name": "stdout",
     "output_type": "stream",
     "text": [
      "Phases: 54\n"
     ]
    },
    {
     "name": "stderr",
     "output_type": "stream",
     "text": [
      " 12% (61547 of 480053) |##               | Elapsed Time: 0:06:04 ETA:   1:05:30"
     ]
    },
    {
     "name": "stdout",
     "output_type": "stream",
     "text": [
      "Phases: 55\n"
     ]
    },
    {
     "name": "stderr",
     "output_type": "stream",
     "text": [
      " 13% (62909 of 480053) |##               | Elapsed Time: 0:06:11 ETA:   1:04:52"
     ]
    },
    {
     "name": "stdout",
     "output_type": "stream",
     "text": [
      "Phases: 56\n"
     ]
    },
    {
     "name": "stderr",
     "output_type": "stream",
     "text": [
      " 13% (63789 of 480053) |##               | Elapsed Time: 0:06:17 ETA:   1:02:44"
     ]
    },
    {
     "name": "stdout",
     "output_type": "stream",
     "text": [
      "Phases: 57\n"
     ]
    },
    {
     "name": "stderr",
     "output_type": "stream",
     "text": [
      " 13% (65063 of 480053) |##               | Elapsed Time: 0:06:24 ETA:   1:05:05"
     ]
    },
    {
     "name": "stdout",
     "output_type": "stream",
     "text": [
      "Phases: 58\n"
     ]
    },
    {
     "name": "stderr",
     "output_type": "stream",
     "text": [
      " 13% (65918 of 480053) |##               | Elapsed Time: 0:06:32 ETA:   1:25:53"
     ]
    },
    {
     "name": "stdout",
     "output_type": "stream",
     "text": [
      "Phases: 59\n"
     ]
    },
    {
     "name": "stderr",
     "output_type": "stream",
     "text": [
      " 13% (67207 of 480053) |##               | Elapsed Time: 0:06:39 ETA:   1:04:43"
     ]
    },
    {
     "name": "stdout",
     "output_type": "stream",
     "text": [
      "Phases: 60\n",
      "Subject 1 windowed. Time elapsed: 0:06:43\n",
      "\n",
      "Swing Onset at sample 1092\n"
     ]
    },
    {
     "name": "stderr",
     "output_type": "stream",
     "text": [
      "  0% (23 of 485309) |                    | Elapsed Time: 0:00:00 ETA:   0:35:50"
     ]
    },
    {
     "name": "stdout",
     "output_type": "stream",
     "text": [
      "Subject 2 rows: 486600\n"
     ]
    },
    {
     "name": "stderr",
     "output_type": "stream",
     "text": [
      "  0% (863 of 485309) |                   | Elapsed Time: 0:00:04 ETA:   1:14:57"
     ]
    },
    {
     "name": "stdout",
     "output_type": "stream",
     "text": [
      "Phases: 1\n"
     ]
    },
    {
     "name": "stderr",
     "output_type": "stream",
     "text": [
      "  0% (2115 of 485309) |                  | Elapsed Time: 0:00:11 ETA:   1:11:50"
     ]
    },
    {
     "name": "stdout",
     "output_type": "stream",
     "text": [
      "Phases: 2\n"
     ]
    },
    {
     "name": "stderr",
     "output_type": "stream",
     "text": [
      "  0% (3057 of 485309) |                  | Elapsed Time: 0:00:17 ETA:   1:13:47"
     ]
    },
    {
     "name": "stdout",
     "output_type": "stream",
     "text": [
      "Phases: 3\n"
     ]
    },
    {
     "name": "stderr",
     "output_type": "stream",
     "text": [
      "  0% (4322 of 485309) |                  | Elapsed Time: 0:00:24 ETA:   1:13:52"
     ]
    },
    {
     "name": "stdout",
     "output_type": "stream",
     "text": [
      "Phases: 4\n"
     ]
    },
    {
     "name": "stderr",
     "output_type": "stream",
     "text": [
      "  1% (5285 of 485309) |                  | Elapsed Time: 0:00:30 ETA:   1:20:08"
     ]
    },
    {
     "name": "stdout",
     "output_type": "stream",
     "text": [
      "Phases: 5\n"
     ]
    },
    {
     "name": "stderr",
     "output_type": "stream",
     "text": [
      "  1% (6619 of 485309) |                  | Elapsed Time: 0:00:38 ETA:   1:17:36"
     ]
    },
    {
     "name": "stdout",
     "output_type": "stream",
     "text": [
      "Phases: 6\n"
     ]
    },
    {
     "name": "stderr",
     "output_type": "stream",
     "text": [
      "  1% (7839 of 485309) |                  | Elapsed Time: 0:00:44 ETA:   1:11:27"
     ]
    },
    {
     "name": "stdout",
     "output_type": "stream",
     "text": [
      "Phases: 7\n"
     ]
    },
    {
     "name": "stderr",
     "output_type": "stream",
     "text": [
      "  1% (9291 of 485309) |                  | Elapsed Time: 0:00:52 ETA:   1:10:13"
     ]
    },
    {
     "name": "stdout",
     "output_type": "stream",
     "text": [
      "Phases: 8\n"
     ]
    },
    {
     "name": "stderr",
     "output_type": "stream",
     "text": [
      "  2% (10218 of 485309) |                 | Elapsed Time: 0:00:58 ETA:   1:10:46"
     ]
    },
    {
     "name": "stdout",
     "output_type": "stream",
     "text": [
      "Phases: 9\n"
     ]
    },
    {
     "name": "stderr",
     "output_type": "stream",
     "text": [
      "  2% (11506 of 485309) |                 | Elapsed Time: 0:01:05 ETA:   1:12:17"
     ]
    },
    {
     "name": "stdout",
     "output_type": "stream",
     "text": [
      "Phases: 10\n"
     ]
    },
    {
     "name": "stderr",
     "output_type": "stream",
     "text": [
      "  2% (12492 of 485309) |                 | Elapsed Time: 0:01:11 ETA:   1:09:15"
     ]
    },
    {
     "name": "stdout",
     "output_type": "stream",
     "text": [
      "Phases: 11\n"
     ]
    },
    {
     "name": "stderr",
     "output_type": "stream",
     "text": [
      "  2% (13738 of 485309) |                 | Elapsed Time: 0:01:18 ETA:   1:08:34"
     ]
    },
    {
     "name": "stdout",
     "output_type": "stream",
     "text": [
      "Phases: 12\n"
     ]
    },
    {
     "name": "stderr",
     "output_type": "stream",
     "text": [
      "  3% (14697 of 485309) |                 | Elapsed Time: 0:01:24 ETA:   1:13:54"
     ]
    },
    {
     "name": "stdout",
     "output_type": "stream",
     "text": [
      "Phases: 13\n"
     ]
    },
    {
     "name": "stderr",
     "output_type": "stream",
     "text": [
      "  3% (16007 of 485309) |                 | Elapsed Time: 0:01:31 ETA:   1:09:40"
     ]
    },
    {
     "name": "stdout",
     "output_type": "stream",
     "text": [
      "Phases: 14\n"
     ]
    },
    {
     "name": "stderr",
     "output_type": "stream",
     "text": [
      "  3% (17045 of 485309) |                 | Elapsed Time: 0:01:38 ETA:   1:10:47"
     ]
    },
    {
     "name": "stdout",
     "output_type": "stream",
     "text": [
      "Phases: 15\n"
     ]
    },
    {
     "name": "stderr",
     "output_type": "stream",
     "text": [
      "  3% (18663 of 485309) |                 | Elapsed Time: 0:01:46 ETA:   1:07:36"
     ]
    },
    {
     "name": "stdout",
     "output_type": "stream",
     "text": [
      "Phases: 16\n"
     ]
    },
    {
     "name": "stderr",
     "output_type": "stream",
     "text": [
      "  4% (19635 of 485309) |                 | Elapsed Time: 0:01:52 ETA:   1:14:42"
     ]
    },
    {
     "name": "stdout",
     "output_type": "stream",
     "text": [
      "Phases: 17\n"
     ]
    },
    {
     "name": "stderr",
     "output_type": "stream",
     "text": [
      "  4% (21045 of 485309) |                 | Elapsed Time: 0:02:00 ETA:   1:10:17"
     ]
    },
    {
     "name": "stdout",
     "output_type": "stream",
     "text": [
      "Phases: 18\n"
     ]
    },
    {
     "name": "stderr",
     "output_type": "stream",
     "text": [
      "  4% (22022 of 485309) |                 | Elapsed Time: 0:02:06 ETA:   1:11:02"
     ]
    },
    {
     "name": "stdout",
     "output_type": "stream",
     "text": [
      "Phases: 19\n"
     ]
    },
    {
     "name": "stderr",
     "output_type": "stream",
     "text": [
      "  4% (23316 of 485309) |                 | Elapsed Time: 0:02:13 ETA:   1:14:48"
     ]
    },
    {
     "name": "stdout",
     "output_type": "stream",
     "text": [
      "Phases: 20\n"
     ]
    },
    {
     "name": "stderr",
     "output_type": "stream",
     "text": [
      "  5% (24277 of 485309) |                 | Elapsed Time: 0:02:20 ETA:   1:17:56"
     ]
    },
    {
     "name": "stdout",
     "output_type": "stream",
     "text": [
      "Phases: 21\n"
     ]
    },
    {
     "name": "stderr",
     "output_type": "stream",
     "text": [
      "  5% (25524 of 485309) |                 | Elapsed Time: 0:02:27 ETA:   1:23:12"
     ]
    },
    {
     "name": "stdout",
     "output_type": "stream",
     "text": [
      "Phases: 22\n"
     ]
    },
    {
     "name": "stderr",
     "output_type": "stream",
     "text": [
      "  5% (26550 of 485309) |                 | Elapsed Time: 0:02:33 ETA:   1:15:05"
     ]
    },
    {
     "name": "stdout",
     "output_type": "stream",
     "text": [
      "Phases: 23\n"
     ]
    },
    {
     "name": "stderr",
     "output_type": "stream",
     "text": [
      "  5% (27915 of 485309) |                 | Elapsed Time: 0:02:41 ETA:   1:23:00"
     ]
    },
    {
     "name": "stdout",
     "output_type": "stream",
     "text": [
      "Phases: 24\n"
     ]
    },
    {
     "name": "stderr",
     "output_type": "stream",
     "text": [
      "  6% (29194 of 485309) |#                | Elapsed Time: 0:02:48 ETA:   1:19:11"
     ]
    },
    {
     "name": "stdout",
     "output_type": "stream",
     "text": [
      "Phases: 25\n"
     ]
    },
    {
     "name": "stderr",
     "output_type": "stream",
     "text": [
      "  6% (30952 of 485309) |#                | Elapsed Time: 0:02:58 ETA:   1:12:01"
     ]
    },
    {
     "name": "stdout",
     "output_type": "stream",
     "text": [
      "Phases: 26\n"
     ]
    },
    {
     "name": "stderr",
     "output_type": "stream",
     "text": [
      "  6% (31950 of 485309) |#                | Elapsed Time: 0:03:04 ETA:   1:11:32"
     ]
    },
    {
     "name": "stdout",
     "output_type": "stream",
     "text": [
      "Phases: 27\n"
     ]
    },
    {
     "name": "stderr",
     "output_type": "stream",
     "text": [
      "  6% (33267 of 485309) |#                | Elapsed Time: 0:03:12 ETA:   1:23:13"
     ]
    },
    {
     "name": "stdout",
     "output_type": "stream",
     "text": [
      "Phases: 28\n"
     ]
    },
    {
     "name": "stderr",
     "output_type": "stream",
     "text": [
      "  7% (34277 of 485309) |#                | Elapsed Time: 0:03:18 ETA:   1:19:12"
     ]
    },
    {
     "name": "stdout",
     "output_type": "stream",
     "text": [
      "Phases: 29\n"
     ]
    },
    {
     "name": "stderr",
     "output_type": "stream",
     "text": [
      "  7% (35595 of 485309) |#                | Elapsed Time: 0:03:26 ETA:   1:18:00"
     ]
    },
    {
     "name": "stdout",
     "output_type": "stream",
     "text": [
      "Phases: 30\n"
     ]
    },
    {
     "name": "stderr",
     "output_type": "stream",
     "text": [
      "  7% (36585 of 485309) |#                | Elapsed Time: 0:03:32 ETA:   1:08:24"
     ]
    },
    {
     "name": "stdout",
     "output_type": "stream",
     "text": [
      "Phases: 31\n"
     ]
    },
    {
     "name": "stderr",
     "output_type": "stream",
     "text": [
      "  7% (37946 of 485309) |#                | Elapsed Time: 0:03:40 ETA:   1:15:51"
     ]
    },
    {
     "name": "stdout",
     "output_type": "stream",
     "text": [
      "Phases: 32\n"
     ]
    },
    {
     "name": "stderr",
     "output_type": "stream",
     "text": [
      "  8% (39041 of 485309) |#                | Elapsed Time: 0:03:46 ETA:   1:12:11"
     ]
    },
    {
     "name": "stdout",
     "output_type": "stream",
     "text": [
      "Phases: 33\n"
     ]
    },
    {
     "name": "stderr",
     "output_type": "stream",
     "text": [
      "  8% (40583 of 485309) |#                | Elapsed Time: 0:03:55 ETA:   1:20:40"
     ]
    },
    {
     "name": "stdout",
     "output_type": "stream",
     "text": [
      "Phases: 34\n"
     ]
    },
    {
     "name": "stderr",
     "output_type": "stream",
     "text": [
      "  8% (41628 of 485309) |#                | Elapsed Time: 0:04:01 ETA:   1:13:43"
     ]
    },
    {
     "name": "stdout",
     "output_type": "stream",
     "text": [
      "Phases: 35\n"
     ]
    },
    {
     "name": "stderr",
     "output_type": "stream",
     "text": [
      "  8% (43003 of 485309) |#                | Elapsed Time: 0:04:09 ETA:   1:23:25"
     ]
    },
    {
     "name": "stdout",
     "output_type": "stream",
     "text": [
      "Phases: 36\n"
     ]
    },
    {
     "name": "stderr",
     "output_type": "stream",
     "text": [
      "  9% (44050 of 485309) |#                | Elapsed Time: 0:04:15 ETA:   1:17:44"
     ]
    },
    {
     "name": "stdout",
     "output_type": "stream",
     "text": [
      "Phases: 37\n"
     ]
    },
    {
     "name": "stderr",
     "output_type": "stream",
     "text": [
      "  9% (45397 of 485309) |#                | Elapsed Time: 0:04:23 ETA:   1:13:07"
     ]
    },
    {
     "name": "stdout",
     "output_type": "stream",
     "text": [
      "Phases: 38\n"
     ]
    },
    {
     "name": "stderr",
     "output_type": "stream",
     "text": [
      "  9% (46392 of 485309) |#                | Elapsed Time: 0:04:29 ETA:   1:17:40"
     ]
    },
    {
     "name": "stdout",
     "output_type": "stream",
     "text": [
      "Phases: 39\n"
     ]
    },
    {
     "name": "stderr",
     "output_type": "stream",
     "text": [
      "  9% (47707 of 485309) |#                | Elapsed Time: 0:04:37 ETA:   1:11:21"
     ]
    },
    {
     "name": "stdout",
     "output_type": "stream",
     "text": [
      "Phases: 40\n"
     ]
    },
    {
     "name": "stderr",
     "output_type": "stream",
     "text": [
      " 10% (48742 of 485309) |#                | Elapsed Time: 0:04:43 ETA:   1:14:49"
     ]
    },
    {
     "name": "stdout",
     "output_type": "stream",
     "text": [
      "Phases: 41\n"
     ]
    },
    {
     "name": "stderr",
     "output_type": "stream",
     "text": [
      " 10% (50187 of 485309) |#                | Elapsed Time: 0:04:51 ETA:   1:06:19"
     ]
    },
    {
     "name": "stdout",
     "output_type": "stream",
     "text": [
      "Phases: 42\n"
     ]
    },
    {
     "name": "stderr",
     "output_type": "stream",
     "text": [
      " 10% (51418 of 485309) |#                | Elapsed Time: 0:04:58 ETA:   1:17:13"
     ]
    },
    {
     "name": "stdout",
     "output_type": "stream",
     "text": [
      "Phases: 43\n"
     ]
    },
    {
     "name": "stderr",
     "output_type": "stream",
     "text": [
      " 10% (53072 of 485309) |#                | Elapsed Time: 0:05:07 ETA:   1:13:16"
     ]
    },
    {
     "name": "stdout",
     "output_type": "stream",
     "text": [
      "Phases: 44\n"
     ]
    },
    {
     "name": "stderr",
     "output_type": "stream",
     "text": [
      " 11% (53998 of 485309) |#                | Elapsed Time: 0:05:13 ETA:   1:14:01"
     ]
    },
    {
     "name": "stdout",
     "output_type": "stream",
     "text": [
      "Phases: 45\n"
     ]
    },
    {
     "name": "stderr",
     "output_type": "stream",
     "text": [
      " 11% (55405 of 485309) |#                | Elapsed Time: 0:05:21 ETA:   1:17:37"
     ]
    },
    {
     "name": "stdout",
     "output_type": "stream",
     "text": [
      "Phases: 46\n"
     ]
    },
    {
     "name": "stderr",
     "output_type": "stream",
     "text": [
      " 11% (56448 of 485309) |#                | Elapsed Time: 0:05:27 ETA:   1:12:14"
     ]
    },
    {
     "name": "stdout",
     "output_type": "stream",
     "text": [
      "Phases: 47\n"
     ]
    },
    {
     "name": "stderr",
     "output_type": "stream",
     "text": [
      " 11% (57780 of 485309) |##               | Elapsed Time: 0:05:35 ETA:   1:14:29"
     ]
    },
    {
     "name": "stdout",
     "output_type": "stream",
     "text": [
      "Phases: 48\n"
     ]
    },
    {
     "name": "stderr",
     "output_type": "stream",
     "text": [
      " 12% (58775 of 485309) |##               | Elapsed Time: 0:05:41 ETA:   1:15:30"
     ]
    },
    {
     "name": "stdout",
     "output_type": "stream",
     "text": [
      "Phases: 49\n"
     ]
    },
    {
     "name": "stderr",
     "output_type": "stream",
     "text": [
      " 12% (60132 of 485309) |##               | Elapsed Time: 0:05:49 ETA:   1:13:27"
     ]
    },
    {
     "name": "stdout",
     "output_type": "stream",
     "text": [
      "Phases: 50\n"
     ]
    },
    {
     "name": "stderr",
     "output_type": "stream",
     "text": [
      " 12% (61128 of 485309) |##               | Elapsed Time: 0:05:55 ETA:   1:15:58"
     ]
    },
    {
     "name": "stdout",
     "output_type": "stream",
     "text": [
      "Phases: 51\n"
     ]
    },
    {
     "name": "stderr",
     "output_type": "stream",
     "text": [
      " 12% (62756 of 485309) |##               | Elapsed Time: 0:06:04 ETA:   1:07:42"
     ]
    },
    {
     "name": "stdout",
     "output_type": "stream",
     "text": [
      "Phases: 52\n"
     ]
    },
    {
     "name": "stderr",
     "output_type": "stream",
     "text": [
      " 13% (63862 of 485309) |##               | Elapsed Time: 0:06:11 ETA:   1:06:57"
     ]
    },
    {
     "name": "stdout",
     "output_type": "stream",
     "text": [
      "Phases: 53\n"
     ]
    },
    {
     "name": "stderr",
     "output_type": "stream",
     "text": [
      " 13% (65319 of 485309) |##               | Elapsed Time: 0:06:19 ETA:   1:10:36"
     ]
    },
    {
     "name": "stdout",
     "output_type": "stream",
     "text": [
      "Phases: 54\n"
     ]
    },
    {
     "name": "stderr",
     "output_type": "stream",
     "text": [
      " 13% (66334 of 485309) |##               | Elapsed Time: 0:06:25 ETA:   1:07:07"
     ]
    },
    {
     "name": "stdout",
     "output_type": "stream",
     "text": [
      "Phases: 55\n"
     ]
    },
    {
     "name": "stderr",
     "output_type": "stream",
     "text": [
      " 13% (67711 of 485309) |##               | Elapsed Time: 0:06:33 ETA:   1:08:52"
     ]
    },
    {
     "name": "stdout",
     "output_type": "stream",
     "text": [
      "Phases: 56\n"
     ]
    },
    {
     "name": "stderr",
     "output_type": "stream",
     "text": [
      " 14% (68711 of 485309) |##               | Elapsed Time: 0:06:39 ETA:   1:08:30"
     ]
    },
    {
     "name": "stdout",
     "output_type": "stream",
     "text": [
      "Phases: 57\n"
     ]
    },
    {
     "name": "stderr",
     "output_type": "stream",
     "text": [
      " 14% (70041 of 485309) |##               | Elapsed Time: 0:06:46 ETA:   1:04:13"
     ]
    },
    {
     "name": "stdout",
     "output_type": "stream",
     "text": [
      "Phases: 58\n"
     ]
    },
    {
     "name": "stderr",
     "output_type": "stream",
     "text": [
      " 14% (71063 of 485309) |##               | Elapsed Time: 0:06:53 ETA:   1:12:01"
     ]
    },
    {
     "name": "stdout",
     "output_type": "stream",
     "text": [
      "Phases: 59\n"
     ]
    },
    {
     "name": "stderr",
     "output_type": "stream",
     "text": [
      " 14% (72582 of 485309) |##               | Elapsed Time: 0:07:01 ETA:   0:54:33"
     ]
    },
    {
     "name": "stdout",
     "output_type": "stream",
     "text": [
      "Phases: 60\n",
      "Subject 2 windowed. Time elapsed: 0:07:05\n",
      "\n",
      "Swing Onset at sample 6468\n"
     ]
    },
    {
     "name": "stderr",
     "output_type": "stream",
     "text": [
      "  0% (24 of 479933) |                    | Elapsed Time: 0:00:00 ETA:   0:33:47"
     ]
    },
    {
     "name": "stdout",
     "output_type": "stream",
     "text": [
      "Subject 3 rows: 486600\n"
     ]
    },
    {
     "name": "stderr",
     "output_type": "stream",
     "text": [
      "  0% (1034 of 479933) |                  | Elapsed Time: 0:00:05 ETA:   1:18:55"
     ]
    },
    {
     "name": "stdout",
     "output_type": "stream",
     "text": [
      "Phases: 1\n"
     ]
    },
    {
     "name": "stderr",
     "output_type": "stream",
     "text": [
      "  0% (2302 of 479933) |                  | Elapsed Time: 0:00:12 ETA:   1:21:19"
     ]
    },
    {
     "name": "stdout",
     "output_type": "stream",
     "text": [
      "Phases: 2\n"
     ]
    },
    {
     "name": "stderr",
     "output_type": "stream",
     "text": [
      "  0% (3369 of 479933) |                  | Elapsed Time: 0:00:19 ETA:   1:26:40"
     ]
    },
    {
     "name": "stdout",
     "output_type": "stream",
     "text": [
      "Phases: 3\n"
     ]
    },
    {
     "name": "stderr",
     "output_type": "stream",
     "text": [
      "  0% (4564 of 479933) |                  | Elapsed Time: 0:00:26 ETA:   1:15:23"
     ]
    },
    {
     "name": "stdout",
     "output_type": "stream",
     "text": [
      "Phases: 4\n"
     ]
    },
    {
     "name": "stderr",
     "output_type": "stream",
     "text": [
      "  1% (5648 of 479933) |                  | Elapsed Time: 0:00:33 ETA:   1:24:16"
     ]
    },
    {
     "name": "stdout",
     "output_type": "stream",
     "text": [
      "Phases: 5\n"
     ]
    },
    {
     "name": "stderr",
     "output_type": "stream",
     "text": [
      "  1% (6861 of 479933) |                  | Elapsed Time: 0:00:40 ETA:   1:14:48"
     ]
    },
    {
     "name": "stdout",
     "output_type": "stream",
     "text": [
      "Phases: 6\n"
     ]
    },
    {
     "name": "stderr",
     "output_type": "stream",
     "text": [
      "  1% (7914 of 479933) |                  | Elapsed Time: 0:00:46 ETA:   1:15:09"
     ]
    },
    {
     "name": "stdout",
     "output_type": "stream",
     "text": [
      "Phases: 7\n"
     ]
    },
    {
     "name": "stderr",
     "output_type": "stream",
     "text": [
      "  1% (9320 of 479933) |                  | Elapsed Time: 0:00:54 ETA:   1:18:16"
     ]
    },
    {
     "name": "stdout",
     "output_type": "stream",
     "text": [
      "Phases: 8\n"
     ]
    },
    {
     "name": "stderr",
     "output_type": "stream",
     "text": [
      "  2% (10449 of 479933) |                 | Elapsed Time: 0:01:01 ETA:   1:13:00"
     ]
    },
    {
     "name": "stdout",
     "output_type": "stream",
     "text": [
      "Phases: 9\n"
     ]
    },
    {
     "name": "stderr",
     "output_type": "stream",
     "text": [
      "  2% (12266 of 479933) |                 | Elapsed Time: 0:01:10 ETA:   1:16:04"
     ]
    },
    {
     "name": "stdout",
     "output_type": "stream",
     "text": [
      "Phases: 10\n"
     ]
    },
    {
     "name": "stderr",
     "output_type": "stream",
     "text": [
      "  2% (13408 of 479933) |                 | Elapsed Time: 0:01:17 ETA:   1:14:24"
     ]
    },
    {
     "name": "stdout",
     "output_type": "stream",
     "text": [
      "Phases: 11\n"
     ]
    },
    {
     "name": "stderr",
     "output_type": "stream",
     "text": [
      "  3% (14735 of 479933) |                 | Elapsed Time: 0:01:24 ETA:   1:13:15"
     ]
    },
    {
     "name": "stdout",
     "output_type": "stream",
     "text": [
      "Phases: 12\n"
     ]
    },
    {
     "name": "stderr",
     "output_type": "stream",
     "text": [
      "  3% (15795 of 479933) |                 | Elapsed Time: 0:01:30 ETA:   1:16:29"
     ]
    },
    {
     "name": "stdout",
     "output_type": "stream",
     "text": [
      "Phases: 13\n"
     ]
    },
    {
     "name": "stderr",
     "output_type": "stream",
     "text": [
      "  3% (17092 of 479933) |                 | Elapsed Time: 0:01:38 ETA:   1:14:36"
     ]
    },
    {
     "name": "stdout",
     "output_type": "stream",
     "text": [
      "Phases: 14\n"
     ]
    },
    {
     "name": "stderr",
     "output_type": "stream",
     "text": [
      "  3% (18116 of 479933) |                 | Elapsed Time: 0:01:44 ETA:   1:11:06"
     ]
    },
    {
     "name": "stdout",
     "output_type": "stream",
     "text": [
      "Phases: 15\n"
     ]
    },
    {
     "name": "stderr",
     "output_type": "stream",
     "text": [
      "  4% (19354 of 479933) |                 | Elapsed Time: 0:01:51 ETA:   1:09:25"
     ]
    },
    {
     "name": "stdout",
     "output_type": "stream",
     "text": [
      "Phases: 16\n"
     ]
    },
    {
     "name": "stderr",
     "output_type": "stream",
     "text": [
      "  4% (20429 of 479933) |                 | Elapsed Time: 0:01:57 ETA:   1:08:19"
     ]
    },
    {
     "name": "stdout",
     "output_type": "stream",
     "text": [
      "Phases: 17\n"
     ]
    },
    {
     "name": "stderr",
     "output_type": "stream",
     "text": [
      "  4% (21750 of 479933) |                 | Elapsed Time: 0:02:05 ETA:   1:13:27"
     ]
    },
    {
     "name": "stdout",
     "output_type": "stream",
     "text": [
      "Phases: 18\n"
     ]
    },
    {
     "name": "stderr",
     "output_type": "stream",
     "text": [
      "  4% (22995 of 479933) |                 | Elapsed Time: 0:02:12 ETA:   1:08:51"
     ]
    },
    {
     "name": "stdout",
     "output_type": "stream",
     "text": [
      "Phases: 19\n"
     ]
    },
    {
     "name": "stderr",
     "output_type": "stream",
     "text": [
      "  5% (25134 of 479933) |                 | Elapsed Time: 0:02:22 ETA:   1:07:30"
     ]
    },
    {
     "name": "stdout",
     "output_type": "stream",
     "text": [
      "Phases: 20\n"
     ]
    },
    {
     "name": "stderr",
     "output_type": "stream",
     "text": [
      "  5% (26258 of 479933) |                 | Elapsed Time: 0:02:29 ETA:   1:10:27"
     ]
    },
    {
     "name": "stdout",
     "output_type": "stream",
     "text": [
      "Phases: 21\n"
     ]
    },
    {
     "name": "stderr",
     "output_type": "stream",
     "text": [
      "  5% (27621 of 479933) |                 | Elapsed Time: 0:02:36 ETA:   1:09:04"
     ]
    },
    {
     "name": "stdout",
     "output_type": "stream",
     "text": [
      "Phases: 22\n"
     ]
    },
    {
     "name": "stderr",
     "output_type": "stream",
     "text": [
      "  5% (28705 of 479933) |#                | Elapsed Time: 0:02:43 ETA:   1:16:21"
     ]
    },
    {
     "name": "stdout",
     "output_type": "stream",
     "text": [
      "Phases: 23\n"
     ]
    },
    {
     "name": "stderr",
     "output_type": "stream",
     "text": [
      "  6% (29999 of 479933) |#                | Elapsed Time: 0:02:50 ETA:   1:08:22"
     ]
    },
    {
     "name": "stdout",
     "output_type": "stream",
     "text": [
      "Phases: 24\n"
     ]
    },
    {
     "name": "stderr",
     "output_type": "stream",
     "text": [
      "  6% (31068 of 479933) |#                | Elapsed Time: 0:02:57 ETA:   1:09:18"
     ]
    },
    {
     "name": "stdout",
     "output_type": "stream",
     "text": [
      "Phases: 25\n"
     ]
    },
    {
     "name": "stderr",
     "output_type": "stream",
     "text": [
      "  6% (32316 of 479933) |#                | Elapsed Time: 0:03:04 ETA:   1:06:36"
     ]
    },
    {
     "name": "stdout",
     "output_type": "stream",
     "text": [
      "Phases: 26\n"
     ]
    },
    {
     "name": "stderr",
     "output_type": "stream",
     "text": [
      "  6% (33366 of 479933) |#                | Elapsed Time: 0:03:10 ETA:   1:09:13"
     ]
    },
    {
     "name": "stdout",
     "output_type": "stream",
     "text": [
      "Phases: 27\n"
     ]
    },
    {
     "name": "stderr",
     "output_type": "stream",
     "text": [
      "  7% (34738 of 479933) |#                | Elapsed Time: 0:03:17 ETA:   1:06:27"
     ]
    },
    {
     "name": "stdout",
     "output_type": "stream",
     "text": [
      "Phases: 28\n"
     ]
    },
    {
     "name": "stderr",
     "output_type": "stream",
     "text": [
      "  7% (35915 of 479933) |#                | Elapsed Time: 0:03:24 ETA:   1:15:55"
     ]
    },
    {
     "name": "stdout",
     "output_type": "stream",
     "text": [
      "Phases: 29\n"
     ]
    },
    {
     "name": "stderr",
     "output_type": "stream",
     "text": [
      "  7% (37802 of 479933) |#                | Elapsed Time: 0:03:34 ETA:   1:12:50"
     ]
    },
    {
     "name": "stdout",
     "output_type": "stream",
     "text": [
      "Phases: 30\n"
     ]
    },
    {
     "name": "stderr",
     "output_type": "stream",
     "text": [
      "  8% (38922 of 479933) |#                | Elapsed Time: 0:03:40 ETA:   1:04:20"
     ]
    },
    {
     "name": "stdout",
     "output_type": "stream",
     "text": [
      "Phases: 31\n"
     ]
    },
    {
     "name": "stderr",
     "output_type": "stream",
     "text": [
      "  8% (40299 of 479933) |#                | Elapsed Time: 0:03:48 ETA:   1:10:03"
     ]
    },
    {
     "name": "stdout",
     "output_type": "stream",
     "text": [
      "Phases: 32\n"
     ]
    },
    {
     "name": "stderr",
     "output_type": "stream",
     "text": [
      "  8% (41382 of 479933) |#                | Elapsed Time: 0:03:54 ETA:   1:09:40"
     ]
    },
    {
     "name": "stdout",
     "output_type": "stream",
     "text": [
      "Phases: 33\n"
     ]
    },
    {
     "name": "stderr",
     "output_type": "stream",
     "text": [
      "  8% (42730 of 479933) |#                | Elapsed Time: 0:04:02 ETA:   1:06:11"
     ]
    },
    {
     "name": "stdout",
     "output_type": "stream",
     "text": [
      "Phases: 34\n"
     ]
    },
    {
     "name": "stderr",
     "output_type": "stream",
     "text": [
      "  9% (43792 of 479933) |#                | Elapsed Time: 0:04:08 ETA:   1:04:21"
     ]
    },
    {
     "name": "stdout",
     "output_type": "stream",
     "text": [
      "Phases: 35\n"
     ]
    },
    {
     "name": "stderr",
     "output_type": "stream",
     "text": [
      "  9% (45053 of 479933) |#                | Elapsed Time: 0:04:15 ETA:   1:08:14"
     ]
    },
    {
     "name": "stdout",
     "output_type": "stream",
     "text": [
      "Phases: 36\n"
     ]
    },
    {
     "name": "stderr",
     "output_type": "stream",
     "text": [
      "  9% (46175 of 479933) |#                | Elapsed Time: 0:04:22 ETA:   1:06:50"
     ]
    },
    {
     "name": "stdout",
     "output_type": "stream",
     "text": [
      "Phases: 37\n"
     ]
    },
    {
     "name": "stderr",
     "output_type": "stream",
     "text": [
      "  9% (47510 of 479933) |#                | Elapsed Time: 0:04:29 ETA:   1:09:26"
     ]
    },
    {
     "name": "stdout",
     "output_type": "stream",
     "text": [
      "Phases: 38\n"
     ]
    },
    {
     "name": "stderr",
     "output_type": "stream",
     "text": [
      " 10% (48694 of 479933) |#                | Elapsed Time: 0:04:36 ETA:   1:04:22"
     ]
    },
    {
     "name": "stdout",
     "output_type": "stream",
     "text": [
      "Phases: 39\n"
     ]
    },
    {
     "name": "stderr",
     "output_type": "stream",
     "text": [
      " 10% (50601 of 479933) |#                | Elapsed Time: 0:04:46 ETA:   1:14:13"
     ]
    },
    {
     "name": "stdout",
     "output_type": "stream",
     "text": [
      "Phases: 40\n"
     ]
    },
    {
     "name": "stderr",
     "output_type": "stream",
     "text": [
      " 10% (51629 of 479933) |#                | Elapsed Time: 0:04:52 ETA:   1:08:26"
     ]
    },
    {
     "name": "stdout",
     "output_type": "stream",
     "text": [
      "Phases: 41\n"
     ]
    },
    {
     "name": "stderr",
     "output_type": "stream",
     "text": [
      " 11% (53044 of 479933) |#                | Elapsed Time: 0:05:00 ETA:   1:03:34"
     ]
    },
    {
     "name": "stdout",
     "output_type": "stream",
     "text": [
      "Phases: 42\n"
     ]
    },
    {
     "name": "stderr",
     "output_type": "stream",
     "text": [
      " 11% (54146 of 479933) |#                | Elapsed Time: 0:05:06 ETA:   1:06:16"
     ]
    },
    {
     "name": "stdout",
     "output_type": "stream",
     "text": [
      "Phases: 43\n"
     ]
    },
    {
     "name": "stderr",
     "output_type": "stream",
     "text": [
      " 11% (55508 of 479933) |#                | Elapsed Time: 0:05:14 ETA:   1:08:19"
     ]
    },
    {
     "name": "stdout",
     "output_type": "stream",
     "text": [
      "Phases: 44\n"
     ]
    },
    {
     "name": "stderr",
     "output_type": "stream",
     "text": [
      " 11% (56482 of 479933) |##               | Elapsed Time: 0:05:20 ETA:   1:06:58"
     ]
    },
    {
     "name": "stdout",
     "output_type": "stream",
     "text": [
      "Phases: 45\n"
     ]
    },
    {
     "name": "stderr",
     "output_type": "stream",
     "text": [
      " 12% (57717 of 479933) |##               | Elapsed Time: 0:05:27 ETA:   1:02:48"
     ]
    },
    {
     "name": "stdout",
     "output_type": "stream",
     "text": [
      "Phases: 46\n"
     ]
    },
    {
     "name": "stderr",
     "output_type": "stream",
     "text": [
      " 12% (58738 of 479933) |##               | Elapsed Time: 0:05:33 ETA:   1:03:54"
     ]
    },
    {
     "name": "stdout",
     "output_type": "stream",
     "text": [
      "Phases: 47\n"
     ]
    },
    {
     "name": "stderr",
     "output_type": "stream",
     "text": [
      " 12% (59974 of 479933) |##               | Elapsed Time: 0:05:40 ETA:   1:05:13"
     ]
    },
    {
     "name": "stdout",
     "output_type": "stream",
     "text": [
      "Phases: 48\n"
     ]
    },
    {
     "name": "stderr",
     "output_type": "stream",
     "text": [
      " 12% (61033 of 479933) |##               | Elapsed Time: 0:05:46 ETA:   1:04:02"
     ]
    },
    {
     "name": "stdout",
     "output_type": "stream",
     "text": [
      "Phases: 49\n"
     ]
    },
    {
     "name": "stderr",
     "output_type": "stream",
     "text": [
      " 12% (62333 of 479933) |##               | Elapsed Time: 0:05:53 ETA:   1:08:12"
     ]
    },
    {
     "name": "stdout",
     "output_type": "stream",
     "text": [
      "Phases: 50\n"
     ]
    },
    {
     "name": "stderr",
     "output_type": "stream",
     "text": [
      " 13% (63833 of 479933) |##               | Elapsed Time: 0:06:01 ETA:   1:02:26"
     ]
    },
    {
     "name": "stdout",
     "output_type": "stream",
     "text": [
      "Phases: 51\n"
     ]
    },
    {
     "name": "stderr",
     "output_type": "stream",
     "text": [
      " 13% (65205 of 479933) |##               | Elapsed Time: 0:06:09 ETA:   1:02:28"
     ]
    },
    {
     "name": "stdout",
     "output_type": "stream",
     "text": [
      "Phases: 52\n"
     ]
    },
    {
     "name": "stderr",
     "output_type": "stream",
     "text": [
      " 13% (66239 of 479933) |##               | Elapsed Time: 0:06:15 ETA:   1:04:21"
     ]
    },
    {
     "name": "stdout",
     "output_type": "stream",
     "text": [
      "Phases: 53\n"
     ]
    },
    {
     "name": "stderr",
     "output_type": "stream",
     "text": [
      " 14% (67490 of 479933) |##               | Elapsed Time: 0:06:22 ETA:   1:05:39"
     ]
    },
    {
     "name": "stdout",
     "output_type": "stream",
     "text": [
      "Phases: 54\n"
     ]
    },
    {
     "name": "stderr",
     "output_type": "stream",
     "text": [
      " 14% (68517 of 479933) |##               | Elapsed Time: 0:06:28 ETA:   1:02:54"
     ]
    },
    {
     "name": "stdout",
     "output_type": "stream",
     "text": [
      "Phases: 55\n"
     ]
    },
    {
     "name": "stderr",
     "output_type": "stream",
     "text": [
      " 14% (69760 of 479933) |##               | Elapsed Time: 0:06:35 ETA:   1:05:29"
     ]
    },
    {
     "name": "stdout",
     "output_type": "stream",
     "text": [
      "Phases: 56\n"
     ]
    },
    {
     "name": "stderr",
     "output_type": "stream",
     "text": [
      " 14% (70777 of 479933) |##               | Elapsed Time: 0:06:41 ETA:   0:57:42"
     ]
    },
    {
     "name": "stdout",
     "output_type": "stream",
     "text": [
      "Phases: 57\n"
     ]
    },
    {
     "name": "stderr",
     "output_type": "stream",
     "text": [
      " 15% (72018 of 479933) |##               | Elapsed Time: 0:06:48 ETA:   1:02:22"
     ]
    },
    {
     "name": "stdout",
     "output_type": "stream",
     "text": [
      "Phases: 58\n"
     ]
    },
    {
     "name": "stderr",
     "output_type": "stream",
     "text": [
      " 15% (73097 of 479933) |##               | Elapsed Time: 0:06:55 ETA:   1:04:56"
     ]
    },
    {
     "name": "stdout",
     "output_type": "stream",
     "text": [
      "Phases: 59\n"
     ]
    },
    {
     "name": "stderr",
     "output_type": "stream",
     "text": [
      " 15% (74410 of 479933) |##               | Elapsed Time: 0:07:02 ETA:   0:51:10"
     ]
    },
    {
     "name": "stdout",
     "output_type": "stream",
     "text": [
      "Phases: 60\n",
      "Subject 3 windowed. Time elapsed: 0:07:06\n",
      "\n",
      "Swing Onset at sample 6324\n"
     ]
    },
    {
     "name": "stderr",
     "output_type": "stream",
     "text": [
      "  0% (7 of 480077) |                     | Elapsed Time: 0:00:00 ETA:   1:58:04"
     ]
    },
    {
     "name": "stdout",
     "output_type": "stream",
     "text": [
      "Subject 4 rows: 486600\n"
     ]
    },
    {
     "name": "stderr",
     "output_type": "stream",
     "text": [
      "  0% (1587 of 480077) |                  | Elapsed Time: 0:00:08 ETA:   1:16:41"
     ]
    },
    {
     "name": "stdout",
     "output_type": "stream",
     "text": [
      "Phases: 1\n"
     ]
    },
    {
     "name": "stderr",
     "output_type": "stream",
     "text": [
      "  0% (2246 of 480077) |                  | Elapsed Time: 0:00:13 ETA:   1:15:39"
     ]
    },
    {
     "name": "stdout",
     "output_type": "stream",
     "text": [
      "Phases: 2\n"
     ]
    },
    {
     "name": "stderr",
     "output_type": "stream",
     "text": [
      "  0% (3658 of 480077) |                  | Elapsed Time: 0:00:20 ETA:   1:13:17"
     ]
    },
    {
     "name": "stdout",
     "output_type": "stream",
     "text": [
      "Phases: 3\n"
     ]
    },
    {
     "name": "stderr",
     "output_type": "stream",
     "text": [
      "  0% (4297 of 480077) |                  | Elapsed Time: 0:00:25 ETA:   1:13:36"
     ]
    },
    {
     "name": "stdout",
     "output_type": "stream",
     "text": [
      "Phases: 4\n"
     ]
    },
    {
     "name": "stderr",
     "output_type": "stream",
     "text": [
      "  1% (5740 of 480077) |                  | Elapsed Time: 0:00:33 ETA:   1:13:33"
     ]
    },
    {
     "name": "stdout",
     "output_type": "stream",
     "text": [
      "Phases: 5\n"
     ]
    },
    {
     "name": "stderr",
     "output_type": "stream",
     "text": [
      "  1% (6318 of 480077) |                  | Elapsed Time: 0:00:37 ETA:   1:14:15"
     ]
    },
    {
     "name": "stdout",
     "output_type": "stream",
     "text": [
      "Phases: 6\n"
     ]
    },
    {
     "name": "stderr",
     "output_type": "stream",
     "text": [
      "  1% (7920 of 480077) |                  | Elapsed Time: 0:00:45 ETA:   1:10:29"
     ]
    },
    {
     "name": "stdout",
     "output_type": "stream",
     "text": [
      "Phases: 7\n"
     ]
    },
    {
     "name": "stderr",
     "output_type": "stream",
     "text": [
      "  1% (8402 of 480077) |                  | Elapsed Time: 0:00:49 ETA:   1:11:08"
     ]
    },
    {
     "name": "stdout",
     "output_type": "stream",
     "text": [
      "Phases: 8\n"
     ]
    },
    {
     "name": "stderr",
     "output_type": "stream",
     "text": [
      "  2% (9945 of 480077) |                  | Elapsed Time: 0:00:58 ETA:   1:11:52"
     ]
    },
    {
     "name": "stdout",
     "output_type": "stream",
     "text": [
      "Phases: 9\n"
     ]
    },
    {
     "name": "stderr",
     "output_type": "stream",
     "text": [
      "  2% (10520 of 480077) |                 | Elapsed Time: 0:01:02 ETA:   1:12:06"
     ]
    },
    {
     "name": "stdout",
     "output_type": "stream",
     "text": [
      "Phases: 10\n"
     ]
    },
    {
     "name": "stderr",
     "output_type": "stream",
     "text": [
      "  2% (12327 of 480077) |                 | Elapsed Time: 0:01:11 ETA:   1:11:12"
     ]
    },
    {
     "name": "stdout",
     "output_type": "stream",
     "text": [
      "Phases: 11\n"
     ]
    },
    {
     "name": "stderr",
     "output_type": "stream",
     "text": [
      "  2% (12752 of 480077) |                 | Elapsed Time: 0:01:15 ETA:   1:13:09"
     ]
    },
    {
     "name": "stdout",
     "output_type": "stream",
     "text": [
      "Phases: 12\n"
     ]
    },
    {
     "name": "stderr",
     "output_type": "stream",
     "text": [
      "  2% (14118 of 480077) |                 | Elapsed Time: 0:01:22 ETA:   1:11:17"
     ]
    },
    {
     "name": "stdout",
     "output_type": "stream",
     "text": [
      "Phases: 13\n"
     ]
    },
    {
     "name": "stderr",
     "output_type": "stream",
     "text": [
      "  3% (14800 of 480077) |                 | Elapsed Time: 0:01:27 ETA:   1:06:02"
     ]
    },
    {
     "name": "stdout",
     "output_type": "stream",
     "text": [
      "Phases: 14\n"
     ]
    },
    {
     "name": "stderr",
     "output_type": "stream",
     "text": [
      "  3% (16509 of 480077) |                 | Elapsed Time: 0:01:36 ETA:   1:08:36"
     ]
    },
    {
     "name": "stdout",
     "output_type": "stream",
     "text": [
      "Phases: 15\n"
     ]
    },
    {
     "name": "stderr",
     "output_type": "stream",
     "text": [
      "  3% (16863 of 480077) |                 | Elapsed Time: 0:01:39 ETA:   1:13:37"
     ]
    },
    {
     "name": "stdout",
     "output_type": "stream",
     "text": [
      "Phases: 16\n"
     ]
    },
    {
     "name": "stderr",
     "output_type": "stream",
     "text": [
      "  3% (18367 of 480077) |                 | Elapsed Time: 0:01:47 ETA:   1:07:25"
     ]
    },
    {
     "name": "stdout",
     "output_type": "stream",
     "text": [
      "Phases: 17\n"
     ]
    },
    {
     "name": "stderr",
     "output_type": "stream",
     "text": [
      "  3% (18900 of 480077) |                 | Elapsed Time: 0:01:51 ETA:   1:09:40"
     ]
    },
    {
     "name": "stdout",
     "output_type": "stream",
     "text": [
      "Phases: 18\n"
     ]
    },
    {
     "name": "stderr",
     "output_type": "stream",
     "text": [
      "  4% (20387 of 480077) |                 | Elapsed Time: 0:01:59 ETA:   1:10:38"
     ]
    },
    {
     "name": "stdout",
     "output_type": "stream",
     "text": [
      "Phases: 19\n"
     ]
    },
    {
     "name": "stderr",
     "output_type": "stream",
     "text": [
      "  4% (20967 of 480077) |                 | Elapsed Time: 0:02:04 ETA:   1:12:02"
     ]
    },
    {
     "name": "stdout",
     "output_type": "stream",
     "text": [
      "Phases: 20\n"
     ]
    },
    {
     "name": "stderr",
     "output_type": "stream",
     "text": [
      "  4% (22261 of 480077) |                 | Elapsed Time: 0:02:11 ETA:   1:13:12"
     ]
    },
    {
     "name": "stdout",
     "output_type": "stream",
     "text": [
      "Phases: 21\n"
     ]
    },
    {
     "name": "stderr",
     "output_type": "stream",
     "text": [
      "  4% (23151 of 480077) |                 | Elapsed Time: 0:02:16 ETA:   1:08:18"
     ]
    },
    {
     "name": "stdout",
     "output_type": "stream",
     "text": [
      "Phases: 22\n"
     ]
    },
    {
     "name": "stderr",
     "output_type": "stream",
     "text": [
      "  5% (24448 of 480077) |                 | Elapsed Time: 0:02:24 ETA:   1:14:34"
     ]
    },
    {
     "name": "stdout",
     "output_type": "stream",
     "text": [
      "Phases: 23\n"
     ]
    },
    {
     "name": "stderr",
     "output_type": "stream",
     "text": [
      "  5% (25237 of 480077) |                 | Elapsed Time: 0:02:29 ETA:   1:09:12"
     ]
    },
    {
     "name": "stdout",
     "output_type": "stream",
     "text": [
      "Phases: 24\n"
     ]
    },
    {
     "name": "stderr",
     "output_type": "stream",
     "text": [
      "  5% (26612 of 480077) |                 | Elapsed Time: 0:02:36 ETA:   1:07:52"
     ]
    },
    {
     "name": "stdout",
     "output_type": "stream",
     "text": [
      "Phases: 25\n"
     ]
    },
    {
     "name": "stderr",
     "output_type": "stream",
     "text": [
      "  5% (27294 of 480077) |                 | Elapsed Time: 0:02:41 ETA:   1:06:34"
     ]
    },
    {
     "name": "stdout",
     "output_type": "stream",
     "text": [
      "Phases: 26\n"
     ]
    },
    {
     "name": "stderr",
     "output_type": "stream",
     "text": [
      "  6% (28864 of 480077) |#                | Elapsed Time: 0:02:49 ETA:   1:08:20"
     ]
    },
    {
     "name": "stdout",
     "output_type": "stream",
     "text": [
      "Phases: 27\n"
     ]
    },
    {
     "name": "stderr",
     "output_type": "stream",
     "text": [
      "  6% (29354 of 480077) |#                | Elapsed Time: 0:02:53 ETA:   1:09:22"
     ]
    },
    {
     "name": "stdout",
     "output_type": "stream",
     "text": [
      "Phases: 28\n"
     ]
    },
    {
     "name": "stderr",
     "output_type": "stream",
     "text": [
      "  6% (30627 of 480077) |#                | Elapsed Time: 0:03:00 ETA:   1:10:12"
     ]
    },
    {
     "name": "stdout",
     "output_type": "stream",
     "text": [
      "Phases: 29\n"
     ]
    },
    {
     "name": "stderr",
     "output_type": "stream",
     "text": [
      "  6% (31504 of 480077) |#                | Elapsed Time: 0:03:06 ETA:   1:03:31"
     ]
    },
    {
     "name": "stdout",
     "output_type": "stream",
     "text": [
      "Phases: 30\n"
     ]
    },
    {
     "name": "stderr",
     "output_type": "stream",
     "text": [
      "  6% (33000 of 480077) |#                | Elapsed Time: 0:03:14 ETA:   1:10:37"
     ]
    },
    {
     "name": "stdout",
     "output_type": "stream",
     "text": [
      "Phases: 31\n"
     ]
    },
    {
     "name": "stderr",
     "output_type": "stream",
     "text": [
      "  7% (33900 of 480077) |#                | Elapsed Time: 0:03:19 ETA:   1:08:23"
     ]
    },
    {
     "name": "stdout",
     "output_type": "stream",
     "text": [
      "Phases: 32\n"
     ]
    },
    {
     "name": "stderr",
     "output_type": "stream",
     "text": [
      "  7% (35545 of 480077) |#                | Elapsed Time: 0:03:28 ETA:   1:08:20"
     ]
    },
    {
     "name": "stdout",
     "output_type": "stream",
     "text": [
      "Phases: 33\n"
     ]
    },
    {
     "name": "stderr",
     "output_type": "stream",
     "text": [
      "  7% (36134 of 480077) |#                | Elapsed Time: 0:03:32 ETA:   1:04:30"
     ]
    },
    {
     "name": "stdout",
     "output_type": "stream",
     "text": [
      "Phases: 34\n"
     ]
    },
    {
     "name": "stderr",
     "output_type": "stream",
     "text": [
      "  7% (37723 of 480077) |#                | Elapsed Time: 0:03:41 ETA:   1:04:24"
     ]
    },
    {
     "name": "stdout",
     "output_type": "stream",
     "text": [
      "Phases: 35\n"
     ]
    },
    {
     "name": "stderr",
     "output_type": "stream",
     "text": [
      "  7% (38217 of 480077) |#                | Elapsed Time: 0:03:45 ETA:   1:04:47"
     ]
    },
    {
     "name": "stdout",
     "output_type": "stream",
     "text": [
      "Phases: 36\n"
     ]
    },
    {
     "name": "stderr",
     "output_type": "stream",
     "text": [
      "  8% (39746 of 480077) |#                | Elapsed Time: 0:03:53 ETA:   1:08:41"
     ]
    },
    {
     "name": "stdout",
     "output_type": "stream",
     "text": [
      "Phases: 37\n"
     ]
    },
    {
     "name": "stderr",
     "output_type": "stream",
     "text": [
      "  8% (40305 of 480077) |#                | Elapsed Time: 0:03:57 ETA:   1:03:47"
     ]
    },
    {
     "name": "stdout",
     "output_type": "stream",
     "text": [
      "Phases: 38\n"
     ]
    },
    {
     "name": "stderr",
     "output_type": "stream",
     "text": [
      "  8% (41824 of 480077) |#                | Elapsed Time: 0:04:05 ETA:   1:04:48"
     ]
    },
    {
     "name": "stdout",
     "output_type": "stream",
     "text": [
      "Phases: 39\n"
     ]
    },
    {
     "name": "stderr",
     "output_type": "stream",
     "text": [
      "  8% (42412 of 480077) |#                | Elapsed Time: 0:04:09 ETA:   1:05:49"
     ]
    },
    {
     "name": "stdout",
     "output_type": "stream",
     "text": [
      "Phases: 40\n"
     ]
    },
    {
     "name": "stderr",
     "output_type": "stream",
     "text": [
      "  9% (44040 of 480077) |#                | Elapsed Time: 0:04:18 ETA:   1:06:49"
     ]
    },
    {
     "name": "stdout",
     "output_type": "stream",
     "text": [
      "Phases: 41\n"
     ]
    },
    {
     "name": "stderr",
     "output_type": "stream",
     "text": [
      "  9% (44703 of 480077) |#                | Elapsed Time: 0:04:23 ETA:   1:07:09"
     ]
    },
    {
     "name": "stdout",
     "output_type": "stream",
     "text": [
      "Phases: 42\n"
     ]
    },
    {
     "name": "stderr",
     "output_type": "stream",
     "text": [
      "  9% (46160 of 480077) |#                | Elapsed Time: 0:04:30 ETA:   1:08:22"
     ]
    },
    {
     "name": "stdout",
     "output_type": "stream",
     "text": [
      "Phases: 43\n"
     ]
    },
    {
     "name": "stderr",
     "output_type": "stream",
     "text": [
      "  9% (46966 of 480077) |#                | Elapsed Time: 0:04:36 ETA:   1:07:26"
     ]
    },
    {
     "name": "stdout",
     "output_type": "stream",
     "text": [
      "Phases: 44\n"
     ]
    },
    {
     "name": "stderr",
     "output_type": "stream",
     "text": [
      " 10% (48312 of 480077) |#                | Elapsed Time: 0:04:43 ETA:   1:01:51"
     ]
    },
    {
     "name": "stdout",
     "output_type": "stream",
     "text": [
      "Phases: 45\n"
     ]
    },
    {
     "name": "stderr",
     "output_type": "stream",
     "text": [
      " 10% (49031 of 480077) |#                | Elapsed Time: 0:04:48 ETA:   1:12:04"
     ]
    },
    {
     "name": "stdout",
     "output_type": "stream",
     "text": [
      "Phases: 46\n"
     ]
    },
    {
     "name": "stderr",
     "output_type": "stream",
     "text": [
      " 10% (50739 of 480077) |#                | Elapsed Time: 0:04:57 ETA:   1:02:35"
     ]
    },
    {
     "name": "stdout",
     "output_type": "stream",
     "text": [
      "Phases: 47\n"
     ]
    },
    {
     "name": "stderr",
     "output_type": "stream",
     "text": [
      " 10% (51104 of 480077) |#                | Elapsed Time: 0:05:00 ETA:   1:09:20"
     ]
    },
    {
     "name": "stdout",
     "output_type": "stream",
     "text": [
      "Phases: 48\n"
     ]
    },
    {
     "name": "stderr",
     "output_type": "stream",
     "text": [
      " 10% (52431 of 480077) |#                | Elapsed Time: 0:05:07 ETA:   1:04:37"
     ]
    },
    {
     "name": "stdout",
     "output_type": "stream",
     "text": [
      "Phases: 49\n"
     ]
    },
    {
     "name": "stderr",
     "output_type": "stream",
     "text": [
      " 11% (53178 of 480077) |#                | Elapsed Time: 0:05:12 ETA:   1:06:12"
     ]
    },
    {
     "name": "stdout",
     "output_type": "stream",
     "text": [
      "Phases: 50\n"
     ]
    },
    {
     "name": "stderr",
     "output_type": "stream",
     "text": [
      " 11% (54835 of 480077) |#                | Elapsed Time: 0:05:21 ETA:   1:12:30"
     ]
    },
    {
     "name": "stdout",
     "output_type": "stream",
     "text": [
      "Phases: 51\n"
     ]
    },
    {
     "name": "stderr",
     "output_type": "stream",
     "text": [
      " 11% (55345 of 480077) |#                | Elapsed Time: 0:05:25 ETA:   1:18:37"
     ]
    },
    {
     "name": "stdout",
     "output_type": "stream",
     "text": [
      "Phases: 52\n"
     ]
    },
    {
     "name": "stderr",
     "output_type": "stream",
     "text": [
      " 11% (56789 of 480077) |##               | Elapsed Time: 0:05:33 ETA:   1:11:35"
     ]
    },
    {
     "name": "stdout",
     "output_type": "stream",
     "text": [
      "Phases: 53\n"
     ]
    },
    {
     "name": "stderr",
     "output_type": "stream",
     "text": [
      " 11% (57340 of 480077) |##               | Elapsed Time: 0:05:38 ETA:   1:15:40"
     ]
    },
    {
     "name": "stdout",
     "output_type": "stream",
     "text": [
      "Phases: 54\n"
     ]
    },
    {
     "name": "stderr",
     "output_type": "stream",
     "text": [
      " 12% (59145 of 480077) |##               | Elapsed Time: 0:05:47 ETA:   1:13:54"
     ]
    },
    {
     "name": "stdout",
     "output_type": "stream",
     "text": [
      "Phases: 55\n"
     ]
    },
    {
     "name": "stderr",
     "output_type": "stream",
     "text": [
      " 12% (59606 of 480077) |##               | Elapsed Time: 0:05:51 ETA:   1:14:56"
     ]
    },
    {
     "name": "stdout",
     "output_type": "stream",
     "text": [
      "Phases: 56\n"
     ]
    },
    {
     "name": "stderr",
     "output_type": "stream",
     "text": [
      " 12% (61252 of 480077) |##               | Elapsed Time: 0:06:01 ETA:   1:16:31"
     ]
    },
    {
     "name": "stdout",
     "output_type": "stream",
     "text": [
      "Phases: 57\n"
     ]
    },
    {
     "name": "stderr",
     "output_type": "stream",
     "text": [
      " 12% (61644 of 480077) |##               | Elapsed Time: 0:06:05 ETA:   1:10:06"
     ]
    },
    {
     "name": "stdout",
     "output_type": "stream",
     "text": [
      "Phases: 58\n"
     ]
    },
    {
     "name": "stderr",
     "output_type": "stream",
     "text": [
      " 13% (63124 of 480077) |##               | Elapsed Time: 0:06:14 ETA:   2:02:21"
     ]
    },
    {
     "name": "stdout",
     "output_type": "stream",
     "text": [
      "Phases: 59\n"
     ]
    },
    {
     "name": "stderr",
     "output_type": "stream",
     "text": [
      " 13% (63745 of 480077) |##               | Elapsed Time: 0:06:19 ETA:   1:03:24"
     ]
    },
    {
     "name": "stdout",
     "output_type": "stream",
     "text": [
      "Phases: 60\n",
      "Subject 4 windowed. Time elapsed: 0:06:23\n",
      "\n",
      "Swing Onset at sample 3763\n"
     ]
    },
    {
     "name": "stderr",
     "output_type": "stream",
     "text": [
      "  0% (24 of 482638) |                    | Elapsed Time: 0:00:00 ETA:   0:34:44"
     ]
    },
    {
     "name": "stdout",
     "output_type": "stream",
     "text": [
      "Subject 5 rows: 486600\n"
     ]
    },
    {
     "name": "stderr",
     "output_type": "stream",
     "text": [
      "  0% (958 of 482638) |                   | Elapsed Time: 0:00:05 ETA:   1:21:21"
     ]
    },
    {
     "name": "stdout",
     "output_type": "stream",
     "text": [
      "Phases: 1\n"
     ]
    },
    {
     "name": "stderr",
     "output_type": "stream",
     "text": [
      "  0% (2211 of 482638) |                  | Elapsed Time: 0:00:12 ETA:   1:15:59"
     ]
    },
    {
     "name": "stdout",
     "output_type": "stream",
     "text": [
      "Phases: 2\n"
     ]
    },
    {
     "name": "stderr",
     "output_type": "stream",
     "text": [
      "  0% (3362 of 482638) |                  | Elapsed Time: 0:00:19 ETA:   1:27:39"
     ]
    },
    {
     "name": "stdout",
     "output_type": "stream",
     "text": [
      "Phases: 3\n"
     ]
    },
    {
     "name": "stderr",
     "output_type": "stream",
     "text": [
      "  0% (4154 of 482638) |                  | Elapsed Time: 0:00:24 ETA:   1:29:51"
     ]
    },
    {
     "name": "stdout",
     "output_type": "stream",
     "text": [
      "Phases: 4\n"
     ]
    },
    {
     "name": "stderr",
     "output_type": "stream",
     "text": [
      "  1% (5672 of 482638) |                  | Elapsed Time: 0:00:33 ETA:   1:16:56"
     ]
    },
    {
     "name": "stdout",
     "output_type": "stream",
     "text": [
      "Phases: 5\n"
     ]
    },
    {
     "name": "stderr",
     "output_type": "stream",
     "text": [
      "  1% (6654 of 482638) |                  | Elapsed Time: 0:00:39 ETA:   1:36:45"
     ]
    },
    {
     "name": "stdout",
     "output_type": "stream",
     "text": [
      "Phases: 6\n"
     ]
    },
    {
     "name": "stderr",
     "output_type": "stream",
     "text": [
      "  1% (7818 of 482638) |                  | Elapsed Time: 0:00:46 ETA:   1:25:16"
     ]
    },
    {
     "name": "stdout",
     "output_type": "stream",
     "text": [
      "Phases: 7\n"
     ]
    },
    {
     "name": "stderr",
     "output_type": "stream",
     "text": [
      "  1% (8625 of 482638) |                  | Elapsed Time: 0:00:51 ETA:   1:14:32"
     ]
    },
    {
     "name": "stdout",
     "output_type": "stream",
     "text": [
      "Phases: 8\n"
     ]
    },
    {
     "name": "stderr",
     "output_type": "stream",
     "text": [
      "  2% (9993 of 482638) |                  | Elapsed Time: 0:00:59 ETA:   1:09:05"
     ]
    },
    {
     "name": "stdout",
     "output_type": "stream",
     "text": [
      "Phases: 9\n"
     ]
    },
    {
     "name": "stderr",
     "output_type": "stream",
     "text": [
      "  2% (11020 of 482638) |                 | Elapsed Time: 0:01:05 ETA:   1:23:12"
     ]
    },
    {
     "name": "stdout",
     "output_type": "stream",
     "text": [
      "Phases: 10\n"
     ]
    },
    {
     "name": "stderr",
     "output_type": "stream",
     "text": [
      "  2% (12232 of 482638) |                 | Elapsed Time: 0:01:12 ETA:   1:23:13"
     ]
    },
    {
     "name": "stdout",
     "output_type": "stream",
     "text": [
      "Phases: 11\n"
     ]
    },
    {
     "name": "stderr",
     "output_type": "stream",
     "text": [
      "  2% (12950 of 482638) |                 | Elapsed Time: 0:01:18 ETA:   1:31:36"
     ]
    },
    {
     "name": "stdout",
     "output_type": "stream",
     "text": [
      "Phases: 12\n"
     ]
    },
    {
     "name": "stderr",
     "output_type": "stream",
     "text": [
      "  2% (14375 of 482638) |                 | Elapsed Time: 0:01:26 ETA:   1:27:13"
     ]
    },
    {
     "name": "stdout",
     "output_type": "stream",
     "text": [
      "Phases: 13\n"
     ]
    },
    {
     "name": "stderr",
     "output_type": "stream",
     "text": [
      "  3% (15120 of 482638) |                 | Elapsed Time: 0:01:31 ETA:   1:24:26"
     ]
    },
    {
     "name": "stdout",
     "output_type": "stream",
     "text": [
      "Phases: 14\n"
     ]
    },
    {
     "name": "stderr",
     "output_type": "stream",
     "text": [
      "  3% (16489 of 482638) |                 | Elapsed Time: 0:01:39 ETA:   1:12:34"
     ]
    },
    {
     "name": "stdout",
     "output_type": "stream",
     "text": [
      "Phases: 15\n"
     ]
    },
    {
     "name": "stderr",
     "output_type": "stream",
     "text": [
      "  3% (17522 of 482638) |                 | Elapsed Time: 0:01:46 ETA:   1:14:31"
     ]
    },
    {
     "name": "stdout",
     "output_type": "stream",
     "text": [
      "Phases: 16\n"
     ]
    },
    {
     "name": "stderr",
     "output_type": "stream",
     "text": [
      "  3% (18568 of 482638) |                 | Elapsed Time: 0:01:52 ETA:   1:05:34"
     ]
    },
    {
     "name": "stdout",
     "output_type": "stream",
     "text": [
      "Phases: 17\n"
     ]
    },
    {
     "name": "stderr",
     "output_type": "stream",
     "text": [
      "  4% (19571 of 482638) |                 | Elapsed Time: 0:01:58 ETA:   1:25:29"
     ]
    },
    {
     "name": "stdout",
     "output_type": "stream",
     "text": [
      "Phases: 18\n"
     ]
    },
    {
     "name": "stderr",
     "output_type": "stream",
     "text": [
      "  4% (20642 of 482638) |                 | Elapsed Time: 0:02:05 ETA:   1:35:14"
     ]
    },
    {
     "name": "stdout",
     "output_type": "stream",
     "text": [
      "Phases: 19\n"
     ]
    },
    {
     "name": "stderr",
     "output_type": "stream",
     "text": [
      "  4% (21679 of 482638) |                 | Elapsed Time: 0:02:12 ETA:   1:20:41"
     ]
    },
    {
     "name": "stdout",
     "output_type": "stream",
     "text": [
      "Phases: 20\n"
     ]
    },
    {
     "name": "stderr",
     "output_type": "stream",
     "text": [
      "  4% (22726 of 482638) |                 | Elapsed Time: 0:02:19 ETA:   1:46:40"
     ]
    },
    {
     "name": "stdout",
     "output_type": "stream",
     "text": [
      "Phases: 21\n"
     ]
    },
    {
     "name": "stderr",
     "output_type": "stream",
     "text": [
      "  4% (23874 of 482638) |                 | Elapsed Time: 0:02:27 ETA:   1:53:52"
     ]
    },
    {
     "name": "stdout",
     "output_type": "stream",
     "text": [
      "Phases: 22\n"
     ]
    },
    {
     "name": "stderr",
     "output_type": "stream",
     "text": [
      "  5% (24796 of 482638) |                 | Elapsed Time: 0:02:34 ETA:   1:24:20"
     ]
    },
    {
     "name": "stdout",
     "output_type": "stream",
     "text": [
      "Phases: 23\n"
     ]
    },
    {
     "name": "stderr",
     "output_type": "stream",
     "text": [
      "  5% (25929 of 482638) |                 | Elapsed Time: 0:02:41 ETA:   1:19:33"
     ]
    },
    {
     "name": "stdout",
     "output_type": "stream",
     "text": [
      "Phases: 24\n"
     ]
    },
    {
     "name": "stderr",
     "output_type": "stream",
     "text": [
      "  5% (26913 of 482638) |                 | Elapsed Time: 0:02:47 ETA:   1:23:52"
     ]
    },
    {
     "name": "stdout",
     "output_type": "stream",
     "text": [
      "Phases: 25\n"
     ]
    },
    {
     "name": "stderr",
     "output_type": "stream",
     "text": [
      "  5% (27898 of 482638) |                 | Elapsed Time: 0:02:54 ETA:   1:20:04"
     ]
    },
    {
     "name": "stdout",
     "output_type": "stream",
     "text": [
      "Phases: 26\n"
     ]
    },
    {
     "name": "stderr",
     "output_type": "stream",
     "text": [
      "  6% (29010 of 482638) |#                | Elapsed Time: 0:03:01 ETA:   1:22:24"
     ]
    },
    {
     "name": "stdout",
     "output_type": "stream",
     "text": [
      "Phases: 27\n"
     ]
    },
    {
     "name": "stderr",
     "output_type": "stream",
     "text": [
      "  6% (30008 of 482638) |#                | Elapsed Time: 0:03:07 ETA:   1:16:09"
     ]
    },
    {
     "name": "stdout",
     "output_type": "stream",
     "text": [
      "Phases: 28\n"
     ]
    },
    {
     "name": "stderr",
     "output_type": "stream",
     "text": [
      "  6% (31068 of 482638) |#                | Elapsed Time: 0:03:13 ETA:   1:09:43"
     ]
    },
    {
     "name": "stdout",
     "output_type": "stream",
     "text": [
      "Phases: 29\n"
     ]
    },
    {
     "name": "stderr",
     "output_type": "stream",
     "text": [
      "  6% (32036 of 482638) |#                | Elapsed Time: 0:03:19 ETA:   1:14:06"
     ]
    },
    {
     "name": "stdout",
     "output_type": "stream",
     "text": [
      "Phases: 30\n"
     ]
    },
    {
     "name": "stderr",
     "output_type": "stream",
     "text": [
      "  6% (33129 of 482638) |#                | Elapsed Time: 0:03:26 ETA:   1:11:25"
     ]
    },
    {
     "name": "stdout",
     "output_type": "stream",
     "text": [
      "Phases: 31\n"
     ]
    },
    {
     "name": "stderr",
     "output_type": "stream",
     "text": [
      "  7% (34011 of 482638) |#                | Elapsed Time: 0:03:31 ETA:   1:12:17"
     ]
    },
    {
     "name": "stdout",
     "output_type": "stream",
     "text": [
      "Phases: 32\n"
     ]
    },
    {
     "name": "stderr",
     "output_type": "stream",
     "text": [
      "  7% (35206 of 482638) |#                | Elapsed Time: 0:03:38 ETA:   1:09:28"
     ]
    },
    {
     "name": "stdout",
     "output_type": "stream",
     "text": [
      "Phases: 33\n"
     ]
    },
    {
     "name": "stderr",
     "output_type": "stream",
     "text": [
      "  7% (36069 of 482638) |#                | Elapsed Time: 0:03:44 ETA:   1:04:40"
     ]
    },
    {
     "name": "stdout",
     "output_type": "stream",
     "text": [
      "Phases: 34\n"
     ]
    },
    {
     "name": "stderr",
     "output_type": "stream",
     "text": [
      "  7% (37303 of 482638) |#                | Elapsed Time: 0:03:51 ETA:   1:13:37"
     ]
    },
    {
     "name": "stdout",
     "output_type": "stream",
     "text": [
      "Phases: 35\n"
     ]
    },
    {
     "name": "stderr",
     "output_type": "stream",
     "text": [
      "  7% (38094 of 482638) |#                | Elapsed Time: 0:03:56 ETA:   1:22:34"
     ]
    },
    {
     "name": "stdout",
     "output_type": "stream",
     "text": [
      "Phases: 36\n"
     ]
    },
    {
     "name": "stderr",
     "output_type": "stream",
     "text": [
      "  8% (39464 of 482638) |#                | Elapsed Time: 0:04:05 ETA:   1:27:33"
     ]
    },
    {
     "name": "stdout",
     "output_type": "stream",
     "text": [
      "Phases: 37\n"
     ]
    },
    {
     "name": "stderr",
     "output_type": "stream",
     "text": [
      "  8% (40176 of 482638) |#                | Elapsed Time: 0:04:10 ETA:   1:09:31"
     ]
    },
    {
     "name": "stdout",
     "output_type": "stream",
     "text": [
      "Phases: 38\n"
     ]
    },
    {
     "name": "stderr",
     "output_type": "stream",
     "text": [
      "  8% (41605 of 482638) |#                | Elapsed Time: 0:04:18 ETA:   1:22:50"
     ]
    },
    {
     "name": "stdout",
     "output_type": "stream",
     "text": [
      "Phases: 39\n"
     ]
    },
    {
     "name": "stderr",
     "output_type": "stream",
     "text": [
      "  8% (42579 of 482638) |#                | Elapsed Time: 0:04:24 ETA:   1:14:37"
     ]
    },
    {
     "name": "stdout",
     "output_type": "stream",
     "text": [
      "Phases: 40\n"
     ]
    },
    {
     "name": "stderr",
     "output_type": "stream",
     "text": [
      "  9% (43698 of 482638) |#                | Elapsed Time: 0:04:30 ETA:   1:04:33"
     ]
    },
    {
     "name": "stdout",
     "output_type": "stream",
     "text": [
      "Phases: 41\n"
     ]
    },
    {
     "name": "stderr",
     "output_type": "stream",
     "text": [
      "  9% (44533 of 482638) |#                | Elapsed Time: 0:04:36 ETA:   1:10:22"
     ]
    },
    {
     "name": "stdout",
     "output_type": "stream",
     "text": [
      "Phases: 42\n"
     ]
    },
    {
     "name": "stderr",
     "output_type": "stream",
     "text": [
      "  9% (45783 of 482638) |#                | Elapsed Time: 0:04:43 ETA:   1:13:03"
     ]
    },
    {
     "name": "stdout",
     "output_type": "stream",
     "text": [
      "Phases: 43\n"
     ]
    },
    {
     "name": "stderr",
     "output_type": "stream",
     "text": [
      "  9% (46741 of 482638) |#                | Elapsed Time: 0:04:49 ETA:   1:56:20"
     ]
    },
    {
     "name": "stdout",
     "output_type": "stream",
     "text": [
      "Phases: 44\n"
     ]
    },
    {
     "name": "stderr",
     "output_type": "stream",
     "text": [
      "  9% (47903 of 482638) |#                | Elapsed Time: 0:04:56 ETA:   1:07:25"
     ]
    },
    {
     "name": "stdout",
     "output_type": "stream",
     "text": [
      "Phases: 45\n"
     ]
    },
    {
     "name": "stderr",
     "output_type": "stream",
     "text": [
      " 10% (48879 of 482638) |#                | Elapsed Time: 0:05:02 ETA:   1:12:42"
     ]
    },
    {
     "name": "stdout",
     "output_type": "stream",
     "text": [
      "Phases: 46\n"
     ]
    },
    {
     "name": "stderr",
     "output_type": "stream",
     "text": [
      " 10% (49998 of 482638) |#                | Elapsed Time: 0:05:09 ETA:   1:02:28"
     ]
    },
    {
     "name": "stdout",
     "output_type": "stream",
     "text": [
      "Phases: 47\n"
     ]
    },
    {
     "name": "stderr",
     "output_type": "stream",
     "text": [
      " 10% (51177 of 482638) |#                | Elapsed Time: 0:05:16 ETA:   1:10:09"
     ]
    },
    {
     "name": "stdout",
     "output_type": "stream",
     "text": [
      "Phases: 48\n"
     ]
    },
    {
     "name": "stderr",
     "output_type": "stream",
     "text": [
      " 10% (52180 of 482638) |#                | Elapsed Time: 0:05:22 ETA:   1:11:59"
     ]
    },
    {
     "name": "stdout",
     "output_type": "stream",
     "text": [
      "Phases: 49\n"
     ]
    },
    {
     "name": "stderr",
     "output_type": "stream",
     "text": [
      " 11% (53358 of 482638) |#                | Elapsed Time: 0:05:29 ETA:   1:08:28"
     ]
    },
    {
     "name": "stdout",
     "output_type": "stream",
     "text": [
      "Phases: 50\n"
     ]
    },
    {
     "name": "stderr",
     "output_type": "stream",
     "text": [
      " 11% (54332 of 482638) |#                | Elapsed Time: 0:05:35 ETA:   1:09:29"
     ]
    },
    {
     "name": "stdout",
     "output_type": "stream",
     "text": [
      "Phases: 51\n"
     ]
    },
    {
     "name": "stderr",
     "output_type": "stream",
     "text": [
      " 11% (55415 of 482638) |#                | Elapsed Time: 0:05:42 ETA:   1:20:16"
     ]
    },
    {
     "name": "stdout",
     "output_type": "stream",
     "text": [
      "Phases: 52\n"
     ]
    },
    {
     "name": "stderr",
     "output_type": "stream",
     "text": [
      " 11% (56487 of 482638) |#                | Elapsed Time: 0:05:48 ETA:   1:09:47"
     ]
    },
    {
     "name": "stdout",
     "output_type": "stream",
     "text": [
      "Phases: 53\n"
     ]
    },
    {
     "name": "stderr",
     "output_type": "stream",
     "text": [
      " 11% (57500 of 482638) |##               | Elapsed Time: 0:05:55 ETA:   1:10:25"
     ]
    },
    {
     "name": "stdout",
     "output_type": "stream",
     "text": [
      "Phases: 54\n"
     ]
    },
    {
     "name": "stderr",
     "output_type": "stream",
     "text": [
      " 12% (58568 of 482638) |##               | Elapsed Time: 0:06:01 ETA:   1:08:32"
     ]
    },
    {
     "name": "stdout",
     "output_type": "stream",
     "text": [
      "Phases: 55\n"
     ]
    },
    {
     "name": "stderr",
     "output_type": "stream",
     "text": [
      " 12% (59540 of 482638) |##               | Elapsed Time: 0:06:07 ETA:   1:06:09"
     ]
    },
    {
     "name": "stdout",
     "output_type": "stream",
     "text": [
      "Phases: 56\n"
     ]
    },
    {
     "name": "stderr",
     "output_type": "stream",
     "text": [
      " 12% (60684 of 482638) |##               | Elapsed Time: 0:06:14 ETA:   1:04:20"
     ]
    },
    {
     "name": "stdout",
     "output_type": "stream",
     "text": [
      "Phases: 57\n"
     ]
    },
    {
     "name": "stderr",
     "output_type": "stream",
     "text": [
      " 12% (61672 of 482638) |##               | Elapsed Time: 0:06:20 ETA:   1:06:17"
     ]
    },
    {
     "name": "stdout",
     "output_type": "stream",
     "text": [
      "Phases: 58\n"
     ]
    },
    {
     "name": "stderr",
     "output_type": "stream",
     "text": [
      " 13% (62789 of 482638) |##               | Elapsed Time: 0:06:27 ETA:   1:21:12"
     ]
    },
    {
     "name": "stdout",
     "output_type": "stream",
     "text": [
      "Phases: 59\n"
     ]
    },
    {
     "name": "stderr",
     "output_type": "stream",
     "text": [
      " 13% (63505 of 482638) |##               | Elapsed Time: 0:06:32 ETA:   0:55:25"
     ]
    },
    {
     "name": "stdout",
     "output_type": "stream",
     "text": [
      "Phases: 60\n",
      "Subject 5 windowed. Time elapsed: 0:06:36\n",
      "\n",
      "Swing Onset at sample 4041\n"
     ]
    },
    {
     "name": "stderr",
     "output_type": "stream",
     "text": [
      "  0% (24 of 482360) |                    | Elapsed Time: 0:00:00 ETA:   0:35:35"
     ]
    },
    {
     "name": "stdout",
     "output_type": "stream",
     "text": [
      "Subject 6 rows: 486600\n"
     ]
    },
    {
     "name": "stderr",
     "output_type": "stream",
     "text": [
      "  0% (945 of 482360) |                   | Elapsed Time: 0:00:04 ETA:   1:20:59"
     ]
    },
    {
     "name": "stdout",
     "output_type": "stream",
     "text": [
      "Phases: 1\n"
     ]
    },
    {
     "name": "stderr",
     "output_type": "stream",
     "text": [
      "  0% (2194 of 482360) |                  | Elapsed Time: 0:00:12 ETA:   1:24:25"
     ]
    },
    {
     "name": "stdout",
     "output_type": "stream",
     "text": [
      "Phases: 2\n"
     ]
    },
    {
     "name": "stderr",
     "output_type": "stream",
     "text": [
      "  0% (3368 of 482360) |                  | Elapsed Time: 0:00:19 ETA:   1:23:07"
     ]
    },
    {
     "name": "stdout",
     "output_type": "stream",
     "text": [
      "Phases: 3\n"
     ]
    },
    {
     "name": "stderr",
     "output_type": "stream",
     "text": [
      "  0% (4485 of 482360) |                  | Elapsed Time: 0:00:25 ETA:   1:17:37"
     ]
    },
    {
     "name": "stdout",
     "output_type": "stream",
     "text": [
      "Phases: 4\n"
     ]
    },
    {
     "name": "stderr",
     "output_type": "stream",
     "text": [
      "  1% (5519 of 482360) |                  | Elapsed Time: 0:00:32 ETA:   1:14:09"
     ]
    },
    {
     "name": "stdout",
     "output_type": "stream",
     "text": [
      "Phases: 5\n"
     ]
    },
    {
     "name": "stderr",
     "output_type": "stream",
     "text": [
      "  1% (6712 of 482360) |                  | Elapsed Time: 0:00:39 ETA:   1:14:54"
     ]
    },
    {
     "name": "stdout",
     "output_type": "stream",
     "text": [
      "Phases: 6\n"
     ]
    },
    {
     "name": "stderr",
     "output_type": "stream",
     "text": [
      "  1% (7732 of 482360) |                  | Elapsed Time: 0:00:45 ETA:   1:15:54"
     ]
    },
    {
     "name": "stdout",
     "output_type": "stream",
     "text": [
      "Phases: 7\n"
     ]
    },
    {
     "name": "stderr",
     "output_type": "stream",
     "text": [
      "  1% (8970 of 482360) |                  | Elapsed Time: 0:00:52 ETA:   1:18:06"
     ]
    },
    {
     "name": "stdout",
     "output_type": "stream",
     "text": [
      "Phases: 8\n"
     ]
    },
    {
     "name": "stderr",
     "output_type": "stream",
     "text": [
      "  2% (10001 of 482360) |                 | Elapsed Time: 0:00:58 ETA:   1:17:22"
     ]
    },
    {
     "name": "stdout",
     "output_type": "stream",
     "text": [
      "Phases: 9\n"
     ]
    },
    {
     "name": "stderr",
     "output_type": "stream",
     "text": [
      "  2% (11181 of 482360) |                 | Elapsed Time: 0:01:05 ETA:   1:23:55"
     ]
    },
    {
     "name": "stdout",
     "output_type": "stream",
     "text": [
      "Phases: 10\n"
     ]
    },
    {
     "name": "stderr",
     "output_type": "stream",
     "text": [
      "  2% (12259 of 482360) |                 | Elapsed Time: 0:01:12 ETA:   1:24:22"
     ]
    },
    {
     "name": "stdout",
     "output_type": "stream",
     "text": [
      "Phases: 11\n"
     ]
    },
    {
     "name": "stderr",
     "output_type": "stream",
     "text": [
      "  2% (13489 of 482360) |                 | Elapsed Time: 0:01:19 ETA:   1:22:22"
     ]
    },
    {
     "name": "stdout",
     "output_type": "stream",
     "text": [
      "Phases: 12\n"
     ]
    },
    {
     "name": "stderr",
     "output_type": "stream",
     "text": [
      "  3% (14560 of 482360) |                 | Elapsed Time: 0:01:26 ETA:   1:20:01"
     ]
    },
    {
     "name": "stdout",
     "output_type": "stream",
     "text": [
      "Phases: 13\n"
     ]
    },
    {
     "name": "stderr",
     "output_type": "stream",
     "text": [
      "  3% (15802 of 482360) |                 | Elapsed Time: 0:01:34 ETA:   1:49:39"
     ]
    },
    {
     "name": "stdout",
     "output_type": "stream",
     "text": [
      "Phases: 14\n"
     ]
    },
    {
     "name": "stderr",
     "output_type": "stream",
     "text": [
      "  3% (16818 of 482360) |                 | Elapsed Time: 0:01:40 ETA:   1:22:47"
     ]
    },
    {
     "name": "stdout",
     "output_type": "stream",
     "text": [
      "Phases: 15\n"
     ]
    },
    {
     "name": "stderr",
     "output_type": "stream",
     "text": [
      "  3% (17991 of 482360) |                 | Elapsed Time: 0:01:47 ETA:   1:31:23"
     ]
    },
    {
     "name": "stdout",
     "output_type": "stream",
     "text": [
      "Phases: 16\n"
     ]
    },
    {
     "name": "stderr",
     "output_type": "stream",
     "text": [
      "  3% (19016 of 482360) |                 | Elapsed Time: 0:01:54 ETA:   1:25:00"
     ]
    },
    {
     "name": "stdout",
     "output_type": "stream",
     "text": [
      "Phases: 17\n"
     ]
    },
    {
     "name": "stderr",
     "output_type": "stream",
     "text": [
      "  4% (20185 of 482360) |                 | Elapsed Time: 0:02:01 ETA:   1:26:28"
     ]
    },
    {
     "name": "stdout",
     "output_type": "stream",
     "text": [
      "Phases: 18\n"
     ]
    },
    {
     "name": "stderr",
     "output_type": "stream",
     "text": [
      "  4% (21245 of 482360) |                 | Elapsed Time: 0:02:08 ETA:   1:13:36"
     ]
    },
    {
     "name": "stdout",
     "output_type": "stream",
     "text": [
      "Phases: 19\n"
     ]
    },
    {
     "name": "stderr",
     "output_type": "stream",
     "text": [
      "  4% (22434 of 482360) |                 | Elapsed Time: 0:02:15 ETA:   1:13:34"
     ]
    },
    {
     "name": "stdout",
     "output_type": "stream",
     "text": [
      "Phases: 20\n"
     ]
    },
    {
     "name": "stderr",
     "output_type": "stream",
     "text": [
      "  4% (23473 of 482360) |                 | Elapsed Time: 0:02:21 ETA:   1:12:14"
     ]
    },
    {
     "name": "stdout",
     "output_type": "stream",
     "text": [
      "Phases: 21\n"
     ]
    },
    {
     "name": "stderr",
     "output_type": "stream",
     "text": [
      "  5% (24673 of 482360) |                 | Elapsed Time: 0:02:28 ETA:   1:26:06"
     ]
    },
    {
     "name": "stdout",
     "output_type": "stream",
     "text": [
      "Phases: 22\n"
     ]
    },
    {
     "name": "stderr",
     "output_type": "stream",
     "text": [
      "  5% (25700 of 482360) |                 | Elapsed Time: 0:02:35 ETA:   1:16:20"
     ]
    },
    {
     "name": "stdout",
     "output_type": "stream",
     "text": [
      "Phases: 23\n"
     ]
    },
    {
     "name": "stderr",
     "output_type": "stream",
     "text": [
      "  5% (26975 of 482360) |                 | Elapsed Time: 0:02:42 ETA:   1:11:19"
     ]
    },
    {
     "name": "stdout",
     "output_type": "stream",
     "text": [
      "Phases: 24\n"
     ]
    },
    {
     "name": "stderr",
     "output_type": "stream",
     "text": [
      "  5% (27958 of 482360) |                 | Elapsed Time: 0:02:48 ETA:   1:07:19"
     ]
    },
    {
     "name": "stdout",
     "output_type": "stream",
     "text": [
      "Phases: 25\n"
     ]
    },
    {
     "name": "stderr",
     "output_type": "stream",
     "text": [
      "  6% (29203 of 482360) |#                | Elapsed Time: 0:02:56 ETA:   1:17:32"
     ]
    },
    {
     "name": "stdout",
     "output_type": "stream",
     "text": [
      "Phases: 26\n"
     ]
    },
    {
     "name": "stderr",
     "output_type": "stream",
     "text": [
      "  6% (30187 of 482360) |#                | Elapsed Time: 0:03:02 ETA:   1:16:26"
     ]
    },
    {
     "name": "stdout",
     "output_type": "stream",
     "text": [
      "Phases: 27\n"
     ]
    },
    {
     "name": "stderr",
     "output_type": "stream",
     "text": [
      "  6% (31435 of 482360) |#                | Elapsed Time: 0:03:09 ETA:   1:32:22"
     ]
    },
    {
     "name": "stdout",
     "output_type": "stream",
     "text": [
      "Phases: 28\n"
     ]
    },
    {
     "name": "stderr",
     "output_type": "stream",
     "text": [
      "  6% (32512 of 482360) |#                | Elapsed Time: 0:03:16 ETA:   1:08:54"
     ]
    },
    {
     "name": "stdout",
     "output_type": "stream",
     "text": [
      "Phases: 29\n"
     ]
    },
    {
     "name": "stderr",
     "output_type": "stream",
     "text": [
      "  6% (33632 of 482360) |#                | Elapsed Time: 0:03:23 ETA:   1:12:28"
     ]
    },
    {
     "name": "stdout",
     "output_type": "stream",
     "text": [
      "Phases: 30\n"
     ]
    },
    {
     "name": "stderr",
     "output_type": "stream",
     "text": [
      "  7% (34720 of 482360) |#                | Elapsed Time: 0:03:29 ETA:   1:15:54"
     ]
    },
    {
     "name": "stdout",
     "output_type": "stream",
     "text": [
      "Phases: 31\n"
     ]
    },
    {
     "name": "stderr",
     "output_type": "stream",
     "text": [
      "  7% (35926 of 482360) |#                | Elapsed Time: 0:03:37 ETA:   1:19:39"
     ]
    },
    {
     "name": "stdout",
     "output_type": "stream",
     "text": [
      "Phases: 32\n"
     ]
    },
    {
     "name": "stderr",
     "output_type": "stream",
     "text": [
      "  7% (36921 of 482360) |#                | Elapsed Time: 0:03:43 ETA:   1:10:10"
     ]
    },
    {
     "name": "stdout",
     "output_type": "stream",
     "text": [
      "Phases: 33\n"
     ]
    },
    {
     "name": "stderr",
     "output_type": "stream",
     "text": [
      "  7% (38079 of 482360) |#                | Elapsed Time: 0:03:49 ETA:   1:07:50"
     ]
    },
    {
     "name": "stdout",
     "output_type": "stream",
     "text": [
      "Phases: 34\n"
     ]
    },
    {
     "name": "stderr",
     "output_type": "stream",
     "text": [
      "  8% (39170 of 482360) |#                | Elapsed Time: 0:03:56 ETA:   1:14:33"
     ]
    },
    {
     "name": "stdout",
     "output_type": "stream",
     "text": [
      "Phases: 35\n"
     ]
    },
    {
     "name": "stderr",
     "output_type": "stream",
     "text": [
      "  8% (40315 of 482360) |#                | Elapsed Time: 0:04:03 ETA:   1:04:28"
     ]
    },
    {
     "name": "stdout",
     "output_type": "stream",
     "text": [
      "Phases: 36\n"
     ]
    },
    {
     "name": "stderr",
     "output_type": "stream",
     "text": [
      "  8% (41445 of 482360) |#                | Elapsed Time: 0:04:09 ETA:   1:05:42"
     ]
    },
    {
     "name": "stdout",
     "output_type": "stream",
     "text": [
      "Phases: 37\n"
     ]
    },
    {
     "name": "stderr",
     "output_type": "stream",
     "text": [
      "  8% (42594 of 482360) |#                | Elapsed Time: 0:04:16 ETA:   1:07:20"
     ]
    },
    {
     "name": "stdout",
     "output_type": "stream",
     "text": [
      "Phases: 38\n"
     ]
    },
    {
     "name": "stderr",
     "output_type": "stream",
     "text": [
      "  9% (43723 of 482360) |#                | Elapsed Time: 0:04:23 ETA:   1:16:00"
     ]
    },
    {
     "name": "stdout",
     "output_type": "stream",
     "text": [
      "Phases: 39\n"
     ]
    },
    {
     "name": "stderr",
     "output_type": "stream",
     "text": [
      "  9% (44767 of 482360) |#                | Elapsed Time: 0:04:29 ETA:   1:07:40"
     ]
    },
    {
     "name": "stdout",
     "output_type": "stream",
     "text": [
      "Phases: 40\n"
     ]
    },
    {
     "name": "stderr",
     "output_type": "stream",
     "text": [
      "  9% (45896 of 482360) |#                | Elapsed Time: 0:04:36 ETA:   1:10:31"
     ]
    },
    {
     "name": "stdout",
     "output_type": "stream",
     "text": [
      "Phases: 41\n"
     ]
    },
    {
     "name": "stderr",
     "output_type": "stream",
     "text": [
      "  9% (47170 of 482360) |#                | Elapsed Time: 0:04:43 ETA:   1:05:57"
     ]
    },
    {
     "name": "stdout",
     "output_type": "stream",
     "text": [
      "Phases: 42\n"
     ]
    },
    {
     "name": "stderr",
     "output_type": "stream",
     "text": [
      "  9% (48182 of 482360) |#                | Elapsed Time: 0:04:49 ETA:   1:08:27"
     ]
    },
    {
     "name": "stdout",
     "output_type": "stream",
     "text": [
      "Phases: 43\n"
     ]
    },
    {
     "name": "stderr",
     "output_type": "stream",
     "text": [
      " 10% (49392 of 482360) |#                | Elapsed Time: 0:04:56 ETA:   1:10:11"
     ]
    },
    {
     "name": "stdout",
     "output_type": "stream",
     "text": [
      "Phases: 44\n"
     ]
    },
    {
     "name": "stderr",
     "output_type": "stream",
     "text": [
      " 10% (50438 of 482360) |#                | Elapsed Time: 0:05:02 ETA:   1:08:16"
     ]
    },
    {
     "name": "stdout",
     "output_type": "stream",
     "text": [
      "Phases: 45\n"
     ]
    },
    {
     "name": "stderr",
     "output_type": "stream",
     "text": [
      " 10% (51658 of 482360) |#                | Elapsed Time: 0:05:09 ETA:   1:07:10"
     ]
    },
    {
     "name": "stdout",
     "output_type": "stream",
     "text": [
      "Phases: 46\n"
     ]
    },
    {
     "name": "stderr",
     "output_type": "stream",
     "text": [
      " 10% (52660 of 482360) |#                | Elapsed Time: 0:05:16 ETA:   1:18:55"
     ]
    },
    {
     "name": "stdout",
     "output_type": "stream",
     "text": [
      "Phases: 47\n"
     ]
    },
    {
     "name": "stderr",
     "output_type": "stream",
     "text": [
      " 11% (53858 of 482360) |#                | Elapsed Time: 0:05:23 ETA:   1:11:44"
     ]
    },
    {
     "name": "stdout",
     "output_type": "stream",
     "text": [
      "Phases: 48\n"
     ]
    },
    {
     "name": "stderr",
     "output_type": "stream",
     "text": [
      " 11% (54883 of 482360) |#                | Elapsed Time: 0:05:29 ETA:   1:07:12"
     ]
    },
    {
     "name": "stdout",
     "output_type": "stream",
     "text": [
      "Phases: 49\n"
     ]
    },
    {
     "name": "stderr",
     "output_type": "stream",
     "text": [
      " 11% (56097 of 482360) |#                | Elapsed Time: 0:05:36 ETA:   1:14:09"
     ]
    },
    {
     "name": "stdout",
     "output_type": "stream",
     "text": [
      "Phases: 50\n"
     ]
    },
    {
     "name": "stderr",
     "output_type": "stream",
     "text": [
      " 11% (57098 of 482360) |##               | Elapsed Time: 0:05:42 ETA:   1:04:41"
     ]
    },
    {
     "name": "stdout",
     "output_type": "stream",
     "text": [
      "Phases: 51\n"
     ]
    },
    {
     "name": "stderr",
     "output_type": "stream",
     "text": [
      " 12% (58337 of 482360) |##               | Elapsed Time: 0:05:49 ETA:   1:10:31"
     ]
    },
    {
     "name": "stdout",
     "output_type": "stream",
     "text": [
      "Phases: 52\n"
     ]
    },
    {
     "name": "stderr",
     "output_type": "stream",
     "text": [
      " 12% (59324 of 482360) |##               | Elapsed Time: 0:05:55 ETA:   1:07:25"
     ]
    },
    {
     "name": "stdout",
     "output_type": "stream",
     "text": [
      "Phases: 53\n"
     ]
    },
    {
     "name": "stderr",
     "output_type": "stream",
     "text": [
      " 12% (60619 of 482360) |##               | Elapsed Time: 0:06:03 ETA:   1:03:56"
     ]
    },
    {
     "name": "stdout",
     "output_type": "stream",
     "text": [
      "Phases: 54\n"
     ]
    },
    {
     "name": "stderr",
     "output_type": "stream",
     "text": [
      " 12% (61612 of 482360) |##               | Elapsed Time: 0:06:09 ETA:   1:06:26"
     ]
    },
    {
     "name": "stdout",
     "output_type": "stream",
     "text": [
      "Phases: 55\n"
     ]
    },
    {
     "name": "stderr",
     "output_type": "stream",
     "text": [
      " 13% (62820 of 482360) |##               | Elapsed Time: 0:06:16 ETA:   1:05:20"
     ]
    },
    {
     "name": "stdout",
     "output_type": "stream",
     "text": [
      "Phases: 56\n"
     ]
    },
    {
     "name": "stderr",
     "output_type": "stream",
     "text": [
      " 13% (63860 of 482360) |##               | Elapsed Time: 0:06:22 ETA:   1:03:14"
     ]
    },
    {
     "name": "stdout",
     "output_type": "stream",
     "text": [
      "Phases: 57\n"
     ]
    },
    {
     "name": "stderr",
     "output_type": "stream",
     "text": [
      " 13% (65042 of 482360) |##               | Elapsed Time: 0:06:29 ETA:   1:05:39"
     ]
    },
    {
     "name": "stdout",
     "output_type": "stream",
     "text": [
      "Phases: 58\n"
     ]
    },
    {
     "name": "stderr",
     "output_type": "stream",
     "text": [
      " 13% (66062 of 482360) |##               | Elapsed Time: 0:06:35 ETA:   1:01:24"
     ]
    },
    {
     "name": "stdout",
     "output_type": "stream",
     "text": [
      "Phases: 59\n"
     ]
    },
    {
     "name": "stderr",
     "output_type": "stream",
     "text": [
      " 13% (67271 of 482360) |##               | Elapsed Time: 0:06:42 ETA:   0:56:45"
     ]
    },
    {
     "name": "stdout",
     "output_type": "stream",
     "text": [
      "Phases: 60\n",
      "Subject 6 windowed. Time elapsed: 0:06:46\n",
      "\n",
      "Swing Onset at sample 2421\n"
     ]
    },
    {
     "name": "stderr",
     "output_type": "stream",
     "text": [
      "  0% (26 of 483980) |                    | Elapsed Time: 0:00:00 ETA:   0:31:28"
     ]
    },
    {
     "name": "stdout",
     "output_type": "stream",
     "text": [
      "Subject 7 rows: 486600\n"
     ]
    },
    {
     "name": "stderr",
     "output_type": "stream",
     "text": [
      "  0% (854 of 483980) |                   | Elapsed Time: 0:00:04 ETA:   1:17:42"
     ]
    },
    {
     "name": "stdout",
     "output_type": "stream",
     "text": [
      "Phases: 1\n"
     ]
    },
    {
     "name": "stderr",
     "output_type": "stream",
     "text": [
      "  0% (1992 of 483980) |                  | Elapsed Time: 0:00:11 ETA:   1:22:26"
     ]
    },
    {
     "name": "stdout",
     "output_type": "stream",
     "text": [
      "Phases: 2\n"
     ]
    },
    {
     "name": "stderr",
     "output_type": "stream",
     "text": [
      "  0% (2885 of 483980) |                  | Elapsed Time: 0:00:17 ETA:   1:15:15"
     ]
    },
    {
     "name": "stdout",
     "output_type": "stream",
     "text": [
      "Phases: 3\n"
     ]
    },
    {
     "name": "stderr",
     "output_type": "stream",
     "text": [
      "  0% (4026 of 483980) |                  | Elapsed Time: 0:00:24 ETA:   1:18:52"
     ]
    },
    {
     "name": "stdout",
     "output_type": "stream",
     "text": [
      "Phases: 4\n"
     ]
    },
    {
     "name": "stderr",
     "output_type": "stream",
     "text": [
      "  1% (4919 of 483980) |                  | Elapsed Time: 0:00:29 ETA:   1:13:25"
     ]
    },
    {
     "name": "stdout",
     "output_type": "stream",
     "text": [
      "Phases: 5\n"
     ]
    },
    {
     "name": "stderr",
     "output_type": "stream",
     "text": [
      "  1% (5933 of 483980) |                  | Elapsed Time: 0:00:36 ETA:   1:26:18"
     ]
    },
    {
     "name": "stdout",
     "output_type": "stream",
     "text": [
      "Phases: 6\n"
     ]
    },
    {
     "name": "stderr",
     "output_type": "stream",
     "text": [
      "  1% (7011 of 483980) |                  | Elapsed Time: 0:00:42 ETA:   1:14:48"
     ]
    },
    {
     "name": "stdout",
     "output_type": "stream",
     "text": [
      "Phases: 7\n"
     ]
    },
    {
     "name": "stderr",
     "output_type": "stream",
     "text": [
      "  1% (7989 of 483980) |                  | Elapsed Time: 0:00:48 ETA:   1:14:51"
     ]
    },
    {
     "name": "stdout",
     "output_type": "stream",
     "text": [
      "Phases: 8\n"
     ]
    },
    {
     "name": "stderr",
     "output_type": "stream",
     "text": [
      "  1% (9132 of 483980) |                  | Elapsed Time: 0:00:55 ETA:   1:13:53"
     ]
    },
    {
     "name": "stdout",
     "output_type": "stream",
     "text": [
      "Phases: 9\n"
     ]
    },
    {
     "name": "stderr",
     "output_type": "stream",
     "text": [
      "  2% (10318 of 483980) |                 | Elapsed Time: 0:01:02 ETA:   1:14:19"
     ]
    },
    {
     "name": "stdout",
     "output_type": "stream",
     "text": [
      "Phases: 10\n"
     ]
    },
    {
     "name": "stderr",
     "output_type": "stream",
     "text": [
      "  2% (11274 of 483980) |                 | Elapsed Time: 0:01:08 ETA:   1:13:13"
     ]
    },
    {
     "name": "stdout",
     "output_type": "stream",
     "text": [
      "Phases: 11\n"
     ]
    },
    {
     "name": "stderr",
     "output_type": "stream",
     "text": [
      "  2% (12389 of 483980) |                 | Elapsed Time: 0:01:14 ETA:   1:19:29"
     ]
    },
    {
     "name": "stdout",
     "output_type": "stream",
     "text": [
      "Phases: 12\n"
     ]
    },
    {
     "name": "stderr",
     "output_type": "stream",
     "text": [
      "  2% (13415 of 483980) |                 | Elapsed Time: 0:01:20 ETA:   1:11:44"
     ]
    },
    {
     "name": "stdout",
     "output_type": "stream",
     "text": [
      "Phases: 13\n"
     ]
    },
    {
     "name": "stderr",
     "output_type": "stream",
     "text": [
      "  3% (14581 of 483980) |                 | Elapsed Time: 0:01:27 ETA:   1:13:30"
     ]
    },
    {
     "name": "stdout",
     "output_type": "stream",
     "text": [
      "Phases: 14\n"
     ]
    },
    {
     "name": "stderr",
     "output_type": "stream",
     "text": [
      "  3% (15606 of 483980) |                 | Elapsed Time: 0:01:33 ETA:   1:13:07"
     ]
    },
    {
     "name": "stdout",
     "output_type": "stream",
     "text": [
      "Phases: 15\n"
     ]
    },
    {
     "name": "stderr",
     "output_type": "stream",
     "text": [
      "  3% (16747 of 483980) |                 | Elapsed Time: 0:01:40 ETA:   1:08:02"
     ]
    },
    {
     "name": "stdout",
     "output_type": "stream",
     "text": [
      "Phases: 16\n"
     ]
    },
    {
     "name": "stderr",
     "output_type": "stream",
     "text": [
      "  3% (17774 of 483980) |                 | Elapsed Time: 0:01:46 ETA:   1:12:29"
     ]
    },
    {
     "name": "stdout",
     "output_type": "stream",
     "text": [
      "Phases: 17\n"
     ]
    },
    {
     "name": "stderr",
     "output_type": "stream",
     "text": [
      "  3% (18925 of 483980) |                 | Elapsed Time: 0:01:53 ETA:   1:10:25"
     ]
    },
    {
     "name": "stdout",
     "output_type": "stream",
     "text": [
      "Phases: 18\n"
     ]
    },
    {
     "name": "stderr",
     "output_type": "stream",
     "text": [
      "  4% (19894 of 483980) |                 | Elapsed Time: 0:01:59 ETA:   1:26:23"
     ]
    },
    {
     "name": "stdout",
     "output_type": "stream",
     "text": [
      "Phases: 19\n"
     ]
    },
    {
     "name": "stderr",
     "output_type": "stream",
     "text": [
      "  4% (21046 of 483980) |                 | Elapsed Time: 0:02:07 ETA:   1:41:23"
     ]
    },
    {
     "name": "stdout",
     "output_type": "stream",
     "text": [
      "Phases: 20\n"
     ]
    },
    {
     "name": "stderr",
     "output_type": "stream",
     "text": [
      "  4% (22055 of 483980) |                 | Elapsed Time: 0:02:14 ETA:   1:22:56"
     ]
    },
    {
     "name": "stdout",
     "output_type": "stream",
     "text": [
      "Phases: 21\n"
     ]
    },
    {
     "name": "stderr",
     "output_type": "stream",
     "text": [
      "  4% (23183 of 483980) |                 | Elapsed Time: 0:02:21 ETA:   1:59:26"
     ]
    },
    {
     "name": "stdout",
     "output_type": "stream",
     "text": [
      "Phases: 22\n"
     ]
    },
    {
     "name": "stderr",
     "output_type": "stream",
     "text": [
      "  5% (24270 of 483980) |                 | Elapsed Time: 0:02:28 ETA:   1:22:29"
     ]
    },
    {
     "name": "stdout",
     "output_type": "stream",
     "text": [
      "Phases: 23\n"
     ]
    },
    {
     "name": "stderr",
     "output_type": "stream",
     "text": [
      "  5% (25504 of 483980) |                 | Elapsed Time: 0:02:35 ETA:   1:19:17"
     ]
    },
    {
     "name": "stdout",
     "output_type": "stream",
     "text": [
      "Phases: 24\n"
     ]
    },
    {
     "name": "stderr",
     "output_type": "stream",
     "text": [
      "  5% (26475 of 483980) |                 | Elapsed Time: 0:02:42 ETA:   1:19:46"
     ]
    },
    {
     "name": "stdout",
     "output_type": "stream",
     "text": [
      "Phases: 25\n"
     ]
    },
    {
     "name": "stderr",
     "output_type": "stream",
     "text": [
      "  5% (27772 of 483980) |                 | Elapsed Time: 0:02:49 ETA:   1:11:47"
     ]
    },
    {
     "name": "stdout",
     "output_type": "stream",
     "text": [
      "Phases: 26\n"
     ]
    },
    {
     "name": "stderr",
     "output_type": "stream",
     "text": [
      "  5% (28699 of 483980) |#                | Elapsed Time: 0:02:55 ETA:   1:16:55"
     ]
    },
    {
     "name": "stdout",
     "output_type": "stream",
     "text": [
      "Phases: 27\n"
     ]
    },
    {
     "name": "stderr",
     "output_type": "stream",
     "text": [
      "  6% (29862 of 483980) |#                | Elapsed Time: 0:03:02 ETA:   1:21:45"
     ]
    },
    {
     "name": "stdout",
     "output_type": "stream",
     "text": [
      "Phases: 28\n"
     ]
    },
    {
     "name": "stderr",
     "output_type": "stream",
     "text": [
      "  6% (30829 of 483980) |#                | Elapsed Time: 0:03:08 ETA:   1:15:09"
     ]
    },
    {
     "name": "stdout",
     "output_type": "stream",
     "text": [
      "Phases: 29\n"
     ]
    },
    {
     "name": "stderr",
     "output_type": "stream",
     "text": [
      "  6% (32045 of 483980) |#                | Elapsed Time: 0:03:15 ETA:   1:21:21"
     ]
    },
    {
     "name": "stdout",
     "output_type": "stream",
     "text": [
      "Phases: 30\n"
     ]
    },
    {
     "name": "stderr",
     "output_type": "stream",
     "text": [
      "  6% (32979 of 483980) |#                | Elapsed Time: 0:03:21 ETA:   1:11:22"
     ]
    },
    {
     "name": "stdout",
     "output_type": "stream",
     "text": [
      "Phases: 31\n"
     ]
    },
    {
     "name": "stderr",
     "output_type": "stream",
     "text": [
      "  7% (34063 of 483980) |#                | Elapsed Time: 0:03:27 ETA:   1:12:46"
     ]
    },
    {
     "name": "stdout",
     "output_type": "stream",
     "text": [
      "Phases: 32\n"
     ]
    },
    {
     "name": "stderr",
     "output_type": "stream",
     "text": [
      "  7% (35059 of 483980) |#                | Elapsed Time: 0:03:34 ETA:   1:11:22"
     ]
    },
    {
     "name": "stdout",
     "output_type": "stream",
     "text": [
      "Phases: 33\n"
     ]
    },
    {
     "name": "stderr",
     "output_type": "stream",
     "text": [
      "  7% (36181 of 483980) |#                | Elapsed Time: 0:03:40 ETA:   1:09:54"
     ]
    },
    {
     "name": "stdout",
     "output_type": "stream",
     "text": [
      "Phases: 34\n"
     ]
    },
    {
     "name": "stderr",
     "output_type": "stream",
     "text": [
      "  7% (37151 of 483980) |#                | Elapsed Time: 0:03:46 ETA:   1:10:39"
     ]
    },
    {
     "name": "stdout",
     "output_type": "stream",
     "text": [
      "Phases: 35\n"
     ]
    },
    {
     "name": "stderr",
     "output_type": "stream",
     "text": [
      "  7% (38314 of 483980) |#                | Elapsed Time: 0:03:53 ETA:   1:07:49"
     ]
    },
    {
     "name": "stdout",
     "output_type": "stream",
     "text": [
      "Phases: 36\n"
     ]
    },
    {
     "name": "stderr",
     "output_type": "stream",
     "text": [
      "  8% (39309 of 483980) |#                | Elapsed Time: 0:03:59 ETA:   1:16:47"
     ]
    },
    {
     "name": "stdout",
     "output_type": "stream",
     "text": [
      "Phases: 37\n"
     ]
    },
    {
     "name": "stderr",
     "output_type": "stream",
     "text": [
      "  8% (40520 of 483980) |#                | Elapsed Time: 0:04:06 ETA:   1:09:30"
     ]
    },
    {
     "name": "stdout",
     "output_type": "stream",
     "text": [
      "Phases: 38\n"
     ]
    },
    {
     "name": "stderr",
     "output_type": "stream",
     "text": [
      "  8% (41451 of 483980) |#                | Elapsed Time: 0:04:12 ETA:   1:10:38"
     ]
    },
    {
     "name": "stdout",
     "output_type": "stream",
     "text": [
      "Phases: 39\n"
     ]
    },
    {
     "name": "stderr",
     "output_type": "stream",
     "text": [
      "  8% (42634 of 483980) |#                | Elapsed Time: 0:04:19 ETA:   1:26:10"
     ]
    },
    {
     "name": "stdout",
     "output_type": "stream",
     "text": [
      "Phases: 40\n"
     ]
    },
    {
     "name": "stderr",
     "output_type": "stream",
     "text": [
      "  9% (43625 of 483980) |#                | Elapsed Time: 0:04:26 ETA:   1:12:53"
     ]
    },
    {
     "name": "stdout",
     "output_type": "stream",
     "text": [
      "Phases: 41\n"
     ]
    },
    {
     "name": "stderr",
     "output_type": "stream",
     "text": [
      "  9% (44765 of 483980) |#                | Elapsed Time: 0:04:32 ETA:   1:12:53"
     ]
    },
    {
     "name": "stdout",
     "output_type": "stream",
     "text": [
      "Phases: 42\n"
     ]
    },
    {
     "name": "stderr",
     "output_type": "stream",
     "text": [
      "  9% (45772 of 483980) |#                | Elapsed Time: 0:04:39 ETA:   1:07:12"
     ]
    },
    {
     "name": "stdout",
     "output_type": "stream",
     "text": [
      "Phases: 43\n"
     ]
    },
    {
     "name": "stderr",
     "output_type": "stream",
     "text": [
      "  9% (46913 of 483980) |#                | Elapsed Time: 0:04:45 ETA:   1:07:56"
     ]
    },
    {
     "name": "stdout",
     "output_type": "stream",
     "text": [
      "Phases: 44\n"
     ]
    },
    {
     "name": "stderr",
     "output_type": "stream",
     "text": [
      "  9% (47889 of 483980) |#                | Elapsed Time: 0:04:51 ETA:   1:10:07"
     ]
    },
    {
     "name": "stdout",
     "output_type": "stream",
     "text": [
      "Phases: 45\n"
     ]
    },
    {
     "name": "stderr",
     "output_type": "stream",
     "text": [
      " 10% (49025 of 483980) |#                | Elapsed Time: 0:04:58 ETA:   1:09:43"
     ]
    },
    {
     "name": "stdout",
     "output_type": "stream",
     "text": [
      "Phases: 46\n"
     ]
    },
    {
     "name": "stderr",
     "output_type": "stream",
     "text": [
      " 10% (50025 of 483980) |#                | Elapsed Time: 0:05:04 ETA:   1:10:50"
     ]
    },
    {
     "name": "stdout",
     "output_type": "stream",
     "text": [
      "Phases: 47\n"
     ]
    },
    {
     "name": "stderr",
     "output_type": "stream",
     "text": [
      " 10% (51129 of 483980) |#                | Elapsed Time: 0:05:11 ETA:   1:08:36"
     ]
    },
    {
     "name": "stdout",
     "output_type": "stream",
     "text": [
      "Phases: 48\n"
     ]
    },
    {
     "name": "stderr",
     "output_type": "stream",
     "text": [
      " 10% (52149 of 483980) |#                | Elapsed Time: 0:05:17 ETA:   1:08:53"
     ]
    },
    {
     "name": "stdout",
     "output_type": "stream",
     "text": [
      "Phases: 49\n"
     ]
    },
    {
     "name": "stderr",
     "output_type": "stream",
     "text": [
      " 11% (53269 of 483980) |#                | Elapsed Time: 0:05:24 ETA:   1:06:14"
     ]
    },
    {
     "name": "stdout",
     "output_type": "stream",
     "text": [
      "Phases: 50\n"
     ]
    },
    {
     "name": "stderr",
     "output_type": "stream",
     "text": [
      " 11% (54315 of 483980) |#                | Elapsed Time: 0:05:30 ETA:   1:14:14"
     ]
    },
    {
     "name": "stdout",
     "output_type": "stream",
     "text": [
      "Phases: 51\n"
     ]
    },
    {
     "name": "stderr",
     "output_type": "stream",
     "text": [
      " 11% (55442 of 483980) |#                | Elapsed Time: 0:05:36 ETA:   1:05:52"
     ]
    },
    {
     "name": "stdout",
     "output_type": "stream",
     "text": [
      "Phases: 52\n"
     ]
    },
    {
     "name": "stderr",
     "output_type": "stream",
     "text": [
      " 11% (56503 of 483980) |#                | Elapsed Time: 0:05:43 ETA:   1:06:21"
     ]
    },
    {
     "name": "stdout",
     "output_type": "stream",
     "text": [
      "Phases: 53\n"
     ]
    },
    {
     "name": "stderr",
     "output_type": "stream",
     "text": [
      " 11% (57683 of 483980) |##               | Elapsed Time: 0:05:50 ETA:   1:09:18"
     ]
    },
    {
     "name": "stdout",
     "output_type": "stream",
     "text": [
      "Phases: 54\n"
     ]
    },
    {
     "name": "stderr",
     "output_type": "stream",
     "text": [
      " 12% (58731 of 483980) |##               | Elapsed Time: 0:05:56 ETA:   1:10:32"
     ]
    },
    {
     "name": "stdout",
     "output_type": "stream",
     "text": [
      "Phases: 55\n"
     ]
    },
    {
     "name": "stderr",
     "output_type": "stream",
     "text": [
      " 12% (59951 of 483980) |##               | Elapsed Time: 0:06:03 ETA:   1:03:43"
     ]
    },
    {
     "name": "stdout",
     "output_type": "stream",
     "text": [
      "Phases: 56\n"
     ]
    },
    {
     "name": "stderr",
     "output_type": "stream",
     "text": [
      " 12% (60866 of 483980) |##               | Elapsed Time: 0:06:09 ETA:   1:09:04"
     ]
    },
    {
     "name": "stdout",
     "output_type": "stream",
     "text": [
      "Phases: 57\n"
     ]
    },
    {
     "name": "stderr",
     "output_type": "stream",
     "text": [
      " 12% (62034 of 483980) |##               | Elapsed Time: 0:06:16 ETA:   1:16:24"
     ]
    },
    {
     "name": "stdout",
     "output_type": "stream",
     "text": [
      "Phases: 58\n"
     ]
    },
    {
     "name": "stderr",
     "output_type": "stream",
     "text": [
      " 13% (62960 of 483980) |##               | Elapsed Time: 0:06:22 ETA:   1:06:38"
     ]
    },
    {
     "name": "stdout",
     "output_type": "stream",
     "text": [
      "Phases: 59\n"
     ]
    },
    {
     "name": "stderr",
     "output_type": "stream",
     "text": [
      " 13% (64016 of 483980) |##               | Elapsed Time: 0:06:28 ETA:   0:58:46"
     ]
    },
    {
     "name": "stdout",
     "output_type": "stream",
     "text": [
      "Phases: 60\n",
      "Subject 7 windowed. Time elapsed: 0:06:32\n",
      "\n",
      "Swing Onset at sample 6615\n"
     ]
    },
    {
     "name": "stderr",
     "output_type": "stream",
     "text": [
      "  0% (22 of 479786) |                    | Elapsed Time: 0:00:00 ETA:   0:37:26"
     ]
    },
    {
     "name": "stdout",
     "output_type": "stream",
     "text": [
      "Subject 8 rows: 486600\n"
     ]
    },
    {
     "name": "stderr",
     "output_type": "stream",
     "text": [
      "  0% (1066 of 479786) |                  | Elapsed Time: 0:00:05 ETA:   1:21:56"
     ]
    },
    {
     "name": "stdout",
     "output_type": "stream",
     "text": [
      "Phases: 1\n"
     ]
    },
    {
     "name": "stderr",
     "output_type": "stream",
     "text": [
      "  0% (2384 of 479786) |                  | Elapsed Time: 0:00:13 ETA:   1:25:36"
     ]
    },
    {
     "name": "stdout",
     "output_type": "stream",
     "text": [
      "Phases: 2\n"
     ]
    },
    {
     "name": "stderr",
     "output_type": "stream",
     "text": [
      "  0% (3449 of 479786) |                  | Elapsed Time: 0:00:19 ETA:   1:13:33"
     ]
    },
    {
     "name": "stdout",
     "output_type": "stream",
     "text": [
      "Phases: 3\n"
     ]
    },
    {
     "name": "stderr",
     "output_type": "stream",
     "text": [
      "  0% (4725 of 479786) |                  | Elapsed Time: 0:00:27 ETA:   1:16:09"
     ]
    },
    {
     "name": "stdout",
     "output_type": "stream",
     "text": [
      "Phases: 4\n"
     ]
    },
    {
     "name": "stderr",
     "output_type": "stream",
     "text": [
      "  1% (5759 of 479786) |                  | Elapsed Time: 0:00:33 ETA:   1:25:32"
     ]
    },
    {
     "name": "stdout",
     "output_type": "stream",
     "text": [
      "Phases: 5\n"
     ]
    },
    {
     "name": "stderr",
     "output_type": "stream",
     "text": [
      "  1% (7005 of 479786) |                  | Elapsed Time: 0:00:40 ETA:   1:14:24"
     ]
    },
    {
     "name": "stdout",
     "output_type": "stream",
     "text": [
      "Phases: 6\n"
     ]
    },
    {
     "name": "stderr",
     "output_type": "stream",
     "text": [
      "  1% (8178 of 479786) |                  | Elapsed Time: 0:00:47 ETA:   1:14:49"
     ]
    },
    {
     "name": "stdout",
     "output_type": "stream",
     "text": [
      "Phases: 7\n"
     ]
    },
    {
     "name": "stderr",
     "output_type": "stream",
     "text": [
      "  1% (9466 of 479786) |                  | Elapsed Time: 0:00:54 ETA:   1:17:19"
     ]
    },
    {
     "name": "stdout",
     "output_type": "stream",
     "text": [
      "Phases: 8\n"
     ]
    },
    {
     "name": "stderr",
     "output_type": "stream",
     "text": [
      "  2% (10593 of 479786) |                 | Elapsed Time: 0:01:00 ETA:   1:12:27"
     ]
    },
    {
     "name": "stdout",
     "output_type": "stream",
     "text": [
      "Phases: 9\n"
     ]
    },
    {
     "name": "stderr",
     "output_type": "stream",
     "text": [
      "  2% (11778 of 479786) |                 | Elapsed Time: 0:01:07 ETA:   1:14:08"
     ]
    },
    {
     "name": "stdout",
     "output_type": "stream",
     "text": [
      "Phases: 10\n"
     ]
    },
    {
     "name": "stderr",
     "output_type": "stream",
     "text": [
      "  2% (12878 of 479786) |                 | Elapsed Time: 0:01:14 ETA:   1:14:43"
     ]
    },
    {
     "name": "stdout",
     "output_type": "stream",
     "text": [
      "Phases: 11\n"
     ]
    },
    {
     "name": "stderr",
     "output_type": "stream",
     "text": [
      "  2% (14117 of 479786) |                 | Elapsed Time: 0:01:21 ETA:   1:12:21"
     ]
    },
    {
     "name": "stdout",
     "output_type": "stream",
     "text": [
      "Phases: 12\n"
     ]
    },
    {
     "name": "stderr",
     "output_type": "stream",
     "text": [
      "  3% (15138 of 479786) |                 | Elapsed Time: 0:01:27 ETA:   1:15:59"
     ]
    },
    {
     "name": "stdout",
     "output_type": "stream",
     "text": [
      "Phases: 13\n"
     ]
    },
    {
     "name": "stderr",
     "output_type": "stream",
     "text": [
      "  3% (16430 of 479786) |                 | Elapsed Time: 0:01:34 ETA:   1:15:00"
     ]
    },
    {
     "name": "stdout",
     "output_type": "stream",
     "text": [
      "Phases: 14\n"
     ]
    },
    {
     "name": "stderr",
     "output_type": "stream",
     "text": [
      "  3% (17455 of 479786) |                 | Elapsed Time: 0:01:41 ETA:   1:17:49"
     ]
    },
    {
     "name": "stdout",
     "output_type": "stream",
     "text": [
      "Phases: 15\n"
     ]
    },
    {
     "name": "stderr",
     "output_type": "stream",
     "text": [
      "  3% (18706 of 479786) |                 | Elapsed Time: 0:01:48 ETA:   1:10:19"
     ]
    },
    {
     "name": "stdout",
     "output_type": "stream",
     "text": [
      "Phases: 16\n"
     ]
    },
    {
     "name": "stderr",
     "output_type": "stream",
     "text": [
      "  4% (19893 of 479786) |                 | Elapsed Time: 0:01:55 ETA:   1:17:43"
     ]
    },
    {
     "name": "stdout",
     "output_type": "stream",
     "text": [
      "Phases: 17\n"
     ]
    },
    {
     "name": "stderr",
     "output_type": "stream",
     "text": [
      "  4% (21347 of 479786) |                 | Elapsed Time: 0:02:03 ETA:   1:17:43"
     ]
    },
    {
     "name": "stdout",
     "output_type": "stream",
     "text": [
      "Phases: 18\n"
     ]
    },
    {
     "name": "stderr",
     "output_type": "stream",
     "text": [
      "  4% (22415 of 479786) |                 | Elapsed Time: 0:02:09 ETA:   1:14:26"
     ]
    },
    {
     "name": "stdout",
     "output_type": "stream",
     "text": [
      "Phases: 19\n"
     ]
    },
    {
     "name": "stderr",
     "output_type": "stream",
     "text": [
      "  4% (23772 of 479786) |                 | Elapsed Time: 0:02:16 ETA:   1:08:04"
     ]
    },
    {
     "name": "stdout",
     "output_type": "stream",
     "text": [
      "Phases: 20\n"
     ]
    },
    {
     "name": "stderr",
     "output_type": "stream",
     "text": [
      "  5% (24841 of 479786) |                 | Elapsed Time: 0:02:23 ETA:   1:13:53"
     ]
    },
    {
     "name": "stdout",
     "output_type": "stream",
     "text": [
      "Phases: 21\n"
     ]
    },
    {
     "name": "stderr",
     "output_type": "stream",
     "text": [
      "  5% (26067 of 479786) |                 | Elapsed Time: 0:02:30 ETA:   1:09:26"
     ]
    },
    {
     "name": "stdout",
     "output_type": "stream",
     "text": [
      "Phases: 22\n"
     ]
    },
    {
     "name": "stderr",
     "output_type": "stream",
     "text": [
      "  5% (27105 of 479786) |                 | Elapsed Time: 0:02:36 ETA:   1:08:13"
     ]
    },
    {
     "name": "stdout",
     "output_type": "stream",
     "text": [
      "Phases: 23\n"
     ]
    },
    {
     "name": "stderr",
     "output_type": "stream",
     "text": [
      "  5% (28312 of 479786) |#                | Elapsed Time: 0:02:43 ETA:   1:20:50"
     ]
    },
    {
     "name": "stdout",
     "output_type": "stream",
     "text": [
      "Phases: 24\n"
     ]
    },
    {
     "name": "stderr",
     "output_type": "stream",
     "text": [
      "  6% (29415 of 479786) |#                | Elapsed Time: 0:02:50 ETA:   1:16:54"
     ]
    },
    {
     "name": "stdout",
     "output_type": "stream",
     "text": [
      "Phases: 25\n"
     ]
    },
    {
     "name": "stderr",
     "output_type": "stream",
     "text": [
      "  6% (30743 of 479786) |#                | Elapsed Time: 0:02:57 ETA:   1:13:09"
     ]
    },
    {
     "name": "stdout",
     "output_type": "stream",
     "text": [
      "Phases: 26\n"
     ]
    },
    {
     "name": "stderr",
     "output_type": "stream",
     "text": [
      "  6% (31882 of 479786) |#                | Elapsed Time: 0:03:04 ETA:   1:10:33"
     ]
    },
    {
     "name": "stdout",
     "output_type": "stream",
     "text": [
      "Phases: 27\n"
     ]
    },
    {
     "name": "stderr",
     "output_type": "stream",
     "text": [
      "  6% (33149 of 479786) |#                | Elapsed Time: 0:03:11 ETA:   1:09:06"
     ]
    },
    {
     "name": "stdout",
     "output_type": "stream",
     "text": [
      "Phases: 28\n"
     ]
    },
    {
     "name": "stderr",
     "output_type": "stream",
     "text": [
      "  7% (34364 of 479786) |#                | Elapsed Time: 0:03:18 ETA:   1:04:20"
     ]
    },
    {
     "name": "stdout",
     "output_type": "stream",
     "text": [
      "Phases: 29\n"
     ]
    },
    {
     "name": "stderr",
     "output_type": "stream",
     "text": [
      "  7% (35626 of 479786) |#                | Elapsed Time: 0:03:25 ETA:   1:09:44"
     ]
    },
    {
     "name": "stdout",
     "output_type": "stream",
     "text": [
      "Phases: 30\n"
     ]
    },
    {
     "name": "stderr",
     "output_type": "stream",
     "text": [
      "  7% (36730 of 479786) |#                | Elapsed Time: 0:03:32 ETA:   1:17:05"
     ]
    },
    {
     "name": "stdout",
     "output_type": "stream",
     "text": [
      "Phases: 31\n"
     ]
    },
    {
     "name": "stderr",
     "output_type": "stream",
     "text": [
      "  7% (37965 of 479786) |#                | Elapsed Time: 0:03:39 ETA:   1:07:01"
     ]
    },
    {
     "name": "stdout",
     "output_type": "stream",
     "text": [
      "Phases: 32\n"
     ]
    },
    {
     "name": "stderr",
     "output_type": "stream",
     "text": [
      "  8% (39033 of 479786) |#                | Elapsed Time: 0:03:46 ETA:   1:17:32"
     ]
    },
    {
     "name": "stdout",
     "output_type": "stream",
     "text": [
      "Phases: 33\n"
     ]
    },
    {
     "name": "stderr",
     "output_type": "stream",
     "text": [
      "  8% (40298 of 479786) |#                | Elapsed Time: 0:03:53 ETA:   1:09:56"
     ]
    },
    {
     "name": "stdout",
     "output_type": "stream",
     "text": [
      "Phases: 34\n"
     ]
    },
    {
     "name": "stderr",
     "output_type": "stream",
     "text": [
      "  8% (41362 of 479786) |#                | Elapsed Time: 0:04:00 ETA:   1:14:11"
     ]
    },
    {
     "name": "stdout",
     "output_type": "stream",
     "text": [
      "Phases: 35\n"
     ]
    },
    {
     "name": "stderr",
     "output_type": "stream",
     "text": [
      "  8% (42632 of 479786) |#                | Elapsed Time: 0:04:07 ETA:   1:13:30"
     ]
    },
    {
     "name": "stdout",
     "output_type": "stream",
     "text": [
      "Phases: 36\n"
     ]
    },
    {
     "name": "stderr",
     "output_type": "stream",
     "text": [
      "  9% (43805 of 479786) |#                | Elapsed Time: 0:04:14 ETA:   1:08:39"
     ]
    },
    {
     "name": "stdout",
     "output_type": "stream",
     "text": [
      "Phases: 37\n"
     ]
    },
    {
     "name": "stderr",
     "output_type": "stream",
     "text": [
      "  9% (45280 of 479786) |#                | Elapsed Time: 0:04:22 ETA:   1:08:13"
     ]
    },
    {
     "name": "stdout",
     "output_type": "stream",
     "text": [
      "Phases: 38\n"
     ]
    },
    {
     "name": "stderr",
     "output_type": "stream",
     "text": [
      "  9% (46380 of 479786) |#                | Elapsed Time: 0:04:28 ETA:   1:12:08"
     ]
    },
    {
     "name": "stdout",
     "output_type": "stream",
     "text": [
      "Phases: 39\n"
     ]
    },
    {
     "name": "stderr",
     "output_type": "stream",
     "text": [
      "  9% (47816 of 479786) |#                | Elapsed Time: 0:04:36 ETA:   1:04:21"
     ]
    },
    {
     "name": "stdout",
     "output_type": "stream",
     "text": [
      "Phases: 40\n"
     ]
    },
    {
     "name": "stderr",
     "output_type": "stream",
     "text": [
      " 10% (48841 of 479786) |#                | Elapsed Time: 0:04:42 ETA:   1:04:14"
     ]
    },
    {
     "name": "stdout",
     "output_type": "stream",
     "text": [
      "Phases: 41\n"
     ]
    },
    {
     "name": "stderr",
     "output_type": "stream",
     "text": [
      " 10% (50153 of 479786) |#                | Elapsed Time: 0:04:50 ETA:   1:07:59"
     ]
    },
    {
     "name": "stdout",
     "output_type": "stream",
     "text": [
      "Phases: 42\n"
     ]
    },
    {
     "name": "stderr",
     "output_type": "stream",
     "text": [
      " 10% (51197 of 479786) |#                | Elapsed Time: 0:04:56 ETA:   1:05:34"
     ]
    },
    {
     "name": "stdout",
     "output_type": "stream",
     "text": [
      "Phases: 43\n"
     ]
    },
    {
     "name": "stderr",
     "output_type": "stream",
     "text": [
      " 10% (52416 of 479786) |#                | Elapsed Time: 0:05:03 ETA:   1:07:15"
     ]
    },
    {
     "name": "stdout",
     "output_type": "stream",
     "text": [
      "Phases: 44\n"
     ]
    },
    {
     "name": "stderr",
     "output_type": "stream",
     "text": [
      " 11% (53552 of 479786) |#                | Elapsed Time: 0:05:10 ETA:   1:04:26"
     ]
    },
    {
     "name": "stdout",
     "output_type": "stream",
     "text": [
      "Phases: 45\n"
     ]
    },
    {
     "name": "stderr",
     "output_type": "stream",
     "text": [
      " 11% (54845 of 479786) |#                | Elapsed Time: 0:05:17 ETA:   1:05:49"
     ]
    },
    {
     "name": "stdout",
     "output_type": "stream",
     "text": [
      "Phases: 46\n"
     ]
    },
    {
     "name": "stderr",
     "output_type": "stream",
     "text": [
      " 11% (55930 of 479786) |#                | Elapsed Time: 0:05:23 ETA:   1:01:39"
     ]
    },
    {
     "name": "stdout",
     "output_type": "stream",
     "text": [
      "Phases: 47\n"
     ]
    },
    {
     "name": "stderr",
     "output_type": "stream",
     "text": [
      " 11% (57178 of 479786) |##               | Elapsed Time: 0:05:30 ETA:   1:06:25"
     ]
    },
    {
     "name": "stdout",
     "output_type": "stream",
     "text": [
      "Phases: 48\n"
     ]
    },
    {
     "name": "stderr",
     "output_type": "stream",
     "text": [
      " 12% (58307 of 479786) |##               | Elapsed Time: 0:05:37 ETA:   1:02:17"
     ]
    },
    {
     "name": "stdout",
     "output_type": "stream",
     "text": [
      "Phases: 49\n"
     ]
    },
    {
     "name": "stderr",
     "output_type": "stream",
     "text": [
      " 12% (59514 of 479786) |##               | Elapsed Time: 0:05:44 ETA:   1:02:53"
     ]
    },
    {
     "name": "stdout",
     "output_type": "stream",
     "text": [
      "Phases: 50\n"
     ]
    },
    {
     "name": "stderr",
     "output_type": "stream",
     "text": [
      " 12% (60651 of 479786) |##               | Elapsed Time: 0:05:50 ETA:   0:59:34"
     ]
    },
    {
     "name": "stdout",
     "output_type": "stream",
     "text": [
      "Phases: 51\n"
     ]
    },
    {
     "name": "stderr",
     "output_type": "stream",
     "text": [
      " 12% (61936 of 479786) |##               | Elapsed Time: 0:05:57 ETA:   1:09:25"
     ]
    },
    {
     "name": "stdout",
     "output_type": "stream",
     "text": [
      "Phases: 52\n"
     ]
    },
    {
     "name": "stderr",
     "output_type": "stream",
     "text": [
      " 13% (63011 of 479786) |##               | Elapsed Time: 0:06:06 ETA:   1:11:10"
     ]
    },
    {
     "name": "stdout",
     "output_type": "stream",
     "text": [
      "Phases: 53\n"
     ]
    },
    {
     "name": "stderr",
     "output_type": "stream",
     "text": [
      " 13% (64265 of 479786) |##               | Elapsed Time: 0:06:13 ETA:   1:01:23"
     ]
    },
    {
     "name": "stdout",
     "output_type": "stream",
     "text": [
      "Phases: 54\n"
     ]
    },
    {
     "name": "stderr",
     "output_type": "stream",
     "text": [
      " 13% (65316 of 479786) |##               | Elapsed Time: 0:06:19 ETA:   1:03:59"
     ]
    },
    {
     "name": "stdout",
     "output_type": "stream",
     "text": [
      "Phases: 55\n"
     ]
    },
    {
     "name": "stderr",
     "output_type": "stream",
     "text": [
      " 13% (66588 of 479786) |##               | Elapsed Time: 0:06:26 ETA:   1:02:38"
     ]
    },
    {
     "name": "stdout",
     "output_type": "stream",
     "text": [
      "Phases: 56\n"
     ]
    },
    {
     "name": "stderr",
     "output_type": "stream",
     "text": [
      " 14% (67663 of 479786) |##               | Elapsed Time: 0:06:33 ETA:   1:08:28"
     ]
    },
    {
     "name": "stdout",
     "output_type": "stream",
     "text": [
      "Phases: 57\n"
     ]
    },
    {
     "name": "stderr",
     "output_type": "stream",
     "text": [
      " 14% (69007 of 479786) |##               | Elapsed Time: 0:06:40 ETA:   1:05:06"
     ]
    },
    {
     "name": "stdout",
     "output_type": "stream",
     "text": [
      "Phases: 58\n"
     ]
    },
    {
     "name": "stderr",
     "output_type": "stream",
     "text": [
      " 14% (70116 of 479786) |##               | Elapsed Time: 0:06:47 ETA:   1:02:52"
     ]
    },
    {
     "name": "stdout",
     "output_type": "stream",
     "text": [
      "Phases: 59\n"
     ]
    },
    {
     "name": "stderr",
     "output_type": "stream",
     "text": [
      " 14% (71472 of 479786) |##               | Elapsed Time: 0:06:54 ETA:   0:57:27"
     ]
    },
    {
     "name": "stdout",
     "output_type": "stream",
     "text": [
      "Phases: 60\n",
      "Subject 8 windowed. Time elapsed: 0:06:58\n",
      "\n",
      "Swing Onset at sample 4228\n"
     ]
    },
    {
     "name": "stderr",
     "output_type": "stream",
     "text": [
      "  0% (26 of 482173) |                    | Elapsed Time: 0:00:00 ETA:   0:31:03"
     ]
    },
    {
     "name": "stdout",
     "output_type": "stream",
     "text": [
      "Subject 9 rows: 486600\n"
     ]
    },
    {
     "name": "stderr",
     "output_type": "stream",
     "text": [
      "  0% (821 of 482173) |                   | Elapsed Time: 0:00:04 ETA:   1:12:57"
     ]
    },
    {
     "name": "stdout",
     "output_type": "stream",
     "text": [
      "Phases: 1\n"
     ]
    },
    {
     "name": "stderr",
     "output_type": "stream",
     "text": [
      "  0% (2041 of 482173) |                  | Elapsed Time: 0:00:11 ETA:   1:10:35"
     ]
    },
    {
     "name": "stdout",
     "output_type": "stream",
     "text": [
      "Phases: 2\n"
     ]
    },
    {
     "name": "stderr",
     "output_type": "stream",
     "text": [
      "  0% (2871 of 482173) |                  | Elapsed Time: 0:00:16 ETA:   1:13:26"
     ]
    },
    {
     "name": "stdout",
     "output_type": "stream",
     "text": [
      "Phases: 3\n"
     ]
    },
    {
     "name": "stderr",
     "output_type": "stream",
     "text": [
      "  0% (4008 of 482173) |                  | Elapsed Time: 0:00:23 ETA:   1:12:27"
     ]
    },
    {
     "name": "stdout",
     "output_type": "stream",
     "text": [
      "Phases: 4\n"
     ]
    },
    {
     "name": "stderr",
     "output_type": "stream",
     "text": [
      "  1% (4833 of 482173) |                  | Elapsed Time: 0:00:28 ETA:   1:19:34"
     ]
    },
    {
     "name": "stdout",
     "output_type": "stream",
     "text": [
      "Phases: 5\n"
     ]
    },
    {
     "name": "stderr",
     "output_type": "stream",
     "text": [
      "  1% (5962 of 482173) |                  | Elapsed Time: 0:00:35 ETA:   1:15:33"
     ]
    },
    {
     "name": "stdout",
     "output_type": "stream",
     "text": [
      "Phases: 6\n"
     ]
    },
    {
     "name": "stderr",
     "output_type": "stream",
     "text": [
      "  1% (6792 of 482173) |                  | Elapsed Time: 0:00:40 ETA:   1:14:33"
     ]
    },
    {
     "name": "stdout",
     "output_type": "stream",
     "text": [
      "Phases: 7\n"
     ]
    },
    {
     "name": "stderr",
     "output_type": "stream",
     "text": [
      "  1% (7954 of 482173) |                  | Elapsed Time: 0:00:47 ETA:   1:24:38"
     ]
    },
    {
     "name": "stdout",
     "output_type": "stream",
     "text": [
      "Phases: 8\n"
     ]
    },
    {
     "name": "stderr",
     "output_type": "stream",
     "text": [
      "  1% (8842 of 482173) |                  | Elapsed Time: 0:00:53 ETA:   1:12:38"
     ]
    },
    {
     "name": "stdout",
     "output_type": "stream",
     "text": [
      "Phases: 9\n"
     ]
    },
    {
     "name": "stderr",
     "output_type": "stream",
     "text": [
      "  2% (10019 of 482173) |                 | Elapsed Time: 0:01:00 ETA:   1:16:36"
     ]
    },
    {
     "name": "stdout",
     "output_type": "stream",
     "text": [
      "Phases: 10\n"
     ]
    },
    {
     "name": "stderr",
     "output_type": "stream",
     "text": [
      "  2% (10899 of 482173) |                 | Elapsed Time: 0:01:05 ETA:   1:11:04"
     ]
    },
    {
     "name": "stdout",
     "output_type": "stream",
     "text": [
      "Phases: 11\n"
     ]
    },
    {
     "name": "stderr",
     "output_type": "stream",
     "text": [
      "  2% (12036 of 482173) |                 | Elapsed Time: 0:01:12 ETA:   1:12:48"
     ]
    },
    {
     "name": "stdout",
     "output_type": "stream",
     "text": [
      "Phases: 12\n"
     ]
    },
    {
     "name": "stderr",
     "output_type": "stream",
     "text": [
      "  2% (12878 of 482173) |                 | Elapsed Time: 0:01:17 ETA:   1:11:58"
     ]
    },
    {
     "name": "stdout",
     "output_type": "stream",
     "text": [
      "Phases: 13\n"
     ]
    },
    {
     "name": "stderr",
     "output_type": "stream",
     "text": [
      "  2% (14029 of 482173) |                 | Elapsed Time: 0:01:24 ETA:   1:17:58"
     ]
    },
    {
     "name": "stdout",
     "output_type": "stream",
     "text": [
      "Phases: 14\n"
     ]
    },
    {
     "name": "stderr",
     "output_type": "stream",
     "text": [
      "  3% (14840 of 482173) |                 | Elapsed Time: 0:01:29 ETA:   1:08:42"
     ]
    },
    {
     "name": "stdout",
     "output_type": "stream",
     "text": [
      "Phases: 15\n"
     ]
    },
    {
     "name": "stderr",
     "output_type": "stream",
     "text": [
      "  3% (16133 of 482173) |                 | Elapsed Time: 0:01:37 ETA:   1:11:44"
     ]
    },
    {
     "name": "stdout",
     "output_type": "stream",
     "text": [
      "Phases: 16\n"
     ]
    },
    {
     "name": "stderr",
     "output_type": "stream",
     "text": [
      "  3% (17075 of 482173) |                 | Elapsed Time: 0:01:43 ETA:   1:16:29"
     ]
    },
    {
     "name": "stdout",
     "output_type": "stream",
     "text": [
      "Phases: 17\n"
     ]
    },
    {
     "name": "stderr",
     "output_type": "stream",
     "text": [
      "  3% (18491 of 482173) |                 | Elapsed Time: 0:01:50 ETA:   1:10:34"
     ]
    },
    {
     "name": "stdout",
     "output_type": "stream",
     "text": [
      "Phases: 18\n"
     ]
    },
    {
     "name": "stderr",
     "output_type": "stream",
     "text": [
      "  4% (19353 of 482173) |                 | Elapsed Time: 0:01:56 ETA:   1:13:08"
     ]
    },
    {
     "name": "stdout",
     "output_type": "stream",
     "text": [
      "Phases: 19\n"
     ]
    },
    {
     "name": "stderr",
     "output_type": "stream",
     "text": [
      "  4% (20530 of 482173) |                 | Elapsed Time: 0:02:03 ETA:   1:10:49"
     ]
    },
    {
     "name": "stdout",
     "output_type": "stream",
     "text": [
      "Phases: 20\n"
     ]
    },
    {
     "name": "stderr",
     "output_type": "stream",
     "text": [
      "  4% (21396 of 482173) |                 | Elapsed Time: 0:02:08 ETA:   1:12:23"
     ]
    },
    {
     "name": "stdout",
     "output_type": "stream",
     "text": [
      "Phases: 21\n"
     ]
    },
    {
     "name": "stderr",
     "output_type": "stream",
     "text": [
      "  4% (22609 of 482173) |                 | Elapsed Time: 0:02:15 ETA:   1:14:17"
     ]
    },
    {
     "name": "stdout",
     "output_type": "stream",
     "text": [
      "Phases: 22\n"
     ]
    },
    {
     "name": "stderr",
     "output_type": "stream",
     "text": [
      "  4% (23489 of 482173) |                 | Elapsed Time: 0:02:21 ETA:   1:13:51"
     ]
    },
    {
     "name": "stdout",
     "output_type": "stream",
     "text": [
      "Phases: 23\n"
     ]
    },
    {
     "name": "stderr",
     "output_type": "stream",
     "text": [
      "  5% (24678 of 482173) |                 | Elapsed Time: 0:02:28 ETA:   1:14:51"
     ]
    },
    {
     "name": "stdout",
     "output_type": "stream",
     "text": [
      "Phases: 24\n"
     ]
    },
    {
     "name": "stderr",
     "output_type": "stream",
     "text": [
      "  5% (25511 of 482173) |                 | Elapsed Time: 0:02:33 ETA:   1:08:17"
     ]
    },
    {
     "name": "stdout",
     "output_type": "stream",
     "text": [
      "Phases: 25\n"
     ]
    },
    {
     "name": "stderr",
     "output_type": "stream",
     "text": [
      "  5% (26671 of 482173) |                 | Elapsed Time: 0:02:40 ETA:   1:07:08"
     ]
    },
    {
     "name": "stdout",
     "output_type": "stream",
     "text": [
      "Phases: 26\n"
     ]
    },
    {
     "name": "stderr",
     "output_type": "stream",
     "text": [
      "  5% (27548 of 482173) |                 | Elapsed Time: 0:02:46 ETA:   1:13:01"
     ]
    },
    {
     "name": "stdout",
     "output_type": "stream",
     "text": [
      "Phases: 27\n"
     ]
    },
    {
     "name": "stderr",
     "output_type": "stream",
     "text": [
      "  5% (28738 of 482173) |#                | Elapsed Time: 0:02:52 ETA:   1:11:52"
     ]
    },
    {
     "name": "stdout",
     "output_type": "stream",
     "text": [
      "Phases: 28\n"
     ]
    },
    {
     "name": "stderr",
     "output_type": "stream",
     "text": [
      "  6% (29591 of 482173) |#                | Elapsed Time: 0:02:58 ETA:   1:15:03"
     ]
    },
    {
     "name": "stdout",
     "output_type": "stream",
     "text": [
      "Phases: 29\n"
     ]
    },
    {
     "name": "stderr",
     "output_type": "stream",
     "text": [
      "  6% (30749 of 482173) |#                | Elapsed Time: 0:03:05 ETA:   1:05:43"
     ]
    },
    {
     "name": "stdout",
     "output_type": "stream",
     "text": [
      "Phases: 30\n"
     ]
    },
    {
     "name": "stderr",
     "output_type": "stream",
     "text": [
      "  6% (31578 of 482173) |#                | Elapsed Time: 0:03:10 ETA:   1:06:42"
     ]
    },
    {
     "name": "stdout",
     "output_type": "stream",
     "text": [
      "Phases: 31\n"
     ]
    },
    {
     "name": "stderr",
     "output_type": "stream",
     "text": [
      "  6% (32825 of 482173) |#                | Elapsed Time: 0:03:18 ETA:   1:20:06"
     ]
    },
    {
     "name": "stdout",
     "output_type": "stream",
     "text": [
      "Phases: 32\n"
     ]
    },
    {
     "name": "stderr",
     "output_type": "stream",
     "text": [
      "  7% (33929 of 482173) |#                | Elapsed Time: 0:03:25 ETA:   1:18:58"
     ]
    },
    {
     "name": "stdout",
     "output_type": "stream",
     "text": [
      "Phases: 33\n"
     ]
    },
    {
     "name": "stderr",
     "output_type": "stream",
     "text": [
      "  7% (35681 of 482173) |#                | Elapsed Time: 0:03:34 ETA:   1:14:47"
     ]
    },
    {
     "name": "stdout",
     "output_type": "stream",
     "text": [
      "Phases: 34\n"
     ]
    },
    {
     "name": "stderr",
     "output_type": "stream",
     "text": [
      "  7% (36769 of 482173) |#                | Elapsed Time: 0:03:40 ETA:   1:12:27"
     ]
    },
    {
     "name": "stdout",
     "output_type": "stream",
     "text": [
      "Phases: 35\n"
     ]
    },
    {
     "name": "stderr",
     "output_type": "stream",
     "text": [
      "  7% (38038 of 482173) |#                | Elapsed Time: 0:03:48 ETA:   1:05:04"
     ]
    },
    {
     "name": "stdout",
     "output_type": "stream",
     "text": [
      "Phases: 36\n"
     ]
    },
    {
     "name": "stderr",
     "output_type": "stream",
     "text": [
      "  8% (38963 of 482173) |#                | Elapsed Time: 0:03:54 ETA:   1:15:24"
     ]
    },
    {
     "name": "stdout",
     "output_type": "stream",
     "text": [
      "Phases: 37\n"
     ]
    },
    {
     "name": "stderr",
     "output_type": "stream",
     "text": [
      "  8% (40259 of 482173) |#                | Elapsed Time: 0:04:01 ETA:   1:11:25"
     ]
    },
    {
     "name": "stdout",
     "output_type": "stream",
     "text": [
      "Phases: 38\n"
     ]
    },
    {
     "name": "stderr",
     "output_type": "stream",
     "text": [
      "  8% (41097 of 482173) |#                | Elapsed Time: 0:04:07 ETA:   1:09:01"
     ]
    },
    {
     "name": "stdout",
     "output_type": "stream",
     "text": [
      "Phases: 39\n"
     ]
    },
    {
     "name": "stderr",
     "output_type": "stream",
     "text": [
      "  8% (42283 of 482173) |#                | Elapsed Time: 0:04:14 ETA:   1:11:33"
     ]
    },
    {
     "name": "stdout",
     "output_type": "stream",
     "text": [
      "Phases: 40\n"
     ]
    },
    {
     "name": "stderr",
     "output_type": "stream",
     "text": [
      "  8% (43158 of 482173) |#                | Elapsed Time: 0:04:19 ETA:   1:07:01"
     ]
    },
    {
     "name": "stdout",
     "output_type": "stream",
     "text": [
      "Phases: 41\n"
     ]
    },
    {
     "name": "stderr",
     "output_type": "stream",
     "text": [
      "  9% (44344 of 482173) |#                | Elapsed Time: 0:04:26 ETA:   1:07:04"
     ]
    },
    {
     "name": "stdout",
     "output_type": "stream",
     "text": [
      "Phases: 42\n"
     ]
    },
    {
     "name": "stderr",
     "output_type": "stream",
     "text": [
      "  9% (45223 of 482173) |#                | Elapsed Time: 0:04:32 ETA:   1:08:06"
     ]
    },
    {
     "name": "stdout",
     "output_type": "stream",
     "text": [
      "Phases: 43\n"
     ]
    },
    {
     "name": "stderr",
     "output_type": "stream",
     "text": [
      "  9% (46424 of 482173) |#                | Elapsed Time: 0:04:39 ETA:   1:08:54"
     ]
    },
    {
     "name": "stdout",
     "output_type": "stream",
     "text": [
      "Phases: 44\n"
     ]
    },
    {
     "name": "stderr",
     "output_type": "stream",
     "text": [
      "  9% (47300 of 482173) |#                | Elapsed Time: 0:04:44 ETA:   1:07:25"
     ]
    },
    {
     "name": "stdout",
     "output_type": "stream",
     "text": [
      "Phases: 45\n"
     ]
    },
    {
     "name": "stderr",
     "output_type": "stream",
     "text": [
      " 10% (48498 of 482173) |#                | Elapsed Time: 0:04:51 ETA:   1:05:21"
     ]
    },
    {
     "name": "stdout",
     "output_type": "stream",
     "text": [
      "Phases: 46\n"
     ]
    },
    {
     "name": "stderr",
     "output_type": "stream",
     "text": [
      " 10% (49385 of 482173) |#                | Elapsed Time: 0:04:57 ETA:   1:05:36"
     ]
    },
    {
     "name": "stdout",
     "output_type": "stream",
     "text": [
      "Phases: 47\n"
     ]
    },
    {
     "name": "stderr",
     "output_type": "stream",
     "text": [
      " 10% (50596 of 482173) |#                | Elapsed Time: 0:05:04 ETA:   1:08:52"
     ]
    },
    {
     "name": "stdout",
     "output_type": "stream",
     "text": [
      "Phases: 48\n"
     ]
    },
    {
     "name": "stderr",
     "output_type": "stream",
     "text": [
      " 10% (51571 of 482173) |#                | Elapsed Time: 0:05:10 ETA:   1:08:33"
     ]
    },
    {
     "name": "stdout",
     "output_type": "stream",
     "text": [
      "Phases: 49\n"
     ]
    },
    {
     "name": "stderr",
     "output_type": "stream",
     "text": [
      " 10% (52932 of 482173) |#                | Elapsed Time: 0:05:18 ETA:   1:15:11"
     ]
    },
    {
     "name": "stdout",
     "output_type": "stream",
     "text": [
      "Phases: 50\n"
     ]
    },
    {
     "name": "stderr",
     "output_type": "stream",
     "text": [
      " 11% (54150 of 482173) |#                | Elapsed Time: 0:05:25 ETA:   1:04:17"
     ]
    },
    {
     "name": "stdout",
     "output_type": "stream",
     "text": [
      "Phases: 51\n"
     ]
    },
    {
     "name": "stderr",
     "output_type": "stream",
     "text": [
      " 11% (55599 of 482173) |#                | Elapsed Time: 0:05:33 ETA:   1:06:51"
     ]
    },
    {
     "name": "stdout",
     "output_type": "stream",
     "text": [
      "Phases: 52\n"
     ]
    },
    {
     "name": "stderr",
     "output_type": "stream",
     "text": [
      " 11% (56488 of 482173) |#                | Elapsed Time: 0:05:39 ETA:   1:04:58"
     ]
    },
    {
     "name": "stdout",
     "output_type": "stream",
     "text": [
      "Phases: 53\n"
     ]
    },
    {
     "name": "stderr",
     "output_type": "stream",
     "text": [
      " 11% (57670 of 482173) |##               | Elapsed Time: 0:05:45 ETA:   1:13:28"
     ]
    },
    {
     "name": "stdout",
     "output_type": "stream",
     "text": [
      "Phases: 54\n"
     ]
    },
    {
     "name": "stderr",
     "output_type": "stream",
     "text": [
      " 12% (58562 of 482173) |##               | Elapsed Time: 0:05:51 ETA:   1:01:58"
     ]
    },
    {
     "name": "stdout",
     "output_type": "stream",
     "text": [
      "Phases: 55\n"
     ]
    },
    {
     "name": "stderr",
     "output_type": "stream",
     "text": [
      " 12% (59793 of 482173) |##               | Elapsed Time: 0:05:58 ETA:   1:05:52"
     ]
    },
    {
     "name": "stdout",
     "output_type": "stream",
     "text": [
      "Phases: 56\n"
     ]
    },
    {
     "name": "stderr",
     "output_type": "stream",
     "text": [
      " 12% (60657 of 482173) |##               | Elapsed Time: 0:06:04 ETA:   1:03:36"
     ]
    },
    {
     "name": "stdout",
     "output_type": "stream",
     "text": [
      "Phases: 57\n"
     ]
    },
    {
     "name": "stderr",
     "output_type": "stream",
     "text": [
      " 12% (61870 of 482173) |##               | Elapsed Time: 0:06:11 ETA:   1:07:00"
     ]
    },
    {
     "name": "stdout",
     "output_type": "stream",
     "text": [
      "Phases: 58\n"
     ]
    },
    {
     "name": "stderr",
     "output_type": "stream",
     "text": [
      " 13% (62754 of 482173) |##               | Elapsed Time: 0:06:16 ETA:   1:07:28"
     ]
    },
    {
     "name": "stdout",
     "output_type": "stream",
     "text": [
      "Phases: 59\n"
     ]
    },
    {
     "name": "stderr",
     "output_type": "stream",
     "text": [
      " 13% (63948 of 482173) |##               | Elapsed Time: 0:06:23 ETA:   0:56:54"
     ]
    },
    {
     "name": "stdout",
     "output_type": "stream",
     "text": [
      "Phases: 60\n",
      "Subject 9 windowed. Time elapsed: 0:06:27\n",
      "\n",
      "Swing Onset at sample 5479\n"
     ]
    },
    {
     "name": "stderr",
     "output_type": "stream",
     "text": [
      "  0% (25 of 480922) |                    | Elapsed Time: 0:00:00 ETA:   0:32:21"
     ]
    },
    {
     "name": "stdout",
     "output_type": "stream",
     "text": [
      "Subject 10 rows: 486600\n"
     ]
    },
    {
     "name": "stderr",
     "output_type": "stream",
     "text": [
      "  0% (706 of 480922) |                   | Elapsed Time: 0:00:04 ETA:   1:21:53"
     ]
    },
    {
     "name": "stdout",
     "output_type": "stream",
     "text": [
      "Phases: 1\n"
     ]
    },
    {
     "name": "stderr",
     "output_type": "stream",
     "text": [
      "  0% (1988 of 480922) |                  | Elapsed Time: 0:00:11 ETA:   1:17:37"
     ]
    },
    {
     "name": "stdout",
     "output_type": "stream",
     "text": [
      "Phases: 2\n"
     ]
    },
    {
     "name": "stderr",
     "output_type": "stream",
     "text": [
      "  0% (2870 of 480922) |                  | Elapsed Time: 0:00:17 ETA:   1:13:44"
     ]
    },
    {
     "name": "stdout",
     "output_type": "stream",
     "text": [
      "Phases: 3\n"
     ]
    },
    {
     "name": "stderr",
     "output_type": "stream",
     "text": [
      "  0% (3989 of 480922) |                  | Elapsed Time: 0:00:23 ETA:   1:15:29"
     ]
    },
    {
     "name": "stdout",
     "output_type": "stream",
     "text": [
      "Phases: 4\n"
     ]
    },
    {
     "name": "stderr",
     "output_type": "stream",
     "text": [
      "  1% (4949 of 480922) |                  | Elapsed Time: 0:00:29 ETA:   1:14:39"
     ]
    },
    {
     "name": "stdout",
     "output_type": "stream",
     "text": [
      "Phases: 5\n"
     ]
    },
    {
     "name": "stderr",
     "output_type": "stream",
     "text": [
      "  1% (6101 of 480922) |                  | Elapsed Time: 0:00:36 ETA:   1:10:32"
     ]
    },
    {
     "name": "stdout",
     "output_type": "stream",
     "text": [
      "Phases: 6\n"
     ]
    },
    {
     "name": "stderr",
     "output_type": "stream",
     "text": [
      "  1% (6981 of 480922) |                  | Elapsed Time: 0:00:41 ETA:   1:20:19"
     ]
    },
    {
     "name": "stdout",
     "output_type": "stream",
     "text": [
      "Phases: 7\n"
     ]
    },
    {
     "name": "stderr",
     "output_type": "stream",
     "text": [
      "  1% (8162 of 480922) |                  | Elapsed Time: 0:00:48 ETA:   1:16:47"
     ]
    },
    {
     "name": "stdout",
     "output_type": "stream",
     "text": [
      "Phases: 8\n"
     ]
    },
    {
     "name": "stderr",
     "output_type": "stream",
     "text": [
      "  1% (9041 of 480922) |                  | Elapsed Time: 0:00:54 ETA:   1:18:50"
     ]
    },
    {
     "name": "stdout",
     "output_type": "stream",
     "text": [
      "Phases: 9\n"
     ]
    },
    {
     "name": "stderr",
     "output_type": "stream",
     "text": [
      "  2% (10195 of 480922) |                 | Elapsed Time: 0:01:01 ETA:   1:17:41"
     ]
    },
    {
     "name": "stdout",
     "output_type": "stream",
     "text": [
      "Phases: 10\n"
     ]
    },
    {
     "name": "stderr",
     "output_type": "stream",
     "text": [
      "  2% (11132 of 480922) |                 | Elapsed Time: 0:01:07 ETA:   1:14:46"
     ]
    },
    {
     "name": "stdout",
     "output_type": "stream",
     "text": [
      "Phases: 11\n"
     ]
    },
    {
     "name": "stderr",
     "output_type": "stream",
     "text": [
      "  2% (12232 of 480922) |                 | Elapsed Time: 0:01:13 ETA:   1:13:40"
     ]
    },
    {
     "name": "stdout",
     "output_type": "stream",
     "text": [
      "Phases: 12\n"
     ]
    },
    {
     "name": "stderr",
     "output_type": "stream",
     "text": [
      "  2% (13208 of 480922) |                 | Elapsed Time: 0:01:19 ETA:   1:09:38"
     ]
    },
    {
     "name": "stdout",
     "output_type": "stream",
     "text": [
      "Phases: 13\n"
     ]
    },
    {
     "name": "stderr",
     "output_type": "stream",
     "text": [
      "  2% (14312 of 480922) |                 | Elapsed Time: 0:01:26 ETA:   1:11:30"
     ]
    },
    {
     "name": "stdout",
     "output_type": "stream",
     "text": [
      "Phases: 14\n"
     ]
    },
    {
     "name": "stderr",
     "output_type": "stream",
     "text": [
      "  3% (15154 of 480922) |                 | Elapsed Time: 0:01:31 ETA:   1:16:25"
     ]
    },
    {
     "name": "stdout",
     "output_type": "stream",
     "text": [
      "Phases: 15\n"
     ]
    },
    {
     "name": "stderr",
     "output_type": "stream",
     "text": [
      "  3% (16219 of 480922) |                 | Elapsed Time: 0:01:37 ETA:   1:10:20"
     ]
    },
    {
     "name": "stdout",
     "output_type": "stream",
     "text": [
      "Phases: 16\n"
     ]
    },
    {
     "name": "stderr",
     "output_type": "stream",
     "text": [
      "  3% (17032 of 480922) |                 | Elapsed Time: 0:01:43 ETA:   1:12:06"
     ]
    },
    {
     "name": "stdout",
     "output_type": "stream",
     "text": [
      "Phases: 17\n"
     ]
    },
    {
     "name": "stderr",
     "output_type": "stream",
     "text": [
      "  3% (18440 of 480922) |                 | Elapsed Time: 0:01:50 ETA:   1:11:01"
     ]
    },
    {
     "name": "stdout",
     "output_type": "stream",
     "text": [
      "Phases: 18\n"
     ]
    },
    {
     "name": "stderr",
     "output_type": "stream",
     "text": [
      "  4% (19377 of 480922) |                 | Elapsed Time: 0:01:57 ETA:   1:23:00"
     ]
    },
    {
     "name": "stdout",
     "output_type": "stream",
     "text": [
      "Phases: 19\n"
     ]
    },
    {
     "name": "stderr",
     "output_type": "stream",
     "text": [
      "  4% (20514 of 480922) |                 | Elapsed Time: 0:02:04 ETA:   1:11:51"
     ]
    },
    {
     "name": "stdout",
     "output_type": "stream",
     "text": [
      "Phases: 20\n"
     ]
    },
    {
     "name": "stderr",
     "output_type": "stream",
     "text": [
      "  4% (21494 of 480922) |                 | Elapsed Time: 0:02:09 ETA:   1:11:08"
     ]
    },
    {
     "name": "stdout",
     "output_type": "stream",
     "text": [
      "Phases: 21\n"
     ]
    },
    {
     "name": "stderr",
     "output_type": "stream",
     "text": [
      "  4% (22657 of 480922) |                 | Elapsed Time: 0:02:16 ETA:   1:09:55"
     ]
    },
    {
     "name": "stdout",
     "output_type": "stream",
     "text": [
      "Phases: 22\n"
     ]
    },
    {
     "name": "stderr",
     "output_type": "stream",
     "text": [
      "  4% (23552 of 480922) |                 | Elapsed Time: 0:02:22 ETA:   1:12:42"
     ]
    },
    {
     "name": "stdout",
     "output_type": "stream",
     "text": [
      "Phases: 23\n"
     ]
    },
    {
     "name": "stderr",
     "output_type": "stream",
     "text": [
      "  5% (24731 of 480922) |                 | Elapsed Time: 0:02:29 ETA:   1:11:02"
     ]
    },
    {
     "name": "stdout",
     "output_type": "stream",
     "text": [
      "Phases: 24\n"
     ]
    },
    {
     "name": "stderr",
     "output_type": "stream",
     "text": [
      "  5% (25633 of 480922) |                 | Elapsed Time: 0:02:35 ETA:   1:08:33"
     ]
    },
    {
     "name": "stdout",
     "output_type": "stream",
     "text": [
      "Phases: 25\n"
     ]
    },
    {
     "name": "stderr",
     "output_type": "stream",
     "text": [
      "  5% (26760 of 480922) |                 | Elapsed Time: 0:02:41 ETA:   1:14:50"
     ]
    },
    {
     "name": "stdout",
     "output_type": "stream",
     "text": [
      "Phases: 26\n"
     ]
    },
    {
     "name": "stderr",
     "output_type": "stream",
     "text": [
      "  5% (27683 of 480922) |                 | Elapsed Time: 0:02:47 ETA:   1:15:48"
     ]
    },
    {
     "name": "stdout",
     "output_type": "stream",
     "text": [
      "Phases: 27\n"
     ]
    },
    {
     "name": "stderr",
     "output_type": "stream",
     "text": [
      "  5% (28849 of 480922) |#                | Elapsed Time: 0:02:54 ETA:   1:09:27"
     ]
    },
    {
     "name": "stdout",
     "output_type": "stream",
     "text": [
      "Phases: 28\n"
     ]
    },
    {
     "name": "stderr",
     "output_type": "stream",
     "text": [
      "  6% (29727 of 480922) |#                | Elapsed Time: 0:02:59 ETA:   1:08:10"
     ]
    },
    {
     "name": "stdout",
     "output_type": "stream",
     "text": [
      "Phases: 29\n"
     ]
    },
    {
     "name": "stderr",
     "output_type": "stream",
     "text": [
      "  6% (30810 of 480922) |#                | Elapsed Time: 0:03:06 ETA:   1:08:50"
     ]
    },
    {
     "name": "stdout",
     "output_type": "stream",
     "text": [
      "Phases: 30\n"
     ]
    },
    {
     "name": "stderr",
     "output_type": "stream",
     "text": [
      "  6% (31747 of 480922) |#                | Elapsed Time: 0:03:12 ETA:   1:06:45"
     ]
    },
    {
     "name": "stdout",
     "output_type": "stream",
     "text": [
      "Phases: 31\n"
     ]
    },
    {
     "name": "stderr",
     "output_type": "stream",
     "text": [
      "  6% (32992 of 480922) |#                | Elapsed Time: 0:03:19 ETA:   1:12:32"
     ]
    },
    {
     "name": "stdout",
     "output_type": "stream",
     "text": [
      "Phases: 32\n"
     ]
    },
    {
     "name": "stderr",
     "output_type": "stream",
     "text": [
      "  7% (33983 of 480922) |#                | Elapsed Time: 0:03:25 ETA:   1:09:36"
     ]
    },
    {
     "name": "stdout",
     "output_type": "stream",
     "text": [
      "Phases: 33\n"
     ]
    },
    {
     "name": "stderr",
     "output_type": "stream",
     "text": [
      "  7% (35213 of 480922) |#                | Elapsed Time: 0:03:32 ETA:   1:15:01"
     ]
    },
    {
     "name": "stdout",
     "output_type": "stream",
     "text": [
      "Phases: 34\n"
     ]
    },
    {
     "name": "stderr",
     "output_type": "stream",
     "text": [
      "  7% (36256 of 480922) |#                | Elapsed Time: 0:03:38 ETA:   1:11:04"
     ]
    },
    {
     "name": "stdout",
     "output_type": "stream",
     "text": [
      "Phases: 35\n"
     ]
    },
    {
     "name": "stderr",
     "output_type": "stream",
     "text": [
      "  7% (37556 of 480922) |#                | Elapsed Time: 0:03:45 ETA:   1:08:53"
     ]
    },
    {
     "name": "stdout",
     "output_type": "stream",
     "text": [
      "Phases: 36\n"
     ]
    },
    {
     "name": "stderr",
     "output_type": "stream",
     "text": [
      "  7% (38408 of 480922) |#                | Elapsed Time: 0:03:51 ETA:   1:13:03"
     ]
    },
    {
     "name": "stdout",
     "output_type": "stream",
     "text": [
      "Phases: 37\n"
     ]
    },
    {
     "name": "stderr",
     "output_type": "stream",
     "text": [
      "  8% (39596 of 480922) |#                | Elapsed Time: 0:03:58 ETA:   1:21:51"
     ]
    },
    {
     "name": "stdout",
     "output_type": "stream",
     "text": [
      "Phases: 38\n"
     ]
    },
    {
     "name": "stderr",
     "output_type": "stream",
     "text": [
      "  8% (40517 of 480922) |#                | Elapsed Time: 0:04:04 ETA:   1:07:12"
     ]
    },
    {
     "name": "stdout",
     "output_type": "stream",
     "text": [
      "Phases: 39\n"
     ]
    },
    {
     "name": "stderr",
     "output_type": "stream",
     "text": [
      "  8% (41656 of 480922) |#                | Elapsed Time: 0:04:11 ETA:   1:09:40"
     ]
    },
    {
     "name": "stdout",
     "output_type": "stream",
     "text": [
      "Phases: 40\n"
     ]
    },
    {
     "name": "stderr",
     "output_type": "stream",
     "text": [
      "  8% (42670 of 480922) |#                | Elapsed Time: 0:04:17 ETA:   1:06:41"
     ]
    },
    {
     "name": "stdout",
     "output_type": "stream",
     "text": [
      "Phases: 41\n"
     ]
    },
    {
     "name": "stderr",
     "output_type": "stream",
     "text": [
      "  9% (43823 of 480922) |#                | Elapsed Time: 0:04:23 ETA:   1:08:48"
     ]
    },
    {
     "name": "stdout",
     "output_type": "stream",
     "text": [
      "Phases: 42\n"
     ]
    },
    {
     "name": "stderr",
     "output_type": "stream",
     "text": [
      "  9% (44750 of 480922) |#                | Elapsed Time: 0:04:29 ETA:   1:07:21"
     ]
    },
    {
     "name": "stdout",
     "output_type": "stream",
     "text": [
      "Phases: 43\n"
     ]
    },
    {
     "name": "stderr",
     "output_type": "stream",
     "text": [
      "  9% (45884 of 480922) |#                | Elapsed Time: 0:04:36 ETA:   1:05:53"
     ]
    },
    {
     "name": "stdout",
     "output_type": "stream",
     "text": [
      "Phases: 44\n"
     ]
    },
    {
     "name": "stderr",
     "output_type": "stream",
     "text": [
      "  9% (46785 of 480922) |#                | Elapsed Time: 0:04:41 ETA:   1:04:41"
     ]
    },
    {
     "name": "stdout",
     "output_type": "stream",
     "text": [
      "Phases: 45\n"
     ]
    },
    {
     "name": "stderr",
     "output_type": "stream",
     "text": [
      "  9% (47962 of 480922) |#                | Elapsed Time: 0:04:48 ETA:   1:12:22"
     ]
    },
    {
     "name": "stdout",
     "output_type": "stream",
     "text": [
      "Phases: 46\n"
     ]
    },
    {
     "name": "stderr",
     "output_type": "stream",
     "text": [
      " 10% (48892 of 480922) |#                | Elapsed Time: 0:04:54 ETA:   1:10:45"
     ]
    },
    {
     "name": "stdout",
     "output_type": "stream",
     "text": [
      "Phases: 47\n"
     ]
    },
    {
     "name": "stderr",
     "output_type": "stream",
     "text": [
      " 10% (50087 of 480922) |#                | Elapsed Time: 0:05:01 ETA:   1:09:23"
     ]
    },
    {
     "name": "stdout",
     "output_type": "stream",
     "text": [
      "Phases: 48\n"
     ]
    },
    {
     "name": "stderr",
     "output_type": "stream",
     "text": [
      " 10% (51000 of 480922) |#                | Elapsed Time: 0:05:07 ETA:   1:03:30"
     ]
    },
    {
     "name": "stdout",
     "output_type": "stream",
     "text": [
      "Phases: 49\n"
     ]
    },
    {
     "name": "stderr",
     "output_type": "stream",
     "text": [
      " 10% (52201 of 480922) |#                | Elapsed Time: 0:05:14 ETA:   1:09:00"
     ]
    },
    {
     "name": "stdout",
     "output_type": "stream",
     "text": [
      "Phases: 50\n"
     ]
    },
    {
     "name": "stderr",
     "output_type": "stream",
     "text": [
      " 11% (53040 of 480922) |#                | Elapsed Time: 0:05:19 ETA:   1:09:55"
     ]
    },
    {
     "name": "stdout",
     "output_type": "stream",
     "text": [
      "Phases: 51\n"
     ]
    },
    {
     "name": "stderr",
     "output_type": "stream",
     "text": [
      " 11% (54070 of 480922) |#                | Elapsed Time: 0:05:25 ETA:   1:07:48"
     ]
    },
    {
     "name": "stdout",
     "output_type": "stream",
     "text": [
      "Phases: 52\n"
     ]
    },
    {
     "name": "stderr",
     "output_type": "stream",
     "text": [
      " 11% (54746 of 480922) |#                | Elapsed Time: 0:05:30 ETA:   1:05:13"
     ]
    },
    {
     "name": "stdout",
     "output_type": "stream",
     "text": [
      "Phases: 53\n"
     ]
    },
    {
     "name": "stderr",
     "output_type": "stream",
     "text": [
      " 11% (56015 of 480922) |#                | Elapsed Time: 0:05:37 ETA:   1:05:33"
     ]
    },
    {
     "name": "stdout",
     "output_type": "stream",
     "text": [
      "Phases: 54\n"
     ]
    },
    {
     "name": "stderr",
     "output_type": "stream",
     "text": [
      " 11% (56957 of 480922) |##               | Elapsed Time: 0:05:43 ETA:   1:03:56"
     ]
    },
    {
     "name": "stdout",
     "output_type": "stream",
     "text": [
      "Phases: 55\n"
     ]
    },
    {
     "name": "stderr",
     "output_type": "stream",
     "text": [
      " 12% (58162 of 480922) |##               | Elapsed Time: 0:05:50 ETA:   1:07:47"
     ]
    },
    {
     "name": "stdout",
     "output_type": "stream",
     "text": [
      "Phases: 56\n"
     ]
    },
    {
     "name": "stderr",
     "output_type": "stream",
     "text": [
      " 12% (59055 of 480922) |##               | Elapsed Time: 0:05:56 ETA:   1:07:56"
     ]
    },
    {
     "name": "stdout",
     "output_type": "stream",
     "text": [
      "Phases: 57\n"
     ]
    },
    {
     "name": "stderr",
     "output_type": "stream",
     "text": [
      " 12% (60200 of 480922) |##               | Elapsed Time: 0:06:03 ETA:   1:06:14"
     ]
    },
    {
     "name": "stdout",
     "output_type": "stream",
     "text": [
      "Phases: 58\n"
     ]
    },
    {
     "name": "stderr",
     "output_type": "stream",
     "text": [
      " 12% (61089 of 480922) |##               | Elapsed Time: 0:06:08 ETA:   1:04:09"
     ]
    },
    {
     "name": "stdout",
     "output_type": "stream",
     "text": [
      "Phases: 59\n"
     ]
    },
    {
     "name": "stderr",
     "output_type": "stream",
     "text": [
      " 12% (62258 of 480922) |##               | Elapsed Time: 0:06:15 ETA:   1:07:02"
     ]
    },
    {
     "name": "stdout",
     "output_type": "stream",
     "text": [
      "Phases: 60\n",
      "Subject 10 windowed. Time elapsed: 0:06:19\n",
      "\n",
      "Swing Onset at sample 5683\n"
     ]
    },
    {
     "name": "stderr",
     "output_type": "stream",
     "text": [
      "  0% (24 of 480718) |                    | Elapsed Time: 0:00:00 ETA:   0:33:30"
     ]
    },
    {
     "name": "stdout",
     "output_type": "stream",
     "text": [
      "Subject 11 rows: 486600\n"
     ]
    },
    {
     "name": "stderr",
     "output_type": "stream",
     "text": [
      "  0% (676 of 480718) |                   | Elapsed Time: 0:00:03 ETA:   1:17:51"
     ]
    },
    {
     "name": "stdout",
     "output_type": "stream",
     "text": [
      "Phases: 1\n"
     ]
    },
    {
     "name": "stderr",
     "output_type": "stream",
     "text": [
      "  0% (2084 of 480718) |                  | Elapsed Time: 0:00:11 ETA:   1:25:28"
     ]
    },
    {
     "name": "stdout",
     "output_type": "stream",
     "text": [
      "Phases: 2\n"
     ]
    },
    {
     "name": "stderr",
     "output_type": "stream",
     "text": [
      "  0% (2976 of 480718) |                  | Elapsed Time: 0:00:17 ETA:   1:18:15"
     ]
    },
    {
     "name": "stdout",
     "output_type": "stream",
     "text": [
      "Phases: 3\n"
     ]
    },
    {
     "name": "stderr",
     "output_type": "stream",
     "text": [
      "  0% (4181 of 480718) |                  | Elapsed Time: 0:00:24 ETA:   1:15:30"
     ]
    },
    {
     "name": "stdout",
     "output_type": "stream",
     "text": [
      "Phases: 4\n"
     ]
    },
    {
     "name": "stderr",
     "output_type": "stream",
     "text": [
      "  1% (5041 of 480718) |                  | Elapsed Time: 0:00:30 ETA:   1:24:09"
     ]
    },
    {
     "name": "stdout",
     "output_type": "stream",
     "text": [
      "Phases: 5\n"
     ]
    },
    {
     "name": "stderr",
     "output_type": "stream",
     "text": [
      "  1% (6232 of 480718) |                  | Elapsed Time: 0:00:37 ETA:   1:36:27"
     ]
    },
    {
     "name": "stdout",
     "output_type": "stream",
     "text": [
      "Phases: 6\n"
     ]
    },
    {
     "name": "stderr",
     "output_type": "stream",
     "text": [
      "  1% (7062 of 480718) |                  | Elapsed Time: 0:00:43 ETA:   1:18:24"
     ]
    },
    {
     "name": "stdout",
     "output_type": "stream",
     "text": [
      "Phases: 7\n"
     ]
    },
    {
     "name": "stderr",
     "output_type": "stream",
     "text": [
      "  1% (8239 of 480718) |                  | Elapsed Time: 0:00:50 ETA:   1:28:52"
     ]
    },
    {
     "name": "stdout",
     "output_type": "stream",
     "text": [
      "Phases: 8\n"
     ]
    },
    {
     "name": "stderr",
     "output_type": "stream",
     "text": [
      "  1% (9076 of 480718) |                  | Elapsed Time: 0:00:55 ETA:   1:29:41"
     ]
    },
    {
     "name": "stdout",
     "output_type": "stream",
     "text": [
      "Phases: 9\n"
     ]
    },
    {
     "name": "stderr",
     "output_type": "stream",
     "text": [
      "  2% (10249 of 480718) |                 | Elapsed Time: 0:01:02 ETA:   1:11:07"
     ]
    },
    {
     "name": "stdout",
     "output_type": "stream",
     "text": [
      "Phases: 10\n"
     ]
    },
    {
     "name": "stderr",
     "output_type": "stream",
     "text": [
      "  2% (11092 of 480718) |                 | Elapsed Time: 0:01:08 ETA:   1:11:11"
     ]
    },
    {
     "name": "stdout",
     "output_type": "stream",
     "text": [
      "Phases: 11\n"
     ]
    },
    {
     "name": "stderr",
     "output_type": "stream",
     "text": [
      "  2% (12255 of 480718) |                 | Elapsed Time: 0:01:15 ETA:   1:19:58"
     ]
    },
    {
     "name": "stdout",
     "output_type": "stream",
     "text": [
      "Phases: 12\n"
     ]
    },
    {
     "name": "stderr",
     "output_type": "stream",
     "text": [
      "  2% (13123 of 480718) |                 | Elapsed Time: 0:01:21 ETA:   1:13:48"
     ]
    },
    {
     "name": "stdout",
     "output_type": "stream",
     "text": [
      "Phases: 13\n"
     ]
    },
    {
     "name": "stderr",
     "output_type": "stream",
     "text": [
      "  2% (14280 of 480718) |                 | Elapsed Time: 0:01:27 ETA:   1:22:27"
     ]
    },
    {
     "name": "stdout",
     "output_type": "stream",
     "text": [
      "Phases: 14\n"
     ]
    },
    {
     "name": "stderr",
     "output_type": "stream",
     "text": [
      "  3% (15162 of 480718) |                 | Elapsed Time: 0:01:33 ETA:   1:11:59"
     ]
    },
    {
     "name": "stdout",
     "output_type": "stream",
     "text": [
      "Phases: 15\n"
     ]
    },
    {
     "name": "stderr",
     "output_type": "stream",
     "text": [
      "  3% (16369 of 480718) |                 | Elapsed Time: 0:01:40 ETA:   1:10:54"
     ]
    },
    {
     "name": "stdout",
     "output_type": "stream",
     "text": [
      "Phases: 16\n"
     ]
    },
    {
     "name": "stderr",
     "output_type": "stream",
     "text": [
      "  3% (17152 of 480718) |                 | Elapsed Time: 0:01:45 ETA:   1:14:29"
     ]
    },
    {
     "name": "stdout",
     "output_type": "stream",
     "text": [
      "Phases: 17\n"
     ]
    },
    {
     "name": "stderr",
     "output_type": "stream",
     "text": [
      "  3% (18459 of 480718) |                 | Elapsed Time: 0:01:53 ETA:   1:12:44"
     ]
    },
    {
     "name": "stdout",
     "output_type": "stream",
     "text": [
      "Phases: 18\n"
     ]
    },
    {
     "name": "stderr",
     "output_type": "stream",
     "text": [
      "  4% (19265 of 480718) |                 | Elapsed Time: 0:01:58 ETA:   1:19:02"
     ]
    },
    {
     "name": "stdout",
     "output_type": "stream",
     "text": [
      "Phases: 19\n"
     ]
    },
    {
     "name": "stderr",
     "output_type": "stream",
     "text": [
      "  4% (20585 of 480718) |                 | Elapsed Time: 0:02:05 ETA:   1:13:28"
     ]
    },
    {
     "name": "stdout",
     "output_type": "stream",
     "text": [
      "Phases: 20\n"
     ]
    },
    {
     "name": "stderr",
     "output_type": "stream",
     "text": [
      "  4% (21642 of 480718) |                 | Elapsed Time: 0:02:12 ETA:   1:39:10"
     ]
    },
    {
     "name": "stdout",
     "output_type": "stream",
     "text": [
      "Phases: 21\n"
     ]
    },
    {
     "name": "stderr",
     "output_type": "stream",
     "text": [
      "  4% (23130 of 480718) |                 | Elapsed Time: 0:02:22 ETA:   1:30:13"
     ]
    },
    {
     "name": "stdout",
     "output_type": "stream",
     "text": [
      "Phases: 22\n"
     ]
    },
    {
     "name": "stderr",
     "output_type": "stream",
     "text": [
      "  4% (24010 of 480718) |                 | Elapsed Time: 0:02:27 ETA:   1:19:43"
     ]
    },
    {
     "name": "stdout",
     "output_type": "stream",
     "text": [
      "Phases: 23\n"
     ]
    },
    {
     "name": "stderr",
     "output_type": "stream",
     "text": [
      "  5% (25228 of 480718) |                 | Elapsed Time: 0:02:35 ETA:   1:14:47"
     ]
    },
    {
     "name": "stdout",
     "output_type": "stream",
     "text": [
      "Phases: 24\n"
     ]
    },
    {
     "name": "stderr",
     "output_type": "stream",
     "text": [
      "  5% (26111 of 480718) |                 | Elapsed Time: 0:02:40 ETA:   1:14:29"
     ]
    },
    {
     "name": "stdout",
     "output_type": "stream",
     "text": [
      "Phases: 25\n"
     ]
    },
    {
     "name": "stderr",
     "output_type": "stream",
     "text": [
      "  5% (27336 of 480718) |                 | Elapsed Time: 0:02:47 ETA:   1:16:56"
     ]
    },
    {
     "name": "stdout",
     "output_type": "stream",
     "text": [
      "Phases: 26\n"
     ]
    },
    {
     "name": "stderr",
     "output_type": "stream",
     "text": [
      "  5% (28182 of 480718) |                 | Elapsed Time: 0:02:53 ETA:   1:18:05"
     ]
    },
    {
     "name": "stdout",
     "output_type": "stream",
     "text": [
      "Phases: 27\n"
     ]
    },
    {
     "name": "stderr",
     "output_type": "stream",
     "text": [
      "  6% (29395 of 480718) |#                | Elapsed Time: 0:03:01 ETA:   1:20:20"
     ]
    },
    {
     "name": "stdout",
     "output_type": "stream",
     "text": [
      "Phases: 28\n"
     ]
    },
    {
     "name": "stderr",
     "output_type": "stream",
     "text": [
      "  6% (30213 of 480718) |#                | Elapsed Time: 0:03:06 ETA:   1:11:00"
     ]
    },
    {
     "name": "stdout",
     "output_type": "stream",
     "text": [
      "Phases: 29\n"
     ]
    },
    {
     "name": "stderr",
     "output_type": "stream",
     "text": [
      "  6% (31444 of 480718) |#                | Elapsed Time: 0:03:14 ETA:   1:24:25"
     ]
    },
    {
     "name": "stdout",
     "output_type": "stream",
     "text": [
      "Phases: 30\n"
     ]
    },
    {
     "name": "stderr",
     "output_type": "stream",
     "text": [
      "  6% (32315 of 480718) |#                | Elapsed Time: 0:03:20 ETA:   1:23:15"
     ]
    },
    {
     "name": "stdout",
     "output_type": "stream",
     "text": [
      "Phases: 31\n"
     ]
    },
    {
     "name": "stderr",
     "output_type": "stream",
     "text": [
      "  6% (33577 of 480718) |#                | Elapsed Time: 0:03:27 ETA:   1:21:06"
     ]
    },
    {
     "name": "stdout",
     "output_type": "stream",
     "text": [
      "Phases: 32\n"
     ]
    },
    {
     "name": "stderr",
     "output_type": "stream",
     "text": [
      "  7% (34441 of 480718) |#                | Elapsed Time: 0:03:33 ETA:   1:16:09"
     ]
    },
    {
     "name": "stdout",
     "output_type": "stream",
     "text": [
      "Phases: 33\n"
     ]
    },
    {
     "name": "stderr",
     "output_type": "stream",
     "text": [
      "  7% (35665 of 480718) |#                | Elapsed Time: 0:03:40 ETA:   1:17:43"
     ]
    },
    {
     "name": "stdout",
     "output_type": "stream",
     "text": [
      "Phases: 34\n"
     ]
    },
    {
     "name": "stderr",
     "output_type": "stream",
     "text": [
      "  7% (36525 of 480718) |#                | Elapsed Time: 0:03:46 ETA:   1:09:51"
     ]
    },
    {
     "name": "stdout",
     "output_type": "stream",
     "text": [
      "Phases: 35\n"
     ]
    },
    {
     "name": "stderr",
     "output_type": "stream",
     "text": [
      "  7% (37798 of 480718) |#                | Elapsed Time: 0:03:53 ETA:   1:06:23"
     ]
    },
    {
     "name": "stdout",
     "output_type": "stream",
     "text": [
      "Phases: 36\n"
     ]
    },
    {
     "name": "stderr",
     "output_type": "stream",
     "text": [
      "  8% (38643 of 480718) |#                | Elapsed Time: 0:03:59 ETA:   1:25:03"
     ]
    },
    {
     "name": "stdout",
     "output_type": "stream",
     "text": [
      "Phases: 37\n"
     ]
    },
    {
     "name": "stderr",
     "output_type": "stream",
     "text": [
      "  8% (39945 of 480718) |#                | Elapsed Time: 0:04:07 ETA:   1:10:32"
     ]
    },
    {
     "name": "stdout",
     "output_type": "stream",
     "text": [
      "Phases: 38\n"
     ]
    },
    {
     "name": "stderr",
     "output_type": "stream",
     "text": [
      "  8% (40849 of 480718) |#                | Elapsed Time: 0:04:12 ETA:   1:03:44"
     ]
    },
    {
     "name": "stdout",
     "output_type": "stream",
     "text": [
      "Phases: 39\n"
     ]
    },
    {
     "name": "stderr",
     "output_type": "stream",
     "text": [
      "  8% (42417 of 480718) |#                | Elapsed Time: 0:04:21 ETA:   1:08:54"
     ]
    },
    {
     "name": "stdout",
     "output_type": "stream",
     "text": [
      "Phases: 40\n"
     ]
    },
    {
     "name": "stderr",
     "output_type": "stream",
     "text": [
      "  8% (42866 of 480718) |#                | Elapsed Time: 0:04:25 ETA:   1:09:13"
     ]
    },
    {
     "name": "stdout",
     "output_type": "stream",
     "text": [
      "Phases: 41\n"
     ]
    },
    {
     "name": "stderr",
     "output_type": "stream",
     "text": [
      "  9% (44989 of 480718) |#                | Elapsed Time: 0:04:36 ETA:   1:50:44"
     ]
    },
    {
     "name": "stdout",
     "output_type": "stream",
     "text": [
      "Phases: 42\n"
     ]
    },
    {
     "name": "stderr",
     "output_type": "stream",
     "text": [
      "  9% (46042 of 480718) |#                | Elapsed Time: 0:04:44 ETA:   1:18:36"
     ]
    },
    {
     "name": "stdout",
     "output_type": "stream",
     "text": [
      "Phases: 43\n"
     ]
    },
    {
     "name": "stderr",
     "output_type": "stream",
     "text": [
      "  9% (47460 of 480718) |#                | Elapsed Time: 0:04:52 ETA:   1:22:40"
     ]
    },
    {
     "name": "stdout",
     "output_type": "stream",
     "text": [
      "Phases: 44\n"
     ]
    },
    {
     "name": "stderr",
     "output_type": "stream",
     "text": [
      " 10% (48381 of 480718) |#                | Elapsed Time: 0:04:59 ETA:   1:21:35"
     ]
    },
    {
     "name": "stdout",
     "output_type": "stream",
     "text": [
      "Phases: 45\n"
     ]
    },
    {
     "name": "stderr",
     "output_type": "stream",
     "text": [
      " 10% (49585 of 480718) |#                | Elapsed Time: 0:05:07 ETA:   1:22:16"
     ]
    },
    {
     "name": "stdout",
     "output_type": "stream",
     "text": [
      "Phases: 46\n"
     ]
    },
    {
     "name": "stderr",
     "output_type": "stream",
     "text": [
      " 10% (50433 of 480718) |#                | Elapsed Time: 0:05:13 ETA:   1:33:15"
     ]
    },
    {
     "name": "stdout",
     "output_type": "stream",
     "text": [
      "Phases: 47\n"
     ]
    },
    {
     "name": "stderr",
     "output_type": "stream",
     "text": [
      " 10% (51588 of 480718) |#                | Elapsed Time: 0:05:20 ETA:   1:18:14"
     ]
    },
    {
     "name": "stdout",
     "output_type": "stream",
     "text": [
      "Phases: 48\n"
     ]
    },
    {
     "name": "stderr",
     "output_type": "stream",
     "text": [
      " 10% (52473 of 480718) |#                | Elapsed Time: 0:05:26 ETA:   1:17:58"
     ]
    },
    {
     "name": "stdout",
     "output_type": "stream",
     "text": [
      "Phases: 49\n"
     ]
    },
    {
     "name": "stderr",
     "output_type": "stream",
     "text": [
      " 11% (53660 of 480718) |#                | Elapsed Time: 0:05:33 ETA:   1:04:30"
     ]
    },
    {
     "name": "stdout",
     "output_type": "stream",
     "text": [
      "Phases: 50\n"
     ]
    },
    {
     "name": "stderr",
     "output_type": "stream",
     "text": [
      " 11% (54541 of 480718) |#                | Elapsed Time: 0:05:38 ETA:   1:17:31"
     ]
    },
    {
     "name": "stdout",
     "output_type": "stream",
     "text": [
      "Phases: 51\n"
     ]
    },
    {
     "name": "stderr",
     "output_type": "stream",
     "text": [
      " 11% (55773 of 480718) |#                | Elapsed Time: 0:05:46 ETA:   1:07:28"
     ]
    },
    {
     "name": "stdout",
     "output_type": "stream",
     "text": [
      "Phases: 52\n"
     ]
    },
    {
     "name": "stderr",
     "output_type": "stream",
     "text": [
      " 11% (56625 of 480718) |##               | Elapsed Time: 0:05:51 ETA:   1:02:46"
     ]
    },
    {
     "name": "stdout",
     "output_type": "stream",
     "text": [
      "Phases: 53\n"
     ]
    },
    {
     "name": "stderr",
     "output_type": "stream",
     "text": [
      " 12% (57821 of 480718) |##               | Elapsed Time: 0:05:59 ETA:   1:18:39"
     ]
    },
    {
     "name": "stdout",
     "output_type": "stream",
     "text": [
      "Phases: 54\n"
     ]
    },
    {
     "name": "stderr",
     "output_type": "stream",
     "text": [
      " 12% (58713 of 480718) |##               | Elapsed Time: 0:06:05 ETA:   1:04:04"
     ]
    },
    {
     "name": "stdout",
     "output_type": "stream",
     "text": [
      "Phases: 55\n"
     ]
    },
    {
     "name": "stderr",
     "output_type": "stream",
     "text": [
      " 12% (59974 of 480718) |##               | Elapsed Time: 0:06:12 ETA:   1:30:03"
     ]
    },
    {
     "name": "stdout",
     "output_type": "stream",
     "text": [
      "Phases: 56\n"
     ]
    },
    {
     "name": "stderr",
     "output_type": "stream",
     "text": [
      " 12% (60851 of 480718) |##               | Elapsed Time: 0:06:18 ETA:   0:56:15"
     ]
    },
    {
     "name": "stdout",
     "output_type": "stream",
     "text": [
      "Phases: 57\n"
     ]
    },
    {
     "name": "stderr",
     "output_type": "stream",
     "text": [
      " 12% (62074 of 480718) |##               | Elapsed Time: 0:06:25 ETA:   1:06:33"
     ]
    },
    {
     "name": "stdout",
     "output_type": "stream",
     "text": [
      "Phases: 58\n"
     ]
    },
    {
     "name": "stderr",
     "output_type": "stream",
     "text": [
      " 13% (62884 of 480718) |##               | Elapsed Time: 0:06:30 ETA:   1:04:25"
     ]
    },
    {
     "name": "stdout",
     "output_type": "stream",
     "text": [
      "Phases: 59\n"
     ]
    },
    {
     "name": "stderr",
     "output_type": "stream",
     "text": [
      " 13% (64113 of 480718) |##               | Elapsed Time: 0:06:37 ETA:   0:56:30"
     ]
    },
    {
     "name": "stdout",
     "output_type": "stream",
     "text": [
      "Phases: 60\n",
      "Subject 11 windowed. Time elapsed: 0:06:41\n",
      "\n",
      "Swing Onset at sample 6437\n"
     ]
    },
    {
     "name": "stderr",
     "output_type": "stream",
     "text": [
      "  0% (26 of 479964) |                    | Elapsed Time: 0:00:00 ETA:   0:31:56"
     ]
    },
    {
     "name": "stdout",
     "output_type": "stream",
     "text": [
      "Subject 12 rows: 486600\n"
     ]
    },
    {
     "name": "stderr",
     "output_type": "stream",
     "text": [
      "  0% (362 of 479964) |                   | Elapsed Time: 0:00:02 ETA:   1:10:07"
     ]
    },
    {
     "name": "stdout",
     "output_type": "stream",
     "text": [
      "Phases: 1\n"
     ]
    },
    {
     "name": "stderr",
     "output_type": "stream",
     "text": [
      "  0% (1632 of 479964) |                  | Elapsed Time: 0:00:09 ETA:   1:20:50"
     ]
    },
    {
     "name": "stdout",
     "output_type": "stream",
     "text": [
      "Phases: 2\n"
     ]
    },
    {
     "name": "stderr",
     "output_type": "stream",
     "text": [
      "  0% (2494 of 479964) |                  | Elapsed Time: 0:00:15 ETA:   1:11:07"
     ]
    },
    {
     "name": "stdout",
     "output_type": "stream",
     "text": [
      "Phases: 3\n"
     ]
    },
    {
     "name": "stderr",
     "output_type": "stream",
     "text": [
      "  0% (3699 of 479964) |                  | Elapsed Time: 0:00:22 ETA:   1:15:37"
     ]
    },
    {
     "name": "stdout",
     "output_type": "stream",
     "text": [
      "Phases: 4\n"
     ]
    },
    {
     "name": "stderr",
     "output_type": "stream",
     "text": [
      "  0% (4707 of 479964) |                  | Elapsed Time: 0:00:28 ETA:   1:22:54"
     ]
    },
    {
     "name": "stdout",
     "output_type": "stream",
     "text": [
      "Phases: 5\n"
     ]
    },
    {
     "name": "stderr",
     "output_type": "stream",
     "text": [
      "  1% (5944 of 479964) |                  | Elapsed Time: 0:00:35 ETA:   1:12:01"
     ]
    },
    {
     "name": "stdout",
     "output_type": "stream",
     "text": [
      "Phases: 6\n"
     ]
    },
    {
     "name": "stderr",
     "output_type": "stream",
     "text": [
      "  1% (6948 of 479964) |                  | Elapsed Time: 0:00:41 ETA:   1:12:54"
     ]
    },
    {
     "name": "stdout",
     "output_type": "stream",
     "text": [
      "Phases: 7\n"
     ]
    },
    {
     "name": "stderr",
     "output_type": "stream",
     "text": [
      "  1% (8501 of 479964) |                  | Elapsed Time: 0:00:50 ETA:   1:26:08"
     ]
    },
    {
     "name": "stdout",
     "output_type": "stream",
     "text": [
      "Phases: 8\n"
     ]
    },
    {
     "name": "stderr",
     "output_type": "stream",
     "text": [
      "  1% (9125 of 479964) |                  | Elapsed Time: 0:00:54 ETA:   1:14:26"
     ]
    },
    {
     "name": "stdout",
     "output_type": "stream",
     "text": [
      "Phases: 9\n"
     ]
    },
    {
     "name": "stderr",
     "output_type": "stream",
     "text": [
      "  2% (10418 of 479964) |                 | Elapsed Time: 0:01:02 ETA:   1:28:11"
     ]
    },
    {
     "name": "stdout",
     "output_type": "stream",
     "text": [
      "Phases: 10\n"
     ]
    },
    {
     "name": "stderr",
     "output_type": "stream",
     "text": [
      "  2% (11293 of 479964) |                 | Elapsed Time: 0:01:08 ETA:   1:24:21"
     ]
    },
    {
     "name": "stdout",
     "output_type": "stream",
     "text": [
      "Phases: 11\n"
     ]
    },
    {
     "name": "stderr",
     "output_type": "stream",
     "text": [
      "  2% (12415 of 479964) |                 | Elapsed Time: 0:01:15 ETA:   1:14:22"
     ]
    },
    {
     "name": "stdout",
     "output_type": "stream",
     "text": [
      "Phases: 12\n"
     ]
    },
    {
     "name": "stderr",
     "output_type": "stream",
     "text": [
      "  2% (13445 of 479964) |                 | Elapsed Time: 0:01:21 ETA:   1:23:26"
     ]
    },
    {
     "name": "stdout",
     "output_type": "stream",
     "text": [
      "Phases: 13\n"
     ]
    },
    {
     "name": "stderr",
     "output_type": "stream",
     "text": [
      "  3% (14606 of 479964) |                 | Elapsed Time: 0:01:28 ETA:   1:21:14"
     ]
    },
    {
     "name": "stdout",
     "output_type": "stream",
     "text": [
      "Phases: 14\n"
     ]
    },
    {
     "name": "stderr",
     "output_type": "stream",
     "text": [
      "  3% (15594 of 479964) |                 | Elapsed Time: 0:01:34 ETA:   1:11:42"
     ]
    },
    {
     "name": "stdout",
     "output_type": "stream",
     "text": [
      "Phases: 15\n"
     ]
    },
    {
     "name": "stderr",
     "output_type": "stream",
     "text": [
      "  3% (16742 of 479964) |                 | Elapsed Time: 0:01:41 ETA:   1:24:27"
     ]
    },
    {
     "name": "stdout",
     "output_type": "stream",
     "text": [
      "Phases: 16\n"
     ]
    },
    {
     "name": "stderr",
     "output_type": "stream",
     "text": [
      "  3% (17658 of 479964) |                 | Elapsed Time: 0:01:47 ETA:   1:13:00"
     ]
    },
    {
     "name": "stdout",
     "output_type": "stream",
     "text": [
      "Phases: 17\n"
     ]
    },
    {
     "name": "stderr",
     "output_type": "stream",
     "text": [
      "  3% (19044 of 479964) |                 | Elapsed Time: 0:01:55 ETA:   1:22:14"
     ]
    },
    {
     "name": "stdout",
     "output_type": "stream",
     "text": [
      "Phases: 18\n"
     ]
    },
    {
     "name": "stderr",
     "output_type": "stream",
     "text": [
      "  4% (19807 of 479964) |                 | Elapsed Time: 0:02:00 ETA:   1:17:54"
     ]
    },
    {
     "name": "stdout",
     "output_type": "stream",
     "text": [
      "Phases: 19\n"
     ]
    },
    {
     "name": "stderr",
     "output_type": "stream",
     "text": [
      "  4% (20997 of 479964) |                 | Elapsed Time: 0:02:07 ETA:   1:12:50"
     ]
    },
    {
     "name": "stdout",
     "output_type": "stream",
     "text": [
      "Phases: 20\n"
     ]
    },
    {
     "name": "stderr",
     "output_type": "stream",
     "text": [
      "  4% (21897 of 479964) |                 | Elapsed Time: 0:02:13 ETA:   1:17:09"
     ]
    },
    {
     "name": "stdout",
     "output_type": "stream",
     "text": [
      "Phases: 21\n"
     ]
    },
    {
     "name": "stderr",
     "output_type": "stream",
     "text": [
      "  4% (23211 of 479964) |                 | Elapsed Time: 0:02:21 ETA:   1:20:21"
     ]
    },
    {
     "name": "stdout",
     "output_type": "stream",
     "text": [
      "Phases: 22\n"
     ]
    },
    {
     "name": "stderr",
     "output_type": "stream",
     "text": [
      "  5% (24066 of 479964) |                 | Elapsed Time: 0:02:26 ETA:   1:19:46"
     ]
    },
    {
     "name": "stdout",
     "output_type": "stream",
     "text": [
      "Phases: 23\n"
     ]
    },
    {
     "name": "stderr",
     "output_type": "stream",
     "text": [
      "  5% (25264 of 479964) |                 | Elapsed Time: 0:02:34 ETA:   1:17:18"
     ]
    },
    {
     "name": "stdout",
     "output_type": "stream",
     "text": [
      "Phases: 24\n"
     ]
    },
    {
     "name": "stderr",
     "output_type": "stream",
     "text": [
      "  5% (26121 of 479964) |                 | Elapsed Time: 0:02:39 ETA:   1:12:25"
     ]
    },
    {
     "name": "stdout",
     "output_type": "stream",
     "text": [
      "Phases: 25\n"
     ]
    },
    {
     "name": "stderr",
     "output_type": "stream",
     "text": [
      "  5% (27446 of 479964) |                 | Elapsed Time: 0:02:47 ETA:   1:15:34"
     ]
    },
    {
     "name": "stdout",
     "output_type": "stream",
     "text": [
      "Phases: 26\n"
     ]
    },
    {
     "name": "stderr",
     "output_type": "stream",
     "text": [
      "  5% (28285 of 479964) |#                | Elapsed Time: 0:02:53 ETA:   1:14:59"
     ]
    },
    {
     "name": "stdout",
     "output_type": "stream",
     "text": [
      "Phases: 27\n"
     ]
    },
    {
     "name": "stderr",
     "output_type": "stream",
     "text": [
      "  6% (30040 of 479964) |#                | Elapsed Time: 0:03:02 ETA:   1:20:48"
     ]
    },
    {
     "name": "stdout",
     "output_type": "stream",
     "text": [
      "Phases: 28\n"
     ]
    },
    {
     "name": "stderr",
     "output_type": "stream",
     "text": [
      "  6% (30424 of 479964) |#                | Elapsed Time: 0:03:06 ETA:   1:22:01"
     ]
    },
    {
     "name": "stdout",
     "output_type": "stream",
     "text": [
      "Phases: 29\n"
     ]
    },
    {
     "name": "stderr",
     "output_type": "stream",
     "text": [
      "  6% (31709 of 479964) |#                | Elapsed Time: 0:03:14 ETA:   1:19:35"
     ]
    },
    {
     "name": "stdout",
     "output_type": "stream",
     "text": [
      "Phases: 30\n"
     ]
    },
    {
     "name": "stderr",
     "output_type": "stream",
     "text": [
      "  6% (32531 of 479964) |#                | Elapsed Time: 0:03:19 ETA:   1:16:13"
     ]
    },
    {
     "name": "stdout",
     "output_type": "stream",
     "text": [
      "Phases: 31\n"
     ]
    },
    {
     "name": "stderr",
     "output_type": "stream",
     "text": [
      "  7% (33785 of 479964) |#                | Elapsed Time: 0:03:27 ETA:   1:19:56"
     ]
    },
    {
     "name": "stdout",
     "output_type": "stream",
     "text": [
      "Phases: 32\n"
     ]
    },
    {
     "name": "stderr",
     "output_type": "stream",
     "text": [
      "  7% (34660 of 479964) |#                | Elapsed Time: 0:03:32 ETA:   1:12:36"
     ]
    },
    {
     "name": "stdout",
     "output_type": "stream",
     "text": [
      "Phases: 33\n"
     ]
    },
    {
     "name": "stderr",
     "output_type": "stream",
     "text": [
      "  7% (35866 of 479964) |#                | Elapsed Time: 0:03:39 ETA:   1:17:17"
     ]
    },
    {
     "name": "stdout",
     "output_type": "stream",
     "text": [
      "Phases: 34\n"
     ]
    },
    {
     "name": "stderr",
     "output_type": "stream",
     "text": [
      "  7% (36778 of 479964) |#                | Elapsed Time: 0:03:45 ETA:   1:18:56"
     ]
    },
    {
     "name": "stdout",
     "output_type": "stream",
     "text": [
      "Phases: 35\n"
     ]
    },
    {
     "name": "stderr",
     "output_type": "stream",
     "text": [
      "  7% (38107 of 479964) |#                | Elapsed Time: 0:03:53 ETA:   1:13:44"
     ]
    },
    {
     "name": "stdout",
     "output_type": "stream",
     "text": [
      "Phases: 36\n"
     ]
    },
    {
     "name": "stderr",
     "output_type": "stream",
     "text": [
      "  7% (38240 of 479964) |#                | Elapsed Time: 0:03:55 ETA:   1:52:44"
     ]
    },
    {
     "name": "stdout",
     "output_type": "stream",
     "text": [
      "Phases: 37\n"
     ]
    },
    {
     "name": "stderr",
     "output_type": "stream",
     "text": [
      "  8% (38401 of 479964) |#                | Elapsed Time: 0:03:57 ETA:   1:52:28"
     ]
    },
    {
     "name": "stdout",
     "output_type": "stream",
     "text": [
      "Phases: 38\n"
     ]
    },
    {
     "name": "stderr",
     "output_type": "stream",
     "text": [
      "  8% (38956 of 479964) |#                | Elapsed Time: 0:04:02 ETA:   1:17:04"
     ]
    },
    {
     "name": "stdout",
     "output_type": "stream",
     "text": [
      "Phases: 39\n"
     ]
    },
    {
     "name": "stderr",
     "output_type": "stream",
     "text": [
      "  8% (40182 of 479964) |#                | Elapsed Time: 0:04:09 ETA:   1:13:22"
     ]
    },
    {
     "name": "stdout",
     "output_type": "stream",
     "text": [
      "Phases: 40\n"
     ]
    },
    {
     "name": "stderr",
     "output_type": "stream",
     "text": [
      "  8% (41095 of 479964) |#                | Elapsed Time: 0:04:15 ETA:   1:31:26"
     ]
    },
    {
     "name": "stdout",
     "output_type": "stream",
     "text": [
      "Phases: 41\n"
     ]
    },
    {
     "name": "stderr",
     "output_type": "stream",
     "text": [
      "  8% (42164 of 479964) |#                | Elapsed Time: 0:04:22 ETA:   1:16:18"
     ]
    },
    {
     "name": "stdout",
     "output_type": "stream",
     "text": [
      "Phases: 42\n"
     ]
    },
    {
     "name": "stderr",
     "output_type": "stream",
     "text": [
      "  8% (42325 of 479964) |#                | Elapsed Time: 0:04:24 ETA:   1:50:28"
     ]
    },
    {
     "name": "stdout",
     "output_type": "stream",
     "text": [
      "Phases: 43\n"
     ]
    },
    {
     "name": "stderr",
     "output_type": "stream",
     "text": [
      "  8% (42977 of 479964) |#                | Elapsed Time: 0:04:29 ETA:   1:08:43"
     ]
    },
    {
     "name": "stdout",
     "output_type": "stream",
     "text": [
      "Phases: 44\n"
     ]
    },
    {
     "name": "stderr",
     "output_type": "stream",
     "text": [
      "  8% (43178 of 479964) |#                | Elapsed Time: 0:04:32 ETA:   1:46:50"
     ]
    },
    {
     "name": "stdout",
     "output_type": "stream",
     "text": [
      "Phases: 45\n"
     ]
    },
    {
     "name": "stderr",
     "output_type": "stream",
     "text": [
      "  9% (45172 of 479964) |#                | Elapsed Time: 0:04:42 ETA:   1:07:07"
     ]
    },
    {
     "name": "stdout",
     "output_type": "stream",
     "text": [
      "Phases: 46\n"
     ]
    },
    {
     "name": "stderr",
     "output_type": "stream",
     "text": [
      "  9% (45327 of 479964) |#                | Elapsed Time: 0:04:45 ETA:   1:47:33"
     ]
    },
    {
     "name": "stdout",
     "output_type": "stream",
     "text": [
      "Phases: 47\n"
     ]
    },
    {
     "name": "stderr",
     "output_type": "stream",
     "text": [
      "  9% (46661 of 479964) |#                | Elapsed Time: 0:04:52 ETA:   1:06:51"
     ]
    },
    {
     "name": "stdout",
     "output_type": "stream",
     "text": [
      "Phases: 48\n"
     ]
    },
    {
     "name": "stderr",
     "output_type": "stream",
     "text": [
      "  9% (47482 of 479964) |#                | Elapsed Time: 0:04:58 ETA:   1:09:37"
     ]
    },
    {
     "name": "stdout",
     "output_type": "stream",
     "text": [
      "Phases: 49\n"
     ]
    },
    {
     "name": "stderr",
     "output_type": "stream",
     "text": [
      " 10% (48926 of 479964) |#                | Elapsed Time: 0:05:06 ETA:   1:08:17"
     ]
    },
    {
     "name": "stdout",
     "output_type": "stream",
     "text": [
      "Phases: 50\n"
     ]
    },
    {
     "name": "stderr",
     "output_type": "stream",
     "text": [
      " 10% (49582 of 479964) |#                | Elapsed Time: 0:05:11 ETA:   1:17:36"
     ]
    },
    {
     "name": "stdout",
     "output_type": "stream",
     "text": [
      "Phases: 51\n"
     ]
    },
    {
     "name": "stderr",
     "output_type": "stream",
     "text": [
      " 10% (50745 of 479964) |#                | Elapsed Time: 0:05:18 ETA:   1:08:55"
     ]
    },
    {
     "name": "stdout",
     "output_type": "stream",
     "text": [
      "Phases: 52\n"
     ]
    },
    {
     "name": "stderr",
     "output_type": "stream",
     "text": [
      " 10% (51664 of 479964) |#                | Elapsed Time: 0:05:23 ETA:   1:07:29"
     ]
    },
    {
     "name": "stdout",
     "output_type": "stream",
     "text": [
      "Phases: 53\n"
     ]
    },
    {
     "name": "stderr",
     "output_type": "stream",
     "text": [
      " 11% (52931 of 479964) |#                | Elapsed Time: 0:05:31 ETA:   1:16:15"
     ]
    },
    {
     "name": "stdout",
     "output_type": "stream",
     "text": [
      "Phases: 54\n"
     ]
    },
    {
     "name": "stderr",
     "output_type": "stream",
     "text": [
      " 11% (53800 of 479964) |#                | Elapsed Time: 0:05:36 ETA:   1:07:23"
     ]
    },
    {
     "name": "stdout",
     "output_type": "stream",
     "text": [
      "Phases: 55\n"
     ]
    },
    {
     "name": "stderr",
     "output_type": "stream",
     "text": [
      " 11% (55162 of 479964) |#                | Elapsed Time: 0:05:44 ETA:   1:05:13"
     ]
    },
    {
     "name": "stdout",
     "output_type": "stream",
     "text": [
      "Phases: 56\n"
     ]
    },
    {
     "name": "stderr",
     "output_type": "stream",
     "text": [
      " 11% (55961 of 479964) |#                | Elapsed Time: 0:05:49 ETA:   1:12:08"
     ]
    },
    {
     "name": "stdout",
     "output_type": "stream",
     "text": [
      "Phases: 57\n"
     ]
    },
    {
     "name": "stderr",
     "output_type": "stream",
     "text": [
      " 11% (57193 of 479964) |##               | Elapsed Time: 0:05:57 ETA:   1:19:40"
     ]
    },
    {
     "name": "stdout",
     "output_type": "stream",
     "text": [
      "Phases: 58\n"
     ]
    },
    {
     "name": "stderr",
     "output_type": "stream",
     "text": [
      " 12% (58136 of 479964) |##               | Elapsed Time: 0:06:03 ETA:   1:12:25"
     ]
    },
    {
     "name": "stdout",
     "output_type": "stream",
     "text": [
      "Phases: 59\n"
     ]
    },
    {
     "name": "stderr",
     "output_type": "stream",
     "text": [
      " 12% (59389 of 479964) |##               | Elapsed Time: 0:06:10 ETA:   0:58:45"
     ]
    },
    {
     "name": "stdout",
     "output_type": "stream",
     "text": [
      "Phases: 60\n",
      "Subject 12 windowed. Time elapsed: 0:06:14\n",
      "\n",
      "Swing Onset at sample 2022\n"
     ]
    },
    {
     "name": "stderr",
     "output_type": "stream",
     "text": [
      "  0% (23 of 484379) |                    | Elapsed Time: 0:00:00 ETA:   0:36:15"
     ]
    },
    {
     "name": "stdout",
     "output_type": "stream",
     "text": [
      "Subject 13 rows: 486600\n"
     ]
    },
    {
     "name": "stderr",
     "output_type": "stream",
     "text": [
      "  0% (961 of 484379) |                   | Elapsed Time: 0:00:05 ETA:   1:23:43"
     ]
    },
    {
     "name": "stdout",
     "output_type": "stream",
     "text": [
      "Phases: 1\n"
     ]
    },
    {
     "name": "stderr",
     "output_type": "stream",
     "text": [
      "  0% (1997 of 484379) |                  | Elapsed Time: 0:00:11 ETA:   1:25:13"
     ]
    },
    {
     "name": "stdout",
     "output_type": "stream",
     "text": [
      "Phases: 2\n"
     ]
    },
    {
     "name": "stderr",
     "output_type": "stream",
     "text": [
      "  0% (2888 of 484379) |                  | Elapsed Time: 0:00:17 ETA:   1:32:20"
     ]
    },
    {
     "name": "stdout",
     "output_type": "stream",
     "text": [
      "Phases: 3\n"
     ]
    },
    {
     "name": "stderr",
     "output_type": "stream",
     "text": [
      "  0% (3809 of 484379) |                  | Elapsed Time: 0:00:23 ETA:   1:22:34"
     ]
    },
    {
     "name": "stdout",
     "output_type": "stream",
     "text": [
      "Phases: 4\n"
     ]
    },
    {
     "name": "stderr",
     "output_type": "stream",
     "text": [
      "  0% (4785 of 484379) |                  | Elapsed Time: 0:00:29 ETA:   1:22:35"
     ]
    },
    {
     "name": "stdout",
     "output_type": "stream",
     "text": [
      "Phases: 5\n"
     ]
    },
    {
     "name": "stderr",
     "output_type": "stream",
     "text": [
      "  1% (5706 of 484379) |                  | Elapsed Time: 0:00:35 ETA:   1:12:36"
     ]
    },
    {
     "name": "stdout",
     "output_type": "stream",
     "text": [
      "Phases: 6\n"
     ]
    },
    {
     "name": "stderr",
     "output_type": "stream",
     "text": [
      "  1% (6735 of 484379) |                  | Elapsed Time: 0:00:42 ETA:   1:27:17"
     ]
    },
    {
     "name": "stdout",
     "output_type": "stream",
     "text": [
      "Phases: 7\n"
     ]
    },
    {
     "name": "stderr",
     "output_type": "stream",
     "text": [
      "  1% (7581 of 484379) |                  | Elapsed Time: 0:00:47 ETA:   1:21:01"
     ]
    },
    {
     "name": "stdout",
     "output_type": "stream",
     "text": [
      "Phases: 8\n"
     ]
    },
    {
     "name": "stderr",
     "output_type": "stream",
     "text": [
      "  1% (8695 of 484379) |                  | Elapsed Time: 0:00:54 ETA:   1:11:27"
     ]
    },
    {
     "name": "stdout",
     "output_type": "stream",
     "text": [
      "Phases: 9\n"
     ]
    },
    {
     "name": "stderr",
     "output_type": "stream",
     "text": [
      "  1% (9344 of 484379) |                  | Elapsed Time: 0:00:59 ETA:   1:13:19"
     ]
    },
    {
     "name": "stdout",
     "output_type": "stream",
     "text": [
      "Phases: 10\n"
     ]
    },
    {
     "name": "stderr",
     "output_type": "stream",
     "text": [
      "  2% (10627 of 484379) |                 | Elapsed Time: 0:01:06 ETA:   1:19:31"
     ]
    },
    {
     "name": "stdout",
     "output_type": "stream",
     "text": [
      "Phases: 11\n"
     ]
    },
    {
     "name": "stderr",
     "output_type": "stream",
     "text": [
      "  2% (11237 of 484379) |                 | Elapsed Time: 0:01:10 ETA:   1:14:03"
     ]
    },
    {
     "name": "stdout",
     "output_type": "stream",
     "text": [
      "Phases: 12\n"
     ]
    },
    {
     "name": "stderr",
     "output_type": "stream",
     "text": [
      "  2% (12637 of 484379) |                 | Elapsed Time: 0:01:18 ETA:   1:30:50"
     ]
    },
    {
     "name": "stdout",
     "output_type": "stream",
     "text": [
      "Phases: 13\n"
     ]
    },
    {
     "name": "stderr",
     "output_type": "stream",
     "text": [
      "  2% (13586 of 484379) |                 | Elapsed Time: 0:01:24 ETA:   1:29:12"
     ]
    },
    {
     "name": "stdout",
     "output_type": "stream",
     "text": [
      "Phases: 14\n"
     ]
    },
    {
     "name": "stderr",
     "output_type": "stream",
     "text": [
      "  3% (14616 of 484379) |                 | Elapsed Time: 0:01:31 ETA:   1:13:38"
     ]
    },
    {
     "name": "stdout",
     "output_type": "stream",
     "text": [
      "Phases: 15\n"
     ]
    },
    {
     "name": "stderr",
     "output_type": "stream",
     "text": [
      "  3% (15486 of 484379) |                 | Elapsed Time: 0:01:36 ETA:   1:16:16"
     ]
    },
    {
     "name": "stdout",
     "output_type": "stream",
     "text": [
      "Phases: 16\n"
     ]
    },
    {
     "name": "stderr",
     "output_type": "stream",
     "text": [
      "  3% (16548 of 484379) |                 | Elapsed Time: 0:01:42 ETA:   1:07:31"
     ]
    },
    {
     "name": "stdout",
     "output_type": "stream",
     "text": [
      "Phases: 17\n"
     ]
    },
    {
     "name": "stderr",
     "output_type": "stream",
     "text": [
      "  3% (17524 of 484379) |                 | Elapsed Time: 0:01:48 ETA:   1:15:04"
     ]
    },
    {
     "name": "stdout",
     "output_type": "stream",
     "text": [
      "Phases: 18\n"
     ]
    },
    {
     "name": "stderr",
     "output_type": "stream",
     "text": [
      "  3% (18541 of 484379) |                 | Elapsed Time: 0:01:55 ETA:   1:12:33"
     ]
    },
    {
     "name": "stdout",
     "output_type": "stream",
     "text": [
      "Phases: 19\n"
     ]
    },
    {
     "name": "stderr",
     "output_type": "stream",
     "text": [
      "  4% (19532 of 484379) |                 | Elapsed Time: 0:02:01 ETA:   1:17:37"
     ]
    },
    {
     "name": "stdout",
     "output_type": "stream",
     "text": [
      "Phases: 20\n"
     ]
    },
    {
     "name": "stderr",
     "output_type": "stream",
     "text": [
      "  4% (20582 of 484379) |                 | Elapsed Time: 0:02:07 ETA:   1:09:53"
     ]
    },
    {
     "name": "stdout",
     "output_type": "stream",
     "text": [
      "Phases: 21\n"
     ]
    },
    {
     "name": "stderr",
     "output_type": "stream",
     "text": [
      "  4% (21617 of 484379) |                 | Elapsed Time: 0:02:13 ETA:   1:16:03"
     ]
    },
    {
     "name": "stdout",
     "output_type": "stream",
     "text": [
      "Phases: 22\n"
     ]
    },
    {
     "name": "stderr",
     "output_type": "stream",
     "text": [
      "  4% (22682 of 484379) |                 | Elapsed Time: 0:02:19 ETA:   1:10:46"
     ]
    },
    {
     "name": "stdout",
     "output_type": "stream",
     "text": [
      "Phases: 23\n"
     ]
    },
    {
     "name": "stderr",
     "output_type": "stream",
     "text": [
      "  4% (23735 of 484379) |                 | Elapsed Time: 0:02:26 ETA:   1:12:58"
     ]
    },
    {
     "name": "stdout",
     "output_type": "stream",
     "text": [
      "Phases: 24\n"
     ]
    },
    {
     "name": "stderr",
     "output_type": "stream",
     "text": [
      "  5% (24712 of 484379) |                 | Elapsed Time: 0:02:32 ETA:   1:09:01"
     ]
    },
    {
     "name": "stdout",
     "output_type": "stream",
     "text": [
      "Phases: 25\n"
     ]
    },
    {
     "name": "stderr",
     "output_type": "stream",
     "text": [
      "  5% (25725 of 484379) |                 | Elapsed Time: 0:02:38 ETA:   1:08:20"
     ]
    },
    {
     "name": "stdout",
     "output_type": "stream",
     "text": [
      "Phases: 26\n"
     ]
    },
    {
     "name": "stderr",
     "output_type": "stream",
     "text": [
      "  5% (26701 of 484379) |                 | Elapsed Time: 0:02:44 ETA:   1:11:16"
     ]
    },
    {
     "name": "stdout",
     "output_type": "stream",
     "text": [
      "Phases: 27\n"
     ]
    },
    {
     "name": "stderr",
     "output_type": "stream",
     "text": [
      "  5% (27597 of 484379) |                 | Elapsed Time: 0:02:49 ETA:   1:10:47"
     ]
    },
    {
     "name": "stdout",
     "output_type": "stream",
     "text": [
      "Phases: 28\n"
     ]
    },
    {
     "name": "stderr",
     "output_type": "stream",
     "text": [
      "  5% (28633 of 484379) |#                | Elapsed Time: 0:02:55 ETA:   1:10:02"
     ]
    },
    {
     "name": "stdout",
     "output_type": "stream",
     "text": [
      "Phases: 29\n"
     ]
    },
    {
     "name": "stderr",
     "output_type": "stream",
     "text": [
      "  6% (29568 of 484379) |#                | Elapsed Time: 0:03:01 ETA:   1:20:31"
     ]
    },
    {
     "name": "stdout",
     "output_type": "stream",
     "text": [
      "Phases: 30\n"
     ]
    },
    {
     "name": "stderr",
     "output_type": "stream",
     "text": [
      "  6% (30613 of 484379) |#                | Elapsed Time: 0:03:08 ETA:   1:12:24"
     ]
    },
    {
     "name": "stdout",
     "output_type": "stream",
     "text": [
      "Phases: 31\n"
     ]
    },
    {
     "name": "stderr",
     "output_type": "stream",
     "text": [
      "  6% (31392 of 484379) |#                | Elapsed Time: 0:03:13 ETA:   1:23:33"
     ]
    },
    {
     "name": "stdout",
     "output_type": "stream",
     "text": [
      "Phases: 32\n"
     ]
    },
    {
     "name": "stderr",
     "output_type": "stream",
     "text": [
      "  6% (32613 of 484379) |#                | Elapsed Time: 0:03:20 ETA:   1:15:23"
     ]
    },
    {
     "name": "stdout",
     "output_type": "stream",
     "text": [
      "Phases: 33\n"
     ]
    },
    {
     "name": "stderr",
     "output_type": "stream",
     "text": [
      "  6% (33490 of 484379) |#                | Elapsed Time: 0:03:26 ETA:   1:20:57"
     ]
    },
    {
     "name": "stdout",
     "output_type": "stream",
     "text": [
      "Phases: 34\n"
     ]
    },
    {
     "name": "stderr",
     "output_type": "stream",
     "text": [
      "  7% (34639 of 484379) |#                | Elapsed Time: 0:03:33 ETA:   1:19:12"
     ]
    },
    {
     "name": "stdout",
     "output_type": "stream",
     "text": [
      "Phases: 35\n"
     ]
    },
    {
     "name": "stderr",
     "output_type": "stream",
     "text": [
      "  7% (35044 of 484379) |#                | Elapsed Time: 0:03:37 ETA:   1:15:24"
     ]
    },
    {
     "name": "stdout",
     "output_type": "stream",
     "text": [
      "Phases: 36\n"
     ]
    },
    {
     "name": "stderr",
     "output_type": "stream",
     "text": [
      "  7% (36678 of 484379) |#                | Elapsed Time: 0:03:46 ETA:   1:27:25"
     ]
    },
    {
     "name": "stdout",
     "output_type": "stream",
     "text": [
      "Phases: 37\n"
     ]
    },
    {
     "name": "stderr",
     "output_type": "stream",
     "text": [
      "  7% (37585 of 484379) |#                | Elapsed Time: 0:03:52 ETA:   1:13:34"
     ]
    },
    {
     "name": "stdout",
     "output_type": "stream",
     "text": [
      "Phases: 38\n"
     ]
    },
    {
     "name": "stderr",
     "output_type": "stream",
     "text": [
      "  7% (38711 of 484379) |#                | Elapsed Time: 0:03:58 ETA:   1:11:18"
     ]
    },
    {
     "name": "stdout",
     "output_type": "stream",
     "text": [
      "Phases: 39\n"
     ]
    },
    {
     "name": "stderr",
     "output_type": "stream",
     "text": [
      "  8% (39666 of 484379) |#                | Elapsed Time: 0:04:05 ETA:   1:22:59"
     ]
    },
    {
     "name": "stdout",
     "output_type": "stream",
     "text": [
      "Phases: 40\n"
     ]
    },
    {
     "name": "stderr",
     "output_type": "stream",
     "text": [
      "  8% (40693 of 484379) |#                | Elapsed Time: 0:04:11 ETA:   1:19:33"
     ]
    },
    {
     "name": "stdout",
     "output_type": "stream",
     "text": [
      "Phases: 41\n"
     ]
    },
    {
     "name": "stderr",
     "output_type": "stream",
     "text": [
      "  8% (41666 of 484379) |#                | Elapsed Time: 0:04:18 ETA:   1:24:36"
     ]
    },
    {
     "name": "stdout",
     "output_type": "stream",
     "text": [
      "Phases: 42\n"
     ]
    },
    {
     "name": "stderr",
     "output_type": "stream",
     "text": [
      "  8% (42679 of 484379) |#                | Elapsed Time: 0:04:24 ETA:   1:14:19"
     ]
    },
    {
     "name": "stdout",
     "output_type": "stream",
     "text": [
      "Phases: 43\n"
     ]
    },
    {
     "name": "stderr",
     "output_type": "stream",
     "text": [
      "  9% (43635 of 484379) |#                | Elapsed Time: 0:04:30 ETA:   1:17:34"
     ]
    },
    {
     "name": "stdout",
     "output_type": "stream",
     "text": [
      "Phases: 44\n"
     ]
    },
    {
     "name": "stderr",
     "output_type": "stream",
     "text": [
      "  9% (44661 of 484379) |#                | Elapsed Time: 0:04:37 ETA:   1:31:23"
     ]
    },
    {
     "name": "stdout",
     "output_type": "stream",
     "text": [
      "Phases: 45\n"
     ]
    },
    {
     "name": "stderr",
     "output_type": "stream",
     "text": [
      "  9% (45675 of 484379) |#                | Elapsed Time: 0:04:44 ETA:   1:24:40"
     ]
    },
    {
     "name": "stdout",
     "output_type": "stream",
     "text": [
      "Phases: 46\n"
     ]
    },
    {
     "name": "stderr",
     "output_type": "stream",
     "text": [
      "  9% (46637 of 484379) |#                | Elapsed Time: 0:04:50 ETA:   1:17:43"
     ]
    },
    {
     "name": "stdout",
     "output_type": "stream",
     "text": [
      "Phases: 47\n"
     ]
    },
    {
     "name": "stderr",
     "output_type": "stream",
     "text": [
      "  9% (47684 of 484379) |#                | Elapsed Time: 0:04:57 ETA:   1:08:59"
     ]
    },
    {
     "name": "stdout",
     "output_type": "stream",
     "text": [
      "Phases: 48\n"
     ]
    },
    {
     "name": "stderr",
     "output_type": "stream",
     "text": [
      " 10% (48642 of 484379) |#                | Elapsed Time: 0:05:03 ETA:   1:16:15"
     ]
    },
    {
     "name": "stdout",
     "output_type": "stream",
     "text": [
      "Phases: 49\n"
     ]
    },
    {
     "name": "stderr",
     "output_type": "stream",
     "text": [
      " 10% (49670 of 484379) |#                | Elapsed Time: 0:05:09 ETA:   1:11:48"
     ]
    },
    {
     "name": "stdout",
     "output_type": "stream",
     "text": [
      "Phases: 50\n"
     ]
    },
    {
     "name": "stderr",
     "output_type": "stream",
     "text": [
      " 10% (50628 of 484379) |#                | Elapsed Time: 0:05:15 ETA:   1:17:26"
     ]
    },
    {
     "name": "stdout",
     "output_type": "stream",
     "text": [
      "Phases: 51\n"
     ]
    },
    {
     "name": "stderr",
     "output_type": "stream",
     "text": [
      " 10% (51646 of 484379) |#                | Elapsed Time: 0:05:22 ETA:   1:14:34"
     ]
    },
    {
     "name": "stdout",
     "output_type": "stream",
     "text": [
      "Phases: 52\n"
     ]
    },
    {
     "name": "stderr",
     "output_type": "stream",
     "text": [
      " 10% (52667 of 484379) |#                | Elapsed Time: 0:05:28 ETA:   1:07:23"
     ]
    },
    {
     "name": "stdout",
     "output_type": "stream",
     "text": [
      "Phases: 53\n"
     ]
    },
    {
     "name": "stderr",
     "output_type": "stream",
     "text": [
      " 11% (53624 of 484379) |#                | Elapsed Time: 0:05:34 ETA:   1:10:07"
     ]
    },
    {
     "name": "stdout",
     "output_type": "stream",
     "text": [
      "Phases: 54\n"
     ]
    },
    {
     "name": "stderr",
     "output_type": "stream",
     "text": [
      " 11% (54646 of 484379) |#                | Elapsed Time: 0:05:41 ETA:   1:15:50"
     ]
    },
    {
     "name": "stdout",
     "output_type": "stream",
     "text": [
      "Phases: 55\n"
     ]
    },
    {
     "name": "stderr",
     "output_type": "stream",
     "text": [
      " 11% (55583 of 484379) |#                | Elapsed Time: 0:05:47 ETA:   1:12:16"
     ]
    },
    {
     "name": "stdout",
     "output_type": "stream",
     "text": [
      "Phases: 56\n"
     ]
    },
    {
     "name": "stderr",
     "output_type": "stream",
     "text": [
      " 11% (56635 of 484379) |#                | Elapsed Time: 0:05:53 ETA:   1:10:56"
     ]
    },
    {
     "name": "stdout",
     "output_type": "stream",
     "text": [
      "Phases: 57\n"
     ]
    },
    {
     "name": "stderr",
     "output_type": "stream",
     "text": [
      " 11% (57572 of 484379) |##               | Elapsed Time: 0:05:59 ETA:   1:05:24"
     ]
    },
    {
     "name": "stdout",
     "output_type": "stream",
     "text": [
      "Phases: 58\n"
     ]
    },
    {
     "name": "stderr",
     "output_type": "stream",
     "text": [
      " 12% (58663 of 484379) |##               | Elapsed Time: 0:06:06 ETA:   1:11:34"
     ]
    },
    {
     "name": "stdout",
     "output_type": "stream",
     "text": [
      "Phases: 59\n"
     ]
    },
    {
     "name": "stderr",
     "output_type": "stream",
     "text": [
      " 12% (59566 of 484379) |##               | Elapsed Time: 0:06:12 ETA:   0:58:01"
     ]
    },
    {
     "name": "stdout",
     "output_type": "stream",
     "text": [
      "Phases: 60\n",
      "Subject 13 windowed. Time elapsed: 0:06:16\n",
      "\n",
      "Swing Onset at sample 4824\n"
     ]
    },
    {
     "name": "stderr",
     "output_type": "stream",
     "text": [
      "  0% (22 of 481577) |                    | Elapsed Time: 0:00:00 ETA:   0:36:48"
     ]
    },
    {
     "name": "stdout",
     "output_type": "stream",
     "text": [
      "Subject 14 rows: 486600\n"
     ]
    },
    {
     "name": "stderr",
     "output_type": "stream",
     "text": [
      "  0% (950 of 481577) |                   | Elapsed Time: 0:00:05 ETA:   1:13:08"
     ]
    },
    {
     "name": "stdout",
     "output_type": "stream",
     "text": [
      "Phases: 1\n"
     ]
    },
    {
     "name": "stderr",
     "output_type": "stream",
     "text": [
      "  0% (2160 of 481577) |                  | Elapsed Time: 0:00:12 ETA:   1:28:20"
     ]
    },
    {
     "name": "stdout",
     "output_type": "stream",
     "text": [
      "Phases: 2\n"
     ]
    },
    {
     "name": "stderr",
     "output_type": "stream",
     "text": [
      "  0% (3055 of 481577) |                  | Elapsed Time: 0:00:18 ETA:   1:25:02"
     ]
    },
    {
     "name": "stdout",
     "output_type": "stream",
     "text": [
      "Phases: 3\n"
     ]
    },
    {
     "name": "stderr",
     "output_type": "stream",
     "text": [
      "  0% (4121 of 481577) |                  | Elapsed Time: 0:00:25 ETA:   1:32:05"
     ]
    },
    {
     "name": "stdout",
     "output_type": "stream",
     "text": [
      "Phases: 4\n"
     ]
    },
    {
     "name": "stderr",
     "output_type": "stream",
     "text": [
      "  1% (5021 of 481577) |                  | Elapsed Time: 0:00:31 ETA:   1:20:12"
     ]
    },
    {
     "name": "stdout",
     "output_type": "stream",
     "text": [
      "Phases: 5\n"
     ]
    },
    {
     "name": "stderr",
     "output_type": "stream",
     "text": [
      "  1% (6083 of 481577) |                  | Elapsed Time: 0:00:37 ETA:   1:33:16"
     ]
    },
    {
     "name": "stdout",
     "output_type": "stream",
     "text": [
      "Phases: 6\n"
     ]
    },
    {
     "name": "stderr",
     "output_type": "stream",
     "text": [
      "  1% (6942 of 481577) |                  | Elapsed Time: 0:00:43 ETA:   1:18:05"
     ]
    },
    {
     "name": "stdout",
     "output_type": "stream",
     "text": [
      "Phases: 7\n"
     ]
    },
    {
     "name": "stderr",
     "output_type": "stream",
     "text": [
      "  1% (7929 of 481577) |                  | Elapsed Time: 0:00:49 ETA:   1:17:48"
     ]
    },
    {
     "name": "stdout",
     "output_type": "stream",
     "text": [
      "Phases: 8\n"
     ]
    },
    {
     "name": "stderr",
     "output_type": "stream",
     "text": [
      "  1% (8821 of 481577) |                  | Elapsed Time: 0:00:55 ETA:   1:11:11"
     ]
    },
    {
     "name": "stdout",
     "output_type": "stream",
     "text": [
      "Phases: 9\n"
     ]
    },
    {
     "name": "stderr",
     "output_type": "stream",
     "text": [
      "  2% (9914 of 481577) |                  | Elapsed Time: 0:01:02 ETA:   1:26:18"
     ]
    },
    {
     "name": "stdout",
     "output_type": "stream",
     "text": [
      "Phases: 10\n"
     ]
    },
    {
     "name": "stderr",
     "output_type": "stream",
     "text": [
      "  2% (10818 of 481577) |                 | Elapsed Time: 0:01:08 ETA:   1:22:06"
     ]
    },
    {
     "name": "stdout",
     "output_type": "stream",
     "text": [
      "Phases: 11\n"
     ]
    },
    {
     "name": "stderr",
     "output_type": "stream",
     "text": [
      "  2% (11873 of 481577) |                 | Elapsed Time: 0:01:14 ETA:   1:16:37"
     ]
    },
    {
     "name": "stdout",
     "output_type": "stream",
     "text": [
      "Phases: 12\n"
     ]
    },
    {
     "name": "stderr",
     "output_type": "stream",
     "text": [
      "  2% (13014 of 481577) |                 | Elapsed Time: 0:01:21 ETA:   1:12:52"
     ]
    },
    {
     "name": "stdout",
     "output_type": "stream",
     "text": [
      "Phases: 13\n"
     ]
    },
    {
     "name": "stderr",
     "output_type": "stream",
     "text": [
      "  3% (14543 of 481577) |                 | Elapsed Time: 0:01:29 ETA:   1:14:24"
     ]
    },
    {
     "name": "stdout",
     "output_type": "stream",
     "text": [
      "Phases: 14\n"
     ]
    },
    {
     "name": "stderr",
     "output_type": "stream",
     "text": [
      "  3% (15550 of 481577) |                 | Elapsed Time: 0:01:35 ETA:   1:11:43"
     ]
    },
    {
     "name": "stdout",
     "output_type": "stream",
     "text": [
      "Phases: 15\n"
     ]
    },
    {
     "name": "stderr",
     "output_type": "stream",
     "text": [
      "  3% (16711 of 481577) |                 | Elapsed Time: 0:01:42 ETA:   1:10:13"
     ]
    },
    {
     "name": "stdout",
     "output_type": "stream",
     "text": [
      "Phases: 16\n"
     ]
    },
    {
     "name": "stderr",
     "output_type": "stream",
     "text": [
      "  3% (17578 of 481577) |                 | Elapsed Time: 0:01:47 ETA:   1:13:04"
     ]
    },
    {
     "name": "stdout",
     "output_type": "stream",
     "text": [
      "Phases: 17\n"
     ]
    },
    {
     "name": "stderr",
     "output_type": "stream",
     "text": [
      "  3% (18632 of 481577) |                 | Elapsed Time: 0:01:54 ETA:   1:12:56"
     ]
    },
    {
     "name": "stdout",
     "output_type": "stream",
     "text": [
      "Phases: 18\n"
     ]
    },
    {
     "name": "stderr",
     "output_type": "stream",
     "text": [
      "  4% (19540 of 481577) |                 | Elapsed Time: 0:02:00 ETA:   1:09:08"
     ]
    },
    {
     "name": "stdout",
     "output_type": "stream",
     "text": [
      "Phases: 19\n"
     ]
    },
    {
     "name": "stderr",
     "output_type": "stream",
     "text": [
      "  4% (20615 of 481577) |                 | Elapsed Time: 0:02:06 ETA:   1:18:57"
     ]
    },
    {
     "name": "stdout",
     "output_type": "stream",
     "text": [
      "Phases: 20\n"
     ]
    },
    {
     "name": "stderr",
     "output_type": "stream",
     "text": [
      "  4% (21453 of 481577) |                 | Elapsed Time: 0:02:12 ETA:   1:11:00"
     ]
    },
    {
     "name": "stdout",
     "output_type": "stream",
     "text": [
      "Phases: 21\n"
     ]
    },
    {
     "name": "stderr",
     "output_type": "stream",
     "text": [
      "  4% (22502 of 481577) |                 | Elapsed Time: 0:02:19 ETA:   1:15:50"
     ]
    },
    {
     "name": "stdout",
     "output_type": "stream",
     "text": [
      "Phases: 22\n"
     ]
    },
    {
     "name": "stderr",
     "output_type": "stream",
     "text": [
      "  4% (23375 of 481577) |                 | Elapsed Time: 0:02:24 ETA:   1:11:13"
     ]
    },
    {
     "name": "stdout",
     "output_type": "stream",
     "text": [
      "Phases: 23\n"
     ]
    },
    {
     "name": "stderr",
     "output_type": "stream",
     "text": [
      "  5% (24435 of 481577) |                 | Elapsed Time: 0:02:31 ETA:   1:19:23"
     ]
    },
    {
     "name": "stdout",
     "output_type": "stream",
     "text": [
      "Phases: 24\n"
     ]
    },
    {
     "name": "stderr",
     "output_type": "stream",
     "text": [
      "  5% (25286 of 481577) |                 | Elapsed Time: 0:02:36 ETA:   1:06:03"
     ]
    },
    {
     "name": "stdout",
     "output_type": "stream",
     "text": [
      "Phases: 25\n"
     ]
    },
    {
     "name": "stderr",
     "output_type": "stream",
     "text": [
      "  5% (26327 of 481577) |                 | Elapsed Time: 0:02:42 ETA:   1:06:49"
     ]
    },
    {
     "name": "stdout",
     "output_type": "stream",
     "text": [
      "Phases: 26\n"
     ]
    },
    {
     "name": "stderr",
     "output_type": "stream",
     "text": [
      "  5% (27090 of 481577) |                 | Elapsed Time: 0:02:47 ETA:   1:09:35"
     ]
    },
    {
     "name": "stdout",
     "output_type": "stream",
     "text": [
      "Phases: 27\n"
     ]
    },
    {
     "name": "stderr",
     "output_type": "stream",
     "text": [
      "  5% (28383 of 481577) |#                | Elapsed Time: 0:02:54 ETA:   1:08:24"
     ]
    },
    {
     "name": "stdout",
     "output_type": "stream",
     "text": [
      "Phases: 28\n"
     ]
    },
    {
     "name": "stderr",
     "output_type": "stream",
     "text": [
      "  6% (29485 of 481577) |#                | Elapsed Time: 0:03:01 ETA:   1:22:00"
     ]
    },
    {
     "name": "stdout",
     "output_type": "stream",
     "text": [
      "Phases: 29\n"
     ]
    },
    {
     "name": "stderr",
     "output_type": "stream",
     "text": [
      "  6% (30858 of 481577) |#                | Elapsed Time: 0:03:09 ETA:   1:10:01"
     ]
    },
    {
     "name": "stdout",
     "output_type": "stream",
     "text": [
      "Phases: 30\n"
     ]
    },
    {
     "name": "stderr",
     "output_type": "stream",
     "text": [
      "  6% (31765 of 481577) |#                | Elapsed Time: 0:03:15 ETA:   1:13:04"
     ]
    },
    {
     "name": "stdout",
     "output_type": "stream",
     "text": [
      "Phases: 31\n"
     ]
    },
    {
     "name": "stderr",
     "output_type": "stream",
     "text": [
      "  6% (32853 of 481577) |#                | Elapsed Time: 0:03:21 ETA:   1:11:23"
     ]
    },
    {
     "name": "stdout",
     "output_type": "stream",
     "text": [
      "Phases: 32\n"
     ]
    },
    {
     "name": "stderr",
     "output_type": "stream",
     "text": [
      "  7% (33805 of 481577) |#                | Elapsed Time: 0:03:27 ETA:   1:15:49"
     ]
    },
    {
     "name": "stdout",
     "output_type": "stream",
     "text": [
      "Phases: 33\n"
     ]
    },
    {
     "name": "stderr",
     "output_type": "stream",
     "text": [
      "  7% (34845 of 481577) |#                | Elapsed Time: 0:03:34 ETA:   1:11:59"
     ]
    },
    {
     "name": "stdout",
     "output_type": "stream",
     "text": [
      "Phases: 34\n"
     ]
    },
    {
     "name": "stderr",
     "output_type": "stream",
     "text": [
      "  7% (35745 of 481577) |#                | Elapsed Time: 0:03:40 ETA:   1:19:43"
     ]
    },
    {
     "name": "stdout",
     "output_type": "stream",
     "text": [
      "Phases: 35\n"
     ]
    },
    {
     "name": "stderr",
     "output_type": "stream",
     "text": [
      "  7% (36885 of 481577) |#                | Elapsed Time: 0:03:47 ETA:   1:17:04"
     ]
    },
    {
     "name": "stdout",
     "output_type": "stream",
     "text": [
      "Phases: 36\n"
     ]
    },
    {
     "name": "stderr",
     "output_type": "stream",
     "text": [
      "  7% (37670 of 481577) |#                | Elapsed Time: 0:03:52 ETA:   1:18:29"
     ]
    },
    {
     "name": "stdout",
     "output_type": "stream",
     "text": [
      "Phases: 37\n"
     ]
    },
    {
     "name": "stderr",
     "output_type": "stream",
     "text": [
      "  8% (38738 of 481577) |#                | Elapsed Time: 0:03:59 ETA:   1:20:35"
     ]
    },
    {
     "name": "stdout",
     "output_type": "stream",
     "text": [
      "Phases: 38\n"
     ]
    },
    {
     "name": "stderr",
     "output_type": "stream",
     "text": [
      "  8% (39632 of 481577) |#                | Elapsed Time: 0:04:04 ETA:   1:14:24"
     ]
    },
    {
     "name": "stdout",
     "output_type": "stream",
     "text": [
      "Phases: 39\n"
     ]
    },
    {
     "name": "stderr",
     "output_type": "stream",
     "text": [
      "  8% (40735 of 481577) |#                | Elapsed Time: 0:04:11 ETA:   1:12:12"
     ]
    },
    {
     "name": "stdout",
     "output_type": "stream",
     "text": [
      "Phases: 40\n"
     ]
    },
    {
     "name": "stderr",
     "output_type": "stream",
     "text": [
      "  8% (41554 of 481577) |#                | Elapsed Time: 0:04:16 ETA:   1:14:14"
     ]
    },
    {
     "name": "stdout",
     "output_type": "stream",
     "text": [
      "Phases: 41\n"
     ]
    },
    {
     "name": "stderr",
     "output_type": "stream",
     "text": [
      "  8% (42707 of 481577) |#                | Elapsed Time: 0:04:23 ETA:   1:03:43"
     ]
    },
    {
     "name": "stdout",
     "output_type": "stream",
     "text": [
      "Phases: 42\n"
     ]
    },
    {
     "name": "stderr",
     "output_type": "stream",
     "text": [
      "  9% (43629 of 481577) |#                | Elapsed Time: 0:04:29 ETA:   1:05:18"
     ]
    },
    {
     "name": "stdout",
     "output_type": "stream",
     "text": [
      "Phases: 43\n"
     ]
    },
    {
     "name": "stderr",
     "output_type": "stream",
     "text": [
      "  9% (45247 of 481577) |#                | Elapsed Time: 0:04:37 ETA:   1:03:31"
     ]
    },
    {
     "name": "stdout",
     "output_type": "stream",
     "text": [
      "Phases: 44\n"
     ]
    },
    {
     "name": "stderr",
     "output_type": "stream",
     "text": [
      "  9% (46357 of 481577) |#                | Elapsed Time: 0:04:44 ETA:   1:13:54"
     ]
    },
    {
     "name": "stdout",
     "output_type": "stream",
     "text": [
      "Phases: 45\n"
     ]
    },
    {
     "name": "stderr",
     "output_type": "stream",
     "text": [
      "  9% (47542 of 481577) |#                | Elapsed Time: 0:04:51 ETA:   1:10:20"
     ]
    },
    {
     "name": "stdout",
     "output_type": "stream",
     "text": [
      "Phases: 46\n"
     ]
    },
    {
     "name": "stderr",
     "output_type": "stream",
     "text": [
      " 10% (48491 of 481577) |#                | Elapsed Time: 0:04:57 ETA:   1:03:50"
     ]
    },
    {
     "name": "stdout",
     "output_type": "stream",
     "text": [
      "Phases: 47\n"
     ]
    },
    {
     "name": "stderr",
     "output_type": "stream",
     "text": [
      " 10% (49643 of 481577) |#                | Elapsed Time: 0:05:03 ETA:   1:04:52"
     ]
    },
    {
     "name": "stdout",
     "output_type": "stream",
     "text": [
      "Phases: 48\n"
     ]
    },
    {
     "name": "stderr",
     "output_type": "stream",
     "text": [
      " 10% (50564 of 481577) |#                | Elapsed Time: 0:05:09 ETA:   1:09:40"
     ]
    },
    {
     "name": "stdout",
     "output_type": "stream",
     "text": [
      "Phases: 49\n"
     ]
    },
    {
     "name": "stderr",
     "output_type": "stream",
     "text": [
      " 10% (51648 of 481577) |#                | Elapsed Time: 0:05:16 ETA:   1:14:59"
     ]
    },
    {
     "name": "stdout",
     "output_type": "stream",
     "text": [
      "Phases: 50\n"
     ]
    },
    {
     "name": "stderr",
     "output_type": "stream",
     "text": [
      " 10% (52528 of 481577) |#                | Elapsed Time: 0:05:21 ETA:   1:04:20"
     ]
    },
    {
     "name": "stdout",
     "output_type": "stream",
     "text": [
      "Phases: 51\n"
     ]
    },
    {
     "name": "stderr",
     "output_type": "stream",
     "text": [
      " 11% (53614 of 481577) |#                | Elapsed Time: 0:05:28 ETA:   1:05:57"
     ]
    },
    {
     "name": "stdout",
     "output_type": "stream",
     "text": [
      "Phases: 52\n"
     ]
    },
    {
     "name": "stderr",
     "output_type": "stream",
     "text": [
      " 11% (54483 of 481577) |#                | Elapsed Time: 0:05:33 ETA:   1:03:34"
     ]
    },
    {
     "name": "stdout",
     "output_type": "stream",
     "text": [
      "Phases: 53\n"
     ]
    },
    {
     "name": "stderr",
     "output_type": "stream",
     "text": [
      " 11% (55586 of 481577) |#                | Elapsed Time: 0:05:40 ETA:   1:09:58"
     ]
    },
    {
     "name": "stdout",
     "output_type": "stream",
     "text": [
      "Phases: 54\n"
     ]
    },
    {
     "name": "stderr",
     "output_type": "stream",
     "text": [
      " 11% (56427 of 481577) |#                | Elapsed Time: 0:05:45 ETA:   1:02:13"
     ]
    },
    {
     "name": "stdout",
     "output_type": "stream",
     "text": [
      "Phases: 55\n"
     ]
    },
    {
     "name": "stderr",
     "output_type": "stream",
     "text": [
      " 11% (57541 of 481577) |##               | Elapsed Time: 0:05:52 ETA:   1:10:21"
     ]
    },
    {
     "name": "stdout",
     "output_type": "stream",
     "text": [
      "Phases: 56\n"
     ]
    },
    {
     "name": "stderr",
     "output_type": "stream",
     "text": [
      " 12% (58454 of 481577) |##               | Elapsed Time: 0:05:58 ETA:   1:05:13"
     ]
    },
    {
     "name": "stdout",
     "output_type": "stream",
     "text": [
      "Phases: 57\n"
     ]
    },
    {
     "name": "stderr",
     "output_type": "stream",
     "text": [
      " 12% (59772 of 481577) |##               | Elapsed Time: 0:06:05 ETA:   1:06:26"
     ]
    },
    {
     "name": "stdout",
     "output_type": "stream",
     "text": [
      "Phases: 58\n"
     ]
    },
    {
     "name": "stderr",
     "output_type": "stream",
     "text": [
      " 12% (61158 of 481577) |##               | Elapsed Time: 0:06:13 ETA:   1:03:37"
     ]
    },
    {
     "name": "stdout",
     "output_type": "stream",
     "text": [
      "Phases: 59\n"
     ]
    },
    {
     "name": "stderr",
     "output_type": "stream",
     "text": [
      " 12% (62467 of 481577) |##               | Elapsed Time: 0:06:20 ETA:   0:54:24"
     ]
    },
    {
     "name": "stdout",
     "output_type": "stream",
     "text": [
      "Phases: 60\n",
      "Subject 14 windowed. Time elapsed: 0:06:24\n",
      "\n",
      "Swing Onset at sample 6291\n"
     ]
    },
    {
     "name": "stderr",
     "output_type": "stream",
     "text": [
      "  0% (23 of 480110) |                    | Elapsed Time: 0:00:00 ETA:   0:35:28"
     ]
    },
    {
     "name": "stdout",
     "output_type": "stream",
     "text": [
      "Subject 15 rows: 486600\n"
     ]
    },
    {
     "name": "stderr",
     "output_type": "stream",
     "text": [
      "  0% (846 of 480110) |                   | Elapsed Time: 0:00:04 ETA:   1:13:32"
     ]
    },
    {
     "name": "stdout",
     "output_type": "stream",
     "text": [
      "Phases: 1\n"
     ]
    },
    {
     "name": "stderr",
     "output_type": "stream",
     "text": [
      "  0% (1911 of 480110) |                  | Elapsed Time: 0:00:11 ETA:   1:29:39"
     ]
    },
    {
     "name": "stdout",
     "output_type": "stream",
     "text": [
      "Phases: 2\n"
     ]
    },
    {
     "name": "stderr",
     "output_type": "stream",
     "text": [
      "  0% (2771 of 480110) |                  | Elapsed Time: 0:00:17 ETA:   1:29:40"
     ]
    },
    {
     "name": "stdout",
     "output_type": "stream",
     "text": [
      "Phases: 3\n"
     ]
    },
    {
     "name": "stderr",
     "output_type": "stream",
     "text": [
      "  0% (3782 of 480110) |                  | Elapsed Time: 0:00:23 ETA:   1:12:55"
     ]
    },
    {
     "name": "stdout",
     "output_type": "stream",
     "text": [
      "Phases: 4\n"
     ]
    },
    {
     "name": "stderr",
     "output_type": "stream",
     "text": [
      "  0% (4636 of 480110) |                  | Elapsed Time: 0:00:28 ETA:   1:09:47"
     ]
    },
    {
     "name": "stdout",
     "output_type": "stream",
     "text": [
      "Phases: 5\n"
     ]
    },
    {
     "name": "stderr",
     "output_type": "stream",
     "text": [
      "  1% (5665 of 480110) |                  | Elapsed Time: 0:00:35 ETA:   1:11:45"
     ]
    },
    {
     "name": "stdout",
     "output_type": "stream",
     "text": [
      "Phases: 6\n"
     ]
    },
    {
     "name": "stderr",
     "output_type": "stream",
     "text": [
      "  1% (6580 of 480110) |                  | Elapsed Time: 0:00:41 ETA:   1:11:40"
     ]
    },
    {
     "name": "stdout",
     "output_type": "stream",
     "text": [
      "Phases: 7\n"
     ]
    },
    {
     "name": "stderr",
     "output_type": "stream",
     "text": [
      "  1% (7606 of 480110) |                  | Elapsed Time: 0:00:47 ETA:   1:12:33"
     ]
    },
    {
     "name": "stdout",
     "output_type": "stream",
     "text": [
      "Phases: 8\n"
     ]
    },
    {
     "name": "stderr",
     "output_type": "stream",
     "text": [
      "  1% (8500 of 480110) |                  | Elapsed Time: 0:00:52 ETA:   1:10:05"
     ]
    },
    {
     "name": "stdout",
     "output_type": "stream",
     "text": [
      "Phases: 9\n"
     ]
    },
    {
     "name": "stderr",
     "output_type": "stream",
     "text": [
      "  1% (9495 of 480110) |                  | Elapsed Time: 0:00:58 ETA:   1:15:51"
     ]
    },
    {
     "name": "stdout",
     "output_type": "stream",
     "text": [
      "Phases: 10\n"
     ]
    },
    {
     "name": "stderr",
     "output_type": "stream",
     "text": [
      "  2% (10379 of 480110) |                 | Elapsed Time: 0:01:04 ETA:   1:13:50"
     ]
    },
    {
     "name": "stdout",
     "output_type": "stream",
     "text": [
      "Phases: 11\n"
     ]
    },
    {
     "name": "stderr",
     "output_type": "stream",
     "text": [
      "  2% (11377 of 480110) |                 | Elapsed Time: 0:01:10 ETA:   1:12:49"
     ]
    },
    {
     "name": "stdout",
     "output_type": "stream",
     "text": [
      "Phases: 12\n"
     ]
    },
    {
     "name": "stderr",
     "output_type": "stream",
     "text": [
      "  2% (12275 of 480110) |                 | Elapsed Time: 0:01:16 ETA:   1:14:45"
     ]
    },
    {
     "name": "stdout",
     "output_type": "stream",
     "text": [
      "Phases: 13\n"
     ]
    },
    {
     "name": "stderr",
     "output_type": "stream",
     "text": [
      "  2% (13278 of 480110) |                 | Elapsed Time: 0:01:22 ETA:   1:27:13"
     ]
    },
    {
     "name": "stdout",
     "output_type": "stream",
     "text": [
      "Phases: 14\n"
     ]
    },
    {
     "name": "stderr",
     "output_type": "stream",
     "text": [
      "  2% (14157 of 480110) |                 | Elapsed Time: 0:01:28 ETA:   1:27:43"
     ]
    },
    {
     "name": "stdout",
     "output_type": "stream",
     "text": [
      "Phases: 15\n"
     ]
    },
    {
     "name": "stderr",
     "output_type": "stream",
     "text": [
      "  3% (15296 of 480110) |                 | Elapsed Time: 0:01:35 ETA:   1:16:02"
     ]
    },
    {
     "name": "stdout",
     "output_type": "stream",
     "text": [
      "Phases: 16\n"
     ]
    },
    {
     "name": "stderr",
     "output_type": "stream",
     "text": [
      "  3% (16255 of 480110) |                 | Elapsed Time: 0:01:42 ETA:   1:24:54"
     ]
    },
    {
     "name": "stdout",
     "output_type": "stream",
     "text": [
      "Phases: 17\n"
     ]
    },
    {
     "name": "stderr",
     "output_type": "stream",
     "text": [
      "  3% (17290 of 480110) |                 | Elapsed Time: 0:01:48 ETA:   1:23:08"
     ]
    },
    {
     "name": "stdout",
     "output_type": "stream",
     "text": [
      "Phases: 18\n"
     ]
    },
    {
     "name": "stderr",
     "output_type": "stream",
     "text": [
      "  3% (18135 of 480110) |                 | Elapsed Time: 0:01:54 ETA:   1:24:11"
     ]
    },
    {
     "name": "stdout",
     "output_type": "stream",
     "text": [
      "Phases: 19\n"
     ]
    },
    {
     "name": "stderr",
     "output_type": "stream",
     "text": [
      "  3% (19162 of 480110) |                 | Elapsed Time: 0:02:00 ETA:   1:18:48"
     ]
    },
    {
     "name": "stdout",
     "output_type": "stream",
     "text": [
      "Phases: 20\n"
     ]
    },
    {
     "name": "stderr",
     "output_type": "stream",
     "text": [
      "  4% (20026 of 480110) |                 | Elapsed Time: 0:02:06 ETA:   1:16:45"
     ]
    },
    {
     "name": "stdout",
     "output_type": "stream",
     "text": [
      "Phases: 21\n"
     ]
    },
    {
     "name": "stderr",
     "output_type": "stream",
     "text": [
      "  4% (21017 of 480110) |                 | Elapsed Time: 0:02:12 ETA:   1:20:56"
     ]
    },
    {
     "name": "stdout",
     "output_type": "stream",
     "text": [
      "Phases: 22\n"
     ]
    },
    {
     "name": "stderr",
     "output_type": "stream",
     "text": [
      "  4% (21909 of 480110) |                 | Elapsed Time: 0:02:18 ETA:   1:21:13"
     ]
    },
    {
     "name": "stdout",
     "output_type": "stream",
     "text": [
      "Phases: 23\n"
     ]
    },
    {
     "name": "stderr",
     "output_type": "stream",
     "text": [
      "  4% (22910 of 480110) |                 | Elapsed Time: 0:02:25 ETA:   1:24:13"
     ]
    },
    {
     "name": "stdout",
     "output_type": "stream",
     "text": [
      "Phases: 24\n"
     ]
    },
    {
     "name": "stderr",
     "output_type": "stream",
     "text": [
      "  4% (23785 of 480110) |                 | Elapsed Time: 0:02:31 ETA:   1:24:19"
     ]
    },
    {
     "name": "stdout",
     "output_type": "stream",
     "text": [
      "Phases: 25\n"
     ]
    },
    {
     "name": "stderr",
     "output_type": "stream",
     "text": [
      "  5% (24830 of 480110) |                 | Elapsed Time: 0:02:37 ETA:   1:22:09"
     ]
    },
    {
     "name": "stdout",
     "output_type": "stream",
     "text": [
      "Phases: 26\n"
     ]
    },
    {
     "name": "stderr",
     "output_type": "stream",
     "text": [
      "  5% (25727 of 480110) |                 | Elapsed Time: 0:02:43 ETA:   1:20:31"
     ]
    },
    {
     "name": "stdout",
     "output_type": "stream",
     "text": [
      "Phases: 27\n"
     ]
    },
    {
     "name": "stderr",
     "output_type": "stream",
     "text": [
      "  5% (26724 of 480110) |                 | Elapsed Time: 0:02:50 ETA:   1:17:46"
     ]
    },
    {
     "name": "stdout",
     "output_type": "stream",
     "text": [
      "Phases: 28\n"
     ]
    },
    {
     "name": "stderr",
     "output_type": "stream",
     "text": [
      "  5% (27590 of 480110) |                 | Elapsed Time: 0:02:55 ETA:   1:09:09"
     ]
    },
    {
     "name": "stdout",
     "output_type": "stream",
     "text": [
      "Phases: 29\n"
     ]
    },
    {
     "name": "stderr",
     "output_type": "stream",
     "text": [
      "  5% (28632 of 480110) |#                | Elapsed Time: 0:03:02 ETA:   1:39:10"
     ]
    },
    {
     "name": "stdout",
     "output_type": "stream",
     "text": [
      "Phases: 30\n"
     ]
    },
    {
     "name": "stderr",
     "output_type": "stream",
     "text": [
      "  6% (29586 of 480110) |#                | Elapsed Time: 0:03:08 ETA:   1:43:42"
     ]
    },
    {
     "name": "stdout",
     "output_type": "stream",
     "text": [
      "Phases: 31\n"
     ]
    },
    {
     "name": "stderr",
     "output_type": "stream",
     "text": [
      "  6% (30699 of 480110) |#                | Elapsed Time: 0:03:16 ETA:   1:20:27"
     ]
    },
    {
     "name": "stdout",
     "output_type": "stream",
     "text": [
      "Phases: 32\n"
     ]
    },
    {
     "name": "stderr",
     "output_type": "stream",
     "text": [
      "  6% (31591 of 480110) |#                | Elapsed Time: 0:03:22 ETA:   1:24:11"
     ]
    },
    {
     "name": "stdout",
     "output_type": "stream",
     "text": [
      "Phases: 33\n"
     ]
    },
    {
     "name": "stderr",
     "output_type": "stream",
     "text": [
      "  6% (32674 of 480110) |#                | Elapsed Time: 0:03:29 ETA:   1:23:53"
     ]
    },
    {
     "name": "stdout",
     "output_type": "stream",
     "text": [
      "Phases: 34\n"
     ]
    },
    {
     "name": "stderr",
     "output_type": "stream",
     "text": [
      "  6% (33568 of 480110) |#                | Elapsed Time: 0:03:35 ETA:   1:18:25"
     ]
    },
    {
     "name": "stdout",
     "output_type": "stream",
     "text": [
      "Phases: 35\n"
     ]
    },
    {
     "name": "stderr",
     "output_type": "stream",
     "text": [
      "  7% (34599 of 480110) |#                | Elapsed Time: 0:03:41 ETA:   1:12:11"
     ]
    },
    {
     "name": "stdout",
     "output_type": "stream",
     "text": [
      "Phases: 36\n"
     ]
    },
    {
     "name": "stderr",
     "output_type": "stream",
     "text": [
      "  7% (35460 of 480110) |#                | Elapsed Time: 0:03:47 ETA:   1:05:44"
     ]
    },
    {
     "name": "stdout",
     "output_type": "stream",
     "text": [
      "Phases: 37\n"
     ]
    },
    {
     "name": "stderr",
     "output_type": "stream",
     "text": [
      "  7% (36508 of 480110) |#                | Elapsed Time: 0:03:53 ETA:   1:07:18"
     ]
    },
    {
     "name": "stdout",
     "output_type": "stream",
     "text": [
      "Phases: 38\n"
     ]
    },
    {
     "name": "stderr",
     "output_type": "stream",
     "text": [
      "  7% (37392 of 480110) |#                | Elapsed Time: 0:03:59 ETA:   1:10:43"
     ]
    },
    {
     "name": "stdout",
     "output_type": "stream",
     "text": [
      "Phases: 39\n"
     ]
    },
    {
     "name": "stderr",
     "output_type": "stream",
     "text": [
      "  8% (38419 of 480110) |#                | Elapsed Time: 0:04:05 ETA:   1:09:58"
     ]
    },
    {
     "name": "stdout",
     "output_type": "stream",
     "text": [
      "Phases: 40\n"
     ]
    },
    {
     "name": "stderr",
     "output_type": "stream",
     "text": [
      "  8% (39322 of 480110) |#                | Elapsed Time: 0:04:11 ETA:   1:32:16"
     ]
    },
    {
     "name": "stdout",
     "output_type": "stream",
     "text": [
      "Phases: 41\n"
     ]
    },
    {
     "name": "stderr",
     "output_type": "stream",
     "text": [
      "  8% (40349 of 480110) |#                | Elapsed Time: 0:04:17 ETA:   1:09:45"
     ]
    },
    {
     "name": "stdout",
     "output_type": "stream",
     "text": [
      "Phases: 42\n"
     ]
    },
    {
     "name": "stderr",
     "output_type": "stream",
     "text": [
      "  8% (41227 of 480110) |#                | Elapsed Time: 0:04:23 ETA:   1:08:32"
     ]
    },
    {
     "name": "stdout",
     "output_type": "stream",
     "text": [
      "Phases: 43\n"
     ]
    },
    {
     "name": "stderr",
     "output_type": "stream",
     "text": [
      "  8% (42265 of 480110) |#                | Elapsed Time: 0:04:29 ETA:   1:12:51"
     ]
    },
    {
     "name": "stdout",
     "output_type": "stream",
     "text": [
      "Phases: 44\n"
     ]
    },
    {
     "name": "stderr",
     "output_type": "stream",
     "text": [
      "  8% (43125 of 480110) |#                | Elapsed Time: 0:04:35 ETA:   1:20:10"
     ]
    },
    {
     "name": "stdout",
     "output_type": "stream",
     "text": [
      "Phases: 45\n"
     ]
    },
    {
     "name": "stderr",
     "output_type": "stream",
     "text": [
      "  9% (44131 of 480110) |#                | Elapsed Time: 0:04:41 ETA:   1:09:49"
     ]
    },
    {
     "name": "stdout",
     "output_type": "stream",
     "text": [
      "Phases: 46\n"
     ]
    },
    {
     "name": "stderr",
     "output_type": "stream",
     "text": [
      "  9% (45016 of 480110) |#                | Elapsed Time: 0:04:47 ETA:   1:09:10"
     ]
    },
    {
     "name": "stdout",
     "output_type": "stream",
     "text": [
      "Phases: 47\n"
     ]
    },
    {
     "name": "stderr",
     "output_type": "stream",
     "text": [
      "  9% (46107 of 480110) |#                | Elapsed Time: 0:04:53 ETA:   1:08:59"
     ]
    },
    {
     "name": "stdout",
     "output_type": "stream",
     "text": [
      "Phases: 48\n"
     ]
    },
    {
     "name": "stderr",
     "output_type": "stream",
     "text": [
      "  9% (46990 of 480110) |#                | Elapsed Time: 0:04:59 ETA:   1:23:45"
     ]
    },
    {
     "name": "stdout",
     "output_type": "stream",
     "text": [
      "Phases: 49\n"
     ]
    },
    {
     "name": "stderr",
     "output_type": "stream",
     "text": [
      " 10% (48218 of 480110) |#                | Elapsed Time: 0:05:06 ETA:   1:19:06"
     ]
    },
    {
     "name": "stdout",
     "output_type": "stream",
     "text": [
      "Phases: 50\n"
     ]
    },
    {
     "name": "stderr",
     "output_type": "stream",
     "text": [
      " 10% (49180 of 480110) |#                | Elapsed Time: 0:05:13 ETA:   1:18:35"
     ]
    },
    {
     "name": "stdout",
     "output_type": "stream",
     "text": [
      "Phases: 51\n"
     ]
    },
    {
     "name": "stderr",
     "output_type": "stream",
     "text": [
      " 10% (50272 of 480110) |#                | Elapsed Time: 0:05:20 ETA:   1:21:22"
     ]
    },
    {
     "name": "stdout",
     "output_type": "stream",
     "text": [
      "Phases: 52\n"
     ]
    },
    {
     "name": "stderr",
     "output_type": "stream",
     "text": [
      " 10% (51134 of 480110) |#                | Elapsed Time: 0:05:25 ETA:   1:07:34"
     ]
    },
    {
     "name": "stdout",
     "output_type": "stream",
     "text": [
      "Phases: 53\n"
     ]
    },
    {
     "name": "stderr",
     "output_type": "stream",
     "text": [
      " 10% (52170 of 480110) |#                | Elapsed Time: 0:05:32 ETA:   1:06:13"
     ]
    },
    {
     "name": "stdout",
     "output_type": "stream",
     "text": [
      "Phases: 54\n"
     ]
    },
    {
     "name": "stderr",
     "output_type": "stream",
     "text": [
      " 11% (53032 of 480110) |#                | Elapsed Time: 0:05:38 ETA:   1:20:07"
     ]
    },
    {
     "name": "stdout",
     "output_type": "stream",
     "text": [
      "Phases: 55\n"
     ]
    },
    {
     "name": "stderr",
     "output_type": "stream",
     "text": [
      " 11% (54073 of 480110) |#                | Elapsed Time: 0:05:44 ETA:   1:16:20"
     ]
    },
    {
     "name": "stdout",
     "output_type": "stream",
     "text": [
      "Phases: 56\n"
     ]
    },
    {
     "name": "stderr",
     "output_type": "stream",
     "text": [
      " 11% (54976 of 480110) |#                | Elapsed Time: 0:05:51 ETA:   1:20:20"
     ]
    },
    {
     "name": "stdout",
     "output_type": "stream",
     "text": [
      "Phases: 57\n"
     ]
    },
    {
     "name": "stderr",
     "output_type": "stream",
     "text": [
      " 11% (56012 of 480110) |#                | Elapsed Time: 0:05:58 ETA:   1:27:07"
     ]
    },
    {
     "name": "stdout",
     "output_type": "stream",
     "text": [
      "Phases: 58\n"
     ]
    },
    {
     "name": "stderr",
     "output_type": "stream",
     "text": [
      " 11% (56953 of 480110) |##               | Elapsed Time: 0:06:04 ETA:   1:16:13"
     ]
    },
    {
     "name": "stdout",
     "output_type": "stream",
     "text": [
      "Phases: 59\n"
     ]
    },
    {
     "name": "stderr",
     "output_type": "stream",
     "text": [
      " 12% (57998 of 480110) |##               | Elapsed Time: 0:06:10 ETA:   0:54:51"
     ]
    },
    {
     "name": "stdout",
     "output_type": "stream",
     "text": [
      "Phases: 60\n",
      "Subject 15 windowed. Time elapsed: 0:06:14\n",
      "\n",
      "Swing Onset at sample 6188\n"
     ]
    },
    {
     "name": "stderr",
     "output_type": "stream",
     "text": [
      "  0% (23 of 480213) |                    | Elapsed Time: 0:00:00 ETA:   0:34:54"
     ]
    },
    {
     "name": "stdout",
     "output_type": "stream",
     "text": [
      "Subject 16 rows: 486600\n"
     ]
    },
    {
     "name": "stderr",
     "output_type": "stream",
     "text": [
      "  0% (1060 of 480213) |                  | Elapsed Time: 0:00:05 ETA:   1:13:16"
     ]
    },
    {
     "name": "stdout",
     "output_type": "stream",
     "text": [
      "Phases: 1\n"
     ]
    },
    {
     "name": "stderr",
     "output_type": "stream",
     "text": [
      "  0% (2130 of 480213) |                  | Elapsed Time: 0:00:11 ETA:   1:11:26"
     ]
    },
    {
     "name": "stdout",
     "output_type": "stream",
     "text": [
      "Phases: 2\n"
     ]
    },
    {
     "name": "stderr",
     "output_type": "stream",
     "text": [
      "  0% (3197 of 480213) |                  | Elapsed Time: 0:00:17 ETA:   1:15:10"
     ]
    },
    {
     "name": "stdout",
     "output_type": "stream",
     "text": [
      "Phases: 3\n"
     ]
    },
    {
     "name": "stderr",
     "output_type": "stream",
     "text": [
      "  0% (4305 of 480213) |                  | Elapsed Time: 0:00:24 ETA:   1:12:42"
     ]
    },
    {
     "name": "stdout",
     "output_type": "stream",
     "text": [
      "Phases: 4\n"
     ]
    },
    {
     "name": "stderr",
     "output_type": "stream",
     "text": [
      "  1% (5376 of 480213) |                  | Elapsed Time: 0:00:30 ETA:   1:18:45"
     ]
    },
    {
     "name": "stdout",
     "output_type": "stream",
     "text": [
      "Phases: 5\n"
     ]
    },
    {
     "name": "stderr",
     "output_type": "stream",
     "text": [
      "  1% (6527 of 480213) |                  | Elapsed Time: 0:00:37 ETA:   1:14:14"
     ]
    },
    {
     "name": "stdout",
     "output_type": "stream",
     "text": [
      "Phases: 6\n"
     ]
    },
    {
     "name": "stderr",
     "output_type": "stream",
     "text": [
      "  1% (7503 of 480213) |                  | Elapsed Time: 0:00:43 ETA:   1:13:59"
     ]
    },
    {
     "name": "stdout",
     "output_type": "stream",
     "text": [
      "Phases: 7\n"
     ]
    },
    {
     "name": "stderr",
     "output_type": "stream",
     "text": [
      "  1% (8665 of 480213) |                  | Elapsed Time: 0:00:50 ETA:   1:11:54"
     ]
    },
    {
     "name": "stdout",
     "output_type": "stream",
     "text": [
      "Phases: 8\n"
     ]
    },
    {
     "name": "stderr",
     "output_type": "stream",
     "text": [
      "  2% (9780 of 480213) |                  | Elapsed Time: 0:00:56 ETA:   1:14:22"
     ]
    },
    {
     "name": "stdout",
     "output_type": "stream",
     "text": [
      "Phases: 9\n"
     ]
    },
    {
     "name": "stderr",
     "output_type": "stream",
     "text": [
      "  2% (10943 of 480213) |                 | Elapsed Time: 0:01:03 ETA:   1:11:10"
     ]
    },
    {
     "name": "stdout",
     "output_type": "stream",
     "text": [
      "Phases: 10\n"
     ]
    },
    {
     "name": "stderr",
     "output_type": "stream",
     "text": [
      "  2% (11931 of 480213) |                 | Elapsed Time: 0:01:09 ETA:   1:08:11"
     ]
    },
    {
     "name": "stdout",
     "output_type": "stream",
     "text": [
      "Phases: 11\n"
     ]
    },
    {
     "name": "stderr",
     "output_type": "stream",
     "text": [
      "  2% (13092 of 480213) |                 | Elapsed Time: 0:01:16 ETA:   1:11:59"
     ]
    },
    {
     "name": "stdout",
     "output_type": "stream",
     "text": [
      "Phases: 12\n"
     ]
    },
    {
     "name": "stderr",
     "output_type": "stream",
     "text": [
      "  2% (13998 of 480213) |                 | Elapsed Time: 0:01:21 ETA:   1:12:59"
     ]
    },
    {
     "name": "stdout",
     "output_type": "stream",
     "text": [
      "Phases: 13\n"
     ]
    },
    {
     "name": "stderr",
     "output_type": "stream",
     "text": [
      "  3% (15071 of 480213) |                 | Elapsed Time: 0:01:28 ETA:   1:10:38"
     ]
    },
    {
     "name": "stdout",
     "output_type": "stream",
     "text": [
      "Phases: 14\n"
     ]
    },
    {
     "name": "stderr",
     "output_type": "stream",
     "text": [
      "  3% (16095 of 480213) |                 | Elapsed Time: 0:01:34 ETA:   1:09:08"
     ]
    },
    {
     "name": "stdout",
     "output_type": "stream",
     "text": [
      "Phases: 15\n"
     ]
    },
    {
     "name": "stderr",
     "output_type": "stream",
     "text": [
      "  3% (17211 of 480213) |                 | Elapsed Time: 0:01:40 ETA:   1:13:15"
     ]
    },
    {
     "name": "stdout",
     "output_type": "stream",
     "text": [
      "Phases: 16\n"
     ]
    },
    {
     "name": "stderr",
     "output_type": "stream",
     "text": [
      "  3% (18197 of 480213) |                 | Elapsed Time: 0:01:46 ETA:   1:06:56"
     ]
    },
    {
     "name": "stdout",
     "output_type": "stream",
     "text": [
      "Phases: 17\n"
     ]
    },
    {
     "name": "stderr",
     "output_type": "stream",
     "text": [
      "  4% (19367 of 480213) |                 | Elapsed Time: 0:01:53 ETA:   1:14:12"
     ]
    },
    {
     "name": "stdout",
     "output_type": "stream",
     "text": [
      "Phases: 18\n"
     ]
    },
    {
     "name": "stderr",
     "output_type": "stream",
     "text": [
      "  4% (20370 of 480213) |                 | Elapsed Time: 0:01:59 ETA:   1:11:21"
     ]
    },
    {
     "name": "stdout",
     "output_type": "stream",
     "text": [
      "Phases: 19\n"
     ]
    },
    {
     "name": "stderr",
     "output_type": "stream",
     "text": [
      "  4% (21621 of 480213) |                 | Elapsed Time: 0:02:06 ETA:   1:11:04"
     ]
    },
    {
     "name": "stdout",
     "output_type": "stream",
     "text": [
      "Phases: 20\n"
     ]
    },
    {
     "name": "stderr",
     "output_type": "stream",
     "text": [
      "  4% (22612 of 480213) |                 | Elapsed Time: 0:02:12 ETA:   1:10:44"
     ]
    },
    {
     "name": "stdout",
     "output_type": "stream",
     "text": [
      "Phases: 21\n"
     ]
    },
    {
     "name": "stderr",
     "output_type": "stream",
     "text": [
      "  4% (23712 of 480213) |                 | Elapsed Time: 0:02:18 ETA:   1:06:35"
     ]
    },
    {
     "name": "stdout",
     "output_type": "stream",
     "text": [
      "Phases: 22\n"
     ]
    },
    {
     "name": "stderr",
     "output_type": "stream",
     "text": [
      "  5% (24729 of 480213) |                 | Elapsed Time: 0:02:25 ETA:   1:05:55"
     ]
    },
    {
     "name": "stdout",
     "output_type": "stream",
     "text": [
      "Phases: 23\n"
     ]
    },
    {
     "name": "stderr",
     "output_type": "stream",
     "text": [
      "  5% (25869 of 480213) |                 | Elapsed Time: 0:02:31 ETA:   1:09:00"
     ]
    },
    {
     "name": "stdout",
     "output_type": "stream",
     "text": [
      "Phases: 24\n"
     ]
    },
    {
     "name": "stderr",
     "output_type": "stream",
     "text": [
      "  5% (26844 of 480213) |                 | Elapsed Time: 0:02:37 ETA:   1:05:06"
     ]
    },
    {
     "name": "stdout",
     "output_type": "stream",
     "text": [
      "Phases: 25\n"
     ]
    },
    {
     "name": "stderr",
     "output_type": "stream",
     "text": [
      "  5% (27974 of 480213) |                 | Elapsed Time: 0:02:44 ETA:   1:09:28"
     ]
    },
    {
     "name": "stdout",
     "output_type": "stream",
     "text": [
      "Phases: 26\n"
     ]
    },
    {
     "name": "stderr",
     "output_type": "stream",
     "text": [
      "  6% (28955 of 480213) |#                | Elapsed Time: 0:02:52 ETA:   1:34:14"
     ]
    },
    {
     "name": "stdout",
     "output_type": "stream",
     "text": [
      "Phases: 27\n"
     ]
    },
    {
     "name": "stderr",
     "output_type": "stream",
     "text": [
      "  6% (30035 of 480213) |#                | Elapsed Time: 0:02:58 ETA:   1:08:44"
     ]
    },
    {
     "name": "stdout",
     "output_type": "stream",
     "text": [
      "Phases: 28\n"
     ]
    },
    {
     "name": "stderr",
     "output_type": "stream",
     "text": [
      "  6% (31049 of 480213) |#                | Elapsed Time: 0:03:04 ETA:   1:05:53"
     ]
    },
    {
     "name": "stdout",
     "output_type": "stream",
     "text": [
      "Phases: 29\n"
     ]
    },
    {
     "name": "stderr",
     "output_type": "stream",
     "text": [
      "  6% (32033 of 480213) |#                | Elapsed Time: 0:03:10 ETA:   1:07:34"
     ]
    },
    {
     "name": "stdout",
     "output_type": "stream",
     "text": [
      "Phases: 30\n"
     ]
    },
    {
     "name": "stderr",
     "output_type": "stream",
     "text": [
      "  6% (33306 of 480213) |#                | Elapsed Time: 0:03:17 ETA:   1:11:51"
     ]
    },
    {
     "name": "stdout",
     "output_type": "stream",
     "text": [
      "Phases: 31\n"
     ]
    },
    {
     "name": "stderr",
     "output_type": "stream",
     "text": [
      "  7% (34505 of 480213) |#                | Elapsed Time: 0:03:24 ETA:   1:11:17"
     ]
    },
    {
     "name": "stdout",
     "output_type": "stream",
     "text": [
      "Phases: 32\n"
     ]
    },
    {
     "name": "stderr",
     "output_type": "stream",
     "text": [
      "  7% (35461 of 480213) |#                | Elapsed Time: 0:03:30 ETA:   1:09:59"
     ]
    },
    {
     "name": "stdout",
     "output_type": "stream",
     "text": [
      "Phases: 33\n"
     ]
    },
    {
     "name": "stderr",
     "output_type": "stream",
     "text": [
      "  7% (36603 of 480213) |#                | Elapsed Time: 0:03:37 ETA:   1:07:24"
     ]
    },
    {
     "name": "stdout",
     "output_type": "stream",
     "text": [
      "Phases: 34\n"
     ]
    },
    {
     "name": "stderr",
     "output_type": "stream",
     "text": [
      "  7% (37558 of 480213) |#                | Elapsed Time: 0:03:42 ETA:   1:07:56"
     ]
    },
    {
     "name": "stdout",
     "output_type": "stream",
     "text": [
      "Phases: 35\n"
     ]
    },
    {
     "name": "stderr",
     "output_type": "stream",
     "text": [
      "  8% (38636 of 480213) |#                | Elapsed Time: 0:03:49 ETA:   1:10:27"
     ]
    },
    {
     "name": "stdout",
     "output_type": "stream",
     "text": [
      "Phases: 36\n"
     ]
    },
    {
     "name": "stderr",
     "output_type": "stream",
     "text": [
      "  8% (39689 of 480213) |#                | Elapsed Time: 0:03:55 ETA:   1:04:16"
     ]
    },
    {
     "name": "stdout",
     "output_type": "stream",
     "text": [
      "Phases: 37\n"
     ]
    },
    {
     "name": "stderr",
     "output_type": "stream",
     "text": [
      "  8% (40874 of 480213) |#                | Elapsed Time: 0:04:02 ETA:   1:08:41"
     ]
    },
    {
     "name": "stdout",
     "output_type": "stream",
     "text": [
      "Phases: 38\n"
     ]
    },
    {
     "name": "stderr",
     "output_type": "stream",
     "text": [
      "  8% (41901 of 480213) |#                | Elapsed Time: 0:04:08 ETA:   1:08:53"
     ]
    },
    {
     "name": "stdout",
     "output_type": "stream",
     "text": [
      "Phases: 39\n"
     ]
    },
    {
     "name": "stderr",
     "output_type": "stream",
     "text": [
      "  8% (43195 of 480213) |#                | Elapsed Time: 0:04:15 ETA:   1:07:18"
     ]
    },
    {
     "name": "stdout",
     "output_type": "stream",
     "text": [
      "Phases: 40\n"
     ]
    },
    {
     "name": "stderr",
     "output_type": "stream",
     "text": [
      "  9% (44109 of 480213) |#                | Elapsed Time: 0:04:21 ETA:   1:05:27"
     ]
    },
    {
     "name": "stdout",
     "output_type": "stream",
     "text": [
      "Phases: 41\n"
     ]
    },
    {
     "name": "stderr",
     "output_type": "stream",
     "text": [
      "  9% (45367 of 480213) |#                | Elapsed Time: 0:04:28 ETA:   1:07:31"
     ]
    },
    {
     "name": "stdout",
     "output_type": "stream",
     "text": [
      "Phases: 42\n"
     ]
    },
    {
     "name": "stderr",
     "output_type": "stream",
     "text": [
      "  9% (46384 of 480213) |#                | Elapsed Time: 0:04:34 ETA:   1:09:32"
     ]
    },
    {
     "name": "stdout",
     "output_type": "stream",
     "text": [
      "Phases: 43\n"
     ]
    },
    {
     "name": "stderr",
     "output_type": "stream",
     "text": [
      "  9% (47547 of 480213) |#                | Elapsed Time: 0:04:41 ETA:   1:07:03"
     ]
    },
    {
     "name": "stdout",
     "output_type": "stream",
     "text": [
      "Phases: 44\n"
     ]
    },
    {
     "name": "stderr",
     "output_type": "stream",
     "text": [
      " 10% (48515 of 480213) |#                | Elapsed Time: 0:04:47 ETA:   1:13:50"
     ]
    },
    {
     "name": "stdout",
     "output_type": "stream",
     "text": [
      "Phases: 45\n"
     ]
    },
    {
     "name": "stderr",
     "output_type": "stream",
     "text": [
      " 10% (49603 of 480213) |#                | Elapsed Time: 0:04:54 ETA:   1:09:27"
     ]
    },
    {
     "name": "stdout",
     "output_type": "stream",
     "text": [
      "Phases: 46\n"
     ]
    },
    {
     "name": "stderr",
     "output_type": "stream",
     "text": [
      " 10% (50660 of 480213) |#                | Elapsed Time: 0:05:00 ETA:   1:06:43"
     ]
    },
    {
     "name": "stdout",
     "output_type": "stream",
     "text": [
      "Phases: 47\n"
     ]
    },
    {
     "name": "stderr",
     "output_type": "stream",
     "text": [
      " 10% (51852 of 480213) |#                | Elapsed Time: 0:05:07 ETA:   1:09:44"
     ]
    },
    {
     "name": "stdout",
     "output_type": "stream",
     "text": [
      "Phases: 48\n"
     ]
    },
    {
     "name": "stderr",
     "output_type": "stream",
     "text": [
      " 11% (52843 of 480213) |#                | Elapsed Time: 0:05:13 ETA:   1:11:40"
     ]
    },
    {
     "name": "stdout",
     "output_type": "stream",
     "text": [
      "Phases: 49\n"
     ]
    },
    {
     "name": "stderr",
     "output_type": "stream",
     "text": [
      " 11% (54010 of 480213) |#                | Elapsed Time: 0:05:20 ETA:   1:05:41"
     ]
    },
    {
     "name": "stdout",
     "output_type": "stream",
     "text": [
      "Phases: 50\n"
     ]
    },
    {
     "name": "stderr",
     "output_type": "stream",
     "text": [
      " 11% (55166 of 480213) |#                | Elapsed Time: 0:05:26 ETA:   1:05:45"
     ]
    },
    {
     "name": "stdout",
     "output_type": "stream",
     "text": [
      "Phases: 51\n"
     ]
    },
    {
     "name": "stderr",
     "output_type": "stream",
     "text": [
      " 11% (56271 of 480213) |#                | Elapsed Time: 0:05:33 ETA:   1:08:00"
     ]
    },
    {
     "name": "stdout",
     "output_type": "stream",
     "text": [
      "Phases: 52\n"
     ]
    },
    {
     "name": "stderr",
     "output_type": "stream",
     "text": [
      " 11% (57432 of 480213) |##               | Elapsed Time: 0:05:40 ETA:   1:05:12"
     ]
    },
    {
     "name": "stdout",
     "output_type": "stream",
     "text": [
      "Phases: 53\n"
     ]
    },
    {
     "name": "stderr",
     "output_type": "stream",
     "text": [
      " 12% (58580 of 480213) |##               | Elapsed Time: 0:05:46 ETA:   1:06:09"
     ]
    },
    {
     "name": "stdout",
     "output_type": "stream",
     "text": [
      "Phases: 54\n"
     ]
    },
    {
     "name": "stderr",
     "output_type": "stream",
     "text": [
      " 12% (59590 of 480213) |##               | Elapsed Time: 0:05:52 ETA:   1:06:04"
     ]
    },
    {
     "name": "stdout",
     "output_type": "stream",
     "text": [
      "Phases: 55\n"
     ]
    },
    {
     "name": "stderr",
     "output_type": "stream",
     "text": [
      " 12% (60746 of 480213) |##               | Elapsed Time: 0:05:59 ETA:   1:02:55"
     ]
    },
    {
     "name": "stdout",
     "output_type": "stream",
     "text": [
      "Phases: 56\n"
     ]
    },
    {
     "name": "stderr",
     "output_type": "stream",
     "text": [
      " 12% (61736 of 480213) |##               | Elapsed Time: 0:06:05 ETA:   0:59:57"
     ]
    },
    {
     "name": "stdout",
     "output_type": "stream",
     "text": [
      "Phases: 57\n"
     ]
    },
    {
     "name": "stderr",
     "output_type": "stream",
     "text": [
      " 13% (62893 of 480213) |##               | Elapsed Time: 0:06:12 ETA:   1:10:07"
     ]
    },
    {
     "name": "stdout",
     "output_type": "stream",
     "text": [
      "Phases: 58\n"
     ]
    },
    {
     "name": "stderr",
     "output_type": "stream",
     "text": [
      " 13% (63938 of 480213) |##               | Elapsed Time: 0:06:18 ETA:   1:05:53"
     ]
    },
    {
     "name": "stdout",
     "output_type": "stream",
     "text": [
      "Phases: 59\n"
     ]
    },
    {
     "name": "stderr",
     "output_type": "stream",
     "text": [
      " 13% (65148 of 480213) |##               | Elapsed Time: 0:06:25 ETA:   0:55:51"
     ]
    },
    {
     "name": "stdout",
     "output_type": "stream",
     "text": [
      "Phases: 60\n",
      "Subject 16 windowed. Time elapsed: 0:06:28\n",
      "\n",
      "Swing Onset at sample 5549\n"
     ]
    },
    {
     "name": "stderr",
     "output_type": "stream",
     "text": [
      "  0% (26 of 480852) |                    | Elapsed Time: 0:00:00 ETA:   0:32:32"
     ]
    },
    {
     "name": "stdout",
     "output_type": "stream",
     "text": [
      "Subject 17 rows: 486600\n"
     ]
    },
    {
     "name": "stderr",
     "output_type": "stream",
     "text": [
      "  0% (835 of 480852) |                   | Elapsed Time: 0:00:04 ETA:   1:15:30"
     ]
    },
    {
     "name": "stdout",
     "output_type": "stream",
     "text": [
      "Phases: 1\n"
     ]
    },
    {
     "name": "stderr",
     "output_type": "stream",
     "text": [
      "  0% (1949 of 480852) |                  | Elapsed Time: 0:00:10 ETA:   1:12:43"
     ]
    },
    {
     "name": "stdout",
     "output_type": "stream",
     "text": [
      "Phases: 2\n"
     ]
    },
    {
     "name": "stderr",
     "output_type": "stream",
     "text": [
      "  0% (2823 of 480852) |                  | Elapsed Time: 0:00:16 ETA:   1:13:31"
     ]
    },
    {
     "name": "stdout",
     "output_type": "stream",
     "text": [
      "Phases: 3\n"
     ]
    },
    {
     "name": "stderr",
     "output_type": "stream",
     "text": [
      "  0% (3855 of 480852) |                  | Elapsed Time: 0:00:22 ETA:   1:11:53"
     ]
    },
    {
     "name": "stdout",
     "output_type": "stream",
     "text": [
      "Phases: 4\n"
     ]
    },
    {
     "name": "stderr",
     "output_type": "stream",
     "text": [
      "  0% (4786 of 480852) |                  | Elapsed Time: 0:00:28 ETA:   1:12:12"
     ]
    },
    {
     "name": "stdout",
     "output_type": "stream",
     "text": [
      "Phases: 5\n"
     ]
    },
    {
     "name": "stderr",
     "output_type": "stream",
     "text": [
      "  1% (5977 of 480852) |                  | Elapsed Time: 0:00:35 ETA:   1:12:45"
     ]
    },
    {
     "name": "stdout",
     "output_type": "stream",
     "text": [
      "Phases: 6\n"
     ]
    },
    {
     "name": "stderr",
     "output_type": "stream",
     "text": [
      "  1% (6906 of 480852) |                  | Elapsed Time: 0:00:40 ETA:   1:13:06"
     ]
    },
    {
     "name": "stdout",
     "output_type": "stream",
     "text": [
      "Phases: 7\n"
     ]
    },
    {
     "name": "stderr",
     "output_type": "stream",
     "text": [
      "  1% (8150 of 480852) |                  | Elapsed Time: 0:00:48 ETA:   1:12:34"
     ]
    },
    {
     "name": "stdout",
     "output_type": "stream",
     "text": [
      "Phases: 8\n"
     ]
    },
    {
     "name": "stderr",
     "output_type": "stream",
     "text": [
      "  1% (9114 of 480852) |                  | Elapsed Time: 0:00:53 ETA:   1:13:36"
     ]
    },
    {
     "name": "stdout",
     "output_type": "stream",
     "text": [
      "Phases: 9\n"
     ]
    },
    {
     "name": "stderr",
     "output_type": "stream",
     "text": [
      "  2% (10345 of 480852) |                 | Elapsed Time: 0:01:00 ETA:   1:13:23"
     ]
    },
    {
     "name": "stdout",
     "output_type": "stream",
     "text": [
      "Phases: 10\n"
     ]
    },
    {
     "name": "stderr",
     "output_type": "stream",
     "text": [
      "  2% (11327 of 480852) |                 | Elapsed Time: 0:01:06 ETA:   1:09:36"
     ]
    },
    {
     "name": "stdout",
     "output_type": "stream",
     "text": [
      "Phases: 11\n"
     ]
    },
    {
     "name": "stderr",
     "output_type": "stream",
     "text": [
      "  2% (12582 of 480852) |                 | Elapsed Time: 0:01:13 ETA:   1:18:53"
     ]
    },
    {
     "name": "stdout",
     "output_type": "stream",
     "text": [
      "Phases: 12\n"
     ]
    },
    {
     "name": "stderr",
     "output_type": "stream",
     "text": [
      "  2% (13444 of 480852) |                 | Elapsed Time: 0:01:19 ETA:   1:09:53"
     ]
    },
    {
     "name": "stdout",
     "output_type": "stream",
     "text": [
      "Phases: 13\n"
     ]
    },
    {
     "name": "stderr",
     "output_type": "stream",
     "text": [
      "  3% (14514 of 480852) |                 | Elapsed Time: 0:01:25 ETA:   1:12:35"
     ]
    },
    {
     "name": "stdout",
     "output_type": "stream",
     "text": [
      "Phases: 14\n"
     ]
    },
    {
     "name": "stderr",
     "output_type": "stream",
     "text": [
      "  3% (15393 of 480852) |                 | Elapsed Time: 0:01:31 ETA:   1:10:18"
     ]
    },
    {
     "name": "stdout",
     "output_type": "stream",
     "text": [
      "Phases: 15\n"
     ]
    },
    {
     "name": "stderr",
     "output_type": "stream",
     "text": [
      "  3% (16472 of 480852) |                 | Elapsed Time: 0:01:37 ETA:   1:10:35"
     ]
    },
    {
     "name": "stdout",
     "output_type": "stream",
     "text": [
      "Phases: 16\n"
     ]
    },
    {
     "name": "stderr",
     "output_type": "stream",
     "text": [
      "  3% (17380 of 480852) |                 | Elapsed Time: 0:01:43 ETA:   1:09:46"
     ]
    },
    {
     "name": "stdout",
     "output_type": "stream",
     "text": [
      "Phases: 17\n"
     ]
    },
    {
     "name": "stderr",
     "output_type": "stream",
     "text": [
      "  3% (18510 of 480852) |                 | Elapsed Time: 0:01:49 ETA:   1:11:29"
     ]
    },
    {
     "name": "stdout",
     "output_type": "stream",
     "text": [
      "Phases: 18\n"
     ]
    },
    {
     "name": "stderr",
     "output_type": "stream",
     "text": [
      "  4% (19339 of 480852) |                 | Elapsed Time: 0:01:55 ETA:   1:09:35"
     ]
    },
    {
     "name": "stdout",
     "output_type": "stream",
     "text": [
      "Phases: 19\n"
     ]
    },
    {
     "name": "stderr",
     "output_type": "stream",
     "text": [
      "  4% (20505 of 480852) |                 | Elapsed Time: 0:02:01 ETA:   1:10:58"
     ]
    },
    {
     "name": "stdout",
     "output_type": "stream",
     "text": [
      "Phases: 20\n"
     ]
    },
    {
     "name": "stderr",
     "output_type": "stream",
     "text": [
      "  4% (21453 of 480852) |                 | Elapsed Time: 0:02:07 ETA:   1:07:50"
     ]
    },
    {
     "name": "stdout",
     "output_type": "stream",
     "text": [
      "Phases: 21\n"
     ]
    },
    {
     "name": "stderr",
     "output_type": "stream",
     "text": [
      "  4% (22694 of 480852) |                 | Elapsed Time: 0:02:14 ETA:   1:14:34"
     ]
    },
    {
     "name": "stdout",
     "output_type": "stream",
     "text": [
      "Phases: 22\n"
     ]
    },
    {
     "name": "stderr",
     "output_type": "stream",
     "text": [
      "  4% (23547 of 480852) |                 | Elapsed Time: 0:02:20 ETA:   1:09:06"
     ]
    },
    {
     "name": "stdout",
     "output_type": "stream",
     "text": [
      "Phases: 23\n"
     ]
    },
    {
     "name": "stderr",
     "output_type": "stream",
     "text": [
      "  5% (24669 of 480852) |                 | Elapsed Time: 0:02:26 ETA:   1:10:06"
     ]
    },
    {
     "name": "stdout",
     "output_type": "stream",
     "text": [
      "Phases: 24\n"
     ]
    },
    {
     "name": "stderr",
     "output_type": "stream",
     "text": [
      "  5% (25639 of 480852) |                 | Elapsed Time: 0:02:32 ETA:   1:06:41"
     ]
    },
    {
     "name": "stdout",
     "output_type": "stream",
     "text": [
      "Phases: 25\n"
     ]
    },
    {
     "name": "stderr",
     "output_type": "stream",
     "text": [
      "  5% (26973 of 480852) |                 | Elapsed Time: 0:02:40 ETA:   1:11:23"
     ]
    },
    {
     "name": "stdout",
     "output_type": "stream",
     "text": [
      "Phases: 26\n"
     ]
    },
    {
     "name": "stderr",
     "output_type": "stream",
     "text": [
      "  5% (28017 of 480852) |                 | Elapsed Time: 0:02:46 ETA:   1:04:59"
     ]
    },
    {
     "name": "stdout",
     "output_type": "stream",
     "text": [
      "Phases: 27\n"
     ]
    },
    {
     "name": "stderr",
     "output_type": "stream",
     "text": [
      "  6% (29407 of 480852) |#                | Elapsed Time: 0:02:53 ETA:   1:15:45"
     ]
    },
    {
     "name": "stdout",
     "output_type": "stream",
     "text": [
      "Phases: 28\n"
     ]
    },
    {
     "name": "stderr",
     "output_type": "stream",
     "text": [
      "  6% (30296 of 480852) |#                | Elapsed Time: 0:02:59 ETA:   1:07:48"
     ]
    },
    {
     "name": "stdout",
     "output_type": "stream",
     "text": [
      "Phases: 29\n"
     ]
    },
    {
     "name": "stderr",
     "output_type": "stream",
     "text": [
      "  6% (31466 of 480852) |#                | Elapsed Time: 0:03:06 ETA:   1:06:27"
     ]
    },
    {
     "name": "stdout",
     "output_type": "stream",
     "text": [
      "Phases: 30\n"
     ]
    },
    {
     "name": "stderr",
     "output_type": "stream",
     "text": [
      "  6% (32263 of 480852) |#                | Elapsed Time: 0:03:11 ETA:   1:07:05"
     ]
    },
    {
     "name": "stdout",
     "output_type": "stream",
     "text": [
      "Phases: 31\n"
     ]
    },
    {
     "name": "stderr",
     "output_type": "stream",
     "text": [
      "  6% (33324 of 480852) |#                | Elapsed Time: 0:03:17 ETA:   1:07:52"
     ]
    },
    {
     "name": "stdout",
     "output_type": "stream",
     "text": [
      "Phases: 32\n"
     ]
    },
    {
     "name": "stderr",
     "output_type": "stream",
     "text": [
      "  7% (34228 of 480852) |#                | Elapsed Time: 0:03:23 ETA:   1:07:23"
     ]
    },
    {
     "name": "stdout",
     "output_type": "stream",
     "text": [
      "Phases: 33\n"
     ]
    },
    {
     "name": "stderr",
     "output_type": "stream",
     "text": [
      "  7% (35400 of 480852) |#                | Elapsed Time: 0:03:30 ETA:   1:07:04"
     ]
    },
    {
     "name": "stdout",
     "output_type": "stream",
     "text": [
      "Phases: 34\n"
     ]
    },
    {
     "name": "stderr",
     "output_type": "stream",
     "text": [
      "  7% (36338 of 480852) |#                | Elapsed Time: 0:03:36 ETA:   1:20:37"
     ]
    },
    {
     "name": "stdout",
     "output_type": "stream",
     "text": [
      "Phases: 35\n"
     ]
    },
    {
     "name": "stderr",
     "output_type": "stream",
     "text": [
      "  7% (37577 of 480852) |#                | Elapsed Time: 0:03:43 ETA:   1:09:39"
     ]
    },
    {
     "name": "stdout",
     "output_type": "stream",
     "text": [
      "Phases: 36\n"
     ]
    },
    {
     "name": "stderr",
     "output_type": "stream",
     "text": [
      "  8% (38541 of 480852) |#                | Elapsed Time: 0:03:48 ETA:   1:18:14"
     ]
    },
    {
     "name": "stdout",
     "output_type": "stream",
     "text": [
      "Phases: 37\n"
     ]
    },
    {
     "name": "stderr",
     "output_type": "stream",
     "text": [
      "  8% (39778 of 480852) |#                | Elapsed Time: 0:03:55 ETA:   1:06:47"
     ]
    },
    {
     "name": "stdout",
     "output_type": "stream",
     "text": [
      "Phases: 38\n"
     ]
    },
    {
     "name": "stderr",
     "output_type": "stream",
     "text": [
      "  8% (40762 of 480852) |#                | Elapsed Time: 0:04:01 ETA:   1:06:20"
     ]
    },
    {
     "name": "stdout",
     "output_type": "stream",
     "text": [
      "Phases: 39\n"
     ]
    },
    {
     "name": "stderr",
     "output_type": "stream",
     "text": [
      "  8% (42002 of 480852) |#                | Elapsed Time: 0:04:08 ETA:   1:07:03"
     ]
    },
    {
     "name": "stdout",
     "output_type": "stream",
     "text": [
      "Phases: 40\n"
     ]
    },
    {
     "name": "stderr",
     "output_type": "stream",
     "text": [
      "  8% (42958 of 480852) |#                | Elapsed Time: 0:04:14 ETA:   1:06:02"
     ]
    },
    {
     "name": "stdout",
     "output_type": "stream",
     "text": [
      "Phases: 41\n"
     ]
    },
    {
     "name": "stderr",
     "output_type": "stream",
     "text": [
      "  9% (44049 of 480852) |#                | Elapsed Time: 0:04:21 ETA:   1:04:43"
     ]
    },
    {
     "name": "stdout",
     "output_type": "stream",
     "text": [
      "Phases: 42\n"
     ]
    },
    {
     "name": "stderr",
     "output_type": "stream",
     "text": [
      "  9% (44989 of 480852) |#                | Elapsed Time: 0:04:26 ETA:   1:05:27"
     ]
    },
    {
     "name": "stdout",
     "output_type": "stream",
     "text": [
      "Phases: 43\n"
     ]
    },
    {
     "name": "stderr",
     "output_type": "stream",
     "text": [
      "  9% (46121 of 480852) |#                | Elapsed Time: 0:04:33 ETA:   1:09:44"
     ]
    },
    {
     "name": "stdout",
     "output_type": "stream",
     "text": [
      "Phases: 44\n"
     ]
    },
    {
     "name": "stderr",
     "output_type": "stream",
     "text": [
      "  9% (46980 of 480852) |#                | Elapsed Time: 0:04:39 ETA:   1:05:54"
     ]
    },
    {
     "name": "stdout",
     "output_type": "stream",
     "text": [
      "Phases: 45\n"
     ]
    },
    {
     "name": "stderr",
     "output_type": "stream",
     "text": [
      " 10% (48101 of 480852) |#                | Elapsed Time: 0:04:45 ETA:   1:04:56"
     ]
    },
    {
     "name": "stdout",
     "output_type": "stream",
     "text": [
      "Phases: 46\n"
     ]
    },
    {
     "name": "stderr",
     "output_type": "stream",
     "text": [
      " 10% (48920 of 480852) |#                | Elapsed Time: 0:04:50 ETA:   1:01:32"
     ]
    },
    {
     "name": "stdout",
     "output_type": "stream",
     "text": [
      "Phases: 47\n"
     ]
    },
    {
     "name": "stderr",
     "output_type": "stream",
     "text": [
      " 10% (50071 of 480852) |#                | Elapsed Time: 0:04:57 ETA:   1:05:15"
     ]
    },
    {
     "name": "stdout",
     "output_type": "stream",
     "text": [
      "Phases: 48\n"
     ]
    },
    {
     "name": "stderr",
     "output_type": "stream",
     "text": [
      " 10% (51029 of 480852) |#                | Elapsed Time: 0:05:03 ETA:   1:05:56"
     ]
    },
    {
     "name": "stdout",
     "output_type": "stream",
     "text": [
      "Phases: 49\n"
     ]
    },
    {
     "name": "stderr",
     "output_type": "stream",
     "text": [
      " 10% (52247 of 480852) |#                | Elapsed Time: 0:05:10 ETA:   1:04:47"
     ]
    },
    {
     "name": "stdout",
     "output_type": "stream",
     "text": [
      "Phases: 50\n"
     ]
    },
    {
     "name": "stderr",
     "output_type": "stream",
     "text": [
      " 11% (53185 of 480852) |#                | Elapsed Time: 0:05:16 ETA:   1:04:52"
     ]
    },
    {
     "name": "stdout",
     "output_type": "stream",
     "text": [
      "Phases: 51\n"
     ]
    },
    {
     "name": "stderr",
     "output_type": "stream",
     "text": [
      " 11% (54476 of 480852) |#                | Elapsed Time: 0:05:23 ETA:   1:05:58"
     ]
    },
    {
     "name": "stdout",
     "output_type": "stream",
     "text": [
      "Phases: 52\n"
     ]
    },
    {
     "name": "stderr",
     "output_type": "stream",
     "text": [
      " 11% (55465 of 480852) |#                | Elapsed Time: 0:05:29 ETA:   1:00:58"
     ]
    },
    {
     "name": "stdout",
     "output_type": "stream",
     "text": [
      "Phases: 53\n"
     ]
    },
    {
     "name": "stderr",
     "output_type": "stream",
     "text": [
      " 11% (56652 of 480852) |##               | Elapsed Time: 0:05:36 ETA:   1:04:54"
     ]
    },
    {
     "name": "stdout",
     "output_type": "stream",
     "text": [
      "Phases: 54\n"
     ]
    },
    {
     "name": "stderr",
     "output_type": "stream",
     "text": [
      " 11% (57624 of 480852) |##               | Elapsed Time: 0:05:41 ETA:   1:03:02"
     ]
    },
    {
     "name": "stdout",
     "output_type": "stream",
     "text": [
      "Phases: 55\n"
     ]
    },
    {
     "name": "stderr",
     "output_type": "stream",
     "text": [
      " 12% (58867 of 480852) |##               | Elapsed Time: 0:05:48 ETA:   1:09:18"
     ]
    },
    {
     "name": "stdout",
     "output_type": "stream",
     "text": [
      "Phases: 56\n"
     ]
    },
    {
     "name": "stderr",
     "output_type": "stream",
     "text": [
      " 12% (59782 of 480852) |##               | Elapsed Time: 0:05:54 ETA:   1:08:15"
     ]
    },
    {
     "name": "stdout",
     "output_type": "stream",
     "text": [
      "Phases: 57\n"
     ]
    },
    {
     "name": "stderr",
     "output_type": "stream",
     "text": [
      " 12% (60938 of 480852) |##               | Elapsed Time: 0:06:01 ETA:   1:06:45"
     ]
    },
    {
     "name": "stdout",
     "output_type": "stream",
     "text": [
      "Phases: 58\n"
     ]
    },
    {
     "name": "stderr",
     "output_type": "stream",
     "text": [
      " 12% (61813 of 480852) |##               | Elapsed Time: 0:06:06 ETA:   1:08:59"
     ]
    },
    {
     "name": "stdout",
     "output_type": "stream",
     "text": [
      "Phases: 59\n"
     ]
    },
    {
     "name": "stderr",
     "output_type": "stream",
     "text": [
      " 13% (62916 of 480852) |##               | Elapsed Time: 0:06:13 ETA:   0:55:14"
     ]
    },
    {
     "name": "stdout",
     "output_type": "stream",
     "text": [
      "Phases: 60\n",
      "Subject 17 windowed. Time elapsed: 0:06:17\n",
      "\n",
      "Swing Onset at sample 1\n"
     ]
    },
    {
     "name": "stderr",
     "output_type": "stream",
     "text": [
      "  0% (26 of 486400) |                    | Elapsed Time: 0:00:00 ETA:   0:31:29"
     ]
    },
    {
     "name": "stdout",
     "output_type": "stream",
     "text": [
      "Subject 18 rows: 486600\n"
     ]
    },
    {
     "name": "stderr",
     "output_type": "stream",
     "text": [
      "  0% (739 of 486400) |                   | Elapsed Time: 0:00:04 ETA:   1:16:29"
     ]
    },
    {
     "name": "stdout",
     "output_type": "stream",
     "text": [
      "Phases: 1\n"
     ]
    },
    {
     "name": "stderr",
     "output_type": "stream",
     "text": [
      "  0% (1663 of 486400) |                  | Elapsed Time: 0:00:09 ETA:   1:16:01"
     ]
    },
    {
     "name": "stdout",
     "output_type": "stream",
     "text": [
      "Phases: 2\n"
     ]
    },
    {
     "name": "stderr",
     "output_type": "stream",
     "text": [
      "  0% (2995 of 486400) |                  | Elapsed Time: 0:00:17 ETA:   1:17:01"
     ]
    },
    {
     "name": "stdout",
     "output_type": "stream",
     "text": [
      "Phases: 3\n"
     ]
    },
    {
     "name": "stderr",
     "output_type": "stream",
     "text": [
      "  0% (4211 of 486400) |                  | Elapsed Time: 0:00:24 ETA:   1:20:21"
     ]
    },
    {
     "name": "stdout",
     "output_type": "stream",
     "text": [
      "Phases: 4\n"
     ]
    },
    {
     "name": "stderr",
     "output_type": "stream",
     "text": [
      "  1% (5208 of 486400) |                  | Elapsed Time: 0:00:30 ETA:   1:13:28"
     ]
    },
    {
     "name": "stdout",
     "output_type": "stream",
     "text": [
      "Phases: 5\n"
     ]
    },
    {
     "name": "stderr",
     "output_type": "stream",
     "text": [
      "  1% (6394 of 486400) |                  | Elapsed Time: 0:00:36 ETA:   1:17:27"
     ]
    },
    {
     "name": "stdout",
     "output_type": "stream",
     "text": [
      "Phases: 6\n"
     ]
    },
    {
     "name": "stderr",
     "output_type": "stream",
     "text": [
      "  1% (7373 of 486400) |                  | Elapsed Time: 0:00:42 ETA:   1:09:48"
     ]
    },
    {
     "name": "stdout",
     "output_type": "stream",
     "text": [
      "Phases: 7\n"
     ]
    },
    {
     "name": "stderr",
     "output_type": "stream",
     "text": [
      "  1% (8561 of 486400) |                  | Elapsed Time: 0:00:49 ETA:   1:13:28"
     ]
    },
    {
     "name": "stdout",
     "output_type": "stream",
     "text": [
      "Phases: 8\n"
     ]
    },
    {
     "name": "stderr",
     "output_type": "stream",
     "text": [
      "  1% (9559 of 486400) |                  | Elapsed Time: 0:00:55 ETA:   1:10:51"
     ]
    },
    {
     "name": "stdout",
     "output_type": "stream",
     "text": [
      "Phases: 9\n"
     ]
    },
    {
     "name": "stderr",
     "output_type": "stream",
     "text": [
      "  2% (10732 of 486400) |                 | Elapsed Time: 0:01:02 ETA:   1:08:51"
     ]
    },
    {
     "name": "stdout",
     "output_type": "stream",
     "text": [
      "Phases: 10\n"
     ]
    },
    {
     "name": "stderr",
     "output_type": "stream",
     "text": [
      "  2% (11752 of 486400) |                 | Elapsed Time: 0:01:08 ETA:   1:11:34"
     ]
    },
    {
     "name": "stdout",
     "output_type": "stream",
     "text": [
      "Phases: 11\n"
     ]
    },
    {
     "name": "stderr",
     "output_type": "stream",
     "text": [
      "  2% (12871 of 486400) |                 | Elapsed Time: 0:01:15 ETA:   1:16:47"
     ]
    },
    {
     "name": "stdout",
     "output_type": "stream",
     "text": [
      "Phases: 12\n"
     ]
    },
    {
     "name": "stderr",
     "output_type": "stream",
     "text": [
      "  2% (13883 of 486400) |                 | Elapsed Time: 0:01:21 ETA:   1:09:38"
     ]
    },
    {
     "name": "stdout",
     "output_type": "stream",
     "text": [
      "Phases: 13\n"
     ]
    },
    {
     "name": "stderr",
     "output_type": "stream",
     "text": [
      "  3% (15014 of 486400) |                 | Elapsed Time: 0:01:27 ETA:   1:10:02"
     ]
    },
    {
     "name": "stdout",
     "output_type": "stream",
     "text": [
      "Phases: 14\n"
     ]
    },
    {
     "name": "stderr",
     "output_type": "stream",
     "text": [
      "  3% (15995 of 486400) |                 | Elapsed Time: 0:01:33 ETA:   1:18:24"
     ]
    },
    {
     "name": "stdout",
     "output_type": "stream",
     "text": [
      "Phases: 15\n"
     ]
    },
    {
     "name": "stderr",
     "output_type": "stream",
     "text": [
      "  3% (17163 of 486400) |                 | Elapsed Time: 0:01:40 ETA:   1:11:14"
     ]
    },
    {
     "name": "stdout",
     "output_type": "stream",
     "text": [
      "Phases: 16\n"
     ]
    },
    {
     "name": "stderr",
     "output_type": "stream",
     "text": [
      "  3% (18105 of 486400) |                 | Elapsed Time: 0:01:46 ETA:   1:12:31"
     ]
    },
    {
     "name": "stdout",
     "output_type": "stream",
     "text": [
      "Phases: 17\n"
     ]
    },
    {
     "name": "stderr",
     "output_type": "stream",
     "text": [
      "  3% (19277 of 486400) |                 | Elapsed Time: 0:01:53 ETA:   1:13:32"
     ]
    },
    {
     "name": "stdout",
     "output_type": "stream",
     "text": [
      "Phases: 18\n"
     ]
    },
    {
     "name": "stderr",
     "output_type": "stream",
     "text": [
      "  4% (20233 of 486400) |                 | Elapsed Time: 0:01:58 ETA:   1:09:38"
     ]
    },
    {
     "name": "stdout",
     "output_type": "stream",
     "text": [
      "Phases: 19\n"
     ]
    },
    {
     "name": "stderr",
     "output_type": "stream",
     "text": [
      "  4% (21459 of 486400) |                 | Elapsed Time: 0:02:05 ETA:   1:10:01"
     ]
    },
    {
     "name": "stdout",
     "output_type": "stream",
     "text": [
      "Phases: 20\n"
     ]
    },
    {
     "name": "stderr",
     "output_type": "stream",
     "text": [
      "  4% (22456 of 486400) |                 | Elapsed Time: 0:02:11 ETA:   1:12:37"
     ]
    },
    {
     "name": "stdout",
     "output_type": "stream",
     "text": [
      "Phases: 21\n"
     ]
    },
    {
     "name": "stderr",
     "output_type": "stream",
     "text": [
      "  4% (23691 of 486400) |                 | Elapsed Time: 0:02:18 ETA:   1:12:31"
     ]
    },
    {
     "name": "stdout",
     "output_type": "stream",
     "text": [
      "Phases: 22\n"
     ]
    },
    {
     "name": "stderr",
     "output_type": "stream",
     "text": [
      "  5% (24642 of 486400) |                 | Elapsed Time: 0:02:24 ETA:   1:11:41"
     ]
    },
    {
     "name": "stdout",
     "output_type": "stream",
     "text": [
      "Phases: 23\n"
     ]
    },
    {
     "name": "stderr",
     "output_type": "stream",
     "text": [
      "  5% (25876 of 486400) |                 | Elapsed Time: 0:02:31 ETA:   1:15:16"
     ]
    },
    {
     "name": "stdout",
     "output_type": "stream",
     "text": [
      "Phases: 24\n"
     ]
    },
    {
     "name": "stderr",
     "output_type": "stream",
     "text": [
      "  5% (26801 of 486400) |                 | Elapsed Time: 0:02:37 ETA:   1:14:44"
     ]
    },
    {
     "name": "stdout",
     "output_type": "stream",
     "text": [
      "Phases: 25\n"
     ]
    },
    {
     "name": "stderr",
     "output_type": "stream",
     "text": [
      "  5% (27945 of 486400) |                 | Elapsed Time: 0:02:44 ETA:   1:09:03"
     ]
    },
    {
     "name": "stdout",
     "output_type": "stream",
     "text": [
      "Phases: 26\n"
     ]
    },
    {
     "name": "stderr",
     "output_type": "stream",
     "text": [
      "  5% (28931 of 486400) |#                | Elapsed Time: 0:02:50 ETA:   1:10:04"
     ]
    },
    {
     "name": "stdout",
     "output_type": "stream",
     "text": [
      "Phases: 27\n"
     ]
    },
    {
     "name": "stderr",
     "output_type": "stream",
     "text": [
      "  6% (30084 of 486400) |#                | Elapsed Time: 0:02:56 ETA:   1:10:58"
     ]
    },
    {
     "name": "stdout",
     "output_type": "stream",
     "text": [
      "Phases: 28\n"
     ]
    },
    {
     "name": "stderr",
     "output_type": "stream",
     "text": [
      "  6% (31068 of 486400) |#                | Elapsed Time: 0:03:02 ETA:   1:07:27"
     ]
    },
    {
     "name": "stdout",
     "output_type": "stream",
     "text": [
      "Phases: 29\n"
     ]
    },
    {
     "name": "stderr",
     "output_type": "stream",
     "text": [
      "  6% (32213 of 486400) |#                | Elapsed Time: 0:03:09 ETA:   1:11:42"
     ]
    },
    {
     "name": "stdout",
     "output_type": "stream",
     "text": [
      "Phases: 30\n"
     ]
    },
    {
     "name": "stderr",
     "output_type": "stream",
     "text": [
      "  6% (33193 of 486400) |#                | Elapsed Time: 0:03:15 ETA:   1:07:03"
     ]
    },
    {
     "name": "stdout",
     "output_type": "stream",
     "text": [
      "Phases: 31\n"
     ]
    },
    {
     "name": "stderr",
     "output_type": "stream",
     "text": [
      "  7% (34336 of 486400) |#                | Elapsed Time: 0:03:22 ETA:   1:11:46"
     ]
    },
    {
     "name": "stdout",
     "output_type": "stream",
     "text": [
      "Phases: 32\n"
     ]
    },
    {
     "name": "stderr",
     "output_type": "stream",
     "text": [
      "  7% (35322 of 486400) |#                | Elapsed Time: 0:03:30 ETA:   1:09:18"
     ]
    },
    {
     "name": "stdout",
     "output_type": "stream",
     "text": [
      "Phases: 33\n"
     ]
    },
    {
     "name": "stderr",
     "output_type": "stream",
     "text": [
      "  7% (36475 of 486400) |#                | Elapsed Time: 0:03:36 ETA:   1:10:13"
     ]
    },
    {
     "name": "stdout",
     "output_type": "stream",
     "text": [
      "Phases: 34\n"
     ]
    },
    {
     "name": "stderr",
     "output_type": "stream",
     "text": [
      "  7% (37488 of 486400) |#                | Elapsed Time: 0:03:43 ETA:   1:08:16"
     ]
    },
    {
     "name": "stdout",
     "output_type": "stream",
     "text": [
      "Phases: 35\n"
     ]
    },
    {
     "name": "stderr",
     "output_type": "stream",
     "text": [
      "  7% (38685 of 486400) |#                | Elapsed Time: 0:03:49 ETA:   1:07:45"
     ]
    },
    {
     "name": "stdout",
     "output_type": "stream",
     "text": [
      "Phases: 36\n"
     ]
    },
    {
     "name": "stderr",
     "output_type": "stream",
     "text": [
      "  8% (39617 of 486400) |#                | Elapsed Time: 0:03:55 ETA:   1:08:08"
     ]
    },
    {
     "name": "stdout",
     "output_type": "stream",
     "text": [
      "Phases: 37\n"
     ]
    },
    {
     "name": "stderr",
     "output_type": "stream",
     "text": [
      "  8% (40780 of 486400) |#                | Elapsed Time: 0:04:02 ETA:   1:05:30"
     ]
    },
    {
     "name": "stdout",
     "output_type": "stream",
     "text": [
      "Phases: 38\n"
     ]
    },
    {
     "name": "stderr",
     "output_type": "stream",
     "text": [
      "  8% (41760 of 486400) |#                | Elapsed Time: 0:04:08 ETA:   1:04:45"
     ]
    },
    {
     "name": "stdout",
     "output_type": "stream",
     "text": [
      "Phases: 39\n"
     ]
    },
    {
     "name": "stderr",
     "output_type": "stream",
     "text": [
      "  8% (42883 of 486400) |#                | Elapsed Time: 0:04:14 ETA:   1:05:52"
     ]
    },
    {
     "name": "stdout",
     "output_type": "stream",
     "text": [
      "Phases: 40\n"
     ]
    },
    {
     "name": "stderr",
     "output_type": "stream",
     "text": [
      "  9% (43915 of 486400) |#                | Elapsed Time: 0:04:21 ETA:   1:09:25"
     ]
    },
    {
     "name": "stdout",
     "output_type": "stream",
     "text": [
      "Phases: 41\n"
     ]
    },
    {
     "name": "stderr",
     "output_type": "stream",
     "text": [
      "  9% (44989 of 486400) |#                | Elapsed Time: 0:04:27 ETA:   1:06:58"
     ]
    },
    {
     "name": "stdout",
     "output_type": "stream",
     "text": [
      "Phases: 42\n"
     ]
    },
    {
     "name": "stderr",
     "output_type": "stream",
     "text": [
      "  9% (46029 of 486400) |#                | Elapsed Time: 0:04:33 ETA:   1:04:33"
     ]
    },
    {
     "name": "stdout",
     "output_type": "stream",
     "text": [
      "Phases: 43\n"
     ]
    },
    {
     "name": "stderr",
     "output_type": "stream",
     "text": [
      "  9% (47126 of 486400) |#                | Elapsed Time: 0:04:39 ETA:   1:09:04"
     ]
    },
    {
     "name": "stdout",
     "output_type": "stream",
     "text": [
      "Phases: 44\n"
     ]
    },
    {
     "name": "stderr",
     "output_type": "stream",
     "text": [
      "  9% (48154 of 486400) |#                | Elapsed Time: 0:04:46 ETA:   1:08:49"
     ]
    },
    {
     "name": "stdout",
     "output_type": "stream",
     "text": [
      "Phases: 45\n"
     ]
    },
    {
     "name": "stderr",
     "output_type": "stream",
     "text": [
      " 10% (49291 of 486400) |#                | Elapsed Time: 0:04:52 ETA:   1:03:03"
     ]
    },
    {
     "name": "stdout",
     "output_type": "stream",
     "text": [
      "Phases: 46\n"
     ]
    },
    {
     "name": "stderr",
     "output_type": "stream",
     "text": [
      " 10% (50336 of 486400) |#                | Elapsed Time: 0:04:58 ETA:   1:07:20"
     ]
    },
    {
     "name": "stdout",
     "output_type": "stream",
     "text": [
      "Phases: 47\n"
     ]
    },
    {
     "name": "stderr",
     "output_type": "stream",
     "text": [
      " 10% (51501 of 486400) |#                | Elapsed Time: 0:05:05 ETA:   1:05:22"
     ]
    },
    {
     "name": "stdout",
     "output_type": "stream",
     "text": [
      "Phases: 48\n"
     ]
    },
    {
     "name": "stderr",
     "output_type": "stream",
     "text": [
      " 10% (52472 of 486400) |#                | Elapsed Time: 0:05:11 ETA:   1:07:14"
     ]
    },
    {
     "name": "stdout",
     "output_type": "stream",
     "text": [
      "Phases: 49\n"
     ]
    },
    {
     "name": "stderr",
     "output_type": "stream",
     "text": [
      " 11% (53695 of 486400) |#                | Elapsed Time: 0:05:18 ETA:   1:05:53"
     ]
    },
    {
     "name": "stdout",
     "output_type": "stream",
     "text": [
      "Phases: 50\n"
     ]
    },
    {
     "name": "stderr",
     "output_type": "stream",
     "text": [
      " 11% (54626 of 486400) |#                | Elapsed Time: 0:05:24 ETA:   1:04:39"
     ]
    },
    {
     "name": "stdout",
     "output_type": "stream",
     "text": [
      "Phases: 51\n"
     ]
    },
    {
     "name": "stderr",
     "output_type": "stream",
     "text": [
      " 11% (55888 of 486400) |#                | Elapsed Time: 0:05:31 ETA:   1:09:13"
     ]
    },
    {
     "name": "stdout",
     "output_type": "stream",
     "text": [
      "Phases: 52\n"
     ]
    },
    {
     "name": "stderr",
     "output_type": "stream",
     "text": [
      " 11% (56799 of 486400) |#                | Elapsed Time: 0:05:37 ETA:   1:06:37"
     ]
    },
    {
     "name": "stdout",
     "output_type": "stream",
     "text": [
      "Phases: 53\n"
     ]
    },
    {
     "name": "stderr",
     "output_type": "stream",
     "text": [
      " 11% (57991 of 486400) |##               | Elapsed Time: 0:05:43 ETA:   1:04:50"
     ]
    },
    {
     "name": "stdout",
     "output_type": "stream",
     "text": [
      "Phases: 54\n"
     ]
    },
    {
     "name": "stderr",
     "output_type": "stream",
     "text": [
      " 12% (58965 of 486400) |##               | Elapsed Time: 0:05:49 ETA:   1:06:44"
     ]
    },
    {
     "name": "stdout",
     "output_type": "stream",
     "text": [
      "Phases: 55\n"
     ]
    },
    {
     "name": "stderr",
     "output_type": "stream",
     "text": [
      " 12% (60135 of 486400) |##               | Elapsed Time: 0:05:56 ETA:   1:04:54"
     ]
    },
    {
     "name": "stdout",
     "output_type": "stream",
     "text": [
      "Phases: 56\n"
     ]
    },
    {
     "name": "stderr",
     "output_type": "stream",
     "text": [
      " 12% (61115 of 486400) |##               | Elapsed Time: 0:06:02 ETA:   1:03:08"
     ]
    },
    {
     "name": "stdout",
     "output_type": "stream",
     "text": [
      "Phases: 57\n"
     ]
    },
    {
     "name": "stderr",
     "output_type": "stream",
     "text": [
      " 12% (62263 of 486400) |##               | Elapsed Time: 0:06:09 ETA:   1:04:48"
     ]
    },
    {
     "name": "stdout",
     "output_type": "stream",
     "text": [
      "Phases: 58\n"
     ]
    },
    {
     "name": "stderr",
     "output_type": "stream",
     "text": [
      " 12% (63225 of 486400) |##               | Elapsed Time: 0:06:15 ETA:   1:01:37"
     ]
    },
    {
     "name": "stdout",
     "output_type": "stream",
     "text": [
      "Phases: 59\n"
     ]
    },
    {
     "name": "stderr",
     "output_type": "stream",
     "text": [
      " 13% (64306 of 486400) |##               | Elapsed Time: 0:06:21 ETA:   0:53:11"
     ]
    },
    {
     "name": "stdout",
     "output_type": "stream",
     "text": [
      "Phases: 60\n",
      "Subject 18 windowed. Time elapsed: 0:06:25\n",
      "\n",
      "Swing Onset at sample 6348\n"
     ]
    },
    {
     "name": "stderr",
     "output_type": "stream",
     "text": [
      "  0% (26 of 480053) |                    | Elapsed Time: 0:00:00 ETA:   0:31:50"
     ]
    },
    {
     "name": "stdout",
     "output_type": "stream",
     "text": [
      "Subject 19 rows: 486600\n"
     ]
    },
    {
     "name": "stderr",
     "output_type": "stream",
     "text": [
      "  0% (1074 of 480053) |                  | Elapsed Time: 0:00:05 ETA:   1:10:28"
     ]
    },
    {
     "name": "stdout",
     "output_type": "stream",
     "text": [
      "Phases: 1\n"
     ]
    },
    {
     "name": "stderr",
     "output_type": "stream",
     "text": [
      "  0% (2670 of 480053) |                  | Elapsed Time: 0:00:13 ETA:   1:15:56"
     ]
    },
    {
     "name": "stdout",
     "output_type": "stream",
     "text": [
      "Phases: 2\n"
     ]
    },
    {
     "name": "stderr",
     "output_type": "stream",
     "text": [
      "  0% (3612 of 480053) |                  | Elapsed Time: 0:00:19 ETA:   1:11:45"
     ]
    },
    {
     "name": "stdout",
     "output_type": "stream",
     "text": [
      "Phases: 3\n"
     ]
    },
    {
     "name": "stderr",
     "output_type": "stream",
     "text": [
      "  1% (4916 of 480053) |                  | Elapsed Time: 0:00:26 ETA:   1:17:34"
     ]
    },
    {
     "name": "stdout",
     "output_type": "stream",
     "text": [
      "Phases: 4\n"
     ]
    },
    {
     "name": "stderr",
     "output_type": "stream",
     "text": [
      "  1% (5774 of 480053) |                  | Elapsed Time: 0:00:32 ETA:   1:13:18"
     ]
    },
    {
     "name": "stdout",
     "output_type": "stream",
     "text": [
      "Phases: 5\n"
     ]
    },
    {
     "name": "stderr",
     "output_type": "stream",
     "text": [
      "  1% (7055 of 480053) |                  | Elapsed Time: 0:00:39 ETA:   1:12:53"
     ]
    },
    {
     "name": "stdout",
     "output_type": "stream",
     "text": [
      "Phases: 6\n"
     ]
    },
    {
     "name": "stderr",
     "output_type": "stream",
     "text": [
      "  1% (7892 of 480053) |                  | Elapsed Time: 0:00:44 ETA:   1:09:56"
     ]
    },
    {
     "name": "stdout",
     "output_type": "stream",
     "text": [
      "Phases: 7\n"
     ]
    },
    {
     "name": "stderr",
     "output_type": "stream",
     "text": [
      "  1% (9116 of 480053) |                  | Elapsed Time: 0:00:51 ETA:   1:16:04"
     ]
    },
    {
     "name": "stdout",
     "output_type": "stream",
     "text": [
      "Phases: 8\n"
     ]
    },
    {
     "name": "stderr",
     "output_type": "stream",
     "text": [
      "  2% (9956 of 480053) |                  | Elapsed Time: 0:00:57 ETA:   1:09:30"
     ]
    },
    {
     "name": "stdout",
     "output_type": "stream",
     "text": [
      "Phases: 9\n"
     ]
    },
    {
     "name": "stderr",
     "output_type": "stream",
     "text": [
      "  2% (11225 of 480053) |                 | Elapsed Time: 0:01:04 ETA:   1:13:30"
     ]
    },
    {
     "name": "stdout",
     "output_type": "stream",
     "text": [
      "Phases: 10\n"
     ]
    },
    {
     "name": "stderr",
     "output_type": "stream",
     "text": [
      "  2% (12077 of 480053) |                 | Elapsed Time: 0:01:09 ETA:   1:11:51"
     ]
    },
    {
     "name": "stdout",
     "output_type": "stream",
     "text": [
      "Phases: 11\n"
     ]
    },
    {
     "name": "stderr",
     "output_type": "stream",
     "text": [
      "  2% (13327 of 480053) |                 | Elapsed Time: 0:01:16 ETA:   1:15:11"
     ]
    },
    {
     "name": "stdout",
     "output_type": "stream",
     "text": [
      "Phases: 12\n"
     ]
    },
    {
     "name": "stderr",
     "output_type": "stream",
     "text": [
      "  2% (14160 of 480053) |                 | Elapsed Time: 0:01:22 ETA:   1:07:32"
     ]
    },
    {
     "name": "stdout",
     "output_type": "stream",
     "text": [
      "Phases: 13\n"
     ]
    },
    {
     "name": "stderr",
     "output_type": "stream",
     "text": [
      "  3% (15421 of 480053) |                 | Elapsed Time: 0:01:29 ETA:   1:12:26"
     ]
    },
    {
     "name": "stdout",
     "output_type": "stream",
     "text": [
      "Phases: 14\n"
     ]
    },
    {
     "name": "stderr",
     "output_type": "stream",
     "text": [
      "  3% (16297 of 480053) |                 | Elapsed Time: 0:01:34 ETA:   1:14:27"
     ]
    },
    {
     "name": "stdout",
     "output_type": "stream",
     "text": [
      "Phases: 15\n"
     ]
    },
    {
     "name": "stderr",
     "output_type": "stream",
     "text": [
      "  3% (17653 of 480053) |                 | Elapsed Time: 0:01:42 ETA:   1:13:36"
     ]
    },
    {
     "name": "stdout",
     "output_type": "stream",
     "text": [
      "Phases: 16\n"
     ]
    },
    {
     "name": "stderr",
     "output_type": "stream",
     "text": [
      "  3% (18382 of 480053) |                 | Elapsed Time: 0:01:47 ETA:   1:08:27"
     ]
    },
    {
     "name": "stdout",
     "output_type": "stream",
     "text": [
      "Phases: 17\n"
     ]
    },
    {
     "name": "stderr",
     "output_type": "stream",
     "text": [
      "  4% (20493 of 480053) |                 | Elapsed Time: 0:01:57 ETA:   1:09:25"
     ]
    },
    {
     "name": "stdout",
     "output_type": "stream",
     "text": [
      "Phases: 18\n"
     ]
    },
    {
     "name": "stderr",
     "output_type": "stream",
     "text": [
      "  4% (21640 of 480053) |                 | Elapsed Time: 0:02:04 ETA:   1:09:07"
     ]
    },
    {
     "name": "stdout",
     "output_type": "stream",
     "text": [
      "Phases: 19\n"
     ]
    },
    {
     "name": "stderr",
     "output_type": "stream",
     "text": [
      "  4% (23039 of 480053) |                 | Elapsed Time: 0:02:12 ETA:   1:12:02"
     ]
    },
    {
     "name": "stdout",
     "output_type": "stream",
     "text": [
      "Phases: 20\n"
     ]
    },
    {
     "name": "stderr",
     "output_type": "stream",
     "text": [
      "  4% (23962 of 480053) |                 | Elapsed Time: 0:02:17 ETA:   1:12:02"
     ]
    },
    {
     "name": "stdout",
     "output_type": "stream",
     "text": [
      "Phases: 21\n"
     ]
    },
    {
     "name": "stderr",
     "output_type": "stream",
     "text": [
      "  5% (25235 of 480053) |                 | Elapsed Time: 0:02:24 ETA:   1:09:43"
     ]
    },
    {
     "name": "stdout",
     "output_type": "stream",
     "text": [
      "Phases: 22\n"
     ]
    },
    {
     "name": "stderr",
     "output_type": "stream",
     "text": [
      "  5% (26106 of 480053) |                 | Elapsed Time: 0:02:30 ETA:   1:06:27"
     ]
    },
    {
     "name": "stdout",
     "output_type": "stream",
     "text": [
      "Phases: 23\n"
     ]
    },
    {
     "name": "stderr",
     "output_type": "stream",
     "text": [
      "  5% (27344 of 480053) |                 | Elapsed Time: 0:02:37 ETA:   1:11:44"
     ]
    },
    {
     "name": "stdout",
     "output_type": "stream",
     "text": [
      "Phases: 24\n"
     ]
    },
    {
     "name": "stderr",
     "output_type": "stream",
     "text": [
      "  5% (28192 of 480053) |                 | Elapsed Time: 0:02:42 ETA:   1:04:19"
     ]
    },
    {
     "name": "stdout",
     "output_type": "stream",
     "text": [
      "Phases: 25\n"
     ]
    },
    {
     "name": "stderr",
     "output_type": "stream",
     "text": [
      "  6% (29441 of 480053) |#                | Elapsed Time: 0:02:49 ETA:   1:12:51"
     ]
    },
    {
     "name": "stdout",
     "output_type": "stream",
     "text": [
      "Phases: 26\n"
     ]
    },
    {
     "name": "stderr",
     "output_type": "stream",
     "text": [
      "  6% (30278 of 480053) |#                | Elapsed Time: 0:02:55 ETA:   1:13:17"
     ]
    },
    {
     "name": "stdout",
     "output_type": "stream",
     "text": [
      "Phases: 27\n"
     ]
    },
    {
     "name": "stderr",
     "output_type": "stream",
     "text": [
      "  6% (31517 of 480053) |#                | Elapsed Time: 0:03:02 ETA:   1:07:39"
     ]
    },
    {
     "name": "stdout",
     "output_type": "stream",
     "text": [
      "Phases: 28\n"
     ]
    },
    {
     "name": "stderr",
     "output_type": "stream",
     "text": [
      "  6% (32355 of 480053) |#                | Elapsed Time: 0:03:07 ETA:   1:09:06"
     ]
    },
    {
     "name": "stdout",
     "output_type": "stream",
     "text": [
      "Phases: 29\n"
     ]
    },
    {
     "name": "stderr",
     "output_type": "stream",
     "text": [
      "  6% (33599 of 480053) |#                | Elapsed Time: 0:03:14 ETA:   1:06:32"
     ]
    },
    {
     "name": "stdout",
     "output_type": "stream",
     "text": [
      "Phases: 30\n"
     ]
    },
    {
     "name": "stderr",
     "output_type": "stream",
     "text": [
      "  7% (34445 of 480053) |#                | Elapsed Time: 0:03:20 ETA:   1:07:05"
     ]
    },
    {
     "name": "stdout",
     "output_type": "stream",
     "text": [
      "Phases: 31\n"
     ]
    },
    {
     "name": "stderr",
     "output_type": "stream",
     "text": [
      "  7% (35717 of 480053) |#                | Elapsed Time: 0:03:27 ETA:   1:11:06"
     ]
    },
    {
     "name": "stdout",
     "output_type": "stream",
     "text": [
      "Phases: 32\n"
     ]
    },
    {
     "name": "stderr",
     "output_type": "stream",
     "text": [
      "  7% (36531 of 480053) |#                | Elapsed Time: 0:03:32 ETA:   1:09:33"
     ]
    },
    {
     "name": "stdout",
     "output_type": "stream",
     "text": [
      "Phases: 33\n"
     ]
    },
    {
     "name": "stderr",
     "output_type": "stream",
     "text": [
      "  7% (37879 of 480053) |#                | Elapsed Time: 0:03:39 ETA:   1:05:58"
     ]
    },
    {
     "name": "stdout",
     "output_type": "stream",
     "text": [
      "Phases: 34\n"
     ]
    },
    {
     "name": "stderr",
     "output_type": "stream",
     "text": [
      "  8% (38765 of 480053) |#                | Elapsed Time: 0:03:45 ETA:   1:08:54"
     ]
    },
    {
     "name": "stdout",
     "output_type": "stream",
     "text": [
      "Phases: 35\n"
     ]
    },
    {
     "name": "stderr",
     "output_type": "stream",
     "text": [
      "  8% (40454 of 480053) |#                | Elapsed Time: 0:03:54 ETA:   1:04:47"
     ]
    },
    {
     "name": "stdout",
     "output_type": "stream",
     "text": [
      "Phases: 36\n"
     ]
    },
    {
     "name": "stderr",
     "output_type": "stream",
     "text": [
      "  8% (41369 of 480053) |#                | Elapsed Time: 0:04:00 ETA:   1:03:48"
     ]
    },
    {
     "name": "stdout",
     "output_type": "stream",
     "text": [
      "Phases: 37\n"
     ]
    },
    {
     "name": "stderr",
     "output_type": "stream",
     "text": [
      "  8% (42845 of 480053) |#                | Elapsed Time: 0:04:07 ETA:   1:05:17"
     ]
    },
    {
     "name": "stdout",
     "output_type": "stream",
     "text": [
      "Phases: 38\n"
     ]
    },
    {
     "name": "stderr",
     "output_type": "stream",
     "text": [
      "  9% (43719 of 480053) |#                | Elapsed Time: 0:04:13 ETA:   1:06:58"
     ]
    },
    {
     "name": "stdout",
     "output_type": "stream",
     "text": [
      "Phases: 39\n"
     ]
    },
    {
     "name": "stderr",
     "output_type": "stream",
     "text": [
      "  9% (45063 of 480053) |#                | Elapsed Time: 0:04:20 ETA:   1:05:23"
     ]
    },
    {
     "name": "stdout",
     "output_type": "stream",
     "text": [
      "Phases: 40\n"
     ]
    },
    {
     "name": "stderr",
     "output_type": "stream",
     "text": [
      "  9% (45946 of 480053) |#                | Elapsed Time: 0:04:26 ETA:   1:11:11"
     ]
    },
    {
     "name": "stdout",
     "output_type": "stream",
     "text": [
      "Phases: 41\n"
     ]
    },
    {
     "name": "stderr",
     "output_type": "stream",
     "text": [
      "  9% (47238 of 480053) |#                | Elapsed Time: 0:04:33 ETA:   1:03:34"
     ]
    },
    {
     "name": "stdout",
     "output_type": "stream",
     "text": [
      "Phases: 42\n"
     ]
    },
    {
     "name": "stderr",
     "output_type": "stream",
     "text": [
      " 10% (48152 of 480053) |#                | Elapsed Time: 0:04:39 ETA:   1:05:35"
     ]
    },
    {
     "name": "stdout",
     "output_type": "stream",
     "text": [
      "Phases: 43\n"
     ]
    },
    {
     "name": "stderr",
     "output_type": "stream",
     "text": [
      " 10% (49511 of 480053) |#                | Elapsed Time: 0:04:46 ETA:   1:10:50"
     ]
    },
    {
     "name": "stdout",
     "output_type": "stream",
     "text": [
      "Phases: 44\n"
     ]
    },
    {
     "name": "stderr",
     "output_type": "stream",
     "text": [
      " 10% (50317 of 480053) |#                | Elapsed Time: 0:04:52 ETA:   1:02:59"
     ]
    },
    {
     "name": "stdout",
     "output_type": "stream",
     "text": [
      "Phases: 45\n"
     ]
    },
    {
     "name": "stderr",
     "output_type": "stream",
     "text": [
      " 10% (51565 of 480053) |#                | Elapsed Time: 0:04:59 ETA:   1:07:54"
     ]
    },
    {
     "name": "stdout",
     "output_type": "stream",
     "text": [
      "Phases: 46\n"
     ]
    },
    {
     "name": "stderr",
     "output_type": "stream",
     "text": [
      " 10% (52393 of 480053) |#                | Elapsed Time: 0:05:04 ETA:   1:05:31"
     ]
    },
    {
     "name": "stdout",
     "output_type": "stream",
     "text": [
      "Phases: 47\n"
     ]
    },
    {
     "name": "stderr",
     "output_type": "stream",
     "text": [
      " 11% (53721 of 480053) |#                | Elapsed Time: 0:05:12 ETA:   1:13:44"
     ]
    },
    {
     "name": "stdout",
     "output_type": "stream",
     "text": [
      "Phases: 48\n"
     ]
    },
    {
     "name": "stderr",
     "output_type": "stream",
     "text": [
      " 11% (54533 of 480053) |#                | Elapsed Time: 0:05:17 ETA:   1:05:31"
     ]
    },
    {
     "name": "stdout",
     "output_type": "stream",
     "text": [
      "Phases: 49\n"
     ]
    },
    {
     "name": "stderr",
     "output_type": "stream",
     "text": [
      " 11% (55882 of 480053) |#                | Elapsed Time: 0:05:24 ETA:   1:06:33"
     ]
    },
    {
     "name": "stdout",
     "output_type": "stream",
     "text": [
      "Phases: 50\n"
     ]
    },
    {
     "name": "stderr",
     "output_type": "stream",
     "text": [
      " 11% (56745 of 480053) |##               | Elapsed Time: 0:05:30 ETA:   1:04:11"
     ]
    },
    {
     "name": "stdout",
     "output_type": "stream",
     "text": [
      "Phases: 51\n"
     ]
    },
    {
     "name": "stderr",
     "output_type": "stream",
     "text": [
      " 12% (58110 of 480053) |##               | Elapsed Time: 0:05:37 ETA:   1:08:43"
     ]
    },
    {
     "name": "stdout",
     "output_type": "stream",
     "text": [
      "Phases: 52\n"
     ]
    },
    {
     "name": "stderr",
     "output_type": "stream",
     "text": [
      " 12% (58929 of 480053) |##               | Elapsed Time: 0:05:42 ETA:   1:02:11"
     ]
    },
    {
     "name": "stdout",
     "output_type": "stream",
     "text": [
      "Phases: 53\n"
     ]
    },
    {
     "name": "stderr",
     "output_type": "stream",
     "text": [
      " 12% (60495 of 480053) |##               | Elapsed Time: 0:05:51 ETA:   1:05:07"
     ]
    },
    {
     "name": "stdout",
     "output_type": "stream",
     "text": [
      "Phases: 54\n"
     ]
    },
    {
     "name": "stderr",
     "output_type": "stream",
     "text": [
      " 12% (61548 of 480053) |##               | Elapsed Time: 0:05:57 ETA:   1:02:22"
     ]
    },
    {
     "name": "stdout",
     "output_type": "stream",
     "text": [
      "Phases: 55\n"
     ]
    },
    {
     "name": "stderr",
     "output_type": "stream",
     "text": [
      " 13% (62911 of 480053) |##               | Elapsed Time: 0:06:04 ETA:   1:06:10"
     ]
    },
    {
     "name": "stdout",
     "output_type": "stream",
     "text": [
      "Phases: 56\n"
     ]
    },
    {
     "name": "stderr",
     "output_type": "stream",
     "text": [
      " 13% (63791 of 480053) |##               | Elapsed Time: 0:06:10 ETA:   1:04:21"
     ]
    },
    {
     "name": "stdout",
     "output_type": "stream",
     "text": [
      "Phases: 57\n"
     ]
    },
    {
     "name": "stderr",
     "output_type": "stream",
     "text": [
      " 13% (65060 of 480053) |##               | Elapsed Time: 0:06:17 ETA:   1:02:41"
     ]
    },
    {
     "name": "stdout",
     "output_type": "stream",
     "text": [
      "Phases: 58\n"
     ]
    },
    {
     "name": "stderr",
     "output_type": "stream",
     "text": [
      " 13% (65919 of 480053) |##               | Elapsed Time: 0:06:23 ETA:   1:02:01"
     ]
    },
    {
     "name": "stdout",
     "output_type": "stream",
     "text": [
      "Phases: 59\n"
     ]
    },
    {
     "name": "stderr",
     "output_type": "stream",
     "text": [
      " 13% (67207 of 480053) |##               | Elapsed Time: 0:06:30 ETA:   0:55:27"
     ]
    },
    {
     "name": "stdout",
     "output_type": "stream",
     "text": [
      "Phases: 60\n",
      "Subject 19 windowed. Time elapsed: 0:06:34\n",
      "\n",
      "Swing Onset at sample 1092\n"
     ]
    },
    {
     "name": "stderr",
     "output_type": "stream",
     "text": [
      "  0% (25 of 485309) |                    | Elapsed Time: 0:00:00 ETA:   0:33:05"
     ]
    },
    {
     "name": "stdout",
     "output_type": "stream",
     "text": [
      "Subject 20 rows: 486600\n"
     ]
    },
    {
     "name": "stderr",
     "output_type": "stream",
     "text": [
      "  0% (861 of 485309) |                   | Elapsed Time: 0:00:04 ETA:   1:10:58"
     ]
    },
    {
     "name": "stdout",
     "output_type": "stream",
     "text": [
      "Phases: 1\n"
     ]
    },
    {
     "name": "stderr",
     "output_type": "stream",
     "text": [
      "  0% (2117 of 485309) |                  | Elapsed Time: 0:00:11 ETA:   1:16:45"
     ]
    },
    {
     "name": "stdout",
     "output_type": "stream",
     "text": [
      "Phases: 2\n"
     ]
    },
    {
     "name": "stderr",
     "output_type": "stream",
     "text": [
      "  0% (3057 of 485309) |                  | Elapsed Time: 0:00:17 ETA:   1:13:40"
     ]
    },
    {
     "name": "stdout",
     "output_type": "stream",
     "text": [
      "Phases: 3\n"
     ]
    },
    {
     "name": "stderr",
     "output_type": "stream",
     "text": [
      "  0% (4324 of 485309) |                  | Elapsed Time: 0:00:24 ETA:   1:14:44"
     ]
    },
    {
     "name": "stdout",
     "output_type": "stream",
     "text": [
      "Phases: 4\n"
     ]
    },
    {
     "name": "stderr",
     "output_type": "stream",
     "text": [
      "  1% (5284 of 485309) |                  | Elapsed Time: 0:00:30 ETA:   1:12:46"
     ]
    },
    {
     "name": "stdout",
     "output_type": "stream",
     "text": [
      "Phases: 5\n"
     ]
    },
    {
     "name": "stderr",
     "output_type": "stream",
     "text": [
      "  1% (6617 of 485309) |                  | Elapsed Time: 0:00:37 ETA:   1:15:45"
     ]
    },
    {
     "name": "stdout",
     "output_type": "stream",
     "text": [
      "Phases: 6\n"
     ]
    },
    {
     "name": "stderr",
     "output_type": "stream",
     "text": [
      "  1% (7844 of 485309) |                  | Elapsed Time: 0:00:44 ETA:   1:16:52"
     ]
    },
    {
     "name": "stdout",
     "output_type": "stream",
     "text": [
      "Phases: 7\n"
     ]
    },
    {
     "name": "stderr",
     "output_type": "stream",
     "text": [
      "  1% (9293 of 485309) |                  | Elapsed Time: 0:00:52 ETA:   1:16:41"
     ]
    },
    {
     "name": "stdout",
     "output_type": "stream",
     "text": [
      "Phases: 8\n"
     ]
    },
    {
     "name": "stderr",
     "output_type": "stream",
     "text": [
      "  2% (10220 of 485309) |                 | Elapsed Time: 0:00:58 ETA:   1:16:52"
     ]
    },
    {
     "name": "stdout",
     "output_type": "stream",
     "text": [
      "Phases: 9\n"
     ]
    },
    {
     "name": "stderr",
     "output_type": "stream",
     "text": [
      "  2% (11505 of 485309) |                 | Elapsed Time: 0:01:05 ETA:   1:11:30"
     ]
    },
    {
     "name": "stdout",
     "output_type": "stream",
     "text": [
      "Phases: 10\n"
     ]
    },
    {
     "name": "stderr",
     "output_type": "stream",
     "text": [
      "  2% (12493 of 485309) |                 | Elapsed Time: 0:01:11 ETA:   1:09:05"
     ]
    },
    {
     "name": "stdout",
     "output_type": "stream",
     "text": [
      "Phases: 11\n"
     ]
    },
    {
     "name": "stderr",
     "output_type": "stream",
     "text": [
      "  2% (13742 of 485309) |                 | Elapsed Time: 0:01:18 ETA:   1:15:19"
     ]
    },
    {
     "name": "stdout",
     "output_type": "stream",
     "text": [
      "Phases: 12\n"
     ]
    },
    {
     "name": "stderr",
     "output_type": "stream",
     "text": [
      "  3% (14703 of 485309) |                 | Elapsed Time: 0:01:24 ETA:   1:18:07"
     ]
    },
    {
     "name": "stdout",
     "output_type": "stream",
     "text": [
      "Phases: 13\n"
     ]
    },
    {
     "name": "stderr",
     "output_type": "stream",
     "text": [
      "  3% (16005 of 485309) |                 | Elapsed Time: 0:01:31 ETA:   1:08:40"
     ]
    },
    {
     "name": "stdout",
     "output_type": "stream",
     "text": [
      "Phases: 14\n"
     ]
    },
    {
     "name": "stderr",
     "output_type": "stream",
     "text": [
      "  3% (17046 of 485309) |                 | Elapsed Time: 0:01:37 ETA:   1:14:06"
     ]
    },
    {
     "name": "stdout",
     "output_type": "stream",
     "text": [
      "Phases: 15\n"
     ]
    },
    {
     "name": "stderr",
     "output_type": "stream",
     "text": [
      "  3% (18664 of 485309) |                 | Elapsed Time: 0:01:46 ETA:   1:06:10"
     ]
    },
    {
     "name": "stdout",
     "output_type": "stream",
     "text": [
      "Phases: 16\n"
     ]
    },
    {
     "name": "stderr",
     "output_type": "stream",
     "text": [
      "  4% (19630 of 485309) |                 | Elapsed Time: 0:01:52 ETA:   1:09:10"
     ]
    },
    {
     "name": "stdout",
     "output_type": "stream",
     "text": [
      "Phases: 17\n"
     ]
    },
    {
     "name": "stderr",
     "output_type": "stream",
     "text": [
      "  4% (21047 of 485309) |                 | Elapsed Time: 0:01:59 ETA:   1:15:38"
     ]
    },
    {
     "name": "stdout",
     "output_type": "stream",
     "text": [
      "Phases: 18\n"
     ]
    },
    {
     "name": "stderr",
     "output_type": "stream",
     "text": [
      "  4% (22027 of 485309) |                 | Elapsed Time: 0:02:05 ETA:   1:12:17"
     ]
    },
    {
     "name": "stdout",
     "output_type": "stream",
     "text": [
      "Phases: 19\n"
     ]
    },
    {
     "name": "stderr",
     "output_type": "stream",
     "text": [
      "  4% (23319 of 485309) |                 | Elapsed Time: 0:02:13 ETA:   1:12:29"
     ]
    },
    {
     "name": "stdout",
     "output_type": "stream",
     "text": [
      "Phases: 20\n"
     ]
    },
    {
     "name": "stderr",
     "output_type": "stream",
     "text": [
      "  5% (24280 of 485309) |                 | Elapsed Time: 0:02:18 ETA:   1:12:40"
     ]
    },
    {
     "name": "stdout",
     "output_type": "stream",
     "text": [
      "Phases: 21\n"
     ]
    },
    {
     "name": "stderr",
     "output_type": "stream",
     "text": [
      "  5% (25524 of 485309) |                 | Elapsed Time: 0:02:25 ETA:   1:12:03"
     ]
    },
    {
     "name": "stdout",
     "output_type": "stream",
     "text": [
      "Phases: 22\n"
     ]
    },
    {
     "name": "stderr",
     "output_type": "stream",
     "text": [
      "  5% (26548 of 485309) |                 | Elapsed Time: 0:02:32 ETA:   1:09:16"
     ]
    },
    {
     "name": "stdout",
     "output_type": "stream",
     "text": [
      "Phases: 23\n"
     ]
    },
    {
     "name": "stderr",
     "output_type": "stream",
     "text": [
      "  5% (27914 of 485309) |                 | Elapsed Time: 0:02:39 ETA:   1:10:13"
     ]
    },
    {
     "name": "stdout",
     "output_type": "stream",
     "text": [
      "Phases: 24\n"
     ]
    },
    {
     "name": "stderr",
     "output_type": "stream",
     "text": [
      "  6% (29194 of 485309) |#                | Elapsed Time: 0:02:46 ETA:   1:10:47"
     ]
    },
    {
     "name": "stdout",
     "output_type": "stream",
     "text": [
      "Phases: 25\n"
     ]
    },
    {
     "name": "stderr",
     "output_type": "stream",
     "text": [
      "  6% (30950 of 485309) |#                | Elapsed Time: 0:02:55 ETA:   1:04:54"
     ]
    },
    {
     "name": "stdout",
     "output_type": "stream",
     "text": [
      "Phases: 26\n"
     ]
    },
    {
     "name": "stderr",
     "output_type": "stream",
     "text": [
      "  6% (31954 of 485309) |#                | Elapsed Time: 0:03:01 ETA:   1:11:05"
     ]
    },
    {
     "name": "stdout",
     "output_type": "stream",
     "text": [
      "Phases: 27\n"
     ]
    },
    {
     "name": "stderr",
     "output_type": "stream",
     "text": [
      "  6% (33261 of 485309) |#                | Elapsed Time: 0:03:09 ETA:   1:10:12"
     ]
    },
    {
     "name": "stdout",
     "output_type": "stream",
     "text": [
      "Phases: 28\n"
     ]
    },
    {
     "name": "stderr",
     "output_type": "stream",
     "text": [
      "  7% (34273 of 485309) |#                | Elapsed Time: 0:03:17 ETA:   1:06:26"
     ]
    },
    {
     "name": "stdout",
     "output_type": "stream",
     "text": [
      "Phases: 29\n"
     ]
    },
    {
     "name": "stderr",
     "output_type": "stream",
     "text": [
      "  7% (35596 of 485309) |#                | Elapsed Time: 0:03:24 ETA:   1:13:32"
     ]
    },
    {
     "name": "stdout",
     "output_type": "stream",
     "text": [
      "Phases: 30\n"
     ]
    },
    {
     "name": "stderr",
     "output_type": "stream",
     "text": [
      "  7% (36584 of 485309) |#                | Elapsed Time: 0:03:30 ETA:   1:06:24"
     ]
    },
    {
     "name": "stdout",
     "output_type": "stream",
     "text": [
      "Phases: 31\n"
     ]
    },
    {
     "name": "stderr",
     "output_type": "stream",
     "text": [
      "  7% (37947 of 485309) |#                | Elapsed Time: 0:03:38 ETA:   1:10:13"
     ]
    },
    {
     "name": "stdout",
     "output_type": "stream",
     "text": [
      "Phases: 32\n"
     ]
    },
    {
     "name": "stderr",
     "output_type": "stream",
     "text": [
      "  8% (39045 of 485309) |#                | Elapsed Time: 0:03:44 ETA:   1:12:16"
     ]
    },
    {
     "name": "stdout",
     "output_type": "stream",
     "text": [
      "Phases: 33\n"
     ]
    },
    {
     "name": "stderr",
     "output_type": "stream",
     "text": [
      "  8% (40579 of 485309) |#                | Elapsed Time: 0:03:52 ETA:   1:07:28"
     ]
    },
    {
     "name": "stdout",
     "output_type": "stream",
     "text": [
      "Phases: 34\n"
     ]
    },
    {
     "name": "stderr",
     "output_type": "stream",
     "text": [
      "  8% (41632 of 485309) |#                | Elapsed Time: 0:03:58 ETA:   1:08:11"
     ]
    },
    {
     "name": "stdout",
     "output_type": "stream",
     "text": [
      "Phases: 35\n"
     ]
    },
    {
     "name": "stderr",
     "output_type": "stream",
     "text": [
      "  8% (43000 of 485309) |#                | Elapsed Time: 0:04:06 ETA:   1:08:03"
     ]
    },
    {
     "name": "stdout",
     "output_type": "stream",
     "text": [
      "Phases: 36\n"
     ]
    },
    {
     "name": "stderr",
     "output_type": "stream",
     "text": [
      "  9% (44046 of 485309) |#                | Elapsed Time: 0:04:12 ETA:   1:06:15"
     ]
    },
    {
     "name": "stdout",
     "output_type": "stream",
     "text": [
      "Phases: 37\n"
     ]
    },
    {
     "name": "stderr",
     "output_type": "stream",
     "text": [
      "  9% (45395 of 485309) |#                | Elapsed Time: 0:04:19 ETA:   1:08:20"
     ]
    },
    {
     "name": "stdout",
     "output_type": "stream",
     "text": [
      "Phases: 38\n"
     ]
    },
    {
     "name": "stderr",
     "output_type": "stream",
     "text": [
      "  9% (46391 of 485309) |#                | Elapsed Time: 0:04:25 ETA:   1:05:01"
     ]
    },
    {
     "name": "stdout",
     "output_type": "stream",
     "text": [
      "Phases: 39\n"
     ]
    },
    {
     "name": "stderr",
     "output_type": "stream",
     "text": [
      "  9% (47706 of 485309) |#                | Elapsed Time: 0:04:33 ETA:   1:11:17"
     ]
    },
    {
     "name": "stdout",
     "output_type": "stream",
     "text": [
      "Phases: 40\n"
     ]
    },
    {
     "name": "stderr",
     "output_type": "stream",
     "text": [
      " 10% (48743 of 485309) |#                | Elapsed Time: 0:04:39 ETA:   1:09:12"
     ]
    },
    {
     "name": "stdout",
     "output_type": "stream",
     "text": [
      "Phases: 41\n"
     ]
    },
    {
     "name": "stderr",
     "output_type": "stream",
     "text": [
      " 10% (50191 of 485309) |#                | Elapsed Time: 0:04:47 ETA:   1:11:14"
     ]
    },
    {
     "name": "stdout",
     "output_type": "stream",
     "text": [
      "Phases: 42\n"
     ]
    },
    {
     "name": "stderr",
     "output_type": "stream",
     "text": [
      " 10% (51417 of 485309) |#                | Elapsed Time: 0:04:54 ETA:   1:06:55"
     ]
    },
    {
     "name": "stdout",
     "output_type": "stream",
     "text": [
      "Phases: 43\n"
     ]
    },
    {
     "name": "stderr",
     "output_type": "stream",
     "text": [
      " 10% (53074 of 485309) |#                | Elapsed Time: 0:05:02 ETA:   1:08:01"
     ]
    },
    {
     "name": "stdout",
     "output_type": "stream",
     "text": [
      "Phases: 44\n"
     ]
    },
    {
     "name": "stderr",
     "output_type": "stream",
     "text": [
      " 11% (54001 of 485309) |#                | Elapsed Time: 0:05:08 ETA:   1:04:47"
     ]
    },
    {
     "name": "stdout",
     "output_type": "stream",
     "text": [
      "Phases: 45\n"
     ]
    },
    {
     "name": "stderr",
     "output_type": "stream",
     "text": [
      " 11% (55408 of 485309) |#                | Elapsed Time: 0:05:16 ETA:   1:07:24"
     ]
    },
    {
     "name": "stdout",
     "output_type": "stream",
     "text": [
      "Phases: 46\n"
     ]
    },
    {
     "name": "stderr",
     "output_type": "stream",
     "text": [
      " 11% (56446 of 485309) |#                | Elapsed Time: 0:05:22 ETA:   1:02:12"
     ]
    },
    {
     "name": "stdout",
     "output_type": "stream",
     "text": [
      "Phases: 47\n"
     ]
    },
    {
     "name": "stderr",
     "output_type": "stream",
     "text": [
      " 11% (57784 of 485309) |##               | Elapsed Time: 0:05:29 ETA:   1:08:23"
     ]
    },
    {
     "name": "stdout",
     "output_type": "stream",
     "text": [
      "Phases: 48\n"
     ]
    },
    {
     "name": "stderr",
     "output_type": "stream",
     "text": [
      " 12% (58778 of 485309) |##               | Elapsed Time: 0:05:35 ETA:   1:06:19"
     ]
    },
    {
     "name": "stdout",
     "output_type": "stream",
     "text": [
      "Phases: 49\n"
     ]
    },
    {
     "name": "stderr",
     "output_type": "stream",
     "text": [
      " 12% (60136 of 485309) |##               | Elapsed Time: 0:05:43 ETA:   1:06:06"
     ]
    },
    {
     "name": "stdout",
     "output_type": "stream",
     "text": [
      "Phases: 50\n"
     ]
    },
    {
     "name": "stderr",
     "output_type": "stream",
     "text": [
      " 12% (61122 of 485309) |##               | Elapsed Time: 0:05:49 ETA:   1:01:02"
     ]
    },
    {
     "name": "stdout",
     "output_type": "stream",
     "text": [
      "Phases: 51\n"
     ]
    },
    {
     "name": "stderr",
     "output_type": "stream",
     "text": [
      " 12% (62756 of 485309) |##               | Elapsed Time: 0:05:57 ETA:   1:03:33"
     ]
    },
    {
     "name": "stdout",
     "output_type": "stream",
     "text": [
      "Phases: 52\n"
     ]
    },
    {
     "name": "stderr",
     "output_type": "stream",
     "text": [
      " 13% (63862 of 485309) |##               | Elapsed Time: 0:06:04 ETA:   1:03:43"
     ]
    },
    {
     "name": "stdout",
     "output_type": "stream",
     "text": [
      "Phases: 53\n"
     ]
    },
    {
     "name": "stderr",
     "output_type": "stream",
     "text": [
      " 13% (65317 of 485309) |##               | Elapsed Time: 0:06:11 ETA:   1:05:03"
     ]
    },
    {
     "name": "stdout",
     "output_type": "stream",
     "text": [
      "Phases: 54\n"
     ]
    },
    {
     "name": "stderr",
     "output_type": "stream",
     "text": [
      " 13% (66336 of 485309) |##               | Elapsed Time: 0:06:17 ETA:   1:08:40"
     ]
    },
    {
     "name": "stdout",
     "output_type": "stream",
     "text": [
      "Phases: 55\n"
     ]
    },
    {
     "name": "stderr",
     "output_type": "stream",
     "text": [
      " 13% (67707 of 485309) |##               | Elapsed Time: 0:06:25 ETA:   1:01:55"
     ]
    },
    {
     "name": "stdout",
     "output_type": "stream",
     "text": [
      "Phases: 56\n"
     ]
    },
    {
     "name": "stderr",
     "output_type": "stream",
     "text": [
      " 14% (68716 of 485309) |##               | Elapsed Time: 0:06:31 ETA:   1:03:26"
     ]
    },
    {
     "name": "stdout",
     "output_type": "stream",
     "text": [
      "Phases: 57\n"
     ]
    },
    {
     "name": "stderr",
     "output_type": "stream",
     "text": [
      " 14% (70045 of 485309) |##               | Elapsed Time: 0:06:38 ETA:   1:05:31"
     ]
    },
    {
     "name": "stdout",
     "output_type": "stream",
     "text": [
      "Phases: 58\n"
     ]
    },
    {
     "name": "stderr",
     "output_type": "stream",
     "text": [
      " 14% (71063 of 485309) |##               | Elapsed Time: 0:06:44 ETA:   1:03:22"
     ]
    },
    {
     "name": "stdout",
     "output_type": "stream",
     "text": [
      "Phases: 59\n"
     ]
    },
    {
     "name": "stderr",
     "output_type": "stream",
     "text": [
      " 14% (72585 of 485309) |##               | Elapsed Time: 0:06:52 ETA:   0:53:30"
     ]
    },
    {
     "name": "stdout",
     "output_type": "stream",
     "text": [
      "Phases: 60\n",
      "Subject 20 windowed. Time elapsed: 0:06:56\n",
      "\n",
      "Swing Onset at sample 6468\n"
     ]
    },
    {
     "name": "stderr",
     "output_type": "stream",
     "text": [
      "  0% (26 of 479933) |                    | Elapsed Time: 0:00:00 ETA:   0:31:39"
     ]
    },
    {
     "name": "stdout",
     "output_type": "stream",
     "text": [
      "Subject 21 rows: 486600\n"
     ]
    },
    {
     "name": "stderr",
     "output_type": "stream",
     "text": [
      "  0% (1034 of 479933) |                  | Elapsed Time: 0:00:05 ETA:   1:20:22"
     ]
    },
    {
     "name": "stdout",
     "output_type": "stream",
     "text": [
      "Phases: 1\n"
     ]
    },
    {
     "name": "stderr",
     "output_type": "stream",
     "text": [
      "  0% (2303 of 479933) |                  | Elapsed Time: 0:00:12 ETA:   1:12:33"
     ]
    },
    {
     "name": "stdout",
     "output_type": "stream",
     "text": [
      "Phases: 2\n"
     ]
    },
    {
     "name": "stderr",
     "output_type": "stream",
     "text": [
      "  0% (3367 of 479933) |                  | Elapsed Time: 0:00:18 ETA:   1:18:02"
     ]
    },
    {
     "name": "stdout",
     "output_type": "stream",
     "text": [
      "Phases: 3\n"
     ]
    },
    {
     "name": "stderr",
     "output_type": "stream",
     "text": [
      "  0% (4562 of 479933) |                  | Elapsed Time: 0:00:25 ETA:   1:10:28"
     ]
    },
    {
     "name": "stdout",
     "output_type": "stream",
     "text": [
      "Phases: 4\n"
     ]
    },
    {
     "name": "stderr",
     "output_type": "stream",
     "text": [
      "  1% (5648 of 479933) |                  | Elapsed Time: 0:00:31 ETA:   1:13:31"
     ]
    },
    {
     "name": "stdout",
     "output_type": "stream",
     "text": [
      "Phases: 5\n"
     ]
    },
    {
     "name": "stderr",
     "output_type": "stream",
     "text": [
      "  1% (6863 of 479933) |                  | Elapsed Time: 0:00:38 ETA:   1:14:33"
     ]
    },
    {
     "name": "stdout",
     "output_type": "stream",
     "text": [
      "Phases: 6\n"
     ]
    },
    {
     "name": "stderr",
     "output_type": "stream",
     "text": [
      "  1% (7919 of 479933) |                  | Elapsed Time: 0:00:45 ETA:   1:13:03"
     ]
    },
    {
     "name": "stdout",
     "output_type": "stream",
     "text": [
      "Phases: 7\n"
     ]
    },
    {
     "name": "stderr",
     "output_type": "stream",
     "text": [
      "  1% (9316 of 479933) |                  | Elapsed Time: 0:00:52 ETA:   1:09:12"
     ]
    },
    {
     "name": "stdout",
     "output_type": "stream",
     "text": [
      "Phases: 8\n"
     ]
    },
    {
     "name": "stderr",
     "output_type": "stream",
     "text": [
      "  2% (10447 of 479933) |                 | Elapsed Time: 0:00:59 ETA:   1:09:37"
     ]
    },
    {
     "name": "stdout",
     "output_type": "stream",
     "text": [
      "Phases: 9\n"
     ]
    },
    {
     "name": "stderr",
     "output_type": "stream",
     "text": [
      "  2% (12266 of 479933) |                 | Elapsed Time: 0:01:08 ETA:   1:16:11"
     ]
    },
    {
     "name": "stdout",
     "output_type": "stream",
     "text": [
      "Phases: 10\n"
     ]
    },
    {
     "name": "stderr",
     "output_type": "stream",
     "text": [
      "  2% (13402 of 479933) |                 | Elapsed Time: 0:01:15 ETA:   1:08:39"
     ]
    },
    {
     "name": "stdout",
     "output_type": "stream",
     "text": [
      "Phases: 11\n"
     ]
    },
    {
     "name": "stderr",
     "output_type": "stream",
     "text": [
      "  3% (14732 of 479933) |                 | Elapsed Time: 0:01:22 ETA:   1:08:47"
     ]
    },
    {
     "name": "stdout",
     "output_type": "stream",
     "text": [
      "Phases: 12\n"
     ]
    },
    {
     "name": "stderr",
     "output_type": "stream",
     "text": [
      "  3% (15796 of 479933) |                 | Elapsed Time: 0:01:28 ETA:   1:08:56"
     ]
    },
    {
     "name": "stdout",
     "output_type": "stream",
     "text": [
      "Phases: 13\n"
     ]
    },
    {
     "name": "stderr",
     "output_type": "stream",
     "text": [
      "  3% (17096 of 479933) |                 | Elapsed Time: 0:01:36 ETA:   1:15:35"
     ]
    },
    {
     "name": "stdout",
     "output_type": "stream",
     "text": [
      "Phases: 14\n"
     ]
    },
    {
     "name": "stderr",
     "output_type": "stream",
     "text": [
      "  3% (18112 of 479933) |                 | Elapsed Time: 0:01:42 ETA:   1:21:16"
     ]
    },
    {
     "name": "stdout",
     "output_type": "stream",
     "text": [
      "Phases: 15\n"
     ]
    },
    {
     "name": "stderr",
     "output_type": "stream",
     "text": [
      "  4% (19357 of 479933) |                 | Elapsed Time: 0:01:50 ETA:   1:24:59"
     ]
    },
    {
     "name": "stdout",
     "output_type": "stream",
     "text": [
      "Phases: 16\n"
     ]
    },
    {
     "name": "stderr",
     "output_type": "stream",
     "text": [
      "  4% (20433 of 479933) |                 | Elapsed Time: 0:01:56 ETA:   1:13:35"
     ]
    },
    {
     "name": "stdout",
     "output_type": "stream",
     "text": [
      "Phases: 17\n"
     ]
    },
    {
     "name": "stderr",
     "output_type": "stream",
     "text": [
      "  4% (21746 of 479933) |                 | Elapsed Time: 0:02:04 ETA:   1:06:02"
     ]
    },
    {
     "name": "stdout",
     "output_type": "stream",
     "text": [
      "Phases: 18\n"
     ]
    },
    {
     "name": "stderr",
     "output_type": "stream",
     "text": [
      "  4% (22996 of 479933) |                 | Elapsed Time: 0:02:11 ETA:   1:12:53"
     ]
    },
    {
     "name": "stdout",
     "output_type": "stream",
     "text": [
      "Phases: 19\n"
     ]
    },
    {
     "name": "stderr",
     "output_type": "stream",
     "text": [
      "  5% (25136 of 479933) |                 | Elapsed Time: 0:02:21 ETA:   1:07:30"
     ]
    },
    {
     "name": "stdout",
     "output_type": "stream",
     "text": [
      "Phases: 20\n"
     ]
    },
    {
     "name": "stderr",
     "output_type": "stream",
     "text": [
      "  5% (26255 of 479933) |                 | Elapsed Time: 0:02:28 ETA:   1:06:14"
     ]
    },
    {
     "name": "stdout",
     "output_type": "stream",
     "text": [
      "Phases: 21\n"
     ]
    },
    {
     "name": "stderr",
     "output_type": "stream",
     "text": [
      "  5% (27621 of 479933) |                 | Elapsed Time: 0:02:35 ETA:   1:16:19"
     ]
    },
    {
     "name": "stdout",
     "output_type": "stream",
     "text": [
      "Phases: 22\n"
     ]
    },
    {
     "name": "stderr",
     "output_type": "stream",
     "text": [
      "  5% (28701 of 479933) |#                | Elapsed Time: 0:02:44 ETA:   1:22:38"
     ]
    },
    {
     "name": "stdout",
     "output_type": "stream",
     "text": [
      "Phases: 23\n"
     ]
    },
    {
     "name": "stderr",
     "output_type": "stream",
     "text": [
      "  6% (30002 of 479933) |#                | Elapsed Time: 0:02:51 ETA:   1:12:59"
     ]
    },
    {
     "name": "stdout",
     "output_type": "stream",
     "text": [
      "Phases: 24\n"
     ]
    },
    {
     "name": "stderr",
     "output_type": "stream",
     "text": [
      "  6% (31069 of 479933) |#                | Elapsed Time: 0:02:57 ETA:   1:09:50"
     ]
    },
    {
     "name": "stdout",
     "output_type": "stream",
     "text": [
      "Phases: 25\n"
     ]
    },
    {
     "name": "stderr",
     "output_type": "stream",
     "text": [
      "  6% (32316 of 479933) |#                | Elapsed Time: 0:03:04 ETA:   1:06:59"
     ]
    },
    {
     "name": "stdout",
     "output_type": "stream",
     "text": [
      "Phases: 26\n"
     ]
    },
    {
     "name": "stderr",
     "output_type": "stream",
     "text": [
      "  6% (33367 of 479933) |#                | Elapsed Time: 0:03:11 ETA:   1:10:32"
     ]
    },
    {
     "name": "stdout",
     "output_type": "stream",
     "text": [
      "Phases: 27\n"
     ]
    },
    {
     "name": "stderr",
     "output_type": "stream",
     "text": [
      "  7% (34742 of 479933) |#                | Elapsed Time: 0:03:18 ETA:   1:08:47"
     ]
    },
    {
     "name": "stdout",
     "output_type": "stream",
     "text": [
      "Phases: 28\n"
     ]
    },
    {
     "name": "stderr",
     "output_type": "stream",
     "text": [
      "  7% (35915 of 479933) |#                | Elapsed Time: 0:03:25 ETA:   1:09:10"
     ]
    },
    {
     "name": "stdout",
     "output_type": "stream",
     "text": [
      "Phases: 29\n"
     ]
    },
    {
     "name": "stderr",
     "output_type": "stream",
     "text": [
      "  7% (37800 of 479933) |#                | Elapsed Time: 0:03:34 ETA:   1:09:44"
     ]
    },
    {
     "name": "stdout",
     "output_type": "stream",
     "text": [
      "Phases: 30\n"
     ]
    },
    {
     "name": "stderr",
     "output_type": "stream",
     "text": [
      "  8% (38923 of 479933) |#                | Elapsed Time: 0:03:41 ETA:   1:08:09"
     ]
    },
    {
     "name": "stdout",
     "output_type": "stream",
     "text": [
      "Phases: 31\n"
     ]
    },
    {
     "name": "stderr",
     "output_type": "stream",
     "text": [
      "  8% (40297 of 479933) |#                | Elapsed Time: 0:03:48 ETA:   1:12:43"
     ]
    },
    {
     "name": "stdout",
     "output_type": "stream",
     "text": [
      "Phases: 32\n"
     ]
    },
    {
     "name": "stderr",
     "output_type": "stream",
     "text": [
      "  8% (41384 of 479933) |#                | Elapsed Time: 0:03:55 ETA:   1:09:10"
     ]
    },
    {
     "name": "stdout",
     "output_type": "stream",
     "text": [
      "Phases: 33\n"
     ]
    },
    {
     "name": "stderr",
     "output_type": "stream",
     "text": [
      "  8% (42730 of 479933) |#                | Elapsed Time: 0:04:02 ETA:   1:06:47"
     ]
    },
    {
     "name": "stdout",
     "output_type": "stream",
     "text": [
      "Phases: 34\n"
     ]
    },
    {
     "name": "stderr",
     "output_type": "stream",
     "text": [
      "  9% (43794 of 479933) |#                | Elapsed Time: 0:04:09 ETA:   1:08:42"
     ]
    },
    {
     "name": "stdout",
     "output_type": "stream",
     "text": [
      "Phases: 35\n"
     ]
    },
    {
     "name": "stderr",
     "output_type": "stream",
     "text": [
      "  9% (45054 of 479933) |#                | Elapsed Time: 0:04:16 ETA:   1:09:12"
     ]
    },
    {
     "name": "stdout",
     "output_type": "stream",
     "text": [
      "Phases: 36\n"
     ]
    },
    {
     "name": "stderr",
     "output_type": "stream",
     "text": [
      "  9% (46176 of 479933) |#                | Elapsed Time: 0:04:22 ETA:   1:07:14"
     ]
    },
    {
     "name": "stdout",
     "output_type": "stream",
     "text": [
      "Phases: 37\n"
     ]
    },
    {
     "name": "stderr",
     "output_type": "stream",
     "text": [
      "  9% (47513 of 479933) |#                | Elapsed Time: 0:04:29 ETA:   1:06:39"
     ]
    },
    {
     "name": "stdout",
     "output_type": "stream",
     "text": [
      "Phases: 38\n"
     ]
    },
    {
     "name": "stderr",
     "output_type": "stream",
     "text": [
      " 10% (48693 of 479933) |#                | Elapsed Time: 0:04:36 ETA:   1:05:23"
     ]
    },
    {
     "name": "stdout",
     "output_type": "stream",
     "text": [
      "Phases: 39\n"
     ]
    },
    {
     "name": "stderr",
     "output_type": "stream",
     "text": [
      " 10% (50597 of 479933) |#                | Elapsed Time: 0:04:46 ETA:   1:04:08"
     ]
    },
    {
     "name": "stdout",
     "output_type": "stream",
     "text": [
      "Phases: 40\n"
     ]
    },
    {
     "name": "stderr",
     "output_type": "stream",
     "text": [
      " 10% (51629 of 479933) |#                | Elapsed Time: 0:04:52 ETA:   1:02:01"
     ]
    },
    {
     "name": "stdout",
     "output_type": "stream",
     "text": [
      "Phases: 41\n"
     ]
    },
    {
     "name": "stderr",
     "output_type": "stream",
     "text": [
      " 11% (53046 of 479933) |#                | Elapsed Time: 0:05:00 ETA:   1:05:54"
     ]
    },
    {
     "name": "stdout",
     "output_type": "stream",
     "text": [
      "Phases: 42\n"
     ]
    },
    {
     "name": "stderr",
     "output_type": "stream",
     "text": [
      " 11% (54144 of 479933) |#                | Elapsed Time: 0:05:06 ETA:   1:09:20"
     ]
    },
    {
     "name": "stdout",
     "output_type": "stream",
     "text": [
      "Phases: 43\n"
     ]
    },
    {
     "name": "stderr",
     "output_type": "stream",
     "text": [
      " 11% (55506 of 479933) |#                | Elapsed Time: 0:05:14 ETA:   1:04:12"
     ]
    },
    {
     "name": "stdout",
     "output_type": "stream",
     "text": [
      "Phases: 44\n"
     ]
    },
    {
     "name": "stderr",
     "output_type": "stream",
     "text": [
      " 11% (56486 of 479933) |##               | Elapsed Time: 0:05:20 ETA:   1:09:57"
     ]
    },
    {
     "name": "stdout",
     "output_type": "stream",
     "text": [
      "Phases: 45\n"
     ]
    },
    {
     "name": "stderr",
     "output_type": "stream",
     "text": [
      " 12% (57718 of 479933) |##               | Elapsed Time: 0:05:26 ETA:   1:03:14"
     ]
    },
    {
     "name": "stdout",
     "output_type": "stream",
     "text": [
      "Phases: 46\n"
     ]
    },
    {
     "name": "stderr",
     "output_type": "stream",
     "text": [
      " 12% (58735 of 479933) |##               | Elapsed Time: 0:05:33 ETA:   1:02:11"
     ]
    },
    {
     "name": "stdout",
     "output_type": "stream",
     "text": [
      "Phases: 47\n"
     ]
    },
    {
     "name": "stderr",
     "output_type": "stream",
     "text": [
      " 12% (59971 of 479933) |##               | Elapsed Time: 0:05:40 ETA:   1:03:31"
     ]
    },
    {
     "name": "stdout",
     "output_type": "stream",
     "text": [
      "Phases: 48\n"
     ]
    },
    {
     "name": "stderr",
     "output_type": "stream",
     "text": [
      " 12% (61030 of 479933) |##               | Elapsed Time: 0:05:46 ETA:   1:01:39"
     ]
    },
    {
     "name": "stdout",
     "output_type": "stream",
     "text": [
      "Phases: 49\n"
     ]
    },
    {
     "name": "stderr",
     "output_type": "stream",
     "text": [
      " 12% (62334 of 479933) |##               | Elapsed Time: 0:05:53 ETA:   1:05:08"
     ]
    },
    {
     "name": "stdout",
     "output_type": "stream",
     "text": [
      "Phases: 50\n"
     ]
    },
    {
     "name": "stderr",
     "output_type": "stream",
     "text": [
      " 13% (63840 of 479933) |##               | Elapsed Time: 0:06:01 ETA:   1:03:47"
     ]
    },
    {
     "name": "stdout",
     "output_type": "stream",
     "text": [
      "Phases: 51\n"
     ]
    },
    {
     "name": "stderr",
     "output_type": "stream",
     "text": [
      " 13% (65208 of 479933) |##               | Elapsed Time: 0:06:09 ETA:   1:09:28"
     ]
    },
    {
     "name": "stdout",
     "output_type": "stream",
     "text": [
      "Phases: 52\n"
     ]
    },
    {
     "name": "stderr",
     "output_type": "stream",
     "text": [
      " 13% (66233 of 479933) |##               | Elapsed Time: 0:06:15 ETA:   1:00:28"
     ]
    },
    {
     "name": "stdout",
     "output_type": "stream",
     "text": [
      "Phases: 53\n"
     ]
    },
    {
     "name": "stderr",
     "output_type": "stream",
     "text": [
      " 14% (67485 of 479933) |##               | Elapsed Time: 0:06:22 ETA:   1:02:26"
     ]
    },
    {
     "name": "stdout",
     "output_type": "stream",
     "text": [
      "Phases: 54\n"
     ]
    },
    {
     "name": "stderr",
     "output_type": "stream",
     "text": [
      " 14% (68516 of 479933) |##               | Elapsed Time: 0:06:28 ETA:   1:02:33"
     ]
    },
    {
     "name": "stdout",
     "output_type": "stream",
     "text": [
      "Phases: 55\n"
     ]
    },
    {
     "name": "stderr",
     "output_type": "stream",
     "text": [
      " 14% (69760 of 479933) |##               | Elapsed Time: 0:06:35 ETA:   1:08:54"
     ]
    },
    {
     "name": "stdout",
     "output_type": "stream",
     "text": [
      "Phases: 56\n"
     ]
    },
    {
     "name": "stderr",
     "output_type": "stream",
     "text": [
      " 14% (70781 of 479933) |##               | Elapsed Time: 0:06:41 ETA:   1:05:56"
     ]
    },
    {
     "name": "stdout",
     "output_type": "stream",
     "text": [
      "Phases: 57\n"
     ]
    },
    {
     "name": "stderr",
     "output_type": "stream",
     "text": [
      " 15% (72018 of 479933) |##               | Elapsed Time: 0:06:49 ETA:   1:24:09"
     ]
    },
    {
     "name": "stdout",
     "output_type": "stream",
     "text": [
      "Phases: 58\n"
     ]
    },
    {
     "name": "stderr",
     "output_type": "stream",
     "text": [
      " 15% (73097 of 479933) |##               | Elapsed Time: 0:06:55 ETA:   1:05:32"
     ]
    },
    {
     "name": "stdout",
     "output_type": "stream",
     "text": [
      "Phases: 59\n"
     ]
    },
    {
     "name": "stderr",
     "output_type": "stream",
     "text": [
      " 15% (74413 of 479933) |##               | Elapsed Time: 0:07:02 ETA:   0:54:35"
     ]
    },
    {
     "name": "stdout",
     "output_type": "stream",
     "text": [
      "Phases: 60\n",
      "Subject 21 windowed. Time elapsed: 0:07:06\n",
      "\n",
      "Swing Onset at sample 7886\n"
     ]
    },
    {
     "name": "stderr",
     "output_type": "stream",
     "text": [
      "  0% (25 of 271475) |                    | Elapsed Time: 0:00:00 ETA:   0:18:07"
     ]
    },
    {
     "name": "stdout",
     "output_type": "stream",
     "text": [
      "Subject 22 rows: 279560\n"
     ]
    },
    {
     "name": "stderr",
     "output_type": "stream",
     "text": [
      "  0% (867 of 271475) |                   | Elapsed Time: 0:00:04 ETA:   0:42:28"
     ]
    },
    {
     "name": "stdout",
     "output_type": "stream",
     "text": [
      "Phases: 1\n"
     ]
    },
    {
     "name": "stderr",
     "output_type": "stream",
     "text": [
      "  0% (1963 of 271475) |                  | Elapsed Time: 0:00:11 ETA:   0:41:53"
     ]
    },
    {
     "name": "stdout",
     "output_type": "stream",
     "text": [
      "Phases: 2\n"
     ]
    },
    {
     "name": "stderr",
     "output_type": "stream",
     "text": [
      "  1% (2882 of 271475) |                  | Elapsed Time: 0:00:16 ETA:   0:41:52"
     ]
    },
    {
     "name": "stdout",
     "output_type": "stream",
     "text": [
      "Phases: 3\n"
     ]
    },
    {
     "name": "stderr",
     "output_type": "stream",
     "text": [
      "  1% (3846 of 271475) |                  | Elapsed Time: 0:00:22 ETA:   0:42:52"
     ]
    },
    {
     "name": "stdout",
     "output_type": "stream",
     "text": [
      "Phases: 4\n"
     ]
    },
    {
     "name": "stderr",
     "output_type": "stream",
     "text": [
      "  1% (4823 of 271475) |                  | Elapsed Time: 0:00:28 ETA:   0:41:36"
     ]
    },
    {
     "name": "stdout",
     "output_type": "stream",
     "text": [
      "Phases: 5\n"
     ]
    },
    {
     "name": "stderr",
     "output_type": "stream",
     "text": [
      "  2% (5893 of 271475) |                  | Elapsed Time: 0:00:35 ETA:   0:40:29"
     ]
    },
    {
     "name": "stdout",
     "output_type": "stream",
     "text": [
      "Phases: 6\n"
     ]
    },
    {
     "name": "stderr",
     "output_type": "stream",
     "text": [
      "  2% (6872 of 271475) |                  | Elapsed Time: 0:00:41 ETA:   0:40:18"
     ]
    },
    {
     "name": "stdout",
     "output_type": "stream",
     "text": [
      "Phases: 7\n"
     ]
    },
    {
     "name": "stderr",
     "output_type": "stream",
     "text": [
      "  2% (7955 of 271475) |                  | Elapsed Time: 0:00:47 ETA:   0:40:33"
     ]
    },
    {
     "name": "stdout",
     "output_type": "stream",
     "text": [
      "Phases: 8\n"
     ]
    },
    {
     "name": "stderr",
     "output_type": "stream",
     "text": [
      "  3% (8919 of 271475) |                  | Elapsed Time: 0:00:53 ETA:   0:39:30"
     ]
    },
    {
     "name": "stdout",
     "output_type": "stream",
     "text": [
      "Phases: 9\n"
     ]
    },
    {
     "name": "stderr",
     "output_type": "stream",
     "text": [
      "  3% (10038 of 271475) |                 | Elapsed Time: 0:00:59 ETA:   0:40:58"
     ]
    },
    {
     "name": "stdout",
     "output_type": "stream",
     "text": [
      "Phases: 10\n"
     ]
    },
    {
     "name": "stderr",
     "output_type": "stream",
     "text": [
      "  4% (10925 of 271475) |                 | Elapsed Time: 0:01:05 ETA:   0:38:54"
     ]
    },
    {
     "name": "stdout",
     "output_type": "stream",
     "text": [
      "Phases: 11\n"
     ]
    },
    {
     "name": "stderr",
     "output_type": "stream",
     "text": [
      "  4% (12062 of 271475) |                 | Elapsed Time: 0:01:12 ETA:   0:38:58"
     ]
    },
    {
     "name": "stdout",
     "output_type": "stream",
     "text": [
      "Phases: 12\n"
     ]
    },
    {
     "name": "stderr",
     "output_type": "stream",
     "text": [
      "  4% (12998 of 271475) |                 | Elapsed Time: 0:01:17 ETA:   0:39:51"
     ]
    },
    {
     "name": "stdout",
     "output_type": "stream",
     "text": [
      "Phases: 13\n"
     ]
    },
    {
     "name": "stderr",
     "output_type": "stream",
     "text": [
      "  5% (14063 of 271475) |                 | Elapsed Time: 0:01:24 ETA:   0:37:38"
     ]
    },
    {
     "name": "stdout",
     "output_type": "stream",
     "text": [
      "Phases: 14\n"
     ]
    },
    {
     "name": "stderr",
     "output_type": "stream",
     "text": [
      "  5% (15027 of 271475) |                 | Elapsed Time: 0:01:30 ETA:   0:37:19"
     ]
    },
    {
     "name": "stdout",
     "output_type": "stream",
     "text": [
      "Phases: 15\n"
     ]
    },
    {
     "name": "stderr",
     "output_type": "stream",
     "text": [
      "  5% (16120 of 271475) |#                | Elapsed Time: 0:01:36 ETA:   0:40:21"
     ]
    },
    {
     "name": "stdout",
     "output_type": "stream",
     "text": [
      "Phases: 16\n"
     ]
    },
    {
     "name": "stderr",
     "output_type": "stream",
     "text": [
      "  6% (17087 of 271475) |#                | Elapsed Time: 0:01:42 ETA:   0:37:33"
     ]
    },
    {
     "name": "stdout",
     "output_type": "stream",
     "text": [
      "Phases: 17\n"
     ]
    },
    {
     "name": "stderr",
     "output_type": "stream",
     "text": [
      "  6% (18210 of 271475) |#                | Elapsed Time: 0:01:48 ETA:   0:40:16"
     ]
    },
    {
     "name": "stdout",
     "output_type": "stream",
     "text": [
      "Phases: 18\n"
     ]
    },
    {
     "name": "stderr",
     "output_type": "stream",
     "text": [
      "  7% (19142 of 271475) |#                | Elapsed Time: 0:01:54 ETA:   0:37:23"
     ]
    },
    {
     "name": "stdout",
     "output_type": "stream",
     "text": [
      "Phases: 19\n"
     ]
    },
    {
     "name": "stderr",
     "output_type": "stream",
     "text": [
      "  7% (20313 of 271475) |#                | Elapsed Time: 0:02:01 ETA:   0:37:14"
     ]
    },
    {
     "name": "stdout",
     "output_type": "stream",
     "text": [
      "Phases: 20\n"
     ]
    },
    {
     "name": "stderr",
     "output_type": "stream",
     "text": [
      "  7% (21141 of 271475) |#                | Elapsed Time: 0:02:06 ETA:   0:37:16"
     ]
    },
    {
     "name": "stdout",
     "output_type": "stream",
     "text": [
      "Phases: 21\n"
     ]
    },
    {
     "name": "stderr",
     "output_type": "stream",
     "text": [
      "  8% (22272 of 271475) |#                | Elapsed Time: 0:02:13 ETA:   0:39:41"
     ]
    },
    {
     "name": "stdout",
     "output_type": "stream",
     "text": [
      "Phases: 22\n"
     ]
    },
    {
     "name": "stderr",
     "output_type": "stream",
     "text": [
      "  8% (23180 of 271475) |#                | Elapsed Time: 0:02:18 ETA:   0:36:10"
     ]
    },
    {
     "name": "stdout",
     "output_type": "stream",
     "text": [
      "Phases: 23\n"
     ]
    },
    {
     "name": "stderr",
     "output_type": "stream",
     "text": [
      "  8% (24264 of 271475) |#                | Elapsed Time: 0:02:25 ETA:   0:37:18"
     ]
    },
    {
     "name": "stdout",
     "output_type": "stream",
     "text": [
      "Phases: 24\n"
     ]
    },
    {
     "name": "stderr",
     "output_type": "stream",
     "text": [
      "  9% (25212 of 271475) |#                | Elapsed Time: 0:02:31 ETA:   0:37:27"
     ]
    },
    {
     "name": "stdout",
     "output_type": "stream",
     "text": [
      "Phases: 25\n"
     ]
    },
    {
     "name": "stderr",
     "output_type": "stream",
     "text": [
      "  9% (26285 of 271475) |#                | Elapsed Time: 0:02:37 ETA:   0:38:52"
     ]
    },
    {
     "name": "stdout",
     "output_type": "stream",
     "text": [
      "Phases: 26\n"
     ]
    },
    {
     "name": "stderr",
     "output_type": "stream",
     "text": [
      " 10% (27204 of 271475) |#                | Elapsed Time: 0:02:43 ETA:   0:37:05"
     ]
    },
    {
     "name": "stdout",
     "output_type": "stream",
     "text": [
      "Phases: 27\n"
     ]
    },
    {
     "name": "stderr",
     "output_type": "stream",
     "text": [
      " 10% (28314 of 271475) |#                | Elapsed Time: 0:02:49 ETA:   0:37:33"
     ]
    },
    {
     "name": "stdout",
     "output_type": "stream",
     "text": [
      "Phases: 28\n"
     ]
    },
    {
     "name": "stderr",
     "output_type": "stream",
     "text": [
      " 10% (29259 of 271475) |#                | Elapsed Time: 0:02:55 ETA:   0:35:53"
     ]
    },
    {
     "name": "stdout",
     "output_type": "stream",
     "text": [
      "Phases: 29\n"
     ]
    },
    {
     "name": "stderr",
     "output_type": "stream",
     "text": [
      " 11% (30432 of 271475) |#                | Elapsed Time: 0:03:02 ETA:   0:39:00"
     ]
    },
    {
     "name": "stdout",
     "output_type": "stream",
     "text": [
      "Phases: 30\n"
     ]
    },
    {
     "name": "stderr",
     "output_type": "stream",
     "text": [
      " 11% (31341 of 271475) |#                | Elapsed Time: 0:03:08 ETA:   0:35:35"
     ]
    },
    {
     "name": "stdout",
     "output_type": "stream",
     "text": [
      "Phases: 31\n"
     ]
    },
    {
     "name": "stderr",
     "output_type": "stream",
     "text": [
      " 11% (32356 of 271475) |##               | Elapsed Time: 0:03:14 ETA:   0:36:52"
     ]
    },
    {
     "name": "stdout",
     "output_type": "stream",
     "text": [
      "Phases: 32\n"
     ]
    },
    {
     "name": "stderr",
     "output_type": "stream",
     "text": [
      " 12% (33400 of 271475) |##               | Elapsed Time: 0:03:20 ETA:   0:35:51"
     ]
    },
    {
     "name": "stdout",
     "output_type": "stream",
     "text": [
      "Phases: 33\n"
     ]
    },
    {
     "name": "stderr",
     "output_type": "stream",
     "text": [
      " 12% (34428 of 271475) |##               | Elapsed Time: 0:03:26 ETA:   0:36:57"
     ]
    },
    {
     "name": "stdout",
     "output_type": "stream",
     "text": [
      "Phases: 34\n"
     ]
    },
    {
     "name": "stderr",
     "output_type": "stream",
     "text": [
      " 13% (35429 of 271475) |##               | Elapsed Time: 0:03:32 ETA:   0:36:43"
     ]
    },
    {
     "name": "stdout",
     "output_type": "stream",
     "text": [
      "Phases: 35\n"
     ]
    },
    {
     "name": "stderr",
     "output_type": "stream",
     "text": [
      " 13% (36503 of 271475) |##               | Elapsed Time: 0:03:39 ETA:   0:37:36"
     ]
    },
    {
     "name": "stdout",
     "output_type": "stream",
     "text": [
      "Phases: 36\n"
     ]
    },
    {
     "name": "stderr",
     "output_type": "stream",
     "text": [
      " 13% (37476 of 271475) |##               | Elapsed Time: 0:03:45 ETA:   0:37:32"
     ]
    },
    {
     "name": "stdout",
     "output_type": "stream",
     "text": [
      "Phases: 37\n"
     ]
    },
    {
     "name": "stderr",
     "output_type": "stream",
     "text": [
      " 14% (38596 of 271475) |##               | Elapsed Time: 0:03:51 ETA:   0:36:00"
     ]
    },
    {
     "name": "stdout",
     "output_type": "stream",
     "text": [
      "Phases: 38\n"
     ]
    },
    {
     "name": "stderr",
     "output_type": "stream",
     "text": [
      " 14% (39499 of 271475) |##               | Elapsed Time: 0:03:57 ETA:   0:34:40"
     ]
    },
    {
     "name": "stdout",
     "output_type": "stream",
     "text": [
      "Phases: 39\n"
     ]
    },
    {
     "name": "stderr",
     "output_type": "stream",
     "text": [
      " 14% (40594 of 271475) |##               | Elapsed Time: 0:04:03 ETA:   0:34:32"
     ]
    },
    {
     "name": "stdout",
     "output_type": "stream",
     "text": [
      "Phases: 40\n"
     ]
    },
    {
     "name": "stderr",
     "output_type": "stream",
     "text": [
      " 15% (41515 of 271475) |##               | Elapsed Time: 0:04:09 ETA:   0:35:20"
     ]
    },
    {
     "name": "stdout",
     "output_type": "stream",
     "text": [
      "Phases: 41\n"
     ]
    },
    {
     "name": "stderr",
     "output_type": "stream",
     "text": [
      " 15% (42662 of 271475) |##               | Elapsed Time: 0:04:16 ETA:   0:34:21"
     ]
    },
    {
     "name": "stdout",
     "output_type": "stream",
     "text": [
      "Phases: 42\n"
     ]
    },
    {
     "name": "stderr",
     "output_type": "stream",
     "text": [
      " 16% (43572 of 271475) |##               | Elapsed Time: 0:04:21 ETA:   0:35:26"
     ]
    },
    {
     "name": "stdout",
     "output_type": "stream",
     "text": [
      "Phases: 43\n"
     ]
    },
    {
     "name": "stderr",
     "output_type": "stream",
     "text": [
      " 16% (44780 of 271475) |##               | Elapsed Time: 0:04:28 ETA:   0:33:22"
     ]
    },
    {
     "name": "stdout",
     "output_type": "stream",
     "text": [
      "Phases: 44\n"
     ]
    },
    {
     "name": "stderr",
     "output_type": "stream",
     "text": [
      " 16% (45643 of 271475) |##               | Elapsed Time: 0:04:34 ETA:   0:33:31"
     ]
    },
    {
     "name": "stdout",
     "output_type": "stream",
     "text": [
      "Phases: 45\n"
     ]
    },
    {
     "name": "stderr",
     "output_type": "stream",
     "text": [
      " 17% (46762 of 271475) |##               | Elapsed Time: 0:04:40 ETA:   0:36:01"
     ]
    },
    {
     "name": "stdout",
     "output_type": "stream",
     "text": [
      "Phases: 46\n"
     ]
    },
    {
     "name": "stderr",
     "output_type": "stream",
     "text": [
      " 17% (47697 of 271475) |##               | Elapsed Time: 0:04:46 ETA:   0:32:42"
     ]
    },
    {
     "name": "stdout",
     "output_type": "stream",
     "text": [
      "Phases: 47\n"
     ]
    },
    {
     "name": "stderr",
     "output_type": "stream",
     "text": [
      " 17% (48743 of 271475) |###              | Elapsed Time: 0:04:52 ETA:   0:34:59"
     ]
    },
    {
     "name": "stdout",
     "output_type": "stream",
     "text": [
      "Phases: 48\n"
     ]
    },
    {
     "name": "stderr",
     "output_type": "stream",
     "text": [
      " 18% (49651 of 271475) |###              | Elapsed Time: 0:04:58 ETA:   0:32:31"
     ]
    },
    {
     "name": "stdout",
     "output_type": "stream",
     "text": [
      "Phases: 49\n"
     ]
    },
    {
     "name": "stderr",
     "output_type": "stream",
     "text": [
      " 18% (50690 of 271475) |###              | Elapsed Time: 0:05:04 ETA:   0:33:28"
     ]
    },
    {
     "name": "stdout",
     "output_type": "stream",
     "text": [
      "Phases: 50\n"
     ]
    },
    {
     "name": "stderr",
     "output_type": "stream",
     "text": [
      " 19% (51668 of 271475) |###              | Elapsed Time: 0:05:10 ETA:   0:33:42"
     ]
    },
    {
     "name": "stdout",
     "output_type": "stream",
     "text": [
      "Phases: 51\n"
     ]
    },
    {
     "name": "stderr",
     "output_type": "stream",
     "text": [
      " 19% (52777 of 271475) |###              | Elapsed Time: 0:05:17 ETA:   0:34:43"
     ]
    },
    {
     "name": "stdout",
     "output_type": "stream",
     "text": [
      "Phases: 52\n"
     ]
    },
    {
     "name": "stderr",
     "output_type": "stream",
     "text": [
      " 19% (53717 of 271475) |###              | Elapsed Time: 0:05:23 ETA:   0:35:03"
     ]
    },
    {
     "name": "stdout",
     "output_type": "stream",
     "text": [
      "Phases: 53\n"
     ]
    },
    {
     "name": "stderr",
     "output_type": "stream",
     "text": [
      " 20% (54791 of 271475) |###              | Elapsed Time: 0:05:29 ETA:   0:32:43"
     ]
    },
    {
     "name": "stdout",
     "output_type": "stream",
     "text": [
      "Phases: 54\n"
     ]
    },
    {
     "name": "stderr",
     "output_type": "stream",
     "text": [
      " 20% (55755 of 271475) |###              | Elapsed Time: 0:05:35 ETA:   0:33:22"
     ]
    },
    {
     "name": "stdout",
     "output_type": "stream",
     "text": [
      "Phases: 55\n"
     ]
    },
    {
     "name": "stderr",
     "output_type": "stream",
     "text": [
      " 20% (56801 of 271475) |###              | Elapsed Time: 0:05:41 ETA:   0:33:48"
     ]
    },
    {
     "name": "stdout",
     "output_type": "stream",
     "text": [
      "Phases: 56\n"
     ]
    },
    {
     "name": "stderr",
     "output_type": "stream",
     "text": [
      " 21% (57830 of 271475) |###              | Elapsed Time: 0:05:47 ETA:   0:32:16"
     ]
    },
    {
     "name": "stdout",
     "output_type": "stream",
     "text": [
      "Phases: 57\n"
     ]
    },
    {
     "name": "stderr",
     "output_type": "stream",
     "text": [
      " 21% (58935 of 271475) |###              | Elapsed Time: 0:05:54 ETA:   0:32:20"
     ]
    },
    {
     "name": "stdout",
     "output_type": "stream",
     "text": [
      "Phases: 58\n"
     ]
    },
    {
     "name": "stderr",
     "output_type": "stream",
     "text": [
      " 22% (59882 of 271475) |###              | Elapsed Time: 0:05:59 ETA:   0:31:27"
     ]
    },
    {
     "name": "stdout",
     "output_type": "stream",
     "text": [
      "Phases: 59\n"
     ]
    },
    {
     "name": "stderr",
     "output_type": "stream",
     "text": [
      " 22% (60844 of 271475) |###              | Elapsed Time: 0:06:05 ETA:   0:27:27"
     ]
    },
    {
     "name": "stdout",
     "output_type": "stream",
     "text": [
      "Phases: 60\n",
      "Subject 22 windowed. Time elapsed: 0:06:07\n",
      "\n",
      "Swing Onset at sample 4745\n"
     ]
    },
    {
     "name": "stderr",
     "output_type": "stream",
     "text": [
      "  0% (26 of 274616) |                    | Elapsed Time: 0:00:00 ETA:   0:18:15"
     ]
    },
    {
     "name": "stdout",
     "output_type": "stream",
     "text": [
      "Subject 23 rows: 279560\n"
     ]
    },
    {
     "name": "stderr",
     "output_type": "stream",
     "text": [
      "  0% (964 of 274616) |                   | Elapsed Time: 0:00:04 ETA:   0:39:32"
     ]
    },
    {
     "name": "stdout",
     "output_type": "stream",
     "text": [
      "Phases: 1\n"
     ]
    },
    {
     "name": "stderr",
     "output_type": "stream",
     "text": [
      "  0% (2549 of 274616) |                  | Elapsed Time: 0:00:13 ETA:   0:41:53"
     ]
    },
    {
     "name": "stdout",
     "output_type": "stream",
     "text": [
      "Phases: 2\n"
     ]
    },
    {
     "name": "stderr",
     "output_type": "stream",
     "text": [
      "  1% (3532 of 274616) |                  | Elapsed Time: 0:00:19 ETA:   0:45:37"
     ]
    },
    {
     "name": "stdout",
     "output_type": "stream",
     "text": [
      "Phases: 3\n"
     ]
    },
    {
     "name": "stderr",
     "output_type": "stream",
     "text": [
      "  1% (4790 of 274616) |                  | Elapsed Time: 0:00:26 ETA:   0:41:11"
     ]
    },
    {
     "name": "stdout",
     "output_type": "stream",
     "text": [
      "Phases: 4\n"
     ]
    },
    {
     "name": "stderr",
     "output_type": "stream",
     "text": [
      "  2% (5817 of 274616) |                  | Elapsed Time: 0:00:34 ETA:   0:41:23"
     ]
    },
    {
     "name": "stdout",
     "output_type": "stream",
     "text": [
      "Phases: 5\n"
     ]
    },
    {
     "name": "stderr",
     "output_type": "stream",
     "text": [
      "  2% (7075 of 274616) |                  | Elapsed Time: 0:00:41 ETA:   0:42:30"
     ]
    },
    {
     "name": "stdout",
     "output_type": "stream",
     "text": [
      "Phases: 6\n"
     ]
    },
    {
     "name": "stderr",
     "output_type": "stream",
     "text": [
      "  2% (8112 of 274616) |                  | Elapsed Time: 0:00:47 ETA:   0:41:09"
     ]
    },
    {
     "name": "stdout",
     "output_type": "stream",
     "text": [
      "Phases: 7\n"
     ]
    },
    {
     "name": "stderr",
     "output_type": "stream",
     "text": [
      "  3% (9419 of 274616) |                  | Elapsed Time: 0:00:55 ETA:   0:39:20"
     ]
    },
    {
     "name": "stdout",
     "output_type": "stream",
     "text": [
      "Phases: 8\n"
     ]
    },
    {
     "name": "stderr",
     "output_type": "stream",
     "text": [
      "  3% (10404 of 274616) |                 | Elapsed Time: 0:01:01 ETA:   0:39:42"
     ]
    },
    {
     "name": "stdout",
     "output_type": "stream",
     "text": [
      "Phases: 9\n"
     ]
    },
    {
     "name": "stderr",
     "output_type": "stream",
     "text": [
      "  4% (11695 of 274616) |                 | Elapsed Time: 0:01:08 ETA:   0:41:17"
     ]
    },
    {
     "name": "stdout",
     "output_type": "stream",
     "text": [
      "Phases: 10\n"
     ]
    },
    {
     "name": "stderr",
     "output_type": "stream",
     "text": [
      "  4% (12696 of 274616) |                 | Elapsed Time: 0:01:14 ETA:   0:40:04"
     ]
    },
    {
     "name": "stdout",
     "output_type": "stream",
     "text": [
      "Phases: 11\n"
     ]
    },
    {
     "name": "stderr",
     "output_type": "stream",
     "text": [
      "  5% (14019 of 274616) |                 | Elapsed Time: 0:01:21 ETA:   0:41:42"
     ]
    },
    {
     "name": "stdout",
     "output_type": "stream",
     "text": [
      "Phases: 12\n"
     ]
    },
    {
     "name": "stderr",
     "output_type": "stream",
     "text": [
      "  5% (15058 of 274616) |                 | Elapsed Time: 0:01:27 ETA:   0:39:02"
     ]
    },
    {
     "name": "stdout",
     "output_type": "stream",
     "text": [
      "Phases: 13\n"
     ]
    },
    {
     "name": "stderr",
     "output_type": "stream",
     "text": [
      "  6% (16482 of 274616) |#                | Elapsed Time: 0:01:35 ETA:   0:42:52"
     ]
    },
    {
     "name": "stdout",
     "output_type": "stream",
     "text": [
      "Phases: 14\n"
     ]
    },
    {
     "name": "stderr",
     "output_type": "stream",
     "text": [
      "  6% (17575 of 274616) |#                | Elapsed Time: 0:01:42 ETA:   0:39:46"
     ]
    },
    {
     "name": "stdout",
     "output_type": "stream",
     "text": [
      "Phases: 15\n"
     ]
    },
    {
     "name": "stderr",
     "output_type": "stream",
     "text": [
      "  6% (19011 of 274616) |#                | Elapsed Time: 0:01:49 ETA:   0:38:50"
     ]
    },
    {
     "name": "stdout",
     "output_type": "stream",
     "text": [
      "Phases: 16\n"
     ]
    },
    {
     "name": "stderr",
     "output_type": "stream",
     "text": [
      "  7% (20167 of 274616) |#                | Elapsed Time: 0:01:56 ETA:   0:39:29"
     ]
    },
    {
     "name": "stdout",
     "output_type": "stream",
     "text": [
      "Phases: 17\n"
     ]
    },
    {
     "name": "stderr",
     "output_type": "stream",
     "text": [
      "  7% (21893 of 274616) |#                | Elapsed Time: 0:02:05 ETA:   0:38:15"
     ]
    },
    {
     "name": "stdout",
     "output_type": "stream",
     "text": [
      "Phases: 18\n"
     ]
    },
    {
     "name": "stderr",
     "output_type": "stream",
     "text": [
      "  8% (23172 of 274616) |#                | Elapsed Time: 0:02:12 ETA:   0:39:37"
     ]
    },
    {
     "name": "stdout",
     "output_type": "stream",
     "text": [
      "Phases: 19\n"
     ]
    },
    {
     "name": "stderr",
     "output_type": "stream",
     "text": [
      "  8% (24449 of 274616) |#                | Elapsed Time: 0:02:19 ETA:   0:40:34"
     ]
    },
    {
     "name": "stdout",
     "output_type": "stream",
     "text": [
      "Phases: 20\n"
     ]
    },
    {
     "name": "stderr",
     "output_type": "stream",
     "text": [
      "  9% (25564 of 274616) |#                | Elapsed Time: 0:02:27 ETA:   1:01:36"
     ]
    },
    {
     "name": "stdout",
     "output_type": "stream",
     "text": [
      "Phases: 21\n"
     ]
    },
    {
     "name": "stderr",
     "output_type": "stream",
     "text": [
      "  9% (26921 of 274616) |#                | Elapsed Time: 0:02:35 ETA:   0:40:30"
     ]
    },
    {
     "name": "stdout",
     "output_type": "stream",
     "text": [
      "Phases: 22\n"
     ]
    },
    {
     "name": "stderr",
     "output_type": "stream",
     "text": [
      " 10% (27950 of 274616) |#                | Elapsed Time: 0:02:41 ETA:   0:41:31"
     ]
    },
    {
     "name": "stdout",
     "output_type": "stream",
     "text": [
      "Phases: 23\n"
     ]
    },
    {
     "name": "stderr",
     "output_type": "stream",
     "text": [
      " 10% (29281 of 274616) |#                | Elapsed Time: 0:02:48 ETA:   0:36:45"
     ]
    },
    {
     "name": "stdout",
     "output_type": "stream",
     "text": [
      "Phases: 24\n"
     ]
    },
    {
     "name": "stderr",
     "output_type": "stream",
     "text": [
      " 11% (30257 of 274616) |#                | Elapsed Time: 0:02:54 ETA:   0:37:49"
     ]
    },
    {
     "name": "stdout",
     "output_type": "stream",
     "text": [
      "Phases: 25\n"
     ]
    },
    {
     "name": "stderr",
     "output_type": "stream",
     "text": [
      " 11% (31574 of 274616) |#                | Elapsed Time: 0:03:02 ETA:   0:35:52"
     ]
    },
    {
     "name": "stdout",
     "output_type": "stream",
     "text": [
      "Phases: 26\n"
     ]
    },
    {
     "name": "stderr",
     "output_type": "stream",
     "text": [
      " 11% (32563 of 274616) |##               | Elapsed Time: 0:03:08 ETA:   0:36:04"
     ]
    },
    {
     "name": "stdout",
     "output_type": "stream",
     "text": [
      "Phases: 27\n"
     ]
    },
    {
     "name": "stderr",
     "output_type": "stream",
     "text": [
      " 12% (33852 of 274616) |##               | Elapsed Time: 0:03:15 ETA:   0:37:32"
     ]
    },
    {
     "name": "stdout",
     "output_type": "stream",
     "text": [
      "Phases: 28\n"
     ]
    },
    {
     "name": "stderr",
     "output_type": "stream",
     "text": [
      " 12% (34887 of 274616) |##               | Elapsed Time: 0:03:21 ETA:   0:36:42"
     ]
    },
    {
     "name": "stdout",
     "output_type": "stream",
     "text": [
      "Phases: 29\n"
     ]
    },
    {
     "name": "stderr",
     "output_type": "stream",
     "text": [
      " 13% (36237 of 274616) |##               | Elapsed Time: 0:03:28 ETA:   0:37:54"
     ]
    },
    {
     "name": "stdout",
     "output_type": "stream",
     "text": [
      "Phases: 30\n"
     ]
    },
    {
     "name": "stderr",
     "output_type": "stream",
     "text": [
      " 13% (37320 of 274616) |##               | Elapsed Time: 0:03:35 ETA:   0:34:05"
     ]
    },
    {
     "name": "stdout",
     "output_type": "stream",
     "text": [
      "Phases: 31\n"
     ]
    },
    {
     "name": "stderr",
     "output_type": "stream",
     "text": [
      " 14% (38712 of 274616) |##               | Elapsed Time: 0:03:42 ETA:   0:39:31"
     ]
    },
    {
     "name": "stdout",
     "output_type": "stream",
     "text": [
      "Phases: 32\n"
     ]
    },
    {
     "name": "stderr",
     "output_type": "stream",
     "text": [
      " 14% (39929 of 274616) |##               | Elapsed Time: 0:03:49 ETA:   0:36:24"
     ]
    },
    {
     "name": "stdout",
     "output_type": "stream",
     "text": [
      "Phases: 33\n"
     ]
    },
    {
     "name": "stderr",
     "output_type": "stream",
     "text": [
      " 15% (41556 of 274616) |##               | Elapsed Time: 0:03:58 ETA:   0:37:45"
     ]
    },
    {
     "name": "stdout",
     "output_type": "stream",
     "text": [
      "Phases: 34\n"
     ]
    },
    {
     "name": "stderr",
     "output_type": "stream",
     "text": [
      " 15% (42740 of 274616) |##               | Elapsed Time: 0:04:04 ETA:   0:35:54"
     ]
    },
    {
     "name": "stdout",
     "output_type": "stream",
     "text": [
      "Phases: 35\n"
     ]
    },
    {
     "name": "stderr",
     "output_type": "stream",
     "text": [
      " 16% (44387 of 274616) |##               | Elapsed Time: 0:04:13 ETA:   0:34:51"
     ]
    },
    {
     "name": "stdout",
     "output_type": "stream",
     "text": [
      "Phases: 36\n"
     ]
    },
    {
     "name": "stderr",
     "output_type": "stream",
     "text": [
      " 16% (45430 of 274616) |##               | Elapsed Time: 0:04:19 ETA:   0:31:35"
     ]
    },
    {
     "name": "stdout",
     "output_type": "stream",
     "text": [
      "Phases: 37\n"
     ]
    },
    {
     "name": "stderr",
     "output_type": "stream",
     "text": [
      " 17% (46854 of 274616) |##               | Elapsed Time: 0:04:27 ETA:   0:35:50"
     ]
    },
    {
     "name": "stdout",
     "output_type": "stream",
     "text": [
      "Phases: 38\n"
     ]
    },
    {
     "name": "stderr",
     "output_type": "stream",
     "text": [
      " 17% (47879 of 274616) |##               | Elapsed Time: 0:04:33 ETA:   0:35:19"
     ]
    },
    {
     "name": "stdout",
     "output_type": "stream",
     "text": [
      "Phases: 39\n"
     ]
    },
    {
     "name": "stderr",
     "output_type": "stream",
     "text": [
      " 17% (49250 of 274616) |###              | Elapsed Time: 0:04:41 ETA:   0:35:39"
     ]
    },
    {
     "name": "stdout",
     "output_type": "stream",
     "text": [
      "Phases: 40\n"
     ]
    },
    {
     "name": "stderr",
     "output_type": "stream",
     "text": [
      " 18% (50202 of 274616) |###              | Elapsed Time: 0:04:49 ETA:   0:35:50"
     ]
    },
    {
     "name": "stdout",
     "output_type": "stream",
     "text": [
      "Phases: 41\n"
     ]
    },
    {
     "name": "stderr",
     "output_type": "stream",
     "text": [
      " 18% (51465 of 274616) |###              | Elapsed Time: 0:04:56 ETA:   0:34:13"
     ]
    },
    {
     "name": "stdout",
     "output_type": "stream",
     "text": [
      "Phases: 42\n"
     ]
    },
    {
     "name": "stderr",
     "output_type": "stream",
     "text": [
      " 19% (52453 of 274616) |###              | Elapsed Time: 0:05:02 ETA:   0:33:22"
     ]
    },
    {
     "name": "stdout",
     "output_type": "stream",
     "text": [
      "Phases: 43\n"
     ]
    },
    {
     "name": "stderr",
     "output_type": "stream",
     "text": [
      " 19% (53735 of 274616) |###              | Elapsed Time: 0:05:09 ETA:   0:33:56"
     ]
    },
    {
     "name": "stdout",
     "output_type": "stream",
     "text": [
      "Phases: 44\n"
     ]
    },
    {
     "name": "stderr",
     "output_type": "stream",
     "text": [
      " 19% (54771 of 274616) |###              | Elapsed Time: 0:05:15 ETA:   0:32:10"
     ]
    },
    {
     "name": "stdout",
     "output_type": "stream",
     "text": [
      "Phases: 45\n"
     ]
    },
    {
     "name": "stderr",
     "output_type": "stream",
     "text": [
      " 20% (56136 of 274616) |###              | Elapsed Time: 0:05:23 ETA:   0:33:21"
     ]
    },
    {
     "name": "stdout",
     "output_type": "stream",
     "text": [
      "Phases: 46\n"
     ]
    },
    {
     "name": "stderr",
     "output_type": "stream",
     "text": [
      " 20% (57150 of 274616) |###              | Elapsed Time: 0:05:29 ETA:   0:31:55"
     ]
    },
    {
     "name": "stdout",
     "output_type": "stream",
     "text": [
      "Phases: 47\n"
     ]
    },
    {
     "name": "stderr",
     "output_type": "stream",
     "text": [
      " 21% (58494 of 274616) |###              | Elapsed Time: 0:05:36 ETA:   0:32:29"
     ]
    },
    {
     "name": "stdout",
     "output_type": "stream",
     "text": [
      "Phases: 48\n"
     ]
    },
    {
     "name": "stderr",
     "output_type": "stream",
     "text": [
      " 21% (59665 of 274616) |###              | Elapsed Time: 0:05:43 ETA:   0:32:13"
     ]
    },
    {
     "name": "stdout",
     "output_type": "stream",
     "text": [
      "Phases: 49\n"
     ]
    },
    {
     "name": "stderr",
     "output_type": "stream",
     "text": [
      " 22% (61096 of 274616) |###              | Elapsed Time: 0:05:50 ETA:   0:31:36"
     ]
    },
    {
     "name": "stdout",
     "output_type": "stream",
     "text": [
      "Phases: 50\n"
     ]
    },
    {
     "name": "stderr",
     "output_type": "stream",
     "text": [
      " 22% (62727 of 274616) |###              | Elapsed Time: 0:05:59 ETA:   0:30:41"
     ]
    },
    {
     "name": "stdout",
     "output_type": "stream",
     "text": [
      "Phases: 51\n"
     ]
    },
    {
     "name": "stderr",
     "output_type": "stream",
     "text": [
      " 23% (63902 of 274616) |###              | Elapsed Time: 0:06:06 ETA:   0:30:52"
     ]
    },
    {
     "name": "stdout",
     "output_type": "stream",
     "text": [
      "Phases: 52\n"
     ]
    },
    {
     "name": "stderr",
     "output_type": "stream",
     "text": [
      " 23% (65523 of 274616) |####             | Elapsed Time: 0:06:14 ETA:   0:31:48"
     ]
    },
    {
     "name": "stdout",
     "output_type": "stream",
     "text": [
      "Phases: 53\n"
     ]
    },
    {
     "name": "stderr",
     "output_type": "stream",
     "text": [
      " 24% (66874 of 274616) |####             | Elapsed Time: 0:06:22 ETA:   0:30:52"
     ]
    },
    {
     "name": "stdout",
     "output_type": "stream",
     "text": [
      "Phases: 54\n"
     ]
    },
    {
     "name": "stderr",
     "output_type": "stream",
     "text": [
      " 24% (67968 of 274616) |####             | Elapsed Time: 0:06:28 ETA:   0:33:15"
     ]
    },
    {
     "name": "stdout",
     "output_type": "stream",
     "text": [
      "Phases: 55\n"
     ]
    },
    {
     "name": "stderr",
     "output_type": "stream",
     "text": [
      " 25% (69294 of 274616) |####             | Elapsed Time: 0:06:36 ETA:   0:32:49"
     ]
    },
    {
     "name": "stdout",
     "output_type": "stream",
     "text": [
      "Phases: 56\n"
     ]
    },
    {
     "name": "stderr",
     "output_type": "stream",
     "text": [
      " 25% (70410 of 274616) |####             | Elapsed Time: 0:06:42 ETA:   0:32:17"
     ]
    },
    {
     "name": "stdout",
     "output_type": "stream",
     "text": [
      "Phases: 57\n"
     ]
    },
    {
     "name": "stderr",
     "output_type": "stream",
     "text": [
      " 26% (71786 of 274616) |####             | Elapsed Time: 0:06:50 ETA:   0:30:17"
     ]
    },
    {
     "name": "stdout",
     "output_type": "stream",
     "text": [
      "Phases: 58\n"
     ]
    },
    {
     "name": "stderr",
     "output_type": "stream",
     "text": [
      " 26% (72803 of 274616) |####             | Elapsed Time: 0:06:56 ETA:   0:32:09"
     ]
    },
    {
     "name": "stdout",
     "output_type": "stream",
     "text": [
      "Phases: 59\n"
     ]
    },
    {
     "name": "stderr",
     "output_type": "stream",
     "text": [
      " 27% (74171 of 274616) |####             | Elapsed Time: 0:07:03 ETA:   0:27:46"
     ]
    },
    {
     "name": "stdout",
     "output_type": "stream",
     "text": [
      "Phases: 60\n",
      "Subject 23 windowed. Time elapsed: 0:07:05\n",
      "\n",
      "Swing Onset at sample 6601\n"
     ]
    },
    {
     "name": "stderr",
     "output_type": "stream",
     "text": [
      "  0% (26 of 272760) |                    | Elapsed Time: 0:00:00 ETA:   0:17:58"
     ]
    },
    {
     "name": "stdout",
     "output_type": "stream",
     "text": [
      "Subject 24 rows: 279560\n"
     ]
    },
    {
     "name": "stderr",
     "output_type": "stream",
     "text": [
      "  0% (745 of 272760) |                   | Elapsed Time: 0:00:04 ETA:   0:41:32"
     ]
    },
    {
     "name": "stdout",
     "output_type": "stream",
     "text": [
      "Phases: 1\n"
     ]
    },
    {
     "name": "stderr",
     "output_type": "stream",
     "text": [
      "  0% (2118 of 272760) |                  | Elapsed Time: 0:00:11 ETA:   0:44:54"
     ]
    },
    {
     "name": "stdout",
     "output_type": "stream",
     "text": [
      "Phases: 2\n"
     ]
    },
    {
     "name": "stderr",
     "output_type": "stream",
     "text": [
      "  1% (2773 of 272760) |                  | Elapsed Time: 0:00:16 ETA:   0:40:30"
     ]
    },
    {
     "name": "stdout",
     "output_type": "stream",
     "text": [
      "Phases: 3\n"
     ]
    },
    {
     "name": "stderr",
     "output_type": "stream",
     "text": [
      "  1% (4060 of 272760) |                  | Elapsed Time: 0:00:23 ETA:   0:39:20"
     ]
    },
    {
     "name": "stdout",
     "output_type": "stream",
     "text": [
      "Phases: 4\n"
     ]
    },
    {
     "name": "stderr",
     "output_type": "stream",
     "text": [
      "  1% (4628 of 272760) |                  | Elapsed Time: 0:00:27 ETA:   0:43:20"
     ]
    },
    {
     "name": "stdout",
     "output_type": "stream",
     "text": [
      "Phases: 5\n"
     ]
    },
    {
     "name": "stderr",
     "output_type": "stream",
     "text": [
      "  2% (5916 of 272760) |                  | Elapsed Time: 0:00:35 ETA:   0:39:52"
     ]
    },
    {
     "name": "stdout",
     "output_type": "stream",
     "text": [
      "Phases: 6\n"
     ]
    },
    {
     "name": "stderr",
     "output_type": "stream",
     "text": [
      "  2% (6513 of 272760) |                  | Elapsed Time: 0:00:39 ETA:   0:43:45"
     ]
    },
    {
     "name": "stdout",
     "output_type": "stream",
     "text": [
      "Phases: 7\n"
     ]
    },
    {
     "name": "stderr",
     "output_type": "stream",
     "text": [
      "  2% (7784 of 272760) |                  | Elapsed Time: 0:00:46 ETA:   0:44:38"
     ]
    },
    {
     "name": "stdout",
     "output_type": "stream",
     "text": [
      "Phases: 8\n"
     ]
    },
    {
     "name": "stderr",
     "output_type": "stream",
     "text": [
      "  3% (8384 of 272760) |                  | Elapsed Time: 0:00:51 ETA:   0:37:53"
     ]
    },
    {
     "name": "stdout",
     "output_type": "stream",
     "text": [
      "Phases: 9\n"
     ]
    },
    {
     "name": "stderr",
     "output_type": "stream",
     "text": [
      "  3% (10335 of 272760) |                 | Elapsed Time: 0:01:00 ETA:   0:41:46"
     ]
    },
    {
     "name": "stdout",
     "output_type": "stream",
     "text": [
      "Phases: 10\n"
     ]
    },
    {
     "name": "stderr",
     "output_type": "stream",
     "text": [
      "  3% (10564 of 272760) |                 | Elapsed Time: 0:01:03 ETA:   0:55:31"
     ]
    },
    {
     "name": "stdout",
     "output_type": "stream",
     "text": [
      "Phases: 11\n"
     ]
    },
    {
     "name": "stderr",
     "output_type": "stream",
     "text": [
      "  4% (12112 of 272760) |                 | Elapsed Time: 0:01:12 ETA:   0:38:48"
     ]
    },
    {
     "name": "stdout",
     "output_type": "stream",
     "text": [
      "Phases: 12\n"
     ]
    },
    {
     "name": "stderr",
     "output_type": "stream",
     "text": [
      "  4% (12783 of 272760) |                 | Elapsed Time: 0:01:16 ETA:   0:39:36"
     ]
    },
    {
     "name": "stdout",
     "output_type": "stream",
     "text": [
      "Phases: 13\n"
     ]
    },
    {
     "name": "stderr",
     "output_type": "stream",
     "text": [
      "  5% (14043 of 272760) |                 | Elapsed Time: 0:01:23 ETA:   0:36:22"
     ]
    },
    {
     "name": "stdout",
     "output_type": "stream",
     "text": [
      "Phases: 14\n"
     ]
    },
    {
     "name": "stderr",
     "output_type": "stream",
     "text": [
      "  5% (14639 of 272760) |                 | Elapsed Time: 0:01:28 ETA:   0:38:48"
     ]
    },
    {
     "name": "stdout",
     "output_type": "stream",
     "text": [
      "Phases: 15\n"
     ]
    },
    {
     "name": "stderr",
     "output_type": "stream",
     "text": [
      "  5% (15881 of 272760) |                 | Elapsed Time: 0:01:35 ETA:   0:38:00"
     ]
    },
    {
     "name": "stdout",
     "output_type": "stream",
     "text": [
      "Phases: 16\n"
     ]
    },
    {
     "name": "stderr",
     "output_type": "stream",
     "text": [
      "  6% (16501 of 272760) |#                | Elapsed Time: 0:01:39 ETA:   0:37:11"
     ]
    },
    {
     "name": "stdout",
     "output_type": "stream",
     "text": [
      "Phases: 17\n"
     ]
    },
    {
     "name": "stderr",
     "output_type": "stream",
     "text": [
      "  6% (17780 of 272760) |#                | Elapsed Time: 0:01:47 ETA:   0:38:41"
     ]
    },
    {
     "name": "stdout",
     "output_type": "stream",
     "text": [
      "Phases: 18\n"
     ]
    },
    {
     "name": "stderr",
     "output_type": "stream",
     "text": [
      "  6% (18322 of 272760) |#                | Elapsed Time: 0:01:51 ETA:   0:39:28"
     ]
    },
    {
     "name": "stdout",
     "output_type": "stream",
     "text": [
      "Phases: 19\n"
     ]
    },
    {
     "name": "stderr",
     "output_type": "stream",
     "text": [
      "  7% (19563 of 272760) |#                | Elapsed Time: 0:01:58 ETA:   0:37:16"
     ]
    },
    {
     "name": "stdout",
     "output_type": "stream",
     "text": [
      "Phases: 20\n"
     ]
    },
    {
     "name": "stderr",
     "output_type": "stream",
     "text": [
      "  7% (20053 of 272760) |#                | Elapsed Time: 0:02:02 ETA:   0:39:07"
     ]
    },
    {
     "name": "stdout",
     "output_type": "stream",
     "text": [
      "Phases: 21\n"
     ]
    },
    {
     "name": "stderr",
     "output_type": "stream",
     "text": [
      "  8% (22004 of 272760) |#                | Elapsed Time: 0:02:12 ETA:   0:39:08"
     ]
    },
    {
     "name": "stdout",
     "output_type": "stream",
     "text": [
      "Phases: 22\n"
     ]
    },
    {
     "name": "stderr",
     "output_type": "stream",
     "text": [
      "  8% (22428 of 272760) |#                | Elapsed Time: 0:02:16 ETA:   0:37:10"
     ]
    },
    {
     "name": "stdout",
     "output_type": "stream",
     "text": [
      "Phases: 23\n"
     ]
    },
    {
     "name": "stderr",
     "output_type": "stream",
     "text": [
      "  8% (23827 of 272760) |#                | Elapsed Time: 0:02:23 ETA:   0:38:14"
     ]
    },
    {
     "name": "stdout",
     "output_type": "stream",
     "text": [
      "Phases: 24\n"
     ]
    },
    {
     "name": "stderr",
     "output_type": "stream",
     "text": [
      "  8% (24440 of 272760) |#                | Elapsed Time: 0:02:28 ETA:   0:38:41"
     ]
    },
    {
     "name": "stdout",
     "output_type": "stream",
     "text": [
      "Phases: 25\n"
     ]
    },
    {
     "name": "stderr",
     "output_type": "stream",
     "text": [
      "  9% (25700 of 272760) |#                | Elapsed Time: 0:02:35 ETA:   0:39:18"
     ]
    },
    {
     "name": "stdout",
     "output_type": "stream",
     "text": [
      "Phases: 26\n"
     ]
    },
    {
     "name": "stderr",
     "output_type": "stream",
     "text": [
      "  9% (26301 of 272760) |#                | Elapsed Time: 0:02:39 ETA:   0:40:00"
     ]
    },
    {
     "name": "stdout",
     "output_type": "stream",
     "text": [
      "Phases: 27\n"
     ]
    },
    {
     "name": "stderr",
     "output_type": "stream",
     "text": [
      " 10% (27545 of 272760) |#                | Elapsed Time: 0:02:46 ETA:   0:37:34"
     ]
    },
    {
     "name": "stdout",
     "output_type": "stream",
     "text": [
      "Phases: 28\n"
     ]
    },
    {
     "name": "stderr",
     "output_type": "stream",
     "text": [
      " 10% (28190 of 272760) |#                | Elapsed Time: 0:02:51 ETA:   0:39:20"
     ]
    },
    {
     "name": "stdout",
     "output_type": "stream",
     "text": [
      "Phases: 29\n"
     ]
    },
    {
     "name": "stderr",
     "output_type": "stream",
     "text": [
      " 10% (29453 of 272760) |#                | Elapsed Time: 0:02:58 ETA:   0:36:13"
     ]
    },
    {
     "name": "stdout",
     "output_type": "stream",
     "text": [
      "Phases: 30\n"
     ]
    },
    {
     "name": "stderr",
     "output_type": "stream",
     "text": [
      " 11% (30093 of 272760) |#                | Elapsed Time: 0:03:03 ETA:   0:36:49"
     ]
    },
    {
     "name": "stdout",
     "output_type": "stream",
     "text": [
      "Phases: 31\n"
     ]
    },
    {
     "name": "stderr",
     "output_type": "stream",
     "text": [
      " 11% (32062 of 272760) |#                | Elapsed Time: 0:03:13 ETA:   0:39:19"
     ]
    },
    {
     "name": "stdout",
     "output_type": "stream",
     "text": [
      "Phases: 32\n"
     ]
    },
    {
     "name": "stderr",
     "output_type": "stream",
     "text": [
      " 11% (32345 of 272760) |##               | Elapsed Time: 0:03:16 ETA:   0:40:38"
     ]
    },
    {
     "name": "stdout",
     "output_type": "stream",
     "text": [
      "Phases: 33\n"
     ]
    },
    {
     "name": "stderr",
     "output_type": "stream",
     "text": [
      " 12% (33716 of 272760) |##               | Elapsed Time: 0:03:24 ETA:   0:35:26"
     ]
    },
    {
     "name": "stdout",
     "output_type": "stream",
     "text": [
      "Phases: 34\n"
     ]
    },
    {
     "name": "stderr",
     "output_type": "stream",
     "text": [
      " 12% (34371 of 272760) |##               | Elapsed Time: 0:03:28 ETA:   0:38:13"
     ]
    },
    {
     "name": "stdout",
     "output_type": "stream",
     "text": [
      "Phases: 35\n"
     ]
    },
    {
     "name": "stderr",
     "output_type": "stream",
     "text": [
      " 13% (35646 of 272760) |##               | Elapsed Time: 0:03:35 ETA:   0:36:13"
     ]
    },
    {
     "name": "stdout",
     "output_type": "stream",
     "text": [
      "Phases: 36\n"
     ]
    },
    {
     "name": "stderr",
     "output_type": "stream",
     "text": [
      " 13% (36250 of 272760) |##               | Elapsed Time: 0:03:40 ETA:   0:35:18"
     ]
    },
    {
     "name": "stdout",
     "output_type": "stream",
     "text": [
      "Phases: 37\n"
     ]
    },
    {
     "name": "stderr",
     "output_type": "stream",
     "text": [
      " 13% (37491 of 272760) |##               | Elapsed Time: 0:03:47 ETA:   0:35:36"
     ]
    },
    {
     "name": "stdout",
     "output_type": "stream",
     "text": [
      "Phases: 38\n"
     ]
    },
    {
     "name": "stderr",
     "output_type": "stream",
     "text": [
      " 13% (38124 of 272760) |##               | Elapsed Time: 0:03:52 ETA:   0:40:30"
     ]
    },
    {
     "name": "stdout",
     "output_type": "stream",
     "text": [
      "Phases: 39\n"
     ]
    },
    {
     "name": "stderr",
     "output_type": "stream",
     "text": [
      " 14% (39376 of 272760) |##               | Elapsed Time: 0:03:59 ETA:   0:33:32"
     ]
    },
    {
     "name": "stdout",
     "output_type": "stream",
     "text": [
      "Phases: 40\n"
     ]
    },
    {
     "name": "stderr",
     "output_type": "stream",
     "text": [
      " 14% (39997 of 272760) |##               | Elapsed Time: 0:04:05 ETA:   0:37:24"
     ]
    },
    {
     "name": "stdout",
     "output_type": "stream",
     "text": [
      "Phases: 41\n"
     ]
    },
    {
     "name": "stderr",
     "output_type": "stream",
     "text": [
      " 15% (41248 of 272760) |##               | Elapsed Time: 0:04:12 ETA:   0:33:41"
     ]
    },
    {
     "name": "stdout",
     "output_type": "stream",
     "text": [
      "Phases: 42\n"
     ]
    },
    {
     "name": "stderr",
     "output_type": "stream",
     "text": [
      " 15% (41878 of 272760) |##               | Elapsed Time: 0:04:17 ETA:   0:36:00"
     ]
    },
    {
     "name": "stdout",
     "output_type": "stream",
     "text": [
      "Phases: 43\n"
     ]
    },
    {
     "name": "stderr",
     "output_type": "stream",
     "text": [
      " 16% (43970 of 272760) |##               | Elapsed Time: 0:04:27 ETA:   0:34:27"
     ]
    },
    {
     "name": "stdout",
     "output_type": "stream",
     "text": [
      "Phases: 44\n"
     ]
    },
    {
     "name": "stderr",
     "output_type": "stream",
     "text": [
      " 16% (44572 of 272760) |##               | Elapsed Time: 0:04:32 ETA:   0:33:40"
     ]
    },
    {
     "name": "stdout",
     "output_type": "stream",
     "text": [
      "Phases: 45\n"
     ]
    },
    {
     "name": "stderr",
     "output_type": "stream",
     "text": [
      " 16% (45984 of 272760) |##               | Elapsed Time: 0:04:39 ETA:   0:39:10"
     ]
    },
    {
     "name": "stdout",
     "output_type": "stream",
     "text": [
      "Phases: 46\n"
     ]
    },
    {
     "name": "stderr",
     "output_type": "stream",
     "text": [
      " 17% (46567 of 272760) |##               | Elapsed Time: 0:04:44 ETA:   0:33:41"
     ]
    },
    {
     "name": "stdout",
     "output_type": "stream",
     "text": [
      "Phases: 47\n"
     ]
    },
    {
     "name": "stderr",
     "output_type": "stream",
     "text": [
      " 17% (47862 of 272760) |##               | Elapsed Time: 0:04:51 ETA:   0:34:19"
     ]
    },
    {
     "name": "stdout",
     "output_type": "stream",
     "text": [
      "Phases: 48\n"
     ]
    },
    {
     "name": "stderr",
     "output_type": "stream",
     "text": [
      " 17% (48462 of 272760) |###              | Elapsed Time: 0:04:58 ETA:   0:34:59"
     ]
    },
    {
     "name": "stdout",
     "output_type": "stream",
     "text": [
      "Phases: 49\n"
     ]
    },
    {
     "name": "stderr",
     "output_type": "stream",
     "text": [
      " 18% (49719 of 272760) |###              | Elapsed Time: 0:05:05 ETA:   0:35:22"
     ]
    },
    {
     "name": "stdout",
     "output_type": "stream",
     "text": [
      "Phases: 50\n"
     ]
    },
    {
     "name": "stderr",
     "output_type": "stream",
     "text": [
      " 18% (50386 of 272760) |###              | Elapsed Time: 0:05:09 ETA:   0:35:16"
     ]
    },
    {
     "name": "stdout",
     "output_type": "stream",
     "text": [
      "Phases: 51\n"
     ]
    },
    {
     "name": "stderr",
     "output_type": "stream",
     "text": [
      " 18% (51656 of 272760) |###              | Elapsed Time: 0:05:16 ETA:   0:34:29"
     ]
    },
    {
     "name": "stdout",
     "output_type": "stream",
     "text": [
      "Phases: 52\n"
     ]
    },
    {
     "name": "stderr",
     "output_type": "stream",
     "text": [
      " 19% (52363 of 272760) |###              | Elapsed Time: 0:05:21 ETA:   0:32:48"
     ]
    },
    {
     "name": "stdout",
     "output_type": "stream",
     "text": [
      "Phases: 53\n"
     ]
    },
    {
     "name": "stderr",
     "output_type": "stream",
     "text": [
      " 20% (56206 of 272760) |###              | Elapsed Time: 0:05:39 ETA:   0:31:55"
     ]
    },
    {
     "name": "stdout",
     "output_type": "stream",
     "text": [
      "Phases: 54\n"
     ]
    },
    {
     "name": "stderr",
     "output_type": "stream",
     "text": [
      " 20% (56884 of 272760) |###              | Elapsed Time: 0:05:43 ETA:   0:33:18"
     ]
    },
    {
     "name": "stdout",
     "output_type": "stream",
     "text": [
      "Phases: 55\n"
     ]
    },
    {
     "name": "stderr",
     "output_type": "stream",
     "text": [
      " 21% (58158 of 272760) |###              | Elapsed Time: 0:05:50 ETA:   0:31:01"
     ]
    },
    {
     "name": "stdout",
     "output_type": "stream",
     "text": [
      "Phases: 56\n"
     ]
    },
    {
     "name": "stderr",
     "output_type": "stream",
     "text": [
      " 21% (58834 of 272760) |###              | Elapsed Time: 0:05:55 ETA:   0:33:56"
     ]
    },
    {
     "name": "stdout",
     "output_type": "stream",
     "text": [
      "Phases: 57\n"
     ]
    },
    {
     "name": "stderr",
     "output_type": "stream",
     "text": [
      " 21% (60004 of 272760) |###              | Elapsed Time: 0:06:02 ETA:   0:31:47"
     ]
    },
    {
     "name": "stdout",
     "output_type": "stream",
     "text": [
      "Phases: 58\n"
     ]
    },
    {
     "name": "stderr",
     "output_type": "stream",
     "text": [
      " 22% (60726 of 272760) |###              | Elapsed Time: 0:06:07 ETA:   0:33:54"
     ]
    },
    {
     "name": "stdout",
     "output_type": "stream",
     "text": [
      "Phases: 59\n"
     ]
    },
    {
     "name": "stderr",
     "output_type": "stream",
     "text": [
      " 22% (61963 of 272760) |###              | Elapsed Time: 0:06:14 ETA:   0:28:05"
     ]
    },
    {
     "name": "stdout",
     "output_type": "stream",
     "text": [
      "Phases: 60\n",
      "Subject 24 windowed. Time elapsed: 0:06:16\n",
      "\n",
      "Swing Onset at sample 8324\n"
     ]
    },
    {
     "name": "stderr",
     "output_type": "stream",
     "text": [
      "  0% (7 of 271037) |                     | Elapsed Time: 0:00:00 ETA:   1:07:07"
     ]
    },
    {
     "name": "stdout",
     "output_type": "stream",
     "text": [
      "Subject 25 rows: 279560\n"
     ]
    },
    {
     "name": "stderr",
     "output_type": "stream",
     "text": [
      "  0% (1588 of 271037) |                  | Elapsed Time: 0:00:08 ETA:   0:40:48"
     ]
    },
    {
     "name": "stdout",
     "output_type": "stream",
     "text": [
      "Phases: 1\n"
     ]
    },
    {
     "name": "stderr",
     "output_type": "stream",
     "text": [
      "  0% (2244 of 271037) |                  | Elapsed Time: 0:00:13 ETA:   0:42:34"
     ]
    },
    {
     "name": "stdout",
     "output_type": "stream",
     "text": [
      "Phases: 2\n"
     ]
    },
    {
     "name": "stderr",
     "output_type": "stream",
     "text": [
      "  1% (3657 of 271037) |                  | Elapsed Time: 0:00:21 ETA:   1:00:34"
     ]
    },
    {
     "name": "stdout",
     "output_type": "stream",
     "text": [
      "Phases: 3\n"
     ]
    },
    {
     "name": "stderr",
     "output_type": "stream",
     "text": [
      "  1% (4292 of 271037) |                  | Elapsed Time: 0:00:26 ETA:   0:47:48"
     ]
    },
    {
     "name": "stdout",
     "output_type": "stream",
     "text": [
      "Phases: 4\n"
     ]
    },
    {
     "name": "stderr",
     "output_type": "stream",
     "text": [
      "  2% (5741 of 271037) |                  | Elapsed Time: 0:00:35 ETA:   0:54:42"
     ]
    },
    {
     "name": "stdout",
     "output_type": "stream",
     "text": [
      "Phases: 5\n"
     ]
    },
    {
     "name": "stderr",
     "output_type": "stream",
     "text": [
      "  2% (6318 of 271037) |                  | Elapsed Time: 0:00:39 ETA:   0:50:17"
     ]
    },
    {
     "name": "stdout",
     "output_type": "stream",
     "text": [
      "Phases: 6\n"
     ]
    },
    {
     "name": "stderr",
     "output_type": "stream",
     "text": [
      "  2% (7922 of 271037) |                  | Elapsed Time: 0:00:48 ETA:   0:46:06"
     ]
    },
    {
     "name": "stdout",
     "output_type": "stream",
     "text": [
      "Phases: 7\n"
     ]
    },
    {
     "name": "stderr",
     "output_type": "stream",
     "text": [
      "  3% (8402 of 271037) |                  | Elapsed Time: 0:00:53 ETA:   0:48:18"
     ]
    },
    {
     "name": "stdout",
     "output_type": "stream",
     "text": [
      "Phases: 8\n"
     ]
    },
    {
     "name": "stderr",
     "output_type": "stream",
     "text": [
      "  3% (9943 of 271037) |                  | Elapsed Time: 0:01:01 ETA:   0:40:20"
     ]
    },
    {
     "name": "stdout",
     "output_type": "stream",
     "text": [
      "Phases: 9\n"
     ]
    },
    {
     "name": "stderr",
     "output_type": "stream",
     "text": [
      "  3% (10518 of 271037) |                 | Elapsed Time: 0:01:05 ETA:   0:43:39"
     ]
    },
    {
     "name": "stdout",
     "output_type": "stream",
     "text": [
      "Phases: 10\n"
     ]
    },
    {
     "name": "stderr",
     "output_type": "stream",
     "text": [
      "  4% (12331 of 271037) |                 | Elapsed Time: 0:01:15 ETA:   0:43:26"
     ]
    },
    {
     "name": "stdout",
     "output_type": "stream",
     "text": [
      "Phases: 11\n"
     ]
    },
    {
     "name": "stderr",
     "output_type": "stream",
     "text": [
      "  4% (12749 of 271037) |                 | Elapsed Time: 0:01:19 ETA:   0:44:48"
     ]
    },
    {
     "name": "stdout",
     "output_type": "stream",
     "text": [
      "Phases: 12\n"
     ]
    },
    {
     "name": "stderr",
     "output_type": "stream",
     "text": [
      "  5% (14116 of 271037) |                 | Elapsed Time: 0:01:26 ETA:   0:41:23"
     ]
    },
    {
     "name": "stdout",
     "output_type": "stream",
     "text": [
      "Phases: 13\n"
     ]
    },
    {
     "name": "stderr",
     "output_type": "stream",
     "text": [
      "  5% (14801 of 271037) |                 | Elapsed Time: 0:01:31 ETA:   0:42:57"
     ]
    },
    {
     "name": "stdout",
     "output_type": "stream",
     "text": [
      "Phases: 14\n"
     ]
    },
    {
     "name": "stderr",
     "output_type": "stream",
     "text": [
      "  6% (16510 of 271037) |#                | Elapsed Time: 0:01:40 ETA:   0:44:00"
     ]
    },
    {
     "name": "stdout",
     "output_type": "stream",
     "text": [
      "Phases: 15\n"
     ]
    },
    {
     "name": "stderr",
     "output_type": "stream",
     "text": [
      "  6% (16862 of 271037) |#                | Elapsed Time: 0:01:44 ETA:   0:44:11"
     ]
    },
    {
     "name": "stdout",
     "output_type": "stream",
     "text": [
      "Phases: 16\n"
     ]
    },
    {
     "name": "stderr",
     "output_type": "stream",
     "text": [
      "  6% (18366 of 271037) |#                | Elapsed Time: 0:01:52 ETA:   0:36:10"
     ]
    },
    {
     "name": "stdout",
     "output_type": "stream",
     "text": [
      "Phases: 17\n"
     ]
    },
    {
     "name": "stderr",
     "output_type": "stream",
     "text": [
      "  6% (18899 of 271037) |#                | Elapsed Time: 0:01:57 ETA:   0:43:14"
     ]
    },
    {
     "name": "stdout",
     "output_type": "stream",
     "text": [
      "Phases: 18\n"
     ]
    },
    {
     "name": "stderr",
     "output_type": "stream",
     "text": [
      "  7% (20388 of 271037) |#                | Elapsed Time: 0:02:05 ETA:   0:40:42"
     ]
    },
    {
     "name": "stdout",
     "output_type": "stream",
     "text": [
      "Phases: 19\n"
     ]
    },
    {
     "name": "stderr",
     "output_type": "stream",
     "text": [
      "  7% (20967 of 271037) |#                | Elapsed Time: 0:02:11 ETA:   1:02:41"
     ]
    },
    {
     "name": "stdout",
     "output_type": "stream",
     "text": [
      "Phases: 20\n"
     ]
    },
    {
     "name": "stderr",
     "output_type": "stream",
     "text": [
      "  8% (22262 of 271037) |#                | Elapsed Time: 0:02:18 ETA:   0:45:13"
     ]
    },
    {
     "name": "stdout",
     "output_type": "stream",
     "text": [
      "Phases: 21\n"
     ]
    },
    {
     "name": "stderr",
     "output_type": "stream",
     "text": [
      "  8% (23151 of 271037) |#                | Elapsed Time: 0:02:24 ETA:   0:36:29"
     ]
    },
    {
     "name": "stdout",
     "output_type": "stream",
     "text": [
      "Phases: 22\n"
     ]
    },
    {
     "name": "stderr",
     "output_type": "stream",
     "text": [
      "  9% (24447 of 271037) |#                | Elapsed Time: 0:02:31 ETA:   0:41:06"
     ]
    },
    {
     "name": "stdout",
     "output_type": "stream",
     "text": [
      "Phases: 23\n"
     ]
    },
    {
     "name": "stderr",
     "output_type": "stream",
     "text": [
      "  9% (25236 of 271037) |#                | Elapsed Time: 0:02:36 ETA:   0:38:53"
     ]
    },
    {
     "name": "stdout",
     "output_type": "stream",
     "text": [
      "Phases: 24\n"
     ]
    },
    {
     "name": "stderr",
     "output_type": "stream",
     "text": [
      "  9% (26610 of 271037) |#                | Elapsed Time: 0:02:44 ETA:   0:39:50"
     ]
    },
    {
     "name": "stdout",
     "output_type": "stream",
     "text": [
      "Phases: 25\n"
     ]
    },
    {
     "name": "stderr",
     "output_type": "stream",
     "text": [
      " 10% (27294 of 271037) |#                | Elapsed Time: 0:02:49 ETA:   0:41:59"
     ]
    },
    {
     "name": "stdout",
     "output_type": "stream",
     "text": [
      "Phases: 26\n"
     ]
    },
    {
     "name": "stderr",
     "output_type": "stream",
     "text": [
      " 10% (28860 of 271037) |#                | Elapsed Time: 0:02:57 ETA:   0:41:42"
     ]
    },
    {
     "name": "stdout",
     "output_type": "stream",
     "text": [
      "Phases: 27\n"
     ]
    },
    {
     "name": "stderr",
     "output_type": "stream",
     "text": [
      " 10% (29350 of 271037) |#                | Elapsed Time: 0:03:02 ETA:   0:37:19"
     ]
    },
    {
     "name": "stdout",
     "output_type": "stream",
     "text": [
      "Phases: 28\n"
     ]
    },
    {
     "name": "stderr",
     "output_type": "stream",
     "text": [
      " 11% (30629 of 271037) |#                | Elapsed Time: 0:03:09 ETA:   0:44:04"
     ]
    },
    {
     "name": "stdout",
     "output_type": "stream",
     "text": [
      "Phases: 29\n"
     ]
    },
    {
     "name": "stderr",
     "output_type": "stream",
     "text": [
      " 11% (31508 of 271037) |#                | Elapsed Time: 0:03:15 ETA:   0:42:37"
     ]
    },
    {
     "name": "stdout",
     "output_type": "stream",
     "text": [
      "Phases: 30\n"
     ]
    },
    {
     "name": "stderr",
     "output_type": "stream",
     "text": [
      " 12% (33000 of 271037) |##               | Elapsed Time: 0:03:23 ETA:   0:41:01"
     ]
    },
    {
     "name": "stdout",
     "output_type": "stream",
     "text": [
      "Phases: 31\n"
     ]
    },
    {
     "name": "stderr",
     "output_type": "stream",
     "text": [
      " 12% (33897 of 271037) |##               | Elapsed Time: 0:03:29 ETA:   0:38:32"
     ]
    },
    {
     "name": "stdout",
     "output_type": "stream",
     "text": [
      "Phases: 32\n"
     ]
    },
    {
     "name": "stderr",
     "output_type": "stream",
     "text": [
      " 13% (35541 of 271037) |##               | Elapsed Time: 0:03:38 ETA:   0:40:56"
     ]
    },
    {
     "name": "stdout",
     "output_type": "stream",
     "text": [
      "Phases: 33\n"
     ]
    },
    {
     "name": "stderr",
     "output_type": "stream",
     "text": [
      " 13% (36131 of 271037) |##               | Elapsed Time: 0:03:43 ETA:   0:38:33"
     ]
    },
    {
     "name": "stdout",
     "output_type": "stream",
     "text": [
      "Phases: 34\n"
     ]
    },
    {
     "name": "stderr",
     "output_type": "stream",
     "text": [
      " 13% (37725 of 271037) |##               | Elapsed Time: 0:03:52 ETA:   0:40:56"
     ]
    },
    {
     "name": "stdout",
     "output_type": "stream",
     "text": [
      "Phases: 35\n"
     ]
    },
    {
     "name": "stderr",
     "output_type": "stream",
     "text": [
      " 14% (38218 of 271037) |##               | Elapsed Time: 0:03:58 ETA:   0:47:16"
     ]
    },
    {
     "name": "stdout",
     "output_type": "stream",
     "text": [
      "Phases: 36\n"
     ]
    },
    {
     "name": "stderr",
     "output_type": "stream",
     "text": [
      " 14% (39745 of 271037) |##               | Elapsed Time: 0:04:07 ETA:   0:41:09"
     ]
    },
    {
     "name": "stdout",
     "output_type": "stream",
     "text": [
      "Phases: 37\n"
     ]
    },
    {
     "name": "stderr",
     "output_type": "stream",
     "text": [
      " 14% (40307 of 271037) |##               | Elapsed Time: 0:04:13 ETA:   1:00:04"
     ]
    },
    {
     "name": "stdout",
     "output_type": "stream",
     "text": [
      "Phases: 38\n"
     ]
    },
    {
     "name": "stderr",
     "output_type": "stream",
     "text": [
      " 15% (41823 of 271037) |##               | Elapsed Time: 0:04:22 ETA:   0:40:33"
     ]
    },
    {
     "name": "stdout",
     "output_type": "stream",
     "text": [
      "Phases: 39\n"
     ]
    },
    {
     "name": "stderr",
     "output_type": "stream",
     "text": [
      " 15% (42412 of 271037) |##               | Elapsed Time: 0:04:26 ETA:   0:37:38"
     ]
    },
    {
     "name": "stdout",
     "output_type": "stream",
     "text": [
      "Phases: 40\n"
     ]
    },
    {
     "name": "stderr",
     "output_type": "stream",
     "text": [
      " 16% (44037 of 271037) |##               | Elapsed Time: 0:04:35 ETA:   0:36:36"
     ]
    },
    {
     "name": "stdout",
     "output_type": "stream",
     "text": [
      "Phases: 41\n"
     ]
    },
    {
     "name": "stderr",
     "output_type": "stream",
     "text": [
      " 16% (44704 of 271037) |##               | Elapsed Time: 0:04:40 ETA:   0:40:46"
     ]
    },
    {
     "name": "stdout",
     "output_type": "stream",
     "text": [
      "Phases: 42\n"
     ]
    },
    {
     "name": "stderr",
     "output_type": "stream",
     "text": [
      " 17% (46157 of 271037) |##               | Elapsed Time: 0:04:48 ETA:   0:37:46"
     ]
    },
    {
     "name": "stdout",
     "output_type": "stream",
     "text": [
      "Phases: 43\n"
     ]
    },
    {
     "name": "stderr",
     "output_type": "stream",
     "text": [
      " 17% (46966 of 271037) |##               | Elapsed Time: 0:04:55 ETA:   0:35:21"
     ]
    },
    {
     "name": "stdout",
     "output_type": "stream",
     "text": [
      "Phases: 44\n"
     ]
    },
    {
     "name": "stderr",
     "output_type": "stream",
     "text": [
      " 17% (48316 of 271037) |###              | Elapsed Time: 0:05:03 ETA:   0:40:21"
     ]
    },
    {
     "name": "stdout",
     "output_type": "stream",
     "text": [
      "Phases: 45\n"
     ]
    },
    {
     "name": "stderr",
     "output_type": "stream",
     "text": [
      " 18% (49026 of 271037) |###              | Elapsed Time: 0:05:08 ETA:   0:38:34"
     ]
    },
    {
     "name": "stdout",
     "output_type": "stream",
     "text": [
      "Phases: 46\n"
     ]
    },
    {
     "name": "stderr",
     "output_type": "stream",
     "text": [
      " 18% (50740 of 271037) |###              | Elapsed Time: 0:05:17 ETA:   0:36:39"
     ]
    },
    {
     "name": "stdout",
     "output_type": "stream",
     "text": [
      "Phases: 47\n"
     ]
    },
    {
     "name": "stderr",
     "output_type": "stream",
     "text": [
      " 18% (51100 of 271037) |###              | Elapsed Time: 0:05:21 ETA:   0:37:08"
     ]
    },
    {
     "name": "stdout",
     "output_type": "stream",
     "text": [
      "Phases: 48\n"
     ]
    },
    {
     "name": "stderr",
     "output_type": "stream",
     "text": [
      " 19% (52433 of 271037) |###              | Elapsed Time: 0:05:29 ETA:   0:33:35"
     ]
    },
    {
     "name": "stdout",
     "output_type": "stream",
     "text": [
      "Phases: 49\n"
     ]
    },
    {
     "name": "stderr",
     "output_type": "stream",
     "text": [
      " 19% (53176 of 271037) |###              | Elapsed Time: 0:05:34 ETA:   0:37:54"
     ]
    },
    {
     "name": "stdout",
     "output_type": "stream",
     "text": [
      "Phases: 50\n"
     ]
    },
    {
     "name": "stderr",
     "output_type": "stream",
     "text": [
      " 20% (54836 of 271037) |###              | Elapsed Time: 0:05:42 ETA:   0:34:17"
     ]
    },
    {
     "name": "stdout",
     "output_type": "stream",
     "text": [
      "Phases: 51\n"
     ]
    },
    {
     "name": "stderr",
     "output_type": "stream",
     "text": [
      " 20% (55348 of 271037) |###              | Elapsed Time: 0:05:47 ETA:   0:33:48"
     ]
    },
    {
     "name": "stdout",
     "output_type": "stream",
     "text": [
      "Phases: 52\n"
     ]
    },
    {
     "name": "stderr",
     "output_type": "stream",
     "text": [
      " 20% (56784 of 271037) |###              | Elapsed Time: 0:05:55 ETA:   0:32:56"
     ]
    },
    {
     "name": "stdout",
     "output_type": "stream",
     "text": [
      "Phases: 53\n"
     ]
    },
    {
     "name": "stderr",
     "output_type": "stream",
     "text": [
      " 21% (57343 of 271037) |###              | Elapsed Time: 0:05:59 ETA:   0:34:44"
     ]
    },
    {
     "name": "stdout",
     "output_type": "stream",
     "text": [
      "Phases: 54\n"
     ]
    },
    {
     "name": "stderr",
     "output_type": "stream",
     "text": [
      " 21% (59143 of 271037) |###              | Elapsed Time: 0:06:09 ETA:   0:32:39"
     ]
    },
    {
     "name": "stdout",
     "output_type": "stream",
     "text": [
      "Phases: 55\n"
     ]
    },
    {
     "name": "stderr",
     "output_type": "stream",
     "text": [
      " 21% (59601 of 271037) |###              | Elapsed Time: 0:06:12 ETA:   0:31:55"
     ]
    },
    {
     "name": "stdout",
     "output_type": "stream",
     "text": [
      "Phases: 56\n"
     ]
    },
    {
     "name": "stderr",
     "output_type": "stream",
     "text": [
      " 22% (61254 of 271037) |###              | Elapsed Time: 0:06:22 ETA:   0:38:07"
     ]
    },
    {
     "name": "stdout",
     "output_type": "stream",
     "text": [
      "Phases: 57\n"
     ]
    },
    {
     "name": "stderr",
     "output_type": "stream",
     "text": [
      " 22% (61642 of 271037) |###              | Elapsed Time: 0:06:25 ETA:   0:33:49"
     ]
    },
    {
     "name": "stdout",
     "output_type": "stream",
     "text": [
      "Phases: 58\n"
     ]
    },
    {
     "name": "stderr",
     "output_type": "stream",
     "text": [
      " 23% (63127 of 271037) |###              | Elapsed Time: 0:06:33 ETA:   0:32:37"
     ]
    },
    {
     "name": "stdout",
     "output_type": "stream",
     "text": [
      "Phases: 59\n"
     ]
    },
    {
     "name": "stderr",
     "output_type": "stream",
     "text": [
      " 23% (63745 of 271037) |###              | Elapsed Time: 0:06:38 ETA:   0:27:01"
     ]
    },
    {
     "name": "stdout",
     "output_type": "stream",
     "text": [
      "Phases: 60\n",
      "Subject 25 windowed. Time elapsed: 0:06:40\n",
      "\n",
      "Swing Onset at sample 7683\n"
     ]
    },
    {
     "name": "stderr",
     "output_type": "stream",
     "text": [
      "  0% (26 of 271678) |                    | Elapsed Time: 0:00:00 ETA:   0:18:03"
     ]
    },
    {
     "name": "stdout",
     "output_type": "stream",
     "text": [
      "Subject 26 rows: 279560\n"
     ]
    },
    {
     "name": "stderr",
     "output_type": "stream",
     "text": [
      "  0% (676 of 271678) |                   | Elapsed Time: 0:00:04 ETA:   0:41:50"
     ]
    },
    {
     "name": "stdout",
     "output_type": "stream",
     "text": [
      "Phases: 1\n"
     ]
    },
    {
     "name": "stderr",
     "output_type": "stream",
     "text": [
      "  0% (2087 of 271678) |                  | Elapsed Time: 0:00:11 ETA:   0:47:40"
     ]
    },
    {
     "name": "stdout",
     "output_type": "stream",
     "text": [
      "Phases: 2\n"
     ]
    },
    {
     "name": "stderr",
     "output_type": "stream",
     "text": [
      "  1% (2980 of 271678) |                  | Elapsed Time: 0:00:18 ETA:   0:44:09"
     ]
    },
    {
     "name": "stdout",
     "output_type": "stream",
     "text": [
      "Phases: 3\n"
     ]
    },
    {
     "name": "stderr",
     "output_type": "stream",
     "text": [
      "  1% (4186 of 271678) |                  | Elapsed Time: 0:00:25 ETA:   0:45:08"
     ]
    },
    {
     "name": "stdout",
     "output_type": "stream",
     "text": [
      "Phases: 4\n"
     ]
    },
    {
     "name": "stderr",
     "output_type": "stream",
     "text": [
      "  1% (5039 of 271678) |                  | Elapsed Time: 0:00:30 ETA:   0:40:37"
     ]
    },
    {
     "name": "stdout",
     "output_type": "stream",
     "text": [
      "Phases: 5\n"
     ]
    },
    {
     "name": "stderr",
     "output_type": "stream",
     "text": [
      "  2% (6228 of 271678) |                  | Elapsed Time: 0:00:37 ETA:   0:39:42"
     ]
    },
    {
     "name": "stdout",
     "output_type": "stream",
     "text": [
      "Phases: 6\n"
     ]
    },
    {
     "name": "stderr",
     "output_type": "stream",
     "text": [
      "  2% (7061 of 271678) |                  | Elapsed Time: 0:00:42 ETA:   0:39:49"
     ]
    },
    {
     "name": "stdout",
     "output_type": "stream",
     "text": [
      "Phases: 7\n"
     ]
    },
    {
     "name": "stderr",
     "output_type": "stream",
     "text": [
      "  3% (8239 of 271678) |                  | Elapsed Time: 0:00:49 ETA:   0:41:06"
     ]
    },
    {
     "name": "stdout",
     "output_type": "stream",
     "text": [
      "Phases: 8\n"
     ]
    },
    {
     "name": "stderr",
     "output_type": "stream",
     "text": [
      "  3% (9079 of 271678) |                  | Elapsed Time: 0:00:55 ETA:   0:39:31"
     ]
    },
    {
     "name": "stdout",
     "output_type": "stream",
     "text": [
      "Phases: 9\n"
     ]
    },
    {
     "name": "stderr",
     "output_type": "stream",
     "text": [
      "  3% (10251 of 271678) |                 | Elapsed Time: 0:01:01 ETA:   0:41:18"
     ]
    },
    {
     "name": "stdout",
     "output_type": "stream",
     "text": [
      "Phases: 10\n"
     ]
    },
    {
     "name": "stderr",
     "output_type": "stream",
     "text": [
      "  4% (11093 of 271678) |                 | Elapsed Time: 0:01:07 ETA:   0:40:32"
     ]
    },
    {
     "name": "stdout",
     "output_type": "stream",
     "text": [
      "Phases: 11\n"
     ]
    },
    {
     "name": "stderr",
     "output_type": "stream",
     "text": [
      "  4% (12259 of 271678) |                 | Elapsed Time: 0:01:13 ETA:   0:44:18"
     ]
    },
    {
     "name": "stdout",
     "output_type": "stream",
     "text": [
      "Phases: 12\n"
     ]
    },
    {
     "name": "stderr",
     "output_type": "stream",
     "text": [
      "  4% (13119 of 271678) |                 | Elapsed Time: 0:01:19 ETA:   0:43:04"
     ]
    },
    {
     "name": "stdout",
     "output_type": "stream",
     "text": [
      "Phases: 13\n"
     ]
    },
    {
     "name": "stderr",
     "output_type": "stream",
     "text": [
      "  5% (14277 of 271678) |                 | Elapsed Time: 0:01:26 ETA:   0:39:38"
     ]
    },
    {
     "name": "stdout",
     "output_type": "stream",
     "text": [
      "Phases: 14\n"
     ]
    },
    {
     "name": "stderr",
     "output_type": "stream",
     "text": [
      "  5% (15162 of 271678) |                 | Elapsed Time: 0:01:32 ETA:   0:47:00"
     ]
    },
    {
     "name": "stdout",
     "output_type": "stream",
     "text": [
      "Phases: 15\n"
     ]
    },
    {
     "name": "stderr",
     "output_type": "stream",
     "text": [
      "  6% (16365 of 271678) |#                | Elapsed Time: 0:01:39 ETA:   0:58:42"
     ]
    },
    {
     "name": "stdout",
     "output_type": "stream",
     "text": [
      "Phases: 16\n"
     ]
    },
    {
     "name": "stderr",
     "output_type": "stream",
     "text": [
      "  6% (17151 of 271678) |#                | Elapsed Time: 0:01:46 ETA:   1:15:37"
     ]
    },
    {
     "name": "stdout",
     "output_type": "stream",
     "text": [
      "Phases: 17\n"
     ]
    },
    {
     "name": "stderr",
     "output_type": "stream",
     "text": [
      "  6% (18458 of 271678) |#                | Elapsed Time: 0:01:56 ETA:   1:25:19"
     ]
    },
    {
     "name": "stdout",
     "output_type": "stream",
     "text": [
      "Phases: 18\n"
     ]
    },
    {
     "name": "stderr",
     "output_type": "stream",
     "text": [
      "  7% (19259 of 271678) |#                | Elapsed Time: 0:02:03 ETA:   1:06:04"
     ]
    },
    {
     "name": "stdout",
     "output_type": "stream",
     "text": [
      "Phases: 19\n"
     ]
    },
    {
     "name": "stderr",
     "output_type": "stream",
     "text": [
      "  7% (20583 of 271678) |#                | Elapsed Time: 0:02:11 ETA:   0:43:37"
     ]
    },
    {
     "name": "stdout",
     "output_type": "stream",
     "text": [
      "Phases: 20\n"
     ]
    },
    {
     "name": "stderr",
     "output_type": "stream",
     "text": [
      "  7% (21639 of 271678) |#                | Elapsed Time: 0:02:19 ETA:   1:10:01"
     ]
    },
    {
     "name": "stdout",
     "output_type": "stream",
     "text": [
      "Phases: 21\n"
     ]
    },
    {
     "name": "stderr",
     "output_type": "stream",
     "text": [
      "  8% (23126 of 271678) |#                | Elapsed Time: 0:02:31 ETA:   1:40:24"
     ]
    },
    {
     "name": "stdout",
     "output_type": "stream",
     "text": [
      "Phases: 22\n"
     ]
    },
    {
     "name": "stderr",
     "output_type": "stream",
     "text": [
      "  8% (24012 of 271678) |#                | Elapsed Time: 0:02:39 ETA:   1:06:44"
     ]
    },
    {
     "name": "stdout",
     "output_type": "stream",
     "text": [
      "Phases: 23\n"
     ]
    },
    {
     "name": "stderr",
     "output_type": "stream",
     "text": [
      "  9% (25231 of 271678) |#                | Elapsed Time: 0:02:47 ETA:   0:54:25"
     ]
    },
    {
     "name": "stdout",
     "output_type": "stream",
     "text": [
      "Phases: 24\n"
     ]
    },
    {
     "name": "stderr",
     "output_type": "stream",
     "text": [
      "  9% (26108 of 271678) |#                | Elapsed Time: 0:02:53 ETA:   0:51:40"
     ]
    },
    {
     "name": "stdout",
     "output_type": "stream",
     "text": [
      "Phases: 25\n"
     ]
    },
    {
     "name": "stderr",
     "output_type": "stream",
     "text": [
      " 10% (27342 of 271678) |#                | Elapsed Time: 0:03:02 ETA:   0:45:11"
     ]
    },
    {
     "name": "stdout",
     "output_type": "stream",
     "text": [
      "Phases: 26\n"
     ]
    },
    {
     "name": "stderr",
     "output_type": "stream",
     "text": [
      " 10% (28182 of 271678) |#                | Elapsed Time: 0:03:07 ETA:   0:38:08"
     ]
    },
    {
     "name": "stdout",
     "output_type": "stream",
     "text": [
      "Phases: 27\n"
     ]
    },
    {
     "name": "stderr",
     "output_type": "stream",
     "text": [
      " 10% (29393 of 271678) |#                | Elapsed Time: 0:03:14 ETA:   0:37:40"
     ]
    },
    {
     "name": "stdout",
     "output_type": "stream",
     "text": [
      "Phases: 28\n"
     ]
    },
    {
     "name": "stderr",
     "output_type": "stream",
     "text": [
      " 11% (30214 of 271678) |#                | Elapsed Time: 0:03:19 ETA:   0:36:54"
     ]
    },
    {
     "name": "stdout",
     "output_type": "stream",
     "text": [
      "Phases: 29\n"
     ]
    },
    {
     "name": "stderr",
     "output_type": "stream",
     "text": [
      " 11% (31439 of 271678) |#                | Elapsed Time: 0:03:27 ETA:   0:42:21"
     ]
    },
    {
     "name": "stdout",
     "output_type": "stream",
     "text": [
      "Phases: 30\n"
     ]
    },
    {
     "name": "stderr",
     "output_type": "stream",
     "text": [
      " 11% (32311 of 271678) |##               | Elapsed Time: 0:03:32 ETA:   0:45:55"
     ]
    },
    {
     "name": "stdout",
     "output_type": "stream",
     "text": [
      "Phases: 31\n"
     ]
    },
    {
     "name": "stderr",
     "output_type": "stream",
     "text": [
      " 12% (33577 of 271678) |##               | Elapsed Time: 0:03:40 ETA:   0:43:54"
     ]
    },
    {
     "name": "stdout",
     "output_type": "stream",
     "text": [
      "Phases: 32\n"
     ]
    },
    {
     "name": "stderr",
     "output_type": "stream",
     "text": [
      " 12% (34440 of 271678) |##               | Elapsed Time: 0:03:46 ETA:   0:35:29"
     ]
    },
    {
     "name": "stdout",
     "output_type": "stream",
     "text": [
      "Phases: 33\n"
     ]
    },
    {
     "name": "stderr",
     "output_type": "stream",
     "text": [
      " 13% (35663 of 271678) |##               | Elapsed Time: 0:03:53 ETA:   0:40:18"
     ]
    },
    {
     "name": "stdout",
     "output_type": "stream",
     "text": [
      "Phases: 34\n"
     ]
    },
    {
     "name": "stderr",
     "output_type": "stream",
     "text": [
      " 13% (36523 of 271678) |##               | Elapsed Time: 0:04:00 ETA:   0:35:07"
     ]
    },
    {
     "name": "stdout",
     "output_type": "stream",
     "text": [
      "Phases: 35\n"
     ]
    },
    {
     "name": "stderr",
     "output_type": "stream",
     "text": [
      " 13% (37799 of 271678) |##               | Elapsed Time: 0:04:07 ETA:   0:42:55"
     ]
    },
    {
     "name": "stdout",
     "output_type": "stream",
     "text": [
      "Phases: 36\n"
     ]
    },
    {
     "name": "stderr",
     "output_type": "stream",
     "text": [
      " 14% (38635 of 271678) |##               | Elapsed Time: 0:04:15 ETA:   1:26:02"
     ]
    },
    {
     "name": "stdout",
     "output_type": "stream",
     "text": [
      "Phases: 37\n"
     ]
    },
    {
     "name": "stderr",
     "output_type": "stream",
     "text": [
      " 14% (39937 of 271678) |##               | Elapsed Time: 0:04:26 ETA:   1:18:51"
     ]
    },
    {
     "name": "stdout",
     "output_type": "stream",
     "text": [
      "Phases: 38\n"
     ]
    },
    {
     "name": "stderr",
     "output_type": "stream",
     "text": [
      " 15% (40845 of 271678) |##               | Elapsed Time: 0:04:34 ETA:   1:14:44"
     ]
    },
    {
     "name": "stdout",
     "output_type": "stream",
     "text": [
      "Phases: 39\n"
     ]
    },
    {
     "name": "stderr",
     "output_type": "stream",
     "text": [
      " 15% (42416 of 271678) |##               | Elapsed Time: 0:04:43 ETA:   0:42:28"
     ]
    },
    {
     "name": "stdout",
     "output_type": "stream",
     "text": [
      "Phases: 40\n"
     ]
    },
    {
     "name": "stderr",
     "output_type": "stream",
     "text": [
      " 15% (42864 of 271678) |##               | Elapsed Time: 0:04:47 ETA:   0:35:46"
     ]
    },
    {
     "name": "stdout",
     "output_type": "stream",
     "text": [
      "Phases: 41\n"
     ]
    },
    {
     "name": "stderr",
     "output_type": "stream",
     "text": [
      " 16% (44994 of 271678) |##               | Elapsed Time: 0:04:58 ETA:   0:38:59"
     ]
    },
    {
     "name": "stdout",
     "output_type": "stream",
     "text": [
      "Phases: 42\n"
     ]
    },
    {
     "name": "stderr",
     "output_type": "stream",
     "text": [
      " 16% (46040 of 271678) |##               | Elapsed Time: 0:05:05 ETA:   0:38:46"
     ]
    },
    {
     "name": "stdout",
     "output_type": "stream",
     "text": [
      "Phases: 43\n"
     ]
    },
    {
     "name": "stderr",
     "output_type": "stream",
     "text": [
      " 17% (47460 of 271678) |##               | Elapsed Time: 0:05:13 ETA:   0:37:08"
     ]
    },
    {
     "name": "stdout",
     "output_type": "stream",
     "text": [
      "Phases: 44\n"
     ]
    },
    {
     "name": "stderr",
     "output_type": "stream",
     "text": [
      " 17% (48384 of 271678) |###              | Elapsed Time: 0:05:19 ETA:   0:36:39"
     ]
    },
    {
     "name": "stdout",
     "output_type": "stream",
     "text": [
      "Phases: 45\n"
     ]
    },
    {
     "name": "stderr",
     "output_type": "stream",
     "text": [
      " 18% (49588 of 271678) |###              | Elapsed Time: 0:05:26 ETA:   0:40:34"
     ]
    },
    {
     "name": "stdout",
     "output_type": "stream",
     "text": [
      "Phases: 46\n"
     ]
    },
    {
     "name": "stderr",
     "output_type": "stream",
     "text": [
      " 18% (50433 of 271678) |###              | Elapsed Time: 0:05:32 ETA:   0:39:36"
     ]
    },
    {
     "name": "stdout",
     "output_type": "stream",
     "text": [
      "Phases: 47\n"
     ]
    },
    {
     "name": "stderr",
     "output_type": "stream",
     "text": [
      " 18% (51585 of 271678) |###              | Elapsed Time: 0:05:39 ETA:   0:32:39"
     ]
    },
    {
     "name": "stdout",
     "output_type": "stream",
     "text": [
      "Phases: 48\n"
     ]
    },
    {
     "name": "stderr",
     "output_type": "stream",
     "text": [
      " 19% (52467 of 271678) |###              | Elapsed Time: 0:05:44 ETA:   0:34:37"
     ]
    },
    {
     "name": "stdout",
     "output_type": "stream",
     "text": [
      "Phases: 49\n"
     ]
    },
    {
     "name": "stderr",
     "output_type": "stream",
     "text": [
      " 19% (53657 of 271678) |###              | Elapsed Time: 0:05:51 ETA:   0:34:23"
     ]
    },
    {
     "name": "stdout",
     "output_type": "stream",
     "text": [
      "Phases: 50\n"
     ]
    },
    {
     "name": "stderr",
     "output_type": "stream",
     "text": [
      " 20% (54538 of 271678) |###              | Elapsed Time: 0:05:57 ETA:   0:37:23"
     ]
    },
    {
     "name": "stdout",
     "output_type": "stream",
     "text": [
      "Phases: 51\n"
     ]
    },
    {
     "name": "stderr",
     "output_type": "stream",
     "text": [
      " 20% (55775 of 271678) |###              | Elapsed Time: 0:06:04 ETA:   0:39:51"
     ]
    },
    {
     "name": "stdout",
     "output_type": "stream",
     "text": [
      "Phases: 52\n"
     ]
    },
    {
     "name": "stderr",
     "output_type": "stream",
     "text": [
      " 20% (56625 of 271678) |###              | Elapsed Time: 0:06:10 ETA:   0:35:37"
     ]
    },
    {
     "name": "stdout",
     "output_type": "stream",
     "text": [
      "Phases: 53\n"
     ]
    },
    {
     "name": "stderr",
     "output_type": "stream",
     "text": [
      " 21% (57824 of 271678) |###              | Elapsed Time: 0:06:17 ETA:   0:34:39"
     ]
    },
    {
     "name": "stdout",
     "output_type": "stream",
     "text": [
      "Phases: 54\n"
     ]
    },
    {
     "name": "stderr",
     "output_type": "stream",
     "text": [
      " 21% (58713 of 271678) |###              | Elapsed Time: 0:06:23 ETA:   0:32:51"
     ]
    },
    {
     "name": "stdout",
     "output_type": "stream",
     "text": [
      "Phases: 55\n"
     ]
    },
    {
     "name": "stderr",
     "output_type": "stream",
     "text": [
      " 22% (59972 of 271678) |###              | Elapsed Time: 0:06:30 ETA:   0:40:29"
     ]
    },
    {
     "name": "stdout",
     "output_type": "stream",
     "text": [
      "Phases: 56\n"
     ]
    },
    {
     "name": "stderr",
     "output_type": "stream",
     "text": [
      " 22% (60855 of 271678) |###              | Elapsed Time: 0:06:39 ETA:   0:54:03"
     ]
    },
    {
     "name": "stdout",
     "output_type": "stream",
     "text": [
      "Phases: 57\n"
     ]
    },
    {
     "name": "stderr",
     "output_type": "stream",
     "text": [
      " 22% (62069 of 271678) |###              | Elapsed Time: 0:06:46 ETA:   0:42:27"
     ]
    },
    {
     "name": "stdout",
     "output_type": "stream",
     "text": [
      "Phases: 58\n"
     ]
    },
    {
     "name": "stderr",
     "output_type": "stream",
     "text": [
      " 23% (62883 of 271678) |###              | Elapsed Time: 0:06:52 ETA:   0:37:24"
     ]
    },
    {
     "name": "stdout",
     "output_type": "stream",
     "text": [
      "Phases: 59\n"
     ]
    },
    {
     "name": "stderr",
     "output_type": "stream",
     "text": [
      " 23% (64113 of 271678) |####             | Elapsed Time: 0:07:00 ETA:   0:33:06"
     ]
    },
    {
     "name": "stdout",
     "output_type": "stream",
     "text": [
      "Phases: 60\n",
      "Subject 26 windowed. Time elapsed: 0:07:02\n",
      "\n"
     ]
    }
   ],
   "source": [
    "## Ogni .csv è strutturato in questo modo:\n",
    "    # n x (12 + 4)\n",
    "    # [f1, f2, ..., f12, l0, l1, l2, l3]\n",
    "# dove f_i sono le features, mentre li sono le labels; n è il numero di righe, cioè di samples.\n",
    "    # l0 = BASO LEFT 2 LIVELLI\n",
    "    # l1 = BASO LEFT 4 LIVELLI\n",
    "    # l2 = BASO RIGHT 2 LIVELLI\n",
    "    # l3 = BASO RIGHT 4 LIVELLI\n",
    "\n",
    "import csv\n",
    "import statistics\n",
    "from statistics import mode \n",
    "import pandas as pd\n",
    "import os\n",
    "import datetime\n",
    "import time    # Per capire quanto tempo ci mette \n",
    "import progressbar\n",
    "\n",
    "sliding = True\n",
    "sliding_pace = 1\n",
    "predict_central_sample = False\n",
    "\n",
    "discard_transitions = True # Devo eliminare le finestre che contengono le transizioni\n",
    "discarded_windows = 0\n",
    "th = 1\n",
    "\n",
    "window_size = 200\n",
    "features_number = 10 # Tutto tranne il basografico\n",
    "label = 0    # Label da selezionare -> Se il .csv ne contiene una sola, label = 0\n",
    "label_count = 1    # Questa variabile serve per fargli capire fino a che riga deve prendere le features\n",
    "                   # Deve essere uguale al numero di labels presenti nel file .csv originale\n",
    "                   # Se ne hai 4 totali, allora devi eliminare dal computo delle features 4 labels\n",
    "label_column = 10    # Colonna da cui estrarre la feature - serve per calcolare il primo swing\n",
    "# row_count = 486600\n",
    "\n",
    "start = 1    # Subject from which the count starts\n",
    "end = 26    # Subject at which the count ends \n",
    "\n",
    "strides_limit = 30  #If set to -1 no limit, otherwise stop after processing N strides\n",
    "\n",
    "floating_point_precision = 3\n",
    "\n",
    "in_path = \"../subjects/min-max/\"\n",
    "#out_path = \"../subjects/min-max/windows_\" + str(window_size) +\"/tr-\" + str(discard_transitions) + \"_sliding_\" + str(sliding_pace) + \"_c-\" + str(predict_central_sample) + \"/\"\n",
    "out_path = \"../subjects/min-max/windows_\" + str(window_size) + \"-d-\" + str(floating_point_precision) + \"-tr-\" + str(discard_transitions) + \"-sl-\" + str(sliding)\n",
    "if sliding:\n",
    "    out_path += \"-pace-\" + str(sliding_pace) \n",
    "out_path += \"/\"\n",
    "out_path_discarded = out_path + \"discarded/\"\n",
    "prefix = 'Biphase_Subject'\n",
    "suffix = '_norm'\n",
    "out_suffix = '_norm_windows_'\n",
    "\n",
    "#create folders if not existing...\n",
    "if not os.path.exists(out_path):\n",
    "    os.makedirs(out_path)\n",
    "if not os.path.exists(out_path_discarded):\n",
    "    os.makedirs(out_path_discarded)\n",
    "\n",
    "for subj in range(start, end + 1):\n",
    "    \n",
    "    current_phase = -1\n",
    "    tot_phases = 0\n",
    "    \n",
    "    start_time = time.time()\n",
    "    #count rows in file\n",
    "    with open(in_path + prefix + str(subj) + suffix + '.csv') as csv_file:\n",
    "        csv_reader = csv.reader(csv_file, delimiter=',')\n",
    "        row_count = sum(1 for row in csv_reader)\n",
    "        \n",
    "    ## -- To find the first Swing\n",
    "    # Serve per far partire tutti i soggetti (e le finestre) dal primo swing registrato\n",
    "    csv_swing = []\n",
    "    found = False    # Flag per stoppare il ciclo quando trova il primo Swing\n",
    "    with open(in_path + prefix + str(subj) + suffix + '.csv') as csv_file:\n",
    "        csv_reader = csv.reader(csv_file, delimiter=',')\n",
    "        swing_onset = 0\n",
    "        for line in csv_reader: \n",
    "            if not found:\n",
    "                csv_swing.append(line)\n",
    "                swing_onset += 1\n",
    "                if line[label_column] == '1.000000':\n",
    "                    found = True\n",
    "    print('Swing Onset at sample ' + str(swing_onset))\n",
    "    \n",
    "    csv_in = []\n",
    "    with open(in_path + prefix + str(subj) + suffix + '.csv') as csv_file:\n",
    "        csv_reader = csv.reader(csv_file, delimiter=',')\n",
    "        for line in csv_reader: \n",
    "            csv_in.append(line)\n",
    "    \n",
    "    with open(out_path + prefix + str(subj) + out_suffix + str(window_size) + '.csv', mode='w') as csv_out_file:\n",
    "        with open(out_path_discarded + prefix + str(subj) + out_suffix + str(window_size) + '.txt', mode='w') as discarded_file:\n",
    "            csv_writer = csv.writer(csv_out_file, delimiter=',')\n",
    "\n",
    "            print(\"Subject \" + str(subj) + \" rows: \" + str(row_count))\n",
    "\n",
    "            discarded_windows = 0\n",
    "\n",
    "            if sliding:\n",
    "                pace = sliding_pace    \n",
    "                limit = row_count-window_size    # Questo serve per non superare i limiti del for \n",
    "            else:\n",
    "                pace = window_size\n",
    "                limit = row_count-window_size\n",
    "                \n",
    "            for k in progressbar.progressbar(range(swing_onset - 1, limit, pace)):    # Qui tira fuori la progressbar, per renderti conto di come cicla e di quanto tempo ci mette\n",
    "                #time.sleep(0.0001)    # Troppo grande rallenta il for!\n",
    "                window_rows = []\n",
    "                for i in range(k, k + window_size):\n",
    "                    window_rows.append(csv_in[i])\n",
    "                window_rows = pd.DataFrame(window_rows).astype(float)\n",
    "                bsx = window_rows[features_number + label]    \n",
    "                if predict_central_sample:\n",
    "                    m = bsx[int(len(bsx)/2)]\n",
    "                else:\n",
    "                    m = bsx.mode()[0]\n",
    "                    \n",
    "                if current_phase == -1:\n",
    "                    current_phase = m\n",
    "                if m != current_phase:\n",
    "                    tot_phases += 1\n",
    "                    current_phase = m\n",
    "                    print(\"Phases: \" + str(tot_phases))\n",
    "                    if strides_limit != -1 and tot_phases/2 >= strides_limit:\n",
    "                        break\n",
    "                \n",
    "                occ = len(window_rows[window_rows[features_number + label] == float(m)])    # Occorrenza della label nella finestra\n",
    "               \n",
    "                if not discard_transitions or occ/window_size >= th:       # Qua dobbiamo capire come scartarle le finestre (cioè che threshold usare!)\n",
    "                    single_row_window = window_rows.iloc[:, :-label_count].values.reshape(1,-label_count).flatten().tolist()\n",
    "                    single_row_window = [ round(elem, floating_point_precision) for elem in single_row_window ]\n",
    "                    single_row_window.append(int(m))\n",
    "                    csv_writer.writerow(single_row_window)\n",
    "                else:\n",
    "                    discarded_windows += 1\n",
    "                    discarded_file.write(\"Window starting at row \" + str(k) + \"\\n\")\n",
    "                    discarded_file.write(str(window_rows) + \"\\n\\n\\n\")\n",
    "                    #print(\"Discarded windows: \" + str(discarded_windows))\n",
    "            end_time = time.time()        \n",
    "            time_tot = int(end_time - start_time)\n",
    "            print('Subject ' + str(subj) + ' windowed. Time elapsed: ' + str(datetime.timedelta(seconds=time_tot)) + '\\n')"
   ]
  },
  {
   "cell_type": "code",
   "execution_count": 7,
   "metadata": {},
   "outputs": [
    {
     "data": {
      "text/plain": [
       "160"
      ]
     },
     "execution_count": 7,
     "metadata": {},
     "output_type": "execute_result"
    }
   ],
   "source": [
    "swing_on = 33\n",
    "row = 204\n",
    "windows_size = 20\n",
    "\n",
    "actual = row - swing_on\n",
    "actual\n",
    "delta = actual%windows_size\n",
    "\n",
    "actual-delta"
   ]
  }
 ],
 "metadata": {
  "kernelspec": {
   "display_name": "Python 3",
   "language": "python",
   "name": "python3"
  },
  "language_info": {
   "codemirror_mode": {
    "name": "ipython",
    "version": 3
   },
   "file_extension": ".py",
   "mimetype": "text/x-python",
   "name": "python",
   "nbconvert_exporter": "python",
   "pygments_lexer": "ipython3",
   "version": "3.6.8"
  }
 },
 "nbformat": 4,
 "nbformat_minor": 2
}
