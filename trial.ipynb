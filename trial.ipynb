{
 "cells": [
  {
   "cell_type": "code",
   "execution_count": 22,
   "metadata": {},
   "outputs": [
    {
     "data": {
      "text/plain": [
       "{'epoch': 33,\n",
       " 'state_dict': OrderedDict([('l1.weight',\n",
       "               tensor([[-0.0006,  0.0348, -0.0533,  ..., -0.0457, -0.0274,  0.0190],\n",
       "                       [ 0.0187,  0.0461, -0.0222,  ...,  0.0254, -0.0380,  0.0276],\n",
       "                       [-0.0458,  0.0075, -0.0417,  ...,  0.0439,  0.0346,  0.0912],\n",
       "                       ...,\n",
       "                       [ 0.0372,  0.0974,  0.0642,  ...,  0.0506,  0.0460,  0.0220],\n",
       "                       [ 0.0936, -0.0914, -0.0247,  ..., -0.0665,  0.1310, -0.1082],\n",
       "                       [ 0.0524,  0.0575, -0.0082,  ..., -0.0559,  0.0638,  0.0063]])),\n",
       "              ('l1.bias',\n",
       "               tensor([ 0.0131, -0.0139, -0.0439,  0.0523,  0.0281, -0.0503,  0.0065,  0.3298,\n",
       "                       -0.0637,  0.0021,  0.0215,  0.0204,  0.0825,  0.4252, -0.0434, -0.0905,\n",
       "                       -0.1532,  0.1762,  0.0867, -0.0313, -0.0431, -0.1326, -0.0926, -0.1275,\n",
       "                       -0.2443, -0.0156, -0.0580, -0.0081, -0.1033, -0.0612,  0.5475, -0.0441])),\n",
       "              ('l2.weight',\n",
       "               tensor([[-0.1702,  0.0081, -0.4167,  0.2313, -0.0372, -0.0186, -0.2260,  0.8556,\n",
       "                        -0.3249, -0.0852, -0.0482, -0.0619,  0.2404,  0.9394,  0.1458, -0.5235,\n",
       "                        -0.8909,  0.2960,  0.2802, -0.1475, -0.0802, -0.5014, -0.3608, -0.6761,\n",
       "                        -1.3502, -0.0283, -0.3217,  0.0101, -0.2587, -0.3424,  1.2784, -0.0508]])),\n",
       "              ('l2.bias', tensor([0.3615]))]),\n",
       " 'best_acc_dev': 95.898}"
      ]
     },
     "execution_count": 22,
     "metadata": {},
     "output_type": "execute_result"
    }
   ],
   "source": [
    "import torch\n",
    "\n",
    "cwd = './min-max/windows_20/tr-True_sliding_20_c-False/folds/subject7/Report_FF/'\n",
    "modello = cwd + 'F8best.pth.tar'\n",
    "\n",
    "model = torch.load(modello)\n",
    "\n",
    "model"
   ]
  }
 ],
 "metadata": {
  "kernelspec": {
   "display_name": "Python 3",
   "language": "python",
   "name": "python3"
  },
  "language_info": {
   "codemirror_mode": {
    "name": "ipython",
    "version": 3
   },
   "file_extension": ".py",
   "mimetype": "text/x-python",
   "name": "python",
   "nbconvert_exporter": "python",
   "pygments_lexer": "ipython3",
   "version": "3.7.3"
  }
 },
 "nbformat": 4,
 "nbformat_minor": 2
}
