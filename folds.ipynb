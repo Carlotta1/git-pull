{
 "cells": [
  {
   "cell_type": "code",
   "execution_count": null,
   "metadata": {},
   "outputs": [],
   "source": [
    "import csv\n",
    "import os\n",
    "from random import shuffle\n",
    "import pandas as pd  "
   ]
  },
  {
   "cell_type": "code",
   "execution_count": null,
   "metadata": {},
   "outputs": [],
   "source": [
    "def shuffler_test(filename):\n",
    "    df = pd.read_csv(filename, header=None)\n",
    "    return df.sample(frac = .1)      # 0.1 = 10% of the total csv\n",
    "def shuffler_train(filename):\n",
    "    df = pd.read_csv(filename, header=None)\n",
    "    return df.sample(frac = .9)      # 0.9 = 90% of the total csv"
   ]
  },
  {
   "cell_type": "code",
   "execution_count": null,
   "metadata": {},
   "outputs": [],
   "source": [
    "in_path = './min-max/windows_20/tr-True_sliding_20_c-False/'\n",
    "prefix = 's'\n",
    "suffix = '_norm_windows_20'\n",
    "prefix_train = 'TrainFold'\n",
    "prefix_test = 'TestFold'\n",
    "subj = 1   \n",
    "n_subjects = 1\n",
    "folds_train = in_path + 'folds/'\n",
    "n_folds = 10\n",
    "\n",
    "filename = in_path + prefix + '1' + suffix +  '.csv'\n",
    "test_outputfilename = folds_train + '/subject' + str(subj) + '/' + prefix_test #+ str(i) + '.csv'\n",
    "train_outputfilename = folds_train + '/subject' + str(subj) + '/' + prefix_train #+ str(i) + '.csv'\n",
    "\n",
    "for i in range(1, n_folds+1):\n",
    "    shuffler_test(filename).to_csv(test_outputfilename + str(i) + '.csv', sep=',', index = False, header = None)\n",
    "    shuffler_train(filename).to_csv(train_outputfilename + str(i) + '.csv', sep=',', index = False, header = None)"
   ]
  }
 ],
 "metadata": {
  "kernelspec": {
   "display_name": "Python 3",
   "language": "python",
   "name": "python3"
  },
  "language_info": {
   "codemirror_mode": {
    "name": "ipython",
    "version": 3
   },
   "file_extension": ".py",
   "mimetype": "text/x-python",
   "name": "python",
   "nbconvert_exporter": "python",
   "pygments_lexer": "ipython3",
   "version": "3.7.3"
  }
 },
 "nbformat": 4,
 "nbformat_minor": 2
}
