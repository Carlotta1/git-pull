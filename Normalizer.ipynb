{
 "cells": [
  {
   "cell_type": "code",
   "execution_count": 3,
   "metadata": {
    "collapsed": true
   },
   "outputs": [],
   "source": [
    "from sklearn.preprocessing import MinMaxScaler\n",
    "from sklearn.preprocessing import StandardScaler\n",
    "import os\n",
    "import numpy as np\n",
    "import pandas as pd\n",
    "import csv"
   ]
  },
  {
   "cell_type": "code",
   "execution_count": 5,
   "metadata": {
    "collapsed": true
   },
   "outputs": [],
   "source": [
    "#spw = samples per window\n",
    "def normalize(file, out, spw):\n",
    "    #get data from file\n",
    "    print(\"Reading data from: \", file)\n",
    "    data = pd.read_csv(file,sep=',',header=0,dtype=np.float64)\n",
    "\n",
    "    # get features columns \n",
    "    x_data = data.iloc[:, 0:-4] # Tutto tranne le ultime 4 colonne\n",
    "    # get label column\n",
    "    y_data = data.iloc[:,-4:] # Le ultime 4 colonne contengono i basografici\n",
    "    # print(y_data)\n",
    "    print(\"x_data shape:\")\n",
    "    print(x_data.shape)\n",
    "    \n",
    "    # ge features number\n",
    "    n_features=int(x_data.shape[1]/spw)\n",
    "    #init data\n",
    "    data = np.zeros((x_data.shape[0],x_data.shape[1]))\n",
    "\n",
    "    for i in range(n_features):\n",
    "        scaler = MinMaxScaler()\n",
    "        #scaler = StandardScaler()\n",
    "        feat = scaler.fit_transform(x_data.iloc[:,i::n_features])\n",
    "        for l in range(feat.shape[1]):\n",
    "            data[:,(l*n_features)+i] = feat[:,l]\n",
    "          #  data[:,(l*n_features)+i] = feat[:,l]\n",
    "    data = np.hstack((data,y_data))\n",
    "    print(\"Writing normalized data to: \", out)\n",
    "    np.savetxt(out, data, fmt='%.6f', delimiter=\",\")\n",
    "\n",
    "def normalize_subjects(path_in, prefix, path_out, suffix, n_subjects):\n",
    "    #Normalization \n",
    "    if not os.path.exists(path_out):\n",
    "        os.makedirs(path_out)\n",
    "    for j in range(1,n_subjects+1):\n",
    "        normalize((path_in + prefix +str(j)+'_env.csv'),path_out + prefix + str(j) + suffix + '.csv',1)"
   ]
  },
  {
   "cell_type": "code",
   "execution_count": 4,
   "metadata": {},
   "outputs": [
    {
     "name": "stdout",
     "output_type": "stream",
     "text": [
      "Reading data from:  ./envelops/s1_env.csv\n",
      "x_data shape:\n",
      "(314121, 12)\n",
      "Writing normalized data to:  ./min-max/s1_norm.csv\n",
      "Reading data from:  ./envelops/s2_env.csv\n",
      "x_data shape:\n",
      "(316643, 12)\n",
      "Writing normalized data to:  ./min-max/s2_norm.csv\n",
      "Reading data from:  ./envelops/s3_env.csv\n",
      "x_data shape:\n",
      "(269241, 12)\n",
      "Writing normalized data to:  ./min-max/s3_norm.csv\n",
      "Reading data from:  ./envelops/s4_env.csv\n",
      "x_data shape:\n",
      "(278781, 12)\n",
      "Writing normalized data to:  ./min-max/s4_norm.csv\n",
      "Reading data from:  ./envelops/s5_env.csv\n",
      "x_data shape:\n",
      "(262741, 12)\n",
      "Writing normalized data to:  ./min-max/s5_norm.csv\n",
      "Reading data from:  ./envelops/s6_env.csv\n",
      "x_data shape:\n",
      "(383841, 12)\n",
      "Writing normalized data to:  ./min-max/s6_norm.csv\n",
      "Reading data from:  ./envelops/s7_env.csv\n",
      "x_data shape:\n",
      "(258142, 12)\n",
      "Writing normalized data to:  ./min-max/s7_norm.csv\n",
      "Reading data from:  ./envelops/s8_env.csv\n",
      "x_data shape:\n",
      "(275101, 12)\n",
      "Writing normalized data to:  ./min-max/s8_norm.csv\n",
      "Reading data from:  ./envelops/s9_env.csv\n",
      "x_data shape:\n",
      "(299721, 12)\n",
      "Writing normalized data to:  ./min-max/s9_norm.csv\n",
      "Reading data from:  ./envelops/s10_env.csv\n",
      "x_data shape:\n",
      "(285421, 12)\n",
      "Writing normalized data to:  ./min-max/s10_norm.csv\n",
      "Reading data from:  ./envelops/s11_env.csv\n",
      "x_data shape:\n",
      "(276581, 12)\n",
      "Writing normalized data to:  ./min-max/s11_norm.csv\n"
     ]
    }
   ],
   "source": [
    "normalize_subjects(\"./envelops/\", \"s\", \"./min-max/\", \"_norm\",11)"
   ]
  },
  {
   "cell_type": "code",
   "execution_count": 21,
   "metadata": {},
   "outputs": [
    {
     "name": "stdout",
     "output_type": "stream",
     "text": [
      "Subject:1\n",
      "Min: [0.0, 0.0, 0.0, 0.0, 0.0, 0.0, 0.0, 0.0]\n",
      "Max: [1.0, 1.0, 1.0, 1.0, 1.0, 1.0, 1.0, 1.0]\n",
      "Subject:2\n",
      "Min: [0.0, 0.0, 0.0, 0.0, 0.0, 0.0, 0.0, 0.0]\n",
      "Max: [1.0, 1.0, 1.0, 1.0, 1.0, 1.0, 1.0, 1.0]\n",
      "Subject:3\n",
      "Min: [0.0, 0.0, 0.0, 0.0, 0.0, 0.0, 0.0, 0.0]\n",
      "Max: [1.0, 1.0, 1.0, 1.0, 1.0, 1.0, 1.0, 1.0]\n",
      "Subject:4\n",
      "Min: [0.0, 0.0, 0.0, 0.0, 0.0, 0.0, 0.0, 0.0]\n",
      "Max: [1.0, 1.0, 1.0, 1.0, 1.0, 1.0, 1.0, 1.0]\n",
      "Subject:5\n",
      "Min: [0.0, 0.0, 0.0, 0.0, 0.0, 0.0, 0.0, 0.0]\n",
      "Max: [1.0, 1.0, 1.0, 1.0, 1.0, 1.0, 1.0, 1.0]\n"
     ]
    }
   ],
   "source": [
    "#Questa serve per controllare se la normalizzazione è andata bene (suppongo)\n",
    "\n",
    "path = \"./min-max/\"\n",
    "suffix = \"_norm\"\n",
    "\n",
    "def minmax(row, i, min, max):\n",
    "    if (float(row[i]) > max[i]): max[i] = float(row[i])\n",
    "    if (float(row[i]) < min[i]): min[i] = float(row[i])\n",
    "\n",
    "        \n",
    "def getMinMax(path, suffix, limit):\n",
    "    for subj in range(1,limit+1):\n",
    "        with open(path + 's' + str(subj) + suffix + '.csv') as csv_file:\n",
    "            csv_reader = csv.reader(csv_file, delimiter=',')\n",
    "            print(\"Subject:\" + str(subj))\n",
    "            min = [1000000,1000000,1000000,1000000,1000000,1000000,1000000,1000000]\n",
    "            max = [-1000000,-1000000,-1000000,-1000000,-1000000,-1000000,-1000000,-1000000]\n",
    "            for row in csv_reader:\n",
    "                for i in range(0,8):\n",
    "                    minmax(row,i, min, max)\n",
    "            print(\"Min: \" + str(min))\n",
    "            print(\"Max: \" + str(max))        \n",
    "\n",
    "getMinMax(path,suffix,5)    # 1 vuol dire quanti soggetti consideri"
   ]
  },
  {
   "cell_type": "code",
   "execution_count": null,
   "metadata": {
    "collapsed": true
   },
   "outputs": [],
   "source": []
  }
 ],
 "metadata": {
  "kernelspec": {
   "display_name": "Python 3",
   "language": "python",
   "name": "python3"
  },
  "language_info": {
   "codemirror_mode": {
    "name": "ipython",
    "version": 3
   },
   "file_extension": ".py",
   "mimetype": "text/x-python",
   "name": "python",
   "nbconvert_exporter": "python",
   "pygments_lexer": "ipython3",
   "version": "3.7.3"
  }
 },
 "nbformat": 4,
 "nbformat_minor": 2
}
