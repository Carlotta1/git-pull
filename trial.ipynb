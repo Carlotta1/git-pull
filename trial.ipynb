{
 "cells": [
  {
   "cell_type": "code",
   "execution_count": null,
   "metadata": {},
   "outputs": [],
   "source": [
    "# import torch\n",
    "\n",
    "cwd = '../subjects/min-max/windows_20/tr-True_sliding_20_c-False/folds_test/Report_FF4/'\n",
    "modello = cwd + 'F5best.pth.tar'\n",
    "\n",
    "model = torch.load(modello)\n",
    "\n",
    "# dir(model)\n",
    "dict.values(model)"
   ]
  },
  {
   "cell_type": "code",
   "execution_count": 1,
   "metadata": {},
   "outputs": [],
   "source": [
    "# Questa funzione serve dividere i vari set una volta caricate le fold\n",
    "# In particolare, verrà usata solo per 'dev_loader', dato che lo split \n",
    "# nei vari set è già stato fatto quando sono state create le fold\n",
    "def data_split (shuffle_train,shuffle_test,val_split,test_val_split,traindataset,testdataset):\n",
    "    train_size = len(traindataset)    # lunghezza del TRAIN_DATASET\n",
    "    test_size = len(testdataset)    # lunghezza del TEST_DATASET\n",
    "    train_indices = list(range(train_size))    # crea una lista che va da 0 -> lunghezza di train_size\n",
    "    test_indices = list(range(test_size))    # crea una lista che va da 0 -> lunghezza di test_size\n",
    "    test_val_split = int(np.floor(test_val_split * train_size))    # 'test_val_split' è il numero di windows nel 'val_set'\n",
    "    dev_split = int(np.floor(val_split * (train_size-test_val_split) + test_val_split))    # 'dev_split' è il numero di windows nel 'dev_set'\n",
    "    if shuffle_train:\n",
    "        np.random.shuffle(train_indices)\n",
    "    if shuffle_test:\n",
    "        np.random.shuffle(test_indices) \n",
    "    train_indices, dev_indices, test_val_indices = train_indices[dev_split:], train_indices[test_val_split:dev_split], train_indices[:test_val_split]\n",
    "    # Samplers\n",
    "    tr_sampler = SubsetRandomSampler(train_indices)\n",
    "    d_sampler = SubsetRandomSampler(dev_indices)\n",
    "    tv_sampler = SubsetRandomSampler(test_val_indices)                \n",
    "    te_sampler = SubsetRandomSampler(test_indices)\n",
    "    return tr_sampler,d_sampler,tv_sampler,te_sampler"
   ]
  },
  {
   "cell_type": "code",
   "execution_count": 34,
   "metadata": {},
   "outputs": [],
   "source": [
    "# Questa funzione serve se usiamo come input della rete 3 files:\n",
    "    # TRAINFOLD\n",
    "    # TESTFOLD_LEARNED\n",
    "    # TESTFOLD_UNLEARNED\n",
    "# L'unico file che deve essere effettivamente suddiviso, in questo caso, è il TRAINFOLD, dato che useremo\n",
    "# una percentuale 'test_val_split' (hyperparameter) per il validation, e una percentuale 1-'test_val_split'\n",
    "# per il vero e proprio training della rete.\n",
    "# La funzione da in output i sampler da utilizzare come parametri per il DataLoader:\n",
    "    # train_loader\n",
    "    # test_val_loader\n",
    "def split_train ( test_val_split, traindataset ): \n",
    "    train_size = len(traindataset)    # lunghezza del TRAIN_DATASET\n",
    "    train_indices = list(range(train_size))    # crea una lista che va da 0 -> lunghezza di train_size\n",
    "    test_val_split = int(np.floor(test_val_split * train_size))    # 'test_val_split' è il numero di windows nel 'val_set'\n",
    "    \n",
    "    # salvo gli indici\n",
    "    train_indices, test_val_indices = train_indices[:test_val_split], train_indices[test_val_split:]\n",
    "    print(train_indices)\n",
    "    print(test_val_indices)\n",
    "    # Sampler\n",
    "    train_sampler = SubsetRandomSampler(train_indices)\n",
    "    test_val_sampler = SubsetRandomSampler(test_val_indices)\n",
    "    return train_sampler, test_val_sampler"
   ]
  },
  {
   "cell_type": "code",
   "execution_count": 35,
   "metadata": {},
   "outputs": [
    {
     "name": "stdout",
     "output_type": "stream",
     "text": [
      "[0, 1, 2, 3, 4, 5, 6, 7, 8, 9, 10, 11, 12, 13, 14, 15, 16, 17, 18, 19]\n",
      "[20, 21, 22, 23, 24, 25, 26, 27, 28, 29, 30, 31, 32, 33, 34, 35, 36, 37, 38, 39, 40, 41, 42, 43, 44, 45, 46, 47, 48, 49, 50, 51, 52, 53, 54, 55, 56, 57, 58, 59, 60, 61, 62, 63, 64, 65, 66, 67, 68, 69, 70, 71, 72, 73, 74, 75, 76, 77, 78, 79, 80, 81, 82, 83, 84, 85, 86, 87, 88, 89, 90, 91, 92, 93, 94, 95, 96, 97, 98, 99]\n"
     ]
    }
   ],
   "source": [
    "import numpy as np\n",
    "import torch\n",
    "test_val_split = 0.2\n",
    "traindataset = np.zeros(100)\n",
    "\n",
    "tr, tv = split_train(test_val_split,traindataset)\n",
    "\n"
   ]
  }
 ],
 "metadata": {
  "kernelspec": {
   "display_name": "Python 3",
   "language": "python",
   "name": "python3"
  },
  "language_info": {
   "codemirror_mode": {
    "name": "ipython",
    "version": 3
   },
   "file_extension": ".py",
   "mimetype": "text/x-python",
   "name": "python",
   "nbconvert_exporter": "python",
   "pygments_lexer": "ipython3",
   "version": "3.7.3"
  }
 },
 "nbformat": 4,
 "nbformat_minor": 2
}
