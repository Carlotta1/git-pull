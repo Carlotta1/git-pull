{
 "cells": [
  {
   "cell_type": "code",
   "execution_count": null,
   "metadata": {},
   "outputs": [
    {
     "name": "stdout",
     "output_type": "stream",
     "text": [
      "Swing Onset at sample 6348\n"
     ]
    },
    {
     "name": "stderr",
     "output_type": "stream",
     "text": [
      "  0% (25 of 480053) |                    | Elapsed Time: 0:00:00 ETA:   0:32:38"
     ]
    },
    {
     "name": "stdout",
     "output_type": "stream",
     "text": [
      "Subject 1 rows: 486600\n"
     ]
    },
    {
     "name": "stderr",
     "output_type": "stream",
     "text": [
      "  0% (1078 of 480053) |                  | Elapsed Time: 0:00:05 ETA:   1:19:25"
     ]
    },
    {
     "name": "stdout",
     "output_type": "stream",
     "text": [
      "Phases: 1\n"
     ]
    },
    {
     "name": "stderr",
     "output_type": "stream",
     "text": [
      "  0% (2669 of 480053) |                  | Elapsed Time: 0:00:14 ETA:   1:18:46"
     ]
    },
    {
     "name": "stdout",
     "output_type": "stream",
     "text": [
      "Phases: 2\n"
     ]
    },
    {
     "name": "stderr",
     "output_type": "stream",
     "text": [
      "  0% (3608 of 480053) |                  | Elapsed Time: 0:00:20 ETA:   1:19:41"
     ]
    },
    {
     "name": "stdout",
     "output_type": "stream",
     "text": [
      "Phases: 3\n"
     ]
    },
    {
     "name": "stderr",
     "output_type": "stream",
     "text": [
      "  1% (4915 of 480053) |                  | Elapsed Time: 0:00:27 ETA:   1:15:47"
     ]
    },
    {
     "name": "stdout",
     "output_type": "stream",
     "text": [
      "Phases: 4\n"
     ]
    },
    {
     "name": "stderr",
     "output_type": "stream",
     "text": [
      "  1% (5776 of 480053) |                  | Elapsed Time: 0:00:33 ETA:   1:14:40"
     ]
    },
    {
     "name": "stdout",
     "output_type": "stream",
     "text": [
      "Phases: 5\n"
     ]
    },
    {
     "name": "stderr",
     "output_type": "stream",
     "text": [
      "  1% (7055 of 480053) |                  | Elapsed Time: 0:00:40 ETA:   1:12:58"
     ]
    },
    {
     "name": "stdout",
     "output_type": "stream",
     "text": [
      "Phases: 6\n"
     ]
    },
    {
     "name": "stderr",
     "output_type": "stream",
     "text": [
      "  1% (7896 of 480053) |                  | Elapsed Time: 0:00:46 ETA:   1:13:49"
     ]
    },
    {
     "name": "stdout",
     "output_type": "stream",
     "text": [
      "Phases: 7\n"
     ]
    },
    {
     "name": "stderr",
     "output_type": "stream",
     "text": [
      "  1% (9117 of 480053) |                  | Elapsed Time: 0:00:52 ETA:   1:17:30"
     ]
    },
    {
     "name": "stdout",
     "output_type": "stream",
     "text": [
      "Phases: 8\n"
     ]
    },
    {
     "name": "stderr",
     "output_type": "stream",
     "text": [
      "  2% (9956 of 480053) |                  | Elapsed Time: 0:00:58 ETA:   1:09:23"
     ]
    },
    {
     "name": "stdout",
     "output_type": "stream",
     "text": [
      "Phases: 9\n"
     ]
    },
    {
     "name": "stderr",
     "output_type": "stream",
     "text": [
      "  2% (11225 of 480053) |                 | Elapsed Time: 0:01:05 ETA:   1:13:55"
     ]
    },
    {
     "name": "stdout",
     "output_type": "stream",
     "text": [
      "Phases: 10\n"
     ]
    },
    {
     "name": "stderr",
     "output_type": "stream",
     "text": [
      "  2% (12074 of 480053) |                 | Elapsed Time: 0:01:10 ETA:   1:12:06"
     ]
    },
    {
     "name": "stdout",
     "output_type": "stream",
     "text": [
      "Phases: 11\n"
     ]
    },
    {
     "name": "stderr",
     "output_type": "stream",
     "text": [
      "  2% (13321 of 480053) |                 | Elapsed Time: 0:01:18 ETA:   1:25:39"
     ]
    },
    {
     "name": "stdout",
     "output_type": "stream",
     "text": [
      "Phases: 12\n"
     ]
    },
    {
     "name": "stderr",
     "output_type": "stream",
     "text": [
      "  2% (14160 of 480053) |                 | Elapsed Time: 0:01:24 ETA:   1:13:36"
     ]
    },
    {
     "name": "stdout",
     "output_type": "stream",
     "text": [
      "Phases: 13\n"
     ]
    },
    {
     "name": "stderr",
     "output_type": "stream",
     "text": [
      "  3% (15419 of 480053) |                 | Elapsed Time: 0:01:31 ETA:   1:15:42"
     ]
    },
    {
     "name": "stdout",
     "output_type": "stream",
     "text": [
      "Phases: 14\n"
     ]
    },
    {
     "name": "stderr",
     "output_type": "stream",
     "text": [
      "  3% (16292 of 480053) |                 | Elapsed Time: 0:01:37 ETA:   1:14:56"
     ]
    },
    {
     "name": "stdout",
     "output_type": "stream",
     "text": [
      "Phases: 15\n"
     ]
    },
    {
     "name": "stderr",
     "output_type": "stream",
     "text": [
      "  3% (17654 of 480053) |                 | Elapsed Time: 0:01:45 ETA:   1:14:05"
     ]
    },
    {
     "name": "stdout",
     "output_type": "stream",
     "text": [
      "Phases: 16\n"
     ]
    },
    {
     "name": "stderr",
     "output_type": "stream",
     "text": [
      "  3% (18383 of 480053) |                 | Elapsed Time: 0:01:50 ETA:   1:14:09"
     ]
    },
    {
     "name": "stdout",
     "output_type": "stream",
     "text": [
      "Phases: 17\n"
     ]
    },
    {
     "name": "stderr",
     "output_type": "stream",
     "text": [
      "  4% (20495 of 480053) |                 | Elapsed Time: 0:02:00 ETA:   1:18:29"
     ]
    },
    {
     "name": "stdout",
     "output_type": "stream",
     "text": [
      "Phases: 18\n"
     ]
    },
    {
     "name": "stderr",
     "output_type": "stream",
     "text": [
      "  4% (21643 of 480053) |                 | Elapsed Time: 0:02:07 ETA:   1:14:14"
     ]
    },
    {
     "name": "stdout",
     "output_type": "stream",
     "text": [
      "Phases: 19\n"
     ]
    },
    {
     "name": "stderr",
     "output_type": "stream",
     "text": [
      "  4% (23036 of 480053) |                 | Elapsed Time: 0:02:15 ETA:   1:10:01"
     ]
    },
    {
     "name": "stdout",
     "output_type": "stream",
     "text": [
      "Phases: 20\n"
     ]
    },
    {
     "name": "stderr",
     "output_type": "stream",
     "text": [
      "  4% (23957 of 480053) |                 | Elapsed Time: 0:02:21 ETA:   1:07:54"
     ]
    },
    {
     "name": "stdout",
     "output_type": "stream",
     "text": [
      "Phases: 21\n"
     ]
    },
    {
     "name": "stderr",
     "output_type": "stream",
     "text": [
      "  5% (25234 of 480053) |                 | Elapsed Time: 0:02:28 ETA:   1:08:36"
     ]
    },
    {
     "name": "stdout",
     "output_type": "stream",
     "text": [
      "Phases: 22\n"
     ]
    },
    {
     "name": "stderr",
     "output_type": "stream",
     "text": [
      "  5% (26105 of 480053) |                 | Elapsed Time: 0:02:33 ETA:   1:07:06"
     ]
    },
    {
     "name": "stdout",
     "output_type": "stream",
     "text": [
      "Phases: 23\n"
     ]
    },
    {
     "name": "stderr",
     "output_type": "stream",
     "text": [
      "  5% (27344 of 480053) |                 | Elapsed Time: 0:02:41 ETA:   1:12:32"
     ]
    },
    {
     "name": "stdout",
     "output_type": "stream",
     "text": [
      "Phases: 24\n"
     ]
    },
    {
     "name": "stderr",
     "output_type": "stream",
     "text": [
      "  5% (28198 of 480053) |                 | Elapsed Time: 0:02:46 ETA:   1:10:16"
     ]
    },
    {
     "name": "stdout",
     "output_type": "stream",
     "text": [
      "Phases: 25\n"
     ]
    },
    {
     "name": "stderr",
     "output_type": "stream",
     "text": [
      "  6% (29442 of 480053) |#                | Elapsed Time: 0:02:53 ETA:   1:15:51"
     ]
    },
    {
     "name": "stdout",
     "output_type": "stream",
     "text": [
      "Phases: 26\n"
     ]
    },
    {
     "name": "stderr",
     "output_type": "stream",
     "text": [
      "  6% (30276 of 480053) |#                | Elapsed Time: 0:02:58 ETA:   1:12:26"
     ]
    },
    {
     "name": "stdout",
     "output_type": "stream",
     "text": [
      "Phases: 27\n"
     ]
    },
    {
     "name": "stderr",
     "output_type": "stream",
     "text": [
      "  6% (31519 of 480053) |#                | Elapsed Time: 0:03:06 ETA:   1:18:41"
     ]
    },
    {
     "name": "stdout",
     "output_type": "stream",
     "text": [
      "Phases: 28\n"
     ]
    },
    {
     "name": "stderr",
     "output_type": "stream",
     "text": [
      "  6% (32355 of 480053) |#                | Elapsed Time: 0:03:11 ETA:   1:07:42"
     ]
    },
    {
     "name": "stdout",
     "output_type": "stream",
     "text": [
      "Phases: 29\n"
     ]
    },
    {
     "name": "stderr",
     "output_type": "stream",
     "text": [
      "  6% (33602 of 480053) |#                | Elapsed Time: 0:03:19 ETA:   1:17:29"
     ]
    },
    {
     "name": "stdout",
     "output_type": "stream",
     "text": [
      "Phases: 30\n"
     ]
    },
    {
     "name": "stderr",
     "output_type": "stream",
     "text": [
      "  7% (34443 of 480053) |#                | Elapsed Time: 0:03:24 ETA:   1:07:09"
     ]
    },
    {
     "name": "stdout",
     "output_type": "stream",
     "text": [
      "Phases: 31\n"
     ]
    },
    {
     "name": "stderr",
     "output_type": "stream",
     "text": [
      "  7% (35718 of 480053) |#                | Elapsed Time: 0:03:31 ETA:   1:10:24"
     ]
    },
    {
     "name": "stdout",
     "output_type": "stream",
     "text": [
      "Phases: 32\n"
     ]
    },
    {
     "name": "stderr",
     "output_type": "stream",
     "text": [
      "  7% (36529 of 480053) |#                | Elapsed Time: 0:03:37 ETA:   1:05:13"
     ]
    },
    {
     "name": "stdout",
     "output_type": "stream",
     "text": [
      "Phases: 33\n"
     ]
    },
    {
     "name": "stderr",
     "output_type": "stream",
     "text": [
      "  7% (37883 of 480053) |#                | Elapsed Time: 0:03:44 ETA:   1:09:01"
     ]
    },
    {
     "name": "stdout",
     "output_type": "stream",
     "text": [
      "Phases: 34\n"
     ]
    },
    {
     "name": "stderr",
     "output_type": "stream",
     "text": [
      "  8% (38764 of 480053) |#                | Elapsed Time: 0:03:50 ETA:   1:08:43"
     ]
    },
    {
     "name": "stdout",
     "output_type": "stream",
     "text": [
      "Phases: 35\n"
     ]
    },
    {
     "name": "stderr",
     "output_type": "stream",
     "text": [
      "  8% (40458 of 480053) |#                | Elapsed Time: 0:03:59 ETA:   1:11:00"
     ]
    },
    {
     "name": "stdout",
     "output_type": "stream",
     "text": [
      "Phases: 36\n"
     ]
    },
    {
     "name": "stderr",
     "output_type": "stream",
     "text": [
      "  8% (41374 of 480053) |#                | Elapsed Time: 0:04:05 ETA:   1:11:44"
     ]
    },
    {
     "name": "stdout",
     "output_type": "stream",
     "text": [
      "Phases: 37\n"
     ]
    },
    {
     "name": "stderr",
     "output_type": "stream",
     "text": [
      "  8% (42844 of 480053) |#                | Elapsed Time: 0:04:13 ETA:   1:12:05"
     ]
    },
    {
     "name": "stdout",
     "output_type": "stream",
     "text": [
      "Phases: 38\n"
     ]
    },
    {
     "name": "stderr",
     "output_type": "stream",
     "text": [
      "  9% (43720 of 480053) |#                | Elapsed Time: 0:04:19 ETA:   1:16:45"
     ]
    },
    {
     "name": "stdout",
     "output_type": "stream",
     "text": [
      "Phases: 39\n"
     ]
    },
    {
     "name": "stderr",
     "output_type": "stream",
     "text": [
      "  9% (45062 of 480053) |#                | Elapsed Time: 0:04:26 ETA:   1:07:03"
     ]
    },
    {
     "name": "stdout",
     "output_type": "stream",
     "text": [
      "Phases: 40\n"
     ]
    },
    {
     "name": "stderr",
     "output_type": "stream",
     "text": [
      "  9% (45942 of 480053) |#                | Elapsed Time: 0:04:32 ETA:   1:06:12"
     ]
    },
    {
     "name": "stdout",
     "output_type": "stream",
     "text": [
      "Phases: 41\n"
     ]
    },
    {
     "name": "stderr",
     "output_type": "stream",
     "text": [
      "  9% (47242 of 480053) |#                | Elapsed Time: 0:04:39 ETA:   1:09:07"
     ]
    },
    {
     "name": "stdout",
     "output_type": "stream",
     "text": [
      "Phases: 42\n"
     ]
    },
    {
     "name": "stderr",
     "output_type": "stream",
     "text": [
      " 10% (48157 of 480053) |#                | Elapsed Time: 0:04:45 ETA:   1:09:20"
     ]
    },
    {
     "name": "stdout",
     "output_type": "stream",
     "text": [
      "Phases: 43\n"
     ]
    },
    {
     "name": "stderr",
     "output_type": "stream",
     "text": [
      " 10% (49512 of 480053) |#                | Elapsed Time: 0:04:53 ETA:   1:11:13"
     ]
    },
    {
     "name": "stdout",
     "output_type": "stream",
     "text": [
      "Phases: 44\n"
     ]
    },
    {
     "name": "stderr",
     "output_type": "stream",
     "text": [
      " 10% (50320 of 480053) |#                | Elapsed Time: 0:04:58 ETA:   1:06:01"
     ]
    },
    {
     "name": "stdout",
     "output_type": "stream",
     "text": [
      "Phases: 45\n"
     ]
    },
    {
     "name": "stderr",
     "output_type": "stream",
     "text": [
      " 10% (51561 of 480053) |#                | Elapsed Time: 0:05:05 ETA:   1:03:42"
     ]
    },
    {
     "name": "stdout",
     "output_type": "stream",
     "text": [
      "Phases: 46\n"
     ]
    },
    {
     "name": "stderr",
     "output_type": "stream",
     "text": [
      " 10% (52395 of 480053) |#                | Elapsed Time: 0:05:11 ETA:   1:07:09"
     ]
    },
    {
     "name": "stdout",
     "output_type": "stream",
     "text": [
      "Phases: 47\n"
     ]
    },
    {
     "name": "stderr",
     "output_type": "stream",
     "text": [
      " 11% (53716 of 480053) |#                | Elapsed Time: 0:05:18 ETA:   1:04:50"
     ]
    },
    {
     "name": "stdout",
     "output_type": "stream",
     "text": [
      "Phases: 48\n"
     ]
    },
    {
     "name": "stderr",
     "output_type": "stream",
     "text": [
      " 11% (54528 of 480053) |#                | Elapsed Time: 0:05:23 ETA:   1:04:13"
     ]
    },
    {
     "name": "stdout",
     "output_type": "stream",
     "text": [
      "Phases: 49\n"
     ]
    },
    {
     "name": "stderr",
     "output_type": "stream",
     "text": [
      " 11% (55881 of 480053) |#                | Elapsed Time: 0:05:31 ETA:   1:09:58"
     ]
    },
    {
     "name": "stdout",
     "output_type": "stream",
     "text": [
      "Phases: 50\n"
     ]
    },
    {
     "name": "stderr",
     "output_type": "stream",
     "text": [
      " 11% (56741 of 480053) |##               | Elapsed Time: 0:05:36 ETA:   1:02:18"
     ]
    },
    {
     "name": "stdout",
     "output_type": "stream",
     "text": [
      "Phases: 51\n"
     ]
    },
    {
     "name": "stderr",
     "output_type": "stream",
     "text": [
      " 12% (58108 of 480053) |##               | Elapsed Time: 0:05:44 ETA:   1:07:54"
     ]
    },
    {
     "name": "stdout",
     "output_type": "stream",
     "text": [
      "Phases: 52\n"
     ]
    },
    {
     "name": "stderr",
     "output_type": "stream",
     "text": [
      " 12% (58931 of 480053) |##               | Elapsed Time: 0:05:49 ETA:   1:03:23"
     ]
    },
    {
     "name": "stdout",
     "output_type": "stream",
     "text": [
      "Phases: 53\n"
     ]
    },
    {
     "name": "stderr",
     "output_type": "stream",
     "text": [
      " 12% (60497 of 480053) |##               | Elapsed Time: 0:05:58 ETA:   1:07:03"
     ]
    },
    {
     "name": "stdout",
     "output_type": "stream",
     "text": [
      "Phases: 54\n"
     ]
    },
    {
     "name": "stderr",
     "output_type": "stream",
     "text": [
      " 12% (61547 of 480053) |##               | Elapsed Time: 0:06:04 ETA:   1:05:30"
     ]
    },
    {
     "name": "stdout",
     "output_type": "stream",
     "text": [
      "Phases: 55\n"
     ]
    },
    {
     "name": "stderr",
     "output_type": "stream",
     "text": [
      " 13% (62909 of 480053) |##               | Elapsed Time: 0:06:11 ETA:   1:04:52"
     ]
    },
    {
     "name": "stdout",
     "output_type": "stream",
     "text": [
      "Phases: 56\n"
     ]
    },
    {
     "name": "stderr",
     "output_type": "stream",
     "text": [
      " 13% (63789 of 480053) |##               | Elapsed Time: 0:06:17 ETA:   1:02:44"
     ]
    },
    {
     "name": "stdout",
     "output_type": "stream",
     "text": [
      "Phases: 57\n"
     ]
    },
    {
     "name": "stderr",
     "output_type": "stream",
     "text": [
      " 13% (65063 of 480053) |##               | Elapsed Time: 0:06:24 ETA:   1:05:05"
     ]
    },
    {
     "name": "stdout",
     "output_type": "stream",
     "text": [
      "Phases: 58\n"
     ]
    },
    {
     "name": "stderr",
     "output_type": "stream",
     "text": [
      " 13% (65918 of 480053) |##               | Elapsed Time: 0:06:32 ETA:   1:25:53"
     ]
    },
    {
     "name": "stdout",
     "output_type": "stream",
     "text": [
      "Phases: 59\n"
     ]
    },
    {
     "name": "stderr",
     "output_type": "stream",
     "text": [
      " 13% (67207 of 480053) |##               | Elapsed Time: 0:06:39 ETA:   1:04:43"
     ]
    },
    {
     "name": "stdout",
     "output_type": "stream",
     "text": [
      "Phases: 60\n",
      "Subject 1 windowed. Time elapsed: 0:06:43\n",
      "\n",
      "Swing Onset at sample 1092\n"
     ]
    },
    {
     "name": "stderr",
     "output_type": "stream",
     "text": [
      "  0% (23 of 485309) |                    | Elapsed Time: 0:00:00 ETA:   0:35:50"
     ]
    },
    {
     "name": "stdout",
     "output_type": "stream",
     "text": [
      "Subject 2 rows: 486600\n"
     ]
    },
    {
     "name": "stderr",
     "output_type": "stream",
     "text": [
      "  0% (863 of 485309) |                   | Elapsed Time: 0:00:04 ETA:   1:14:57"
     ]
    },
    {
     "name": "stdout",
     "output_type": "stream",
     "text": [
      "Phases: 1\n"
     ]
    },
    {
     "name": "stderr",
     "output_type": "stream",
     "text": [
      "  0% (2115 of 485309) |                  | Elapsed Time: 0:00:11 ETA:   1:11:50"
     ]
    },
    {
     "name": "stdout",
     "output_type": "stream",
     "text": [
      "Phases: 2\n"
     ]
    },
    {
     "name": "stderr",
     "output_type": "stream",
     "text": [
      "  0% (3057 of 485309) |                  | Elapsed Time: 0:00:17 ETA:   1:13:47"
     ]
    },
    {
     "name": "stdout",
     "output_type": "stream",
     "text": [
      "Phases: 3\n"
     ]
    },
    {
     "name": "stderr",
     "output_type": "stream",
     "text": [
      "  0% (4322 of 485309) |                  | Elapsed Time: 0:00:24 ETA:   1:13:52"
     ]
    },
    {
     "name": "stdout",
     "output_type": "stream",
     "text": [
      "Phases: 4\n"
     ]
    },
    {
     "name": "stderr",
     "output_type": "stream",
     "text": [
      "  1% (5285 of 485309) |                  | Elapsed Time: 0:00:30 ETA:   1:20:08"
     ]
    },
    {
     "name": "stdout",
     "output_type": "stream",
     "text": [
      "Phases: 5\n"
     ]
    },
    {
     "name": "stderr",
     "output_type": "stream",
     "text": [
      "  1% (6619 of 485309) |                  | Elapsed Time: 0:00:38 ETA:   1:17:36"
     ]
    },
    {
     "name": "stdout",
     "output_type": "stream",
     "text": [
      "Phases: 6\n"
     ]
    },
    {
     "name": "stderr",
     "output_type": "stream",
     "text": [
      "  1% (7839 of 485309) |                  | Elapsed Time: 0:00:44 ETA:   1:11:27"
     ]
    },
    {
     "name": "stdout",
     "output_type": "stream",
     "text": [
      "Phases: 7\n"
     ]
    },
    {
     "name": "stderr",
     "output_type": "stream",
     "text": [
      "  1% (9291 of 485309) |                  | Elapsed Time: 0:00:52 ETA:   1:10:13"
     ]
    },
    {
     "name": "stdout",
     "output_type": "stream",
     "text": [
      "Phases: 8\n"
     ]
    },
    {
     "name": "stderr",
     "output_type": "stream",
     "text": [
      "  2% (10218 of 485309) |                 | Elapsed Time: 0:00:58 ETA:   1:10:46"
     ]
    },
    {
     "name": "stdout",
     "output_type": "stream",
     "text": [
      "Phases: 9\n"
     ]
    },
    {
     "name": "stderr",
     "output_type": "stream",
     "text": [
      "  2% (11506 of 485309) |                 | Elapsed Time: 0:01:05 ETA:   1:12:17"
     ]
    },
    {
     "name": "stdout",
     "output_type": "stream",
     "text": [
      "Phases: 10\n"
     ]
    },
    {
     "name": "stderr",
     "output_type": "stream",
     "text": [
      "  2% (12492 of 485309) |                 | Elapsed Time: 0:01:11 ETA:   1:09:15"
     ]
    },
    {
     "name": "stdout",
     "output_type": "stream",
     "text": [
      "Phases: 11\n"
     ]
    },
    {
     "name": "stderr",
     "output_type": "stream",
     "text": [
      "  2% (13738 of 485309) |                 | Elapsed Time: 0:01:18 ETA:   1:08:34"
     ]
    },
    {
     "name": "stdout",
     "output_type": "stream",
     "text": [
      "Phases: 12\n"
     ]
    },
    {
     "name": "stderr",
     "output_type": "stream",
     "text": [
      "  3% (14697 of 485309) |                 | Elapsed Time: 0:01:24 ETA:   1:13:54"
     ]
    },
    {
     "name": "stdout",
     "output_type": "stream",
     "text": [
      "Phases: 13\n"
     ]
    },
    {
     "name": "stderr",
     "output_type": "stream",
     "text": [
      "  3% (16007 of 485309) |                 | Elapsed Time: 0:01:31 ETA:   1:09:40"
     ]
    },
    {
     "name": "stdout",
     "output_type": "stream",
     "text": [
      "Phases: 14\n"
     ]
    },
    {
     "name": "stderr",
     "output_type": "stream",
     "text": [
      "  3% (17045 of 485309) |                 | Elapsed Time: 0:01:38 ETA:   1:10:47"
     ]
    },
    {
     "name": "stdout",
     "output_type": "stream",
     "text": [
      "Phases: 15\n"
     ]
    },
    {
     "name": "stderr",
     "output_type": "stream",
     "text": [
      "  3% (18663 of 485309) |                 | Elapsed Time: 0:01:46 ETA:   1:07:36"
     ]
    },
    {
     "name": "stdout",
     "output_type": "stream",
     "text": [
      "Phases: 16\n"
     ]
    },
    {
     "name": "stderr",
     "output_type": "stream",
     "text": [
      "  4% (19635 of 485309) |                 | Elapsed Time: 0:01:52 ETA:   1:14:42"
     ]
    },
    {
     "name": "stdout",
     "output_type": "stream",
     "text": [
      "Phases: 17\n"
     ]
    },
    {
     "name": "stderr",
     "output_type": "stream",
     "text": [
      "  4% (21045 of 485309) |                 | Elapsed Time: 0:02:00 ETA:   1:10:17"
     ]
    },
    {
     "name": "stdout",
     "output_type": "stream",
     "text": [
      "Phases: 18\n"
     ]
    },
    {
     "name": "stderr",
     "output_type": "stream",
     "text": [
      "  4% (22022 of 485309) |                 | Elapsed Time: 0:02:06 ETA:   1:11:02"
     ]
    },
    {
     "name": "stdout",
     "output_type": "stream",
     "text": [
      "Phases: 19\n"
     ]
    },
    {
     "name": "stderr",
     "output_type": "stream",
     "text": [
      "  4% (23316 of 485309) |                 | Elapsed Time: 0:02:13 ETA:   1:14:48"
     ]
    },
    {
     "name": "stdout",
     "output_type": "stream",
     "text": [
      "Phases: 20\n"
     ]
    },
    {
     "name": "stderr",
     "output_type": "stream",
     "text": [
      "  5% (24277 of 485309) |                 | Elapsed Time: 0:02:20 ETA:   1:17:56"
     ]
    },
    {
     "name": "stdout",
     "output_type": "stream",
     "text": [
      "Phases: 21\n"
     ]
    },
    {
     "name": "stderr",
     "output_type": "stream",
     "text": [
      "  5% (25524 of 485309) |                 | Elapsed Time: 0:02:27 ETA:   1:23:12"
     ]
    },
    {
     "name": "stdout",
     "output_type": "stream",
     "text": [
      "Phases: 22\n"
     ]
    },
    {
     "name": "stderr",
     "output_type": "stream",
     "text": [
      "  5% (26550 of 485309) |                 | Elapsed Time: 0:02:33 ETA:   1:15:05"
     ]
    },
    {
     "name": "stdout",
     "output_type": "stream",
     "text": [
      "Phases: 23\n"
     ]
    },
    {
     "name": "stderr",
     "output_type": "stream",
     "text": [
      "  5% (27915 of 485309) |                 | Elapsed Time: 0:02:41 ETA:   1:23:00"
     ]
    },
    {
     "name": "stdout",
     "output_type": "stream",
     "text": [
      "Phases: 24\n"
     ]
    },
    {
     "name": "stderr",
     "output_type": "stream",
     "text": [
      "  6% (29194 of 485309) |#                | Elapsed Time: 0:02:48 ETA:   1:19:11"
     ]
    },
    {
     "name": "stdout",
     "output_type": "stream",
     "text": [
      "Phases: 25\n"
     ]
    },
    {
     "name": "stderr",
     "output_type": "stream",
     "text": [
      "  6% (30952 of 485309) |#                | Elapsed Time: 0:02:58 ETA:   1:12:01"
     ]
    },
    {
     "name": "stdout",
     "output_type": "stream",
     "text": [
      "Phases: 26\n"
     ]
    },
    {
     "name": "stderr",
     "output_type": "stream",
     "text": [
      "  6% (31950 of 485309) |#                | Elapsed Time: 0:03:04 ETA:   1:11:32"
     ]
    },
    {
     "name": "stdout",
     "output_type": "stream",
     "text": [
      "Phases: 27\n"
     ]
    },
    {
     "name": "stderr",
     "output_type": "stream",
     "text": [
      "  6% (33267 of 485309) |#                | Elapsed Time: 0:03:12 ETA:   1:23:13"
     ]
    },
    {
     "name": "stdout",
     "output_type": "stream",
     "text": [
      "Phases: 28\n"
     ]
    },
    {
     "name": "stderr",
     "output_type": "stream",
     "text": [
      "  7% (34277 of 485309) |#                | Elapsed Time: 0:03:18 ETA:   1:19:12"
     ]
    },
    {
     "name": "stdout",
     "output_type": "stream",
     "text": [
      "Phases: 29\n"
     ]
    },
    {
     "name": "stderr",
     "output_type": "stream",
     "text": [
      "  7% (35595 of 485309) |#                | Elapsed Time: 0:03:26 ETA:   1:18:00"
     ]
    },
    {
     "name": "stdout",
     "output_type": "stream",
     "text": [
      "Phases: 30\n"
     ]
    },
    {
     "name": "stderr",
     "output_type": "stream",
     "text": [
      "  7% (36585 of 485309) |#                | Elapsed Time: 0:03:32 ETA:   1:08:24"
     ]
    },
    {
     "name": "stdout",
     "output_type": "stream",
     "text": [
      "Phases: 31\n"
     ]
    },
    {
     "name": "stderr",
     "output_type": "stream",
     "text": [
      "  7% (37946 of 485309) |#                | Elapsed Time: 0:03:40 ETA:   1:15:51"
     ]
    },
    {
     "name": "stdout",
     "output_type": "stream",
     "text": [
      "Phases: 32\n"
     ]
    },
    {
     "name": "stderr",
     "output_type": "stream",
     "text": [
      "  8% (39041 of 485309) |#                | Elapsed Time: 0:03:46 ETA:   1:12:11"
     ]
    },
    {
     "name": "stdout",
     "output_type": "stream",
     "text": [
      "Phases: 33\n"
     ]
    },
    {
     "name": "stderr",
     "output_type": "stream",
     "text": [
      "  8% (40583 of 485309) |#                | Elapsed Time: 0:03:55 ETA:   1:20:40"
     ]
    },
    {
     "name": "stdout",
     "output_type": "stream",
     "text": [
      "Phases: 34\n"
     ]
    },
    {
     "name": "stderr",
     "output_type": "stream",
     "text": [
      "  8% (41628 of 485309) |#                | Elapsed Time: 0:04:01 ETA:   1:13:43"
     ]
    },
    {
     "name": "stdout",
     "output_type": "stream",
     "text": [
      "Phases: 35\n"
     ]
    },
    {
     "name": "stderr",
     "output_type": "stream",
     "text": [
      "  8% (43003 of 485309) |#                | Elapsed Time: 0:04:09 ETA:   1:23:25"
     ]
    },
    {
     "name": "stdout",
     "output_type": "stream",
     "text": [
      "Phases: 36\n"
     ]
    },
    {
     "name": "stderr",
     "output_type": "stream",
     "text": [
      "  9% (44050 of 485309) |#                | Elapsed Time: 0:04:15 ETA:   1:17:44"
     ]
    },
    {
     "name": "stdout",
     "output_type": "stream",
     "text": [
      "Phases: 37\n"
     ]
    },
    {
     "name": "stderr",
     "output_type": "stream",
     "text": [
      "  9% (45397 of 485309) |#                | Elapsed Time: 0:04:23 ETA:   1:13:07"
     ]
    },
    {
     "name": "stdout",
     "output_type": "stream",
     "text": [
      "Phases: 38\n"
     ]
    },
    {
     "name": "stderr",
     "output_type": "stream",
     "text": [
      "  9% (46392 of 485309) |#                | Elapsed Time: 0:04:29 ETA:   1:17:40"
     ]
    },
    {
     "name": "stdout",
     "output_type": "stream",
     "text": [
      "Phases: 39\n"
     ]
    },
    {
     "name": "stderr",
     "output_type": "stream",
     "text": [
      "  9% (47707 of 485309) |#                | Elapsed Time: 0:04:37 ETA:   1:11:21"
     ]
    },
    {
     "name": "stdout",
     "output_type": "stream",
     "text": [
      "Phases: 40\n"
     ]
    },
    {
     "name": "stderr",
     "output_type": "stream",
     "text": [
      " 10% (48742 of 485309) |#                | Elapsed Time: 0:04:43 ETA:   1:14:49"
     ]
    },
    {
     "name": "stdout",
     "output_type": "stream",
     "text": [
      "Phases: 41\n"
     ]
    },
    {
     "name": "stderr",
     "output_type": "stream",
     "text": [
      " 10% (50187 of 485309) |#                | Elapsed Time: 0:04:51 ETA:   1:06:19"
     ]
    },
    {
     "name": "stdout",
     "output_type": "stream",
     "text": [
      "Phases: 42\n"
     ]
    },
    {
     "name": "stderr",
     "output_type": "stream",
     "text": [
      " 10% (51418 of 485309) |#                | Elapsed Time: 0:04:58 ETA:   1:17:13"
     ]
    },
    {
     "name": "stdout",
     "output_type": "stream",
     "text": [
      "Phases: 43\n"
     ]
    },
    {
     "name": "stderr",
     "output_type": "stream",
     "text": [
      " 10% (53072 of 485309) |#                | Elapsed Time: 0:05:07 ETA:   1:13:16"
     ]
    },
    {
     "name": "stdout",
     "output_type": "stream",
     "text": [
      "Phases: 44\n"
     ]
    },
    {
     "name": "stderr",
     "output_type": "stream",
     "text": [
      " 11% (53998 of 485309) |#                | Elapsed Time: 0:05:13 ETA:   1:14:01"
     ]
    },
    {
     "name": "stdout",
     "output_type": "stream",
     "text": [
      "Phases: 45\n"
     ]
    },
    {
     "name": "stderr",
     "output_type": "stream",
     "text": [
      " 11% (55405 of 485309) |#                | Elapsed Time: 0:05:21 ETA:   1:17:37"
     ]
    },
    {
     "name": "stdout",
     "output_type": "stream",
     "text": [
      "Phases: 46\n"
     ]
    },
    {
     "name": "stderr",
     "output_type": "stream",
     "text": [
      " 11% (56448 of 485309) |#                | Elapsed Time: 0:05:27 ETA:   1:12:14"
     ]
    },
    {
     "name": "stdout",
     "output_type": "stream",
     "text": [
      "Phases: 47\n"
     ]
    },
    {
     "name": "stderr",
     "output_type": "stream",
     "text": [
      " 11% (57780 of 485309) |##               | Elapsed Time: 0:05:35 ETA:   1:14:29"
     ]
    },
    {
     "name": "stdout",
     "output_type": "stream",
     "text": [
      "Phases: 48\n"
     ]
    },
    {
     "name": "stderr",
     "output_type": "stream",
     "text": [
      " 12% (58775 of 485309) |##               | Elapsed Time: 0:05:41 ETA:   1:15:30"
     ]
    },
    {
     "name": "stdout",
     "output_type": "stream",
     "text": [
      "Phases: 49\n"
     ]
    },
    {
     "name": "stderr",
     "output_type": "stream",
     "text": [
      " 12% (60132 of 485309) |##               | Elapsed Time: 0:05:49 ETA:   1:13:27"
     ]
    },
    {
     "name": "stdout",
     "output_type": "stream",
     "text": [
      "Phases: 50\n"
     ]
    },
    {
     "name": "stderr",
     "output_type": "stream",
     "text": [
      " 12% (61128 of 485309) |##               | Elapsed Time: 0:05:55 ETA:   1:15:58"
     ]
    },
    {
     "name": "stdout",
     "output_type": "stream",
     "text": [
      "Phases: 51\n"
     ]
    },
    {
     "name": "stderr",
     "output_type": "stream",
     "text": [
      " 12% (62756 of 485309) |##               | Elapsed Time: 0:06:04 ETA:   1:07:42"
     ]
    },
    {
     "name": "stdout",
     "output_type": "stream",
     "text": [
      "Phases: 52\n"
     ]
    },
    {
     "name": "stderr",
     "output_type": "stream",
     "text": [
      " 13% (63862 of 485309) |##               | Elapsed Time: 0:06:11 ETA:   1:06:57"
     ]
    },
    {
     "name": "stdout",
     "output_type": "stream",
     "text": [
      "Phases: 53\n"
     ]
    },
    {
     "name": "stderr",
     "output_type": "stream",
     "text": [
      " 13% (65319 of 485309) |##               | Elapsed Time: 0:06:19 ETA:   1:10:36"
     ]
    },
    {
     "name": "stdout",
     "output_type": "stream",
     "text": [
      "Phases: 54\n"
     ]
    },
    {
     "name": "stderr",
     "output_type": "stream",
     "text": [
      " 13% (66334 of 485309) |##               | Elapsed Time: 0:06:25 ETA:   1:07:07"
     ]
    },
    {
     "name": "stdout",
     "output_type": "stream",
     "text": [
      "Phases: 55\n"
     ]
    },
    {
     "name": "stderr",
     "output_type": "stream",
     "text": [
      " 13% (67711 of 485309) |##               | Elapsed Time: 0:06:33 ETA:   1:08:52"
     ]
    },
    {
     "name": "stdout",
     "output_type": "stream",
     "text": [
      "Phases: 56\n"
     ]
    },
    {
     "name": "stderr",
     "output_type": "stream",
     "text": [
      " 14% (68711 of 485309) |##               | Elapsed Time: 0:06:39 ETA:   1:08:30"
     ]
    },
    {
     "name": "stdout",
     "output_type": "stream",
     "text": [
      "Phases: 57\n"
     ]
    },
    {
     "name": "stderr",
     "output_type": "stream",
     "text": [
      " 14% (70041 of 485309) |##               | Elapsed Time: 0:06:46 ETA:   1:04:13"
     ]
    },
    {
     "name": "stdout",
     "output_type": "stream",
     "text": [
      "Phases: 58\n"
     ]
    },
    {
     "name": "stderr",
     "output_type": "stream",
     "text": [
      " 14% (71063 of 485309) |##               | Elapsed Time: 0:06:53 ETA:   1:12:01"
     ]
    },
    {
     "name": "stdout",
     "output_type": "stream",
     "text": [
      "Phases: 59\n"
     ]
    },
    {
     "name": "stderr",
     "output_type": "stream",
     "text": [
      " 14% (72582 of 485309) |##               | Elapsed Time: 0:07:01 ETA:   0:54:33"
     ]
    },
    {
     "name": "stdout",
     "output_type": "stream",
     "text": [
      "Phases: 60\n",
      "Subject 2 windowed. Time elapsed: 0:07:05\n",
      "\n",
      "Swing Onset at sample 6468\n"
     ]
    },
    {
     "name": "stderr",
     "output_type": "stream",
     "text": [
      "  0% (24 of 479933) |                    | Elapsed Time: 0:00:00 ETA:   0:33:47"
     ]
    },
    {
     "name": "stdout",
     "output_type": "stream",
     "text": [
      "Subject 3 rows: 486600\n"
     ]
    },
    {
     "name": "stderr",
     "output_type": "stream",
     "text": [
      "  0% (1034 of 479933) |                  | Elapsed Time: 0:00:05 ETA:   1:18:55"
     ]
    },
    {
     "name": "stdout",
     "output_type": "stream",
     "text": [
      "Phases: 1\n"
     ]
    },
    {
     "name": "stderr",
     "output_type": "stream",
     "text": [
      "  0% (2302 of 479933) |                  | Elapsed Time: 0:00:12 ETA:   1:21:19"
     ]
    },
    {
     "name": "stdout",
     "output_type": "stream",
     "text": [
      "Phases: 2\n"
     ]
    },
    {
     "name": "stderr",
     "output_type": "stream",
     "text": [
      "  0% (3369 of 479933) |                  | Elapsed Time: 0:00:19 ETA:   1:26:40"
     ]
    },
    {
     "name": "stdout",
     "output_type": "stream",
     "text": [
      "Phases: 3\n"
     ]
    },
    {
     "name": "stderr",
     "output_type": "stream",
     "text": [
      "  0% (4564 of 479933) |                  | Elapsed Time: 0:00:26 ETA:   1:15:23"
     ]
    },
    {
     "name": "stdout",
     "output_type": "stream",
     "text": [
      "Phases: 4\n"
     ]
    },
    {
     "name": "stderr",
     "output_type": "stream",
     "text": [
      "  1% (5648 of 479933) |                  | Elapsed Time: 0:00:33 ETA:   1:24:16"
     ]
    },
    {
     "name": "stdout",
     "output_type": "stream",
     "text": [
      "Phases: 5\n"
     ]
    },
    {
     "name": "stderr",
     "output_type": "stream",
     "text": [
      "  1% (6861 of 479933) |                  | Elapsed Time: 0:00:40 ETA:   1:14:48"
     ]
    },
    {
     "name": "stdout",
     "output_type": "stream",
     "text": [
      "Phases: 6\n"
     ]
    },
    {
     "name": "stderr",
     "output_type": "stream",
     "text": [
      "  1% (7914 of 479933) |                  | Elapsed Time: 0:00:46 ETA:   1:15:09"
     ]
    },
    {
     "name": "stdout",
     "output_type": "stream",
     "text": [
      "Phases: 7\n"
     ]
    },
    {
     "name": "stderr",
     "output_type": "stream",
     "text": [
      "  1% (9320 of 479933) |                  | Elapsed Time: 0:00:54 ETA:   1:18:16"
     ]
    },
    {
     "name": "stdout",
     "output_type": "stream",
     "text": [
      "Phases: 8\n"
     ]
    },
    {
     "name": "stderr",
     "output_type": "stream",
     "text": [
      "  2% (10449 of 479933) |                 | Elapsed Time: 0:01:01 ETA:   1:13:00"
     ]
    },
    {
     "name": "stdout",
     "output_type": "stream",
     "text": [
      "Phases: 9\n"
     ]
    },
    {
     "name": "stderr",
     "output_type": "stream",
     "text": [
      "  2% (12266 of 479933) |                 | Elapsed Time: 0:01:10 ETA:   1:16:04"
     ]
    },
    {
     "name": "stdout",
     "output_type": "stream",
     "text": [
      "Phases: 10\n"
     ]
    },
    {
     "name": "stderr",
     "output_type": "stream",
     "text": [
      "  2% (13408 of 479933) |                 | Elapsed Time: 0:01:17 ETA:   1:14:24"
     ]
    },
    {
     "name": "stdout",
     "output_type": "stream",
     "text": [
      "Phases: 11\n"
     ]
    },
    {
     "name": "stderr",
     "output_type": "stream",
     "text": [
      "  3% (14735 of 479933) |                 | Elapsed Time: 0:01:24 ETA:   1:13:15"
     ]
    },
    {
     "name": "stdout",
     "output_type": "stream",
     "text": [
      "Phases: 12\n"
     ]
    },
    {
     "name": "stderr",
     "output_type": "stream",
     "text": [
      "  3% (15795 of 479933) |                 | Elapsed Time: 0:01:30 ETA:   1:16:29"
     ]
    },
    {
     "name": "stdout",
     "output_type": "stream",
     "text": [
      "Phases: 13\n"
     ]
    },
    {
     "name": "stderr",
     "output_type": "stream",
     "text": [
      "  3% (17092 of 479933) |                 | Elapsed Time: 0:01:38 ETA:   1:14:36"
     ]
    },
    {
     "name": "stdout",
     "output_type": "stream",
     "text": [
      "Phases: 14\n"
     ]
    },
    {
     "name": "stderr",
     "output_type": "stream",
     "text": [
      "  3% (18116 of 479933) |                 | Elapsed Time: 0:01:44 ETA:   1:11:06"
     ]
    },
    {
     "name": "stdout",
     "output_type": "stream",
     "text": [
      "Phases: 15\n"
     ]
    },
    {
     "name": "stderr",
     "output_type": "stream",
     "text": [
      "  4% (19354 of 479933) |                 | Elapsed Time: 0:01:51 ETA:   1:09:25"
     ]
    },
    {
     "name": "stdout",
     "output_type": "stream",
     "text": [
      "Phases: 16\n"
     ]
    },
    {
     "name": "stderr",
     "output_type": "stream",
     "text": [
      "  4% (20429 of 479933) |                 | Elapsed Time: 0:01:57 ETA:   1:08:19"
     ]
    },
    {
     "name": "stdout",
     "output_type": "stream",
     "text": [
      "Phases: 17\n"
     ]
    },
    {
     "name": "stderr",
     "output_type": "stream",
     "text": [
      "  4% (21750 of 479933) |                 | Elapsed Time: 0:02:05 ETA:   1:13:27"
     ]
    },
    {
     "name": "stdout",
     "output_type": "stream",
     "text": [
      "Phases: 18\n"
     ]
    },
    {
     "name": "stderr",
     "output_type": "stream",
     "text": [
      "  4% (22995 of 479933) |                 | Elapsed Time: 0:02:12 ETA:   1:08:51"
     ]
    },
    {
     "name": "stdout",
     "output_type": "stream",
     "text": [
      "Phases: 19\n"
     ]
    },
    {
     "name": "stderr",
     "output_type": "stream",
     "text": [
      "  5% (25134 of 479933) |                 | Elapsed Time: 0:02:22 ETA:   1:07:30"
     ]
    },
    {
     "name": "stdout",
     "output_type": "stream",
     "text": [
      "Phases: 20\n"
     ]
    },
    {
     "name": "stderr",
     "output_type": "stream",
     "text": [
      "  5% (26258 of 479933) |                 | Elapsed Time: 0:02:29 ETA:   1:10:27"
     ]
    },
    {
     "name": "stdout",
     "output_type": "stream",
     "text": [
      "Phases: 21\n"
     ]
    },
    {
     "name": "stderr",
     "output_type": "stream",
     "text": [
      "  5% (27621 of 479933) |                 | Elapsed Time: 0:02:36 ETA:   1:09:04"
     ]
    },
    {
     "name": "stdout",
     "output_type": "stream",
     "text": [
      "Phases: 22\n"
     ]
    },
    {
     "name": "stderr",
     "output_type": "stream",
     "text": [
      "  5% (28705 of 479933) |#                | Elapsed Time: 0:02:43 ETA:   1:16:21"
     ]
    },
    {
     "name": "stdout",
     "output_type": "stream",
     "text": [
      "Phases: 23\n"
     ]
    },
    {
     "name": "stderr",
     "output_type": "stream",
     "text": [
      "  6% (29999 of 479933) |#                | Elapsed Time: 0:02:50 ETA:   1:08:22"
     ]
    },
    {
     "name": "stdout",
     "output_type": "stream",
     "text": [
      "Phases: 24\n"
     ]
    },
    {
     "name": "stderr",
     "output_type": "stream",
     "text": [
      "  6% (31068 of 479933) |#                | Elapsed Time: 0:02:57 ETA:   1:09:18"
     ]
    },
    {
     "name": "stdout",
     "output_type": "stream",
     "text": [
      "Phases: 25\n"
     ]
    },
    {
     "name": "stderr",
     "output_type": "stream",
     "text": [
      "  6% (32316 of 479933) |#                | Elapsed Time: 0:03:04 ETA:   1:06:36"
     ]
    },
    {
     "name": "stdout",
     "output_type": "stream",
     "text": [
      "Phases: 26\n"
     ]
    },
    {
     "name": "stderr",
     "output_type": "stream",
     "text": [
      "  6% (33366 of 479933) |#                | Elapsed Time: 0:03:10 ETA:   1:09:13"
     ]
    },
    {
     "name": "stdout",
     "output_type": "stream",
     "text": [
      "Phases: 27\n"
     ]
    },
    {
     "name": "stderr",
     "output_type": "stream",
     "text": [
      "  7% (34738 of 479933) |#                | Elapsed Time: 0:03:17 ETA:   1:06:27"
     ]
    },
    {
     "name": "stdout",
     "output_type": "stream",
     "text": [
      "Phases: 28\n"
     ]
    },
    {
     "name": "stderr",
     "output_type": "stream",
     "text": [
      "  7% (35915 of 479933) |#                | Elapsed Time: 0:03:24 ETA:   1:15:55"
     ]
    },
    {
     "name": "stdout",
     "output_type": "stream",
     "text": [
      "Phases: 29\n"
     ]
    },
    {
     "name": "stderr",
     "output_type": "stream",
     "text": [
      "  7% (37802 of 479933) |#                | Elapsed Time: 0:03:34 ETA:   1:12:50"
     ]
    },
    {
     "name": "stdout",
     "output_type": "stream",
     "text": [
      "Phases: 30\n"
     ]
    },
    {
     "name": "stderr",
     "output_type": "stream",
     "text": [
      "  8% (38922 of 479933) |#                | Elapsed Time: 0:03:40 ETA:   1:04:20"
     ]
    },
    {
     "name": "stdout",
     "output_type": "stream",
     "text": [
      "Phases: 31\n"
     ]
    },
    {
     "name": "stderr",
     "output_type": "stream",
     "text": [
      "  8% (40299 of 479933) |#                | Elapsed Time: 0:03:48 ETA:   1:10:03"
     ]
    },
    {
     "name": "stdout",
     "output_type": "stream",
     "text": [
      "Phases: 32\n"
     ]
    },
    {
     "name": "stderr",
     "output_type": "stream",
     "text": [
      "  8% (41382 of 479933) |#                | Elapsed Time: 0:03:54 ETA:   1:09:40"
     ]
    },
    {
     "name": "stdout",
     "output_type": "stream",
     "text": [
      "Phases: 33\n"
     ]
    },
    {
     "name": "stderr",
     "output_type": "stream",
     "text": [
      "  8% (42730 of 479933) |#                | Elapsed Time: 0:04:02 ETA:   1:06:11"
     ]
    },
    {
     "name": "stdout",
     "output_type": "stream",
     "text": [
      "Phases: 34\n"
     ]
    },
    {
     "name": "stderr",
     "output_type": "stream",
     "text": [
      "  9% (43792 of 479933) |#                | Elapsed Time: 0:04:08 ETA:   1:04:21"
     ]
    },
    {
     "name": "stdout",
     "output_type": "stream",
     "text": [
      "Phases: 35\n"
     ]
    },
    {
     "name": "stderr",
     "output_type": "stream",
     "text": [
      "  9% (45053 of 479933) |#                | Elapsed Time: 0:04:15 ETA:   1:08:14"
     ]
    },
    {
     "name": "stdout",
     "output_type": "stream",
     "text": [
      "Phases: 36\n"
     ]
    },
    {
     "name": "stderr",
     "output_type": "stream",
     "text": [
      "  9% (46175 of 479933) |#                | Elapsed Time: 0:04:22 ETA:   1:06:50"
     ]
    },
    {
     "name": "stdout",
     "output_type": "stream",
     "text": [
      "Phases: 37\n"
     ]
    },
    {
     "name": "stderr",
     "output_type": "stream",
     "text": [
      "  9% (47510 of 479933) |#                | Elapsed Time: 0:04:29 ETA:   1:09:26"
     ]
    },
    {
     "name": "stdout",
     "output_type": "stream",
     "text": [
      "Phases: 38\n"
     ]
    },
    {
     "name": "stderr",
     "output_type": "stream",
     "text": [
      " 10% (48694 of 479933) |#                | Elapsed Time: 0:04:36 ETA:   1:04:22"
     ]
    },
    {
     "name": "stdout",
     "output_type": "stream",
     "text": [
      "Phases: 39\n"
     ]
    },
    {
     "name": "stderr",
     "output_type": "stream",
     "text": [
      " 10% (50601 of 479933) |#                | Elapsed Time: 0:04:46 ETA:   1:14:13"
     ]
    },
    {
     "name": "stdout",
     "output_type": "stream",
     "text": [
      "Phases: 40\n"
     ]
    },
    {
     "name": "stderr",
     "output_type": "stream",
     "text": [
      " 10% (51629 of 479933) |#                | Elapsed Time: 0:04:52 ETA:   1:08:26"
     ]
    },
    {
     "name": "stdout",
     "output_type": "stream",
     "text": [
      "Phases: 41\n"
     ]
    },
    {
     "name": "stderr",
     "output_type": "stream",
     "text": [
      " 11% (53044 of 479933) |#                | Elapsed Time: 0:05:00 ETA:   1:03:34"
     ]
    },
    {
     "name": "stdout",
     "output_type": "stream",
     "text": [
      "Phases: 42\n"
     ]
    },
    {
     "name": "stderr",
     "output_type": "stream",
     "text": [
      " 11% (54146 of 479933) |#                | Elapsed Time: 0:05:06 ETA:   1:06:16"
     ]
    },
    {
     "name": "stdout",
     "output_type": "stream",
     "text": [
      "Phases: 43\n"
     ]
    },
    {
     "name": "stderr",
     "output_type": "stream",
     "text": [
      " 11% (55508 of 479933) |#                | Elapsed Time: 0:05:14 ETA:   1:08:19"
     ]
    },
    {
     "name": "stdout",
     "output_type": "stream",
     "text": [
      "Phases: 44\n"
     ]
    },
    {
     "name": "stderr",
     "output_type": "stream",
     "text": [
      " 11% (56482 of 479933) |##               | Elapsed Time: 0:05:20 ETA:   1:06:58"
     ]
    },
    {
     "name": "stdout",
     "output_type": "stream",
     "text": [
      "Phases: 45\n"
     ]
    },
    {
     "name": "stderr",
     "output_type": "stream",
     "text": [
      " 12% (57717 of 479933) |##               | Elapsed Time: 0:05:27 ETA:   1:02:48"
     ]
    },
    {
     "name": "stdout",
     "output_type": "stream",
     "text": [
      "Phases: 46\n"
     ]
    },
    {
     "name": "stderr",
     "output_type": "stream",
     "text": [
      " 12% (58738 of 479933) |##               | Elapsed Time: 0:05:33 ETA:   1:03:54"
     ]
    },
    {
     "name": "stdout",
     "output_type": "stream",
     "text": [
      "Phases: 47\n"
     ]
    },
    {
     "name": "stderr",
     "output_type": "stream",
     "text": [
      " 12% (59974 of 479933) |##               | Elapsed Time: 0:05:40 ETA:   1:05:13"
     ]
    },
    {
     "name": "stdout",
     "output_type": "stream",
     "text": [
      "Phases: 48\n"
     ]
    },
    {
     "name": "stderr",
     "output_type": "stream",
     "text": [
      " 12% (61033 of 479933) |##               | Elapsed Time: 0:05:46 ETA:   1:04:02"
     ]
    },
    {
     "name": "stdout",
     "output_type": "stream",
     "text": [
      "Phases: 49\n"
     ]
    },
    {
     "name": "stderr",
     "output_type": "stream",
     "text": [
      " 12% (62333 of 479933) |##               | Elapsed Time: 0:05:53 ETA:   1:08:12"
     ]
    },
    {
     "name": "stdout",
     "output_type": "stream",
     "text": [
      "Phases: 50\n"
     ]
    },
    {
     "name": "stderr",
     "output_type": "stream",
     "text": [
      " 13% (63833 of 479933) |##               | Elapsed Time: 0:06:01 ETA:   1:02:26"
     ]
    },
    {
     "name": "stdout",
     "output_type": "stream",
     "text": [
      "Phases: 51\n"
     ]
    },
    {
     "name": "stderr",
     "output_type": "stream",
     "text": [
      " 13% (65205 of 479933) |##               | Elapsed Time: 0:06:09 ETA:   1:02:28"
     ]
    },
    {
     "name": "stdout",
     "output_type": "stream",
     "text": [
      "Phases: 52\n"
     ]
    },
    {
     "name": "stderr",
     "output_type": "stream",
     "text": [
      " 13% (66239 of 479933) |##               | Elapsed Time: 0:06:15 ETA:   1:04:21"
     ]
    },
    {
     "name": "stdout",
     "output_type": "stream",
     "text": [
      "Phases: 53\n"
     ]
    },
    {
     "name": "stderr",
     "output_type": "stream",
     "text": [
      " 14% (67490 of 479933) |##               | Elapsed Time: 0:06:22 ETA:   1:05:39"
     ]
    },
    {
     "name": "stdout",
     "output_type": "stream",
     "text": [
      "Phases: 54\n"
     ]
    },
    {
     "name": "stderr",
     "output_type": "stream",
     "text": [
      " 14% (68517 of 479933) |##               | Elapsed Time: 0:06:28 ETA:   1:02:54"
     ]
    },
    {
     "name": "stdout",
     "output_type": "stream",
     "text": [
      "Phases: 55\n"
     ]
    },
    {
     "name": "stderr",
     "output_type": "stream",
     "text": [
      " 14% (69760 of 479933) |##               | Elapsed Time: 0:06:35 ETA:   1:05:29"
     ]
    },
    {
     "name": "stdout",
     "output_type": "stream",
     "text": [
      "Phases: 56\n"
     ]
    },
    {
     "name": "stderr",
     "output_type": "stream",
     "text": [
      " 14% (70777 of 479933) |##               | Elapsed Time: 0:06:41 ETA:   0:57:42"
     ]
    },
    {
     "name": "stdout",
     "output_type": "stream",
     "text": [
      "Phases: 57\n"
     ]
    },
    {
     "name": "stderr",
     "output_type": "stream",
     "text": [
      " 15% (72018 of 479933) |##               | Elapsed Time: 0:06:48 ETA:   1:02:22"
     ]
    },
    {
     "name": "stdout",
     "output_type": "stream",
     "text": [
      "Phases: 58\n"
     ]
    },
    {
     "name": "stderr",
     "output_type": "stream",
     "text": [
      " 15% (73097 of 479933) |##               | Elapsed Time: 0:06:55 ETA:   1:04:56"
     ]
    },
    {
     "name": "stdout",
     "output_type": "stream",
     "text": [
      "Phases: 59\n"
     ]
    },
    {
     "name": "stderr",
     "output_type": "stream",
     "text": [
      " 15% (74410 of 479933) |##               | Elapsed Time: 0:07:02 ETA:   0:51:10"
     ]
    },
    {
     "name": "stdout",
     "output_type": "stream",
     "text": [
      "Phases: 60\n",
      "Subject 3 windowed. Time elapsed: 0:07:06\n",
      "\n",
      "Swing Onset at sample 6324\n"
     ]
    },
    {
     "name": "stderr",
     "output_type": "stream",
     "text": [
      "  0% (7 of 480077) |                     | Elapsed Time: 0:00:00 ETA:   1:58:04"
     ]
    },
    {
     "name": "stdout",
     "output_type": "stream",
     "text": [
      "Subject 4 rows: 486600\n"
     ]
    },
    {
     "name": "stderr",
     "output_type": "stream",
     "text": [
      "  0% (1587 of 480077) |                  | Elapsed Time: 0:00:08 ETA:   1:16:41"
     ]
    },
    {
     "name": "stdout",
     "output_type": "stream",
     "text": [
      "Phases: 1\n"
     ]
    },
    {
     "name": "stderr",
     "output_type": "stream",
     "text": [
      "  0% (2246 of 480077) |                  | Elapsed Time: 0:00:13 ETA:   1:15:39"
     ]
    },
    {
     "name": "stdout",
     "output_type": "stream",
     "text": [
      "Phases: 2\n"
     ]
    },
    {
     "name": "stderr",
     "output_type": "stream",
     "text": [
      "  0% (3658 of 480077) |                  | Elapsed Time: 0:00:20 ETA:   1:13:17"
     ]
    },
    {
     "name": "stdout",
     "output_type": "stream",
     "text": [
      "Phases: 3\n"
     ]
    },
    {
     "name": "stderr",
     "output_type": "stream",
     "text": [
      "  0% (4297 of 480077) |                  | Elapsed Time: 0:00:25 ETA:   1:13:36"
     ]
    },
    {
     "name": "stdout",
     "output_type": "stream",
     "text": [
      "Phases: 4\n"
     ]
    },
    {
     "name": "stderr",
     "output_type": "stream",
     "text": [
      "  1% (5740 of 480077) |                  | Elapsed Time: 0:00:33 ETA:   1:13:33"
     ]
    },
    {
     "name": "stdout",
     "output_type": "stream",
     "text": [
      "Phases: 5\n"
     ]
    },
    {
     "name": "stderr",
     "output_type": "stream",
     "text": [
      "  1% (6318 of 480077) |                  | Elapsed Time: 0:00:37 ETA:   1:14:15"
     ]
    },
    {
     "name": "stdout",
     "output_type": "stream",
     "text": [
      "Phases: 6\n"
     ]
    },
    {
     "name": "stderr",
     "output_type": "stream",
     "text": [
      "  1% (7920 of 480077) |                  | Elapsed Time: 0:00:45 ETA:   1:10:29"
     ]
    },
    {
     "name": "stdout",
     "output_type": "stream",
     "text": [
      "Phases: 7\n"
     ]
    },
    {
     "name": "stderr",
     "output_type": "stream",
     "text": [
      "  1% (8402 of 480077) |                  | Elapsed Time: 0:00:49 ETA:   1:11:08"
     ]
    },
    {
     "name": "stdout",
     "output_type": "stream",
     "text": [
      "Phases: 8\n"
     ]
    },
    {
     "name": "stderr",
     "output_type": "stream",
     "text": [
      "  2% (9945 of 480077) |                  | Elapsed Time: 0:00:58 ETA:   1:11:52"
     ]
    },
    {
     "name": "stdout",
     "output_type": "stream",
     "text": [
      "Phases: 9\n"
     ]
    },
    {
     "name": "stderr",
     "output_type": "stream",
     "text": [
      "  2% (10520 of 480077) |                 | Elapsed Time: 0:01:02 ETA:   1:12:06"
     ]
    },
    {
     "name": "stdout",
     "output_type": "stream",
     "text": [
      "Phases: 10\n"
     ]
    },
    {
     "name": "stderr",
     "output_type": "stream",
     "text": [
      "  2% (12327 of 480077) |                 | Elapsed Time: 0:01:11 ETA:   1:11:12"
     ]
    },
    {
     "name": "stdout",
     "output_type": "stream",
     "text": [
      "Phases: 11\n"
     ]
    },
    {
     "name": "stderr",
     "output_type": "stream",
     "text": [
      "  2% (12752 of 480077) |                 | Elapsed Time: 0:01:15 ETA:   1:13:09"
     ]
    },
    {
     "name": "stdout",
     "output_type": "stream",
     "text": [
      "Phases: 12\n"
     ]
    },
    {
     "name": "stderr",
     "output_type": "stream",
     "text": [
      "  2% (14118 of 480077) |                 | Elapsed Time: 0:01:22 ETA:   1:11:17"
     ]
    },
    {
     "name": "stdout",
     "output_type": "stream",
     "text": [
      "Phases: 13\n"
     ]
    },
    {
     "name": "stderr",
     "output_type": "stream",
     "text": [
      "  3% (14800 of 480077) |                 | Elapsed Time: 0:01:27 ETA:   1:06:02"
     ]
    },
    {
     "name": "stdout",
     "output_type": "stream",
     "text": [
      "Phases: 14\n"
     ]
    },
    {
     "name": "stderr",
     "output_type": "stream",
     "text": [
      "  3% (16509 of 480077) |                 | Elapsed Time: 0:01:36 ETA:   1:08:36"
     ]
    },
    {
     "name": "stdout",
     "output_type": "stream",
     "text": [
      "Phases: 15\n"
     ]
    },
    {
     "name": "stderr",
     "output_type": "stream",
     "text": [
      "  3% (16863 of 480077) |                 | Elapsed Time: 0:01:39 ETA:   1:13:37"
     ]
    },
    {
     "name": "stdout",
     "output_type": "stream",
     "text": [
      "Phases: 16\n"
     ]
    },
    {
     "name": "stderr",
     "output_type": "stream",
     "text": [
      "  3% (18367 of 480077) |                 | Elapsed Time: 0:01:47 ETA:   1:07:25"
     ]
    },
    {
     "name": "stdout",
     "output_type": "stream",
     "text": [
      "Phases: 17\n"
     ]
    },
    {
     "name": "stderr",
     "output_type": "stream",
     "text": [
      "  3% (18900 of 480077) |                 | Elapsed Time: 0:01:51 ETA:   1:09:40"
     ]
    },
    {
     "name": "stdout",
     "output_type": "stream",
     "text": [
      "Phases: 18\n"
     ]
    },
    {
     "name": "stderr",
     "output_type": "stream",
     "text": [
      "  4% (20387 of 480077) |                 | Elapsed Time: 0:01:59 ETA:   1:10:38"
     ]
    },
    {
     "name": "stdout",
     "output_type": "stream",
     "text": [
      "Phases: 19\n"
     ]
    },
    {
     "name": "stderr",
     "output_type": "stream",
     "text": [
      "  4% (20967 of 480077) |                 | Elapsed Time: 0:02:04 ETA:   1:12:02"
     ]
    },
    {
     "name": "stdout",
     "output_type": "stream",
     "text": [
      "Phases: 20\n"
     ]
    },
    {
     "name": "stderr",
     "output_type": "stream",
     "text": [
      "  4% (22261 of 480077) |                 | Elapsed Time: 0:02:11 ETA:   1:13:12"
     ]
    },
    {
     "name": "stdout",
     "output_type": "stream",
     "text": [
      "Phases: 21\n"
     ]
    },
    {
     "name": "stderr",
     "output_type": "stream",
     "text": [
      "  4% (23151 of 480077) |                 | Elapsed Time: 0:02:16 ETA:   1:08:18"
     ]
    },
    {
     "name": "stdout",
     "output_type": "stream",
     "text": [
      "Phases: 22\n"
     ]
    },
    {
     "name": "stderr",
     "output_type": "stream",
     "text": [
      "  5% (24448 of 480077) |                 | Elapsed Time: 0:02:24 ETA:   1:14:34"
     ]
    },
    {
     "name": "stdout",
     "output_type": "stream",
     "text": [
      "Phases: 23\n"
     ]
    },
    {
     "name": "stderr",
     "output_type": "stream",
     "text": [
      "  5% (25237 of 480077) |                 | Elapsed Time: 0:02:29 ETA:   1:09:12"
     ]
    },
    {
     "name": "stdout",
     "output_type": "stream",
     "text": [
      "Phases: 24\n"
     ]
    },
    {
     "name": "stderr",
     "output_type": "stream",
     "text": [
      "  5% (26612 of 480077) |                 | Elapsed Time: 0:02:36 ETA:   1:07:52"
     ]
    },
    {
     "name": "stdout",
     "output_type": "stream",
     "text": [
      "Phases: 25\n"
     ]
    },
    {
     "name": "stderr",
     "output_type": "stream",
     "text": [
      "  5% (27294 of 480077) |                 | Elapsed Time: 0:02:41 ETA:   1:06:34"
     ]
    },
    {
     "name": "stdout",
     "output_type": "stream",
     "text": [
      "Phases: 26\n"
     ]
    },
    {
     "name": "stderr",
     "output_type": "stream",
     "text": [
      "  6% (28864 of 480077) |#                | Elapsed Time: 0:02:49 ETA:   1:08:20"
     ]
    },
    {
     "name": "stdout",
     "output_type": "stream",
     "text": [
      "Phases: 27\n"
     ]
    },
    {
     "name": "stderr",
     "output_type": "stream",
     "text": [
      "  6% (29354 of 480077) |#                | Elapsed Time: 0:02:53 ETA:   1:09:22"
     ]
    },
    {
     "name": "stdout",
     "output_type": "stream",
     "text": [
      "Phases: 28\n"
     ]
    },
    {
     "name": "stderr",
     "output_type": "stream",
     "text": [
      "  6% (30627 of 480077) |#                | Elapsed Time: 0:03:00 ETA:   1:10:12"
     ]
    },
    {
     "name": "stdout",
     "output_type": "stream",
     "text": [
      "Phases: 29\n"
     ]
    },
    {
     "name": "stderr",
     "output_type": "stream",
     "text": [
      "  6% (31504 of 480077) |#                | Elapsed Time: 0:03:06 ETA:   1:03:31"
     ]
    },
    {
     "name": "stdout",
     "output_type": "stream",
     "text": [
      "Phases: 30\n"
     ]
    },
    {
     "name": "stderr",
     "output_type": "stream",
     "text": [
      "  6% (33000 of 480077) |#                | Elapsed Time: 0:03:14 ETA:   1:10:37"
     ]
    },
    {
     "name": "stdout",
     "output_type": "stream",
     "text": [
      "Phases: 31\n"
     ]
    },
    {
     "name": "stderr",
     "output_type": "stream",
     "text": [
      "  7% (33900 of 480077) |#                | Elapsed Time: 0:03:19 ETA:   1:08:23"
     ]
    },
    {
     "name": "stdout",
     "output_type": "stream",
     "text": [
      "Phases: 32\n"
     ]
    },
    {
     "name": "stderr",
     "output_type": "stream",
     "text": [
      "  7% (35545 of 480077) |#                | Elapsed Time: 0:03:28 ETA:   1:08:20"
     ]
    },
    {
     "name": "stdout",
     "output_type": "stream",
     "text": [
      "Phases: 33\n"
     ]
    },
    {
     "name": "stderr",
     "output_type": "stream",
     "text": [
      "  7% (36134 of 480077) |#                | Elapsed Time: 0:03:32 ETA:   1:04:30"
     ]
    },
    {
     "name": "stdout",
     "output_type": "stream",
     "text": [
      "Phases: 34\n"
     ]
    },
    {
     "name": "stderr",
     "output_type": "stream",
     "text": [
      "  7% (37723 of 480077) |#                | Elapsed Time: 0:03:41 ETA:   1:04:24"
     ]
    },
    {
     "name": "stdout",
     "output_type": "stream",
     "text": [
      "Phases: 35\n"
     ]
    },
    {
     "name": "stderr",
     "output_type": "stream",
     "text": [
      "  7% (38217 of 480077) |#                | Elapsed Time: 0:03:45 ETA:   1:04:47"
     ]
    },
    {
     "name": "stdout",
     "output_type": "stream",
     "text": [
      "Phases: 36\n"
     ]
    },
    {
     "name": "stderr",
     "output_type": "stream",
     "text": [
      "  8% (39746 of 480077) |#                | Elapsed Time: 0:03:53 ETA:   1:08:41"
     ]
    },
    {
     "name": "stdout",
     "output_type": "stream",
     "text": [
      "Phases: 37\n"
     ]
    },
    {
     "name": "stderr",
     "output_type": "stream",
     "text": [
      "  8% (40305 of 480077) |#                | Elapsed Time: 0:03:57 ETA:   1:03:47"
     ]
    },
    {
     "name": "stdout",
     "output_type": "stream",
     "text": [
      "Phases: 38\n"
     ]
    },
    {
     "name": "stderr",
     "output_type": "stream",
     "text": [
      "  8% (41824 of 480077) |#                | Elapsed Time: 0:04:05 ETA:   1:04:48"
     ]
    },
    {
     "name": "stdout",
     "output_type": "stream",
     "text": [
      "Phases: 39\n"
     ]
    },
    {
     "name": "stderr",
     "output_type": "stream",
     "text": [
      "  8% (42412 of 480077) |#                | Elapsed Time: 0:04:09 ETA:   1:05:49"
     ]
    },
    {
     "name": "stdout",
     "output_type": "stream",
     "text": [
      "Phases: 40\n"
     ]
    },
    {
     "name": "stderr",
     "output_type": "stream",
     "text": [
      "  9% (44040 of 480077) |#                | Elapsed Time: 0:04:18 ETA:   1:06:49"
     ]
    },
    {
     "name": "stdout",
     "output_type": "stream",
     "text": [
      "Phases: 41\n"
     ]
    },
    {
     "name": "stderr",
     "output_type": "stream",
     "text": [
      "  9% (44703 of 480077) |#                | Elapsed Time: 0:04:23 ETA:   1:07:09"
     ]
    },
    {
     "name": "stdout",
     "output_type": "stream",
     "text": [
      "Phases: 42\n"
     ]
    },
    {
     "name": "stderr",
     "output_type": "stream",
     "text": [
      "  9% (46160 of 480077) |#                | Elapsed Time: 0:04:30 ETA:   1:08:22"
     ]
    },
    {
     "name": "stdout",
     "output_type": "stream",
     "text": [
      "Phases: 43\n"
     ]
    },
    {
     "name": "stderr",
     "output_type": "stream",
     "text": [
      "  9% (46966 of 480077) |#                | Elapsed Time: 0:04:36 ETA:   1:07:26"
     ]
    },
    {
     "name": "stdout",
     "output_type": "stream",
     "text": [
      "Phases: 44\n"
     ]
    },
    {
     "name": "stderr",
     "output_type": "stream",
     "text": [
      " 10% (48312 of 480077) |#                | Elapsed Time: 0:04:43 ETA:   1:01:51"
     ]
    },
    {
     "name": "stdout",
     "output_type": "stream",
     "text": [
      "Phases: 45\n"
     ]
    },
    {
     "name": "stderr",
     "output_type": "stream",
     "text": [
      " 10% (49031 of 480077) |#                | Elapsed Time: 0:04:48 ETA:   1:12:04"
     ]
    },
    {
     "name": "stdout",
     "output_type": "stream",
     "text": [
      "Phases: 46\n"
     ]
    },
    {
     "name": "stderr",
     "output_type": "stream",
     "text": [
      " 10% (50739 of 480077) |#                | Elapsed Time: 0:04:57 ETA:   1:02:35"
     ]
    },
    {
     "name": "stdout",
     "output_type": "stream",
     "text": [
      "Phases: 47\n"
     ]
    },
    {
     "name": "stderr",
     "output_type": "stream",
     "text": [
      " 10% (51104 of 480077) |#                | Elapsed Time: 0:05:00 ETA:   1:09:20"
     ]
    },
    {
     "name": "stdout",
     "output_type": "stream",
     "text": [
      "Phases: 48\n"
     ]
    },
    {
     "name": "stderr",
     "output_type": "stream",
     "text": [
      " 10% (52431 of 480077) |#                | Elapsed Time: 0:05:07 ETA:   1:04:37"
     ]
    },
    {
     "name": "stdout",
     "output_type": "stream",
     "text": [
      "Phases: 49\n"
     ]
    },
    {
     "name": "stderr",
     "output_type": "stream",
     "text": [
      " 11% (53178 of 480077) |#                | Elapsed Time: 0:05:12 ETA:   1:06:12"
     ]
    },
    {
     "name": "stdout",
     "output_type": "stream",
     "text": [
      "Phases: 50\n"
     ]
    },
    {
     "name": "stderr",
     "output_type": "stream",
     "text": [
      " 11% (54835 of 480077) |#                | Elapsed Time: 0:05:21 ETA:   1:12:30"
     ]
    },
    {
     "name": "stdout",
     "output_type": "stream",
     "text": [
      "Phases: 51\n"
     ]
    },
    {
     "name": "stderr",
     "output_type": "stream",
     "text": [
      " 11% (55345 of 480077) |#                | Elapsed Time: 0:05:25 ETA:   1:18:37"
     ]
    },
    {
     "name": "stdout",
     "output_type": "stream",
     "text": [
      "Phases: 52\n"
     ]
    },
    {
     "name": "stderr",
     "output_type": "stream",
     "text": [
      " 11% (56789 of 480077) |##               | Elapsed Time: 0:05:33 ETA:   1:11:35"
     ]
    },
    {
     "name": "stdout",
     "output_type": "stream",
     "text": [
      "Phases: 53\n"
     ]
    },
    {
     "name": "stderr",
     "output_type": "stream",
     "text": [
      " 11% (57340 of 480077) |##               | Elapsed Time: 0:05:38 ETA:   1:15:40"
     ]
    },
    {
     "name": "stdout",
     "output_type": "stream",
     "text": [
      "Phases: 54\n"
     ]
    },
    {
     "name": "stderr",
     "output_type": "stream",
     "text": [
      " 12% (59145 of 480077) |##               | Elapsed Time: 0:05:47 ETA:   1:13:54"
     ]
    },
    {
     "name": "stdout",
     "output_type": "stream",
     "text": [
      "Phases: 55\n"
     ]
    },
    {
     "name": "stderr",
     "output_type": "stream",
     "text": [
      " 12% (59606 of 480077) |##               | Elapsed Time: 0:05:51 ETA:   1:14:56"
     ]
    },
    {
     "name": "stdout",
     "output_type": "stream",
     "text": [
      "Phases: 56\n"
     ]
    },
    {
     "name": "stderr",
     "output_type": "stream",
     "text": [
      " 12% (61252 of 480077) |##               | Elapsed Time: 0:06:01 ETA:   1:16:31"
     ]
    },
    {
     "name": "stdout",
     "output_type": "stream",
     "text": [
      "Phases: 57\n"
     ]
    },
    {
     "name": "stderr",
     "output_type": "stream",
     "text": [
      " 12% (61644 of 480077) |##               | Elapsed Time: 0:06:05 ETA:   1:10:06"
     ]
    },
    {
     "name": "stdout",
     "output_type": "stream",
     "text": [
      "Phases: 58\n"
     ]
    },
    {
     "name": "stderr",
     "output_type": "stream",
     "text": [
      " 13% (63124 of 480077) |##               | Elapsed Time: 0:06:14 ETA:   2:02:21"
     ]
    },
    {
     "name": "stdout",
     "output_type": "stream",
     "text": [
      "Phases: 59\n"
     ]
    },
    {
     "name": "stderr",
     "output_type": "stream",
     "text": [
      " 13% (63745 of 480077) |##               | Elapsed Time: 0:06:19 ETA:   1:03:24"
     ]
    },
    {
     "name": "stdout",
     "output_type": "stream",
     "text": [
      "Phases: 60\n",
      "Subject 4 windowed. Time elapsed: 0:06:23\n",
      "\n",
      "Swing Onset at sample 3763\n"
     ]
    },
    {
     "name": "stderr",
     "output_type": "stream",
     "text": [
      "  0% (24 of 482638) |                    | Elapsed Time: 0:00:00 ETA:   0:34:44"
     ]
    },
    {
     "name": "stdout",
     "output_type": "stream",
     "text": [
      "Subject 5 rows: 486600\n"
     ]
    },
    {
     "name": "stderr",
     "output_type": "stream",
     "text": [
      "  0% (958 of 482638) |                   | Elapsed Time: 0:00:05 ETA:   1:21:21"
     ]
    },
    {
     "name": "stdout",
     "output_type": "stream",
     "text": [
      "Phases: 1\n"
     ]
    },
    {
     "name": "stderr",
     "output_type": "stream",
     "text": [
      "  0% (2211 of 482638) |                  | Elapsed Time: 0:00:12 ETA:   1:15:59"
     ]
    },
    {
     "name": "stdout",
     "output_type": "stream",
     "text": [
      "Phases: 2\n"
     ]
    },
    {
     "name": "stderr",
     "output_type": "stream",
     "text": [
      "  0% (3362 of 482638) |                  | Elapsed Time: 0:00:19 ETA:   1:27:39"
     ]
    },
    {
     "name": "stdout",
     "output_type": "stream",
     "text": [
      "Phases: 3\n"
     ]
    },
    {
     "name": "stderr",
     "output_type": "stream",
     "text": [
      "  0% (4154 of 482638) |                  | Elapsed Time: 0:00:24 ETA:   1:29:51"
     ]
    },
    {
     "name": "stdout",
     "output_type": "stream",
     "text": [
      "Phases: 4\n"
     ]
    },
    {
     "name": "stderr",
     "output_type": "stream",
     "text": [
      "  1% (5672 of 482638) |                  | Elapsed Time: 0:00:33 ETA:   1:16:56"
     ]
    },
    {
     "name": "stdout",
     "output_type": "stream",
     "text": [
      "Phases: 5\n"
     ]
    },
    {
     "name": "stderr",
     "output_type": "stream",
     "text": [
      "  1% (6654 of 482638) |                  | Elapsed Time: 0:00:39 ETA:   1:36:45"
     ]
    },
    {
     "name": "stdout",
     "output_type": "stream",
     "text": [
      "Phases: 6\n"
     ]
    },
    {
     "name": "stderr",
     "output_type": "stream",
     "text": [
      "  1% (7818 of 482638) |                  | Elapsed Time: 0:00:46 ETA:   1:25:16"
     ]
    },
    {
     "name": "stdout",
     "output_type": "stream",
     "text": [
      "Phases: 7\n"
     ]
    },
    {
     "name": "stderr",
     "output_type": "stream",
     "text": [
      "  1% (8625 of 482638) |                  | Elapsed Time: 0:00:51 ETA:   1:14:32"
     ]
    },
    {
     "name": "stdout",
     "output_type": "stream",
     "text": [
      "Phases: 8\n"
     ]
    },
    {
     "name": "stderr",
     "output_type": "stream",
     "text": [
      "  2% (9993 of 482638) |                  | Elapsed Time: 0:00:59 ETA:   1:09:05"
     ]
    },
    {
     "name": "stdout",
     "output_type": "stream",
     "text": [
      "Phases: 9\n"
     ]
    },
    {
     "name": "stderr",
     "output_type": "stream",
     "text": [
      "  2% (11020 of 482638) |                 | Elapsed Time: 0:01:05 ETA:   1:23:12"
     ]
    },
    {
     "name": "stdout",
     "output_type": "stream",
     "text": [
      "Phases: 10\n"
     ]
    },
    {
     "name": "stderr",
     "output_type": "stream",
     "text": [
      "  2% (12232 of 482638) |                 | Elapsed Time: 0:01:12 ETA:   1:23:13"
     ]
    },
    {
     "name": "stdout",
     "output_type": "stream",
     "text": [
      "Phases: 11\n"
     ]
    },
    {
     "name": "stderr",
     "output_type": "stream",
     "text": [
      "  2% (12950 of 482638) |                 | Elapsed Time: 0:01:18 ETA:   1:31:36"
     ]
    },
    {
     "name": "stdout",
     "output_type": "stream",
     "text": [
      "Phases: 12\n"
     ]
    },
    {
     "name": "stderr",
     "output_type": "stream",
     "text": [
      "  2% (14375 of 482638) |                 | Elapsed Time: 0:01:26 ETA:   1:27:13"
     ]
    },
    {
     "name": "stdout",
     "output_type": "stream",
     "text": [
      "Phases: 13\n"
     ]
    },
    {
     "name": "stderr",
     "output_type": "stream",
     "text": [
      "  3% (15120 of 482638) |                 | Elapsed Time: 0:01:31 ETA:   1:24:26"
     ]
    },
    {
     "name": "stdout",
     "output_type": "stream",
     "text": [
      "Phases: 14\n"
     ]
    },
    {
     "name": "stderr",
     "output_type": "stream",
     "text": [
      "  3% (16489 of 482638) |                 | Elapsed Time: 0:01:39 ETA:   1:12:34"
     ]
    },
    {
     "name": "stdout",
     "output_type": "stream",
     "text": [
      "Phases: 15\n"
     ]
    },
    {
     "name": "stderr",
     "output_type": "stream",
     "text": [
      "  3% (17522 of 482638) |                 | Elapsed Time: 0:01:46 ETA:   1:14:31"
     ]
    },
    {
     "name": "stdout",
     "output_type": "stream",
     "text": [
      "Phases: 16\n"
     ]
    },
    {
     "name": "stderr",
     "output_type": "stream",
     "text": [
      "  3% (18568 of 482638) |                 | Elapsed Time: 0:01:52 ETA:   1:05:34"
     ]
    },
    {
     "name": "stdout",
     "output_type": "stream",
     "text": [
      "Phases: 17\n"
     ]
    },
    {
     "name": "stderr",
     "output_type": "stream",
     "text": [
      "  4% (19571 of 482638) |                 | Elapsed Time: 0:01:58 ETA:   1:25:29"
     ]
    },
    {
     "name": "stdout",
     "output_type": "stream",
     "text": [
      "Phases: 18\n"
     ]
    },
    {
     "name": "stderr",
     "output_type": "stream",
     "text": [
      "  4% (20642 of 482638) |                 | Elapsed Time: 0:02:05 ETA:   1:35:14"
     ]
    },
    {
     "name": "stdout",
     "output_type": "stream",
     "text": [
      "Phases: 19\n"
     ]
    },
    {
     "name": "stderr",
     "output_type": "stream",
     "text": [
      "  4% (21679 of 482638) |                 | Elapsed Time: 0:02:12 ETA:   1:20:41"
     ]
    },
    {
     "name": "stdout",
     "output_type": "stream",
     "text": [
      "Phases: 20\n"
     ]
    },
    {
     "name": "stderr",
     "output_type": "stream",
     "text": [
      "  4% (22726 of 482638) |                 | Elapsed Time: 0:02:19 ETA:   1:46:40"
     ]
    },
    {
     "name": "stdout",
     "output_type": "stream",
     "text": [
      "Phases: 21\n"
     ]
    },
    {
     "name": "stderr",
     "output_type": "stream",
     "text": [
      "  4% (23874 of 482638) |                 | Elapsed Time: 0:02:27 ETA:   1:53:52"
     ]
    },
    {
     "name": "stdout",
     "output_type": "stream",
     "text": [
      "Phases: 22\n"
     ]
    },
    {
     "name": "stderr",
     "output_type": "stream",
     "text": [
      "  5% (24796 of 482638) |                 | Elapsed Time: 0:02:34 ETA:   1:24:20"
     ]
    },
    {
     "name": "stdout",
     "output_type": "stream",
     "text": [
      "Phases: 23\n"
     ]
    },
    {
     "name": "stderr",
     "output_type": "stream",
     "text": [
      "  5% (25929 of 482638) |                 | Elapsed Time: 0:02:41 ETA:   1:19:33"
     ]
    },
    {
     "name": "stdout",
     "output_type": "stream",
     "text": [
      "Phases: 24\n"
     ]
    },
    {
     "name": "stderr",
     "output_type": "stream",
     "text": [
      "  5% (26913 of 482638) |                 | Elapsed Time: 0:02:47 ETA:   1:23:52"
     ]
    },
    {
     "name": "stdout",
     "output_type": "stream",
     "text": [
      "Phases: 25\n"
     ]
    },
    {
     "name": "stderr",
     "output_type": "stream",
     "text": [
      "  5% (27898 of 482638) |                 | Elapsed Time: 0:02:54 ETA:   1:20:04"
     ]
    },
    {
     "name": "stdout",
     "output_type": "stream",
     "text": [
      "Phases: 26\n"
     ]
    },
    {
     "name": "stderr",
     "output_type": "stream",
     "text": [
      "  6% (29010 of 482638) |#                | Elapsed Time: 0:03:01 ETA:   1:22:24"
     ]
    },
    {
     "name": "stdout",
     "output_type": "stream",
     "text": [
      "Phases: 27\n"
     ]
    },
    {
     "name": "stderr",
     "output_type": "stream",
     "text": [
      "  6% (30008 of 482638) |#                | Elapsed Time: 0:03:07 ETA:   1:16:09"
     ]
    },
    {
     "name": "stdout",
     "output_type": "stream",
     "text": [
      "Phases: 28\n"
     ]
    },
    {
     "name": "stderr",
     "output_type": "stream",
     "text": [
      "  6% (31068 of 482638) |#                | Elapsed Time: 0:03:13 ETA:   1:09:43"
     ]
    },
    {
     "name": "stdout",
     "output_type": "stream",
     "text": [
      "Phases: 29\n"
     ]
    },
    {
     "name": "stderr",
     "output_type": "stream",
     "text": [
      "  6% (32036 of 482638) |#                | Elapsed Time: 0:03:19 ETA:   1:14:06"
     ]
    },
    {
     "name": "stdout",
     "output_type": "stream",
     "text": [
      "Phases: 30\n"
     ]
    },
    {
     "name": "stderr",
     "output_type": "stream",
     "text": [
      "  6% (33129 of 482638) |#                | Elapsed Time: 0:03:26 ETA:   1:11:25"
     ]
    },
    {
     "name": "stdout",
     "output_type": "stream",
     "text": [
      "Phases: 31\n"
     ]
    },
    {
     "name": "stderr",
     "output_type": "stream",
     "text": [
      "  7% (34011 of 482638) |#                | Elapsed Time: 0:03:31 ETA:   1:12:17"
     ]
    },
    {
     "name": "stdout",
     "output_type": "stream",
     "text": [
      "Phases: 32\n"
     ]
    },
    {
     "name": "stderr",
     "output_type": "stream",
     "text": [
      "  7% (35206 of 482638) |#                | Elapsed Time: 0:03:38 ETA:   1:09:28"
     ]
    },
    {
     "name": "stdout",
     "output_type": "stream",
     "text": [
      "Phases: 33\n"
     ]
    },
    {
     "name": "stderr",
     "output_type": "stream",
     "text": [
      "  7% (36069 of 482638) |#                | Elapsed Time: 0:03:44 ETA:   1:04:40"
     ]
    },
    {
     "name": "stdout",
     "output_type": "stream",
     "text": [
      "Phases: 34\n"
     ]
    },
    {
     "name": "stderr",
     "output_type": "stream",
     "text": [
      "  7% (37303 of 482638) |#                | Elapsed Time: 0:03:51 ETA:   1:13:37"
     ]
    },
    {
     "name": "stdout",
     "output_type": "stream",
     "text": [
      "Phases: 35\n"
     ]
    },
    {
     "name": "stderr",
     "output_type": "stream",
     "text": [
      "  7% (38094 of 482638) |#                | Elapsed Time: 0:03:56 ETA:   1:22:34"
     ]
    },
    {
     "name": "stdout",
     "output_type": "stream",
     "text": [
      "Phases: 36\n"
     ]
    },
    {
     "name": "stderr",
     "output_type": "stream",
     "text": [
      "  8% (39464 of 482638) |#                | Elapsed Time: 0:04:05 ETA:   1:27:33"
     ]
    },
    {
     "name": "stdout",
     "output_type": "stream",
     "text": [
      "Phases: 37\n"
     ]
    },
    {
     "name": "stderr",
     "output_type": "stream",
     "text": [
      "  8% (40176 of 482638) |#                | Elapsed Time: 0:04:10 ETA:   1:09:31"
     ]
    },
    {
     "name": "stdout",
     "output_type": "stream",
     "text": [
      "Phases: 38\n"
     ]
    },
    {
     "name": "stderr",
     "output_type": "stream",
     "text": [
      "  8% (41605 of 482638) |#                | Elapsed Time: 0:04:18 ETA:   1:22:50"
     ]
    },
    {
     "name": "stdout",
     "output_type": "stream",
     "text": [
      "Phases: 39\n"
     ]
    },
    {
     "name": "stderr",
     "output_type": "stream",
     "text": [
      "  8% (42579 of 482638) |#                | Elapsed Time: 0:04:24 ETA:   1:14:37"
     ]
    },
    {
     "name": "stdout",
     "output_type": "stream",
     "text": [
      "Phases: 40\n"
     ]
    },
    {
     "name": "stderr",
     "output_type": "stream",
     "text": [
      "  9% (43698 of 482638) |#                | Elapsed Time: 0:04:30 ETA:   1:04:33"
     ]
    },
    {
     "name": "stdout",
     "output_type": "stream",
     "text": [
      "Phases: 41\n"
     ]
    },
    {
     "name": "stderr",
     "output_type": "stream",
     "text": [
      "  9% (44533 of 482638) |#                | Elapsed Time: 0:04:36 ETA:   1:10:22"
     ]
    },
    {
     "name": "stdout",
     "output_type": "stream",
     "text": [
      "Phases: 42\n"
     ]
    },
    {
     "name": "stderr",
     "output_type": "stream",
     "text": [
      "  9% (45783 of 482638) |#                | Elapsed Time: 0:04:43 ETA:   1:13:03"
     ]
    },
    {
     "name": "stdout",
     "output_type": "stream",
     "text": [
      "Phases: 43\n"
     ]
    },
    {
     "name": "stderr",
     "output_type": "stream",
     "text": [
      "  9% (46741 of 482638) |#                | Elapsed Time: 0:04:49 ETA:   1:56:20"
     ]
    },
    {
     "name": "stdout",
     "output_type": "stream",
     "text": [
      "Phases: 44\n"
     ]
    },
    {
     "name": "stderr",
     "output_type": "stream",
     "text": [
      "  9% (47903 of 482638) |#                | Elapsed Time: 0:04:56 ETA:   1:07:25"
     ]
    },
    {
     "name": "stdout",
     "output_type": "stream",
     "text": [
      "Phases: 45\n"
     ]
    },
    {
     "name": "stderr",
     "output_type": "stream",
     "text": [
      " 10% (48879 of 482638) |#                | Elapsed Time: 0:05:02 ETA:   1:12:42"
     ]
    },
    {
     "name": "stdout",
     "output_type": "stream",
     "text": [
      "Phases: 46\n"
     ]
    },
    {
     "name": "stderr",
     "output_type": "stream",
     "text": [
      " 10% (49998 of 482638) |#                | Elapsed Time: 0:05:09 ETA:   1:02:28"
     ]
    },
    {
     "name": "stdout",
     "output_type": "stream",
     "text": [
      "Phases: 47\n"
     ]
    },
    {
     "name": "stderr",
     "output_type": "stream",
     "text": [
      " 10% (51177 of 482638) |#                | Elapsed Time: 0:05:16 ETA:   1:10:09"
     ]
    },
    {
     "name": "stdout",
     "output_type": "stream",
     "text": [
      "Phases: 48\n"
     ]
    },
    {
     "name": "stderr",
     "output_type": "stream",
     "text": [
      " 10% (52180 of 482638) |#                | Elapsed Time: 0:05:22 ETA:   1:11:59"
     ]
    },
    {
     "name": "stdout",
     "output_type": "stream",
     "text": [
      "Phases: 49\n"
     ]
    },
    {
     "name": "stderr",
     "output_type": "stream",
     "text": [
      " 11% (53358 of 482638) |#                | Elapsed Time: 0:05:29 ETA:   1:08:28"
     ]
    },
    {
     "name": "stdout",
     "output_type": "stream",
     "text": [
      "Phases: 50\n"
     ]
    },
    {
     "name": "stderr",
     "output_type": "stream",
     "text": [
      " 11% (54332 of 482638) |#                | Elapsed Time: 0:05:35 ETA:   1:09:29"
     ]
    },
    {
     "name": "stdout",
     "output_type": "stream",
     "text": [
      "Phases: 51\n"
     ]
    },
    {
     "name": "stderr",
     "output_type": "stream",
     "text": [
      " 11% (55415 of 482638) |#                | Elapsed Time: 0:05:42 ETA:   1:20:16"
     ]
    },
    {
     "name": "stdout",
     "output_type": "stream",
     "text": [
      "Phases: 52\n"
     ]
    },
    {
     "name": "stderr",
     "output_type": "stream",
     "text": [
      " 11% (56487 of 482638) |#                | Elapsed Time: 0:05:48 ETA:   1:09:47"
     ]
    },
    {
     "name": "stdout",
     "output_type": "stream",
     "text": [
      "Phases: 53\n"
     ]
    },
    {
     "name": "stderr",
     "output_type": "stream",
     "text": [
      " 11% (57500 of 482638) |##               | Elapsed Time: 0:05:55 ETA:   1:10:25"
     ]
    },
    {
     "name": "stdout",
     "output_type": "stream",
     "text": [
      "Phases: 54\n"
     ]
    },
    {
     "name": "stderr",
     "output_type": "stream",
     "text": [
      " 12% (58568 of 482638) |##               | Elapsed Time: 0:06:01 ETA:   1:08:32"
     ]
    },
    {
     "name": "stdout",
     "output_type": "stream",
     "text": [
      "Phases: 55\n"
     ]
    },
    {
     "name": "stderr",
     "output_type": "stream",
     "text": [
      " 12% (59540 of 482638) |##               | Elapsed Time: 0:06:07 ETA:   1:06:09"
     ]
    },
    {
     "name": "stdout",
     "output_type": "stream",
     "text": [
      "Phases: 56\n"
     ]
    },
    {
     "name": "stderr",
     "output_type": "stream",
     "text": [
      " 12% (60684 of 482638) |##               | Elapsed Time: 0:06:14 ETA:   1:04:20"
     ]
    },
    {
     "name": "stdout",
     "output_type": "stream",
     "text": [
      "Phases: 57\n"
     ]
    },
    {
     "name": "stderr",
     "output_type": "stream",
     "text": [
      " 12% (61672 of 482638) |##               | Elapsed Time: 0:06:20 ETA:   1:06:17"
     ]
    },
    {
     "name": "stdout",
     "output_type": "stream",
     "text": [
      "Phases: 58\n"
     ]
    },
    {
     "name": "stderr",
     "output_type": "stream",
     "text": [
      " 13% (62789 of 482638) |##               | Elapsed Time: 0:06:27 ETA:   1:21:12"
     ]
    },
    {
     "name": "stdout",
     "output_type": "stream",
     "text": [
      "Phases: 59\n"
     ]
    },
    {
     "name": "stderr",
     "output_type": "stream",
     "text": [
      " 13% (63505 of 482638) |##               | Elapsed Time: 0:06:32 ETA:   0:55:25"
     ]
    },
    {
     "name": "stdout",
     "output_type": "stream",
     "text": [
      "Phases: 60\n",
      "Subject 5 windowed. Time elapsed: 0:06:36\n",
      "\n",
      "Swing Onset at sample 4041\n"
     ]
    },
    {
     "name": "stderr",
     "output_type": "stream",
     "text": [
      "  0% (24 of 482360) |                    | Elapsed Time: 0:00:00 ETA:   0:35:35"
     ]
    },
    {
     "name": "stdout",
     "output_type": "stream",
     "text": [
      "Subject 6 rows: 486600\n"
     ]
    },
    {
     "name": "stderr",
     "output_type": "stream",
     "text": [
      "  0% (945 of 482360) |                   | Elapsed Time: 0:00:04 ETA:   1:20:59"
     ]
    },
    {
     "name": "stdout",
     "output_type": "stream",
     "text": [
      "Phases: 1\n"
     ]
    },
    {
     "name": "stderr",
     "output_type": "stream",
     "text": [
      "  0% (2194 of 482360) |                  | Elapsed Time: 0:00:12 ETA:   1:24:25"
     ]
    },
    {
     "name": "stdout",
     "output_type": "stream",
     "text": [
      "Phases: 2\n"
     ]
    },
    {
     "name": "stderr",
     "output_type": "stream",
     "text": [
      "  0% (3368 of 482360) |                  | Elapsed Time: 0:00:19 ETA:   1:23:07"
     ]
    },
    {
     "name": "stdout",
     "output_type": "stream",
     "text": [
      "Phases: 3\n"
     ]
    },
    {
     "name": "stderr",
     "output_type": "stream",
     "text": [
      "  0% (4485 of 482360) |                  | Elapsed Time: 0:00:25 ETA:   1:17:37"
     ]
    },
    {
     "name": "stdout",
     "output_type": "stream",
     "text": [
      "Phases: 4\n"
     ]
    },
    {
     "name": "stderr",
     "output_type": "stream",
     "text": [
      "  1% (5519 of 482360) |                  | Elapsed Time: 0:00:32 ETA:   1:14:09"
     ]
    },
    {
     "name": "stdout",
     "output_type": "stream",
     "text": [
      "Phases: 5\n"
     ]
    },
    {
     "name": "stderr",
     "output_type": "stream",
     "text": [
      "  1% (6712 of 482360) |                  | Elapsed Time: 0:00:39 ETA:   1:14:54"
     ]
    },
    {
     "name": "stdout",
     "output_type": "stream",
     "text": [
      "Phases: 6\n"
     ]
    },
    {
     "name": "stderr",
     "output_type": "stream",
     "text": [
      "  1% (7732 of 482360) |                  | Elapsed Time: 0:00:45 ETA:   1:15:54"
     ]
    },
    {
     "name": "stdout",
     "output_type": "stream",
     "text": [
      "Phases: 7\n"
     ]
    },
    {
     "name": "stderr",
     "output_type": "stream",
     "text": [
      "  1% (8970 of 482360) |                  | Elapsed Time: 0:00:52 ETA:   1:18:06"
     ]
    },
    {
     "name": "stdout",
     "output_type": "stream",
     "text": [
      "Phases: 8\n"
     ]
    },
    {
     "name": "stderr",
     "output_type": "stream",
     "text": [
      "  2% (10001 of 482360) |                 | Elapsed Time: 0:00:58 ETA:   1:17:22"
     ]
    },
    {
     "name": "stdout",
     "output_type": "stream",
     "text": [
      "Phases: 9\n"
     ]
    },
    {
     "name": "stderr",
     "output_type": "stream",
     "text": [
      "  2% (11181 of 482360) |                 | Elapsed Time: 0:01:05 ETA:   1:23:55"
     ]
    },
    {
     "name": "stdout",
     "output_type": "stream",
     "text": [
      "Phases: 10\n"
     ]
    },
    {
     "name": "stderr",
     "output_type": "stream",
     "text": [
      "  2% (12259 of 482360) |                 | Elapsed Time: 0:01:12 ETA:   1:24:22"
     ]
    },
    {
     "name": "stdout",
     "output_type": "stream",
     "text": [
      "Phases: 11\n"
     ]
    },
    {
     "name": "stderr",
     "output_type": "stream",
     "text": [
      "  2% (13489 of 482360) |                 | Elapsed Time: 0:01:19 ETA:   1:22:22"
     ]
    },
    {
     "name": "stdout",
     "output_type": "stream",
     "text": [
      "Phases: 12\n"
     ]
    },
    {
     "name": "stderr",
     "output_type": "stream",
     "text": [
      "  3% (14560 of 482360) |                 | Elapsed Time: 0:01:26 ETA:   1:20:01"
     ]
    },
    {
     "name": "stdout",
     "output_type": "stream",
     "text": [
      "Phases: 13\n"
     ]
    },
    {
     "name": "stderr",
     "output_type": "stream",
     "text": [
      "  3% (15802 of 482360) |                 | Elapsed Time: 0:01:34 ETA:   1:49:39"
     ]
    },
    {
     "name": "stdout",
     "output_type": "stream",
     "text": [
      "Phases: 14\n"
     ]
    },
    {
     "name": "stderr",
     "output_type": "stream",
     "text": [
      "  3% (16818 of 482360) |                 | Elapsed Time: 0:01:40 ETA:   1:22:47"
     ]
    },
    {
     "name": "stdout",
     "output_type": "stream",
     "text": [
      "Phases: 15\n"
     ]
    },
    {
     "name": "stderr",
     "output_type": "stream",
     "text": [
      "  3% (17991 of 482360) |                 | Elapsed Time: 0:01:47 ETA:   1:31:23"
     ]
    },
    {
     "name": "stdout",
     "output_type": "stream",
     "text": [
      "Phases: 16\n"
     ]
    },
    {
     "name": "stderr",
     "output_type": "stream",
     "text": [
      "  3% (19016 of 482360) |                 | Elapsed Time: 0:01:54 ETA:   1:25:00"
     ]
    },
    {
     "name": "stdout",
     "output_type": "stream",
     "text": [
      "Phases: 17\n"
     ]
    },
    {
     "name": "stderr",
     "output_type": "stream",
     "text": [
      "  4% (20185 of 482360) |                 | Elapsed Time: 0:02:01 ETA:   1:26:28"
     ]
    },
    {
     "name": "stdout",
     "output_type": "stream",
     "text": [
      "Phases: 18\n"
     ]
    },
    {
     "name": "stderr",
     "output_type": "stream",
     "text": [
      "  4% (21245 of 482360) |                 | Elapsed Time: 0:02:08 ETA:   1:13:36"
     ]
    },
    {
     "name": "stdout",
     "output_type": "stream",
     "text": [
      "Phases: 19\n"
     ]
    },
    {
     "name": "stderr",
     "output_type": "stream",
     "text": [
      "  4% (22434 of 482360) |                 | Elapsed Time: 0:02:15 ETA:   1:13:34"
     ]
    },
    {
     "name": "stdout",
     "output_type": "stream",
     "text": [
      "Phases: 20\n"
     ]
    },
    {
     "name": "stderr",
     "output_type": "stream",
     "text": [
      "  4% (23473 of 482360) |                 | Elapsed Time: 0:02:21 ETA:   1:12:14"
     ]
    },
    {
     "name": "stdout",
     "output_type": "stream",
     "text": [
      "Phases: 21\n"
     ]
    },
    {
     "name": "stderr",
     "output_type": "stream",
     "text": [
      "  5% (24673 of 482360) |                 | Elapsed Time: 0:02:28 ETA:   1:26:06"
     ]
    },
    {
     "name": "stdout",
     "output_type": "stream",
     "text": [
      "Phases: 22\n"
     ]
    },
    {
     "name": "stderr",
     "output_type": "stream",
     "text": [
      "  5% (25700 of 482360) |                 | Elapsed Time: 0:02:35 ETA:   1:16:20"
     ]
    },
    {
     "name": "stdout",
     "output_type": "stream",
     "text": [
      "Phases: 23\n"
     ]
    },
    {
     "name": "stderr",
     "output_type": "stream",
     "text": [
      "  5% (26975 of 482360) |                 | Elapsed Time: 0:02:42 ETA:   1:11:19"
     ]
    },
    {
     "name": "stdout",
     "output_type": "stream",
     "text": [
      "Phases: 24\n"
     ]
    },
    {
     "name": "stderr",
     "output_type": "stream",
     "text": [
      "  5% (27958 of 482360) |                 | Elapsed Time: 0:02:48 ETA:   1:07:19"
     ]
    },
    {
     "name": "stdout",
     "output_type": "stream",
     "text": [
      "Phases: 25\n"
     ]
    },
    {
     "name": "stderr",
     "output_type": "stream",
     "text": [
      "  6% (29203 of 482360) |#                | Elapsed Time: 0:02:56 ETA:   1:17:32"
     ]
    },
    {
     "name": "stdout",
     "output_type": "stream",
     "text": [
      "Phases: 26\n"
     ]
    },
    {
     "name": "stderr",
     "output_type": "stream",
     "text": [
      "  6% (30187 of 482360) |#                | Elapsed Time: 0:03:02 ETA:   1:16:26"
     ]
    },
    {
     "name": "stdout",
     "output_type": "stream",
     "text": [
      "Phases: 27\n"
     ]
    },
    {
     "name": "stderr",
     "output_type": "stream",
     "text": [
      "  6% (31435 of 482360) |#                | Elapsed Time: 0:03:09 ETA:   1:32:22"
     ]
    },
    {
     "name": "stdout",
     "output_type": "stream",
     "text": [
      "Phases: 28\n"
     ]
    },
    {
     "name": "stderr",
     "output_type": "stream",
     "text": [
      "  6% (32512 of 482360) |#                | Elapsed Time: 0:03:16 ETA:   1:08:54"
     ]
    },
    {
     "name": "stdout",
     "output_type": "stream",
     "text": [
      "Phases: 29\n"
     ]
    },
    {
     "name": "stderr",
     "output_type": "stream",
     "text": [
      "  6% (33632 of 482360) |#                | Elapsed Time: 0:03:23 ETA:   1:12:28"
     ]
    },
    {
     "name": "stdout",
     "output_type": "stream",
     "text": [
      "Phases: 30\n"
     ]
    },
    {
     "name": "stderr",
     "output_type": "stream",
     "text": [
      "  7% (34720 of 482360) |#                | Elapsed Time: 0:03:29 ETA:   1:15:54"
     ]
    },
    {
     "name": "stdout",
     "output_type": "stream",
     "text": [
      "Phases: 31\n"
     ]
    },
    {
     "name": "stderr",
     "output_type": "stream",
     "text": [
      "  7% (35926 of 482360) |#                | Elapsed Time: 0:03:37 ETA:   1:19:39"
     ]
    },
    {
     "name": "stdout",
     "output_type": "stream",
     "text": [
      "Phases: 32\n"
     ]
    },
    {
     "name": "stderr",
     "output_type": "stream",
     "text": [
      "  7% (36921 of 482360) |#                | Elapsed Time: 0:03:43 ETA:   1:10:10"
     ]
    },
    {
     "name": "stdout",
     "output_type": "stream",
     "text": [
      "Phases: 33\n"
     ]
    },
    {
     "name": "stderr",
     "output_type": "stream",
     "text": [
      "  7% (38079 of 482360) |#                | Elapsed Time: 0:03:49 ETA:   1:07:50"
     ]
    },
    {
     "name": "stdout",
     "output_type": "stream",
     "text": [
      "Phases: 34\n"
     ]
    },
    {
     "name": "stderr",
     "output_type": "stream",
     "text": [
      "  8% (39170 of 482360) |#                | Elapsed Time: 0:03:56 ETA:   1:14:33"
     ]
    },
    {
     "name": "stdout",
     "output_type": "stream",
     "text": [
      "Phases: 35\n"
     ]
    },
    {
     "name": "stderr",
     "output_type": "stream",
     "text": [
      "  8% (40315 of 482360) |#                | Elapsed Time: 0:04:03 ETA:   1:04:28"
     ]
    },
    {
     "name": "stdout",
     "output_type": "stream",
     "text": [
      "Phases: 36\n"
     ]
    },
    {
     "name": "stderr",
     "output_type": "stream",
     "text": [
      "  8% (41445 of 482360) |#                | Elapsed Time: 0:04:09 ETA:   1:05:42"
     ]
    },
    {
     "name": "stdout",
     "output_type": "stream",
     "text": [
      "Phases: 37\n"
     ]
    },
    {
     "name": "stderr",
     "output_type": "stream",
     "text": [
      "  8% (42594 of 482360) |#                | Elapsed Time: 0:04:16 ETA:   1:07:20"
     ]
    },
    {
     "name": "stdout",
     "output_type": "stream",
     "text": [
      "Phases: 38\n"
     ]
    },
    {
     "name": "stderr",
     "output_type": "stream",
     "text": [
      "  9% (43723 of 482360) |#                | Elapsed Time: 0:04:23 ETA:   1:16:00"
     ]
    },
    {
     "name": "stdout",
     "output_type": "stream",
     "text": [
      "Phases: 39\n"
     ]
    },
    {
     "name": "stderr",
     "output_type": "stream",
     "text": [
      "  9% (44767 of 482360) |#                | Elapsed Time: 0:04:29 ETA:   1:07:40"
     ]
    },
    {
     "name": "stdout",
     "output_type": "stream",
     "text": [
      "Phases: 40\n"
     ]
    },
    {
     "name": "stderr",
     "output_type": "stream",
     "text": [
      "  9% (45896 of 482360) |#                | Elapsed Time: 0:04:36 ETA:   1:10:31"
     ]
    },
    {
     "name": "stdout",
     "output_type": "stream",
     "text": [
      "Phases: 41\n"
     ]
    },
    {
     "name": "stderr",
     "output_type": "stream",
     "text": [
      "  9% (47170 of 482360) |#                | Elapsed Time: 0:04:43 ETA:   1:05:57"
     ]
    },
    {
     "name": "stdout",
     "output_type": "stream",
     "text": [
      "Phases: 42\n"
     ]
    },
    {
     "name": "stderr",
     "output_type": "stream",
     "text": [
      "  9% (48182 of 482360) |#                | Elapsed Time: 0:04:49 ETA:   1:08:27"
     ]
    },
    {
     "name": "stdout",
     "output_type": "stream",
     "text": [
      "Phases: 43\n"
     ]
    },
    {
     "name": "stderr",
     "output_type": "stream",
     "text": [
      " 10% (49392 of 482360) |#                | Elapsed Time: 0:04:56 ETA:   1:10:11"
     ]
    },
    {
     "name": "stdout",
     "output_type": "stream",
     "text": [
      "Phases: 44\n"
     ]
    },
    {
     "name": "stderr",
     "output_type": "stream",
     "text": [
      " 10% (50438 of 482360) |#                | Elapsed Time: 0:05:02 ETA:   1:08:16"
     ]
    },
    {
     "name": "stdout",
     "output_type": "stream",
     "text": [
      "Phases: 45\n"
     ]
    },
    {
     "name": "stderr",
     "output_type": "stream",
     "text": [
      " 10% (51658 of 482360) |#                | Elapsed Time: 0:05:09 ETA:   1:07:10"
     ]
    },
    {
     "name": "stdout",
     "output_type": "stream",
     "text": [
      "Phases: 46\n"
     ]
    },
    {
     "name": "stderr",
     "output_type": "stream",
     "text": [
      " 10% (52660 of 482360) |#                | Elapsed Time: 0:05:16 ETA:   1:18:55"
     ]
    },
    {
     "name": "stdout",
     "output_type": "stream",
     "text": [
      "Phases: 47\n"
     ]
    },
    {
     "name": "stderr",
     "output_type": "stream",
     "text": [
      " 11% (53858 of 482360) |#                | Elapsed Time: 0:05:23 ETA:   1:11:44"
     ]
    },
    {
     "name": "stdout",
     "output_type": "stream",
     "text": [
      "Phases: 48\n"
     ]
    },
    {
     "name": "stderr",
     "output_type": "stream",
     "text": [
      " 11% (54883 of 482360) |#                | Elapsed Time: 0:05:29 ETA:   1:07:12"
     ]
    },
    {
     "name": "stdout",
     "output_type": "stream",
     "text": [
      "Phases: 49\n"
     ]
    },
    {
     "name": "stderr",
     "output_type": "stream",
     "text": [
      " 11% (56097 of 482360) |#                | Elapsed Time: 0:05:36 ETA:   1:14:09"
     ]
    },
    {
     "name": "stdout",
     "output_type": "stream",
     "text": [
      "Phases: 50\n"
     ]
    },
    {
     "name": "stderr",
     "output_type": "stream",
     "text": [
      " 11% (57098 of 482360) |##               | Elapsed Time: 0:05:42 ETA:   1:04:41"
     ]
    },
    {
     "name": "stdout",
     "output_type": "stream",
     "text": [
      "Phases: 51\n"
     ]
    },
    {
     "name": "stderr",
     "output_type": "stream",
     "text": [
      " 12% (58337 of 482360) |##               | Elapsed Time: 0:05:49 ETA:   1:10:31"
     ]
    },
    {
     "name": "stdout",
     "output_type": "stream",
     "text": [
      "Phases: 52\n"
     ]
    },
    {
     "name": "stderr",
     "output_type": "stream",
     "text": [
      " 12% (59324 of 482360) |##               | Elapsed Time: 0:05:55 ETA:   1:07:25"
     ]
    },
    {
     "name": "stdout",
     "output_type": "stream",
     "text": [
      "Phases: 53\n"
     ]
    },
    {
     "name": "stderr",
     "output_type": "stream",
     "text": [
      " 12% (60619 of 482360) |##               | Elapsed Time: 0:06:03 ETA:   1:03:56"
     ]
    },
    {
     "name": "stdout",
     "output_type": "stream",
     "text": [
      "Phases: 54\n"
     ]
    },
    {
     "name": "stderr",
     "output_type": "stream",
     "text": [
      " 12% (61612 of 482360) |##               | Elapsed Time: 0:06:09 ETA:   1:06:26"
     ]
    },
    {
     "name": "stdout",
     "output_type": "stream",
     "text": [
      "Phases: 55\n"
     ]
    },
    {
     "name": "stderr",
     "output_type": "stream",
     "text": [
      " 13% (62820 of 482360) |##               | Elapsed Time: 0:06:16 ETA:   1:05:20"
     ]
    },
    {
     "name": "stdout",
     "output_type": "stream",
     "text": [
      "Phases: 56\n"
     ]
    },
    {
     "name": "stderr",
     "output_type": "stream",
     "text": [
      " 13% (63860 of 482360) |##               | Elapsed Time: 0:06:22 ETA:   1:03:14"
     ]
    },
    {
     "name": "stdout",
     "output_type": "stream",
     "text": [
      "Phases: 57\n"
     ]
    },
    {
     "name": "stderr",
     "output_type": "stream",
     "text": [
      " 13% (65042 of 482360) |##               | Elapsed Time: 0:06:29 ETA:   1:05:39"
     ]
    },
    {
     "name": "stdout",
     "output_type": "stream",
     "text": [
      "Phases: 58\n"
     ]
    },
    {
     "name": "stderr",
     "output_type": "stream",
     "text": [
      " 13% (66062 of 482360) |##               | Elapsed Time: 0:06:35 ETA:   1:01:24"
     ]
    },
    {
     "name": "stdout",
     "output_type": "stream",
     "text": [
      "Phases: 59\n"
     ]
    },
    {
     "name": "stderr",
     "output_type": "stream",
     "text": [
      " 13% (67271 of 482360) |##               | Elapsed Time: 0:06:42 ETA:   0:56:45"
     ]
    },
    {
     "name": "stdout",
     "output_type": "stream",
     "text": [
      "Phases: 60\n",
      "Subject 6 windowed. Time elapsed: 0:06:46\n",
      "\n",
      "Swing Onset at sample 2421\n"
     ]
    },
    {
     "name": "stderr",
     "output_type": "stream",
     "text": [
      "  0% (26 of 483980) |                    | Elapsed Time: 0:00:00 ETA:   0:31:28"
     ]
    },
    {
     "name": "stdout",
     "output_type": "stream",
     "text": [
      "Subject 7 rows: 486600\n"
     ]
    },
    {
     "name": "stderr",
     "output_type": "stream",
     "text": [
      "  0% (854 of 483980) |                   | Elapsed Time: 0:00:04 ETA:   1:17:42"
     ]
    },
    {
     "name": "stdout",
     "output_type": "stream",
     "text": [
      "Phases: 1\n"
     ]
    },
    {
     "name": "stderr",
     "output_type": "stream",
     "text": [
      "  0% (1992 of 483980) |                  | Elapsed Time: 0:00:11 ETA:   1:22:26"
     ]
    },
    {
     "name": "stdout",
     "output_type": "stream",
     "text": [
      "Phases: 2\n"
     ]
    },
    {
     "name": "stderr",
     "output_type": "stream",
     "text": [
      "  0% (2885 of 483980) |                  | Elapsed Time: 0:00:17 ETA:   1:15:15"
     ]
    },
    {
     "name": "stdout",
     "output_type": "stream",
     "text": [
      "Phases: 3\n"
     ]
    },
    {
     "name": "stderr",
     "output_type": "stream",
     "text": [
      "  0% (4026 of 483980) |                  | Elapsed Time: 0:00:24 ETA:   1:18:52"
     ]
    },
    {
     "name": "stdout",
     "output_type": "stream",
     "text": [
      "Phases: 4\n"
     ]
    },
    {
     "name": "stderr",
     "output_type": "stream",
     "text": [
      "  1% (4919 of 483980) |                  | Elapsed Time: 0:00:29 ETA:   1:13:25"
     ]
    },
    {
     "name": "stdout",
     "output_type": "stream",
     "text": [
      "Phases: 5\n"
     ]
    },
    {
     "name": "stderr",
     "output_type": "stream",
     "text": [
      "  1% (5933 of 483980) |                  | Elapsed Time: 0:00:36 ETA:   1:26:18"
     ]
    },
    {
     "name": "stdout",
     "output_type": "stream",
     "text": [
      "Phases: 6\n"
     ]
    },
    {
     "name": "stderr",
     "output_type": "stream",
     "text": [
      "  1% (7011 of 483980) |                  | Elapsed Time: 0:00:42 ETA:   1:14:48"
     ]
    },
    {
     "name": "stdout",
     "output_type": "stream",
     "text": [
      "Phases: 7\n"
     ]
    },
    {
     "name": "stderr",
     "output_type": "stream",
     "text": [
      "  1% (7989 of 483980) |                  | Elapsed Time: 0:00:48 ETA:   1:14:51"
     ]
    },
    {
     "name": "stdout",
     "output_type": "stream",
     "text": [
      "Phases: 8\n"
     ]
    },
    {
     "name": "stderr",
     "output_type": "stream",
     "text": [
      "  1% (9132 of 483980) |                  | Elapsed Time: 0:00:55 ETA:   1:13:53"
     ]
    },
    {
     "name": "stdout",
     "output_type": "stream",
     "text": [
      "Phases: 9\n"
     ]
    },
    {
     "name": "stderr",
     "output_type": "stream",
     "text": [
      "  2% (10318 of 483980) |                 | Elapsed Time: 0:01:02 ETA:   1:14:19"
     ]
    },
    {
     "name": "stdout",
     "output_type": "stream",
     "text": [
      "Phases: 10\n"
     ]
    },
    {
     "name": "stderr",
     "output_type": "stream",
     "text": [
      "  2% (11274 of 483980) |                 | Elapsed Time: 0:01:08 ETA:   1:13:13"
     ]
    },
    {
     "name": "stdout",
     "output_type": "stream",
     "text": [
      "Phases: 11\n"
     ]
    },
    {
     "name": "stderr",
     "output_type": "stream",
     "text": [
      "  2% (12389 of 483980) |                 | Elapsed Time: 0:01:14 ETA:   1:19:29"
     ]
    },
    {
     "name": "stdout",
     "output_type": "stream",
     "text": [
      "Phases: 12\n"
     ]
    },
    {
     "name": "stderr",
     "output_type": "stream",
     "text": [
      "  2% (13415 of 483980) |                 | Elapsed Time: 0:01:20 ETA:   1:11:44"
     ]
    },
    {
     "name": "stdout",
     "output_type": "stream",
     "text": [
      "Phases: 13\n"
     ]
    },
    {
     "name": "stderr",
     "output_type": "stream",
     "text": [
      "  3% (14581 of 483980) |                 | Elapsed Time: 0:01:27 ETA:   1:13:30"
     ]
    },
    {
     "name": "stdout",
     "output_type": "stream",
     "text": [
      "Phases: 14\n"
     ]
    },
    {
     "name": "stderr",
     "output_type": "stream",
     "text": [
      "  3% (15606 of 483980) |                 | Elapsed Time: 0:01:33 ETA:   1:13:07"
     ]
    },
    {
     "name": "stdout",
     "output_type": "stream",
     "text": [
      "Phases: 15\n"
     ]
    },
    {
     "name": "stderr",
     "output_type": "stream",
     "text": [
      "  3% (16747 of 483980) |                 | Elapsed Time: 0:01:40 ETA:   1:08:02"
     ]
    },
    {
     "name": "stdout",
     "output_type": "stream",
     "text": [
      "Phases: 16\n"
     ]
    },
    {
     "name": "stderr",
     "output_type": "stream",
     "text": [
      "  3% (17774 of 483980) |                 | Elapsed Time: 0:01:46 ETA:   1:12:29"
     ]
    },
    {
     "name": "stdout",
     "output_type": "stream",
     "text": [
      "Phases: 17\n"
     ]
    },
    {
     "name": "stderr",
     "output_type": "stream",
     "text": [
      "  3% (18925 of 483980) |                 | Elapsed Time: 0:01:53 ETA:   1:10:25"
     ]
    },
    {
     "name": "stdout",
     "output_type": "stream",
     "text": [
      "Phases: 18\n"
     ]
    },
    {
     "name": "stderr",
     "output_type": "stream",
     "text": [
      "  4% (19894 of 483980) |                 | Elapsed Time: 0:01:59 ETA:   1:26:23"
     ]
    },
    {
     "name": "stdout",
     "output_type": "stream",
     "text": [
      "Phases: 19\n"
     ]
    },
    {
     "name": "stderr",
     "output_type": "stream",
     "text": [
      "  4% (21046 of 483980) |                 | Elapsed Time: 0:02:07 ETA:   1:41:23"
     ]
    },
    {
     "name": "stdout",
     "output_type": "stream",
     "text": [
      "Phases: 20\n"
     ]
    },
    {
     "name": "stderr",
     "output_type": "stream",
     "text": [
      "  4% (22055 of 483980) |                 | Elapsed Time: 0:02:14 ETA:   1:22:56"
     ]
    },
    {
     "name": "stdout",
     "output_type": "stream",
     "text": [
      "Phases: 21\n"
     ]
    },
    {
     "name": "stderr",
     "output_type": "stream",
     "text": [
      "  4% (23183 of 483980) |                 | Elapsed Time: 0:02:21 ETA:   1:59:26"
     ]
    },
    {
     "name": "stdout",
     "output_type": "stream",
     "text": [
      "Phases: 22\n"
     ]
    },
    {
     "name": "stderr",
     "output_type": "stream",
     "text": [
      "  5% (24270 of 483980) |                 | Elapsed Time: 0:02:28 ETA:   1:22:29"
     ]
    },
    {
     "name": "stdout",
     "output_type": "stream",
     "text": [
      "Phases: 23\n"
     ]
    },
    {
     "name": "stderr",
     "output_type": "stream",
     "text": [
      "  5% (25504 of 483980) |                 | Elapsed Time: 0:02:35 ETA:   1:19:17"
     ]
    },
    {
     "name": "stdout",
     "output_type": "stream",
     "text": [
      "Phases: 24\n"
     ]
    },
    {
     "name": "stderr",
     "output_type": "stream",
     "text": [
      "  5% (26475 of 483980) |                 | Elapsed Time: 0:02:42 ETA:   1:19:46"
     ]
    },
    {
     "name": "stdout",
     "output_type": "stream",
     "text": [
      "Phases: 25\n"
     ]
    },
    {
     "name": "stderr",
     "output_type": "stream",
     "text": [
      "  5% (27772 of 483980) |                 | Elapsed Time: 0:02:49 ETA:   1:11:47"
     ]
    },
    {
     "name": "stdout",
     "output_type": "stream",
     "text": [
      "Phases: 26\n"
     ]
    },
    {
     "name": "stderr",
     "output_type": "stream",
     "text": [
      "  5% (28699 of 483980) |#                | Elapsed Time: 0:02:55 ETA:   1:16:55"
     ]
    },
    {
     "name": "stdout",
     "output_type": "stream",
     "text": [
      "Phases: 27\n"
     ]
    },
    {
     "name": "stderr",
     "output_type": "stream",
     "text": [
      "  6% (29862 of 483980) |#                | Elapsed Time: 0:03:02 ETA:   1:21:45"
     ]
    },
    {
     "name": "stdout",
     "output_type": "stream",
     "text": [
      "Phases: 28\n"
     ]
    },
    {
     "name": "stderr",
     "output_type": "stream",
     "text": [
      "  6% (30829 of 483980) |#                | Elapsed Time: 0:03:08 ETA:   1:15:09"
     ]
    },
    {
     "name": "stdout",
     "output_type": "stream",
     "text": [
      "Phases: 29\n"
     ]
    },
    {
     "name": "stderr",
     "output_type": "stream",
     "text": [
      "  6% (32045 of 483980) |#                | Elapsed Time: 0:03:15 ETA:   1:21:21"
     ]
    },
    {
     "name": "stdout",
     "output_type": "stream",
     "text": [
      "Phases: 30\n"
     ]
    },
    {
     "name": "stderr",
     "output_type": "stream",
     "text": [
      "  6% (32979 of 483980) |#                | Elapsed Time: 0:03:21 ETA:   1:11:22"
     ]
    },
    {
     "name": "stdout",
     "output_type": "stream",
     "text": [
      "Phases: 31\n"
     ]
    },
    {
     "name": "stderr",
     "output_type": "stream",
     "text": [
      "  7% (34063 of 483980) |#                | Elapsed Time: 0:03:27 ETA:   1:12:46"
     ]
    },
    {
     "name": "stdout",
     "output_type": "stream",
     "text": [
      "Phases: 32\n"
     ]
    },
    {
     "name": "stderr",
     "output_type": "stream",
     "text": [
      "  7% (35059 of 483980) |#                | Elapsed Time: 0:03:34 ETA:   1:11:22"
     ]
    },
    {
     "name": "stdout",
     "output_type": "stream",
     "text": [
      "Phases: 33\n"
     ]
    },
    {
     "name": "stderr",
     "output_type": "stream",
     "text": [
      "  7% (36181 of 483980) |#                | Elapsed Time: 0:03:40 ETA:   1:09:54"
     ]
    },
    {
     "name": "stdout",
     "output_type": "stream",
     "text": [
      "Phases: 34\n"
     ]
    },
    {
     "name": "stderr",
     "output_type": "stream",
     "text": [
      "  7% (37151 of 483980) |#                | Elapsed Time: 0:03:46 ETA:   1:10:39"
     ]
    },
    {
     "name": "stdout",
     "output_type": "stream",
     "text": [
      "Phases: 35\n"
     ]
    },
    {
     "name": "stderr",
     "output_type": "stream",
     "text": [
      "  7% (38314 of 483980) |#                | Elapsed Time: 0:03:53 ETA:   1:07:49"
     ]
    },
    {
     "name": "stdout",
     "output_type": "stream",
     "text": [
      "Phases: 36\n"
     ]
    },
    {
     "name": "stderr",
     "output_type": "stream",
     "text": [
      "  8% (39309 of 483980) |#                | Elapsed Time: 0:03:59 ETA:   1:16:47"
     ]
    },
    {
     "name": "stdout",
     "output_type": "stream",
     "text": [
      "Phases: 37\n"
     ]
    },
    {
     "name": "stderr",
     "output_type": "stream",
     "text": [
      "  8% (40520 of 483980) |#                | Elapsed Time: 0:04:06 ETA:   1:09:30"
     ]
    },
    {
     "name": "stdout",
     "output_type": "stream",
     "text": [
      "Phases: 38\n"
     ]
    },
    {
     "name": "stderr",
     "output_type": "stream",
     "text": [
      "  8% (41451 of 483980) |#                | Elapsed Time: 0:04:12 ETA:   1:10:38"
     ]
    },
    {
     "name": "stdout",
     "output_type": "stream",
     "text": [
      "Phases: 39\n"
     ]
    },
    {
     "name": "stderr",
     "output_type": "stream",
     "text": [
      "  8% (42634 of 483980) |#                | Elapsed Time: 0:04:19 ETA:   1:26:10"
     ]
    },
    {
     "name": "stdout",
     "output_type": "stream",
     "text": [
      "Phases: 40\n"
     ]
    },
    {
     "name": "stderr",
     "output_type": "stream",
     "text": [
      "  9% (43625 of 483980) |#                | Elapsed Time: 0:04:26 ETA:   1:12:53"
     ]
    },
    {
     "name": "stdout",
     "output_type": "stream",
     "text": [
      "Phases: 41\n"
     ]
    },
    {
     "name": "stderr",
     "output_type": "stream",
     "text": [
      "  9% (44765 of 483980) |#                | Elapsed Time: 0:04:32 ETA:   1:12:53"
     ]
    },
    {
     "name": "stdout",
     "output_type": "stream",
     "text": [
      "Phases: 42\n"
     ]
    },
    {
     "name": "stderr",
     "output_type": "stream",
     "text": [
      "  9% (45772 of 483980) |#                | Elapsed Time: 0:04:39 ETA:   1:07:12"
     ]
    },
    {
     "name": "stdout",
     "output_type": "stream",
     "text": [
      "Phases: 43\n"
     ]
    },
    {
     "name": "stderr",
     "output_type": "stream",
     "text": [
      "  9% (46913 of 483980) |#                | Elapsed Time: 0:04:45 ETA:   1:07:56"
     ]
    },
    {
     "name": "stdout",
     "output_type": "stream",
     "text": [
      "Phases: 44\n"
     ]
    },
    {
     "name": "stderr",
     "output_type": "stream",
     "text": [
      "  9% (47889 of 483980) |#                | Elapsed Time: 0:04:51 ETA:   1:10:07"
     ]
    },
    {
     "name": "stdout",
     "output_type": "stream",
     "text": [
      "Phases: 45\n"
     ]
    },
    {
     "name": "stderr",
     "output_type": "stream",
     "text": [
      " 10% (49025 of 483980) |#                | Elapsed Time: 0:04:58 ETA:   1:09:43"
     ]
    },
    {
     "name": "stdout",
     "output_type": "stream",
     "text": [
      "Phases: 46\n"
     ]
    },
    {
     "name": "stderr",
     "output_type": "stream",
     "text": [
      " 10% (50025 of 483980) |#                | Elapsed Time: 0:05:04 ETA:   1:10:50"
     ]
    },
    {
     "name": "stdout",
     "output_type": "stream",
     "text": [
      "Phases: 47\n"
     ]
    },
    {
     "name": "stderr",
     "output_type": "stream",
     "text": [
      " 10% (51129 of 483980) |#                | Elapsed Time: 0:05:11 ETA:   1:08:36"
     ]
    },
    {
     "name": "stdout",
     "output_type": "stream",
     "text": [
      "Phases: 48\n"
     ]
    },
    {
     "name": "stderr",
     "output_type": "stream",
     "text": [
      " 10% (52149 of 483980) |#                | Elapsed Time: 0:05:17 ETA:   1:08:53"
     ]
    },
    {
     "name": "stdout",
     "output_type": "stream",
     "text": [
      "Phases: 49\n"
     ]
    },
    {
     "name": "stderr",
     "output_type": "stream",
     "text": [
      " 11% (53269 of 483980) |#                | Elapsed Time: 0:05:24 ETA:   1:06:14"
     ]
    },
    {
     "name": "stdout",
     "output_type": "stream",
     "text": [
      "Phases: 50\n"
     ]
    },
    {
     "name": "stderr",
     "output_type": "stream",
     "text": [
      " 11% (54315 of 483980) |#                | Elapsed Time: 0:05:30 ETA:   1:14:14"
     ]
    },
    {
     "name": "stdout",
     "output_type": "stream",
     "text": [
      "Phases: 51\n"
     ]
    },
    {
     "name": "stderr",
     "output_type": "stream",
     "text": [
      " 11% (55442 of 483980) |#                | Elapsed Time: 0:05:36 ETA:   1:05:52"
     ]
    },
    {
     "name": "stdout",
     "output_type": "stream",
     "text": [
      "Phases: 52\n"
     ]
    },
    {
     "name": "stderr",
     "output_type": "stream",
     "text": [
      " 11% (56503 of 483980) |#                | Elapsed Time: 0:05:43 ETA:   1:06:21"
     ]
    },
    {
     "name": "stdout",
     "output_type": "stream",
     "text": [
      "Phases: 53\n"
     ]
    },
    {
     "name": "stderr",
     "output_type": "stream",
     "text": [
      " 11% (57683 of 483980) |##               | Elapsed Time: 0:05:50 ETA:   1:09:18"
     ]
    },
    {
     "name": "stdout",
     "output_type": "stream",
     "text": [
      "Phases: 54\n"
     ]
    },
    {
     "name": "stderr",
     "output_type": "stream",
     "text": [
      " 12% (58731 of 483980) |##               | Elapsed Time: 0:05:56 ETA:   1:10:32"
     ]
    },
    {
     "name": "stdout",
     "output_type": "stream",
     "text": [
      "Phases: 55\n"
     ]
    },
    {
     "name": "stderr",
     "output_type": "stream",
     "text": [
      " 12% (59951 of 483980) |##               | Elapsed Time: 0:06:03 ETA:   1:03:43"
     ]
    },
    {
     "name": "stdout",
     "output_type": "stream",
     "text": [
      "Phases: 56\n"
     ]
    },
    {
     "name": "stderr",
     "output_type": "stream",
     "text": [
      " 12% (60866 of 483980) |##               | Elapsed Time: 0:06:09 ETA:   1:09:04"
     ]
    },
    {
     "name": "stdout",
     "output_type": "stream",
     "text": [
      "Phases: 57\n"
     ]
    },
    {
     "name": "stderr",
     "output_type": "stream",
     "text": [
      " 12% (62034 of 483980) |##               | Elapsed Time: 0:06:16 ETA:   1:16:24"
     ]
    },
    {
     "name": "stdout",
     "output_type": "stream",
     "text": [
      "Phases: 58\n"
     ]
    },
    {
     "name": "stderr",
     "output_type": "stream",
     "text": [
      " 13% (62960 of 483980) |##               | Elapsed Time: 0:06:22 ETA:   1:06:38"
     ]
    },
    {
     "name": "stdout",
     "output_type": "stream",
     "text": [
      "Phases: 59\n"
     ]
    },
    {
     "name": "stderr",
     "output_type": "stream",
     "text": [
      " 13% (64016 of 483980) |##               | Elapsed Time: 0:06:28 ETA:   0:58:46"
     ]
    },
    {
     "name": "stdout",
     "output_type": "stream",
     "text": [
      "Phases: 60\n",
      "Subject 7 windowed. Time elapsed: 0:06:32\n",
      "\n",
      "Swing Onset at sample 6615\n"
     ]
    },
    {
     "name": "stderr",
     "output_type": "stream",
     "text": [
      "  0% (22 of 479786) |                    | Elapsed Time: 0:00:00 ETA:   0:37:26"
     ]
    },
    {
     "name": "stdout",
     "output_type": "stream",
     "text": [
      "Subject 8 rows: 486600\n"
     ]
    },
    {
     "name": "stderr",
     "output_type": "stream",
     "text": [
      "  0% (1066 of 479786) |                  | Elapsed Time: 0:00:05 ETA:   1:21:56"
     ]
    },
    {
     "name": "stdout",
     "output_type": "stream",
     "text": [
      "Phases: 1\n"
     ]
    },
    {
     "name": "stderr",
     "output_type": "stream",
     "text": [
      "  0% (2384 of 479786) |                  | Elapsed Time: 0:00:13 ETA:   1:25:36"
     ]
    },
    {
     "name": "stdout",
     "output_type": "stream",
     "text": [
      "Phases: 2\n"
     ]
    },
    {
     "name": "stderr",
     "output_type": "stream",
     "text": [
      "  0% (3449 of 479786) |                  | Elapsed Time: 0:00:19 ETA:   1:13:33"
     ]
    },
    {
     "name": "stdout",
     "output_type": "stream",
     "text": [
      "Phases: 3\n"
     ]
    },
    {
     "name": "stderr",
     "output_type": "stream",
     "text": [
      "  0% (4725 of 479786) |                  | Elapsed Time: 0:00:27 ETA:   1:16:09"
     ]
    },
    {
     "name": "stdout",
     "output_type": "stream",
     "text": [
      "Phases: 4\n"
     ]
    },
    {
     "name": "stderr",
     "output_type": "stream",
     "text": [
      "  1% (5759 of 479786) |                  | Elapsed Time: 0:00:33 ETA:   1:25:32"
     ]
    },
    {
     "name": "stdout",
     "output_type": "stream",
     "text": [
      "Phases: 5\n"
     ]
    },
    {
     "name": "stderr",
     "output_type": "stream",
     "text": [
      "  1% (7005 of 479786) |                  | Elapsed Time: 0:00:40 ETA:   1:14:24"
     ]
    },
    {
     "name": "stdout",
     "output_type": "stream",
     "text": [
      "Phases: 6\n"
     ]
    },
    {
     "name": "stderr",
     "output_type": "stream",
     "text": [
      "  1% (8178 of 479786) |                  | Elapsed Time: 0:00:47 ETA:   1:14:49"
     ]
    },
    {
     "name": "stdout",
     "output_type": "stream",
     "text": [
      "Phases: 7\n"
     ]
    },
    {
     "name": "stderr",
     "output_type": "stream",
     "text": [
      "  1% (9466 of 479786) |                  | Elapsed Time: 0:00:54 ETA:   1:17:19"
     ]
    },
    {
     "name": "stdout",
     "output_type": "stream",
     "text": [
      "Phases: 8\n"
     ]
    },
    {
     "name": "stderr",
     "output_type": "stream",
     "text": [
      "  2% (10593 of 479786) |                 | Elapsed Time: 0:01:00 ETA:   1:12:27"
     ]
    },
    {
     "name": "stdout",
     "output_type": "stream",
     "text": [
      "Phases: 9\n"
     ]
    },
    {
     "name": "stderr",
     "output_type": "stream",
     "text": [
      "  2% (11778 of 479786) |                 | Elapsed Time: 0:01:07 ETA:   1:14:08"
     ]
    },
    {
     "name": "stdout",
     "output_type": "stream",
     "text": [
      "Phases: 10\n"
     ]
    },
    {
     "name": "stderr",
     "output_type": "stream",
     "text": [
      "  2% (12878 of 479786) |                 | Elapsed Time: 0:01:14 ETA:   1:14:43"
     ]
    },
    {
     "name": "stdout",
     "output_type": "stream",
     "text": [
      "Phases: 11\n"
     ]
    },
    {
     "name": "stderr",
     "output_type": "stream",
     "text": [
      "  2% (14117 of 479786) |                 | Elapsed Time: 0:01:21 ETA:   1:12:21"
     ]
    },
    {
     "name": "stdout",
     "output_type": "stream",
     "text": [
      "Phases: 12\n"
     ]
    },
    {
     "name": "stderr",
     "output_type": "stream",
     "text": [
      "  3% (15138 of 479786) |                 | Elapsed Time: 0:01:27 ETA:   1:15:59"
     ]
    },
    {
     "name": "stdout",
     "output_type": "stream",
     "text": [
      "Phases: 13\n"
     ]
    },
    {
     "name": "stderr",
     "output_type": "stream",
     "text": [
      "  3% (16430 of 479786) |                 | Elapsed Time: 0:01:34 ETA:   1:15:00"
     ]
    },
    {
     "name": "stdout",
     "output_type": "stream",
     "text": [
      "Phases: 14\n"
     ]
    },
    {
     "name": "stderr",
     "output_type": "stream",
     "text": [
      "  3% (17455 of 479786) |                 | Elapsed Time: 0:01:41 ETA:   1:17:49"
     ]
    },
    {
     "name": "stdout",
     "output_type": "stream",
     "text": [
      "Phases: 15\n"
     ]
    },
    {
     "name": "stderr",
     "output_type": "stream",
     "text": [
      "  3% (18706 of 479786) |                 | Elapsed Time: 0:01:48 ETA:   1:10:19"
     ]
    },
    {
     "name": "stdout",
     "output_type": "stream",
     "text": [
      "Phases: 16\n"
     ]
    },
    {
     "name": "stderr",
     "output_type": "stream",
     "text": [
      "  4% (19893 of 479786) |                 | Elapsed Time: 0:01:55 ETA:   1:17:43"
     ]
    },
    {
     "name": "stdout",
     "output_type": "stream",
     "text": [
      "Phases: 17\n"
     ]
    },
    {
     "name": "stderr",
     "output_type": "stream",
     "text": [
      "  4% (21347 of 479786) |                 | Elapsed Time: 0:02:03 ETA:   1:17:43"
     ]
    },
    {
     "name": "stdout",
     "output_type": "stream",
     "text": [
      "Phases: 18\n"
     ]
    },
    {
     "name": "stderr",
     "output_type": "stream",
     "text": [
      "  4% (22415 of 479786) |                 | Elapsed Time: 0:02:09 ETA:   1:14:26"
     ]
    },
    {
     "name": "stdout",
     "output_type": "stream",
     "text": [
      "Phases: 19\n"
     ]
    },
    {
     "name": "stderr",
     "output_type": "stream",
     "text": [
      "  4% (23772 of 479786) |                 | Elapsed Time: 0:02:16 ETA:   1:08:04"
     ]
    },
    {
     "name": "stdout",
     "output_type": "stream",
     "text": [
      "Phases: 20\n"
     ]
    },
    {
     "name": "stderr",
     "output_type": "stream",
     "text": [
      "  5% (24841 of 479786) |                 | Elapsed Time: 0:02:23 ETA:   1:13:53"
     ]
    },
    {
     "name": "stdout",
     "output_type": "stream",
     "text": [
      "Phases: 21\n"
     ]
    },
    {
     "name": "stderr",
     "output_type": "stream",
     "text": [
      "  5% (26067 of 479786) |                 | Elapsed Time: 0:02:30 ETA:   1:09:26"
     ]
    },
    {
     "name": "stdout",
     "output_type": "stream",
     "text": [
      "Phases: 22\n"
     ]
    },
    {
     "name": "stderr",
     "output_type": "stream",
     "text": [
      "  5% (27105 of 479786) |                 | Elapsed Time: 0:02:36 ETA:   1:08:13"
     ]
    },
    {
     "name": "stdout",
     "output_type": "stream",
     "text": [
      "Phases: 23\n"
     ]
    },
    {
     "name": "stderr",
     "output_type": "stream",
     "text": [
      "  5% (28312 of 479786) |#                | Elapsed Time: 0:02:43 ETA:   1:20:50"
     ]
    },
    {
     "name": "stdout",
     "output_type": "stream",
     "text": [
      "Phases: 24\n"
     ]
    },
    {
     "name": "stderr",
     "output_type": "stream",
     "text": [
      "  6% (29415 of 479786) |#                | Elapsed Time: 0:02:50 ETA:   1:16:54"
     ]
    },
    {
     "name": "stdout",
     "output_type": "stream",
     "text": [
      "Phases: 25\n"
     ]
    },
    {
     "name": "stderr",
     "output_type": "stream",
     "text": [
      "  6% (30743 of 479786) |#                | Elapsed Time: 0:02:57 ETA:   1:13:09"
     ]
    },
    {
     "name": "stdout",
     "output_type": "stream",
     "text": [
      "Phases: 26\n"
     ]
    },
    {
     "name": "stderr",
     "output_type": "stream",
     "text": [
      "  6% (31882 of 479786) |#                | Elapsed Time: 0:03:04 ETA:   1:10:33"
     ]
    },
    {
     "name": "stdout",
     "output_type": "stream",
     "text": [
      "Phases: 27\n"
     ]
    },
    {
     "name": "stderr",
     "output_type": "stream",
     "text": [
      "  6% (33149 of 479786) |#                | Elapsed Time: 0:03:11 ETA:   1:09:06"
     ]
    },
    {
     "name": "stdout",
     "output_type": "stream",
     "text": [
      "Phases: 28\n"
     ]
    },
    {
     "name": "stderr",
     "output_type": "stream",
     "text": [
      "  7% (34364 of 479786) |#                | Elapsed Time: 0:03:18 ETA:   1:04:20"
     ]
    },
    {
     "name": "stdout",
     "output_type": "stream",
     "text": [
      "Phases: 29\n"
     ]
    },
    {
     "name": "stderr",
     "output_type": "stream",
     "text": [
      "  7% (35626 of 479786) |#                | Elapsed Time: 0:03:25 ETA:   1:09:44"
     ]
    },
    {
     "name": "stdout",
     "output_type": "stream",
     "text": [
      "Phases: 30\n"
     ]
    },
    {
     "name": "stderr",
     "output_type": "stream",
     "text": [
      "  7% (36730 of 479786) |#                | Elapsed Time: 0:03:32 ETA:   1:17:05"
     ]
    },
    {
     "name": "stdout",
     "output_type": "stream",
     "text": [
      "Phases: 31\n"
     ]
    },
    {
     "name": "stderr",
     "output_type": "stream",
     "text": [
      "  7% (37965 of 479786) |#                | Elapsed Time: 0:03:39 ETA:   1:07:01"
     ]
    },
    {
     "name": "stdout",
     "output_type": "stream",
     "text": [
      "Phases: 32\n"
     ]
    },
    {
     "name": "stderr",
     "output_type": "stream",
     "text": [
      "  8% (39033 of 479786) |#                | Elapsed Time: 0:03:46 ETA:   1:17:32"
     ]
    },
    {
     "name": "stdout",
     "output_type": "stream",
     "text": [
      "Phases: 33\n"
     ]
    },
    {
     "name": "stderr",
     "output_type": "stream",
     "text": [
      "  8% (40298 of 479786) |#                | Elapsed Time: 0:03:53 ETA:   1:09:56"
     ]
    },
    {
     "name": "stdout",
     "output_type": "stream",
     "text": [
      "Phases: 34\n"
     ]
    },
    {
     "name": "stderr",
     "output_type": "stream",
     "text": [
      "  8% (41362 of 479786) |#                | Elapsed Time: 0:04:00 ETA:   1:14:11"
     ]
    },
    {
     "name": "stdout",
     "output_type": "stream",
     "text": [
      "Phases: 35\n"
     ]
    },
    {
     "name": "stderr",
     "output_type": "stream",
     "text": [
      "  8% (42632 of 479786) |#                | Elapsed Time: 0:04:07 ETA:   1:13:30"
     ]
    },
    {
     "name": "stdout",
     "output_type": "stream",
     "text": [
      "Phases: 36\n"
     ]
    },
    {
     "name": "stderr",
     "output_type": "stream",
     "text": [
      "  9% (43805 of 479786) |#                | Elapsed Time: 0:04:14 ETA:   1:08:39"
     ]
    },
    {
     "name": "stdout",
     "output_type": "stream",
     "text": [
      "Phases: 37\n"
     ]
    },
    {
     "name": "stderr",
     "output_type": "stream",
     "text": [
      "  9% (45280 of 479786) |#                | Elapsed Time: 0:04:22 ETA:   1:08:13"
     ]
    },
    {
     "name": "stdout",
     "output_type": "stream",
     "text": [
      "Phases: 38\n"
     ]
    },
    {
     "name": "stderr",
     "output_type": "stream",
     "text": [
      "  9% (46380 of 479786) |#                | Elapsed Time: 0:04:28 ETA:   1:12:08"
     ]
    },
    {
     "name": "stdout",
     "output_type": "stream",
     "text": [
      "Phases: 39\n"
     ]
    },
    {
     "name": "stderr",
     "output_type": "stream",
     "text": [
      "  9% (47816 of 479786) |#                | Elapsed Time: 0:04:36 ETA:   1:04:21"
     ]
    },
    {
     "name": "stdout",
     "output_type": "stream",
     "text": [
      "Phases: 40\n"
     ]
    },
    {
     "name": "stderr",
     "output_type": "stream",
     "text": [
      " 10% (48841 of 479786) |#                | Elapsed Time: 0:04:42 ETA:   1:04:14"
     ]
    },
    {
     "name": "stdout",
     "output_type": "stream",
     "text": [
      "Phases: 41\n"
     ]
    },
    {
     "name": "stderr",
     "output_type": "stream",
     "text": [
      " 10% (50153 of 479786) |#                | Elapsed Time: 0:04:50 ETA:   1:07:59"
     ]
    },
    {
     "name": "stdout",
     "output_type": "stream",
     "text": [
      "Phases: 42\n"
     ]
    },
    {
     "name": "stderr",
     "output_type": "stream",
     "text": [
      " 10% (51197 of 479786) |#                | Elapsed Time: 0:04:56 ETA:   1:05:34"
     ]
    },
    {
     "name": "stdout",
     "output_type": "stream",
     "text": [
      "Phases: 43\n"
     ]
    },
    {
     "name": "stderr",
     "output_type": "stream",
     "text": [
      " 10% (52416 of 479786) |#                | Elapsed Time: 0:05:03 ETA:   1:07:15"
     ]
    },
    {
     "name": "stdout",
     "output_type": "stream",
     "text": [
      "Phases: 44\n"
     ]
    },
    {
     "name": "stderr",
     "output_type": "stream",
     "text": [
      " 11% (53552 of 479786) |#                | Elapsed Time: 0:05:10 ETA:   1:04:26"
     ]
    },
    {
     "name": "stdout",
     "output_type": "stream",
     "text": [
      "Phases: 45\n"
     ]
    },
    {
     "name": "stderr",
     "output_type": "stream",
     "text": [
      " 11% (54845 of 479786) |#                | Elapsed Time: 0:05:17 ETA:   1:05:49"
     ]
    },
    {
     "name": "stdout",
     "output_type": "stream",
     "text": [
      "Phases: 46\n"
     ]
    },
    {
     "name": "stderr",
     "output_type": "stream",
     "text": [
      " 11% (55930 of 479786) |#                | Elapsed Time: 0:05:23 ETA:   1:01:39"
     ]
    },
    {
     "name": "stdout",
     "output_type": "stream",
     "text": [
      "Phases: 47\n"
     ]
    },
    {
     "name": "stderr",
     "output_type": "stream",
     "text": [
      " 11% (57178 of 479786) |##               | Elapsed Time: 0:05:30 ETA:   1:06:25"
     ]
    },
    {
     "name": "stdout",
     "output_type": "stream",
     "text": [
      "Phases: 48\n"
     ]
    },
    {
     "name": "stderr",
     "output_type": "stream",
     "text": [
      " 12% (58307 of 479786) |##               | Elapsed Time: 0:05:37 ETA:   1:02:17"
     ]
    },
    {
     "name": "stdout",
     "output_type": "stream",
     "text": [
      "Phases: 49\n"
     ]
    },
    {
     "name": "stderr",
     "output_type": "stream",
     "text": [
      " 12% (59514 of 479786) |##               | Elapsed Time: 0:05:44 ETA:   1:02:53"
     ]
    },
    {
     "name": "stdout",
     "output_type": "stream",
     "text": [
      "Phases: 50\n"
     ]
    },
    {
     "name": "stderr",
     "output_type": "stream",
     "text": [
      " 12% (60651 of 479786) |##               | Elapsed Time: 0:05:50 ETA:   0:59:34"
     ]
    },
    {
     "name": "stdout",
     "output_type": "stream",
     "text": [
      "Phases: 51\n"
     ]
    },
    {
     "name": "stderr",
     "output_type": "stream",
     "text": [
      " 12% (61936 of 479786) |##               | Elapsed Time: 0:05:57 ETA:   1:09:25"
     ]
    },
    {
     "name": "stdout",
     "output_type": "stream",
     "text": [
      "Phases: 52\n"
     ]
    },
    {
     "name": "stderr",
     "output_type": "stream",
     "text": [
      " 13% (63011 of 479786) |##               | Elapsed Time: 0:06:06 ETA:   1:11:10"
     ]
    },
    {
     "name": "stdout",
     "output_type": "stream",
     "text": [
      "Phases: 53\n"
     ]
    },
    {
     "name": "stderr",
     "output_type": "stream",
     "text": [
      " 13% (64265 of 479786) |##               | Elapsed Time: 0:06:13 ETA:   1:01:23"
     ]
    },
    {
     "name": "stdout",
     "output_type": "stream",
     "text": [
      "Phases: 54\n"
     ]
    },
    {
     "name": "stderr",
     "output_type": "stream",
     "text": [
      " 13% (65316 of 479786) |##               | Elapsed Time: 0:06:19 ETA:   1:03:59"
     ]
    },
    {
     "name": "stdout",
     "output_type": "stream",
     "text": [
      "Phases: 55\n"
     ]
    },
    {
     "name": "stderr",
     "output_type": "stream",
     "text": [
      " 13% (66588 of 479786) |##               | Elapsed Time: 0:06:26 ETA:   1:02:38"
     ]
    },
    {
     "name": "stdout",
     "output_type": "stream",
     "text": [
      "Phases: 56\n"
     ]
    },
    {
     "name": "stderr",
     "output_type": "stream",
     "text": [
      " 14% (67663 of 479786) |##               | Elapsed Time: 0:06:33 ETA:   1:08:28"
     ]
    },
    {
     "name": "stdout",
     "output_type": "stream",
     "text": [
      "Phases: 57\n"
     ]
    },
    {
     "name": "stderr",
     "output_type": "stream",
     "text": [
      " 14% (69007 of 479786) |##               | Elapsed Time: 0:06:40 ETA:   1:05:06"
     ]
    },
    {
     "name": "stdout",
     "output_type": "stream",
     "text": [
      "Phases: 58\n"
     ]
    },
    {
     "name": "stderr",
     "output_type": "stream",
     "text": [
      " 14% (70116 of 479786) |##               | Elapsed Time: 0:06:47 ETA:   1:02:52"
     ]
    },
    {
     "name": "stdout",
     "output_type": "stream",
     "text": [
      "Phases: 59\n"
     ]
    },
    {
     "name": "stderr",
     "output_type": "stream",
     "text": [
      " 14% (71472 of 479786) |##               | Elapsed Time: 0:06:54 ETA:   0:57:27"
     ]
    },
    {
     "name": "stdout",
     "output_type": "stream",
     "text": [
      "Phases: 60\n",
      "Subject 8 windowed. Time elapsed: 0:06:58\n",
      "\n",
      "Swing Onset at sample 4228\n"
     ]
    },
    {
     "name": "stderr",
     "output_type": "stream",
     "text": [
      "  0% (26 of 482173) |                    | Elapsed Time: 0:00:00 ETA:   0:31:03"
     ]
    },
    {
     "name": "stdout",
     "output_type": "stream",
     "text": [
      "Subject 9 rows: 486600\n"
     ]
    },
    {
     "name": "stderr",
     "output_type": "stream",
     "text": [
      "  0% (821 of 482173) |                   | Elapsed Time: 0:00:04 ETA:   1:12:57"
     ]
    },
    {
     "name": "stdout",
     "output_type": "stream",
     "text": [
      "Phases: 1\n"
     ]
    },
    {
     "name": "stderr",
     "output_type": "stream",
     "text": [
      "  0% (2041 of 482173) |                  | Elapsed Time: 0:00:11 ETA:   1:10:35"
     ]
    },
    {
     "name": "stdout",
     "output_type": "stream",
     "text": [
      "Phases: 2\n"
     ]
    },
    {
     "name": "stderr",
     "output_type": "stream",
     "text": [
      "  0% (2871 of 482173) |                  | Elapsed Time: 0:00:16 ETA:   1:13:26"
     ]
    },
    {
     "name": "stdout",
     "output_type": "stream",
     "text": [
      "Phases: 3\n"
     ]
    },
    {
     "name": "stderr",
     "output_type": "stream",
     "text": [
      "  0% (4008 of 482173) |                  | Elapsed Time: 0:00:23 ETA:   1:12:27"
     ]
    },
    {
     "name": "stdout",
     "output_type": "stream",
     "text": [
      "Phases: 4\n"
     ]
    },
    {
     "name": "stderr",
     "output_type": "stream",
     "text": [
      "  1% (4833 of 482173) |                  | Elapsed Time: 0:00:28 ETA:   1:19:34"
     ]
    },
    {
     "name": "stdout",
     "output_type": "stream",
     "text": [
      "Phases: 5\n"
     ]
    },
    {
     "name": "stderr",
     "output_type": "stream",
     "text": [
      "  1% (5962 of 482173) |                  | Elapsed Time: 0:00:35 ETA:   1:15:33"
     ]
    },
    {
     "name": "stdout",
     "output_type": "stream",
     "text": [
      "Phases: 6\n"
     ]
    },
    {
     "name": "stderr",
     "output_type": "stream",
     "text": [
      "  1% (6792 of 482173) |                  | Elapsed Time: 0:00:40 ETA:   1:14:33"
     ]
    },
    {
     "name": "stdout",
     "output_type": "stream",
     "text": [
      "Phases: 7\n"
     ]
    },
    {
     "name": "stderr",
     "output_type": "stream",
     "text": [
      "  1% (7954 of 482173) |                  | Elapsed Time: 0:00:47 ETA:   1:24:38"
     ]
    },
    {
     "name": "stdout",
     "output_type": "stream",
     "text": [
      "Phases: 8\n"
     ]
    },
    {
     "name": "stderr",
     "output_type": "stream",
     "text": [
      "  1% (8842 of 482173) |                  | Elapsed Time: 0:00:53 ETA:   1:12:38"
     ]
    },
    {
     "name": "stdout",
     "output_type": "stream",
     "text": [
      "Phases: 9\n"
     ]
    },
    {
     "name": "stderr",
     "output_type": "stream",
     "text": [
      "  2% (10019 of 482173) |                 | Elapsed Time: 0:01:00 ETA:   1:16:36"
     ]
    },
    {
     "name": "stdout",
     "output_type": "stream",
     "text": [
      "Phases: 10\n"
     ]
    },
    {
     "name": "stderr",
     "output_type": "stream",
     "text": [
      "  2% (10899 of 482173) |                 | Elapsed Time: 0:01:05 ETA:   1:11:04"
     ]
    },
    {
     "name": "stdout",
     "output_type": "stream",
     "text": [
      "Phases: 11\n"
     ]
    },
    {
     "name": "stderr",
     "output_type": "stream",
     "text": [
      "  2% (12036 of 482173) |                 | Elapsed Time: 0:01:12 ETA:   1:12:48"
     ]
    },
    {
     "name": "stdout",
     "output_type": "stream",
     "text": [
      "Phases: 12\n"
     ]
    },
    {
     "name": "stderr",
     "output_type": "stream",
     "text": [
      "  2% (12878 of 482173) |                 | Elapsed Time: 0:01:17 ETA:   1:11:58"
     ]
    },
    {
     "name": "stdout",
     "output_type": "stream",
     "text": [
      "Phases: 13\n"
     ]
    },
    {
     "name": "stderr",
     "output_type": "stream",
     "text": [
      "  2% (14029 of 482173) |                 | Elapsed Time: 0:01:24 ETA:   1:17:58"
     ]
    },
    {
     "name": "stdout",
     "output_type": "stream",
     "text": [
      "Phases: 14\n"
     ]
    },
    {
     "name": "stderr",
     "output_type": "stream",
     "text": [
      "  3% (14840 of 482173) |                 | Elapsed Time: 0:01:29 ETA:   1:08:42"
     ]
    },
    {
     "name": "stdout",
     "output_type": "stream",
     "text": [
      "Phases: 15\n"
     ]
    },
    {
     "name": "stderr",
     "output_type": "stream",
     "text": [
      "  3% (16133 of 482173) |                 | Elapsed Time: 0:01:37 ETA:   1:11:44"
     ]
    },
    {
     "name": "stdout",
     "output_type": "stream",
     "text": [
      "Phases: 16\n"
     ]
    },
    {
     "name": "stderr",
     "output_type": "stream",
     "text": [
      "  3% (17075 of 482173) |                 | Elapsed Time: 0:01:43 ETA:   1:16:29"
     ]
    },
    {
     "name": "stdout",
     "output_type": "stream",
     "text": [
      "Phases: 17\n"
     ]
    },
    {
     "name": "stderr",
     "output_type": "stream",
     "text": [
      "  3% (18491 of 482173) |                 | Elapsed Time: 0:01:50 ETA:   1:10:34"
     ]
    },
    {
     "name": "stdout",
     "output_type": "stream",
     "text": [
      "Phases: 18\n"
     ]
    },
    {
     "name": "stderr",
     "output_type": "stream",
     "text": [
      "  4% (19353 of 482173) |                 | Elapsed Time: 0:01:56 ETA:   1:13:08"
     ]
    },
    {
     "name": "stdout",
     "output_type": "stream",
     "text": [
      "Phases: 19\n"
     ]
    },
    {
     "name": "stderr",
     "output_type": "stream",
     "text": [
      "  4% (20530 of 482173) |                 | Elapsed Time: 0:02:03 ETA:   1:10:49"
     ]
    },
    {
     "name": "stdout",
     "output_type": "stream",
     "text": [
      "Phases: 20\n"
     ]
    },
    {
     "name": "stderr",
     "output_type": "stream",
     "text": [
      "  4% (21396 of 482173) |                 | Elapsed Time: 0:02:08 ETA:   1:12:23"
     ]
    },
    {
     "name": "stdout",
     "output_type": "stream",
     "text": [
      "Phases: 21\n"
     ]
    },
    {
     "name": "stderr",
     "output_type": "stream",
     "text": [
      "  4% (22609 of 482173) |                 | Elapsed Time: 0:02:15 ETA:   1:14:17"
     ]
    },
    {
     "name": "stdout",
     "output_type": "stream",
     "text": [
      "Phases: 22\n"
     ]
    },
    {
     "name": "stderr",
     "output_type": "stream",
     "text": [
      "  4% (23489 of 482173) |                 | Elapsed Time: 0:02:21 ETA:   1:13:51"
     ]
    },
    {
     "name": "stdout",
     "output_type": "stream",
     "text": [
      "Phases: 23\n"
     ]
    },
    {
     "name": "stderr",
     "output_type": "stream",
     "text": [
      "  5% (24678 of 482173) |                 | Elapsed Time: 0:02:28 ETA:   1:14:51"
     ]
    },
    {
     "name": "stdout",
     "output_type": "stream",
     "text": [
      "Phases: 24\n"
     ]
    },
    {
     "name": "stderr",
     "output_type": "stream",
     "text": [
      "  5% (25511 of 482173) |                 | Elapsed Time: 0:02:33 ETA:   1:08:17"
     ]
    },
    {
     "name": "stdout",
     "output_type": "stream",
     "text": [
      "Phases: 25\n"
     ]
    },
    {
     "name": "stderr",
     "output_type": "stream",
     "text": [
      "  5% (26671 of 482173) |                 | Elapsed Time: 0:02:40 ETA:   1:07:08"
     ]
    },
    {
     "name": "stdout",
     "output_type": "stream",
     "text": [
      "Phases: 26\n"
     ]
    },
    {
     "name": "stderr",
     "output_type": "stream",
     "text": [
      "  5% (27548 of 482173) |                 | Elapsed Time: 0:02:46 ETA:   1:13:01"
     ]
    },
    {
     "name": "stdout",
     "output_type": "stream",
     "text": [
      "Phases: 27\n"
     ]
    },
    {
     "name": "stderr",
     "output_type": "stream",
     "text": [
      "  5% (28738 of 482173) |#                | Elapsed Time: 0:02:52 ETA:   1:11:52"
     ]
    },
    {
     "name": "stdout",
     "output_type": "stream",
     "text": [
      "Phases: 28\n"
     ]
    },
    {
     "name": "stderr",
     "output_type": "stream",
     "text": [
      "  6% (29591 of 482173) |#                | Elapsed Time: 0:02:58 ETA:   1:15:03"
     ]
    },
    {
     "name": "stdout",
     "output_type": "stream",
     "text": [
      "Phases: 29\n"
     ]
    },
    {
     "name": "stderr",
     "output_type": "stream",
     "text": [
      "  6% (30749 of 482173) |#                | Elapsed Time: 0:03:05 ETA:   1:05:43"
     ]
    },
    {
     "name": "stdout",
     "output_type": "stream",
     "text": [
      "Phases: 30\n"
     ]
    },
    {
     "name": "stderr",
     "output_type": "stream",
     "text": [
      "  6% (31578 of 482173) |#                | Elapsed Time: 0:03:10 ETA:   1:06:42"
     ]
    },
    {
     "name": "stdout",
     "output_type": "stream",
     "text": [
      "Phases: 31\n"
     ]
    },
    {
     "name": "stderr",
     "output_type": "stream",
     "text": [
      "  6% (32825 of 482173) |#                | Elapsed Time: 0:03:18 ETA:   1:20:06"
     ]
    },
    {
     "name": "stdout",
     "output_type": "stream",
     "text": [
      "Phases: 32\n"
     ]
    },
    {
     "name": "stderr",
     "output_type": "stream",
     "text": [
      "  7% (33929 of 482173) |#                | Elapsed Time: 0:03:25 ETA:   1:18:58"
     ]
    },
    {
     "name": "stdout",
     "output_type": "stream",
     "text": [
      "Phases: 33\n"
     ]
    },
    {
     "name": "stderr",
     "output_type": "stream",
     "text": [
      "  7% (35681 of 482173) |#                | Elapsed Time: 0:03:34 ETA:   1:14:47"
     ]
    },
    {
     "name": "stdout",
     "output_type": "stream",
     "text": [
      "Phases: 34\n"
     ]
    },
    {
     "name": "stderr",
     "output_type": "stream",
     "text": [
      "  7% (36769 of 482173) |#                | Elapsed Time: 0:03:40 ETA:   1:12:27"
     ]
    },
    {
     "name": "stdout",
     "output_type": "stream",
     "text": [
      "Phases: 35\n"
     ]
    },
    {
     "name": "stderr",
     "output_type": "stream",
     "text": [
      "  7% (38038 of 482173) |#                | Elapsed Time: 0:03:48 ETA:   1:05:04"
     ]
    },
    {
     "name": "stdout",
     "output_type": "stream",
     "text": [
      "Phases: 36\n"
     ]
    },
    {
     "name": "stderr",
     "output_type": "stream",
     "text": [
      "  8% (38963 of 482173) |#                | Elapsed Time: 0:03:54 ETA:   1:15:24"
     ]
    },
    {
     "name": "stdout",
     "output_type": "stream",
     "text": [
      "Phases: 37\n"
     ]
    },
    {
     "name": "stderr",
     "output_type": "stream",
     "text": [
      "  8% (40259 of 482173) |#                | Elapsed Time: 0:04:01 ETA:   1:11:25"
     ]
    },
    {
     "name": "stdout",
     "output_type": "stream",
     "text": [
      "Phases: 38\n"
     ]
    },
    {
     "name": "stderr",
     "output_type": "stream",
     "text": [
      "  8% (41097 of 482173) |#                | Elapsed Time: 0:04:07 ETA:   1:09:01"
     ]
    },
    {
     "name": "stdout",
     "output_type": "stream",
     "text": [
      "Phases: 39\n"
     ]
    },
    {
     "name": "stderr",
     "output_type": "stream",
     "text": [
      "  8% (42283 of 482173) |#                | Elapsed Time: 0:04:14 ETA:   1:11:33"
     ]
    },
    {
     "name": "stdout",
     "output_type": "stream",
     "text": [
      "Phases: 40\n"
     ]
    },
    {
     "name": "stderr",
     "output_type": "stream",
     "text": [
      "  8% (43158 of 482173) |#                | Elapsed Time: 0:04:19 ETA:   1:07:01"
     ]
    },
    {
     "name": "stdout",
     "output_type": "stream",
     "text": [
      "Phases: 41\n"
     ]
    },
    {
     "name": "stderr",
     "output_type": "stream",
     "text": [
      "  9% (44344 of 482173) |#                | Elapsed Time: 0:04:26 ETA:   1:07:04"
     ]
    },
    {
     "name": "stdout",
     "output_type": "stream",
     "text": [
      "Phases: 42\n"
     ]
    },
    {
     "name": "stderr",
     "output_type": "stream",
     "text": [
      "  9% (45223 of 482173) |#                | Elapsed Time: 0:04:32 ETA:   1:08:06"
     ]
    },
    {
     "name": "stdout",
     "output_type": "stream",
     "text": [
      "Phases: 43\n"
     ]
    },
    {
     "name": "stderr",
     "output_type": "stream",
     "text": [
      "  9% (46424 of 482173) |#                | Elapsed Time: 0:04:39 ETA:   1:08:54"
     ]
    },
    {
     "name": "stdout",
     "output_type": "stream",
     "text": [
      "Phases: 44\n"
     ]
    },
    {
     "name": "stderr",
     "output_type": "stream",
     "text": [
      "  9% (47300 of 482173) |#                | Elapsed Time: 0:04:44 ETA:   1:07:25"
     ]
    },
    {
     "name": "stdout",
     "output_type": "stream",
     "text": [
      "Phases: 45\n"
     ]
    },
    {
     "name": "stderr",
     "output_type": "stream",
     "text": [
      " 10% (48498 of 482173) |#                | Elapsed Time: 0:04:51 ETA:   1:05:21"
     ]
    },
    {
     "name": "stdout",
     "output_type": "stream",
     "text": [
      "Phases: 46\n"
     ]
    },
    {
     "name": "stderr",
     "output_type": "stream",
     "text": [
      " 10% (49385 of 482173) |#                | Elapsed Time: 0:04:57 ETA:   1:05:36"
     ]
    },
    {
     "name": "stdout",
     "output_type": "stream",
     "text": [
      "Phases: 47\n"
     ]
    },
    {
     "name": "stderr",
     "output_type": "stream",
     "text": [
      " 10% (50596 of 482173) |#                | Elapsed Time: 0:05:04 ETA:   1:08:52"
     ]
    },
    {
     "name": "stdout",
     "output_type": "stream",
     "text": [
      "Phases: 48\n"
     ]
    },
    {
     "name": "stderr",
     "output_type": "stream",
     "text": [
      " 10% (51571 of 482173) |#                | Elapsed Time: 0:05:10 ETA:   1:08:33"
     ]
    },
    {
     "name": "stdout",
     "output_type": "stream",
     "text": [
      "Phases: 49\n"
     ]
    },
    {
     "name": "stderr",
     "output_type": "stream",
     "text": [
      " 10% (52932 of 482173) |#                | Elapsed Time: 0:05:18 ETA:   1:15:11"
     ]
    },
    {
     "name": "stdout",
     "output_type": "stream",
     "text": [
      "Phases: 50\n"
     ]
    },
    {
     "name": "stderr",
     "output_type": "stream",
     "text": [
      " 11% (54150 of 482173) |#                | Elapsed Time: 0:05:25 ETA:   1:04:17"
     ]
    },
    {
     "name": "stdout",
     "output_type": "stream",
     "text": [
      "Phases: 51\n"
     ]
    },
    {
     "name": "stderr",
     "output_type": "stream",
     "text": [
      " 11% (55599 of 482173) |#                | Elapsed Time: 0:05:33 ETA:   1:06:51"
     ]
    },
    {
     "name": "stdout",
     "output_type": "stream",
     "text": [
      "Phases: 52\n"
     ]
    },
    {
     "name": "stderr",
     "output_type": "stream",
     "text": [
      " 11% (56488 of 482173) |#                | Elapsed Time: 0:05:39 ETA:   1:04:58"
     ]
    },
    {
     "name": "stdout",
     "output_type": "stream",
     "text": [
      "Phases: 53\n"
     ]
    },
    {
     "name": "stderr",
     "output_type": "stream",
     "text": [
      " 11% (57670 of 482173) |##               | Elapsed Time: 0:05:45 ETA:   1:13:28"
     ]
    },
    {
     "name": "stdout",
     "output_type": "stream",
     "text": [
      "Phases: 54\n"
     ]
    },
    {
     "name": "stderr",
     "output_type": "stream",
     "text": [
      " 12% (58562 of 482173) |##               | Elapsed Time: 0:05:51 ETA:   1:01:58"
     ]
    },
    {
     "name": "stdout",
     "output_type": "stream",
     "text": [
      "Phases: 55\n"
     ]
    },
    {
     "name": "stderr",
     "output_type": "stream",
     "text": [
      " 12% (59793 of 482173) |##               | Elapsed Time: 0:05:58 ETA:   1:05:52"
     ]
    },
    {
     "name": "stdout",
     "output_type": "stream",
     "text": [
      "Phases: 56\n"
     ]
    },
    {
     "name": "stderr",
     "output_type": "stream",
     "text": [
      " 12% (60657 of 482173) |##               | Elapsed Time: 0:06:04 ETA:   1:03:36"
     ]
    },
    {
     "name": "stdout",
     "output_type": "stream",
     "text": [
      "Phases: 57\n"
     ]
    },
    {
     "name": "stderr",
     "output_type": "stream",
     "text": [
      " 12% (61870 of 482173) |##               | Elapsed Time: 0:06:11 ETA:   1:07:00"
     ]
    },
    {
     "name": "stdout",
     "output_type": "stream",
     "text": [
      "Phases: 58\n"
     ]
    },
    {
     "name": "stderr",
     "output_type": "stream",
     "text": [
      " 13% (62754 of 482173) |##               | Elapsed Time: 0:06:16 ETA:   1:07:28"
     ]
    },
    {
     "name": "stdout",
     "output_type": "stream",
     "text": [
      "Phases: 59\n"
     ]
    },
    {
     "name": "stderr",
     "output_type": "stream",
     "text": [
      " 13% (63948 of 482173) |##               | Elapsed Time: 0:06:23 ETA:   0:56:54"
     ]
    },
    {
     "name": "stdout",
     "output_type": "stream",
     "text": [
      "Phases: 60\n",
      "Subject 9 windowed. Time elapsed: 0:06:27\n",
      "\n",
      "Swing Onset at sample 5479\n"
     ]
    },
    {
     "name": "stderr",
     "output_type": "stream",
     "text": [
      "  0% (25 of 480922) |                    | Elapsed Time: 0:00:00 ETA:   0:32:21"
     ]
    },
    {
     "name": "stdout",
     "output_type": "stream",
     "text": [
      "Subject 10 rows: 486600\n"
     ]
    },
    {
     "name": "stderr",
     "output_type": "stream",
     "text": [
      "  0% (706 of 480922) |                   | Elapsed Time: 0:00:04 ETA:   1:21:53"
     ]
    },
    {
     "name": "stdout",
     "output_type": "stream",
     "text": [
      "Phases: 1\n"
     ]
    },
    {
     "name": "stderr",
     "output_type": "stream",
     "text": [
      "  0% (1988 of 480922) |                  | Elapsed Time: 0:00:11 ETA:   1:17:37"
     ]
    },
    {
     "name": "stdout",
     "output_type": "stream",
     "text": [
      "Phases: 2\n"
     ]
    },
    {
     "name": "stderr",
     "output_type": "stream",
     "text": [
      "  0% (2870 of 480922) |                  | Elapsed Time: 0:00:17 ETA:   1:13:44"
     ]
    },
    {
     "name": "stdout",
     "output_type": "stream",
     "text": [
      "Phases: 3\n"
     ]
    },
    {
     "name": "stderr",
     "output_type": "stream",
     "text": [
      "  0% (3989 of 480922) |                  | Elapsed Time: 0:00:23 ETA:   1:15:29"
     ]
    },
    {
     "name": "stdout",
     "output_type": "stream",
     "text": [
      "Phases: 4\n"
     ]
    },
    {
     "name": "stderr",
     "output_type": "stream",
     "text": [
      "  1% (4949 of 480922) |                  | Elapsed Time: 0:00:29 ETA:   1:14:39"
     ]
    },
    {
     "name": "stdout",
     "output_type": "stream",
     "text": [
      "Phases: 5\n"
     ]
    },
    {
     "name": "stderr",
     "output_type": "stream",
     "text": [
      "  1% (6101 of 480922) |                  | Elapsed Time: 0:00:36 ETA:   1:10:32"
     ]
    },
    {
     "name": "stdout",
     "output_type": "stream",
     "text": [
      "Phases: 6\n"
     ]
    },
    {
     "name": "stderr",
     "output_type": "stream",
     "text": [
      "  1% (6981 of 480922) |                  | Elapsed Time: 0:00:41 ETA:   1:20:19"
     ]
    },
    {
     "name": "stdout",
     "output_type": "stream",
     "text": [
      "Phases: 7\n"
     ]
    },
    {
     "name": "stderr",
     "output_type": "stream",
     "text": [
      "  1% (8162 of 480922) |                  | Elapsed Time: 0:00:48 ETA:   1:16:47"
     ]
    },
    {
     "name": "stdout",
     "output_type": "stream",
     "text": [
      "Phases: 8\n"
     ]
    },
    {
     "name": "stderr",
     "output_type": "stream",
     "text": [
      "  1% (9041 of 480922) |                  | Elapsed Time: 0:00:54 ETA:   1:18:50"
     ]
    },
    {
     "name": "stdout",
     "output_type": "stream",
     "text": [
      "Phases: 9\n"
     ]
    },
    {
     "name": "stderr",
     "output_type": "stream",
     "text": [
      "  2% (10195 of 480922) |                 | Elapsed Time: 0:01:01 ETA:   1:17:41"
     ]
    },
    {
     "name": "stdout",
     "output_type": "stream",
     "text": [
      "Phases: 10\n"
     ]
    },
    {
     "name": "stderr",
     "output_type": "stream",
     "text": [
      "  2% (11132 of 480922) |                 | Elapsed Time: 0:01:07 ETA:   1:14:46"
     ]
    },
    {
     "name": "stdout",
     "output_type": "stream",
     "text": [
      "Phases: 11\n"
     ]
    },
    {
     "name": "stderr",
     "output_type": "stream",
     "text": [
      "  2% (12232 of 480922) |                 | Elapsed Time: 0:01:13 ETA:   1:13:40"
     ]
    },
    {
     "name": "stdout",
     "output_type": "stream",
     "text": [
      "Phases: 12\n"
     ]
    },
    {
     "name": "stderr",
     "output_type": "stream",
     "text": [
      "  2% (13208 of 480922) |                 | Elapsed Time: 0:01:19 ETA:   1:09:38"
     ]
    },
    {
     "name": "stdout",
     "output_type": "stream",
     "text": [
      "Phases: 13\n"
     ]
    },
    {
     "name": "stderr",
     "output_type": "stream",
     "text": [
      "  2% (14312 of 480922) |                 | Elapsed Time: 0:01:26 ETA:   1:11:30"
     ]
    },
    {
     "name": "stdout",
     "output_type": "stream",
     "text": [
      "Phases: 14\n"
     ]
    },
    {
     "name": "stderr",
     "output_type": "stream",
     "text": [
      "  3% (15154 of 480922) |                 | Elapsed Time: 0:01:31 ETA:   1:16:25"
     ]
    },
    {
     "name": "stdout",
     "output_type": "stream",
     "text": [
      "Phases: 15\n"
     ]
    },
    {
     "name": "stderr",
     "output_type": "stream",
     "text": [
      "  3% (16219 of 480922) |                 | Elapsed Time: 0:01:37 ETA:   1:10:20"
     ]
    },
    {
     "name": "stdout",
     "output_type": "stream",
     "text": [
      "Phases: 16\n"
     ]
    },
    {
     "name": "stderr",
     "output_type": "stream",
     "text": [
      "  3% (17032 of 480922) |                 | Elapsed Time: 0:01:43 ETA:   1:12:06"
     ]
    },
    {
     "name": "stdout",
     "output_type": "stream",
     "text": [
      "Phases: 17\n"
     ]
    },
    {
     "name": "stderr",
     "output_type": "stream",
     "text": [
      "  3% (18440 of 480922) |                 | Elapsed Time: 0:01:50 ETA:   1:11:01"
     ]
    },
    {
     "name": "stdout",
     "output_type": "stream",
     "text": [
      "Phases: 18\n"
     ]
    },
    {
     "name": "stderr",
     "output_type": "stream",
     "text": [
      "  4% (19377 of 480922) |                 | Elapsed Time: 0:01:57 ETA:   1:23:00"
     ]
    },
    {
     "name": "stdout",
     "output_type": "stream",
     "text": [
      "Phases: 19\n"
     ]
    },
    {
     "name": "stderr",
     "output_type": "stream",
     "text": [
      "  4% (20514 of 480922) |                 | Elapsed Time: 0:02:04 ETA:   1:11:51"
     ]
    },
    {
     "name": "stdout",
     "output_type": "stream",
     "text": [
      "Phases: 20\n"
     ]
    },
    {
     "name": "stderr",
     "output_type": "stream",
     "text": [
      "  4% (21494 of 480922) |                 | Elapsed Time: 0:02:09 ETA:   1:11:08"
     ]
    },
    {
     "name": "stdout",
     "output_type": "stream",
     "text": [
      "Phases: 21\n"
     ]
    },
    {
     "name": "stderr",
     "output_type": "stream",
     "text": [
      "  4% (22657 of 480922) |                 | Elapsed Time: 0:02:16 ETA:   1:09:55"
     ]
    },
    {
     "name": "stdout",
     "output_type": "stream",
     "text": [
      "Phases: 22\n"
     ]
    },
    {
     "name": "stderr",
     "output_type": "stream",
     "text": [
      "  4% (23552 of 480922) |                 | Elapsed Time: 0:02:22 ETA:   1:12:42"
     ]
    },
    {
     "name": "stdout",
     "output_type": "stream",
     "text": [
      "Phases: 23\n"
     ]
    },
    {
     "name": "stderr",
     "output_type": "stream",
     "text": [
      "  5% (24731 of 480922) |                 | Elapsed Time: 0:02:29 ETA:   1:11:02"
     ]
    },
    {
     "name": "stdout",
     "output_type": "stream",
     "text": [
      "Phases: 24\n"
     ]
    },
    {
     "name": "stderr",
     "output_type": "stream",
     "text": [
      "  5% (25633 of 480922) |                 | Elapsed Time: 0:02:35 ETA:   1:08:33"
     ]
    },
    {
     "name": "stdout",
     "output_type": "stream",
     "text": [
      "Phases: 25\n"
     ]
    },
    {
     "name": "stderr",
     "output_type": "stream",
     "text": [
      "  5% (26760 of 480922) |                 | Elapsed Time: 0:02:41 ETA:   1:14:50"
     ]
    },
    {
     "name": "stdout",
     "output_type": "stream",
     "text": [
      "Phases: 26\n"
     ]
    },
    {
     "name": "stderr",
     "output_type": "stream",
     "text": [
      "  5% (27683 of 480922) |                 | Elapsed Time: 0:02:47 ETA:   1:15:48"
     ]
    },
    {
     "name": "stdout",
     "output_type": "stream",
     "text": [
      "Phases: 27\n"
     ]
    },
    {
     "name": "stderr",
     "output_type": "stream",
     "text": [
      "  5% (28849 of 480922) |#                | Elapsed Time: 0:02:54 ETA:   1:09:27"
     ]
    },
    {
     "name": "stdout",
     "output_type": "stream",
     "text": [
      "Phases: 28\n"
     ]
    },
    {
     "name": "stderr",
     "output_type": "stream",
     "text": [
      "  6% (29727 of 480922) |#                | Elapsed Time: 0:02:59 ETA:   1:08:10"
     ]
    },
    {
     "name": "stdout",
     "output_type": "stream",
     "text": [
      "Phases: 29\n"
     ]
    },
    {
     "name": "stderr",
     "output_type": "stream",
     "text": [
      "  6% (30810 of 480922) |#                | Elapsed Time: 0:03:06 ETA:   1:08:50"
     ]
    },
    {
     "name": "stdout",
     "output_type": "stream",
     "text": [
      "Phases: 30\n"
     ]
    },
    {
     "name": "stderr",
     "output_type": "stream",
     "text": [
      "  6% (31747 of 480922) |#                | Elapsed Time: 0:03:12 ETA:   1:06:45"
     ]
    },
    {
     "name": "stdout",
     "output_type": "stream",
     "text": [
      "Phases: 31\n"
     ]
    },
    {
     "name": "stderr",
     "output_type": "stream",
     "text": [
      "  6% (32992 of 480922) |#                | Elapsed Time: 0:03:19 ETA:   1:12:32"
     ]
    },
    {
     "name": "stdout",
     "output_type": "stream",
     "text": [
      "Phases: 32\n"
     ]
    },
    {
     "name": "stderr",
     "output_type": "stream",
     "text": [
      "  7% (33983 of 480922) |#                | Elapsed Time: 0:03:25 ETA:   1:09:36"
     ]
    },
    {
     "name": "stdout",
     "output_type": "stream",
     "text": [
      "Phases: 33\n"
     ]
    },
    {
     "name": "stderr",
     "output_type": "stream",
     "text": [
      "  7% (35213 of 480922) |#                | Elapsed Time: 0:03:32 ETA:   1:15:01"
     ]
    },
    {
     "name": "stdout",
     "output_type": "stream",
     "text": [
      "Phases: 34\n"
     ]
    },
    {
     "name": "stderr",
     "output_type": "stream",
     "text": [
      "  7% (36256 of 480922) |#                | Elapsed Time: 0:03:38 ETA:   1:11:04"
     ]
    },
    {
     "name": "stdout",
     "output_type": "stream",
     "text": [
      "Phases: 35\n"
     ]
    },
    {
     "name": "stderr",
     "output_type": "stream",
     "text": [
      "  7% (37556 of 480922) |#                | Elapsed Time: 0:03:45 ETA:   1:08:53"
     ]
    },
    {
     "name": "stdout",
     "output_type": "stream",
     "text": [
      "Phases: 36\n"
     ]
    },
    {
     "name": "stderr",
     "output_type": "stream",
     "text": [
      "  7% (38408 of 480922) |#                | Elapsed Time: 0:03:51 ETA:   1:13:03"
     ]
    },
    {
     "name": "stdout",
     "output_type": "stream",
     "text": [
      "Phases: 37\n"
     ]
    },
    {
     "name": "stderr",
     "output_type": "stream",
     "text": [
      "  8% (39596 of 480922) |#                | Elapsed Time: 0:03:58 ETA:   1:21:51"
     ]
    },
    {
     "name": "stdout",
     "output_type": "stream",
     "text": [
      "Phases: 38\n"
     ]
    },
    {
     "name": "stderr",
     "output_type": "stream",
     "text": [
      "  8% (40517 of 480922) |#                | Elapsed Time: 0:04:04 ETA:   1:07:12"
     ]
    },
    {
     "name": "stdout",
     "output_type": "stream",
     "text": [
      "Phases: 39\n"
     ]
    },
    {
     "name": "stderr",
     "output_type": "stream",
     "text": [
      "  8% (41656 of 480922) |#                | Elapsed Time: 0:04:11 ETA:   1:09:40"
     ]
    },
    {
     "name": "stdout",
     "output_type": "stream",
     "text": [
      "Phases: 40\n"
     ]
    },
    {
     "name": "stderr",
     "output_type": "stream",
     "text": [
      "  8% (42670 of 480922) |#                | Elapsed Time: 0:04:17 ETA:   1:06:41"
     ]
    },
    {
     "name": "stdout",
     "output_type": "stream",
     "text": [
      "Phases: 41\n"
     ]
    },
    {
     "name": "stderr",
     "output_type": "stream",
     "text": [
      "  9% (43823 of 480922) |#                | Elapsed Time: 0:04:23 ETA:   1:08:48"
     ]
    },
    {
     "name": "stdout",
     "output_type": "stream",
     "text": [
      "Phases: 42\n"
     ]
    },
    {
     "name": "stderr",
     "output_type": "stream",
     "text": [
      "  9% (44750 of 480922) |#                | Elapsed Time: 0:04:29 ETA:   1:07:21"
     ]
    },
    {
     "name": "stdout",
     "output_type": "stream",
     "text": [
      "Phases: 43\n"
     ]
    },
    {
     "name": "stderr",
     "output_type": "stream",
     "text": [
      "  9% (45884 of 480922) |#                | Elapsed Time: 0:04:36 ETA:   1:05:53"
     ]
    },
    {
     "name": "stdout",
     "output_type": "stream",
     "text": [
      "Phases: 44\n"
     ]
    },
    {
     "name": "stderr",
     "output_type": "stream",
     "text": [
      "  9% (46785 of 480922) |#                | Elapsed Time: 0:04:41 ETA:   1:04:41"
     ]
    },
    {
     "name": "stdout",
     "output_type": "stream",
     "text": [
      "Phases: 45\n"
     ]
    },
    {
     "name": "stderr",
     "output_type": "stream",
     "text": [
      "  9% (47962 of 480922) |#                | Elapsed Time: 0:04:48 ETA:   1:12:22"
     ]
    },
    {
     "name": "stdout",
     "output_type": "stream",
     "text": [
      "Phases: 46\n"
     ]
    },
    {
     "name": "stderr",
     "output_type": "stream",
     "text": [
      " 10% (48892 of 480922) |#                | Elapsed Time: 0:04:54 ETA:   1:10:45"
     ]
    },
    {
     "name": "stdout",
     "output_type": "stream",
     "text": [
      "Phases: 47\n"
     ]
    },
    {
     "name": "stderr",
     "output_type": "stream",
     "text": [
      " 10% (50087 of 480922) |#                | Elapsed Time: 0:05:01 ETA:   1:09:23"
     ]
    },
    {
     "name": "stdout",
     "output_type": "stream",
     "text": [
      "Phases: 48\n"
     ]
    },
    {
     "name": "stderr",
     "output_type": "stream",
     "text": [
      " 10% (51000 of 480922) |#                | Elapsed Time: 0:05:07 ETA:   1:03:30"
     ]
    },
    {
     "name": "stdout",
     "output_type": "stream",
     "text": [
      "Phases: 49\n"
     ]
    },
    {
     "name": "stderr",
     "output_type": "stream",
     "text": [
      " 10% (52201 of 480922) |#                | Elapsed Time: 0:05:14 ETA:   1:09:00"
     ]
    },
    {
     "name": "stdout",
     "output_type": "stream",
     "text": [
      "Phases: 50\n"
     ]
    },
    {
     "name": "stderr",
     "output_type": "stream",
     "text": [
      " 11% (53040 of 480922) |#                | Elapsed Time: 0:05:19 ETA:   1:09:55"
     ]
    },
    {
     "name": "stdout",
     "output_type": "stream",
     "text": [
      "Phases: 51\n"
     ]
    },
    {
     "name": "stderr",
     "output_type": "stream",
     "text": [
      " 11% (54070 of 480922) |#                | Elapsed Time: 0:05:25 ETA:   1:07:48"
     ]
    },
    {
     "name": "stdout",
     "output_type": "stream",
     "text": [
      "Phases: 52\n"
     ]
    },
    {
     "name": "stderr",
     "output_type": "stream",
     "text": [
      " 11% (54746 of 480922) |#                | Elapsed Time: 0:05:30 ETA:   1:05:13"
     ]
    },
    {
     "name": "stdout",
     "output_type": "stream",
     "text": [
      "Phases: 53\n"
     ]
    },
    {
     "name": "stderr",
     "output_type": "stream",
     "text": [
      " 11% (56015 of 480922) |#                | Elapsed Time: 0:05:37 ETA:   1:05:33"
     ]
    },
    {
     "name": "stdout",
     "output_type": "stream",
     "text": [
      "Phases: 54\n"
     ]
    },
    {
     "name": "stderr",
     "output_type": "stream",
     "text": [
      " 11% (56957 of 480922) |##               | Elapsed Time: 0:05:43 ETA:   1:03:56"
     ]
    },
    {
     "name": "stdout",
     "output_type": "stream",
     "text": [
      "Phases: 55\n"
     ]
    },
    {
     "name": "stderr",
     "output_type": "stream",
     "text": [
      " 12% (58162 of 480922) |##               | Elapsed Time: 0:05:50 ETA:   1:07:47"
     ]
    },
    {
     "name": "stdout",
     "output_type": "stream",
     "text": [
      "Phases: 56\n"
     ]
    },
    {
     "name": "stderr",
     "output_type": "stream",
     "text": [
      " 12% (59055 of 480922) |##               | Elapsed Time: 0:05:56 ETA:   1:07:56"
     ]
    },
    {
     "name": "stdout",
     "output_type": "stream",
     "text": [
      "Phases: 57\n"
     ]
    },
    {
     "name": "stderr",
     "output_type": "stream",
     "text": [
      " 12% (60200 of 480922) |##               | Elapsed Time: 0:06:03 ETA:   1:06:14"
     ]
    },
    {
     "name": "stdout",
     "output_type": "stream",
     "text": [
      "Phases: 58\n"
     ]
    },
    {
     "name": "stderr",
     "output_type": "stream",
     "text": [
      " 12% (61089 of 480922) |##               | Elapsed Time: 0:06:08 ETA:   1:04:09"
     ]
    },
    {
     "name": "stdout",
     "output_type": "stream",
     "text": [
      "Phases: 59\n"
     ]
    },
    {
     "name": "stderr",
     "output_type": "stream",
     "text": [
      " 12% (62258 of 480922) |##               | Elapsed Time: 0:06:15 ETA:   1:07:02"
     ]
    },
    {
     "name": "stdout",
     "output_type": "stream",
     "text": [
      "Phases: 60\n",
      "Subject 10 windowed. Time elapsed: 0:06:19\n",
      "\n",
      "Swing Onset at sample 5683\n"
     ]
    },
    {
     "name": "stderr",
     "output_type": "stream",
     "text": [
      "  0% (24 of 480718) |                    | Elapsed Time: 0:00:00 ETA:   0:33:30"
     ]
    },
    {
     "name": "stdout",
     "output_type": "stream",
     "text": [
      "Subject 11 rows: 486600\n"
     ]
    },
    {
     "name": "stderr",
     "output_type": "stream",
     "text": [
      "  0% (676 of 480718) |                   | Elapsed Time: 0:00:03 ETA:   1:17:51"
     ]
    },
    {
     "name": "stdout",
     "output_type": "stream",
     "text": [
      "Phases: 1\n"
     ]
    },
    {
     "name": "stderr",
     "output_type": "stream",
     "text": [
      "  0% (2084 of 480718) |                  | Elapsed Time: 0:00:11 ETA:   1:25:28"
     ]
    },
    {
     "name": "stdout",
     "output_type": "stream",
     "text": [
      "Phases: 2\n"
     ]
    },
    {
     "name": "stderr",
     "output_type": "stream",
     "text": [
      "  0% (2976 of 480718) |                  | Elapsed Time: 0:00:17 ETA:   1:18:15"
     ]
    },
    {
     "name": "stdout",
     "output_type": "stream",
     "text": [
      "Phases: 3\n"
     ]
    },
    {
     "name": "stderr",
     "output_type": "stream",
     "text": [
      "  0% (4181 of 480718) |                  | Elapsed Time: 0:00:24 ETA:   1:15:30"
     ]
    },
    {
     "name": "stdout",
     "output_type": "stream",
     "text": [
      "Phases: 4\n"
     ]
    },
    {
     "name": "stderr",
     "output_type": "stream",
     "text": [
      "  1% (5041 of 480718) |                  | Elapsed Time: 0:00:30 ETA:   1:24:09"
     ]
    },
    {
     "name": "stdout",
     "output_type": "stream",
     "text": [
      "Phases: 5\n"
     ]
    },
    {
     "name": "stderr",
     "output_type": "stream",
     "text": [
      "  1% (6232 of 480718) |                  | Elapsed Time: 0:00:37 ETA:   1:36:27"
     ]
    },
    {
     "name": "stdout",
     "output_type": "stream",
     "text": [
      "Phases: 6\n"
     ]
    },
    {
     "name": "stderr",
     "output_type": "stream",
     "text": [
      "  1% (7062 of 480718) |                  | Elapsed Time: 0:00:43 ETA:   1:18:24"
     ]
    },
    {
     "name": "stdout",
     "output_type": "stream",
     "text": [
      "Phases: 7\n"
     ]
    },
    {
     "name": "stderr",
     "output_type": "stream",
     "text": [
      "  1% (8239 of 480718) |                  | Elapsed Time: 0:00:50 ETA:   1:28:52"
     ]
    },
    {
     "name": "stdout",
     "output_type": "stream",
     "text": [
      "Phases: 8\n"
     ]
    },
    {
     "name": "stderr",
     "output_type": "stream",
     "text": [
      "  1% (9076 of 480718) |                  | Elapsed Time: 0:00:55 ETA:   1:29:41"
     ]
    },
    {
     "name": "stdout",
     "output_type": "stream",
     "text": [
      "Phases: 9\n"
     ]
    },
    {
     "name": "stderr",
     "output_type": "stream",
     "text": [
      "  2% (10249 of 480718) |                 | Elapsed Time: 0:01:02 ETA:   1:11:07"
     ]
    },
    {
     "name": "stdout",
     "output_type": "stream",
     "text": [
      "Phases: 10\n"
     ]
    },
    {
     "name": "stderr",
     "output_type": "stream",
     "text": [
      "  2% (11092 of 480718) |                 | Elapsed Time: 0:01:08 ETA:   1:11:11"
     ]
    },
    {
     "name": "stdout",
     "output_type": "stream",
     "text": [
      "Phases: 11\n"
     ]
    },
    {
     "name": "stderr",
     "output_type": "stream",
     "text": [
      "  2% (12255 of 480718) |                 | Elapsed Time: 0:01:15 ETA:   1:19:58"
     ]
    },
    {
     "name": "stdout",
     "output_type": "stream",
     "text": [
      "Phases: 12\n"
     ]
    },
    {
     "name": "stderr",
     "output_type": "stream",
     "text": [
      "  2% (13123 of 480718) |                 | Elapsed Time: 0:01:21 ETA:   1:13:48"
     ]
    },
    {
     "name": "stdout",
     "output_type": "stream",
     "text": [
      "Phases: 13\n"
     ]
    },
    {
     "name": "stderr",
     "output_type": "stream",
     "text": [
      "  2% (14280 of 480718) |                 | Elapsed Time: 0:01:27 ETA:   1:22:27"
     ]
    },
    {
     "name": "stdout",
     "output_type": "stream",
     "text": [
      "Phases: 14\n"
     ]
    },
    {
     "name": "stderr",
     "output_type": "stream",
     "text": [
      "  3% (15162 of 480718) |                 | Elapsed Time: 0:01:33 ETA:   1:11:59"
     ]
    },
    {
     "name": "stdout",
     "output_type": "stream",
     "text": [
      "Phases: 15\n"
     ]
    },
    {
     "name": "stderr",
     "output_type": "stream",
     "text": [
      "  3% (16369 of 480718) |                 | Elapsed Time: 0:01:40 ETA:   1:10:54"
     ]
    },
    {
     "name": "stdout",
     "output_type": "stream",
     "text": [
      "Phases: 16\n"
     ]
    },
    {
     "name": "stderr",
     "output_type": "stream",
     "text": [
      "  3% (17152 of 480718) |                 | Elapsed Time: 0:01:45 ETA:   1:14:29"
     ]
    },
    {
     "name": "stdout",
     "output_type": "stream",
     "text": [
      "Phases: 17\n"
     ]
    },
    {
     "name": "stderr",
     "output_type": "stream",
     "text": [
      "  3% (18459 of 480718) |                 | Elapsed Time: 0:01:53 ETA:   1:12:44"
     ]
    },
    {
     "name": "stdout",
     "output_type": "stream",
     "text": [
      "Phases: 18\n"
     ]
    },
    {
     "name": "stderr",
     "output_type": "stream",
     "text": [
      "  4% (19265 of 480718) |                 | Elapsed Time: 0:01:58 ETA:   1:19:02"
     ]
    },
    {
     "name": "stdout",
     "output_type": "stream",
     "text": [
      "Phases: 19\n"
     ]
    },
    {
     "name": "stderr",
     "output_type": "stream",
     "text": [
      "  4% (20585 of 480718) |                 | Elapsed Time: 0:02:05 ETA:   1:13:28"
     ]
    },
    {
     "name": "stdout",
     "output_type": "stream",
     "text": [
      "Phases: 20\n"
     ]
    },
    {
     "name": "stderr",
     "output_type": "stream",
     "text": [
      "  4% (21642 of 480718) |                 | Elapsed Time: 0:02:12 ETA:   1:39:10"
     ]
    },
    {
     "name": "stdout",
     "output_type": "stream",
     "text": [
      "Phases: 21\n"
     ]
    },
    {
     "name": "stderr",
     "output_type": "stream",
     "text": [
      "  4% (23130 of 480718) |                 | Elapsed Time: 0:02:22 ETA:   1:30:13"
     ]
    },
    {
     "name": "stdout",
     "output_type": "stream",
     "text": [
      "Phases: 22\n"
     ]
    },
    {
     "name": "stderr",
     "output_type": "stream",
     "text": [
      "  4% (24010 of 480718) |                 | Elapsed Time: 0:02:27 ETA:   1:19:43"
     ]
    },
    {
     "name": "stdout",
     "output_type": "stream",
     "text": [
      "Phases: 23\n"
     ]
    },
    {
     "name": "stderr",
     "output_type": "stream",
     "text": [
      "  5% (25228 of 480718) |                 | Elapsed Time: 0:02:35 ETA:   1:14:47"
     ]
    },
    {
     "name": "stdout",
     "output_type": "stream",
     "text": [
      "Phases: 24\n"
     ]
    },
    {
     "name": "stderr",
     "output_type": "stream",
     "text": [
      "  5% (26111 of 480718) |                 | Elapsed Time: 0:02:40 ETA:   1:14:29"
     ]
    },
    {
     "name": "stdout",
     "output_type": "stream",
     "text": [
      "Phases: 25\n"
     ]
    },
    {
     "name": "stderr",
     "output_type": "stream",
     "text": [
      "  5% (27336 of 480718) |                 | Elapsed Time: 0:02:47 ETA:   1:16:56"
     ]
    },
    {
     "name": "stdout",
     "output_type": "stream",
     "text": [
      "Phases: 26\n"
     ]
    },
    {
     "name": "stderr",
     "output_type": "stream",
     "text": [
      "  5% (28182 of 480718) |                 | Elapsed Time: 0:02:53 ETA:   1:18:05"
     ]
    },
    {
     "name": "stdout",
     "output_type": "stream",
     "text": [
      "Phases: 27\n"
     ]
    },
    {
     "name": "stderr",
     "output_type": "stream",
     "text": [
      "  6% (29395 of 480718) |#                | Elapsed Time: 0:03:01 ETA:   1:20:20"
     ]
    },
    {
     "name": "stdout",
     "output_type": "stream",
     "text": [
      "Phases: 28\n"
     ]
    },
    {
     "name": "stderr",
     "output_type": "stream",
     "text": [
      "  6% (30213 of 480718) |#                | Elapsed Time: 0:03:06 ETA:   1:11:00"
     ]
    },
    {
     "name": "stdout",
     "output_type": "stream",
     "text": [
      "Phases: 29\n"
     ]
    },
    {
     "name": "stderr",
     "output_type": "stream",
     "text": [
      "  6% (31444 of 480718) |#                | Elapsed Time: 0:03:14 ETA:   1:24:25"
     ]
    },
    {
     "name": "stdout",
     "output_type": "stream",
     "text": [
      "Phases: 30\n"
     ]
    },
    {
     "name": "stderr",
     "output_type": "stream",
     "text": [
      "  6% (32315 of 480718) |#                | Elapsed Time: 0:03:20 ETA:   1:23:15"
     ]
    },
    {
     "name": "stdout",
     "output_type": "stream",
     "text": [
      "Phases: 31\n"
     ]
    },
    {
     "name": "stderr",
     "output_type": "stream",
     "text": [
      "  6% (33577 of 480718) |#                | Elapsed Time: 0:03:27 ETA:   1:21:06"
     ]
    },
    {
     "name": "stdout",
     "output_type": "stream",
     "text": [
      "Phases: 32\n"
     ]
    },
    {
     "name": "stderr",
     "output_type": "stream",
     "text": [
      "  7% (34441 of 480718) |#                | Elapsed Time: 0:03:33 ETA:   1:16:09"
     ]
    },
    {
     "name": "stdout",
     "output_type": "stream",
     "text": [
      "Phases: 33\n"
     ]
    },
    {
     "name": "stderr",
     "output_type": "stream",
     "text": [
      "  7% (35665 of 480718) |#                | Elapsed Time: 0:03:40 ETA:   1:17:43"
     ]
    },
    {
     "name": "stdout",
     "output_type": "stream",
     "text": [
      "Phases: 34\n"
     ]
    },
    {
     "name": "stderr",
     "output_type": "stream",
     "text": [
      "  7% (36525 of 480718) |#                | Elapsed Time: 0:03:46 ETA:   1:09:51"
     ]
    },
    {
     "name": "stdout",
     "output_type": "stream",
     "text": [
      "Phases: 35\n"
     ]
    },
    {
     "name": "stderr",
     "output_type": "stream",
     "text": [
      "  7% (37798 of 480718) |#                | Elapsed Time: 0:03:53 ETA:   1:06:23"
     ]
    },
    {
     "name": "stdout",
     "output_type": "stream",
     "text": [
      "Phases: 36\n"
     ]
    },
    {
     "name": "stderr",
     "output_type": "stream",
     "text": [
      "  8% (38643 of 480718) |#                | Elapsed Time: 0:03:59 ETA:   1:25:03"
     ]
    },
    {
     "name": "stdout",
     "output_type": "stream",
     "text": [
      "Phases: 37\n"
     ]
    },
    {
     "name": "stderr",
     "output_type": "stream",
     "text": [
      "  8% (39945 of 480718) |#                | Elapsed Time: 0:04:07 ETA:   1:10:32"
     ]
    },
    {
     "name": "stdout",
     "output_type": "stream",
     "text": [
      "Phases: 38\n"
     ]
    },
    {
     "name": "stderr",
     "output_type": "stream",
     "text": [
      "  8% (40849 of 480718) |#                | Elapsed Time: 0:04:12 ETA:   1:03:44"
     ]
    },
    {
     "name": "stdout",
     "output_type": "stream",
     "text": [
      "Phases: 39\n"
     ]
    },
    {
     "name": "stderr",
     "output_type": "stream",
     "text": [
      "  8% (42417 of 480718) |#                | Elapsed Time: 0:04:21 ETA:   1:08:54"
     ]
    },
    {
     "name": "stdout",
     "output_type": "stream",
     "text": [
      "Phases: 40\n"
     ]
    },
    {
     "name": "stderr",
     "output_type": "stream",
     "text": [
      "  8% (42866 of 480718) |#                | Elapsed Time: 0:04:25 ETA:   1:09:13"
     ]
    },
    {
     "name": "stdout",
     "output_type": "stream",
     "text": [
      "Phases: 41\n"
     ]
    },
    {
     "name": "stderr",
     "output_type": "stream",
     "text": [
      "  9% (44989 of 480718) |#                | Elapsed Time: 0:04:36 ETA:   1:50:44"
     ]
    },
    {
     "name": "stdout",
     "output_type": "stream",
     "text": [
      "Phases: 42\n"
     ]
    },
    {
     "name": "stderr",
     "output_type": "stream",
     "text": [
      "  9% (46042 of 480718) |#                | Elapsed Time: 0:04:44 ETA:   1:18:36"
     ]
    },
    {
     "name": "stdout",
     "output_type": "stream",
     "text": [
      "Phases: 43\n"
     ]
    },
    {
     "name": "stderr",
     "output_type": "stream",
     "text": [
      "  9% (47460 of 480718) |#                | Elapsed Time: 0:04:52 ETA:   1:22:40"
     ]
    },
    {
     "name": "stdout",
     "output_type": "stream",
     "text": [
      "Phases: 44\n"
     ]
    },
    {
     "name": "stderr",
     "output_type": "stream",
     "text": [
      " 10% (48381 of 480718) |#                | Elapsed Time: 0:04:59 ETA:   1:21:35"
     ]
    },
    {
     "name": "stdout",
     "output_type": "stream",
     "text": [
      "Phases: 45\n"
     ]
    },
    {
     "name": "stderr",
     "output_type": "stream",
     "text": [
      " 10% (49585 of 480718) |#                | Elapsed Time: 0:05:07 ETA:   1:22:16"
     ]
    },
    {
     "name": "stdout",
     "output_type": "stream",
     "text": [
      "Phases: 46\n"
     ]
    },
    {
     "name": "stderr",
     "output_type": "stream",
     "text": [
      " 10% (50433 of 480718) |#                | Elapsed Time: 0:05:13 ETA:   1:33:15"
     ]
    },
    {
     "name": "stdout",
     "output_type": "stream",
     "text": [
      "Phases: 47\n"
     ]
    },
    {
     "name": "stderr",
     "output_type": "stream",
     "text": [
      " 10% (51588 of 480718) |#                | Elapsed Time: 0:05:20 ETA:   1:18:14"
     ]
    },
    {
     "name": "stdout",
     "output_type": "stream",
     "text": [
      "Phases: 48\n"
     ]
    },
    {
     "name": "stderr",
     "output_type": "stream",
     "text": [
      " 10% (52473 of 480718) |#                | Elapsed Time: 0:05:26 ETA:   1:17:58"
     ]
    },
    {
     "name": "stdout",
     "output_type": "stream",
     "text": [
      "Phases: 49\n"
     ]
    },
    {
     "name": "stderr",
     "output_type": "stream",
     "text": [
      " 11% (53660 of 480718) |#                | Elapsed Time: 0:05:33 ETA:   1:04:30"
     ]
    },
    {
     "name": "stdout",
     "output_type": "stream",
     "text": [
      "Phases: 50\n"
     ]
    },
    {
     "name": "stderr",
     "output_type": "stream",
     "text": [
      " 11% (54541 of 480718) |#                | Elapsed Time: 0:05:38 ETA:   1:17:31"
     ]
    },
    {
     "name": "stdout",
     "output_type": "stream",
     "text": [
      "Phases: 51\n"
     ]
    },
    {
     "name": "stderr",
     "output_type": "stream",
     "text": [
      " 11% (55773 of 480718) |#                | Elapsed Time: 0:05:46 ETA:   1:07:28"
     ]
    },
    {
     "name": "stdout",
     "output_type": "stream",
     "text": [
      "Phases: 52\n"
     ]
    },
    {
     "name": "stderr",
     "output_type": "stream",
     "text": [
      " 11% (56625 of 480718) |##               | Elapsed Time: 0:05:51 ETA:   1:02:46"
     ]
    },
    {
     "name": "stdout",
     "output_type": "stream",
     "text": [
      "Phases: 53\n"
     ]
    },
    {
     "name": "stderr",
     "output_type": "stream",
     "text": [
      " 12% (57821 of 480718) |##               | Elapsed Time: 0:05:59 ETA:   1:18:39"
     ]
    },
    {
     "name": "stdout",
     "output_type": "stream",
     "text": [
      "Phases: 54\n"
     ]
    },
    {
     "name": "stderr",
     "output_type": "stream",
     "text": [
      " 12% (58713 of 480718) |##               | Elapsed Time: 0:06:05 ETA:   1:04:04"
     ]
    },
    {
     "name": "stdout",
     "output_type": "stream",
     "text": [
      "Phases: 55\n"
     ]
    },
    {
     "name": "stderr",
     "output_type": "stream",
     "text": [
      " 12% (59974 of 480718) |##               | Elapsed Time: 0:06:12 ETA:   1:30:03"
     ]
    },
    {
     "name": "stdout",
     "output_type": "stream",
     "text": [
      "Phases: 56\n"
     ]
    },
    {
     "name": "stderr",
     "output_type": "stream",
     "text": [
      " 12% (60851 of 480718) |##               | Elapsed Time: 0:06:18 ETA:   0:56:15"
     ]
    },
    {
     "name": "stdout",
     "output_type": "stream",
     "text": [
      "Phases: 57\n"
     ]
    },
    {
     "name": "stderr",
     "output_type": "stream",
     "text": [
      "\r",
      "                                                                               \r",
      "\r",
      " 12% (60858 of 480718) |##               | Elapsed Time: 0:06:18 ETA:   1:05:51"
     ]
    }
   ],
   "source": [
    "## Ogni .csv è strutturato in questo modo:\n",
    "    # n x (12 + 4)\n",
    "    # [f1, f2, ..., f12, l0, l1, l2, l3]\n",
    "# dove f_i sono le features, mentre li sono le labels; n è il numero di righe, cioè di samples.\n",
    "    # l0 = BASO LEFT 2 LIVELLI\n",
    "    # l1 = BASO LEFT 4 LIVELLI\n",
    "    # l2 = BASO RIGHT 2 LIVELLI\n",
    "    # l3 = BASO RIGHT 4 LIVELLI\n",
    "\n",
    "import csv\n",
    "import statistics\n",
    "from statistics import mode \n",
    "import pandas as pd\n",
    "import os\n",
    "import datetime\n",
    "import time    # Per capire quanto tempo ci mette \n",
    "import progressbar\n",
    "\n",
    "sliding = True\n",
    "sliding_pace = 1\n",
    "predict_central_sample = False\n",
    "\n",
    "discard_transitions = True # Devo eliminare le finestre che contengono le transizioni\n",
    "discarded_windows = 0\n",
    "th = 1\n",
    "\n",
    "window_size = 200\n",
    "features_number = 10 # Tutto tranne il basografico\n",
    "label = 0    # Label da selezionare -> Se il .csv ne contiene una sola, label = 0\n",
    "label_count = 1    # Questa variabile serve per fargli capire fino a che riga deve prendere le features\n",
    "                   # Deve essere uguale al numero di labels presenti nel file .csv originale\n",
    "                   # Se ne hai 4 totali, allora devi eliminare dal computo delle features 4 labels\n",
    "label_column = 10    # Colonna da cui estrarre la feature - serve per calcolare il primo swing\n",
    "# row_count = 486600\n",
    "\n",
    "start = 1    # Subject from which the count starts\n",
    "end = 26    # Subject at which the count ends \n",
    "\n",
    "strides_limit = 30  #If set to -1 no limit, otherwise stop after processing N strides\n",
    "\n",
    "floating_point_precision = 3\n",
    "\n",
    "in_path = \"../subjects/min-max/\"\n",
    "#out_path = \"../subjects/min-max/windows_\" + str(window_size) +\"/tr-\" + str(discard_transitions) + \"_sliding_\" + str(sliding_pace) + \"_c-\" + str(predict_central_sample) + \"/\"\n",
    "out_path = \"../subjects/min-max/windows_\" + str(window_size) + \"-d-\" + str(floating_point_precision) + \"-tr-\" + str(discard_transitions) + \"-sl-\" + str(sliding)\n",
    "if sliding:\n",
    "    out_path += \"-pace-\" + str(sliding_pace) \n",
    "out_path += \"/\"\n",
    "out_path_discarded = out_path + \"discarded/\"\n",
    "prefix = 'Biphase_Subject'\n",
    "suffix = '_norm'\n",
    "out_suffix = '_norm_windows_'\n",
    "\n",
    "#create folders if not existing...\n",
    "if not os.path.exists(out_path):\n",
    "    os.makedirs(out_path)\n",
    "if not os.path.exists(out_path_discarded):\n",
    "    os.makedirs(out_path_discarded)\n",
    "\n",
    "for subj in range(start, end + 1):\n",
    "    \n",
    "    current_phase = -1\n",
    "    tot_phases = 0\n",
    "    \n",
    "    start_time = time.time()\n",
    "    #count rows in file\n",
    "    with open(in_path + prefix + str(subj) + suffix + '.csv') as csv_file:\n",
    "        csv_reader = csv.reader(csv_file, delimiter=',')\n",
    "        row_count = sum(1 for row in csv_reader)\n",
    "        \n",
    "    ## -- To find the first Swing\n",
    "    # Serve per far partire tutti i soggetti (e le finestre) dal primo swing registrato\n",
    "    csv_swing = []\n",
    "    found = False    # Flag per stoppare il ciclo quando trova il primo Swing\n",
    "    with open(in_path + prefix + str(subj) + suffix + '.csv') as csv_file:\n",
    "        csv_reader = csv.reader(csv_file, delimiter=',')\n",
    "        swing_onset = 0\n",
    "        for line in csv_reader: \n",
    "            if not found:\n",
    "                csv_swing.append(line)\n",
    "                swing_onset += 1\n",
    "                if line[label_column] == '1.000000':\n",
    "                    found = True\n",
    "    print('Swing Onset at sample ' + str(swing_onset))\n",
    "    \n",
    "    csv_in = []\n",
    "    with open(in_path + prefix + str(subj) + suffix + '.csv') as csv_file:\n",
    "        csv_reader = csv.reader(csv_file, delimiter=',')\n",
    "        for line in csv_reader: \n",
    "            csv_in.append(line)\n",
    "    \n",
    "    with open(out_path + prefix + str(subj) + out_suffix + str(window_size) + '.csv', mode='w') as csv_out_file:\n",
    "        with open(out_path_discarded + prefix + str(subj) + out_suffix + str(window_size) + '.txt', mode='w') as discarded_file:\n",
    "            csv_writer = csv.writer(csv_out_file, delimiter=',')\n",
    "\n",
    "            print(\"Subject \" + str(subj) + \" rows: \" + str(row_count))\n",
    "\n",
    "            discarded_windows = 0\n",
    "\n",
    "            if sliding:\n",
    "                pace = sliding_pace    \n",
    "                limit = row_count-window_size    # Questo serve per non superare i limiti del for \n",
    "            else:\n",
    "                pace = window_size\n",
    "                limit = row_count-window_size\n",
    "                \n",
    "            for k in progressbar.progressbar(range(swing_onset - 1, limit, pace)):    # Qui tira fuori la progressbar, per renderti conto di come cicla e di quanto tempo ci mette\n",
    "                #time.sleep(0.0001)    # Troppo grande rallenta il for!\n",
    "                window_rows = []\n",
    "                for i in range(k, k + window_size):\n",
    "                    window_rows.append(csv_in[i])\n",
    "                window_rows = pd.DataFrame(window_rows).astype(float)\n",
    "                bsx = window_rows[features_number + label]    \n",
    "                if predict_central_sample:\n",
    "                    m = bsx[int(len(bsx)/2)]\n",
    "                else:\n",
    "                    m = bsx.mode()[0]\n",
    "                    \n",
    "                if current_phase == -1:\n",
    "                    current_phase = m\n",
    "                if m != current_phase:\n",
    "                    tot_phases += 1\n",
    "                    current_phase = m\n",
    "                    print(\"Phases: \" + str(tot_phases))\n",
    "                    if strides_limit != -1 and tot_phases/2 >= strides_limit:\n",
    "                        break\n",
    "                \n",
    "                occ = len(window_rows[window_rows[features_number + label] == float(m)])    # Occorrenza della label nella finestra\n",
    "               \n",
    "                if not discard_transitions or occ/window_size >= th:       # Qua dobbiamo capire come scartarle le finestre (cioè che threshold usare!)\n",
    "                    single_row_window = window_rows.iloc[:, :-label_count].values.reshape(1,-label_count).flatten().tolist()\n",
    "                    single_row_window = [ round(elem, floating_point_precision) for elem in single_row_window ]\n",
    "                    single_row_window.append(int(m))\n",
    "                    csv_writer.writerow(single_row_window)\n",
    "                else:\n",
    "                    discarded_windows += 1\n",
    "                    discarded_file.write(\"Window starting at row \" + str(k) + \"\\n\")\n",
    "                    discarded_file.write(str(window_rows) + \"\\n\\n\\n\")\n",
    "                    #print(\"Discarded windows: \" + str(discarded_windows))\n",
    "            end_time = time.time()        \n",
    "            time_tot = int(end_time - start_time)\n",
    "            print('Subject ' + str(subj) + ' windowed. Time elapsed: ' + str(datetime.timedelta(seconds=time_tot)) + '\\n')    \n",
    "                    "
   ]
  },
  {
   "cell_type": "code",
   "execution_count": 7,
   "metadata": {},
   "outputs": [
    {
     "data": {
      "text/plain": [
       "160"
      ]
     },
     "execution_count": 7,
     "metadata": {},
     "output_type": "execute_result"
    }
   ],
   "source": [
    "swing_on = 33\n",
    "row = 204\n",
    "windows_size = 20\n",
    "\n",
    "actual = row - swing_on\n",
    "actual\n",
    "delta = actual%windows_size\n",
    "\n",
    "actual-delta"
   ]
  }
 ],
 "metadata": {
  "kernelspec": {
   "display_name": "Python 3",
   "language": "python",
   "name": "python3"
  },
  "language_info": {
   "codemirror_mode": {
    "name": "ipython",
    "version": 3
   },
   "file_extension": ".py",
   "mimetype": "text/x-python",
   "name": "python",
   "nbconvert_exporter": "python",
   "pygments_lexer": "ipython3",
   "version": "3.6.1"
  }
 },
 "nbformat": 4,
 "nbformat_minor": 2
}
