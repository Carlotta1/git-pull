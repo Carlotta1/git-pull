{
 "cells": [
  {
   "cell_type": "code",
   "execution_count": 1,
   "metadata": {},
   "outputs": [
    {
     "name": "stdout",
     "output_type": "stream",
     "text": [
      "Fold: 1\n",
      "Train: [20, 2, 17, 14, 26, 11, 6, 10, 23, 22, 25, 24, 3, 7, 19, 21, 18, 8, 9, 16, 4]\n",
      "Test: [15, 5, 12, 13, 1]\n"
     ]
    },
    {
     "name": "stderr",
     "output_type": "stream",
     "text": [
      "\\ |  #                                             | 3363 Elapsed Time: 0:00:00"
     ]
    },
    {
     "name": "stdout",
     "output_type": "stream",
     "text": [
      "Total Rows: 97098\n",
      "Train rows: 87388\n"
     ]
    },
    {
     "name": "stderr",
     "output_type": "stream",
     "text": [
      "| |                                   #           | 97097 Elapsed Time: 0:00:05\n",
      "- | #                                              | 1692 Elapsed Time: 0:00:00"
     ]
    },
    {
     "name": "stdout",
     "output_type": "stream",
     "text": [
      "Total Rows: 97098\n",
      "Train rows: 87388\n"
     ]
    },
    {
     "name": "stderr",
     "output_type": "stream",
     "text": []
    },
    {
     "name": "stderr",
     "output_type": "stream",
     "text": [
      "| |                                  #            | 97097 Elapsed Time: 0:00:05\n",
      "- | #                                              | 1534 Elapsed Time: 0:00:00"
     ]
    },
    {
     "name": "stdout",
     "output_type": "stream",
     "text": [
      "Total Rows: 96207\n",
      "Train rows: 86586\n"
     ]
    },
    {
     "name": "stderr",
     "output_type": "stream",
     "text": [
      "| |                                  #            | 96206 Elapsed Time: 0:00:05\n",
      "\\ |  #                                             | 3281 Elapsed Time: 0:00:00"
     ]
    },
    {
     "name": "stdout",
     "output_type": "stream",
     "text": [
      "Total Rows: 96352\n",
      "Train rows: 86716\n"
     ]
    },
    {
     "name": "stderr",
     "output_type": "stream",
     "text": [
      "| |#                                              | 96351 Elapsed Time: 0:00:09\n",
      "\\ |  #                                             | 3222 Elapsed Time: 0:00:00"
     ]
    },
    {
     "name": "stdout",
     "output_type": "stream",
     "text": [
      "Total Rows: 54372\n",
      "Train rows: 48934\n"
     ]
    },
    {
     "name": "stderr",
     "output_type": "stream",
     "text": [
      "| |                                #              | 54371 Elapsed Time: 0:00:03\n",
      "- | #                                              | 1668 Elapsed Time: 0:00:00"
     ]
    },
    {
     "name": "stdout",
     "output_type": "stream",
     "text": [
      "Total Rows: 96180\n",
      "Train rows: 86562\n"
     ]
    },
    {
     "name": "stderr",
     "output_type": "stream",
     "text": [
      "| |                                    #          | 96179 Elapsed Time: 0:00:05\n",
      "\\ |  #                                             | 3317 Elapsed Time: 0:00:00"
     ]
    },
    {
     "name": "stdout",
     "output_type": "stream",
     "text": [
      "Total Rows: 96508\n",
      "Train rows: 86857\n"
     ]
    },
    {
     "name": "stderr",
     "output_type": "stream",
     "text": [
      "| |                                 #             | 96507 Elapsed Time: 0:00:06\n",
      "\\ |  #                                             | 3313 Elapsed Time: 0:00:00"
     ]
    },
    {
     "name": "stdout",
     "output_type": "stream",
     "text": [
      "Total Rows: 96221\n",
      "Train rows: 86598\n"
     ]
    },
    {
     "name": "stderr",
     "output_type": "stream",
     "text": [
      "| |                                  #            | 96220 Elapsed Time: 0:00:05\n",
      "\\ |  #                                             | 3239 Elapsed Time: 0:00:00"
     ]
    },
    {
     "name": "stdout",
     "output_type": "stream",
     "text": [
      "Total Rows: 54960\n",
      "Train rows: 49464\n"
     ]
    },
    {
     "name": "stderr",
     "output_type": "stream",
     "text": [
      "| |                                 #             | 54959 Elapsed Time: 0:00:03\n",
      "- | #                                              | 1608 Elapsed Time: 0:00:00"
     ]
    },
    {
     "name": "stdout",
     "output_type": "stream",
     "text": [
      "Total Rows: 54331\n",
      "Train rows: 48897\n"
     ]
    },
    {
     "name": "stderr",
     "output_type": "stream",
     "text": [
      "| |                                  #            | 54330 Elapsed Time: 0:00:03\n",
      "- | #                                              | 1620 Elapsed Time: 0:00:00"
     ]
    },
    {
     "name": "stdout",
     "output_type": "stream",
     "text": [
      "Total Rows: 54244\n",
      "Train rows: 48819\n"
     ]
    },
    {
     "name": "stderr",
     "output_type": "stream",
     "text": [
      "| |                                  #            | 54243 Elapsed Time: 0:00:03\n",
      "- | #                                              | 1231 Elapsed Time: 0:00:00"
     ]
    },
    {
     "name": "stdout",
     "output_type": "stream",
     "text": [
      "Total Rows: 54588\n",
      "Train rows: 49129\n"
     ]
    },
    {
     "name": "stderr",
     "output_type": "stream",
     "text": [
      "| |                                   #           | 54587 Elapsed Time: 0:00:03\n",
      "- | #                                              | 1419 Elapsed Time: 0:00:00"
     ]
    },
    {
     "name": "stdout",
     "output_type": "stream",
     "text": [
      "Total Rows: 96023\n",
      "Train rows: 86420\n"
     ]
    },
    {
     "name": "stderr",
     "output_type": "stream",
     "text": [
      "| |                                  #            | 96022 Elapsed Time: 0:00:05\n",
      "\\ |  #                                             | 3257 Elapsed Time: 0:00:00"
     ]
    },
    {
     "name": "stdout",
     "output_type": "stream",
     "text": [
      "Total Rows: 96832\n",
      "Train rows: 87148\n"
     ]
    },
    {
     "name": "stderr",
     "output_type": "stream",
     "text": [
      "| |                                   #           | 96831 Elapsed Time: 0:00:05\n",
      "\\ |  #                                             | 2903 Elapsed Time: 0:00:00"
     ]
    },
    {
     "name": "stdout",
     "output_type": "stream",
     "text": [
      "Total Rows: 96047\n",
      "Train rows: 86442\n"
     ]
    },
    {
     "name": "stderr",
     "output_type": "stream",
     "text": [
      "| |                                #              | 96046 Elapsed Time: 0:00:06\n",
      "- | #                                              | 1644 Elapsed Time: 0:00:00"
     ]
    },
    {
     "name": "stdout",
     "output_type": "stream",
     "text": [
      "Total Rows: 96023\n",
      "Train rows: 86420\n"
     ]
    },
    {
     "name": "stderr",
     "output_type": "stream",
     "text": [
      "| |                              #                | 96022 Elapsed Time: 0:00:06\n",
      "- | #                                              | 1644 Elapsed Time: 0:00:00"
     ]
    },
    {
     "name": "stdout",
     "output_type": "stream",
     "text": [
      "Total Rows: 97316\n",
      "Train rows: 87584\n"
     ]
    },
    {
     "name": "stderr",
     "output_type": "stream",
     "text": []
    },
    {
     "name": "stderr",
     "output_type": "stream",
     "text": [
      "| |                                   #           | 97315 Elapsed Time: 0:00:05\n",
      "\\ |  #                                             | 3311 Elapsed Time: 0:00:00"
     ]
    },
    {
     "name": "stdout",
     "output_type": "stream",
     "text": [
      "Total Rows: 95994\n",
      "Train rows: 86394\n"
     ]
    },
    {
     "name": "stderr",
     "output_type": "stream",
     "text": [
      "| |                                    #          | 95993 Elapsed Time: 0:00:05\n",
      "\\ |  #                                             | 3350 Elapsed Time: 0:00:00"
     ]
    },
    {
     "name": "stdout",
     "output_type": "stream",
     "text": [
      "Total Rows: 96471\n",
      "Train rows: 86823\n"
     ]
    },
    {
     "name": "stderr",
     "output_type": "stream",
     "text": [
      "| |                                  #            | 96470 Elapsed Time: 0:00:05\n",
      "\\ |  #                                             | 3271 Elapsed Time: 0:00:00"
     ]
    },
    {
     "name": "stdout",
     "output_type": "stream",
     "text": [
      "Total Rows: 96079\n",
      "Train rows: 86471\n"
     ]
    },
    {
     "name": "stderr",
     "output_type": "stream",
     "text": [
      "| |                                   #           | 96078 Elapsed Time: 0:00:05\n",
      "\\ |  #                                             | 3256 Elapsed Time: 0:00:00"
     ]
    },
    {
     "name": "stdout",
     "output_type": "stream",
     "text": [
      "Total Rows: 96052\n",
      "Train rows: 86446\n"
     ]
    },
    {
     "name": "stderr",
     "output_type": "stream",
     "text": [
      "| |                                   #           | 96051 Elapsed Time: 0:00:05\n"
     ]
    },
    {
     "ename": "NameError",
     "evalue": "name 'datetime' is not defined",
     "output_type": "error",
     "traceback": [
      "\u001b[0;31m---------------------------------------------------------------\u001b[0m",
      "\u001b[0;31mNameError\u001b[0m                     Traceback (most recent call last)",
      "\u001b[0;32m<ipython-input-1-2a594d182976>\u001b[0m in \u001b[0;36m<module>\u001b[0;34m\u001b[0m\n\u001b[1;32m     92\u001b[0m         \u001b[0mend_time\u001b[0m \u001b[0;34m=\u001b[0m \u001b[0mtime\u001b[0m\u001b[0;34m.\u001b[0m\u001b[0mtime\u001b[0m\u001b[0;34m(\u001b[0m\u001b[0;34m)\u001b[0m\u001b[0;34m\u001b[0m\u001b[0;34m\u001b[0m\u001b[0m\n\u001b[1;32m     93\u001b[0m         \u001b[0mtime_tot\u001b[0m \u001b[0;34m=\u001b[0m \u001b[0mint\u001b[0m\u001b[0;34m(\u001b[0m\u001b[0mend_time\u001b[0m \u001b[0;34m-\u001b[0m \u001b[0mstart_time\u001b[0m\u001b[0;34m)\u001b[0m\u001b[0;34m\u001b[0m\u001b[0;34m\u001b[0m\u001b[0m\n\u001b[0;32m---> 94\u001b[0;31m         \u001b[0mf_log\u001b[0m\u001b[0;34m.\u001b[0m\u001b[0mwrite\u001b[0m\u001b[0;34m(\u001b[0m\u001b[0;34m\"Elapsed time (Fold \"\u001b[0m \u001b[0;34m+\u001b[0m \u001b[0mstr\u001b[0m\u001b[0;34m(\u001b[0m\u001b[0mn\u001b[0m\u001b[0;34m)\u001b[0m \u001b[0;34m+\u001b[0m \u001b[0;34m\"): \"\u001b[0m \u001b[0;34m+\u001b[0m \u001b[0mstr\u001b[0m\u001b[0;34m(\u001b[0m\u001b[0mdatetime\u001b[0m\u001b[0;34m.\u001b[0m\u001b[0mtimedelta\u001b[0m\u001b[0;34m(\u001b[0m\u001b[0mseconds\u001b[0m\u001b[0;34m=\u001b[0m\u001b[0mtime_tot\u001b[0m\u001b[0;34m)\u001b[0m\u001b[0;34m)\u001b[0m\u001b[0;34m)\u001b[0m\u001b[0;34m\u001b[0m\u001b[0;34m\u001b[0m\u001b[0m\n\u001b[0m\u001b[1;32m     95\u001b[0m         \u001b[0mprint\u001b[0m\u001b[0;34m(\u001b[0m\u001b[0;34m\"Fold \"\u001b[0m \u001b[0;34m+\u001b[0m \u001b[0mstr\u001b[0m\u001b[0;34m(\u001b[0m\u001b[0mn\u001b[0m\u001b[0;34m)\u001b[0m \u001b[0;34m+\u001b[0m \u001b[0;34m\" done!\"\u001b[0m\u001b[0;34m)\u001b[0m        \u001b[0;31m# verranno appesi tutti in un unico file alla fine!\u001b[0m\u001b[0;34m\u001b[0m\u001b[0;34m\u001b[0m\u001b[0m\n\u001b[1;32m     96\u001b[0m \u001b[0;34m\u001b[0m\u001b[0m\n",
      "\u001b[0;31mNameError\u001b[0m: name 'datetime' is not defined"
     ]
    }
   ],
   "source": [
    "import csv\n",
    "from random import shuffle\n",
    "import os\n",
    "import progressbar\n",
    "import time\n",
    "import datetime\n",
    "\n",
    "total_patients = 26    # Numero di pazienti totali\n",
    "folds_offset = 1    # Poiché pesano tanto, conviene parametrizzare anche il \"lower bound\" del ciclo for\n",
    "num_folds = 1    # Numero di folds da creare\n",
    "perc_test = 20    # Percentuale di soggetti da includere nel TESTFOLD_UNLEARNED per ogni fold\n",
    "patients_test = int( ( total_patients / 100 ) * perc_test )     # Numero di soggetti da inserire nel TESTFOLD_UNLEARNED \n",
    "train_split_perc = 0.9    # Percentuale da utilizzare per creare il TRAINFOLD da 'traincount'             \n",
    "\n",
    "out_sub_folder = \"folds_inter\"\n",
    "\n",
    "random_assignment = True    # Se \"True\", sceglie in maniera randomica i \n",
    "                            # soggetti da mettere in train e quelli da mettere in test\n",
    "\n",
    "prefix = \"Biphase_Subject\"\n",
    "suffix = \"_norm_windows_20\"\n",
    "\n",
    "subjects_path = \"../subjects/min-max/windows_20/tr-False_sliding_5_c-True/\"\n",
    "log = subjects_path + out_sub_folder + \"/folds_info.txt\"\n",
    "if not os.path.exists(subjects_path + out_sub_folder):\n",
    "    os.mkdir(subjects_path + out_sub_folder)\n",
    "\n",
    "with open(log, 'w') as f_log:\n",
    "    start_time = time.time()\n",
    "    # Divide il set totale in tre sottogruppi:\n",
    "        # Train\n",
    "        # Test Learned\n",
    "        # Test Unlearned\n",
    "    # Gli ultimi due sono quelli effettivamente da confrontare poi\n",
    "    for n in range(folds_offset,num_folds+1):\n",
    "        train_file = subjects_path + out_sub_folder + \"/TrainFold_\" + str(n) + \".csv\"\n",
    "        test_file_learned = subjects_path + out_sub_folder + \"/TestFold_L_\" + str(n) + \".csv\"\n",
    "        test_file_unlearned = subjects_path + out_sub_folder + \"/TestFold_U_\" + str(n) + \".csv\"\n",
    "        \n",
    "        # Se vogliamo prendere i soggetti in ordine casuale:\n",
    "        if random_assignment:\n",
    "            l = [i for i in range(1,total_patients+1)]    # Riempie il vettore 'l' con numeri da 1 a 'total_patients'\n",
    "            shuffle(l)    # Li riordina a caso\n",
    "            l_test = l[:patients_test]    # Il TEST_FOLD è composto dai pazienti da 1 -> 'patient_test'\n",
    "            l_train = l[patients_test:]    # Il TRAIN_FOLD è composto dai pazienti da 'patients_test' -> fino alla fine\n",
    "        \n",
    "        # Se li vogliamo prendere sequenzialmente\n",
    "        else:\n",
    "            l_test = []\n",
    "            for i in range((n-1)*patients_test +1,(n-1)*patients_test + patients_test+1):\n",
    "                if (i<=total_patients):\n",
    "                    l_test.append(i)\n",
    "            l_train = []\n",
    "            for i in range(1,total_patients+1):\n",
    "                if not i in l_test:\n",
    "                    l_train.append(i)\n",
    "                    \n",
    "        print(\"Fold: \" + str(n))    \n",
    "        print(\"Train: \" + str(l_train))\n",
    "        print(\"Test: \" + str(l_test))\n",
    "        \n",
    "        \n",
    "        with open(train_file, mode='w') as t_out:\n",
    "            csv_writer = csv.writer(t_out, delimiter=',')\n",
    "            with open(test_file_learned, mode='w') as t_out_test:\n",
    "                csv_writer_test = csv.writer(t_out_test, delimiter=',')\n",
    "                f_log.write(\"Subjects in Train Fold \" + str(n) + \": \" + str(l[5:]) + \"\\n\") \n",
    "                for i in l_train:    # Apri il soggetto 'i' tra quelli selezionati per il TRAINFOLD\n",
    "                    with open(subjects_path + prefix + str(i) + suffix +'.csv', mode='r') as s_in:\n",
    "                        csv_reader = csv.reader(s_in, delimiter=',')\n",
    "                        row_count = sum(1 for row in csv_reader)\n",
    "                    train_count = int(row_count*train_split_perc)    # Indica la percentuale da utilizzare come TRAINFOLD - Default è 90%\n",
    "                    print(\"Total Rows: \" + str(row_count))\n",
    "                    print(\"Train rows: \" + str(train_count))\n",
    "                    count = 0\n",
    "                    with open(subjects_path + prefix + str(i) + suffix +'.csv', mode='r') as s_in:    # Apri il file originale del soggetto 'i' (quello \"finestrato\")\n",
    "                        csv_reader = csv.reader(s_in, delimiter=',')\n",
    "                        for line in progressbar.progressbar(csv_reader):\n",
    "                            #time.sleep(0.0001)\n",
    "                            count += 1    # Conta le righe (\"finestre\") nel file originale\n",
    "                            if (count<train_count):    # Finché non arriva alla percentuale desiderata\n",
    "                                csv_writer.writerow(line)    # Scrivi sul TRAINFOLD\n",
    "                            else:\n",
    "                                csv_writer_test.writerow(line)    # Altrimenti scrivi su TESTFOLD_LEARNED\n",
    "        with open(test_file_unlearned, mode='w') as t_out:\n",
    "            csv_writer = csv.writer(t_out, delimiter=',')\n",
    "            f_log.write(\"Subjects in Test Fold \" + str(n) + \": \" + str(l[:5])+ \"\\n\\n\") \n",
    "            for i in l_test:    # Apri il soggetto 'i' tra quelli selezionati per il TESTFOLD_UNLEARNED\n",
    "                with open(subjects_path + prefix + str(i) + suffix +'.csv', mode='r') as s_in:    # Apri il file originale del soggetto 'i' (quello \"finestrato\")\n",
    "                    csv_reader = csv.reader(s_in, delimiter=',')\n",
    "                    for line in csv_reader:\n",
    "                        csv_writer.writerow(line) # Scrivi su TESTFOLD_UNLEARNED il soggetto 'i' \n",
    "        end_time = time.time()        \n",
    "        time_tot = int(end_time - start_time)\n",
    "        f_log.write(\"Elapsed time (Fold \" + str(n) + \"): \" + str(datetime.timedelta(seconds=time_tot)))\n",
    "        print(\"Fold \" + str(n) + \" done!\")        # verranno appesi tutti in un unico file alla fine!\n",
    "        \n",
    "        \n",
    "        \n"
   ]
  },
  {
   "cell_type": "code",
   "execution_count": null,
   "metadata": {},
   "outputs": [],
   "source": []
  }
 ],
 "metadata": {
  "kernelspec": {
   "display_name": "Python 3",
   "language": "python",
   "name": "python3"
  },
  "language_info": {
   "codemirror_mode": {
    "name": "ipython",
    "version": 3
   },
   "file_extension": ".py",
   "mimetype": "text/x-python",
   "name": "python",
   "nbconvert_exporter": "python",
   "pygments_lexer": "ipython3",
   "version": "3.7.3"
  }
 },
 "nbformat": 4,
 "nbformat_minor": 2
}
