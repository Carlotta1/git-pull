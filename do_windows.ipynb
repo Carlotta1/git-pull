{
 "cells": [
  {
   "cell_type": "code",
   "execution_count": 8,
   "metadata": {},
   "outputs": [
    {
     "name": "stdout",
     "output_type": "stream",
     "text": [
      "Swing Onset at sample 6348\n"
     ]
    },
    {
     "name": "stderr",
     "output_type": "stream",
     "text": [
      "  0% (39 of 24012) |                     | Elapsed Time: 0:00:00 ETA:   0:01:02"
     ]
    },
    {
     "name": "stdout",
     "output_type": "stream",
     "text": [
      "Subject 1 rows: 486600\n"
     ]
    },
    {
     "name": "stderr",
     "output_type": "stream",
     "text": [
      "100% (24012 of 24012) |##################| Elapsed Time: 0:01:00 Time:  0:01:00\n"
     ]
    },
    {
     "name": "stdout",
     "output_type": "stream",
     "text": [
      "Subject 1 windowed. Time elapsed: 0:01:03\n",
      "\n",
      "Swing Onset at sample 1092\n"
     ]
    },
    {
     "name": "stderr",
     "output_type": "stream",
     "text": [
      "  0% (39 of 24275) |                     | Elapsed Time: 0:00:00 ETA:   0:01:02"
     ]
    },
    {
     "name": "stdout",
     "output_type": "stream",
     "text": [
      "Subject 2 rows: 486600\n"
     ]
    },
    {
     "name": "stderr",
     "output_type": "stream",
     "text": [
      "100% (24275 of 24275) |##################| Elapsed Time: 0:01:00 Time:  0:01:00\n"
     ]
    },
    {
     "name": "stdout",
     "output_type": "stream",
     "text": [
      "Subject 2 windowed. Time elapsed: 0:01:03\n",
      "\n",
      "Swing Onset at sample 6468\n"
     ]
    },
    {
     "name": "stderr",
     "output_type": "stream",
     "text": [
      "  0% (38 of 24006) |                     | Elapsed Time: 0:00:00 ETA:   0:01:03"
     ]
    },
    {
     "name": "stdout",
     "output_type": "stream",
     "text": [
      "Subject 3 rows: 486600\n"
     ]
    },
    {
     "name": "stderr",
     "output_type": "stream",
     "text": [
      "100% (24006 of 24006) |##################| Elapsed Time: 0:01:00 Time:  0:01:00\n"
     ]
    },
    {
     "name": "stdout",
     "output_type": "stream",
     "text": [
      "Subject 3 windowed. Time elapsed: 0:01:03\n",
      "\n",
      "Swing Onset at sample 6324\n"
     ]
    },
    {
     "name": "stderr",
     "output_type": "stream",
     "text": [
      "  0% (81 of 24013) |                     | Elapsed Time: 0:00:00 ETA:   0:00:59"
     ]
    },
    {
     "name": "stdout",
     "output_type": "stream",
     "text": [
      "Subject 4 rows: 486600\n"
     ]
    },
    {
     "name": "stderr",
     "output_type": "stream",
     "text": [
      "100% (24013 of 24013) |##################| Elapsed Time: 0:00:59 Time:  0:00:59\n"
     ]
    },
    {
     "name": "stdout",
     "output_type": "stream",
     "text": [
      "Subject 4 windowed. Time elapsed: 0:01:02\n",
      "\n",
      "Swing Onset at sample 3763\n"
     ]
    },
    {
     "name": "stderr",
     "output_type": "stream",
     "text": [
      "  0% (38 of 24141) |                     | Elapsed Time: 0:00:00 ETA:   0:01:03"
     ]
    },
    {
     "name": "stdout",
     "output_type": "stream",
     "text": [
      "Subject 5 rows: 486600\n"
     ]
    },
    {
     "name": "stderr",
     "output_type": "stream",
     "text": [
      "100% (24141 of 24141) |##################| Elapsed Time: 0:01:01 Time:  0:01:01\n"
     ]
    },
    {
     "name": "stdout",
     "output_type": "stream",
     "text": [
      "Subject 5 windowed. Time elapsed: 0:01:04\n",
      "\n",
      "Swing Onset at sample 4041\n"
     ]
    },
    {
     "name": "stderr",
     "output_type": "stream",
     "text": [
      "  0% (35 of 24127) |                     | Elapsed Time: 0:00:00 ETA:   0:01:09"
     ]
    },
    {
     "name": "stdout",
     "output_type": "stream",
     "text": [
      "Subject 6 rows: 486600\n"
     ]
    },
    {
     "name": "stderr",
     "output_type": "stream",
     "text": [
      "100% (24127 of 24127) |##################| Elapsed Time: 0:00:59 Time:  0:00:59\n"
     ]
    },
    {
     "name": "stdout",
     "output_type": "stream",
     "text": [
      "Subject 6 windowed. Time elapsed: 0:01:02\n",
      "\n",
      "Swing Onset at sample 2421\n"
     ]
    },
    {
     "name": "stderr",
     "output_type": "stream",
     "text": [
      "  0% (81 of 24208) |                     | Elapsed Time: 0:00:00 ETA:   0:00:59"
     ]
    },
    {
     "name": "stdout",
     "output_type": "stream",
     "text": [
      "Subject 7 rows: 486600\n"
     ]
    },
    {
     "name": "stderr",
     "output_type": "stream",
     "text": [
      "100% (24208 of 24208) |##################| Elapsed Time: 0:00:59 Time:  0:00:59\n"
     ]
    },
    {
     "name": "stdout",
     "output_type": "stream",
     "text": [
      "Subject 7 windowed. Time elapsed: 0:01:02\n",
      "\n",
      "Swing Onset at sample 6615\n"
     ]
    },
    {
     "name": "stderr",
     "output_type": "stream",
     "text": [
      "  0% (39 of 23999) |                     | Elapsed Time: 0:00:00 ETA:   0:01:01"
     ]
    },
    {
     "name": "stdout",
     "output_type": "stream",
     "text": [
      "Subject 8 rows: 486600\n"
     ]
    },
    {
     "name": "stderr",
     "output_type": "stream",
     "text": [
      "100% (23999 of 23999) |##################| Elapsed Time: 0:00:59 Time:  0:00:59\n"
     ]
    },
    {
     "name": "stdout",
     "output_type": "stream",
     "text": [
      "Subject 8 windowed. Time elapsed: 0:01:01\n",
      "\n",
      "Swing Onset at sample 4228\n"
     ]
    },
    {
     "name": "stderr",
     "output_type": "stream",
     "text": [
      "  0% (40 of 24118) |                     | Elapsed Time: 0:00:00 ETA:   0:01:01"
     ]
    },
    {
     "name": "stdout",
     "output_type": "stream",
     "text": [
      "Subject 9 rows: 486600\n"
     ]
    },
    {
     "name": "stderr",
     "output_type": "stream",
     "text": [
      "100% (24118 of 24118) |##################| Elapsed Time: 0:00:59 Time:  0:00:59\n"
     ]
    },
    {
     "name": "stdout",
     "output_type": "stream",
     "text": [
      "Subject 9 windowed. Time elapsed: 0:01:01\n",
      "\n",
      "Swing Onset at sample 5479\n"
     ]
    },
    {
     "name": "stderr",
     "output_type": "stream",
     "text": [
      "  0% (39 of 24056) |                     | Elapsed Time: 0:00:00 ETA:   0:01:02"
     ]
    },
    {
     "name": "stdout",
     "output_type": "stream",
     "text": [
      "Subject 10 rows: 486600\n"
     ]
    },
    {
     "name": "stderr",
     "output_type": "stream",
     "text": [
      "100% (24056 of 24056) |##################| Elapsed Time: 0:00:59 Time:  0:00:59\n"
     ]
    },
    {
     "name": "stdout",
     "output_type": "stream",
     "text": [
      "Subject 10 windowed. Time elapsed: 0:01:02\n",
      "\n",
      "Swing Onset at sample 5683\n"
     ]
    },
    {
     "name": "stderr",
     "output_type": "stream",
     "text": [
      "  0% (39 of 24045) |                     | Elapsed Time: 0:00:00 ETA:   0:01:01"
     ]
    },
    {
     "name": "stdout",
     "output_type": "stream",
     "text": [
      "Subject 11 rows: 486600\n"
     ]
    },
    {
     "name": "stderr",
     "output_type": "stream",
     "text": [
      "100% (24045 of 24045) |##################| Elapsed Time: 0:00:58 Time:  0:00:58\n"
     ]
    },
    {
     "name": "stdout",
     "output_type": "stream",
     "text": [
      "Subject 11 windowed. Time elapsed: 0:01:01\n",
      "\n",
      "Swing Onset at sample 6437\n"
     ]
    },
    {
     "name": "stderr",
     "output_type": "stream",
     "text": [
      "  0% (41 of 24008) |                     | Elapsed Time: 0:00:00 ETA:   0:00:59"
     ]
    },
    {
     "name": "stdout",
     "output_type": "stream",
     "text": [
      "Subject 12 rows: 486600\n"
     ]
    },
    {
     "name": "stderr",
     "output_type": "stream",
     "text": [
      "100% (24008 of 24008) |##################| Elapsed Time: 0:00:58 Time:  0:00:58\n"
     ]
    },
    {
     "name": "stdout",
     "output_type": "stream",
     "text": [
      "Subject 12 windowed. Time elapsed: 0:01:01\n",
      "\n",
      "Swing Onset at sample 2022\n"
     ]
    },
    {
     "name": "stderr",
     "output_type": "stream",
     "text": [
      "  0% (40 of 24228) |                     | Elapsed Time: 0:00:00 ETA:   0:03:02"
     ]
    },
    {
     "name": "stdout",
     "output_type": "stream",
     "text": [
      "Subject 13 rows: 486600\n"
     ]
    },
    {
     "name": "stderr",
     "output_type": "stream",
     "text": [
      "100% (24228 of 24228) |##################| Elapsed Time: 0:00:59 Time:  0:00:59\n"
     ]
    },
    {
     "name": "stdout",
     "output_type": "stream",
     "text": [
      "Subject 13 windowed. Time elapsed: 0:01:02\n",
      "\n",
      "Swing Onset at sample 4824\n"
     ]
    },
    {
     "name": "stderr",
     "output_type": "stream",
     "text": [
      "  0% (39 of 24088) |                     | Elapsed Time: 0:00:00 ETA:   0:01:01"
     ]
    },
    {
     "name": "stdout",
     "output_type": "stream",
     "text": [
      "Subject 14 rows: 486600\n"
     ]
    },
    {
     "name": "stderr",
     "output_type": "stream",
     "text": [
      "100% (24088 of 24088) |##################| Elapsed Time: 0:01:00 Time:  0:01:00\n"
     ]
    },
    {
     "name": "stdout",
     "output_type": "stream",
     "text": [
      "Subject 14 windowed. Time elapsed: 0:01:02\n",
      "\n",
      "Swing Onset at sample 6291\n"
     ]
    },
    {
     "name": "stderr",
     "output_type": "stream",
     "text": [
      "  0% (40 of 24015) |                     | Elapsed Time: 0:00:00 ETA:   0:01:00"
     ]
    },
    {
     "name": "stdout",
     "output_type": "stream",
     "text": [
      "Subject 15 rows: 486600\n"
     ]
    },
    {
     "name": "stderr",
     "output_type": "stream",
     "text": [
      "100% (24015 of 24015) |##################| Elapsed Time: 0:01:00 Time:  0:01:00\n"
     ]
    },
    {
     "name": "stdout",
     "output_type": "stream",
     "text": [
      "Subject 15 windowed. Time elapsed: 0:01:03\n",
      "\n",
      "Swing Onset at sample 6188\n"
     ]
    },
    {
     "name": "stderr",
     "output_type": "stream",
     "text": [
      "  0% (39 of 24020) |                     | Elapsed Time: 0:00:00 ETA:   0:01:01"
     ]
    },
    {
     "name": "stdout",
     "output_type": "stream",
     "text": [
      "Subject 16 rows: 486600\n"
     ]
    },
    {
     "name": "stderr",
     "output_type": "stream",
     "text": [
      "100% (24020 of 24020) |##################| Elapsed Time: 0:00:59 Time:  0:00:59\n"
     ]
    },
    {
     "name": "stdout",
     "output_type": "stream",
     "text": [
      "Subject 16 windowed. Time elapsed: 0:01:02\n",
      "\n",
      "Swing Onset at sample 5549\n"
     ]
    },
    {
     "name": "stderr",
     "output_type": "stream",
     "text": [
      "  0% (36 of 24052) |                     | Elapsed Time: 0:00:00 ETA:   0:01:08"
     ]
    },
    {
     "name": "stdout",
     "output_type": "stream",
     "text": [
      "Subject 17 rows: 486600\n"
     ]
    },
    {
     "name": "stderr",
     "output_type": "stream",
     "text": [
      "100% (24052 of 24052) |##################| Elapsed Time: 0:01:00 Time:  0:01:00\n"
     ]
    },
    {
     "name": "stdout",
     "output_type": "stream",
     "text": [
      "Subject 17 windowed. Time elapsed: 0:01:03\n",
      "\n",
      "Swing Onset at sample 1\n"
     ]
    },
    {
     "name": "stderr",
     "output_type": "stream",
     "text": [
      "  0% (41 of 24329) |                     | Elapsed Time: 0:00:00 ETA:   0:01:00"
     ]
    },
    {
     "name": "stdout",
     "output_type": "stream",
     "text": [
      "Subject 18 rows: 486600\n"
     ]
    },
    {
     "name": "stderr",
     "output_type": "stream",
     "text": [
      "100% (24329 of 24329) |##################| Elapsed Time: 0:01:00 Time:  0:01:00\n"
     ]
    },
    {
     "name": "stdout",
     "output_type": "stream",
     "text": [
      "Subject 18 windowed. Time elapsed: 0:01:03\n",
      "\n",
      "Swing Onset at sample 6348\n"
     ]
    },
    {
     "name": "stderr",
     "output_type": "stream",
     "text": [
      "  0% (40 of 24012) |                     | Elapsed Time: 0:00:00 ETA:   0:01:00"
     ]
    },
    {
     "name": "stdout",
     "output_type": "stream",
     "text": [
      "Subject 19 rows: 486600\n"
     ]
    },
    {
     "name": "stderr",
     "output_type": "stream",
     "text": [
      "100% (24012 of 24012) |##################| Elapsed Time: 0:00:59 Time:  0:00:59\n"
     ]
    },
    {
     "name": "stdout",
     "output_type": "stream",
     "text": [
      "Subject 19 windowed. Time elapsed: 0:01:02\n",
      "\n",
      "Swing Onset at sample 1092\n"
     ]
    },
    {
     "name": "stderr",
     "output_type": "stream",
     "text": [
      "  0% (40 of 24275) |                     | Elapsed Time: 0:00:00 ETA:   0:01:01"
     ]
    },
    {
     "name": "stdout",
     "output_type": "stream",
     "text": [
      "Subject 20 rows: 486600\n"
     ]
    },
    {
     "name": "stderr",
     "output_type": "stream",
     "text": [
      "100% (24275 of 24275) |##################| Elapsed Time: 0:00:59 Time:  0:00:59\n"
     ]
    },
    {
     "name": "stdout",
     "output_type": "stream",
     "text": [
      "Subject 20 windowed. Time elapsed: 0:01:02\n",
      "\n",
      "Swing Onset at sample 6468\n"
     ]
    },
    {
     "name": "stderr",
     "output_type": "stream",
     "text": [
      "  0% (41 of 24006) |                     | Elapsed Time: 0:00:00 ETA:   0:00:59"
     ]
    },
    {
     "name": "stdout",
     "output_type": "stream",
     "text": [
      "Subject 21 rows: 486600\n"
     ]
    },
    {
     "name": "stderr",
     "output_type": "stream",
     "text": [
      "100% (24006 of 24006) |##################| Elapsed Time: 0:01:00 Time:  0:01:00\n"
     ]
    },
    {
     "name": "stdout",
     "output_type": "stream",
     "text": [
      "Subject 21 windowed. Time elapsed: 0:01:03\n",
      "\n",
      "Swing Onset at sample 7886\n"
     ]
    },
    {
     "name": "stderr",
     "output_type": "stream",
     "text": [
      "  0% (39 of 13583) |                     | Elapsed Time: 0:00:00 ETA:   0:00:35"
     ]
    },
    {
     "name": "stdout",
     "output_type": "stream",
     "text": [
      "Subject 22 rows: 279560\n"
     ]
    },
    {
     "name": "stderr",
     "output_type": "stream",
     "text": [
      "100% (13583 of 13583) |##################| Elapsed Time: 0:00:34 Time:  0:00:34\n"
     ]
    },
    {
     "name": "stdout",
     "output_type": "stream",
     "text": [
      "Subject 22 windowed. Time elapsed: 0:00:35\n",
      "\n",
      "Swing Onset at sample 4745\n"
     ]
    },
    {
     "name": "stderr",
     "output_type": "stream",
     "text": [
      "  0% (40 of 13740) |                     | Elapsed Time: 0:00:00 ETA:   0:00:34"
     ]
    },
    {
     "name": "stdout",
     "output_type": "stream",
     "text": [
      "Subject 23 rows: 279560\n"
     ]
    },
    {
     "name": "stderr",
     "output_type": "stream",
     "text": [
      "100% (13740 of 13740) |##################| Elapsed Time: 0:00:34 Time:  0:00:34\n"
     ]
    },
    {
     "name": "stdout",
     "output_type": "stream",
     "text": [
      "Subject 23 windowed. Time elapsed: 0:00:35\n",
      "\n",
      "Swing Onset at sample 6601\n"
     ]
    },
    {
     "name": "stderr",
     "output_type": "stream",
     "text": [
      "  0% (23 of 13647) |                     | Elapsed Time: 0:00:00 ETA:   0:01:51"
     ]
    },
    {
     "name": "stdout",
     "output_type": "stream",
     "text": [
      "Subject 24 rows: 279560\n"
     ]
    },
    {
     "name": "stderr",
     "output_type": "stream",
     "text": [
      "100% (13647 of 13647) |##################| Elapsed Time: 0:00:34 Time:  0:00:34\n"
     ]
    },
    {
     "name": "stdout",
     "output_type": "stream",
     "text": [
      "Subject 24 windowed. Time elapsed: 0:00:35\n",
      "\n",
      "Swing Onset at sample 8324\n"
     ]
    },
    {
     "name": "stderr",
     "output_type": "stream",
     "text": [
      "  0% (41 of 13561) |                     | Elapsed Time: 0:00:00 ETA:   0:00:33"
     ]
    },
    {
     "name": "stdout",
     "output_type": "stream",
     "text": [
      "Subject 25 rows: 279560\n"
     ]
    },
    {
     "name": "stderr",
     "output_type": "stream",
     "text": [
      "100% (13561 of 13561) |##################| Elapsed Time: 0:00:34 Time:  0:00:34\n"
     ]
    },
    {
     "name": "stdout",
     "output_type": "stream",
     "text": [
      "Subject 25 windowed. Time elapsed: 0:00:35\n",
      "\n",
      "Swing Onset at sample 7683\n"
     ]
    },
    {
     "name": "stderr",
     "output_type": "stream",
     "text": [
      "  0% (80 of 13593) |                     | Elapsed Time: 0:00:00 ETA:   0:00:33"
     ]
    },
    {
     "name": "stdout",
     "output_type": "stream",
     "text": [
      "Subject 26 rows: 279560\n"
     ]
    },
    {
     "name": "stderr",
     "output_type": "stream",
     "text": [
      "100% (13593 of 13593) |##################| Elapsed Time: 0:00:33 Time:  0:00:33\n"
     ]
    },
    {
     "name": "stdout",
     "output_type": "stream",
     "text": [
      "Subject 26 windowed. Time elapsed: 0:00:35\n",
      "\n"
     ]
    }
   ],
   "source": [
    "## Ogni .csv è strutturato in questo modo:\n",
    "    # n x (12 + 4)\n",
    "    # [f1, f2, ..., f12, l0, l1, l2, l3]\n",
    "# dove f_i sono le features, mentre li sono le labels; n è il numero di righe, cioè di samples.\n",
    "    # l0 = BASO LEFT 2 LIVELLI\n",
    "    # l1 = BASO LEFT 4 LIVELLI\n",
    "    # l2 = BASO RIGHT 2 LIVELLI\n",
    "    # l3 = BASO RIGHT 4 LIVELLI\n",
    "\n",
    "import csv\n",
    "import statistics\n",
    "from statistics import mode \n",
    "import pandas as pd\n",
    "import os\n",
    "import datetime\n",
    "import time    # Per capire quanto tempo ci mette \n",
    "import progressbar\n",
    "\n",
    "sliding = False\n",
    "sliding_pace = 5\n",
    "predict_central_sample = False\n",
    "\n",
    "discard_transitions = False # Devo eliminare le finestre che contengono le transizioni\n",
    "discarded_windows = 0\n",
    "th = 1\n",
    "\n",
    "window_size = 20\n",
    "features_number = 10 # Tutto tranne il basografico\n",
    "label = 0    # Label da selezionare -> Se il .csv ne contiene una sola, label = 0\n",
    "label_count = 1    # Questa variabile serve per fargli capire fino a che riga deve prendere le features\n",
    "                   # Deve essere uguale al numero di labels presenti nel file .csv originale\n",
    "                   # Se ne hai 4 totali, allora devi eliminare dal computo delle features 4 labels\n",
    "label_column = 10    # Colonna da cui estrarre la feature - serve per calcolare il primo swing\n",
    "# row_count = 486600\n",
    "\n",
    "start = 1    # Subject from which the count starts\n",
    "end = 26    # Subject at which the count ends \n",
    "\n",
    "\n",
    "in_path = \"../subjects/min-max/\"\n",
    "#out_path = \"../subjects/min-max/windows_\" + str(window_size) +\"/tr-\" + str(discard_transitions) + \"_sliding_\" + str(sliding_pace) + \"_c-\" + str(predict_central_sample) + \"/\"\n",
    "out_path = \"../subjects/min-max/windows_\" + str(window_size) +\"/tr-\" + str(discard_transitions) + \"/\"\n",
    "out_path_discarded = out_path + \"discarded/\"\n",
    "prefix = 'Biphase_Subject'\n",
    "suffix = '_norm'\n",
    "out_suffix = '_norm_windows_'\n",
    "\n",
    "#create folders if not existing...\n",
    "if not os.path.exists(out_path):\n",
    "    os.makedirs(out_path)\n",
    "if not os.path.exists(out_path_discarded):\n",
    "    os.makedirs(out_path_discarded)\n",
    "\n",
    "for subj in range(start, end + 1):\n",
    "    start_time = time.time()\n",
    "    #count rows in file\n",
    "    with open(in_path + prefix + str(subj) + suffix + '.csv') as csv_file:\n",
    "        csv_reader = csv.reader(csv_file, delimiter=',')\n",
    "        row_count = sum(1 for row in csv_reader)\n",
    "        \n",
    "    ## -- To find the first Swing\n",
    "    # Serve per far partire tutti i soggetti (e le finestre) dal primo swing registrato\n",
    "    csv_swing = []\n",
    "    found = False    # Flag per stoppare il ciclo quando trova il primo Swing\n",
    "    with open(in_path + prefix + str(subj) + suffix + '.csv') as csv_file:\n",
    "        csv_reader = csv.reader(csv_file, delimiter=',')\n",
    "        swing_onset = 0\n",
    "        for line in csv_reader: \n",
    "            if not found:\n",
    "                csv_swing.append(line)\n",
    "                swing_onset += 1\n",
    "                if line[label_column] == '1.000000':\n",
    "                    found = True\n",
    "    print('Swing Onset at sample ' + str(swing_onset))\n",
    "    \n",
    "    csv_in = []\n",
    "    with open(in_path + prefix + str(subj) + suffix + '.csv') as csv_file:\n",
    "        csv_reader = csv.reader(csv_file, delimiter=',')\n",
    "        for line in csv_reader: \n",
    "            csv_in.append(line)\n",
    "    \n",
    "    with open(out_path + prefix + str(subj) + out_suffix + str(window_size) + '.csv', mode='w') as csv_out_file:\n",
    "        with open(out_path_discarded + prefix + str(subj) + out_suffix + str(window_size) + '.txt', mode='w') as discarded_file:\n",
    "            csv_writer = csv.writer(csv_out_file, delimiter=',')\n",
    "\n",
    "            print(\"Subject \" + str(subj) + \" rows: \" + str(row_count))\n",
    "\n",
    "            discarded_windows = 0\n",
    "\n",
    "            if sliding:\n",
    "                pace = sliding_pace    \n",
    "                limit = row_count-window_size    # Questo serve per non superare i limiti del for \n",
    "            else:\n",
    "                pace = window_size\n",
    "                limit = row_count-windows_size\n",
    "                \n",
    "            for k in progressbar.progressbar(range(swing_onset - 1, limit, pace)):    # Qui tira fuori la progressbar, per renderti conto di come cicla e di quanto tempo ci mette\n",
    "                #time.sleep(0.0001)    # Troppo grande rallenta il for!\n",
    "                window_rows = []\n",
    "                for i in range(k, k + window_size):\n",
    "                    window_rows.append(csv_in[i])\n",
    "                window_rows = pd.DataFrame(window_rows).astype(float)\n",
    "                bsx = window_rows[features_number + label]    \n",
    "                if predict_central_sample:\n",
    "                    m = bsx[int(len(bsx)/2)]\n",
    "                else:\n",
    "                    m = bsx.mode()[0]\n",
    "                  \n",
    "                occ = len(window_rows[window_rows[features_number + label] == float(m)])    # Occorrenza della label nella finestra\n",
    "               \n",
    "                if not discard_transitions or occ/window_size >= th:       # Qua dobbiamo capire come scartarle le finestre (cioè che threshold usare!)\n",
    "                    single_row_window = window_rows.iloc[:, :-label_count].values.reshape(1,-label_count).flatten().tolist()\n",
    "                    single_row_window.append(float(m))\n",
    "                    csv_writer.writerow(single_row_window)\n",
    "                else:\n",
    "                    discarded_windows += 1\n",
    "                    discarded_file.write(\"Window starting at row \" + str(k) + \"\\n\")\n",
    "                    discarded_file.write(str(window_rows) + \"\\n\\n\\n\")\n",
    "                    print(\"Discarded windows: \" + str(discarded_windows))\n",
    "            end_time = time.time()        \n",
    "            time_tot = int(end_time - start_time)\n",
    "            print('Subject ' + str(subj) + ' windowed. Time elapsed: ' + str(datetime.timedelta(seconds=time_tot)) + '\\n')    \n",
    "                    "
   ]
  },
  {
   "cell_type": "code",
   "execution_count": 7,
   "metadata": {},
   "outputs": [
    {
     "data": {
      "text/plain": [
       "160"
      ]
     },
     "execution_count": 7,
     "metadata": {},
     "output_type": "execute_result"
    }
   ],
   "source": [
    "swing_on = 33\n",
    "row = 204\n",
    "windows_size = 20\n",
    "\n",
    "actual = row - swing_on\n",
    "actual\n",
    "delta = actual%windows_size\n",
    "\n",
    "actual-delta"
   ]
  }
 ],
 "metadata": {
  "kernelspec": {
   "display_name": "Python 3",
   "language": "python",
   "name": "python3"
  },
  "language_info": {
   "codemirror_mode": {
    "name": "ipython",
    "version": 3
   },
   "file_extension": ".py",
   "mimetype": "text/x-python",
   "name": "python",
   "nbconvert_exporter": "python",
   "pygments_lexer": "ipython3",
   "version": "3.7.3"
  }
 },
 "nbformat": 4,
 "nbformat_minor": 2
}
