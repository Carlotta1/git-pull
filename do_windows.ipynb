{
 "cells": [
  {
   "cell_type": "code",
   "execution_count": 7,
   "metadata": {},
   "outputs": [
    {
     "name": "stdout",
     "output_type": "stream",
     "text": [
      "Subject:2 rows: 316643\n",
      "Discarded windows: 102\n",
      "Subject:3 rows: 269241\n",
      "Discarded windows: 83\n",
      "Subject:4 rows: 278781\n",
      "Discarded windows: 75\n",
      "Subject:5 rows: 262741\n",
      "Discarded windows: 82\n"
     ]
    }
   ],
   "source": [
    "# Qua creo le finestre che poi verranno date in pasto alla NN\n",
    "# per come è nell'articolo, io divido il segnale iniziale in finestre di 20 samples (10 ms)\n",
    "# Otterrò righe m1(0), ... , mn(12) , ... , m1(k), ... mn(k), BASOGRAFICO\n",
    "# m = muscolo, n = numero di muscoli, k = tempo totale di finestra \n",
    "# Nel mio caso con 10 muscoli, 2 goniometri e 1 basografico ogni riga è di 241 elementi: 240 features + 1 flag\n",
    "\n",
    "#Le transizioni vengono scartate in base alla threshold.\n",
    "\n",
    "import csv\n",
    "import statistics\n",
    "from statistics import mode \n",
    "import pandas as pd\n",
    "import os\n",
    "\n",
    "#in_path = \"../All_csv_subjects/Subjects_csv/normalized/\"\n",
    "#out_path = \"../All_csv_subjects/Subjects_Windows_20_csv/normalized/no_transitions/\"\n",
    "#out_path_discarded = out_path + \"discarded/\"\n",
    "#prefix = 'Subject'\n",
    "#suffix = '_norm'\n",
    "#out_suffix = '_norm_windows_'\n",
    "\n",
    "sliding = True\n",
    "sliding_pace = 20\n",
    "predict_central_sample = False\n",
    "\n",
    "discard_transitions = True # Devo eliminare le finestre che contengono le transizioni\n",
    "discarded_windows = 0\n",
    "th = 0.7 \n",
    "\n",
    "window_size = 20\n",
    "features_number = 12 # Tutto tranne il basografico\n",
    "row_count = 486600\n",
    "\n",
    "start = 2\n",
    "end = 5\n",
    "\n",
    "\n",
    "in_path = \"./min-max/\"\n",
    "out_path = \"./min-max/windows_\" + str(window_size) +\"/tr-\" + str(discard_transitions) + \"_sliding_\" + str(sliding_pace) + \"_c-\" + str(predict_central_sample) + \"/\"\n",
    "out_path_discarded = out_path + \"discarded/\"\n",
    "prefix = 's'\n",
    "suffix = '_norm'\n",
    "out_suffix = '_norm_windows_'\n",
    "\n",
    "\n",
    "#create folders if not existing...\n",
    "if not os.path.exists(out_path):\n",
    "    os.makedirs(out_path)\n",
    "if not os.path.exists(out_path_discarded):\n",
    "    os.makedirs(out_path_discarded)\n",
    "\n",
    "for subj in range(start, end + 1):\n",
    "    \n",
    "    #count rows in file\n",
    "    with open(in_path + prefix + str(subj) + suffix + '.csv') as csv_file:\n",
    "        csv_reader = csv.reader(csv_file, delimiter=',')\n",
    "        row_count = sum(1 for row in csv_reader)\n",
    "    \n",
    "    csv_in = []\n",
    "    with open(in_path + prefix + str(subj) + suffix + '.csv') as csv_file:\n",
    "        csv_reader = csv.reader(csv_file, delimiter=',')\n",
    "        for line in csv_reader: \n",
    "            csv_in.append(line)\n",
    "        \n",
    "    \n",
    "    with open(out_path + prefix + str(subj) + out_suffix + str(window_size) + '.csv', mode='w') as csv_out_file:\n",
    "        with open(out_path_discarded + prefix + str(subj) + out_suffix + str(window_size) + '.txt', mode='w') as discarded_file:\n",
    "            csv_writer = csv.writer(csv_out_file, delimiter=',')\n",
    "\n",
    "            print(\"Subject:\" + str(subj) + \" rows: \" + str(row_count))\n",
    "\n",
    "            discarded_windows = 0\n",
    "\n",
    "            if sliding:\n",
    "                pace = sliding_pace\n",
    "                limit = row_count-window_size\n",
    "            else:\n",
    "                pace = window_size\n",
    "                limit = row_count\n",
    "\n",
    "            for k in range(0,limit,pace):\n",
    "                #print(k)\n",
    "                window_rows = []\n",
    "                for i in range(k, k + window_size):\n",
    "                    window_rows.append(csv_in[i])\n",
    "                window_rows = pd.DataFrame(window_rows).astype(float)\n",
    "                bsx = window_rows[features_number]\n",
    "                if predict_central_sample:\n",
    "                    m = bsx[int(len(bsx)/2)]\n",
    "                else:\n",
    "                    m = bsx.mode()[0]\n",
    "                #print(m)\n",
    "                occ = len(window_rows[window_rows[features_number] == float(m)])\n",
    "                if not discard_transitions or occ/window_size >= th:\n",
    "                    single_row_window = window_rows.iloc[:, :-1].values.reshape(1,-1).flatten().tolist()\n",
    "                    single_row_window.append(float(m))\n",
    "                    csv_writer.writerow(single_row_window)\n",
    "                else:\n",
    "                    discarded_windows += 1\n",
    "                    discarded_file.write(\"Window starting at row \" + str(k) + \"\\n\")\n",
    "                    discarded_file.write(str(window_rows) + \"\\n\\n\\n\")\n",
    "            print(\"Discarded windows: \" + str(discarded_windows))\n",
    "                    "
   ]
  },
  {
   "cell_type": "code",
   "execution_count": 10,
   "metadata": {
    "collapsed": true
   },
   "outputs": [
    {
     "name": "stdout",
     "output_type": "stream",
     "text": [
      "./min-max/windows_20/tr-True_sliding_20_c-False/folds\n"
     ]
    }
   ],
   "source": [
    "# DO FOLDS\n",
    "# Devo dividere i files in 10 parti, di cui:\n",
    "# 9 formano il train\n",
    "# 1 formano il test\n",
    "folds_out = out_path + 'folds'\n",
    "# print(folds_out)\n",
    "\n",
    "prefix_train = 'TrainFold'\n",
    "prefix_test = 'TestFold'\n",
    "\n"
   ]
  }
 ],
 "metadata": {
  "kernelspec": {
   "display_name": "Python 3",
   "language": "python",
   "name": "python3"
  },
  "language_info": {
   "codemirror_mode": {
    "name": "ipython",
    "version": 3
   },
   "file_extension": ".py",
   "mimetype": "text/x-python",
   "name": "python",
   "nbconvert_exporter": "python",
   "pygments_lexer": "ipython3",
   "version": "3.7.3"
  }
 },
 "nbformat": 4,
 "nbformat_minor": 2
}
